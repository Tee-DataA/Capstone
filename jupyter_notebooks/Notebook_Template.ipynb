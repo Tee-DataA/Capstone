{
  "cells": [
    {
      "cell_type": "markdown",
      "metadata": {
        "id": "0aStgWSO0E0E"
      },
      "source": [
        "# ** Data Import and Cleaning**"
      ]
    },
    {
      "cell_type": "markdown",
      "metadata": {
        "id": "1eLEkw5O0ECa"
      },
      "source": [
        "## Objectives\n",
        "\n",
        "* Fetch dataset and load\n",
        "* clean data\n",
        "\n",
        "## Inputs\n",
        "\n",
        "* Require's Python 3.12.8\n",
        "\n",
        "## Outputs\n",
        "\n",
        "* Write here which files, code or artefacts you generate by the end of the notebook \n",
        "\n",
        "## Additional Comments\n",
        "\n",
        "* Data was found on https://www.iea.org/data-and-statistics/data-product/energy-and-emissions-per-value-added-database#documentation\n",
        "\n"
      ]
    },
    {
      "cell_type": "markdown",
      "metadata": {
        "id": "9uWZXH9LwoQg"
      },
      "source": [
        "---"
      ]
    },
    {
      "cell_type": "markdown",
      "metadata": {
        "id": "cqP-UeN-z3i2"
      },
      "source": [
        "# Change working directory"
      ]
    },
    {
      "cell_type": "markdown",
      "metadata": {},
      "source": [
        "* We are assuming you will store the notebooks in a subfolder, therefore when running the notebook in the editor, you will need to change the working directory"
      ]
    },
    {
      "cell_type": "markdown",
      "metadata": {
        "id": "aOGIGS-uz3i2"
      },
      "source": [
        "We need to change the working directory from its current folder to its parent folder\n",
        "* We access the current directory with os.getcwd()"
      ]
    },
    {
      "cell_type": "code",
      "execution_count": 4,
      "metadata": {
        "id": "wZfF_j-Bz3i4",
        "outputId": "66943449-1436-4c3d-85c7-b85f9f78349b"
      },
      "outputs": [
        {
          "data": {
            "text/plain": [
              "'c:\\\\Users\\\\sayed\\\\OneDrive\\\\Documents\\\\Code institute\\\\Capstone\\\\Capstone\\\\jupyter_notebooks'"
            ]
          },
          "execution_count": 4,
          "metadata": {},
          "output_type": "execute_result"
        }
      ],
      "source": [
        "import os\n",
        "current_dir = os.getcwd()\n",
        "current_dir"
      ]
    },
    {
      "cell_type": "markdown",
      "metadata": {
        "id": "9MWW8E7lz3i7"
      },
      "source": [
        "We want to make the parent of the current directory the new current directory\n",
        "* os.path.dirname() gets the parent directory\n",
        "* os.chir() defines the new current directory"
      ]
    },
    {
      "cell_type": "code",
      "execution_count": 5,
      "metadata": {
        "id": "TwHsQRWjz3i9",
        "outputId": "86849db3-cd2f-4cc5-ebb8-2d0caafa1a2c"
      },
      "outputs": [
        {
          "name": "stdout",
          "output_type": "stream",
          "text": [
            "You set a new current directory\n"
          ]
        }
      ],
      "source": [
        "os.chdir(os.path.dirname(current_dir))\n",
        "print(\"You set a new current directory\")"
      ]
    },
    {
      "cell_type": "markdown",
      "metadata": {
        "id": "M_xPk_Ijz3i-"
      },
      "source": [
        "Confirm the new current directory"
      ]
    },
    {
      "cell_type": "code",
      "execution_count": 6,
      "metadata": {
        "id": "vz3S-_kjz3jA",
        "outputId": "00b79ae4-75d0-4a96-d193-ac9ef9847ea2"
      },
      "outputs": [
        {
          "data": {
            "text/plain": [
              "'c:\\\\Users\\\\sayed\\\\OneDrive\\\\Documents\\\\Code institute\\\\Capstone\\\\Capstone'"
            ]
          },
          "execution_count": 6,
          "metadata": {},
          "output_type": "execute_result"
        }
      ],
      "source": [
        "current_dir = os.getcwd()\n",
        "current_dir"
      ]
    },
    {
      "cell_type": "markdown",
      "metadata": {
        "id": "-mavJ8DibrcQ"
      },
      "source": [
        "# Loading Dataset"
      ]
    },
    {
      "cell_type": "markdown",
      "metadata": {},
      "source": [
        "We will import the necessary libraries needed in this notebook"
      ]
    },
    {
      "cell_type": "code",
      "execution_count": 7,
      "metadata": {},
      "outputs": [],
      "source": [
        "import pandas as pd\n",
        "import numpy as np"
      ]
    },
    {
      "cell_type": "markdown",
      "metadata": {},
      "source": [
        "Next we load the dataset"
      ]
    },
    {
      "cell_type": "code",
      "execution_count": 8,
      "metadata": {},
      "outputs": [
        {
          "name": "stdout",
          "output_type": "stream",
          "text": [
            "  Country ISO3 Country  Year ISIC Division  \\\n",
            "0          NaN   ASEAN  2000         10-12   \n",
            "1          NaN   ASEAN  2000         13-15   \n",
            "2          NaN   ASEAN  2000            16   \n",
            "3          NaN   ASEAN  2000         17-18   \n",
            "4          NaN   ASEAN  2000            19   \n",
            "\n",
            "                                  ISIC Division Desc         Measure  Method  \\\n",
            "0  Manufacture of food products, beverages and to...  Current prices  Source   \n",
            "1  Manufacture of textiles, wearing apparel, leat...  Current prices  Source   \n",
            "2  Manufacture of wood and of products of wood an...  Current prices  Source   \n",
            "3         Manufacture of paper products and printing  Current prices  Source   \n",
            "4  Manufacture of coke and refined petroleum prod...  Current prices  Source   \n",
            "\n",
            "   Value LCU (million national currency)  Value USD (million USD)  \n",
            "0                                    0.0                  27994.1  \n",
            "1                                    0.0                  15065.1  \n",
            "2                                    0.0                   3053.9  \n",
            "3                                    0.0                   4702.5  \n",
            "4                                    0.0                  13710.3  \n"
          ]
        }
      ],
      "source": [
        "# Load the IEA energy values added CSV from the current directory\n",
        "file_path = 'IEA_Energy_ValueAdded.csv'\n",
        "df_raw = pd.read_csv(file_path)\n",
        "print(df_raw.head())"
      ]
    },
    {
      "cell_type": "code",
      "execution_count": 12,
      "metadata": {},
      "outputs": [
        {
          "data": {
            "text/html": [
              "<div>\n",
              "<style scoped>\n",
              "    .dataframe tbody tr th:only-of-type {\n",
              "        vertical-align: middle;\n",
              "    }\n",
              "\n",
              "    .dataframe tbody tr th {\n",
              "        vertical-align: top;\n",
              "    }\n",
              "\n",
              "    .dataframe thead th {\n",
              "        text-align: right;\n",
              "    }\n",
              "</style>\n",
              "<table border=\"1\" class=\"dataframe\">\n",
              "  <thead>\n",
              "    <tr style=\"text-align: right;\">\n",
              "      <th></th>\n",
              "      <th>Year</th>\n",
              "      <th>Value LCU (million national currency)</th>\n",
              "      <th>Value USD (million USD)</th>\n",
              "    </tr>\n",
              "  </thead>\n",
              "  <tbody>\n",
              "    <tr>\n",
              "      <th>count</th>\n",
              "      <td>27331.000000</td>\n",
              "      <td>2.725500e+04</td>\n",
              "      <td>2.725500e+04</td>\n",
              "    </tr>\n",
              "    <tr>\n",
              "      <th>mean</th>\n",
              "      <td>2009.784604</td>\n",
              "      <td>2.028600e+06</td>\n",
              "      <td>4.375378e+04</td>\n",
              "    </tr>\n",
              "    <tr>\n",
              "      <th>std</th>\n",
              "      <td>5.928038</td>\n",
              "      <td>1.924482e+07</td>\n",
              "      <td>1.824009e+05</td>\n",
              "    </tr>\n",
              "    <tr>\n",
              "      <th>min</th>\n",
              "      <td>2000.000000</td>\n",
              "      <td>-2.822300e+04</td>\n",
              "      <td>-1.390223e+04</td>\n",
              "    </tr>\n",
              "    <tr>\n",
              "      <th>25%</th>\n",
              "      <td>2005.000000</td>\n",
              "      <td>7.200400e+02</td>\n",
              "      <td>4.988300e+02</td>\n",
              "    </tr>\n",
              "    <tr>\n",
              "      <th>50%</th>\n",
              "      <td>2010.000000</td>\n",
              "      <td>6.196000e+03</td>\n",
              "      <td>2.353630e+03</td>\n",
              "    </tr>\n",
              "    <tr>\n",
              "      <th>75%</th>\n",
              "      <td>2015.000000</td>\n",
              "      <td>4.972175e+04</td>\n",
              "      <td>1.220437e+04</td>\n",
              "    </tr>\n",
              "    <tr>\n",
              "      <th>max</th>\n",
              "      <td>2021.000000</td>\n",
              "      <td>8.071376e+08</td>\n",
              "      <td>3.920983e+06</td>\n",
              "    </tr>\n",
              "  </tbody>\n",
              "</table>\n",
              "</div>"
            ],
            "text/plain": [
              "               Year  Value LCU (million national currency)  \\\n",
              "count  27331.000000                           2.725500e+04   \n",
              "mean    2009.784604                           2.028600e+06   \n",
              "std        5.928038                           1.924482e+07   \n",
              "min     2000.000000                          -2.822300e+04   \n",
              "25%     2005.000000                           7.200400e+02   \n",
              "50%     2010.000000                           6.196000e+03   \n",
              "75%     2015.000000                           4.972175e+04   \n",
              "max     2021.000000                           8.071376e+08   \n",
              "\n",
              "       Value USD (million USD)  \n",
              "count             2.725500e+04  \n",
              "mean              4.375378e+04  \n",
              "std               1.824009e+05  \n",
              "min              -1.390223e+04  \n",
              "25%               4.988300e+02  \n",
              "50%               2.353630e+03  \n",
              "75%               1.220437e+04  \n",
              "max               3.920983e+06  "
            ]
          },
          "execution_count": 12,
          "metadata": {},
          "output_type": "execute_result"
        }
      ],
      "source": [
        "# Quick look at the data\n",
        "df_raw.describe()"
      ]
    },
    {
      "cell_type": "code",
      "execution_count": 13,
      "metadata": {},
      "outputs": [
        {
          "name": "stdout",
          "output_type": "stream",
          "text": [
            "<class 'pandas.core.frame.DataFrame'>\n",
            "RangeIndex: 27331 entries, 0 to 27330\n",
            "Data columns (total 9 columns):\n",
            " #   Column                                 Non-Null Count  Dtype  \n",
            "---  ------                                 --------------  -----  \n",
            " 0   Country ISO3                           24556 non-null  object \n",
            " 1   Country                                27331 non-null  object \n",
            " 2   Year                                   27331 non-null  int64  \n",
            " 3   ISIC Division                          27331 non-null  object \n",
            " 4   ISIC Division Desc                     27331 non-null  object \n",
            " 5   Measure                                27331 non-null  object \n",
            " 6   Method                                 27331 non-null  object \n",
            " 7   Value LCU (million national currency)  27255 non-null  float64\n",
            " 8   Value USD (million USD)                27255 non-null  float64\n",
            "dtypes: float64(2), int64(1), object(6)\n",
            "memory usage: 1.9+ MB\n"
          ]
        }
      ],
      "source": [
        "df_raw.info()"
      ]
    },
    {
      "cell_type": "markdown",
      "metadata": {},
      "source": [
        "Before cleaning the data, we will remove columns that aren't necessary for our analysis. Let check the \"Measure\" feature and see what it's about"
      ]
    },
    {
      "cell_type": "code",
      "execution_count": 9,
      "metadata": {},
      "outputs": [
        {
          "name": "stdout",
          "output_type": "stream",
          "text": [
            "['Current prices' 'Constant 2015 prices']\n"
          ]
        }
      ],
      "source": [
        "unique_measures = df_raw['Measure'].unique()\n",
        "print(unique_measures)"
      ]
    },
    {
      "cell_type": "code",
      "execution_count": 11,
      "metadata": {},
      "outputs": [
        {
          "name": "stdout",
          "output_type": "stream",
          "text": [
            "Number of rows with 'Current prices': 18186\n",
            "Number of rows with 'Constant 2015 prices': 9145\n"
          ]
        }
      ],
      "source": [
        "current_prices_count = df_raw[df_raw['Measure'] == 'Current prices'].shape[0]\n",
        "constant_prices_count = df_raw[df_raw['Measure'] == 'Constant 2015 prices'].shape[0]\n",
        "\n",
        "print(f\"Number of rows with 'Current prices': {current_prices_count}\")\n",
        "print(f\"Number of rows with 'Constant 2015 prices': {constant_prices_count}\")"
      ]
    },
    {
      "cell_type": "markdown",
      "metadata": {},
      "source": [
        "Doing some research, we learn that the \"Constant prices\" aim to remove the effect of inflation or deflation, allowing for a clearer picture of real economic growth. In our dataset the base is 2015, so the prices have been adjusted to reflect what the Goods and services would have been if prices had remained at 2015 levels. This is useful information so we will keep this feature   "
      ]
    },
    {
      "cell_type": "code",
      "execution_count": 14,
      "metadata": {},
      "outputs": [
        {
          "name": "stdout",
          "output_type": "stream",
          "text": [
            "['Source' 'Rebased']\n"
          ]
        }
      ],
      "source": [
        "unique_measures = df_raw['Method'].unique()\n",
        "print(unique_measures)"
      ]
    },
    {
      "cell_type": "markdown",
      "metadata": {},
      "source": [
        "'Source' indicates that the data was obtained directly from it's original source without any modification whilst rebased means it was calculated based on other datapoints. This is not useful information for our project so this column will be removed"
      ]
    },
    {
      "cell_type": "code",
      "execution_count": 15,
      "metadata": {},
      "outputs": [
        {
          "name": "stdout",
          "output_type": "stream",
          "text": [
            "[nan 'ARG' 'AUS' 'AUT' 'BEL' 'BRA' 'BRN' 'BGR' 'KHM' 'CAN' 'CHL' 'TWN'\n",
            " 'COL' 'CRI' 'HRV' 'CYP' 'CZE' 'DNK' 'EST' 'FIN' 'FRA' 'DEU' 'GRC' 'HKG'\n",
            " 'HUN' 'ISL' 'IND' 'IDN' 'IRL' 'ISR' 'ITA' 'JPN' 'KAZ' 'KOR' 'LAO' 'LVA'\n",
            " 'LTU' 'LUX' 'MYS' 'MLT' 'MEX' 'MAR' 'MMR' 'NZL' 'MKD' 'NOR' 'CHN' 'PER'\n",
            " 'PHL' 'POL' 'PRT' 'ROU' 'RUS' 'SAU' 'SRB' 'SGP' 'SVK' 'SVN' 'ZAF' 'ESP'\n",
            " 'SWE' 'CHE' 'THA' 'NLD' 'TUN' 'TUR' 'GBR' 'USA' 'VNM']\n"
          ]
        }
      ],
      "source": [
        "unique_measures = df_raw['Country ISO3'].unique()\n",
        "print(unique_measures)"
      ]
    },
    {
      "cell_type": "markdown",
      "metadata": {},
      "source": [
        "Code apprevations for each country. We shall keep this feature. The nan's in the rows for ASEAN countries which is an intergovernmental orgasation. We don't need this data as those countries have their own rows so we shall remove it later. The ISIC Division is a quick way to see which industry we are referring to. As numbers it is confusing but as a feature it is useful so I will give each industry a code later"
      ]
    },
    {
      "cell_type": "markdown",
      "metadata": {
        "id": "ZY3l0-AxO93d"
      },
      "source": [
        "---"
      ]
    },
    {
      "cell_type": "markdown",
      "metadata": {
        "id": "uFQo3ycuO-v6"
      },
      "source": [
        "# Section Cleaning data and Feature Engineering"
      ]
    },
    {
      "cell_type": "markdown",
      "metadata": {},
      "source": [
        "First lets remove the Method feature and ASEAN rows from the Countries Column"
      ]
    },
    {
      "cell_type": "code",
      "execution_count": 22,
      "metadata": {
        "vscode": {
          "languageId": "markdown"
        }
      },
      "outputs": [
        {
          "name": "stdout",
          "output_type": "stream",
          "text": [
            "    Country ISO3    Country  Year ISIC Division  \\\n",
            "209          ARG  Argentina  2000         10-12   \n",
            "210          ARG  Argentina  2000         13-15   \n",
            "211          ARG  Argentina  2000            16   \n",
            "212          ARG  Argentina  2000         17-18   \n",
            "213          ARG  Argentina  2000            19   \n",
            "\n",
            "                                    ISIC Division Desc         Measure  \\\n",
            "209  Manufacture of food products, beverages and to...  Current prices   \n",
            "210  Manufacture of textiles, wearing apparel, leat...  Current prices   \n",
            "211  Manufacture of wood and of products of wood an...  Current prices   \n",
            "212         Manufacture of paper products and printing  Current prices   \n",
            "213  Manufacture of coke and refined petroleum prod...  Current prices   \n",
            "\n",
            "     Value LCU (million national currency)  Value USD (million USD)  \n",
            "209                               16986.10                  16994.6  \n",
            "210                                5944.13                   5947.1  \n",
            "211                                1551.72                   1552.5  \n",
            "212                                4567.81                   4570.1  \n",
            "213                                2938.13                   2939.6  \n"
          ]
        }
      ],
      "source": [
        "# Remove 'Measure' feature\n",
        "df_raw2 = df_raw.drop(columns=['Method'])\n",
        "\n",
        "# Drop rows that have 'ASEAN' in the 'Country' column\n",
        "df_raw2 = df_raw2[df_raw2['Country'] != 'ASEAN']\n",
        "\n",
        "print(df_raw2.head())"
      ]
    },
    {
      "cell_type": "markdown",
      "metadata": {},
      "source": [
        "Next we'll check for any missing values"
      ]
    },
    {
      "cell_type": "code",
      "execution_count": null,
      "metadata": {},
      "outputs": [
        {
          "name": "stdout",
          "output_type": "stream",
          "text": [
            "Country ISO3                             2566\n",
            "Country                                     0\n",
            "Year                                        0\n",
            "ISIC Division                               0\n",
            "ISIC Division Desc                          0\n",
            "Measure                                     0\n",
            "Value LCU (million national currency)      76\n",
            "Value USD (million USD)                    76\n",
            "dtype: int64\n"
          ]
        }
      ],
      "source": [
        "# Check for Missing Values\n",
        "missing_values = df_raw2.isnull().sum()\n",
        "print(missing_values)\n"
      ]
    },
    {
      "cell_type": "code",
      "execution_count": 24,
      "metadata": {},
      "outputs": [
        {
          "name": "stdout",
          "output_type": "stream",
          "text": [
            "      Country ISO3                            Country  Year ISIC Division  \\\n",
            "418            NaN  Asia-Pacific Economic Cooperation  2000         10-12   \n",
            "419            NaN  Asia-Pacific Economic Cooperation  2000         13-15   \n",
            "420            NaN  Asia-Pacific Economic Cooperation  2000            16   \n",
            "421            NaN  Asia-Pacific Economic Cooperation  2000         17-18   \n",
            "422            NaN  Asia-Pacific Economic Cooperation  2000            19   \n",
            "...            ...                                ...   ...           ...   \n",
            "27326          NaN                              World  2018            22   \n",
            "27327          NaN                              World  2018            23   \n",
            "27328          NaN                              World  2018            24   \n",
            "27329          NaN                              World  2018         25-28   \n",
            "27330          NaN                              World  2018         29-30   \n",
            "\n",
            "                                      ISIC Division Desc         Measure  \\\n",
            "418    Manufacture of food products, beverages and to...  Current prices   \n",
            "419    Manufacture of textiles, wearing apparel, leat...  Current prices   \n",
            "420    Manufacture of wood and of products of wood an...  Current prices   \n",
            "421           Manufacture of paper products and printing  Current prices   \n",
            "422    Manufacture of coke and refined petroleum prod...  Current prices   \n",
            "...                                                  ...             ...   \n",
            "27326        Manufacture of rubber and plastics products  Current prices   \n",
            "27327  Manufacture of other non-metallic mineral prod...  Current prices   \n",
            "27328                        Manufacture of basic metals  Current prices   \n",
            "27329  Manufacture of fabricated metal products, mach...  Current prices   \n",
            "27330                 Manufacture of transport equipment  Current prices   \n",
            "\n",
            "       Value LCU (million national currency)  Value USD (million USD)  \n",
            "418                                      0.0                445396.09  \n",
            "419                                      0.0                173299.70  \n",
            "420                                      0.0                 65121.30  \n",
            "421                                      0.0                226176.59  \n",
            "422                                      0.0                151038.91  \n",
            "...                                      ...                      ...  \n",
            "27326                                    0.0                536332.81  \n",
            "27327                                    0.0                745028.38  \n",
            "27328                                    0.0               1055266.00  \n",
            "27329                                    0.0               3920982.75  \n",
            "27330                                    0.0               1676815.25  \n",
            "\n",
            "[2566 rows x 8 columns]\n"
          ]
        }
      ],
      "source": [
        "missing_country_iso3 = df_raw2[df_raw2['Country ISO3'].isnull()]\n",
        "print(missing_country_iso3)"
      ]
    },
    {
      "cell_type": "markdown",
      "metadata": {},
      "source": [
        "The missing values are in Asia Pacific corporation, which is missing an ISO3 code. We're intersted in countries not corporations so we can remove these rows. We will also remove the rows that have missing 'Value' entries"
      ]
    },
    {
      "cell_type": "code",
      "execution_count": 25,
      "metadata": {},
      "outputs": [
        {
          "name": "stdout",
          "output_type": "stream",
          "text": [
            "<class 'pandas.core.frame.DataFrame'>\n",
            "Index: 24480 entries, 209 to 27121\n",
            "Data columns (total 8 columns):\n",
            " #   Column                                 Non-Null Count  Dtype  \n",
            "---  ------                                 --------------  -----  \n",
            " 0   Country ISO3                           24480 non-null  object \n",
            " 1   Country                                24480 non-null  object \n",
            " 2   Year                                   24480 non-null  int64  \n",
            " 3   ISIC Division                          24480 non-null  object \n",
            " 4   ISIC Division Desc                     24480 non-null  object \n",
            " 5   Measure                                24480 non-null  object \n",
            " 6   Value LCU (million national currency)  24480 non-null  float64\n",
            " 7   Value USD (million USD)                24480 non-null  float64\n",
            "dtypes: float64(2), int64(1), object(5)\n",
            "memory usage: 1.7+ MB\n",
            "None\n"
          ]
        }
      ],
      "source": [
        "# Remove rows with missing values\n",
        "df_cleaned = df_raw2.dropna()\n",
        "print(df_cleaned.info())"
      ]
    },
    {
      "cell_type": "code",
      "execution_count": 28,
      "metadata": {},
      "outputs": [
        {
          "name": "stdout",
          "output_type": "stream",
          "text": [
            "Country ISO3                             0\n",
            "Country                                  0\n",
            "Year                                     0\n",
            "ISIC Division                            0\n",
            "ISIC Division Desc                       0\n",
            "Measure                                  0\n",
            "Value LCU (million national currency)    0\n",
            "Value USD (million USD)                  0\n",
            "dtype: int64\n"
          ]
        }
      ],
      "source": [
        "# Check the values have been removed\n",
        "missing_values = df_cleaned.isnull().sum()\n",
        "print(missing_values)"
      ]
    },
    {
      "cell_type": "markdown",
      "metadata": {},
      "source": [
        "---"
      ]
    },
    {
      "cell_type": "markdown",
      "metadata": {},
      "source": [
        "---"
      ]
    },
    {
      "cell_type": "markdown",
      "metadata": {
        "id": "ltNetd085qHf"
      },
      "source": [
        "# Push files to Repo"
      ]
    },
    {
      "cell_type": "markdown",
      "metadata": {},
      "source": [
        "* In cases where you don't need to push files to Repo, you may replace this section with \"Conclusions and Next Steps\" and state your conclusions and next steps."
      ]
    },
    {
      "cell_type": "code",
      "execution_count": null,
      "metadata": {
        "id": "aKlnIozA4eQO",
        "outputId": "fd09bc1f-adb1-4511-f6ce-492a6af570c0"
      },
      "outputs": [],
      "source": [
        "import os\n",
        "try:\n",
        "  # create your folder here\n",
        "  # os.makedirs(name='')\n",
        "except Exception as e:\n",
        "  print(e)\n"
      ]
    }
  ],
  "metadata": {
    "accelerator": "GPU",
    "colab": {
      "name": "Data Practitioner Jupyter Notebook.ipynb",
      "provenance": [],
      "toc_visible": true
    },
    "kernelspec": {
      "display_name": ".venv",
      "language": "python",
      "name": "python3"
    },
    "language_info": {
      "codemirror_mode": {
        "name": "ipython",
        "version": 3
      },
      "file_extension": ".py",
      "mimetype": "text/x-python",
      "name": "python",
      "nbconvert_exporter": "python",
      "pygments_lexer": "ipython3",
      "version": "3.12.8"
    },
    "orig_nbformat": 2
  },
  "nbformat": 4,
  "nbformat_minor": 2
}
