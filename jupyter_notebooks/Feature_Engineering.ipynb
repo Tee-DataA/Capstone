{
  "cells": [
    {
      "cell_type": "markdown",
      "metadata": {
        "id": "0aStgWSO0E0E"
      },
      "source": [
        "# **Feature Engineering**"
      ]
    },
    {
      "cell_type": "markdown",
      "metadata": {
        "id": "1eLEkw5O0ECa"
      },
      "source": [
        "## Objectives\n",
        "\n",
        "* Will take the cleaned dataset and check if there are any outliers for each country. Will also make a new dataframe that has the average rate of increase for each country\n",
        "\n",
        "## Inputs\n",
        "\n",
        "* cleaned_data.csv \n",
        "\n",
        "## Outputs\n",
        "\n",
        "* Write here which files, code or artefacts you generate by the end of the notebook \n",
        "\n",
        "## Additional Comments\n",
        "\n",
        "* If you have any additional comments that don't fit in the previous bullets, please state them here. \n",
        "\n"
      ]
    },
    {
      "cell_type": "markdown",
      "metadata": {
        "id": "9uWZXH9LwoQg"
      },
      "source": [
        "---"
      ]
    },
    {
      "cell_type": "markdown",
      "metadata": {
        "id": "cqP-UeN-z3i2"
      },
      "source": [
        "# Change working directory"
      ]
    },
    {
      "cell_type": "markdown",
      "metadata": {},
      "source": [
        "* We are assuming you will store the notebooks in a subfolder, therefore when running the notebook in the editor, you will need to change the working directory"
      ]
    },
    {
      "cell_type": "markdown",
      "metadata": {
        "id": "aOGIGS-uz3i2"
      },
      "source": [
        "We need to change the working directory from its current folder to its parent folder\n",
        "* We access the current directory with os.getcwd()"
      ]
    },
    {
      "cell_type": "code",
      "execution_count": 55,
      "metadata": {
        "id": "wZfF_j-Bz3i4",
        "outputId": "66943449-1436-4c3d-85c7-b85f9f78349b"
      },
      "outputs": [
        {
          "data": {
            "text/plain": [
              "'c:\\\\Users\\\\sayed\\\\OneDrive\\\\Documents\\\\Code institute\\\\Capstone\\\\Capstone'"
            ]
          },
          "execution_count": 55,
          "metadata": {},
          "output_type": "execute_result"
        }
      ],
      "source": [
        "import os\n",
        "current_dir = os.getcwd()\n",
        "current_dir"
      ]
    },
    {
      "cell_type": "markdown",
      "metadata": {
        "id": "9MWW8E7lz3i7"
      },
      "source": [
        "We want to make the parent of the current directory the new current directory\n",
        "* os.path.dirname() gets the parent directory\n",
        "* os.chir() defines the new current directory"
      ]
    },
    {
      "cell_type": "code",
      "execution_count": 2,
      "metadata": {
        "id": "TwHsQRWjz3i9",
        "outputId": "86849db3-cd2f-4cc5-ebb8-2d0caafa1a2c"
      },
      "outputs": [
        {
          "name": "stdout",
          "output_type": "stream",
          "text": [
            "You set a new current directory\n"
          ]
        }
      ],
      "source": [
        "os.chdir(os.path.dirname(current_dir))\n",
        "print(\"You set a new current directory\")"
      ]
    },
    {
      "cell_type": "markdown",
      "metadata": {
        "id": "M_xPk_Ijz3i-"
      },
      "source": [
        "Confirm the new current directory"
      ]
    },
    {
      "cell_type": "code",
      "execution_count": 3,
      "metadata": {
        "id": "vz3S-_kjz3jA",
        "outputId": "00b79ae4-75d0-4a96-d193-ac9ef9847ea2"
      },
      "outputs": [
        {
          "data": {
            "text/plain": [
              "'c:\\\\Users\\\\sayed\\\\OneDrive\\\\Documents\\\\Code institute\\\\Capstone\\\\Capstone'"
            ]
          },
          "execution_count": 3,
          "metadata": {},
          "output_type": "execute_result"
        }
      ],
      "source": [
        "current_dir = os.getcwd()\n",
        "current_dir"
      ]
    },
    {
      "cell_type": "code",
      "execution_count": 56,
      "metadata": {},
      "outputs": [],
      "source": [
        "# Import libraries\n",
        "import pandas as pd\n",
        "import numpy as np\n",
        "import matplotlib.pyplot as plt\n",
        "import seaborn as sns\n",
        "import plotly.express as px"
      ]
    },
    {
      "cell_type": "code",
      "execution_count": 57,
      "metadata": {},
      "outputs": [
        {
          "name": "stdout",
          "output_type": "stream",
          "text": [
            "  Country ISO3    Country  Year ISIC Division  \\\n",
            "0          ARG  Argentina  2000         10-12   \n",
            "1          ARG  Argentina  2000         13-15   \n",
            "2          ARG  Argentina  2000            16   \n",
            "3          ARG  Argentina  2000         17-18   \n",
            "4          ARG  Argentina  2000            19   \n",
            "\n",
            "                                  ISIC Division Desc         Measure  \\\n",
            "0  Manufacture of food products, beverages and to...  Current prices   \n",
            "1  Manufacture of textiles, wearing apparel, leat...  Current prices   \n",
            "2  Manufacture of wood and of products of wood an...  Current prices   \n",
            "3         Manufacture of paper products and printing  Current prices   \n",
            "4  Manufacture of coke and refined petroleum prod...  Current prices   \n",
            "\n",
            "   Value LCU (million national currency)  Value USD (million USD)  \n",
            "0                               16986.10                  16994.6  \n",
            "1                                5944.13                   5947.1  \n",
            "2                                1551.72                   1552.5  \n",
            "3                                4567.81                   4570.1  \n",
            "4                                2938.13                   2939.6  \n"
          ]
        }
      ],
      "source": [
        "# Load the cleaned data\n",
        "cleaned_data_path = 'c:\\\\Users\\\\sayed\\\\OneDrive\\\\Documents\\\\Code institute\\\\Capstone\\\\Capstone\\\\cleaned_data.csv'\n",
        "cleaned_data = pd.read_csv(cleaned_data_path)\n",
        "\n",
        "# Display the first few rows of the dataframe\n",
        "print(cleaned_data.head())"
      ]
    },
    {
      "cell_type": "markdown",
      "metadata": {
        "id": "ZY3l0-AxO93d"
      },
      "source": [
        "---"
      ]
    },
    {
      "cell_type": "markdown",
      "metadata": {},
      "source": [
        "## Feature engineering"
      ]
    },
    {
      "cell_type": "markdown",
      "metadata": {},
      "source": [
        "Now let us adjust some of the column names we have to make it easier for our analysis"
      ]
    },
    {
      "cell_type": "code",
      "execution_count": 59,
      "metadata": {},
      "outputs": [
        {
          "name": "stdout",
          "output_type": "stream",
          "text": [
            "  ISO3    Country  Year Ind Code  \\\n",
            "0  ARG  Argentina  2000    10-12   \n",
            "1  ARG  Argentina  2000    13-15   \n",
            "2  ARG  Argentina  2000       16   \n",
            "3  ARG  Argentina  2000    17-18   \n",
            "4  ARG  Argentina  2000       19   \n",
            "\n",
            "                                            Industry         Measure  \\\n",
            "0  Manufacture of food products, beverages and to...  Current prices   \n",
            "1  Manufacture of textiles, wearing apparel, leat...  Current prices   \n",
            "2  Manufacture of wood and of products of wood an...  Current prices   \n",
            "3         Manufacture of paper products and printing  Current prices   \n",
            "4  Manufacture of coke and refined petroleum prod...  Current prices   \n",
            "\n",
            "   Value (LCU)  Value (USD)  \n",
            "0     16986.10      16994.6  \n",
            "1      5944.13       5947.1  \n",
            "2      1551.72       1552.5  \n",
            "3      4567.81       4570.1  \n",
            "4      2938.13       2939.6  \n"
          ]
        }
      ],
      "source": [
        "# Make a copy of cleaned_data\n",
        "df_eng = cleaned_data.copy()\n",
        "\n",
        "# Rename columns\n",
        "df_eng.rename(columns={\n",
        "    'Country ISO3': 'ISO3',\n",
        "    'ISIC Division': 'Ind Code',\n",
        "    'ISIC Division Desc': 'Industry',\n",
        "    'Value LCU (million national currency)': 'Value (LCU)',\n",
        "    'Value USD (million USD)': 'Value (USD)'\n",
        "}, inplace=True)\n",
        "\n",
        "print(df_eng.head())"
      ]
    },
    {
      "cell_type": "code",
      "execution_count": 60,
      "metadata": {},
      "outputs": [
        {
          "name": "stdout",
          "output_type": "stream",
          "text": [
            "['Manufacture of food products, beverages and tobacco products'\n",
            " 'Manufacture of textiles, wearing apparel, leather and related products'\n",
            " 'Manufacture of wood and of products of wood and cork, except furniture; manufacture of articles of straw and plaiting materials'\n",
            " 'Manufacture of paper products and printing'\n",
            " 'Manufacture of coke and refined petroleum products'\n",
            " 'Manufacturing of chemicals and pharmaceutical products'\n",
            " 'Manufacture of rubber and plastics products'\n",
            " 'Manufacture of other non-metallic mineral products'\n",
            " 'Manufacture of basic metals'\n",
            " 'Manufacture of fabricated metal products, machinery and equipment'\n",
            " 'Manufacture of transport equipment'\n",
            " 'Manufacture of furniture, other manufacturing']\n"
          ]
        }
      ],
      "source": [
        "# Check to see the names of the industries\n",
        "unique_measures = df_eng['Industry'].unique()\n",
        "print(unique_measures)"
      ]
    },
    {
      "cell_type": "markdown",
      "metadata": {},
      "source": [
        "Looking at the data, there isn't any obvious short form words or abbreviations I can use to describe each industry so I will just be using the letters A-L, and the user can refer to a reference list to see what each letter represents"
      ]
    },
    {
      "cell_type": "code",
      "execution_count": 61,
      "metadata": {},
      "outputs": [
        {
          "name": "stdout",
          "output_type": "stream",
          "text": [
            "['10-12' '13-15' '16' '17-18' '19' '20-21' '22' '23' '24' '25-28' '29-30'\n",
            " '31-32']\n"
          ]
        }
      ],
      "source": [
        "# Check the values of Ind Code column\n",
        "unique_measures = df_eng['Ind Code'].unique()\n",
        "print(unique_measures)"
      ]
    },
    {
      "cell_type": "code",
      "execution_count": 62,
      "metadata": {},
      "outputs": [
        {
          "name": "stdout",
          "output_type": "stream",
          "text": [
            "  ISO3    Country  Year Ind Code  \\\n",
            "0  ARG  Argentina  2000        A   \n",
            "1  ARG  Argentina  2000        B   \n",
            "2  ARG  Argentina  2000        C   \n",
            "3  ARG  Argentina  2000        D   \n",
            "4  ARG  Argentina  2000        E   \n",
            "\n",
            "                                            Industry         Measure  \\\n",
            "0  Manufacture of food products, beverages and to...  Current prices   \n",
            "1  Manufacture of textiles, wearing apparel, leat...  Current prices   \n",
            "2  Manufacture of wood and of products of wood an...  Current prices   \n",
            "3         Manufacture of paper products and printing  Current prices   \n",
            "4  Manufacture of coke and refined petroleum prod...  Current prices   \n",
            "\n",
            "   Value (LCU)  Value (USD)  \n",
            "0     16986.10      16994.6  \n",
            "1      5944.13       5947.1  \n",
            "2      1551.72       1552.5  \n",
            "3      4567.81       4570.1  \n",
            "4      2938.13       2939.6  \n"
          ]
        }
      ],
      "source": [
        "# Mapping dictionary\n",
        "ind_code_mapping = {\n",
        "    '10-12': 'A',\n",
        "    '13-15': 'B',\n",
        "    '16': 'C',\n",
        "    '17-18': 'D',\n",
        "    '19': 'E',\n",
        "    '20-21': 'F',\n",
        "    '22': 'G',\n",
        "    '23': 'H',\n",
        "    '24': 'I',\n",
        "    '25-28': 'J',\n",
        "    '29-30': 'K',\n",
        "    '31-32': 'L'\n",
        "}\n",
        "\n",
        "# Replace 'Div Code' values\n",
        "df_eng['Ind Code'] = df_eng['Ind Code'].replace(ind_code_mapping)\n",
        "\n",
        "print(df_eng.head())"
      ]
    },
    {
      "cell_type": "code",
      "execution_count": 65,
      "metadata": {},
      "outputs": [
        {
          "name": "stdout",
          "output_type": "stream",
          "text": [
            "['A' 'B' 'C' 'D' 'E' 'F' 'G' 'H' 'I' 'J' 'K' 'L']\n"
          ]
        }
      ],
      "source": [
        "unique_measures = df_eng['Ind Code'].unique()\n",
        "print(unique_measures)"
      ]
    },
    {
      "cell_type": "markdown",
      "metadata": {},
      "source": [
        "I want to add a new column that shows indicates which continent the country is from. This will be useful later when we want to compare for example Europe vs America "
      ]
    },
    {
      "cell_type": "code",
      "execution_count": 70,
      "metadata": {},
      "outputs": [
        {
          "data": {
            "text/plain": [
              "array(['Argentina', 'Australia', 'Austria', 'Belgium', 'Brazil',\n",
              "       'Brunei Darussalam', 'Bulgaria', 'Cambodia', 'Canada', 'Chile',\n",
              "       'China', 'Chinese Taipei', 'Colombia', 'Costa Rica', 'Croatia',\n",
              "       'Cyprus', 'Czech Republic', 'Denmark', 'Estonia', 'Finland',\n",
              "       'France', 'Germany', 'Greece', 'Hong Kong', 'Hungary', 'Iceland',\n",
              "       'India', 'Indonesia', 'Ireland', 'Italy', 'Japan', 'Kazakhstan',\n",
              "       'Korea', 'Laos', 'Latvia', 'Lithuania', 'Luxembourg', 'Malaysia',\n",
              "       'Malta', 'Mexico', 'Morocco', 'Myanmar', 'Netherlands',\n",
              "       'New Zealand', 'North Macedonia', 'Norway', 'Peru', 'Philippines',\n",
              "       'Poland', 'Portugal', 'Romania', 'Russian Federation',\n",
              "       'Saudi Arabia', 'Serbia', 'Singapore', 'Slovak Republic',\n",
              "       'Slovenia', 'South Africa', 'Spain', 'Sweden', 'Switzerland',\n",
              "       'Thailand', 'Tunisia', 'Turkey', 'United Kingdom', 'United States',\n",
              "       'Viet Nam'], dtype=object)"
            ]
          },
          "execution_count": 70,
          "metadata": {},
          "output_type": "execute_result"
        }
      ],
      "source": [
        "df_eng['Country'].unique()"
      ]
    },
    {
      "cell_type": "code",
      "execution_count": 69,
      "metadata": {
        "vscode": {
          "languageId": "javascript"
        }
      },
      "outputs": [],
      "source": [
        "df_eng = df_eng.sort_values(by=['Country', 'Year'])\n"
      ]
    },
    {
      "cell_type": "code",
      "execution_count": 71,
      "metadata": {
        "vscode": {
          "languageId": "ruby"
        }
      },
      "outputs": [
        {
          "name": "stdout",
          "output_type": "stream",
          "text": [
            "  ISO3    Country  Year Ind Code  \\\n",
            "0  ARG  Argentina  2000        A   \n",
            "1  ARG  Argentina  2000        B   \n",
            "2  ARG  Argentina  2000        C   \n",
            "3  ARG  Argentina  2000        D   \n",
            "4  ARG  Argentina  2000        E   \n",
            "\n",
            "                                            Industry         Measure  \\\n",
            "0  Manufacture of food products, beverages and to...  Current prices   \n",
            "1  Manufacture of textiles, wearing apparel, leat...  Current prices   \n",
            "2  Manufacture of wood and of products of wood an...  Current prices   \n",
            "3         Manufacture of paper products and printing  Current prices   \n",
            "4  Manufacture of coke and refined petroleum prod...  Current prices   \n",
            "\n",
            "   Value (LCU)  Value (USD)      Continent  \n",
            "0     16986.10      16994.6  South America  \n",
            "1      5944.13       5947.1  South America  \n",
            "2      1551.72       1552.5  South America  \n",
            "3      4567.81       4570.1  South America  \n",
            "4      2938.13       2939.6  South America  \n"
          ]
        }
      ],
      "source": [
        "# Mapping dictionary for countries to continents\n",
        "country_to_continent = {\n",
        "    'Argentina': 'South America', \n",
        "    'Australia': 'Oceania', \n",
        "    'Austria': 'Europe', \n",
        "    'Belgium': 'Europe', \n",
        "    'Brazil': 'South America',\n",
        "    'Brunei Darussalam': 'Asia', \n",
        "    'Bulgaria': 'South America', \n",
        "    'Cambodia': 'South America', \n",
        "    'Canada': 'North America', \n",
        "    'Chile': 'South America',\n",
        "    'China': 'Asia',\n",
        "    'Chinese Taipei': 'Asia', \n",
        "    'Colombia': 'South America', \n",
        "    'Costa Rica': 'South America', \n",
        "    'Croatia': 'Europe', \n",
        "    'Cyprus': 'Europe',\n",
        "    'Czech Republic': 'Europe', \n",
        "    'Denmark': 'Europe', \n",
        "    'Estonia': 'Europe', \n",
        "    'Finland': 'Europe', \n",
        "    'France': 'Europe',\n",
        "    'Germany': 'Europe', \n",
        "    'Greece': 'Europe', \n",
        "    'Hong Kong': 'Asia', \n",
        "    'Hungary': 'Europe', \n",
        "    'Iceland': 'Europe', \n",
        "    'India': 'Asia',\n",
        "    'Indonesia': 'Asia', \n",
        "    'Ireland': 'Europe', \n",
        "    'Italy': 'Europe', \n",
        "    'Japan': 'Asia', \n",
        "    'Kazakhstan': 'Asia',\n",
        "    'Korea': 'Asia', \n",
        "    'Laos': 'Asia', \n",
        "    'Latvia': 'Europe', \n",
        "    'Lithuania': 'Europe', \n",
        "    'Luxembourg': 'Europe', \n",
        "    'Malaysia': 'Asia',\n",
        "    'Malta': 'Europe', \n",
        "    'Mexico': 'South America', \n",
        "    'Morocco': 'Africa', \n",
        "    'Myanmar': 'Asia', \n",
        "    'New Zealand': 'Oceania',\n",
        "    'North Macedonia': 'Europe', \n",
        "    'Norway': 'Europe', \n",
        "    'Peru': 'South America',\n",
        "    'Philippines': 'Asia', \n",
        "    'Poland': 'Europe', \n",
        "    'Portugal': 'Europe', \n",
        "    'Romania': 'Europe',\n",
        "    'Russian Federation': 'Europe', \n",
        "    'Saudi Arabia': 'Middle East', \n",
        "    'Serbia': 'Europe', \n",
        "    'Singapore': 'Asia',\n",
        "    'Slovak Republic': 'Europe', \n",
        "    'Slovenia': 'Europe', \n",
        "    'South Africa': 'Africa', \n",
        "    'Spain': 'Europe', \n",
        "    'Sweden': 'Europe',\n",
        "    'Switzerland': 'Europe', \n",
        "    'Thailand': 'Asia', \n",
        "    'The Netherlands': 'Europe', \n",
        "    'Tunisia': 'Africa', \n",
        "    'Turkey': 'Middle East',\n",
        "    'United Kingdom': 'Europe', \n",
        "    'United States': 'North America', \n",
        "    'Viet Nam': 'Asia'\n",
        "}\n",
        "\n",
        "# Add 'Continent' column to df_eng\n",
        "df_eng['Continent'] = df_eng['Country'].map(country_to_continent)\n",
        "\n",
        "print(df_eng.head())"
      ]
    },
    {
      "cell_type": "markdown",
      "metadata": {},
      "source": [
        "Let re-order the columns to make it look more logical"
      ]
    },
    {
      "cell_type": "code",
      "execution_count": 72,
      "metadata": {
        "vscode": {
          "languageId": "ruby"
        }
      },
      "outputs": [
        {
          "name": "stdout",
          "output_type": "stream",
          "text": [
            "   Year    Country ISO3      Continent Ind Code  \\\n",
            "0  2000  Argentina  ARG  South America        A   \n",
            "1  2000  Argentina  ARG  South America        B   \n",
            "2  2000  Argentina  ARG  South America        C   \n",
            "3  2000  Argentina  ARG  South America        D   \n",
            "4  2000  Argentina  ARG  South America        E   \n",
            "\n",
            "                                            Industry         Measure  \\\n",
            "0  Manufacture of food products, beverages and to...  Current prices   \n",
            "1  Manufacture of textiles, wearing apparel, leat...  Current prices   \n",
            "2  Manufacture of wood and of products of wood an...  Current prices   \n",
            "3         Manufacture of paper products and printing  Current prices   \n",
            "4  Manufacture of coke and refined petroleum prod...  Current prices   \n",
            "\n",
            "   Value (LCU)  Value (USD)  \n",
            "0     16986.10      16994.6  \n",
            "1      5944.13       5947.1  \n",
            "2      1551.72       1552.5  \n",
            "3      4567.81       4570.1  \n",
            "4      2938.13       2939.6  \n"
          ]
        }
      ],
      "source": [
        "# Order of the columns\n",
        "desired_order = ['Year','Country', 'ISO3', 'Continent', 'Ind Code', 'Industry','Measure','Value (LCU)','Value (USD)']\n",
        "\n",
        "# Reorder the columns\n",
        "df_eng = df_eng[desired_order]\n",
        "\n",
        "# Print the DataFrame to verify the new order\n",
        "print(df_eng.head())"
      ]
    },
    {
      "cell_type": "markdown",
      "metadata": {},
      "source": [
        "---"
      ]
    },
    {
      "cell_type": "markdown",
      "metadata": {},
      "source": [
        "### Exchange rate"
      ]
    },
    {
      "cell_type": "markdown",
      "metadata": {},
      "source": [
        "We want to add an extra column to our dataset that has the exchange rate for each country in that specific year. This is essential in explaining the data. Growth in an industry might be due to a more favourable exchange rate rather than genuine economic growth. We'll make a function that can calculate this field"
      ]
    },
    {
      "cell_type": "code",
      "execution_count": 73,
      "metadata": {
        "vscode": {
          "languageId": "ruby"
        }
      },
      "outputs": [],
      "source": [
        "def exchange_rate_column(df, usd_column, lcu_column, new_column_name='Exchange Rate'):\n",
        "    \"\"\"\n",
        "    Creates an exchange rate column in a Pandas DataFrame.\n",
        "\n",
        "    Args:\n",
        "        df: Pandas DataFrame containing USD and LCU columns.\n",
        "        usd_column: Name of the column containing USD values.\n",
        "        lcu_column: Name of the column containing LCU values.\n",
        "        new_column_name: Name for the new exchange rate column.\n",
        "\n",
        "    Returns:\n",
        "        Pandas DataFrame with the new exchange rate column.\n",
        "    \"\"\"\n",
        "\n",
        "    df = df.copy() #important to avoid changing the original dataframe.\n",
        "\n",
        "    try:\n",
        "        df[new_column_name] = df[usd_column] / df[lcu_column]\n",
        "    except ZeroDivisionError:\n",
        "        print(\"Warning: Division by zero encountered. Ensure LCU column does not contain zeros.\")\n",
        "        df[new_column_name] = None # Or some other handling of the error.\n",
        "    except KeyError as e:\n",
        "        print(f\"Error: Column '{e}' not found in DataFrame.\")\n",
        "        return None #or handle the error in an appropriate way.\n",
        "\n",
        "    return df"
      ]
    },
    {
      "cell_type": "code",
      "execution_count": 74,
      "metadata": {
        "vscode": {
          "languageId": "ruby"
        }
      },
      "outputs": [
        {
          "name": "stdout",
          "output_type": "stream",
          "text": [
            "   Year    Country ISO3      Continent Ind Code  \\\n",
            "0  2000  Argentina  ARG  South America        A   \n",
            "1  2000  Argentina  ARG  South America        B   \n",
            "2  2000  Argentina  ARG  South America        C   \n",
            "3  2000  Argentina  ARG  South America        D   \n",
            "4  2000  Argentina  ARG  South America        E   \n",
            "\n",
            "                                            Industry         Measure  \\\n",
            "0  Manufacture of food products, beverages and to...  Current prices   \n",
            "1  Manufacture of textiles, wearing apparel, leat...  Current prices   \n",
            "2  Manufacture of wood and of products of wood an...  Current prices   \n",
            "3         Manufacture of paper products and printing  Current prices   \n",
            "4  Manufacture of coke and refined petroleum prod...  Current prices   \n",
            "\n",
            "   Value (LCU)  Value (USD)  Exchange Rate  \n",
            "0     16986.10      16994.6       1.000500  \n",
            "1      5944.13       5947.1       1.000500  \n",
            "2      1551.72       1552.5       1.000503  \n",
            "3      4567.81       4570.1       1.000501  \n",
            "4      2938.13       2939.6       1.000500  \n"
          ]
        }
      ],
      "source": [
        "df_eng2 = exchange_rate_column(df_eng, 'Value (USD)', 'Value (LCU)')\n",
        "print(df_eng2.head())"
      ]
    },
    {
      "cell_type": "markdown",
      "metadata": {},
      "source": [
        "For ease of use, we'll make a dataframe that has the Industry Codes and Industry, so we can produce it as a handy table throughout the EDA as a reference for the reader "
      ]
    },
    {
      "cell_type": "code",
      "execution_count": 77,
      "metadata": {},
      "outputs": [
        {
          "data": {
            "application/vnd.microsoft.datawrangler.viewer.v0+json": {
              "columns": [
                {
                  "name": "index",
                  "rawType": "int64",
                  "type": "integer"
                },
                {
                  "name": "Ind Code",
                  "rawType": "object",
                  "type": "string"
                },
                {
                  "name": "Industry",
                  "rawType": "object",
                  "type": "string"
                }
              ],
              "conversionMethod": "pd.DataFrame",
              "ref": "ae018f06-ae2a-467c-a917-744df1886bfa",
              "rows": [
                [
                  "0",
                  "A",
                  "Manufacture of food products, beverages and tobacco products"
                ],
                [
                  "1",
                  "B",
                  "Manufacture of textiles, wearing apparel, leather and related products"
                ],
                [
                  "2",
                  "C",
                  "Manufacture of wood and of products of wood and cork, except furniture; manufacture of articles of straw and plaiting materials"
                ],
                [
                  "3",
                  "D",
                  "Manufacture of paper products and printing"
                ],
                [
                  "4",
                  "E",
                  "Manufacture of coke and refined petroleum products"
                ],
                [
                  "5",
                  "F",
                  "Manufacturing of chemicals and pharmaceutical products"
                ],
                [
                  "6",
                  "G",
                  "Manufacture of rubber and plastics products"
                ],
                [
                  "7",
                  "H",
                  "Manufacture of other non-metallic mineral products"
                ],
                [
                  "8",
                  "I",
                  "Manufacture of basic metals"
                ],
                [
                  "9",
                  "J",
                  "Manufacture of fabricated metal products, machinery and equipment"
                ],
                [
                  "10",
                  "K",
                  "Manufacture of transport equipment"
                ],
                [
                  "11",
                  "L",
                  "Manufacture of furniture, other manufacturing"
                ]
              ],
              "shape": {
                "columns": 2,
                "rows": 12
              }
            },
            "text/html": [
              "<div>\n",
              "<style scoped>\n",
              "    .dataframe tbody tr th:only-of-type {\n",
              "        vertical-align: middle;\n",
              "    }\n",
              "\n",
              "    .dataframe tbody tr th {\n",
              "        vertical-align: top;\n",
              "    }\n",
              "\n",
              "    .dataframe thead th {\n",
              "        text-align: right;\n",
              "    }\n",
              "</style>\n",
              "<table border=\"1\" class=\"dataframe\">\n",
              "  <thead>\n",
              "    <tr style=\"text-align: right;\">\n",
              "      <th></th>\n",
              "      <th>Ind Code</th>\n",
              "      <th>Industry</th>\n",
              "    </tr>\n",
              "  </thead>\n",
              "  <tbody>\n",
              "    <tr>\n",
              "      <th>0</th>\n",
              "      <td>A</td>\n",
              "      <td>Manufacture of food products, beverages and to...</td>\n",
              "    </tr>\n",
              "    <tr>\n",
              "      <th>1</th>\n",
              "      <td>B</td>\n",
              "      <td>Manufacture of textiles, wearing apparel, leat...</td>\n",
              "    </tr>\n",
              "    <tr>\n",
              "      <th>2</th>\n",
              "      <td>C</td>\n",
              "      <td>Manufacture of wood and of products of wood an...</td>\n",
              "    </tr>\n",
              "    <tr>\n",
              "      <th>3</th>\n",
              "      <td>D</td>\n",
              "      <td>Manufacture of paper products and printing</td>\n",
              "    </tr>\n",
              "    <tr>\n",
              "      <th>4</th>\n",
              "      <td>E</td>\n",
              "      <td>Manufacture of coke and refined petroleum prod...</td>\n",
              "    </tr>\n",
              "    <tr>\n",
              "      <th>5</th>\n",
              "      <td>F</td>\n",
              "      <td>Manufacturing of chemicals and pharmaceutical ...</td>\n",
              "    </tr>\n",
              "    <tr>\n",
              "      <th>6</th>\n",
              "      <td>G</td>\n",
              "      <td>Manufacture of rubber and plastics products</td>\n",
              "    </tr>\n",
              "    <tr>\n",
              "      <th>7</th>\n",
              "      <td>H</td>\n",
              "      <td>Manufacture of other non-metallic mineral prod...</td>\n",
              "    </tr>\n",
              "    <tr>\n",
              "      <th>8</th>\n",
              "      <td>I</td>\n",
              "      <td>Manufacture of basic metals</td>\n",
              "    </tr>\n",
              "    <tr>\n",
              "      <th>9</th>\n",
              "      <td>J</td>\n",
              "      <td>Manufacture of fabricated metal products, mach...</td>\n",
              "    </tr>\n",
              "    <tr>\n",
              "      <th>10</th>\n",
              "      <td>K</td>\n",
              "      <td>Manufacture of transport equipment</td>\n",
              "    </tr>\n",
              "    <tr>\n",
              "      <th>11</th>\n",
              "      <td>L</td>\n",
              "      <td>Manufacture of furniture, other manufacturing</td>\n",
              "    </tr>\n",
              "  </tbody>\n",
              "</table>\n",
              "</div>"
            ],
            "text/plain": [
              "   Ind Code                                           Industry\n",
              "0         A  Manufacture of food products, beverages and to...\n",
              "1         B  Manufacture of textiles, wearing apparel, leat...\n",
              "2         C  Manufacture of wood and of products of wood an...\n",
              "3         D         Manufacture of paper products and printing\n",
              "4         E  Manufacture of coke and refined petroleum prod...\n",
              "5         F  Manufacturing of chemicals and pharmaceutical ...\n",
              "6         G        Manufacture of rubber and plastics products\n",
              "7         H  Manufacture of other non-metallic mineral prod...\n",
              "8         I                        Manufacture of basic metals\n",
              "9         J  Manufacture of fabricated metal products, mach...\n",
              "10        K                 Manufacture of transport equipment\n",
              "11        L      Manufacture of furniture, other manufacturing"
            ]
          },
          "execution_count": 77,
          "metadata": {},
          "output_type": "execute_result"
        }
      ],
      "source": [
        "# Create a DataFrame with Ind Code and Industry\n",
        "industry_reference = df_eng[['Ind Code', 'Industry']].drop_duplicates().reset_index(drop=True)\n",
        "\n",
        "# Display the DataFrame\n",
        "industry_reference"
      ]
    },
    {
      "cell_type": "markdown",
      "metadata": {},
      "source": [
        "---"
      ]
    },
    {
      "cell_type": "markdown",
      "metadata": {},
      "source": [
        "## Volatility"
      ]
    },
    {
      "cell_type": "markdown",
      "metadata": {},
      "source": [
        "We shall add a column for volatility. This is measured by calculating the standard deviation(std) of the exhange rate. A high volatility/std means the exhange rate was unstable which can introduce higher risks for USD based investors"
      ]
    },
    {
      "cell_type": "code",
      "execution_count": 78,
      "metadata": {},
      "outputs": [
        {
          "name": "stderr",
          "output_type": "stream",
          "text": [
            "c:\\Users\\sayed\\OneDrive\\Documents\\Code institute\\Capstone\\Capstone\\.venv\\Lib\\site-packages\\pandas\\core\\nanops.py:1010: RuntimeWarning: invalid value encountered in subtract\n",
            "  sqr = _ensure_numeric((avg - values) ** 2)\n"
          ]
        }
      ],
      "source": [
        "# Calculate Volatility\n",
        "df_eng2[\"Volatility\"] = df_eng2.groupby('Country')['Exchange Rate'].transform(lambda x: x.std())\n"
      ]
    },
    {
      "cell_type": "code",
      "execution_count": 20,
      "metadata": {},
      "outputs": [
        {
          "name": "stdout",
          "output_type": "stream",
          "text": [
            "   Year    Country ISO3      Continent Ind Code  \\\n",
            "0  2000  Argentina  ARG  South America        A   \n",
            "1  2000  Argentina  ARG  South America        B   \n",
            "2  2000  Argentina  ARG  South America        C   \n",
            "3  2000  Argentina  ARG  South America        D   \n",
            "4  2000  Argentina  ARG  South America        E   \n",
            "\n",
            "                                            Industry         Measure  \\\n",
            "0  Manufacture of food products, beverages and to...  Current prices   \n",
            "1  Manufacture of textiles, wearing apparel, leat...  Current prices   \n",
            "2  Manufacture of wood and of products of wood an...  Current prices   \n",
            "3         Manufacture of paper products and printing  Current prices   \n",
            "4  Manufacture of coke and refined petroleum prod...  Current prices   \n",
            "\n",
            "   Value (LCU)  Value (USD)  Exchange Rate  Volatility  \n",
            "0     16986.10      16994.6       1.000500    0.258391  \n",
            "1      5944.13       5947.1       1.000500    0.258391  \n",
            "2      1551.72       1552.5       1.000503    0.258391  \n",
            "3      4567.81       4570.1       1.000501    0.258391  \n",
            "4      2938.13       2939.6       1.000500    0.258391  \n"
          ]
        }
      ],
      "source": [
        "print(df_eng2.head())"
      ]
    },
    {
      "cell_type": "code",
      "execution_count": 79,
      "metadata": {},
      "outputs": [
        {
          "name": "stdout",
          "output_type": "stream",
          "text": [
            "count    6.600000e+01\n",
            "mean     6.495221e-02\n",
            "std      6.739757e-02\n",
            "min      6.624372e-08\n",
            "25%      2.471730e-03\n",
            "50%      3.293307e-02\n",
            "75%      1.193092e-01\n",
            "max      2.863135e-01\n",
            "Name: Volatility, dtype: float64\n"
          ]
        },
        {
          "data": {
            "image/png": "[encoded data removed]",
            "text/plain": [
              "<Figure size 640x480 with 1 Axes>"
            ]
          },
          "metadata": {},
          "output_type": "display_data"
        },
        {
          "name": "stdout",
          "output_type": "stream",
          "text": [
            "Chosen Volatility Threshold: 0.13460686623563733\n"
          ]
        }
      ],
      "source": [
        "import matplotlib.pyplot as plt\n",
        "\n",
        "# Examine the Distribution of Volatility\n",
        "volatility_distribution = df_eng2.groupby('Country')['Volatility'].first()\n",
        "print(volatility_distribution.describe())\n",
        "\n",
        "# Plot the Distribution\n",
        "plt.hist(volatility_distribution, bins=30)\n",
        "plt.xlabel('Volatility')\n",
        "plt.ylabel('Frequency')\n",
        "plt.title('Distribution of Exchange Rate Volatility')\n",
        "plt.show()\n",
        "\n",
        "# Set a Threshold (e.g., exclude top 10% of countries with highest volatility)\n",
        "threshold = volatility_distribution.quantile(0.90)\n",
        "print(f\"Chosen Volatility Threshold: {threshold}\")"
      ]
    },
    {
      "cell_type": "markdown",
      "metadata": {},
      "source": [
        "Data rows with a threshold higher than 0.135 will be removed"
      ]
    },
    {
      "cell_type": "code",
      "execution_count": 80,
      "metadata": {},
      "outputs": [
        {
          "name": "stdout",
          "output_type": "stream",
          "text": [
            "     Year  Country ISO3 Continent Ind Code  \\\n",
            "418  2000  Austria  AUT    Europe        A   \n",
            "419  2000  Austria  AUT    Europe        B   \n",
            "420  2000  Austria  AUT    Europe        C   \n",
            "421  2000  Austria  AUT    Europe        D   \n",
            "422  2000  Austria  AUT    Europe        E   \n",
            "\n",
            "                                              Industry         Measure  \\\n",
            "418  Manufacture of food products, beverages and to...  Current prices   \n",
            "419  Manufacture of textiles, wearing apparel, leat...  Current prices   \n",
            "420  Manufacture of wood and of products of wood an...  Current prices   \n",
            "421         Manufacture of paper products and printing  Current prices   \n",
            "422  Manufacture of coke and refined petroleum prod...  Current prices   \n",
            "\n",
            "     Value (LCU)  Value (USD)  Exchange Rate  Volatility  \n",
            "418      3931.90      3631.55       0.923612    0.117874  \n",
            "419      1605.22      1482.60       0.923612    0.117874  \n",
            "420      1702.97      1572.88       0.923610    0.117874  \n",
            "421      3282.55      3031.80       0.923611    0.117874  \n",
            "422      1192.46      1101.37       0.923612    0.117874  \n"
          ]
        }
      ],
      "source": [
        "# Filter for Stable Exchange Rates\n",
        "threshold = 0.135  # Example threshold\n",
        "stable_countries = df_eng2[df_eng2[\"Volatility\"] < threshold][\"Country\"].unique()\n",
        "df_stable = df_eng2[df_eng2[\"Country\"].isin(stable_countries)]\n",
        "print(df_stable.head())"
      ]
    },
    {
      "cell_type": "code",
      "execution_count": 81,
      "metadata": {},
      "outputs": [
        {
          "name": "stdout",
          "output_type": "stream",
          "text": [
            "Year               0\n",
            "Country            0\n",
            "ISO3               0\n",
            "Continent        504\n",
            "Ind Code           0\n",
            "Industry           0\n",
            "Measure            0\n",
            "Value (LCU)        0\n",
            "Value (USD)        0\n",
            "Exchange Rate     34\n",
            "Volatility         0\n",
            "dtype: int64\n"
          ]
        }
      ],
      "source": [
        "missing_data_df_stable = df_stable.isnull().sum()\n",
        "print(missing_data_df_stable)"
      ]
    },
    {
      "cell_type": "code",
      "execution_count": 120,
      "metadata": {},
      "outputs": [
        {
          "name": "stdout",
          "output_type": "stream",
          "text": [
            "Year             0\n",
            "Country          0\n",
            "ISO3             0\n",
            "Continent        0\n",
            "Ind Code         0\n",
            "Industry         0\n",
            "Measure          0\n",
            "Value (LCU)      0\n",
            "Value (USD)      0\n",
            "Exchange Rate    0\n",
            "Volatility       0\n",
            "dtype: int64\n"
          ]
        }
      ],
      "source": [
        "df_eng_final = df_stable.dropna()\n",
        "null = df_eng_final.isnull().sum()\n",
        "print(null)"
      ]
    },
    {
      "cell_type": "code",
      "execution_count": 116,
      "metadata": {},
      "outputs": [
        {
          "data": {
            "text/plain": [
              "array(['Current prices'], dtype=object)"
            ]
          },
          "execution_count": 116,
          "metadata": {},
          "output_type": "execute_result"
        }
      ],
      "source": [
        "# Filter df_eng_final to include only rows with 'Current prices' in the Measure column\n",
        "df_eng_curr = df_eng_final[df_eng_final['Measure'] == 'Current prices']\n",
        "\n",
        "df_eng_curr['Measure'].unique()"
      ]
    },
    {
      "cell_type": "code",
      "execution_count": 117,
      "metadata": {},
      "outputs": [
        {
          "data": {
            "text/plain": [
              "array(['Constant 2015 prices'], dtype=object)"
            ]
          },
          "execution_count": 117,
          "metadata": {},
          "output_type": "execute_result"
        }
      ],
      "source": [
        "# Filter df_eng_final to include only rows with 'Constant 2015 prices' in the Measure column\n",
        "df_eng_const = df_eng_final[df_eng_final['Measure'] == 'Constant 2015 prices']\n",
        "\n",
        "df_eng_const['Measure'].unique()"
      ]
    },
    {
      "cell_type": "markdown",
      "metadata": {},
      "source": [
        "---"
      ]
    },
    {
      "cell_type": "markdown",
      "metadata": {},
      "source": [
        "## GDP Engineering"
      ]
    },
    {
      "cell_type": "markdown",
      "metadata": {},
      "source": [
        "We already made some adjustments to the GDP file, but it needs to be engineered a bit more before we can use it for our analysis."
      ]
    },
    {
      "cell_type": "code",
      "execution_count": 91,
      "metadata": {},
      "outputs": [
        {
          "name": "stdout",
          "output_type": "stream",
          "text": [
            "                       Country ISO3      1999      2000      2001      2002  \\\n",
            "0  Africa Eastern and Southern  AFE  265429.0  287202.0  260992.0  267815.0   \n",
            "\n",
            "       2003      2004      2005      2006  ...      2012      2013      2014  \\\n",
            "0  355716.0  442696.0  516661.0  580241.0  ...  952999.0  962395.0  978708.0   \n",
            "\n",
            "       2015      2016      2017       2018       2019      2020       2021  \n",
            "0  898278.0  828943.0  972999.0  1012310.0  1009720.0  933392.0  1085750.0  \n",
            "\n",
            "[1 rows x 25 columns]\n"
          ]
        }
      ],
      "source": [
        "# Load the GDP cleaned data\n",
        "gdp_cleaned_path = 'c:\\\\Users\\\\sayed\\\\OneDrive\\\\Documents\\\\Code institute\\\\Capstone\\\\Capstone\\\\gdp_cleaned.csv'\n",
        "gdp_cleaned = pd.read_csv(gdp_cleaned_path)\n",
        "\n",
        "# Display the first few rows of the dataframe\n",
        "print(gdp_cleaned.head(1))"
      ]
    },
    {
      "cell_type": "code",
      "execution_count": 92,
      "metadata": {},
      "outputs": [
        {
          "name": "stdout",
          "output_type": "stream",
          "text": [
            "   Country ISO3      1999      2000      2001      2002      2003      2004  \\\n",
            "3  Austria  AUT  216422.0  196182.0  196477.0  212837.0  260780.0  299210.0   \n",
            "5  Belgium  BEL  258246.0  236792.0  236746.0  258384.0  318083.0  369215.0   \n",
            "\n",
            "       2005      2006  ...      2012      2013      2014      2015      2016  \\\n",
            "3  313952.0  333906.0  ...  406750.0  426581.0  438556.0  379546.0  393687.0   \n",
            "5  385715.0  408260.0  ...  498414.0  524097.0  537987.0  461045.0  474272.0   \n",
            "\n",
            "       2017      2018      2019      2020      2021  \n",
            "3  414926.0  452582.0  442984.0  434398.0  480467.0  \n",
            "5  500909.0  542639.0  536726.0  529694.0  598494.0  \n",
            "\n",
            "[2 rows x 25 columns]\n"
          ]
        }
      ],
      "source": [
        "# Make a copy of gdp_cleaned\n",
        "gdp_copy = gdp_cleaned.copy()\n",
        "\n",
        "# Get the list of ISO3 codes in df_eng_curr\n",
        "iso3_codes = df_eng_curr['ISO3'].unique()\n",
        "\n",
        "# Filter gdp_copy to keep only the columns where ISO3 codes are in both datasets\n",
        "gdp_copy = gdp_copy[gdp_copy['ISO3'].isin(iso3_codes)]\n",
        "\n",
        "print(gdp_copy.head(2))"
      ]
    },
    {
      "cell_type": "markdown",
      "metadata": {},
      "source": [
        "We shall remove the last 3 columns from our data as we don't have the latest Value (USD) for some of the major countries like China"
      ]
    },
    {
      "cell_type": "code",
      "execution_count": 93,
      "metadata": {},
      "outputs": [
        {
          "name": "stdout",
          "output_type": "stream",
          "text": [
            "Index(['Country', 'ISO3', '1999', '2000', '2001', '2002', '2003', '2004',\n",
            "       '2005', '2006', '2007', '2008', '2009', '2010', '2011', '2012', '2013',\n",
            "       '2014', '2015', '2016', '2017', '2018'],\n",
            "      dtype='object')\n"
          ]
        }
      ],
      "source": [
        "# Remove the last three columns from gdp_copy\n",
        "gdp_copy = gdp_copy.iloc[:, :-3]\n",
        "\n",
        "# Display the first few rows of the modified dataframe\n",
        "print(gdp_copy.columns)"
      ]
    },
    {
      "cell_type": "markdown",
      "metadata": {},
      "source": [
        "We want to reshape our database so it's suitable for visualistion later. At the moment the year is in long format and we need it in wide format."
      ]
    },
    {
      "cell_type": "code",
      "execution_count": 122,
      "metadata": {},
      "outputs": [
        {
          "name": "stdout",
          "output_type": "stream",
          "text": [
            "   Country ISO3  Year       GDP\n",
            "0  Austria  AUT  2000  196182.0\n",
            "1  Austria  AUT  2001  196477.0\n"
          ]
        }
      ],
      "source": [
        "# Identify year columns\n",
        "year_columns = [str(year) for year in range(2000, 2019)]\n",
        "\n",
        "# Melt (unpivot) the year columns\n",
        "gdp_pivot = pd.melt(gdp_copy, id_vars=['Country', 'ISO3'], value_vars=year_columns,\n",
        "var_name='Year', value_name='GDP')\n",
        "\n",
        "# Convert 'Year' to integer\n",
        "gdp_pivot['Year'] = gdp_pivot['Year'].astype(int)\n",
        "\n",
        "# Sort the DataFrame\n",
        "gdp_pivot = gdp_pivot.sort_values(by=['Country', 'Year'])\n",
        "\n",
        "#Reset the index.\n",
        "gdp_pivot = gdp_pivot.reset_index(drop=True)\n",
        "\n",
        "# Display the first few rows of the modified dataframe\n",
        "print(gdp_pivot.head(2))"
      ]
    },
    {
      "cell_type": "markdown",
      "metadata": {},
      "source": [
        "---"
      ]
    },
    {
      "cell_type": "code",
      "execution_count": 126,
      "metadata": {},
      "outputs": [],
      "source": [
        "# Export df_eng_final to CSV\n",
        "df_eng_final.to_csv('df_eng_final.csv', index=False)\n",
        "\n",
        "# Export industry_reference to CSV\n",
        "industry_reference.to_csv('industry_reference.csv', index=False)\n",
        "\n",
        "# Export df_eng_curr to CSV\n",
        "df_eng_curr.to_csv('df_eng_curr.csv', index=False)\n",
        "\n",
        "# Export df_eng_const to CSV\n",
        "df_eng_const.to_csv('df_eng_const.csv', index=False)\n",
        "\n",
        "# export gdp pivot to csv\n",
        "gdp_pivot.to_csv('gdp_pivot.csv', index=False)"
      ]
    }
  ],
  "metadata": {
    "accelerator": "GPU",
    "colab": {
      "name": "Data Practitioner Jupyter Notebook.ipynb",
      "provenance": [],
      "toc_visible": true
    },
    "kernelspec": {
      "display_name": ".venv",
      "language": "python",
      "name": "python3"
    },
    "language_info": {
      "codemirror_mode": {
        "name": "ipython",
        "version": 3
      },
      "file_extension": ".py",
      "mimetype": "text/x-python",
      "name": "python",
      "nbconvert_exporter": "python",
      "pygments_lexer": "ipython3",
      "version": "3.12.8"
    },
    "orig_nbformat": 2
  },
  "nbformat": 4,
  "nbformat_minor": 2
}
