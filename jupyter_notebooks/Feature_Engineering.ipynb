{
  "cells": [
    {
      "cell_type": "markdown",
      "metadata": {
        "id": "0aStgWSO0E0E"
      },
      "source": [
        "# **Feature Engineering**"
      ]
    },
    {
      "cell_type": "markdown",
      "metadata": {
        "id": "1eLEkw5O0ECa"
      },
      "source": [
        "## Objectives\n",
        "To engineer the data sets to make them ready for EDA\n",
        "\n",
        "## Inputs\n",
        "\n",
        "* cleaned_data.csv \n",
        "* gdp_cleaned\n",
        "\n",
        "## Outputs\n",
        "\n",
        "* df_eng_final\n",
        "* gdp_final \n"
      ]
    },
    {
      "cell_type": "markdown",
      "metadata": {
        "id": "9uWZXH9LwoQg"
      },
      "source": [
        "---"
      ]
    },
    {
      "cell_type": "markdown",
      "metadata": {
        "id": "cqP-UeN-z3i2"
      },
      "source": [
        "# Change working directory"
      ]
    },
    {
      "cell_type": "markdown",
      "metadata": {},
      "source": [
        "* We are assuming you will store the notebooks in a subfolder, therefore when running the notebook in the editor, you will need to change the working directory"
      ]
    },
    {
      "cell_type": "markdown",
      "metadata": {
        "id": "aOGIGS-uz3i2"
      },
      "source": [
        "We need to change the working directory from its current folder to its parent folder\n",
        "* We access the current directory with os.getcwd()"
      ]
    },
    {
      "cell_type": "code",
      "execution_count": 1,
      "metadata": {
        "id": "wZfF_j-Bz3i4",
        "outputId": "66943449-1436-4c3d-85c7-b85f9f78349b"
      },
      "outputs": [
        {
          "data": {
            "text/plain": [
              "'c:\\\\Users\\\\sayed\\\\OneDrive\\\\Documents\\\\Code institute\\\\Capstone\\\\Capstone\\\\jupyter_notebooks'"
            ]
          },
          "execution_count": 1,
          "metadata": {},
          "output_type": "execute_result"
        }
      ],
      "source": [
        "# import os\n",
        "import os\n",
        "current_dir = os.getcwd()\n",
        "current_dir"
      ]
    },
    {
      "cell_type": "markdown",
      "metadata": {
        "id": "9MWW8E7lz3i7"
      },
      "source": [
        "We want to make the parent of the current directory the new current directory\n",
        "* os.path.dirname() gets the parent directory\n",
        "* os.chir() defines the new current directory"
      ]
    },
    {
      "cell_type": "code",
      "execution_count": 2,
      "metadata": {
        "id": "TwHsQRWjz3i9",
        "outputId": "86849db3-cd2f-4cc5-ebb8-2d0caafa1a2c"
      },
      "outputs": [
        {
          "name": "stdout",
          "output_type": "stream",
          "text": [
            "You set a new current directory\n"
          ]
        }
      ],
      "source": [
        "# change the current directory\n",
        "os.chdir(os.path.dirname(current_dir))\n",
        "print(\"You set a new current directory\")"
      ]
    },
    {
      "cell_type": "markdown",
      "metadata": {
        "id": "M_xPk_Ijz3i-"
      },
      "source": [
        "Confirm the new current directory"
      ]
    },
    {
      "cell_type": "code",
      "execution_count": 3,
      "metadata": {
        "id": "vz3S-_kjz3jA",
        "outputId": "00b79ae4-75d0-4a96-d193-ac9ef9847ea2"
      },
      "outputs": [
        {
          "data": {
            "text/plain": [
              "'c:\\\\Users\\\\sayed\\\\OneDrive\\\\Documents\\\\Code institute\\\\Capstone\\\\Capstone'"
            ]
          },
          "execution_count": 3,
          "metadata": {},
          "output_type": "execute_result"
        }
      ],
      "source": [
        "# get the current directory\n",
        "current_dir = os.getcwd()\n",
        "current_dir"
      ]
    },
    {
      "cell_type": "code",
      "execution_count": 4,
      "metadata": {},
      "outputs": [],
      "source": [
        "# Import libraries\n",
        "import pandas as pd\n",
        "import numpy as np\n",
        "import matplotlib.pyplot as plt\n",
        "import seaborn as sns\n",
        "import plotly.express as px"
      ]
    },
    {
      "cell_type": "code",
      "execution_count": 33,
      "metadata": {},
      "outputs": [
        {
          "name": "stdout",
          "output_type": "stream",
          "text": [
            "  Country ISO3    Country  Year ISIC Division  \\\n",
            "0          ARG  Argentina  2000         10-12   \n",
            "1          ARG  Argentina  2000         13-15   \n",
            "\n",
            "                                  ISIC Division Desc         Measure  \\\n",
            "0  Manufacture of food products, beverages and to...  Current prices   \n",
            "1  Manufacture of textiles, wearing apparel, leat...  Current prices   \n",
            "\n",
            "   Value LCU (million national currency)  Value USD (million USD)  \n",
            "0                               16986.10                  16994.6  \n",
            "1                                5944.13                   5947.1  \n"
          ]
        }
      ],
      "source": [
        "# Load the cleaned data\n",
        "cleaned_data_path = 'c:\\\\Users\\\\sayed\\\\OneDrive\\\\Documents\\\\Code institute\\\\Capstone\\\\Capstone\\\\cleaned_data.csv'\n",
        "cleaned_data = pd.read_csv(cleaned_data_path)\n",
        "\n",
        "# Display the first few rows of the dataframe\n",
        "print(cleaned_data.head(2))"
      ]
    },
    {
      "cell_type": "markdown",
      "metadata": {
        "id": "ZY3l0-AxO93d"
      },
      "source": [
        "---"
      ]
    },
    {
      "cell_type": "markdown",
      "metadata": {},
      "source": [
        "## Feature engineering"
      ]
    },
    {
      "cell_type": "markdown",
      "metadata": {},
      "source": [
        "Now let us adjust some of the column names we have to make it easier for our analysis"
      ]
    },
    {
      "cell_type": "code",
      "execution_count": 34,
      "metadata": {},
      "outputs": [
        {
          "name": "stdout",
          "output_type": "stream",
          "text": [
            "Index(['ISO3', 'Country', 'Year', 'Ind Code', 'Industry', 'Measure',\n",
            "       'Value (LCU)', 'Value (USD)'],\n",
            "      dtype='object')\n"
          ]
        }
      ],
      "source": [
        "# Make a copy of cleaned_data\n",
        "df_eng = cleaned_data.copy()\n",
        "\n",
        "# Rename columns\n",
        "df_eng.rename(columns={\n",
        "    'Country ISO3': 'ISO3',\n",
        "    'ISIC Division': 'Ind Code',\n",
        "    'ISIC Division Desc': 'Industry',\n",
        "    'Value LCU (million national currency)': 'Value (LCU)',\n",
        "    'Value USD (million USD)': 'Value (USD)'\n",
        "}, inplace=True)\n",
        "\n",
        "print(df_eng.columns)"
      ]
    },
    {
      "cell_type": "markdown",
      "metadata": {},
      "source": [
        "We dropped the (millions) from the Value columns. We'll display in our axis or the title in our graphs to let the user know the units"
      ]
    },
    {
      "cell_type": "code",
      "execution_count": 35,
      "metadata": {},
      "outputs": [
        {
          "name": "stdout",
          "output_type": "stream",
          "text": [
            "['Manufacture of food products, beverages and tobacco products'\n",
            " 'Manufacture of textiles, wearing apparel, leather and related products'\n",
            " 'Manufacture of wood and of products of wood and cork, except furniture; manufacture of articles of straw and plaiting materials'\n",
            " 'Manufacture of paper products and printing'\n",
            " 'Manufacture of coke and refined petroleum products'\n",
            " 'Manufacturing of chemicals and pharmaceutical products'\n",
            " 'Manufacture of rubber and plastics products'\n",
            " 'Manufacture of other non-metallic mineral products'\n",
            " 'Manufacture of basic metals'\n",
            " 'Manufacture of fabricated metal products, machinery and equipment'\n",
            " 'Manufacture of transport equipment'\n",
            " 'Manufacture of furniture, other manufacturing']\n"
          ]
        }
      ],
      "source": [
        "# Check to see the names of the industries\n",
        "unique_measures = df_eng['Industry'].unique()\n",
        "print(unique_measures)"
      ]
    },
    {
      "cell_type": "markdown",
      "metadata": {},
      "source": [
        "Looking at the data, there isn't any obvious short form words or abbreviations I can use to describe each industry so I will just be using the letters A-L, and the user can refer to a reference list to see what each letter represents"
      ]
    },
    {
      "cell_type": "code",
      "execution_count": 36,
      "metadata": {},
      "outputs": [
        {
          "name": "stdout",
          "output_type": "stream",
          "text": [
            "['10-12' '13-15' '16' '17-18' '19' '20-21' '22' '23' '24' '25-28' '29-30'\n",
            " '31-32']\n"
          ]
        }
      ],
      "source": [
        "# Check the values of Ind Code column\n",
        "unique_measures = df_eng['Ind Code'].unique()\n",
        "print(unique_measures)"
      ]
    },
    {
      "cell_type": "code",
      "execution_count": 37,
      "metadata": {},
      "outputs": [
        {
          "name": "stdout",
          "output_type": "stream",
          "text": [
            "['A' 'B' 'C' 'D' 'E' 'F' 'G' 'H' 'I' 'J' 'K' 'L']\n"
          ]
        }
      ],
      "source": [
        "# Mapping dictionary\n",
        "ind_code_mapping = {\n",
        "    '10-12': 'A',\n",
        "    '13-15': 'B',\n",
        "    '16': 'C',\n",
        "    '17-18': 'D',\n",
        "    '19': 'E',\n",
        "    '20-21': 'F',\n",
        "    '22': 'G',\n",
        "    '23': 'H',\n",
        "    '24': 'I',\n",
        "    '25-28': 'J',\n",
        "    '29-30': 'K',\n",
        "    '31-32': 'L'\n",
        "}\n",
        "\n",
        "# Replace 'Div Code' values\n",
        "df_eng['Ind Code'] = df_eng['Ind Code'].replace(ind_code_mapping)\n",
        "\n",
        "print(df_eng['Ind Code'].unique())"
      ]
    },
    {
      "cell_type": "markdown",
      "metadata": {},
      "source": [
        "I want to add a new column that shows indicates which continent the country is from. This will be useful later when we want to compare for example Europe vs America "
      ]
    },
    {
      "cell_type": "code",
      "execution_count": 38,
      "metadata": {},
      "outputs": [
        {
          "data": {
            "text/plain": [
              "array(['Argentina', 'Australia', 'Austria', 'Belgium', 'Brazil',\n",
              "       'Brunei Darussalam', 'Bulgaria', 'Cambodia', 'Canada', 'Chile',\n",
              "       'Chinese Taipei', 'Colombia', 'Costa Rica', 'Croatia', 'Cyprus',\n",
              "       'Czech Republic', 'Denmark', 'Estonia', 'Finland', 'France',\n",
              "       'Germany', 'Greece', 'Hong Kong', 'Hungary', 'Iceland', 'India',\n",
              "       'Indonesia', 'Ireland', 'Italy', 'Japan', 'Kazakhstan', 'Korea',\n",
              "       'Laos', 'Latvia', 'Lithuania', 'Luxembourg', 'Malaysia', 'Malta',\n",
              "       'Mexico', 'Morocco', 'Myanmar', 'New Zealand', 'North Macedonia',\n",
              "       'Norway', 'China', 'Peru', 'Philippines', 'Poland', 'Portugal',\n",
              "       'Romania', 'Russian Federation', 'Saudi Arabia', 'Serbia',\n",
              "       'Singapore', 'Slovak Republic', 'Slovenia', 'South Africa',\n",
              "       'Spain', 'Sweden', 'Switzerland', 'Thailand', 'Netherlands',\n",
              "       'Tunisia', 'Turkey', 'United Kingdom', 'United States', 'Viet Nam'],\n",
              "      dtype=object)"
            ]
          },
          "execution_count": 38,
          "metadata": {},
          "output_type": "execute_result"
        }
      ],
      "source": [
        "# Check the unique values of the 'Country' column\n",
        "df_eng['Country'].unique()"
      ]
    },
    {
      "cell_type": "code",
      "execution_count": 39,
      "metadata": {},
      "outputs": [
        {
          "data": {
            "application/vnd.microsoft.datawrangler.viewer.v0+json": {
              "columns": [
                {
                  "name": "index",
                  "rawType": "int64",
                  "type": "integer"
                },
                {
                  "name": "ISO3",
                  "rawType": "object",
                  "type": "string"
                },
                {
                  "name": "Country",
                  "rawType": "object",
                  "type": "string"
                },
                {
                  "name": "Year",
                  "rawType": "int64",
                  "type": "integer"
                },
                {
                  "name": "Ind Code",
                  "rawType": "object",
                  "type": "string"
                },
                {
                  "name": "Industry",
                  "rawType": "object",
                  "type": "string"
                },
                {
                  "name": "Measure",
                  "rawType": "object",
                  "type": "string"
                },
                {
                  "name": "Value (LCU)",
                  "rawType": "float64",
                  "type": "float"
                },
                {
                  "name": "Value (USD)",
                  "rawType": "float64",
                  "type": "float"
                }
              ],
              "conversionMethod": "pd.DataFrame",
              "ref": "e68bac16-e517-4bc2-af90-995fa18c3d09",
              "rows": [
                [
                  "0",
                  "ARG",
                  "Argentina",
                  "2000",
                  "A",
                  "Manufacture of food products, beverages and tobacco products",
                  "Current prices",
                  "16986.1",
                  "16994.6"
                ],
                [
                  "1",
                  "ARG",
                  "Argentina",
                  "2000",
                  "B",
                  "Manufacture of textiles, wearing apparel, leather and related products",
                  "Current prices",
                  "5944.13",
                  "5947.1"
                ],
                [
                  "2",
                  "ARG",
                  "Argentina",
                  "2000",
                  "C",
                  "Manufacture of wood and of products of wood and cork, except furniture; manufacture of articles of straw and plaiting materials",
                  "Current prices",
                  "1551.72",
                  "1552.5"
                ],
                [
                  "3",
                  "ARG",
                  "Argentina",
                  "2000",
                  "D",
                  "Manufacture of paper products and printing",
                  "Current prices",
                  "4567.81",
                  "4570.1"
                ],
                [
                  "4",
                  "ARG",
                  "Argentina",
                  "2000",
                  "E",
                  "Manufacture of coke and refined petroleum products",
                  "Current prices",
                  "2938.13",
                  "2939.6"
                ]
              ],
              "shape": {
                "columns": 8,
                "rows": 5
              }
            },
            "text/html": [
              "<div>\n",
              "<style scoped>\n",
              "    .dataframe tbody tr th:only-of-type {\n",
              "        vertical-align: middle;\n",
              "    }\n",
              "\n",
              "    .dataframe tbody tr th {\n",
              "        vertical-align: top;\n",
              "    }\n",
              "\n",
              "    .dataframe thead th {\n",
              "        text-align: right;\n",
              "    }\n",
              "</style>\n",
              "<table border=\"1\" class=\"dataframe\">\n",
              "  <thead>\n",
              "    <tr style=\"text-align: right;\">\n",
              "      <th></th>\n",
              "      <th>ISO3</th>\n",
              "      <th>Country</th>\n",
              "      <th>Year</th>\n",
              "      <th>Ind Code</th>\n",
              "      <th>Industry</th>\n",
              "      <th>Measure</th>\n",
              "      <th>Value (LCU)</th>\n",
              "      <th>Value (USD)</th>\n",
              "    </tr>\n",
              "  </thead>\n",
              "  <tbody>\n",
              "    <tr>\n",
              "      <th>0</th>\n",
              "      <td>ARG</td>\n",
              "      <td>Argentina</td>\n",
              "      <td>2000</td>\n",
              "      <td>A</td>\n",
              "      <td>Manufacture of food products, beverages and to...</td>\n",
              "      <td>Current prices</td>\n",
              "      <td>16986.10</td>\n",
              "      <td>16994.6</td>\n",
              "    </tr>\n",
              "    <tr>\n",
              "      <th>1</th>\n",
              "      <td>ARG</td>\n",
              "      <td>Argentina</td>\n",
              "      <td>2000</td>\n",
              "      <td>B</td>\n",
              "      <td>Manufacture of textiles, wearing apparel, leat...</td>\n",
              "      <td>Current prices</td>\n",
              "      <td>5944.13</td>\n",
              "      <td>5947.1</td>\n",
              "    </tr>\n",
              "    <tr>\n",
              "      <th>2</th>\n",
              "      <td>ARG</td>\n",
              "      <td>Argentina</td>\n",
              "      <td>2000</td>\n",
              "      <td>C</td>\n",
              "      <td>Manufacture of wood and of products of wood an...</td>\n",
              "      <td>Current prices</td>\n",
              "      <td>1551.72</td>\n",
              "      <td>1552.5</td>\n",
              "    </tr>\n",
              "    <tr>\n",
              "      <th>3</th>\n",
              "      <td>ARG</td>\n",
              "      <td>Argentina</td>\n",
              "      <td>2000</td>\n",
              "      <td>D</td>\n",
              "      <td>Manufacture of paper products and printing</td>\n",
              "      <td>Current prices</td>\n",
              "      <td>4567.81</td>\n",
              "      <td>4570.1</td>\n",
              "    </tr>\n",
              "    <tr>\n",
              "      <th>4</th>\n",
              "      <td>ARG</td>\n",
              "      <td>Argentina</td>\n",
              "      <td>2000</td>\n",
              "      <td>E</td>\n",
              "      <td>Manufacture of coke and refined petroleum prod...</td>\n",
              "      <td>Current prices</td>\n",
              "      <td>2938.13</td>\n",
              "      <td>2939.6</td>\n",
              "    </tr>\n",
              "  </tbody>\n",
              "</table>\n",
              "</div>"
            ],
            "text/plain": [
              "  ISO3    Country  Year Ind Code  \\\n",
              "0  ARG  Argentina  2000        A   \n",
              "1  ARG  Argentina  2000        B   \n",
              "2  ARG  Argentina  2000        C   \n",
              "3  ARG  Argentina  2000        D   \n",
              "4  ARG  Argentina  2000        E   \n",
              "\n",
              "                                            Industry         Measure  \\\n",
              "0  Manufacture of food products, beverages and to...  Current prices   \n",
              "1  Manufacture of textiles, wearing apparel, leat...  Current prices   \n",
              "2  Manufacture of wood and of products of wood an...  Current prices   \n",
              "3         Manufacture of paper products and printing  Current prices   \n",
              "4  Manufacture of coke and refined petroleum prod...  Current prices   \n",
              "\n",
              "   Value (LCU)  Value (USD)  \n",
              "0     16986.10      16994.6  \n",
              "1      5944.13       5947.1  \n",
              "2      1551.72       1552.5  \n",
              "3      4567.81       4570.1  \n",
              "4      2938.13       2939.6  "
            ]
          },
          "execution_count": 39,
          "metadata": {},
          "output_type": "execute_result"
        }
      ],
      "source": [
        "# sort the dataframe by 'Country' and 'Year'\n",
        "df_eng = df_eng.sort_values(by=['Country', 'Year'])\n",
        "df_eng.head()"
      ]
    },
    {
      "cell_type": "code",
      "execution_count": 40,
      "metadata": {
        "vscode": {
          "languageId": "ruby"
        }
      },
      "outputs": [
        {
          "name": "stdout",
          "output_type": "stream",
          "text": [
            "['South America' 'Oceania' 'Europe' 'Asia' 'North America' 'Africa'\n",
            " 'Middle East']\n"
          ]
        }
      ],
      "source": [
        "# Mapping dictionary for countries to continents\n",
        "country_to_continent = {\n",
        "    'Argentina': 'South America', \n",
        "    'Australia': 'Oceania', \n",
        "    'Austria': 'Europe', \n",
        "    'Belgium': 'Europe', \n",
        "    'Brazil': 'South America',\n",
        "    'Brunei Darussalam': 'Asia', \n",
        "    'Bulgaria': 'South America', \n",
        "    'Cambodia': 'South America', \n",
        "    'Canada': 'North America', \n",
        "    'Chile': 'South America',\n",
        "    'China': 'Asia',\n",
        "    'Chinese Taipei': 'Asia', \n",
        "    'Colombia': 'South America', \n",
        "    'Costa Rica': 'South America', \n",
        "    'Croatia': 'Europe', \n",
        "    'Cyprus': 'Europe',\n",
        "    'Czech Republic': 'Europe', \n",
        "    'Denmark': 'Europe', \n",
        "    'Estonia': 'Europe', \n",
        "    'Finland': 'Europe', \n",
        "    'France': 'Europe',\n",
        "    'Germany': 'Europe', \n",
        "    'Greece': 'Europe', \n",
        "    'Hong Kong': 'Asia', \n",
        "    'Hungary': 'Europe', \n",
        "    'Iceland': 'Europe', \n",
        "    'India': 'Asia',\n",
        "    'Indonesia': 'Asia', \n",
        "    'Ireland': 'Europe', \n",
        "    'Italy': 'Europe', \n",
        "    'Japan': 'Asia', \n",
        "    'Kazakhstan': 'Asia',\n",
        "    'Korea': 'Asia', \n",
        "    'Laos': 'Asia', \n",
        "    'Latvia': 'Europe', \n",
        "    'Lithuania': 'Europe', \n",
        "    'Luxembourg': 'Europe', \n",
        "    'Malaysia': 'Asia',\n",
        "    'Malta': 'Europe', \n",
        "    'Mexico': 'South America', \n",
        "    'Morocco': 'Africa', \n",
        "    'Myanmar': 'Asia', \n",
        "    'New Zealand': 'Oceania',\n",
        "    'Netherlands': 'Europe',\n",
        "    'North Macedonia': 'Europe', \n",
        "    'Norway': 'Europe', \n",
        "    'Peru': 'South America',\n",
        "    'Philippines': 'Asia', \n",
        "    'Poland': 'Europe', \n",
        "    'Portugal': 'Europe', \n",
        "    'Romania': 'Europe',\n",
        "    'Russian Federation': 'Europe', \n",
        "    'Saudi Arabia': 'Middle East', \n",
        "    'Serbia': 'Europe', \n",
        "    'Singapore': 'Asia',\n",
        "    'Slovak Republic': 'Europe', \n",
        "    'Slovenia': 'Europe', \n",
        "    'South Africa': 'Africa', \n",
        "    'Spain': 'Europe', \n",
        "    'Sweden': 'Europe',\n",
        "    'Switzerland': 'Europe', \n",
        "    'Thailand': 'Asia', \n",
        "    'Tunisia': 'Africa', \n",
        "    'Turkey': 'Middle East',\n",
        "    'United Kingdom': 'Europe', \n",
        "    'United States': 'North America', \n",
        "    'Viet Nam': 'Asia'\n",
        "}\n",
        "\n",
        "# Add 'Continent' column to df_eng\n",
        "df_eng['Continent'] = df_eng['Country'].map(country_to_continent)\n",
        "\n",
        "print(df_eng['Continent'].unique())"
      ]
    },
    {
      "cell_type": "markdown",
      "metadata": {},
      "source": [
        "Let re-order the columns to make it look more logical"
      ]
    },
    {
      "cell_type": "code",
      "execution_count": 13,
      "metadata": {
        "vscode": {
          "languageId": "ruby"
        }
      },
      "outputs": [
        {
          "name": "stdout",
          "output_type": "stream",
          "text": [
            "Index(['Year', 'Country', 'ISO3', 'Continent', 'Ind Code', 'Industry',\n",
            "       'Measure', 'Value (LCU)', 'Value (USD)'],\n",
            "      dtype='object')\n"
          ]
        }
      ],
      "source": [
        "# Order of the columns\n",
        "desired_order = ['Year','Country', 'ISO3', 'Continent', 'Ind Code', 'Industry','Measure','Value (LCU)','Value (USD)']\n",
        "\n",
        "# Reorder the columns\n",
        "df_eng = df_eng[desired_order]\n",
        "\n",
        "# Print the DataFrame to verify the new order\n",
        "print(df_eng.columns)"
      ]
    },
    {
      "cell_type": "markdown",
      "metadata": {},
      "source": [
        "We can drop the measure column as well since it only has current prices"
      ]
    },
    {
      "cell_type": "code",
      "execution_count": 41,
      "metadata": {},
      "outputs": [
        {
          "name": "stdout",
          "output_type": "stream",
          "text": [
            "Index(['ISO3', 'Country', 'Year', 'Ind Code', 'Industry', 'Value (LCU)',\n",
            "       'Value (USD)', 'Continent'],\n",
            "      dtype='object')\n"
          ]
        }
      ],
      "source": [
        "# Drop the Measure column\n",
        "df_eng = df_eng.drop(columns=['Measure'])\n",
        "\n",
        "# Print the DataFrame to verify the column has been dropped\n",
        "print(df_eng.columns)"
      ]
    },
    {
      "cell_type": "markdown",
      "metadata": {},
      "source": [
        "---"
      ]
    },
    {
      "cell_type": "markdown",
      "metadata": {},
      "source": [
        "### Exchange rate"
      ]
    },
    {
      "cell_type": "markdown",
      "metadata": {},
      "source": [
        "We want to add an extra column to our dataset that has the exchange rate for each country in that specific year. This is essential in explaining the data. Growth in an industry might be due to a more favourable exchange rate rather than genuine economic growth. We'll make a function that can calculate this field"
      ]
    },
    {
      "cell_type": "code",
      "execution_count": 42,
      "metadata": {
        "vscode": {
          "languageId": "ruby"
        }
      },
      "outputs": [],
      "source": [
        "def exchange_rate_column(df, usd_column, lcu_column, new_column_name='Exchange Rate'):\n",
        "    \"\"\"\n",
        "    Creates an exchange rate column in a Pandas DataFrame.\n",
        "\n",
        "    Args:\n",
        "        df: Pandas DataFrame containing USD and LCU columns.\n",
        "        usd_column: Name of the column containing USD values.\n",
        "        lcu_column: Name of the column containing LCU values.\n",
        "        new_column_name: Name for the new exchange rate column.\n",
        "\n",
        "    Returns:\n",
        "        Pandas DataFrame with the new exchange rate column.\n",
        "    \"\"\"\n",
        "\n",
        "    df = df.copy() #important to avoid changing the original dataframe.\n",
        "\n",
        "    try:\n",
        "        df[new_column_name] = df[usd_column] / df[lcu_column]\n",
        "    except ZeroDivisionError:\n",
        "        print(\"Warning: Division by zero encountered. Ensure LCU column does not contain zeros.\")\n",
        "        df[new_column_name] = None # Or some other handling of the error.\n",
        "    except KeyError as e:\n",
        "        print(f\"Error: Column '{e}' not found in DataFrame.\")\n",
        "        return None #or handle the error in an appropriate way.\n",
        "\n",
        "    return df"
      ]
    },
    {
      "cell_type": "code",
      "execution_count": 43,
      "metadata": {
        "vscode": {
          "languageId": "ruby"
        }
      },
      "outputs": [
        {
          "name": "stdout",
          "output_type": "stream",
          "text": [
            "  ISO3    Country  Year Ind Code  \\\n",
            "0  ARG  Argentina  2000        A   \n",
            "1  ARG  Argentina  2000        B   \n",
            "2  ARG  Argentina  2000        C   \n",
            "\n",
            "                                            Industry  Value (LCU)  \\\n",
            "0  Manufacture of food products, beverages and to...     16986.10   \n",
            "1  Manufacture of textiles, wearing apparel, leat...      5944.13   \n",
            "2  Manufacture of wood and of products of wood an...      1551.72   \n",
            "\n",
            "   Value (USD)      Continent  Exchange Rate  \n",
            "0      16994.6  South America       1.000500  \n",
            "1       5947.1  South America       1.000500  \n",
            "2       1552.5  South America       1.000503  \n"
          ]
        }
      ],
      "source": [
        "df_eng2 = exchange_rate_column(df_eng, 'Value (USD)', 'Value (LCU)')\n",
        "print(df_eng2.head(3))"
      ]
    },
    {
      "cell_type": "markdown",
      "metadata": {},
      "source": [
        "For ease of use, we'll make a dataframe that has the Industry Codes and Industry, so we can produce it as a handy table throughout the EDA as a reference for the reader "
      ]
    },
    {
      "cell_type": "code",
      "execution_count": 44,
      "metadata": {},
      "outputs": [
        {
          "data": {
            "application/vnd.microsoft.datawrangler.viewer.v0+json": {
              "columns": [
                {
                  "name": "index",
                  "rawType": "int64",
                  "type": "integer"
                },
                {
                  "name": "Ind Code",
                  "rawType": "object",
                  "type": "string"
                },
                {
                  "name": "Industry",
                  "rawType": "object",
                  "type": "string"
                }
              ],
              "conversionMethod": "pd.DataFrame",
              "ref": "a11a7993-0ac8-4c03-b200-b306c31e2b19",
              "rows": [
                [
                  "0",
                  "A",
                  "Manufacture of food products, beverages and tobacco products"
                ],
                [
                  "1",
                  "B",
                  "Manufacture of textiles, wearing apparel, leather and related products"
                ],
                [
                  "2",
                  "C",
                  "Manufacture of wood and of products of wood and cork, except furniture; manufacture of articles of straw and plaiting materials"
                ],
                [
                  "3",
                  "D",
                  "Manufacture of paper products and printing"
                ],
                [
                  "4",
                  "E",
                  "Manufacture of coke and refined petroleum products"
                ],
                [
                  "5",
                  "F",
                  "Manufacturing of chemicals and pharmaceutical products"
                ],
                [
                  "6",
                  "G",
                  "Manufacture of rubber and plastics products"
                ],
                [
                  "7",
                  "H",
                  "Manufacture of other non-metallic mineral products"
                ],
                [
                  "8",
                  "I",
                  "Manufacture of basic metals"
                ],
                [
                  "9",
                  "J",
                  "Manufacture of fabricated metal products, machinery and equipment"
                ],
                [
                  "10",
                  "K",
                  "Manufacture of transport equipment"
                ],
                [
                  "11",
                  "L",
                  "Manufacture of furniture, other manufacturing"
                ]
              ],
              "shape": {
                "columns": 2,
                "rows": 12
              }
            },
            "text/html": [
              "<div>\n",
              "<style scoped>\n",
              "    .dataframe tbody tr th:only-of-type {\n",
              "        vertical-align: middle;\n",
              "    }\n",
              "\n",
              "    .dataframe tbody tr th {\n",
              "        vertical-align: top;\n",
              "    }\n",
              "\n",
              "    .dataframe thead th {\n",
              "        text-align: right;\n",
              "    }\n",
              "</style>\n",
              "<table border=\"1\" class=\"dataframe\">\n",
              "  <thead>\n",
              "    <tr style=\"text-align: right;\">\n",
              "      <th></th>\n",
              "      <th>Ind Code</th>\n",
              "      <th>Industry</th>\n",
              "    </tr>\n",
              "  </thead>\n",
              "  <tbody>\n",
              "    <tr>\n",
              "      <th>0</th>\n",
              "      <td>A</td>\n",
              "      <td>Manufacture of food products, beverages and to...</td>\n",
              "    </tr>\n",
              "    <tr>\n",
              "      <th>1</th>\n",
              "      <td>B</td>\n",
              "      <td>Manufacture of textiles, wearing apparel, leat...</td>\n",
              "    </tr>\n",
              "    <tr>\n",
              "      <th>2</th>\n",
              "      <td>C</td>\n",
              "      <td>Manufacture of wood and of products of wood an...</td>\n",
              "    </tr>\n",
              "    <tr>\n",
              "      <th>3</th>\n",
              "      <td>D</td>\n",
              "      <td>Manufacture of paper products and printing</td>\n",
              "    </tr>\n",
              "    <tr>\n",
              "      <th>4</th>\n",
              "      <td>E</td>\n",
              "      <td>Manufacture of coke and refined petroleum prod...</td>\n",
              "    </tr>\n",
              "    <tr>\n",
              "      <th>5</th>\n",
              "      <td>F</td>\n",
              "      <td>Manufacturing of chemicals and pharmaceutical ...</td>\n",
              "    </tr>\n",
              "    <tr>\n",
              "      <th>6</th>\n",
              "      <td>G</td>\n",
              "      <td>Manufacture of rubber and plastics products</td>\n",
              "    </tr>\n",
              "    <tr>\n",
              "      <th>7</th>\n",
              "      <td>H</td>\n",
              "      <td>Manufacture of other non-metallic mineral prod...</td>\n",
              "    </tr>\n",
              "    <tr>\n",
              "      <th>8</th>\n",
              "      <td>I</td>\n",
              "      <td>Manufacture of basic metals</td>\n",
              "    </tr>\n",
              "    <tr>\n",
              "      <th>9</th>\n",
              "      <td>J</td>\n",
              "      <td>Manufacture of fabricated metal products, mach...</td>\n",
              "    </tr>\n",
              "    <tr>\n",
              "      <th>10</th>\n",
              "      <td>K</td>\n",
              "      <td>Manufacture of transport equipment</td>\n",
              "    </tr>\n",
              "    <tr>\n",
              "      <th>11</th>\n",
              "      <td>L</td>\n",
              "      <td>Manufacture of furniture, other manufacturing</td>\n",
              "    </tr>\n",
              "  </tbody>\n",
              "</table>\n",
              "</div>"
            ],
            "text/plain": [
              "   Ind Code                                           Industry\n",
              "0         A  Manufacture of food products, beverages and to...\n",
              "1         B  Manufacture of textiles, wearing apparel, leat...\n",
              "2         C  Manufacture of wood and of products of wood an...\n",
              "3         D         Manufacture of paper products and printing\n",
              "4         E  Manufacture of coke and refined petroleum prod...\n",
              "5         F  Manufacturing of chemicals and pharmaceutical ...\n",
              "6         G        Manufacture of rubber and plastics products\n",
              "7         H  Manufacture of other non-metallic mineral prod...\n",
              "8         I                        Manufacture of basic metals\n",
              "9         J  Manufacture of fabricated metal products, mach...\n",
              "10        K                 Manufacture of transport equipment\n",
              "11        L      Manufacture of furniture, other manufacturing"
            ]
          },
          "execution_count": 44,
          "metadata": {},
          "output_type": "execute_result"
        }
      ],
      "source": [
        "# Create a DataFrame with Ind Code and Industry\n",
        "industry_reference = df_eng[['Ind Code', 'Industry']].drop_duplicates().reset_index(drop=True)\n",
        "\n",
        "# Display the DataFrame\n",
        "industry_reference"
      ]
    },
    {
      "cell_type": "markdown",
      "metadata": {},
      "source": [
        "---"
      ]
    },
    {
      "cell_type": "markdown",
      "metadata": {},
      "source": [
        "## Volatility"
      ]
    },
    {
      "cell_type": "markdown",
      "metadata": {},
      "source": [
        "We shall add a column for volatility. This is measured by calculating the standard deviation(std) of the exhange rate. A high volatility/std means the exhange rate was unstable which can introduce higher risks for USD based investors"
      ]
    },
    {
      "cell_type": "code",
      "execution_count": 45,
      "metadata": {},
      "outputs": [
        {
          "name": "stderr",
          "output_type": "stream",
          "text": [
            "c:\\Users\\sayed\\OneDrive\\Documents\\Code institute\\Capstone\\Capstone\\.venv\\Lib\\site-packages\\pandas\\core\\nanops.py:1010: RuntimeWarning: invalid value encountered in subtract\n",
            "  sqr = _ensure_numeric((avg - values) ** 2)\n"
          ]
        }
      ],
      "source": [
        "# Calculate Volatility\n",
        "df_eng2[\"Volatility\"] = df_eng2.groupby('Country')['Exchange Rate'].transform(lambda x: x.std())\n"
      ]
    },
    {
      "cell_type": "code",
      "execution_count": 19,
      "metadata": {},
      "outputs": [
        {
          "name": "stdout",
          "output_type": "stream",
          "text": [
            "   Year    Country ISO3      Continent Ind Code  \\\n",
            "0  2000  Argentina  ARG  South America        A   \n",
            "1  2000  Argentina  ARG  South America        B   \n",
            "2  2000  Argentina  ARG  South America        C   \n",
            "3  2000  Argentina  ARG  South America        D   \n",
            "4  2000  Argentina  ARG  South America        E   \n",
            "\n",
            "                                            Industry  Value (LCU)  \\\n",
            "0  Manufacture of food products, beverages and to...     16986.10   \n",
            "1  Manufacture of textiles, wearing apparel, leat...      5944.13   \n",
            "2  Manufacture of wood and of products of wood an...      1551.72   \n",
            "3         Manufacture of paper products and printing      4567.81   \n",
            "4  Manufacture of coke and refined petroleum prod...      2938.13   \n",
            "\n",
            "   Value (USD)  Exchange Rate  Volatility  \n",
            "0      16994.6       1.000500    0.258391  \n",
            "1       5947.1       1.000500    0.258391  \n",
            "2       1552.5       1.000503    0.258391  \n",
            "3       4570.1       1.000501    0.258391  \n",
            "4       2939.6       1.000500    0.258391  \n"
          ]
        }
      ],
      "source": [
        "# Display the first few rows of the DataFrame\n",
        "print(df_eng2.head())"
      ]
    },
    {
      "cell_type": "code",
      "execution_count": 20,
      "metadata": {},
      "outputs": [
        {
          "name": "stdout",
          "output_type": "stream",
          "text": [
            "count    6.600000e+01\n",
            "mean     7.657974e-02\n",
            "std      7.837113e-02\n",
            "min      4.330824e-08\n",
            "25%      2.645007e-03\n",
            "50%      3.789263e-02\n",
            "75%      1.525911e-01\n",
            "max      2.863135e-01\n",
            "Name: Volatility, dtype: float64\n"
          ]
        },
        {
          "data": {
            "image/png": "[encoded data removed]",
            "text/plain": [
              "<Figure size 640x480 with 1 Axes>"
            ]
          },
          "metadata": {},
          "output_type": "display_data"
        },
        {
          "name": "stdout",
          "output_type": "stream",
          "text": [
            "Chosen Volatility Threshold: 0.16023023054615865\n"
          ]
        }
      ],
      "source": [
        "# Examine the Distribution of Volatility\n",
        "volatility_distribution = df_eng2.groupby('Country')['Volatility'].first()\n",
        "print(volatility_distribution.describe())\n",
        "\n",
        "# Plot the Distribution\n",
        "plt.hist(volatility_distribution, bins=30)\n",
        "plt.xlabel('Volatility')\n",
        "plt.ylabel('Frequency')\n",
        "plt.title('Distribution of Exchange Rate Volatility')\n",
        "plt.show()\n",
        "\n",
        "# Set a Threshold (e.g., exclude top 10% of countries with highest volatility)\n",
        "threshold = volatility_distribution.quantile(0.90)\n",
        "print(f\"Chosen Volatility Threshold: {threshold}\")"
      ]
    },
    {
      "cell_type": "markdown",
      "metadata": {},
      "source": [
        "Data rows with a threshold higher than 0.16 will be removed"
      ]
    },
    {
      "cell_type": "code",
      "execution_count": 46,
      "metadata": {},
      "outputs": [
        {
          "name": "stdout",
          "output_type": "stream",
          "text": [
            "(15628, 10)\n"
          ]
        }
      ],
      "source": [
        "# check number of data points before removal\n",
        "print(df_eng2.shape)"
      ]
    },
    {
      "cell_type": "code",
      "execution_count": 47,
      "metadata": {},
      "outputs": [
        {
          "name": "stdout",
          "output_type": "stream",
          "text": [
            "(13762, 10)\n"
          ]
        }
      ],
      "source": [
        "# Filter for Stable Exchange Rates\n",
        "threshold = 0.16  # Example threshold\n",
        "stable_countries = df_eng2[df_eng2[\"Volatility\"] < threshold][\"Country\"].unique()\n",
        "df_stable = df_eng2[df_eng2[\"Country\"].isin(stable_countries)]\n",
        "\n",
        "# Check number of data points\n",
        "print(df_stable.shape)"
      ]
    },
    {
      "cell_type": "code",
      "execution_count": 23,
      "metadata": {},
      "outputs": [
        {
          "name": "stdout",
          "output_type": "stream",
          "text": [
            "Year              0\n",
            "Country           0\n",
            "ISO3              0\n",
            "Continent         0\n",
            "Ind Code          0\n",
            "Industry          0\n",
            "Value (LCU)       0\n",
            "Value (USD)       0\n",
            "Exchange Rate    34\n",
            "Volatility        0\n",
            "dtype: int64\n"
          ]
        }
      ],
      "source": [
        "# check for missing values\n",
        "missing_data_df_stable = df_stable.isnull().sum()\n",
        "print(missing_data_df_stable)"
      ]
    },
    {
      "cell_type": "code",
      "execution_count": 48,
      "metadata": {},
      "outputs": [
        {
          "name": "stdout",
          "output_type": "stream",
          "text": [
            "ISO3             0\n",
            "Country          0\n",
            "Year             0\n",
            "Ind Code         0\n",
            "Industry         0\n",
            "Value (LCU)      0\n",
            "Value (USD)      0\n",
            "Continent        0\n",
            "Exchange Rate    0\n",
            "Volatility       0\n",
            "dtype: int64\n"
          ]
        }
      ],
      "source": [
        "# Drop missing values\n",
        "df_eng_final = df_stable.dropna()\n",
        "null = df_eng_final.isnull().sum()\n",
        "print(null)"
      ]
    },
    {
      "cell_type": "markdown",
      "metadata": {},
      "source": [
        "Finally we need to drop the years 2019-2021 as we wont be using it"
      ]
    },
    {
      "cell_type": "code",
      "execution_count": 49,
      "metadata": {},
      "outputs": [
        {
          "name": "stdout",
          "output_type": "stream",
          "text": [
            "[2000 2001 2002 2003 2004 2005 2006 2007 2008 2009 2010 2011 2012 2013\n",
            " 2014 2015 2016 2017 2018 2019 2020 2021]\n"
          ]
        }
      ],
      "source": [
        "unique_years = df_eng['Year'].unique()\n",
        "print(unique_years)"
      ]
    },
    {
      "cell_type": "code",
      "execution_count": 50,
      "metadata": {},
      "outputs": [
        {
          "name": "stdout",
          "output_type": "stream",
          "text": [
            "[2000 2001 2002 2003 2004 2005 2006 2007 2008 2009 2010 2011 2012 2013\n",
            " 2014 2015 2016 2017 2018]\n"
          ]
        }
      ],
      "source": [
        "# Drop rows where the 'Year' is 2019, 2020, or 2021\n",
        "df_eng_final = df_eng_final[~df_eng_final['Year'].isin([2019, 2020, 2021])]\n",
        "\n",
        "# Verify the rows have been dropped\n",
        "print(df_eng_final['Year'].unique())"
      ]
    },
    {
      "cell_type": "markdown",
      "metadata": {},
      "source": [
        "Lastly we need to calculate the average growth in Value USD"
      ]
    },
    {
      "cell_type": "code",
      "execution_count": 52,
      "metadata": {},
      "outputs": [
        {
          "name": "stdout",
          "output_type": "stream",
          "text": [
            "     Country Ind Code  Average USD Growth\n",
            "0  Australia        A            0.035067\n",
            "1  Australia        B            0.007105\n",
            "2  Australia        C            0.036976\n"
          ]
        }
      ],
      "source": [
        "# Calculate the year-over-year percentage change in Value (USD)\n",
        "df_eng_final['USD Growth'] = df_eng_final.groupby(['Country', 'Ind Code'])['Value (USD)'].pct_change()\n",
        "\n",
        "# Calculate the average growth for each country and industry\n",
        "avg_ind_growth = df_eng_final.groupby(['Country', 'Ind Code'])['USD Growth'].mean().reset_index()\n",
        "\n",
        "# Rename the column for clarity\n",
        "avg_ind_growth.rename(columns={'USD Growth': 'Average USD Growth'}, inplace=True)\n",
        "\n",
        "# Display the first few rows of the result\n",
        "print(avg_ind_growth.head(3))"
      ]
    },
    {
      "cell_type": "markdown",
      "metadata": {},
      "source": [
        "---"
      ]
    },
    {
      "cell_type": "markdown",
      "metadata": {},
      "source": [
        "## GDP Engineering"
      ]
    },
    {
      "cell_type": "markdown",
      "metadata": {},
      "source": [
        "We already made some adjustments to the GDP file, but it needs to be engineered a bit more before we can use it for our analysis."
      ]
    },
    {
      "cell_type": "code",
      "execution_count": 27,
      "metadata": {},
      "outputs": [
        {
          "name": "stdout",
          "output_type": "stream",
          "text": [
            "                       Country ISO3      1999      2000      2001      2002  \\\n",
            "0  Africa Eastern and Southern  AFE  265429.0  287202.0  260992.0  267815.0   \n",
            "\n",
            "       2003      2004      2005      2006  ...      2010      2011      2012  \\\n",
            "0  355716.0  442696.0  516661.0  580241.0  ...  849410.0  945439.0  952999.0   \n",
            "\n",
            "       2013      2014      2015      2016      2017       2018       2019  \n",
            "0  962395.0  978708.0  898278.0  828943.0  972999.0  1012310.0  1009720.0  \n",
            "\n",
            "[1 rows x 23 columns]\n"
          ]
        }
      ],
      "source": [
        "# Load the GDP cleaned data\n",
        "gdp_cleaned_path = 'c:\\\\Users\\\\sayed\\\\OneDrive\\\\Documents\\\\Code institute\\\\Capstone\\\\Capstone\\\\gdp_cleaned.csv'\n",
        "gdp_cleaned = pd.read_csv(gdp_cleaned_path)\n",
        "\n",
        "# Display the first few rows of the dataframe\n",
        "print(gdp_cleaned.head(1))"
      ]
    },
    {
      "cell_type": "code",
      "execution_count": 28,
      "metadata": {},
      "outputs": [
        {
          "name": "stdout",
          "output_type": "stream",
          "text": [
            "     Country ISO3      1999      2000      2001      2002      2003      2004  \\\n",
            "2  Australia  AUS  389652.0  416168.0  379629.0  395789.0  467739.0  614660.0   \n",
            "3    Austria  AUT  216422.0  196182.0  196477.0  212837.0  260780.0  299210.0   \n",
            "\n",
            "       2005      2006  ...       2010       2011       2012       2013  \\\n",
            "2  695693.0  748418.0  ...  1148840.0  1398610.0  1547530.0  1577120.0   \n",
            "3  313952.0  333906.0  ...   389828.0   428955.0   406750.0   426581.0   \n",
            "\n",
            "        2014       2015       2016       2017       2018       2019  \n",
            "2  1468270.0  1351300.0  1206840.0  1325580.0  1427810.0  1392720.0  \n",
            "3   438556.0   379546.0   393687.0   414926.0   452582.0   442984.0  \n",
            "\n",
            "[2 rows x 23 columns]\n"
          ]
        }
      ],
      "source": [
        "# Make a copy of gdp_cleaned\n",
        "gdp_copy = gdp_cleaned.copy()\n",
        "\n",
        "# Get the list of ISO3 codes in df_eng\n",
        "iso3_codes = df_eng['ISO3'].unique()\n",
        "\n",
        "# Filter gdp_copy to keep only the columns where ISO3 codes are in both datasets\n",
        "gdp_copy = gdp_copy[gdp_copy['ISO3'].isin(iso3_codes)]\n",
        "\n",
        "print(gdp_copy.head(2))"
      ]
    },
    {
      "cell_type": "markdown",
      "metadata": {},
      "source": [
        "We shall remove the last column from our data as we don't have the latest Value (USD) for some of the major countries like China"
      ]
    },
    {
      "cell_type": "code",
      "execution_count": 29,
      "metadata": {},
      "outputs": [
        {
          "name": "stdout",
          "output_type": "stream",
          "text": [
            "Index(['Country', 'ISO3', '1999', '2000', '2001', '2002', '2003', '2004',\n",
            "       '2005', '2006', '2007', '2008', '2009', '2010', '2011', '2012', '2013',\n",
            "       '2014', '2015', '2016', '2017', '2018'],\n",
            "      dtype='object')\n"
          ]
        }
      ],
      "source": [
        "# remove the last column\n",
        "gdp_copy = gdp_copy.iloc[:, :-1]\n",
        "\n",
        "# Check the column is dropped\n",
        "print(gdp_copy.columns)"
      ]
    },
    {
      "cell_type": "markdown",
      "metadata": {},
      "source": [
        "We want to reshape our database so it's suitable for visualistion later. At the moment the year is in long format and we need it in wide format."
      ]
    },
    {
      "cell_type": "code",
      "execution_count": 30,
      "metadata": {},
      "outputs": [
        {
          "name": "stdout",
          "output_type": "stream",
          "text": [
            "     Country ISO3  Year       GDP\n",
            "0  Australia  AUS  2000  416168.0\n",
            "1  Australia  AUS  2001  379629.0\n"
          ]
        }
      ],
      "source": [
        "# Identify year columns\n",
        "year_columns = [str(year) for year in range(2000, 2019)]\n",
        "\n",
        "# Melt (unpivot) the year columns\n",
        "gdp_pivot = pd.melt(gdp_copy, id_vars=['Country', 'ISO3'], value_vars=year_columns,\n",
        "var_name='Year', value_name='GDP')\n",
        "\n",
        "# Convert 'Year' to integer\n",
        "gdp_pivot['Year'] = gdp_pivot['Year'].astype(int)\n",
        "\n",
        "# Sort the DataFrame\n",
        "gdp_pivot = gdp_pivot.sort_values(by=['Country', 'Year'])\n",
        "\n",
        "#Reset the index.\n",
        "gdp_pivot = gdp_pivot.reset_index(drop=True)\n",
        "\n",
        "# Display the first few rows of the modified dataframe\n",
        "print(gdp_pivot.head(2))"
      ]
    },
    {
      "cell_type": "markdown",
      "metadata": {},
      "source": [
        "---"
      ]
    },
    {
      "cell_type": "code",
      "execution_count": 53,
      "metadata": {},
      "outputs": [],
      "source": [
        "# Export df_eng_final to CSV\n",
        "df_eng_final.to_csv('df_eng_final.csv', index=False)\n",
        "\n",
        "# Export industry_reference to CSV\n",
        "industry_reference.to_csv('industry_reference.csv', index=False)\n",
        "\n",
        "# export gdp pivot to csv\n",
        "gdp_pivot.to_csv('gdp_final.csv', index=False)\n",
        "\n",
        "# export avg_ind_growth to csv\n",
        "avg_ind_growth.to_csv('avg_ind_growth.csv', index=False)"
      ]
    }
  ],
  "metadata": {
    "accelerator": "GPU",
    "colab": {
      "name": "Data Practitioner Jupyter Notebook.ipynb",
      "provenance": [],
      "toc_visible": true
    },
    "kernelspec": {
      "display_name": ".venv",
      "language": "python",
      "name": "python3"
    },
    "language_info": {
      "codemirror_mode": {
        "name": "ipython",
        "version": 3
      },
      "file_extension": ".py",
      "mimetype": "text/x-python",
      "name": "python",
      "nbconvert_exporter": "python",
      "pygments_lexer": "ipython3",
      "version": "3.12.8"
    },
    "orig_nbformat": 2
  },
  "nbformat": 4,
  "nbformat_minor": 2
}
