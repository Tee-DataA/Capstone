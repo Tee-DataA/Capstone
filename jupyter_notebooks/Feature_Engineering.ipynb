{
  "cells": [
    {
      "cell_type": "markdown",
      "metadata": {
        "id": "0aStgWSO0E0E"
      },
      "source": [
        "# **Feature Engineering**"
      ]
    },
    {
      "cell_type": "markdown",
      "metadata": {
        "id": "1eLEkw5O0ECa"
      },
      "source": [
        "## Objectives\n",
        "\n",
        "* Will take the cleaned dataset and check if there are any outliers for each country. Will also make a new dataframe that has the average rate of increase for each country\n",
        "\n",
        "## Inputs\n",
        "\n",
        "* cleaned_data.csv \n",
        "\n",
        "## Outputs\n",
        "\n",
        "* Write here which files, code or artefacts you generate by the end of the notebook \n",
        "\n",
        "## Additional Comments\n",
        "\n",
        "* If you have any additional comments that don't fit in the previous bullets, please state them here. \n",
        "\n"
      ]
    },
    {
      "cell_type": "markdown",
      "metadata": {
        "id": "9uWZXH9LwoQg"
      },
      "source": [
        "---"
      ]
    },
    {
      "cell_type": "markdown",
      "metadata": {
        "id": "cqP-UeN-z3i2"
      },
      "source": [
        "# Change working directory"
      ]
    },
    {
      "cell_type": "markdown",
      "metadata": {},
      "source": [
        "* We are assuming you will store the notebooks in a subfolder, therefore when running the notebook in the editor, you will need to change the working directory"
      ]
    },
    {
      "cell_type": "markdown",
      "metadata": {
        "id": "aOGIGS-uz3i2"
      },
      "source": [
        "We need to change the working directory from its current folder to its parent folder\n",
        "* We access the current directory with os.getcwd()"
      ]
    },
    {
      "cell_type": "code",
      "execution_count": 1,
      "metadata": {
        "id": "wZfF_j-Bz3i4",
        "outputId": "66943449-1436-4c3d-85c7-b85f9f78349b"
      },
      "outputs": [
        {
          "data": {
            "text/plain": [
              "'c:\\\\Users\\\\sayed\\\\OneDrive\\\\Documents\\\\Code institute\\\\Capstone\\\\Capstone\\\\jupyter_notebooks'"
            ]
          },
          "execution_count": 1,
          "metadata": {},
          "output_type": "execute_result"
        }
      ],
      "source": [
        "import os\n",
        "current_dir = os.getcwd()\n",
        "current_dir"
      ]
    },
    {
      "cell_type": "markdown",
      "metadata": {
        "id": "9MWW8E7lz3i7"
      },
      "source": [
        "We want to make the parent of the current directory the new current directory\n",
        "* os.path.dirname() gets the parent directory\n",
        "* os.chir() defines the new current directory"
      ]
    },
    {
      "cell_type": "code",
      "execution_count": 2,
      "metadata": {
        "id": "TwHsQRWjz3i9",
        "outputId": "86849db3-cd2f-4cc5-ebb8-2d0caafa1a2c"
      },
      "outputs": [
        {
          "name": "stdout",
          "output_type": "stream",
          "text": [
            "You set a new current directory\n"
          ]
        }
      ],
      "source": [
        "os.chdir(os.path.dirname(current_dir))\n",
        "print(\"You set a new current directory\")"
      ]
    },
    {
      "cell_type": "markdown",
      "metadata": {
        "id": "M_xPk_Ijz3i-"
      },
      "source": [
        "Confirm the new current directory"
      ]
    },
    {
      "cell_type": "code",
      "execution_count": 3,
      "metadata": {
        "id": "vz3S-_kjz3jA",
        "outputId": "00b79ae4-75d0-4a96-d193-ac9ef9847ea2"
      },
      "outputs": [
        {
          "data": {
            "text/plain": [
              "'c:\\\\Users\\\\sayed\\\\OneDrive\\\\Documents\\\\Code institute\\\\Capstone\\\\Capstone'"
            ]
          },
          "execution_count": 3,
          "metadata": {},
          "output_type": "execute_result"
        }
      ],
      "source": [
        "current_dir = os.getcwd()\n",
        "current_dir"
      ]
    },
    {
      "cell_type": "code",
      "execution_count": 4,
      "metadata": {},
      "outputs": [],
      "source": [
        "# Import libraries\n",
        "import pandas as pd\n",
        "import numpy as np\n",
        "import matplotlib.pyplot as plt\n",
        "import seaborn as sns\n",
        "import plotly.express as px"
      ]
    },
    {
      "cell_type": "code",
      "execution_count": 5,
      "metadata": {},
      "outputs": [
        {
          "name": "stdout",
          "output_type": "stream",
          "text": [
            "  Country ISO3    Country  Year ISIC Division  \\\n",
            "0          ARG  Argentina  2000         10-12   \n",
            "1          ARG  Argentina  2000         13-15   \n",
            "2          ARG  Argentina  2000            16   \n",
            "3          ARG  Argentina  2000         17-18   \n",
            "4          ARG  Argentina  2000            19   \n",
            "\n",
            "                                  ISIC Division Desc         Measure  \\\n",
            "0  Manufacture of food products, beverages and to...  Current prices   \n",
            "1  Manufacture of textiles, wearing apparel, leat...  Current prices   \n",
            "2  Manufacture of wood and of products of wood an...  Current prices   \n",
            "3         Manufacture of paper products and printing  Current prices   \n",
            "4  Manufacture of coke and refined petroleum prod...  Current prices   \n",
            "\n",
            "   Value LCU (million national currency)  Value USD (million USD)  \n",
            "0                               16986.10                  16994.6  \n",
            "1                                5944.13                   5947.1  \n",
            "2                                1551.72                   1552.5  \n",
            "3                                4567.81                   4570.1  \n",
            "4                                2938.13                   2939.6  \n"
          ]
        }
      ],
      "source": [
        "# Load the cleaned data\n",
        "cleaned_data_path = 'c:\\\\Users\\\\sayed\\\\OneDrive\\\\Documents\\\\Code institute\\\\Capstone\\\\Capstone\\\\cleaned_data.csv'\n",
        "cleaned_data = pd.read_csv(cleaned_data_path)\n",
        "\n",
        "# Display the first few rows of the dataframe\n",
        "print(cleaned_data.head())"
      ]
    },
    {
      "cell_type": "markdown",
      "metadata": {
        "id": "ZY3l0-AxO93d"
      },
      "source": [
        "---"
      ]
    },
    {
      "cell_type": "markdown",
      "metadata": {},
      "source": [
        "## Feature engineering"
      ]
    },
    {
      "cell_type": "markdown",
      "metadata": {},
      "source": [
        "Now let us adjust some of the column names we have to make it easier for our analysis"
      ]
    },
    {
      "cell_type": "code",
      "execution_count": 11,
      "metadata": {},
      "outputs": [
        {
          "name": "stdout",
          "output_type": "stream",
          "text": [
            "  ISO3    Country  Year Ind Code  \\\n",
            "0  ARG  Argentina  2000    10-12   \n",
            "1  ARG  Argentina  2000    13-15   \n",
            "2  ARG  Argentina  2000       16   \n",
            "3  ARG  Argentina  2000    17-18   \n",
            "4  ARG  Argentina  2000       19   \n",
            "\n",
            "                                            Industry         Measure  \\\n",
            "0  Manufacture of food products, beverages and to...  Current prices   \n",
            "1  Manufacture of textiles, wearing apparel, leat...  Current prices   \n",
            "2  Manufacture of wood and of products of wood an...  Current prices   \n",
            "3         Manufacture of paper products and printing  Current prices   \n",
            "4  Manufacture of coke and refined petroleum prod...  Current prices   \n",
            "\n",
            "   Value (LCU)  Value (USD)  \n",
            "0     16986.10      16994.6  \n",
            "1      5944.13       5947.1  \n",
            "2      1551.72       1552.5  \n",
            "3      4567.81       4570.1  \n",
            "4      2938.13       2939.6  \n"
          ]
        }
      ],
      "source": [
        "# Make a copy of cleaned_data\n",
        "cleaned_data2 = cleaned_data.copy()\n",
        "\n",
        "# Rename columns\n",
        "cleaned_data2.rename(columns={\n",
        "    'Country ISO3': 'ISO3',\n",
        "    'ISIC Division': 'Ind Code',\n",
        "    'ISIC Division Desc': 'Industry',\n",
        "    'Value LCU (million national currency)': 'Value (LCU)',\n",
        "    'Value USD (million USD)': 'Value (USD)'\n",
        "}, inplace=True)\n",
        "\n",
        "print(cleaned_data2.head())"
      ]
    },
    {
      "cell_type": "code",
      "execution_count": 12,
      "metadata": {},
      "outputs": [
        {
          "name": "stdout",
          "output_type": "stream",
          "text": [
            "['Manufacture of food products, beverages and tobacco products'\n",
            " 'Manufacture of textiles, wearing apparel, leather and related products'\n",
            " 'Manufacture of wood and of products of wood and cork, except furniture; manufacture of articles of straw and plaiting materials'\n",
            " 'Manufacture of paper products and printing'\n",
            " 'Manufacture of coke and refined petroleum products'\n",
            " 'Manufacturing of chemicals and pharmaceutical products'\n",
            " 'Manufacture of rubber and plastics products'\n",
            " 'Manufacture of other non-metallic mineral products'\n",
            " 'Manufacture of basic metals'\n",
            " 'Manufacture of fabricated metal products, machinery and equipment'\n",
            " 'Manufacture of transport equipment'\n",
            " 'Manufacture of furniture, other manufacturing']\n"
          ]
        }
      ],
      "source": [
        "unique_measures = cleaned_data2['Industry'].unique()\n",
        "print(unique_measures)"
      ]
    },
    {
      "cell_type": "markdown",
      "metadata": {},
      "source": [
        "Looking at the data, there isn't any obvious short form words or abbreviations I can use to describe each industry so I will just be using the letters A-L, and the user can refer to a reference list to see what each letter represents"
      ]
    },
    {
      "cell_type": "code",
      "execution_count": 14,
      "metadata": {},
      "outputs": [
        {
          "name": "stdout",
          "output_type": "stream",
          "text": [
            "['10-12' '13-15' '16' '17-18' '19' '20-21' '22' '23' '24' '25-28' '29-30'\n",
            " '31-32']\n"
          ]
        }
      ],
      "source": [
        "unique_measures = cleaned_data2['Ind Code'].unique()\n",
        "print(unique_measures)"
      ]
    },
    {
      "cell_type": "code",
      "execution_count": 15,
      "metadata": {},
      "outputs": [
        {
          "name": "stdout",
          "output_type": "stream",
          "text": [
            "  ISO3    Country  Year Ind Code  \\\n",
            "0  ARG  Argentina  2000        A   \n",
            "1  ARG  Argentina  2000        B   \n",
            "2  ARG  Argentina  2000        C   \n",
            "3  ARG  Argentina  2000        D   \n",
            "4  ARG  Argentina  2000        E   \n",
            "\n",
            "                                            Industry         Measure  \\\n",
            "0  Manufacture of food products, beverages and to...  Current prices   \n",
            "1  Manufacture of textiles, wearing apparel, leat...  Current prices   \n",
            "2  Manufacture of wood and of products of wood an...  Current prices   \n",
            "3         Manufacture of paper products and printing  Current prices   \n",
            "4  Manufacture of coke and refined petroleum prod...  Current prices   \n",
            "\n",
            "   Value (LCU)  Value (USD)  \n",
            "0     16986.10      16994.6  \n",
            "1      5944.13       5947.1  \n",
            "2      1551.72       1552.5  \n",
            "3      4567.81       4570.1  \n",
            "4      2938.13       2939.6  \n"
          ]
        }
      ],
      "source": [
        "# Mapping dictionary\n",
        "ind_code_mapping = {\n",
        "    '10-12': 'A',\n",
        "    '13-15': 'B',\n",
        "    '16': 'C',\n",
        "    '17-18': 'D',\n",
        "    '19': 'E',\n",
        "    '20-21': 'F',\n",
        "    '22': 'G',\n",
        "    '23': 'H',\n",
        "    '24': 'I',\n",
        "    '25-28': 'J',\n",
        "    '29-30': 'K',\n",
        "    '31-32': 'L'\n",
        "}\n",
        "\n",
        "# Replace 'Div Code' values\n",
        "cleaned_data2['Ind Code'] = cleaned_data2['Ind Code'].replace(ind_code_mapping)\n",
        "\n",
        "print(cleaned_data2.head())"
      ]
    },
    {
      "cell_type": "code",
      "execution_count": 16,
      "metadata": {},
      "outputs": [
        {
          "name": "stdout",
          "output_type": "stream",
          "text": [
            "['A' 'B' 'C' 'D' 'E' 'F' 'G' 'H' 'I' 'J' 'K' 'L']\n"
          ]
        }
      ],
      "source": [
        "unique_measures = cleaned_data2['Ind Code'].unique()\n",
        "print(unique_measures)"
      ]
    },
    {
      "cell_type": "markdown",
      "metadata": {},
      "source": [
        "I want to add a new column that shows indicates which continent the country is from. This will be useful later when we want to compare for example Europe vs America "
      ]
    },
    {
      "cell_type": "code",
      "execution_count": 17,
      "metadata": {},
      "outputs": [
        {
          "data": {
            "text/plain": [
              "array(['Argentina', 'Australia', 'Austria', 'Belgium', 'Brazil',\n",
              "       'Brunei Darussalam', 'Bulgaria', 'Cambodia', 'Canada', 'Chile',\n",
              "       'Chinese Taipei', 'Colombia', 'Costa Rica', 'Croatia', 'Cyprus',\n",
              "       'Czech Republic', 'Denmark', 'Estonia', 'Finland', 'France',\n",
              "       'Germany', 'Greece', 'Hong Kong', 'Hungary', 'Iceland', 'India',\n",
              "       'Indonesia', 'Ireland', 'Italy', 'Japan', 'Kazakhstan', 'Korea',\n",
              "       'Laos', 'Latvia', 'Lithuania', 'Luxembourg', 'Malaysia', 'Malta',\n",
              "       'Mexico', 'Morocco', 'Myanmar', 'New Zealand', 'North Macedonia',\n",
              "       'Norway', \"People's Republic of China\", 'Peru', 'Philippines',\n",
              "       'Poland', 'Portugal', 'Romania', 'Russian Federation',\n",
              "       'Saudi Arabia', 'Serbia', 'Singapore', 'Slovak Republic',\n",
              "       'Slovenia', 'South Africa', 'Spain', 'Sweden', 'Switzerland',\n",
              "       'Thailand', 'The Netherlands', 'Tunisia', 'Turkey',\n",
              "       'United Kingdom', 'United States', 'Viet Nam'], dtype=object)"
            ]
          },
          "execution_count": 17,
          "metadata": {},
          "output_type": "execute_result"
        }
      ],
      "source": [
        "cleaned_data2['Country'].unique()"
      ]
    },
    {
      "cell_type": "code",
      "execution_count": 18,
      "metadata": {
        "vscode": {
          "languageId": "ruby"
        }
      },
      "outputs": [
        {
          "name": "stdout",
          "output_type": "stream",
          "text": [
            "  ISO3    Country  Year Ind Code  \\\n",
            "0  ARG  Argentina  2000        A   \n",
            "1  ARG  Argentina  2000        B   \n",
            "2  ARG  Argentina  2000        C   \n",
            "3  ARG  Argentina  2000        D   \n",
            "4  ARG  Argentina  2000        E   \n",
            "\n",
            "                                            Industry         Measure  \\\n",
            "0  Manufacture of food products, beverages and to...  Current prices   \n",
            "1  Manufacture of textiles, wearing apparel, leat...  Current prices   \n",
            "2  Manufacture of wood and of products of wood an...  Current prices   \n",
            "3         Manufacture of paper products and printing  Current prices   \n",
            "4  Manufacture of coke and refined petroleum prod...  Current prices   \n",
            "\n",
            "   Value (LCU)  Value (USD)      Continent  \n",
            "0     16986.10      16994.6  South America  \n",
            "1      5944.13       5947.1  South America  \n",
            "2      1551.72       1552.5  South America  \n",
            "3      4567.81       4570.1  South America  \n",
            "4      2938.13       2939.6  South America  \n"
          ]
        }
      ],
      "source": [
        "# Mapping dictionary for countries to continents\n",
        "country_to_continent = {\n",
        "    'Argentina': 'South America', \n",
        "    'Australia': 'Oceania', \n",
        "    'Austria': 'Europe', \n",
        "    'Belgium': 'Europe', \n",
        "    'Brazil': 'South America',\n",
        "    'Brunei Darussalam': 'Asia', \n",
        "    'Bulgaria': 'South America', \n",
        "    'Cambodia': 'South America', \n",
        "    'Canada': 'North America', \n",
        "    'Chile': 'South America',\n",
        "    'Chinese Taipei': 'Asia', \n",
        "    'Colombia': 'South America', \n",
        "    'Costa Rica': 'South America', \n",
        "    'Croatia': 'Europe', \n",
        "    'Cyprus': 'Europe',\n",
        "    'Czech Republic': 'Europe', \n",
        "    'Denmark': 'Europe', \n",
        "    'Estonia': 'Europe', \n",
        "    'Finland': 'Europe', \n",
        "    'France': 'Europe',\n",
        "    'Germany': 'Europe', \n",
        "    'Greece': 'Europe', \n",
        "    'Hong Kong': 'Asia', \n",
        "    'Hungary': 'Europe', \n",
        "    'Iceland': 'Europe', \n",
        "    'India': 'Asia',\n",
        "    'Indonesia': 'Asia', \n",
        "    'Ireland': 'Europe', \n",
        "    'Italy': 'Europe', \n",
        "    'Japan': 'Asia', \n",
        "    'Kazakhstan': 'Asia',\n",
        "    'Korea': 'Asia', \n",
        "    'Laos': 'Asia', \n",
        "    'Latvia': 'Europe', \n",
        "    'Lithuania': 'Europe', \n",
        "    'Luxembourg': 'Europe', \n",
        "    'Malaysia': 'Asia',\n",
        "    'Malta': 'Europe', \n",
        "    'Mexico': 'South America', \n",
        "    'Morocco': 'Africa', \n",
        "    'Myanmar': 'Asia', \n",
        "    'New Zealand': 'Oceania',\n",
        "    'North Macedonia': 'Europe', \n",
        "    'Norway': 'Europe', \n",
        "    \"People's Republic of China\": 'Asia', \n",
        "    'Peru': 'South America',\n",
        "    'Philippines': 'Asia', \n",
        "    'Poland': 'Europe', \n",
        "    'Portugal': 'Europe', \n",
        "    'Romania': 'Europe',\n",
        "    'Russian Federation': 'Europe', \n",
        "    'Saudi Arabia': 'Middle East', \n",
        "    'Serbia': 'Europe', \n",
        "    'Singapore': 'Asia',\n",
        "    'Slovak Republic': 'Europe', \n",
        "    'Slovenia': 'Europe', \n",
        "    'South Africa': 'Africa', \n",
        "    'Spain': 'Europe', \n",
        "    'Sweden': 'Europe',\n",
        "    'Switzerland': 'Europe', \n",
        "    'Thailand': 'Asia', \n",
        "    'The Netherlands': 'Europe', \n",
        "    'Tunisia': 'Africa', \n",
        "    'Turkey': 'Middle East',\n",
        "    'United Kingdom': 'Europe', \n",
        "    'United States': 'North America', \n",
        "    'Viet Nam': 'Asia'\n",
        "}\n",
        "\n",
        "# Add 'Continent' column to cleaned_data2\n",
        "cleaned_data2['Continent'] = cleaned_data2['Country'].map(country_to_continent)\n",
        "\n",
        "print(cleaned_data2.head())"
      ]
    },
    {
      "cell_type": "markdown",
      "metadata": {},
      "source": [
        "Let re-order the columns to make it look more logical"
      ]
    },
    {
      "cell_type": "code",
      "execution_count": 20,
      "metadata": {
        "vscode": {
          "languageId": "ruby"
        }
      },
      "outputs": [
        {
          "name": "stdout",
          "output_type": "stream",
          "text": [
            "   Year    Country ISO3      Continent Ind Code  \\\n",
            "0  2000  Argentina  ARG  South America        A   \n",
            "1  2000  Argentina  ARG  South America        B   \n",
            "2  2000  Argentina  ARG  South America        C   \n",
            "3  2000  Argentina  ARG  South America        D   \n",
            "4  2000  Argentina  ARG  South America        E   \n",
            "\n",
            "                                            Industry  Value (LCU)  Value (USD)  \n",
            "0  Manufacture of food products, beverages and to...     16986.10      16994.6  \n",
            "1  Manufacture of textiles, wearing apparel, leat...      5944.13       5947.1  \n",
            "2  Manufacture of wood and of products of wood an...      1551.72       1552.5  \n",
            "3         Manufacture of paper products and printing      4567.81       4570.1  \n",
            "4  Manufacture of coke and refined petroleum prod...      2938.13       2939.6  \n"
          ]
        }
      ],
      "source": [
        "# Order of the columns\n",
        "desired_order = ['Year','Country', 'ISO3', 'Continent', 'Ind Code', 'Industry','Value (LCU)','Value (USD)']\n",
        "\n",
        "# Reorder the columns\n",
        "cleaned_data2 = cleaned_data2[desired_order]\n",
        "\n",
        "# Print the DataFrame to verify the new order\n",
        "print(cleaned_data2.head())"
      ]
    },
    {
      "cell_type": "markdown",
      "metadata": {},
      "source": [
        "---"
      ]
    },
    {
      "cell_type": "markdown",
      "metadata": {},
      "source": [
        "We want to make a new dataframe which has the total value for each industry globally"
      ]
    },
    {
      "cell_type": "code",
      "execution_count": 22,
      "metadata": {},
      "outputs": [
        {
          "name": "stdout",
          "output_type": "stream",
          "text": [
            "  Ind Code                                           Industry           LCU  \\\n",
            "0        A  Manufacture of food products, beverages and to...  1.155175e+10   \n",
            "1        B  Manufacture of textiles, wearing apparel, leat...  6.641122e+09   \n",
            "2        C  Manufacture of wood and of products of wood an...  1.164521e+09   \n",
            "3        D         Manufacture of paper products and printing  2.177163e+09   \n",
            "4        E  Manufacture of coke and refined petroleum prod...  4.731489e+09   \n",
            "\n",
            "           USD  \n",
            "0  40996209.07  \n",
            "1  11975995.30  \n",
            "2   5110883.85  \n",
            "3  13757468.59  \n",
            "4  15546318.36  \n"
          ]
        }
      ],
      "source": [
        "# Group by 'Ind Code' and aggregate the sum of 'Value LCU (million national currency)' and 'Value USD (million USD)'\n",
        "industry_total = cleaned_data2.groupby(['Ind Code', 'Industry']).agg({\n",
        "    'Value (LCU)': 'sum',\n",
        "    'Value (USD)': 'sum'\n",
        "}).reset_index()\n",
        "\n",
        "# Rename the columns\n",
        "industry_total.columns = ['Ind Code', 'Industry', 'LCU', 'USD']\n",
        "\n",
        "print(industry_total.head())"
      ]
    },
    {
      "cell_type": "markdown",
      "metadata": {},
      "source": [
        "The rate of growth year by year for each industry in each country will be left for Tableau, as it's easier to show these measures there.  "
      ]
    },
    {
      "cell_type": "code",
      "execution_count": 23,
      "metadata": {},
      "outputs": [],
      "source": [
        "# Export cleaned_data2 to CSV\n",
        "cleaned_data2.to_csv('cleaned_data2.csv', index=False)\n",
        "\n",
        "# Export industry_total to CSV\n",
        "industry_total.to_csv('industry_total.csv', index=False)"
      ]
    }
  ],
  "metadata": {
    "accelerator": "GPU",
    "colab": {
      "name": "Data Practitioner Jupyter Notebook.ipynb",
      "provenance": [],
      "toc_visible": true
    },
    "kernelspec": {
      "display_name": ".venv",
      "language": "python",
      "name": "python3"
    },
    "language_info": {
      "codemirror_mode": {
        "name": "ipython",
        "version": 3
      },
      "file_extension": ".py",
      "mimetype": "text/x-python",
      "name": "python",
      "nbconvert_exporter": "python",
      "pygments_lexer": "ipython3",
      "version": "3.12.8"
    },
    "orig_nbformat": 2
  },
  "nbformat": 4,
  "nbformat_minor": 2
}
