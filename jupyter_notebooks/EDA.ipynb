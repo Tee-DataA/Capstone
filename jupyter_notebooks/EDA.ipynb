{
  "cells": [
    {
      "cell_type": "markdown",
      "metadata": {
        "id": "0aStgWSO0E0E"
      },
      "source": [
        "# **Initial EDA**"
      ]
    },
    {
      "cell_type": "markdown",
      "metadata": {
        "id": "1eLEkw5O0ECa"
      },
      "source": [
        "## Objectives\n",
        "\n",
        "* Performing basic EDA using the cleaned and featured datasets\n",
        "\n",
        "## Inputs\n",
        "\n",
        "* cleaned_data2.csv and industry_total.csv\n",
        "\n",
        "## Outputs\n",
        "\n",
        "* Write here which files, code or artefacts you generate by the end of the notebook \n",
        "\n",
        "## Additional Comments\n",
        "\n",
        "* If you have any additional comments that don't fit in the previous bullets, please state them here. \n",
        "\n"
      ]
    },
    {
      "cell_type": "markdown",
      "metadata": {
        "id": "9uWZXH9LwoQg"
      },
      "source": [
        "---"
      ]
    },
    {
      "cell_type": "markdown",
      "metadata": {
        "id": "cqP-UeN-z3i2"
      },
      "source": [
        "# Change working directory"
      ]
    },
    {
      "cell_type": "markdown",
      "metadata": {},
      "source": [
        "* We are assuming you will store the notebooks in a subfolder, therefore when running the notebook in the editor, you will need to change the working directory"
      ]
    },
    {
      "cell_type": "markdown",
      "metadata": {
        "id": "aOGIGS-uz3i2"
      },
      "source": [
        "We need to change the working directory from its current folder to its parent folder\n",
        "* We access the current directory with os.getcwd()"
      ]
    },
    {
      "cell_type": "code",
      "execution_count": 1,
      "metadata": {
        "id": "wZfF_j-Bz3i4",
        "outputId": "66943449-1436-4c3d-85c7-b85f9f78349b"
      },
      "outputs": [
        {
          "data": {
            "text/plain": [
              "'c:\\\\Users\\\\sayed\\\\OneDrive\\\\Documents\\\\Code institute\\\\Capstone\\\\Capstone\\\\jupyter_notebooks'"
            ]
          },
          "execution_count": 1,
          "metadata": {},
          "output_type": "execute_result"
        }
      ],
      "source": [
        "import os\n",
        "current_dir = os.getcwd()\n",
        "current_dir"
      ]
    },
    {
      "cell_type": "markdown",
      "metadata": {
        "id": "9MWW8E7lz3i7"
      },
      "source": [
        "We want to make the parent of the current directory the new current directory\n",
        "* os.path.dirname() gets the parent directory\n",
        "* os.chir() defines the new current directory"
      ]
    },
    {
      "cell_type": "code",
      "execution_count": 2,
      "metadata": {
        "id": "TwHsQRWjz3i9",
        "outputId": "86849db3-cd2f-4cc5-ebb8-2d0caafa1a2c"
      },
      "outputs": [
        {
          "name": "stdout",
          "output_type": "stream",
          "text": [
            "You set a new current directory\n"
          ]
        }
      ],
      "source": [
        "os.chdir(os.path.dirname(current_dir))\n",
        "print(\"You set a new current directory\")"
      ]
    },
    {
      "cell_type": "markdown",
      "metadata": {
        "id": "M_xPk_Ijz3i-"
      },
      "source": [
        "Confirm the new current directory"
      ]
    },
    {
      "cell_type": "code",
      "execution_count": 3,
      "metadata": {
        "id": "vz3S-_kjz3jA",
        "outputId": "00b79ae4-75d0-4a96-d193-ac9ef9847ea2"
      },
      "outputs": [
        {
          "data": {
            "text/plain": [
              "'c:\\\\Users\\\\sayed\\\\OneDrive\\\\Documents\\\\Code institute\\\\Capstone\\\\Capstone'"
            ]
          },
          "execution_count": 3,
          "metadata": {},
          "output_type": "execute_result"
        }
      ],
      "source": [
        "current_dir = os.getcwd()\n",
        "current_dir"
      ]
    },
    {
      "cell_type": "code",
      "execution_count": 4,
      "metadata": {},
      "outputs": [],
      "source": [
        "# Import libraries\n",
        "import pandas as pd\n",
        "import numpy as np\n",
        "import matplotlib.pyplot as plt\n",
        "import seaborn as sns\n",
        "import plotly.express as px"
      ]
    },
    {
      "cell_type": "code",
      "execution_count": null,
      "metadata": {
        "vscode": {
          "languageId": "r"
        }
      },
      "outputs": [
        {
          "name": "stdout",
          "output_type": "stream",
          "text": [
            "   Year    Country ISO3      Continent Ind Code  \\\n",
            "0  2000  Argentina  ARG  South America        A   \n",
            "1  2000  Argentina  ARG  South America        B   \n",
            "\n",
            "                                            Industry  Value (LCU)  \\\n",
            "0  Manufacture of food products, beverages and to...     16986.10   \n",
            "1  Manufacture of textiles, wearing apparel, leat...      5944.13   \n",
            "\n",
            "   Value (USD)  Exchange Rate  \n",
            "0      16994.6         1.0005  \n",
            "1       5947.1         1.0005  \n",
            "----------------------------------------------------------------------------------\n",
            "  Ind Code                                           Industry           LCU  \\\n",
            "0        A  Manufacture of food products, beverages and to...  1.155175e+10   \n",
            "1        B  Manufacture of textiles, wearing apparel, leat...  6.641122e+09   \n",
            "\n",
            "           USD  \n",
            "0  40996209.07  \n",
            "1  11975995.30  \n"
          ]
        }
      ],
      "source": [
        "# Load the datasets\n",
        "cleaned_data3 = pd.read_csv(os.path.join(current_dir, 'cleaned_data3.csv'))\n",
        "industry_total = pd.read_csv(os.path.join(current_dir, 'industry_total.csv'))\n",
        "industry_ref = pd.read_csv(os.path.join(current_dir, 'industry_reference.csv'))\n",
        "\n",
        "# Display the first few rows of each dataframe to confirm they are loaded correctly\n",
        "print(cleaned_data3.head(2))\n",
        "print('----------------------------------------------------------------------------------')\n",
        "print(industry_total.head(2))\n",
        "print('----------------------------------------------------------------------------------')\n",
        "print(industry_ref.head(2))"
      ]
    },
    {
      "cell_type": "markdown",
      "metadata": {},
      "source": [
        "---"
      ]
    },
    {
      "cell_type": "markdown",
      "metadata": {
        "id": "-mavJ8DibrcQ"
      },
      "source": [
        "# EDA"
      ]
    },
    {
      "cell_type": "markdown",
      "metadata": {},
      "source": [
        "Lets start by seeing the distribution of industries globally. We'll take the data from 2018 as this is the latest year which has most of the main countries available."
      ]
    },
    {
      "cell_type": "code",
      "execution_count": 32,
      "metadata": {},
      "outputs": [
        {
          "data": {
            "application/vnd.plotly.v1+json": {
              "config": {
                "plotlyServerURL": "https://plot.ly"
              },
              "data": [
                {
                  "branchvalues": "total",
                  "customdata": [
                    [
                      12599.529025029167
                    ],
                    [
                      11304.795641340075
                    ],
                    [
                      14402.281777375018
                    ],
                    [
                      11641.341444739312
                    ],
                    [
                      29137.91656764938
                    ],
                    [
                      1050.615627095909
                    ],
                    [
                      1162.1903334727426
                    ],
                    [
                      2712.3933887283238
                    ],
                    [
                      19962.80788996757
                    ],
                    [
                      9091.432279930677
                    ],
                    [
                      67320.07374171789
                    ],
                    [
                      5596.0197642541625
                    ],
                    [
                      1744.16038636616
                    ],
                    [
                      1124.7541600265697
                    ],
                    [
                      235.83836660003587
                    ],
                    [
                      10812.90935305847
                    ],
                    [
                      11044.718278739108
                    ],
                    [
                      580.5740862881638
                    ],
                    [
                      7900.89505358017
                    ],
                    [
                      39241.72205152627
                    ],
                    [
                      169375.1148165457
                    ],
                    [
                      2977.772919570297
                    ],
                    [
                      1700.7772886922414
                    ],
                    [
                      4577.154865125703
                    ],
                    [
                      551.8847360144456
                    ],
                    [
                      54260.69797364689
                    ],
                    [
                      30470.15413941779
                    ],
                    [
                      33666.65350937571
                    ],
                    [
                      52392.04639721206
                    ],
                    [
                      157499.84682946678
                    ],
                    [
                      4518.962687186658
                    ],
                    [
                      138745.8687053775
                    ],
                    [
                      307.0886781303552
                    ],
                    [
                      544.4109226252697
                    ],
                    [
                      1005.9388113377775
                    ],
                    [
                      632.3023058302571
                    ],
                    [
                      12453.799530876731
                    ],
                    [
                      156.1345763817936
                    ],
                    [
                      36814.68150154217
                    ],
                    [
                      4146.845616446484
                    ],
                    [
                      2015.733439808177
                    ],
                    [
                      4505.116734902726
                    ],
                    [
                      254.3352776008525
                    ],
                    [
                      4043.557796032214
                    ],
                    [
                      544029.9939392023
                    ],
                    [
                      4303.734613092267
                    ],
                    [
                      19281.663591961675
                    ],
                    [
                      12245.901526524272
                    ],
                    [
                      3427.9401762835137
                    ],
                    [
                      6047.6004357277925
                    ],
                    [
                      25311.031542582088
                    ],
                    [
                      17831.67830929243
                    ],
                    [
                      939.2134838571134
                    ],
                    [
                      19144.705055326205
                    ],
                    [
                      3331.7710868614895
                    ],
                    [
                      1900.5546178115985
                    ],
                    [
                      6823.2545532220065
                    ],
                    [
                      19105.73503223236
                    ],
                    [
                      13143.874148563691
                    ],
                    [
                      34943.0816694998
                    ],
                    [
                      18719.705660517007
                    ],
                    [
                      18309.074322091874
                    ],
                    [
                      1082.8935973291902
                    ],
                    [
                      19155.600142799572
                    ],
                    [
                      40620.463354926505
                    ],
                    [
                      368859.42714288674
                    ],
                    [
                      11396.346198396703
                    ],
                    [
                      5579.575427203897
                    ],
                    [
                      340937.03874555626
                    ],
                    [
                      66284.93494968046
                    ],
                    [
                      18632.584118613653
                    ],
                    [
                      345188.96083178674
                    ],
                    [
                      9792.451374902093
                    ],
                    [
                      26606.537706916715
                    ]
                  ],
                  "domain": {
                    "x": [
                      0,
                      1
                    ],
                    "y": [
                      0,
                      1
                    ]
                  },
                  "hovertemplate": "<b>%{hovertext}</b><br><br>labels=%{label}<br>Value (USD)_sum=%{value}<br>parent=%{parent}<br>id=%{id}<br>Value (USD)=%{color}<extra></extra>",
                  "hovertext": [
                    "ARG",
                    "AUS",
                    "AUT",
                    "BEL",
                    "BRA",
                    "BRN",
                    "BGR",
                    "KHM",
                    "CAN",
                    "CHL",
                    "TWN",
                    "COL",
                    "CRI",
                    "HRV",
                    "CYP",
                    "CZE",
                    "DNK",
                    "EST",
                    "FIN",
                    "FRA",
                    "DEU",
                    "GRC",
                    "HKG",
                    "HUN",
                    "ISL",
                    "IND",
                    "IDN",
                    "IRL",
                    "ITA",
                    "JPN",
                    "KAZ",
                    "KOR",
                    "LAO",
                    "LVA",
                    "LTU",
                    "LUX",
                    "MYS",
                    "MLT",
                    "MEX",
                    "MAR",
                    "MMR",
                    "NZL",
                    "MKD",
                    "NOR",
                    "CHN",
                    "PER",
                    "PHL",
                    "POL",
                    "PRT",
                    "ROU",
                    "RUS",
                    "SAU",
                    "SRB",
                    "SGP",
                    "SVK",
                    "SVN",
                    "ZAF",
                    "ESP",
                    "SWE",
                    "CHE",
                    "THA",
                    "NLD",
                    "TUN",
                    "TUR",
                    "GBR",
                    "USA",
                    "VNM",
                    "(?)",
                    "(?)",
                    "(?)",
                    "(?)",
                    "(?)",
                    "(?)",
                    "(?)"
                  ],
                  "ids": [
                    "South America/Argentina",
                    "Oceania/Australia",
                    "Europe/Austria",
                    "Europe/Belgium",
                    "South America/Brazil",
                    "Asia/Brunei Darussalam",
                    "South America/Bulgaria",
                    "South America/Cambodia",
                    "North America/Canada",
                    "South America/Chile",
                    "Asia/Chinese Taipei",
                    "South America/Colombia",
                    "South America/Costa Rica",
                    "Europe/Croatia",
                    "Europe/Cyprus",
                    "Europe/Czech Republic",
                    "Europe/Denmark",
                    "Europe/Estonia",
                    "Europe/Finland",
                    "Europe/France",
                    "Europe/Germany",
                    "Europe/Greece",
                    "Asia/Hong Kong",
                    "Europe/Hungary",
                    "Europe/Iceland",
                    "Asia/India",
                    "Asia/Indonesia",
                    "Europe/Ireland",
                    "Europe/Italy",
                    "Asia/Japan",
                    "Asia/Kazakhstan",
                    "Asia/Korea",
                    "Asia/Laos",
                    "Europe/Latvia",
                    "Europe/Lithuania",
                    "Europe/Luxembourg",
                    "Asia/Malaysia",
                    "Europe/Malta",
                    "South America/Mexico",
                    "Africa/Morocco",
                    "Asia/Myanmar",
                    "Oceania/New Zealand",
                    "Europe/North Macedonia",
                    "Europe/Norway",
                    "Asia/People's Republic of China",
                    "South America/Peru",
                    "Asia/Philippines",
                    "Europe/Poland",
                    "Europe/Portugal",
                    "Europe/Romania",
                    "Europe/Russian Federation",
                    "Middle East/Saudi Arabia",
                    "Europe/Serbia",
                    "Asia/Singapore",
                    "Europe/Slovak Republic",
                    "Europe/Slovenia",
                    "Africa/South Africa",
                    "Europe/Spain",
                    "Europe/Sweden",
                    "Europe/Switzerland",
                    "Asia/Thailand",
                    "Europe/The Netherlands",
                    "Africa/Tunisia",
                    "Middle East/Turkey",
                    "Europe/United Kingdom",
                    "North America/United States",
                    "Asia/Viet Nam",
                    "Africa",
                    "Asia",
                    "Europe",
                    "Middle East",
                    "North America",
                    "Oceania",
                    "South America"
                  ],
                  "labels": [
                    "Argentina",
                    "Australia",
                    "Austria",
                    "Belgium",
                    "Brazil",
                    "Brunei Darussalam",
                    "Bulgaria",
                    "Cambodia",
                    "Canada",
                    "Chile",
                    "Chinese Taipei",
                    "Colombia",
                    "Costa Rica",
                    "Croatia",
                    "Cyprus",
                    "Czech Republic",
                    "Denmark",
                    "Estonia",
                    "Finland",
                    "France",
                    "Germany",
                    "Greece",
                    "Hong Kong",
                    "Hungary",
                    "Iceland",
                    "India",
                    "Indonesia",
                    "Ireland",
                    "Italy",
                    "Japan",
                    "Kazakhstan",
                    "Korea",
                    "Laos",
                    "Latvia",
                    "Lithuania",
                    "Luxembourg",
                    "Malaysia",
                    "Malta",
                    "Mexico",
                    "Morocco",
                    "Myanmar",
                    "New Zealand",
                    "North Macedonia",
                    "Norway",
                    "People's Republic of China",
                    "Peru",
                    "Philippines",
                    "Poland",
                    "Portugal",
                    "Romania",
                    "Russian Federation",
                    "Saudi Arabia",
                    "Serbia",
                    "Singapore",
                    "Slovak Republic",
                    "Slovenia",
                    "South Africa",
                    "Spain",
                    "Sweden",
                    "Switzerland",
                    "Thailand",
                    "The Netherlands",
                    "Tunisia",
                    "Turkey",
                    "United Kingdom",
                    "United States",
                    "Viet Nam",
                    "Africa",
                    "Asia",
                    "Europe",
                    "Middle East",
                    "North America",
                    "Oceania",
                    "South America"
                  ],
                  "marker": {
                    "coloraxis": "coloraxis",
                    "colors": [
                      12599.529025029167,
                      11304.795641340075,
                      14402.281777375018,
                      11641.341444739312,
                      29137.91656764938,
                      1050.615627095909,
                      1162.1903334727426,
                      2712.3933887283238,
                      19962.80788996757,
                      9091.432279930677,
                      67320.07374171789,
                      5596.0197642541625,
                      1744.16038636616,
                      1124.7541600265697,
                      235.83836660003587,
                      10812.90935305847,
                      11044.718278739108,
                      580.5740862881638,
                      7900.89505358017,
                      39241.72205152627,
                      169375.1148165457,
                      2977.772919570297,
                      1700.7772886922414,
                      4577.154865125703,
                      551.8847360144456,
                      54260.69797364689,
                      30470.15413941779,
                      33666.65350937571,
                      52392.04639721206,
                      157499.84682946678,
                      4518.962687186658,
                      138745.8687053775,
                      307.0886781303552,
                      544.4109226252697,
                      1005.9388113377775,
                      632.3023058302571,
                      12453.799530876731,
                      156.1345763817936,
                      36814.68150154217,
                      4146.845616446484,
                      2015.733439808177,
                      4505.116734902726,
                      254.3352776008525,
                      4043.557796032214,
                      544029.9939392023,
                      4303.734613092267,
                      19281.663591961675,
                      12245.901526524272,
                      3427.9401762835137,
                      6047.6004357277925,
                      25311.031542582088,
                      17831.67830929243,
                      939.2134838571134,
                      19144.705055326205,
                      3331.7710868614895,
                      1900.5546178115985,
                      6823.2545532220065,
                      19105.73503223236,
                      13143.874148563691,
                      34943.0816694998,
                      18719.705660517007,
                      18309.074322091874,
                      1082.8935973291902,
                      19155.600142799572,
                      40620.463354926505,
                      368859.42714288674,
                      11396.346198396703,
                      5579.575427203897,
                      340937.03874555626,
                      66284.93494968046,
                      18632.584118613653,
                      345188.96083178674,
                      9792.451374902093,
                      26606.537706916715
                    ]
                  },
                  "name": "",
                  "parents": [
                    "South America",
                    "Oceania",
                    "Europe",
                    "Europe",
                    "South America",
                    "Asia",
                    "South America",
                    "South America",
                    "North America",
                    "South America",
                    "Asia",
                    "South America",
                    "South America",
                    "Europe",
                    "Europe",
                    "Europe",
                    "Europe",
                    "Europe",
                    "Europe",
                    "Europe",
                    "Europe",
                    "Europe",
                    "Asia",
                    "Europe",
                    "Europe",
                    "Asia",
                    "Asia",
                    "Europe",
                    "Europe",
                    "Asia",
                    "Asia",
                    "Asia",
                    "Asia",
                    "Europe",
                    "Europe",
                    "Europe",
                    "Asia",
                    "Europe",
                    "South America",
                    "Africa",
                    "Asia",
                    "Oceania",
                    "Europe",
                    "Europe",
                    "Asia",
                    "South America",
                    "Asia",
                    "Europe",
                    "Europe",
                    "Europe",
                    "Europe",
                    "Middle East",
                    "Europe",
                    "Asia",
                    "Europe",
                    "Europe",
                    "Africa",
                    "Europe",
                    "Europe",
                    "Europe",
                    "Asia",
                    "Europe",
                    "Africa",
                    "Middle East",
                    "Europe",
                    "North America",
                    "Asia",
                    "",
                    "",
                    "",
                    "",
                    "",
                    "",
                    ""
                  ],
                  "type": "sunburst",
                  "values": [
                    74477.09999999999,
                    76491.4,
                    143911.61000000002,
                    124005.97,
                    231356.9,
                    1491,
                    16043.890000000001,
                    6643.2,
                    333406.25,
                    63281.31,
                    174623,
                    67350.5,
                    5404.2,
                    14211.64,
                    2396.29,
                    104849.97,
                    88328.33,
                    7306.68,
                    75034.29000000001,
                    500344.46,
                    1516723.78,
                    34352.11,
                    4384.6,
                    55787.13,
                    4031.6600000000003,
                    461903.7,
                    207348,
                    126466.14,
                    588796.13,
                    1627658.09,
                    18310.600000000002,
                    477015.5,
                    1692.3,
                    6744.45,
                    15960.8,
                    4453.32,
                    66976,
                    1517.05,
                    428539.27999999997,
                    20225.600000000002,
                    11927.7,
                    21878.95,
                    1679.93,
                    45754.479999999996,
                    3843134.59,
                    31039.7,
                    68342.6,
                    184571.32,
                    55306.93,
                    83020.41,
                    382200.99,
                    97223.2,
                    13597.63,
                    66080.8,
                    38819.85,
                    20354.49,
                    45176.8,
                    289283.86,
                    136211.48,
                    220756.3,
                    122949.9,
                    189165.9,
                    6050.6,
                    148880,
                    517657.42,
                    4580916.600000001,
                    70654.4,
                    71453,
                    7224492.78,
                    5593602.8,
                    246103.2,
                    4914322.850000001,
                    98370.35,
                    924136.08
                  ]
                }
              ],
              "layout": {
                "coloraxis": {
                  "colorbar": {
                    "title": {
                      "text": "Value (USD)"
                    }
                  },
                  "colorscale": [
                    [
                      0,
                      "#0d0887"
                    ],
                    [
                      0.1111111111111111,
                      "#46039f"
                    ],
                    [
                      0.2222222222222222,
                      "#7201a8"
                    ],
                    [
                      0.3333333333333333,
                      "#9c179e"
                    ],
                    [
                      0.4444444444444444,
                      "#bd3786"
                    ],
                    [
                      0.5555555555555556,
                      "#d8576b"
                    ],
                    [
                      0.6666666666666666,
                      "#ed7953"
                    ],
                    [
                      0.7777777777777778,
                      "#fb9f3a"
                    ],
                    [
                      0.8888888888888888,
                      "#fdca26"
                    ],
                    [
                      1,
                      "#f0f921"
                    ]
                  ]
                },
                "legend": {
                  "tracegroupgap": 0
                },
                "margin": {
                  "t": 60
                },
                "template": {
                  "data": {
                    "bar": [
                      {
                        "error_x": {
                          "color": "#2a3f5f"
                        },
                        "error_y": {
                          "color": "#2a3f5f"
                        },
                        "marker": {
                          "line": {
                            "color": "#E5ECF6",
                            "width": 0.5
                          },
                          "pattern": {
                            "fillmode": "overlay",
                            "size": 10,
                            "solidity": 0.2
                          }
                        },
                        "type": "bar"
                      }
                    ],
                    "barpolar": [
                      {
                        "marker": {
                          "line": {
                            "color": "#E5ECF6",
                            "width": 0.5
                          },
                          "pattern": {
                            "fillmode": "overlay",
                            "size": 10,
                            "solidity": 0.2
                          }
                        },
                        "type": "barpolar"
                      }
                    ],
                    "carpet": [
                      {
                        "aaxis": {
                          "endlinecolor": "#2a3f5f",
                          "gridcolor": "white",
                          "linecolor": "white",
                          "minorgridcolor": "white",
                          "startlinecolor": "#2a3f5f"
                        },
                        "baxis": {
                          "endlinecolor": "#2a3f5f",
                          "gridcolor": "white",
                          "linecolor": "white",
                          "minorgridcolor": "white",
                          "startlinecolor": "#2a3f5f"
                        },
                        "type": "carpet"
                      }
                    ],
                    "choropleth": [
                      {
                        "colorbar": {
                          "outlinewidth": 0,
                          "ticks": ""
                        },
                        "type": "choropleth"
                      }
                    ],
                    "contour": [
                      {
                        "colorbar": {
                          "outlinewidth": 0,
                          "ticks": ""
                        },
                        "colorscale": [
                          [
                            0,
                            "#0d0887"
                          ],
                          [
                            0.1111111111111111,
                            "#46039f"
                          ],
                          [
                            0.2222222222222222,
                            "#7201a8"
                          ],
                          [
                            0.3333333333333333,
                            "#9c179e"
                          ],
                          [
                            0.4444444444444444,
                            "#bd3786"
                          ],
                          [
                            0.5555555555555556,
                            "#d8576b"
                          ],
                          [
                            0.6666666666666666,
                            "#ed7953"
                          ],
                          [
                            0.7777777777777778,
                            "#fb9f3a"
                          ],
                          [
                            0.8888888888888888,
                            "#fdca26"
                          ],
                          [
                            1,
                            "#f0f921"
                          ]
                        ],
                        "type": "contour"
                      }
                    ],
                    "contourcarpet": [
                      {
                        "colorbar": {
                          "outlinewidth": 0,
                          "ticks": ""
                        },
                        "type": "contourcarpet"
                      }
                    ],
                    "heatmap": [
                      {
                        "colorbar": {
                          "outlinewidth": 0,
                          "ticks": ""
                        },
                        "colorscale": [
                          [
                            0,
                            "#0d0887"
                          ],
                          [
                            0.1111111111111111,
                            "#46039f"
                          ],
                          [
                            0.2222222222222222,
                            "#7201a8"
                          ],
                          [
                            0.3333333333333333,
                            "#9c179e"
                          ],
                          [
                            0.4444444444444444,
                            "#bd3786"
                          ],
                          [
                            0.5555555555555556,
                            "#d8576b"
                          ],
                          [
                            0.6666666666666666,
                            "#ed7953"
                          ],
                          [
                            0.7777777777777778,
                            "#fb9f3a"
                          ],
                          [
                            0.8888888888888888,
                            "#fdca26"
                          ],
                          [
                            1,
                            "#f0f921"
                          ]
                        ],
                        "type": "heatmap"
                      }
                    ],
                    "heatmapgl": [
                      {
                        "colorbar": {
                          "outlinewidth": 0,
                          "ticks": ""
                        },
                        "colorscale": [
                          [
                            0,
                            "#0d0887"
                          ],
                          [
                            0.1111111111111111,
                            "#46039f"
                          ],
                          [
                            0.2222222222222222,
                            "#7201a8"
                          ],
                          [
                            0.3333333333333333,
                            "#9c179e"
                          ],
                          [
                            0.4444444444444444,
                            "#bd3786"
                          ],
                          [
                            0.5555555555555556,
                            "#d8576b"
                          ],
                          [
                            0.6666666666666666,
                            "#ed7953"
                          ],
                          [
                            0.7777777777777778,
                            "#fb9f3a"
                          ],
                          [
                            0.8888888888888888,
                            "#fdca26"
                          ],
                          [
                            1,
                            "#f0f921"
                          ]
                        ],
                        "type": "heatmapgl"
                      }
                    ],
                    "histogram": [
                      {
                        "marker": {
                          "pattern": {
                            "fillmode": "overlay",
                            "size": 10,
                            "solidity": 0.2
                          }
                        },
                        "type": "histogram"
                      }
                    ],
                    "histogram2d": [
                      {
                        "colorbar": {
                          "outlinewidth": 0,
                          "ticks": ""
                        },
                        "colorscale": [
                          [
                            0,
                            "#0d0887"
                          ],
                          [
                            0.1111111111111111,
                            "#46039f"
                          ],
                          [
                            0.2222222222222222,
                            "#7201a8"
                          ],
                          [
                            0.3333333333333333,
                            "#9c179e"
                          ],
                          [
                            0.4444444444444444,
                            "#bd3786"
                          ],
                          [
                            0.5555555555555556,
                            "#d8576b"
                          ],
                          [
                            0.6666666666666666,
                            "#ed7953"
                          ],
                          [
                            0.7777777777777778,
                            "#fb9f3a"
                          ],
                          [
                            0.8888888888888888,
                            "#fdca26"
                          ],
                          [
                            1,
                            "#f0f921"
                          ]
                        ],
                        "type": "histogram2d"
                      }
                    ],
                    "histogram2dcontour": [
                      {
                        "colorbar": {
                          "outlinewidth": 0,
                          "ticks": ""
                        },
                        "colorscale": [
                          [
                            0,
                            "#0d0887"
                          ],
                          [
                            0.1111111111111111,
                            "#46039f"
                          ],
                          [
                            0.2222222222222222,
                            "#7201a8"
                          ],
                          [
                            0.3333333333333333,
                            "#9c179e"
                          ],
                          [
                            0.4444444444444444,
                            "#bd3786"
                          ],
                          [
                            0.5555555555555556,
                            "#d8576b"
                          ],
                          [
                            0.6666666666666666,
                            "#ed7953"
                          ],
                          [
                            0.7777777777777778,
                            "#fb9f3a"
                          ],
                          [
                            0.8888888888888888,
                            "#fdca26"
                          ],
                          [
                            1,
                            "#f0f921"
                          ]
                        ],
                        "type": "histogram2dcontour"
                      }
                    ],
                    "mesh3d": [
                      {
                        "colorbar": {
                          "outlinewidth": 0,
                          "ticks": ""
                        },
                        "type": "mesh3d"
                      }
                    ],
                    "parcoords": [
                      {
                        "line": {
                          "colorbar": {
                            "outlinewidth": 0,
                            "ticks": ""
                          }
                        },
                        "type": "parcoords"
                      }
                    ],
                    "pie": [
                      {
                        "automargin": true,
                        "type": "pie"
                      }
                    ],
                    "scatter": [
                      {
                        "fillpattern": {
                          "fillmode": "overlay",
                          "size": 10,
                          "solidity": 0.2
                        },
                        "type": "scatter"
                      }
                    ],
                    "scatter3d": [
                      {
                        "line": {
                          "colorbar": {
                            "outlinewidth": 0,
                            "ticks": ""
                          }
                        },
                        "marker": {
                          "colorbar": {
                            "outlinewidth": 0,
                            "ticks": ""
                          }
                        },
                        "type": "scatter3d"
                      }
                    ],
                    "scattercarpet": [
                      {
                        "marker": {
                          "colorbar": {
                            "outlinewidth": 0,
                            "ticks": ""
                          }
                        },
                        "type": "scattercarpet"
                      }
                    ],
                    "scattergeo": [
                      {
                        "marker": {
                          "colorbar": {
                            "outlinewidth": 0,
                            "ticks": ""
                          }
                        },
                        "type": "scattergeo"
                      }
                    ],
                    "scattergl": [
                      {
                        "marker": {
                          "colorbar": {
                            "outlinewidth": 0,
                            "ticks": ""
                          }
                        },
                        "type": "scattergl"
                      }
                    ],
                    "scattermapbox": [
                      {
                        "marker": {
                          "colorbar": {
                            "outlinewidth": 0,
                            "ticks": ""
                          }
                        },
                        "type": "scattermapbox"
                      }
                    ],
                    "scatterpolar": [
                      {
                        "marker": {
                          "colorbar": {
                            "outlinewidth": 0,
                            "ticks": ""
                          }
                        },
                        "type": "scatterpolar"
                      }
                    ],
                    "scatterpolargl": [
                      {
                        "marker": {
                          "colorbar": {
                            "outlinewidth": 0,
                            "ticks": ""
                          }
                        },
                        "type": "scatterpolargl"
                      }
                    ],
                    "scatterternary": [
                      {
                        "marker": {
                          "colorbar": {
                            "outlinewidth": 0,
                            "ticks": ""
                          }
                        },
                        "type": "scatterternary"
                      }
                    ],
                    "surface": [
                      {
                        "colorbar": {
                          "outlinewidth": 0,
                          "ticks": ""
                        },
                        "colorscale": [
                          [
                            0,
                            "#0d0887"
                          ],
                          [
                            0.1111111111111111,
                            "#46039f"
                          ],
                          [
                            0.2222222222222222,
                            "#7201a8"
                          ],
                          [
                            0.3333333333333333,
                            "#9c179e"
                          ],
                          [
                            0.4444444444444444,
                            "#bd3786"
                          ],
                          [
                            0.5555555555555556,
                            "#d8576b"
                          ],
                          [
                            0.6666666666666666,
                            "#ed7953"
                          ],
                          [
                            0.7777777777777778,
                            "#fb9f3a"
                          ],
                          [
                            0.8888888888888888,
                            "#fdca26"
                          ],
                          [
                            1,
                            "#f0f921"
                          ]
                        ],
                        "type": "surface"
                      }
                    ],
                    "table": [
                      {
                        "cells": {
                          "fill": {
                            "color": "#EBF0F8"
                          },
                          "line": {
                            "color": "white"
                          }
                        },
                        "header": {
                          "fill": {
                            "color": "#C8D4E3"
                          },
                          "line": {
                            "color": "white"
                          }
                        },
                        "type": "table"
                      }
                    ]
                  },
                  "layout": {
                    "annotationdefaults": {
                      "arrowcolor": "#2a3f5f",
                      "arrowhead": 0,
                      "arrowwidth": 1
                    },
                    "autotypenumbers": "strict",
                    "coloraxis": {
                      "colorbar": {
                        "outlinewidth": 0,
                        "ticks": ""
                      }
                    },
                    "colorscale": {
                      "diverging": [
                        [
                          0,
                          "#8e0152"
                        ],
                        [
                          0.1,
                          "#c51b7d"
                        ],
                        [
                          0.2,
                          "#de77ae"
                        ],
                        [
                          0.3,
                          "#f1b6da"
                        ],
                        [
                          0.4,
                          "#fde0ef"
                        ],
                        [
                          0.5,
                          "#f7f7f7"
                        ],
                        [
                          0.6,
                          "#e6f5d0"
                        ],
                        [
                          0.7,
                          "#b8e186"
                        ],
                        [
                          0.8,
                          "#7fbc41"
                        ],
                        [
                          0.9,
                          "#4d9221"
                        ],
                        [
                          1,
                          "#276419"
                        ]
                      ],
                      "sequential": [
                        [
                          0,
                          "#0d0887"
                        ],
                        [
                          0.1111111111111111,
                          "#46039f"
                        ],
                        [
                          0.2222222222222222,
                          "#7201a8"
                        ],
                        [
                          0.3333333333333333,
                          "#9c179e"
                        ],
                        [
                          0.4444444444444444,
                          "#bd3786"
                        ],
                        [
                          0.5555555555555556,
                          "#d8576b"
                        ],
                        [
                          0.6666666666666666,
                          "#ed7953"
                        ],
                        [
                          0.7777777777777778,
                          "#fb9f3a"
                        ],
                        [
                          0.8888888888888888,
                          "#fdca26"
                        ],
                        [
                          1,
                          "#f0f921"
                        ]
                      ],
                      "sequentialminus": [
                        [
                          0,
                          "#0d0887"
                        ],
                        [
                          0.1111111111111111,
                          "#46039f"
                        ],
                        [
                          0.2222222222222222,
                          "#7201a8"
                        ],
                        [
                          0.3333333333333333,
                          "#9c179e"
                        ],
                        [
                          0.4444444444444444,
                          "#bd3786"
                        ],
                        [
                          0.5555555555555556,
                          "#d8576b"
                        ],
                        [
                          0.6666666666666666,
                          "#ed7953"
                        ],
                        [
                          0.7777777777777778,
                          "#fb9f3a"
                        ],
                        [
                          0.8888888888888888,
                          "#fdca26"
                        ],
                        [
                          1,
                          "#f0f921"
                        ]
                      ]
                    },
                    "colorway": [
                      "#636efa",
                      "#EF553B",
                      "#00cc96",
                      "#ab63fa",
                      "#FFA15A",
                      "#19d3f3",
                      "#FF6692",
                      "#B6E880",
                      "#FF97FF",
                      "#FECB52"
                    ],
                    "font": {
                      "color": "#2a3f5f"
                    },
                    "geo": {
                      "bgcolor": "white",
                      "lakecolor": "white",
                      "landcolor": "#E5ECF6",
                      "showlakes": true,
                      "showland": true,
                      "subunitcolor": "white"
                    },
                    "hoverlabel": {
                      "align": "left"
                    },
                    "hovermode": "closest",
                    "mapbox": {
                      "style": "light"
                    },
                    "paper_bgcolor": "white",
                    "plot_bgcolor": "#E5ECF6",
                    "polar": {
                      "angularaxis": {
                        "gridcolor": "white",
                        "linecolor": "white",
                        "ticks": ""
                      },
                      "bgcolor": "#E5ECF6",
                      "radialaxis": {
                        "gridcolor": "white",
                        "linecolor": "white",
                        "ticks": ""
                      }
                    },
                    "scene": {
                      "xaxis": {
                        "backgroundcolor": "#E5ECF6",
                        "gridcolor": "white",
                        "gridwidth": 2,
                        "linecolor": "white",
                        "showbackground": true,
                        "ticks": "",
                        "zerolinecolor": "white"
                      },
                      "yaxis": {
                        "backgroundcolor": "#E5ECF6",
                        "gridcolor": "white",
                        "gridwidth": 2,
                        "linecolor": "white",
                        "showbackground": true,
                        "ticks": "",
                        "zerolinecolor": "white"
                      },
                      "zaxis": {
                        "backgroundcolor": "#E5ECF6",
                        "gridcolor": "white",
                        "gridwidth": 2,
                        "linecolor": "white",
                        "showbackground": true,
                        "ticks": "",
                        "zerolinecolor": "white"
                      }
                    },
                    "shapedefaults": {
                      "line": {
                        "color": "#2a3f5f"
                      }
                    },
                    "ternary": {
                      "aaxis": {
                        "gridcolor": "white",
                        "linecolor": "white",
                        "ticks": ""
                      },
                      "baxis": {
                        "gridcolor": "white",
                        "linecolor": "white",
                        "ticks": ""
                      },
                      "bgcolor": "#E5ECF6",
                      "caxis": {
                        "gridcolor": "white",
                        "linecolor": "white",
                        "ticks": ""
                      }
                    },
                    "title": {
                      "x": 0.05
                    },
                    "xaxis": {
                      "automargin": true,
                      "gridcolor": "white",
                      "linecolor": "white",
                      "ticks": "",
                      "title": {
                        "standoff": 15
                      },
                      "zerolinecolor": "white",
                      "zerolinewidth": 2
                    },
                    "yaxis": {
                      "automargin": true,
                      "gridcolor": "white",
                      "linecolor": "white",
                      "ticks": "",
                      "title": {
                        "standoff": 15
                      },
                      "zerolinecolor": "white",
                      "zerolinewidth": 2
                    }
                  }
                }
              }
            }
          },
          "metadata": {},
          "output_type": "display_data"
        }
      ],
      "source": [
        "# Filter the data for the year 2018\n",
        "cleaned_data_2018 = cleaned_data3[cleaned_data3['Year'] == 2018]\n",
        "\n",
        "# Create the sunburst chart\n",
        "fig = px.sunburst(data_frame=cleaned_data_2018, path=['Continent', 'Country'], values='Value (USD)',\n",
        "                  color='Value (USD)', hover_name='ISO3')\n",
        "fig.show()"
      ]
    },
    {
      "cell_type": "markdown",
      "metadata": {},
      "source": [
        "As predicted, Asia is the largest contributer globally in the industries as a whole. Europe and America are not too far behind though. Individually the USA is still the produces the most value from it's industries, closly folowed by China. This data is from 2018 though, and given how much China's economy has grown over the years, I believe it may have overtaken the US. "
      ]
    },
    {
      "cell_type": "code",
      "execution_count": 33,
      "metadata": {},
      "outputs": [
        {
          "data": {
            "application/vnd.plotly.v1+json": {
              "config": {
                "plotlyServerURL": "https://plot.ly"
              },
              "data": [
                {
                  "alignmentgroup": "True",
                  "hovertemplate": "ISO3=ARG<br>Ind Code=%{x}<br>Value (USD)=%{y}<extra></extra>",
                  "legendgroup": "ARG",
                  "marker": {
                    "color": "#636efa",
                    "pattern": {
                      "shape": ""
                    }
                  },
                  "name": "ARG",
                  "offsetgroup": "ARG",
                  "orientation": "v",
                  "showlegend": true,
                  "textposition": "auto",
                  "type": "bar",
                  "x": [
                    "A",
                    "B",
                    "C",
                    "D",
                    "E",
                    "F",
                    "G",
                    "H",
                    "I",
                    "J",
                    "K"
                  ],
                  "xaxis": "x",
                  "y": [
                    24966.3,
                    4322.3,
                    1039.2,
                    4735.6,
                    3330.2,
                    9760.8,
                    3363,
                    3295.8,
                    5252,
                    9745.8,
                    4666.1
                  ],
                  "yaxis": "y"
                },
                {
                  "alignmentgroup": "True",
                  "hovertemplate": "ISO3=AUS<br>Ind Code=%{x}<br>Value (USD)=%{y}<extra></extra>",
                  "legendgroup": "AUS",
                  "marker": {
                    "color": "#EF553B",
                    "pattern": {
                      "shape": ""
                    }
                  },
                  "name": "AUS",
                  "offsetgroup": "AUS",
                  "orientation": "v",
                  "showlegend": true,
                  "textposition": "auto",
                  "type": "bar",
                  "x": [
                    "A",
                    "B",
                    "C",
                    "D",
                    "E",
                    "F",
                    "G",
                    "H",
                    "I",
                    "J",
                    "K"
                  ],
                  "xaxis": "x",
                  "y": [
                    19227.4,
                    1738.5,
                    3526.9,
                    3805.5,
                    4366.4,
                    7094.3,
                    3405.9,
                    4880.1,
                    5153.2,
                    17233.7,
                    6059.5
                  ],
                  "yaxis": "y"
                },
                {
                  "alignmentgroup": "True",
                  "hovertemplate": "ISO3=AUT<br>Ind Code=%{x}<br>Value (USD)=%{y}<extra></extra>",
                  "legendgroup": "AUT",
                  "marker": {
                    "color": "#00cc96",
                    "pattern": {
                      "shape": ""
                    }
                  },
                  "name": "AUT",
                  "offsetgroup": "AUT",
                  "orientation": "v",
                  "showlegend": true,
                  "textposition": "auto",
                  "type": "bar",
                  "x": [
                    "A",
                    "B",
                    "C",
                    "D",
                    "E",
                    "F",
                    "G",
                    "H",
                    "I",
                    "J",
                    "K",
                    "L",
                    "A",
                    "B",
                    "C",
                    "D",
                    "E",
                    "F",
                    "G",
                    "H",
                    "I",
                    "J",
                    "K",
                    "L"
                  ],
                  "xaxis": "x",
                  "y": [
                    7380.53,
                    1185.98,
                    3188.35,
                    3794.2,
                    1100.67,
                    6564.1,
                    2990.23,
                    3125.61,
                    5315.6,
                    29632.68,
                    6915.03,
                    3334.46,
                    6893.34,
                    1156.3,
                    2896.58,
                    3367.87,
                    770.27,
                    6376.76,
                    2882.06,
                    3048.62,
                    4498.06,
                    27564.64,
                    6853.24,
                    3076.43
                  ],
                  "yaxis": "y"
                },
                {
                  "alignmentgroup": "True",
                  "hovertemplate": "ISO3=BEL<br>Ind Code=%{x}<br>Value (USD)=%{y}<extra></extra>",
                  "legendgroup": "BEL",
                  "marker": {
                    "color": "#ab63fa",
                    "pattern": {
                      "shape": ""
                    }
                  },
                  "name": "BEL",
                  "offsetgroup": "BEL",
                  "orientation": "v",
                  "showlegend": true,
                  "textposition": "auto",
                  "type": "bar",
                  "x": [
                    "A",
                    "B",
                    "C",
                    "D",
                    "E",
                    "F",
                    "G",
                    "H",
                    "I",
                    "J",
                    "K",
                    "L",
                    "A",
                    "B",
                    "C",
                    "D",
                    "E",
                    "F",
                    "G",
                    "H",
                    "I",
                    "J",
                    "K",
                    "L"
                  ],
                  "xaxis": "x",
                  "y": [
                    10051.1,
                    1629.13,
                    1118.25,
                    2613.6,
                    1534.53,
                    23640.6,
                    2661.4,
                    3113.94,
                    3692.96,
                    11767.86,
                    3886.64,
                    1584.96,
                    8717.89,
                    1406.09,
                    931.88,
                    2009.77,
                    1288.81,
                    18537.08,
                    2376.58,
                    2820.6,
                    2584.61,
                    10973.42,
                    3625.45,
                    1438.82
                  ],
                  "yaxis": "y"
                },
                {
                  "alignmentgroup": "True",
                  "hovertemplate": "ISO3=BRA<br>Ind Code=%{x}<br>Value (USD)=%{y}<extra></extra>",
                  "legendgroup": "BRA",
                  "marker": {
                    "color": "#FFA15A",
                    "pattern": {
                      "shape": ""
                    }
                  },
                  "name": "BRA",
                  "offsetgroup": "BRA",
                  "orientation": "v",
                  "showlegend": true,
                  "textposition": "auto",
                  "type": "bar",
                  "x": [
                    "A",
                    "B",
                    "C",
                    "D",
                    "E",
                    "F",
                    "G",
                    "H",
                    "I",
                    "J",
                    "K"
                  ],
                  "xaxis": "x",
                  "y": [
                    48565,
                    18578.4,
                    3529.5,
                    12966.6,
                    28034.9,
                    30456.5,
                    10043.3,
                    7876.3,
                    11298.9,
                    35121.3,
                    24886.2
                  ],
                  "yaxis": "y"
                },
                {
                  "alignmentgroup": "True",
                  "hovertemplate": "ISO3=BRN<br>Ind Code=%{x}<br>Value (USD)=%{y}<extra></extra>",
                  "legendgroup": "BRN",
                  "marker": {
                    "color": "#19d3f3",
                    "pattern": {
                      "shape": ""
                    }
                  },
                  "name": "BRN",
                  "offsetgroup": "BRN",
                  "orientation": "v",
                  "showlegend": true,
                  "textposition": "auto",
                  "type": "bar",
                  "x": [
                    "A",
                    "B",
                    "C",
                    "D",
                    "E",
                    "F",
                    "G",
                    "H",
                    "I",
                    "J",
                    "K"
                  ],
                  "xaxis": "x",
                  "y": [
                    16.8,
                    47.5,
                    2.4,
                    6.9,
                    1247.2,
                    37.6,
                    6.9,
                    13.7,
                    3.9,
                    33.3,
                    74.8
                  ],
                  "yaxis": "y"
                },
                {
                  "alignmentgroup": "True",
                  "hovertemplate": "ISO3=BGR<br>Ind Code=%{x}<br>Value (USD)=%{y}<extra></extra>",
                  "legendgroup": "BGR",
                  "marker": {
                    "color": "#FF6692",
                    "pattern": {
                      "shape": ""
                    }
                  },
                  "name": "BGR",
                  "offsetgroup": "BGR",
                  "orientation": "v",
                  "showlegend": true,
                  "textposition": "auto",
                  "type": "bar",
                  "x": [
                    "A",
                    "B",
                    "C",
                    "D",
                    "E",
                    "F",
                    "G",
                    "H",
                    "I",
                    "J",
                    "K",
                    "L",
                    "A",
                    "B",
                    "C",
                    "D",
                    "E",
                    "F",
                    "G",
                    "H",
                    "I",
                    "J",
                    "K",
                    "L"
                  ],
                  "xaxis": "x",
                  "y": [
                    1459.75,
                    867.65,
                    155.36,
                    401.3,
                    133.43,
                    787.7,
                    485.71,
                    517.27,
                    510.32,
                    2452.51,
                    402.19,
                    546.7,
                    1145.95,
                    737.2,
                    119.4,
                    313.65,
                    184.36,
                    694.05,
                    389.19,
                    452.96,
                    345.64,
                    2090.78,
                    374.65,
                    476.17
                  ],
                  "yaxis": "y"
                },
                {
                  "alignmentgroup": "True",
                  "hovertemplate": "ISO3=KHM<br>Ind Code=%{x}<br>Value (USD)=%{y}<extra></extra>",
                  "legendgroup": "KHM",
                  "marker": {
                    "color": "#B6E880",
                    "pattern": {
                      "shape": ""
                    }
                  },
                  "name": "KHM",
                  "offsetgroup": "KHM",
                  "orientation": "v",
                  "showlegend": true,
                  "textposition": "auto",
                  "type": "bar",
                  "x": [
                    "A",
                    "B",
                    "C",
                    "D",
                    "E",
                    "F",
                    "G",
                    "H",
                    "I",
                    "J",
                    "K"
                  ],
                  "xaxis": "x",
                  "y": [
                    632.9,
                    4105.7,
                    548.9,
                    115.8,
                    93.1,
                    97.9,
                    103.3,
                    49.1,
                    30.2,
                    573.6,
                    292.7
                  ],
                  "yaxis": "y"
                },
                {
                  "alignmentgroup": "True",
                  "hovertemplate": "ISO3=CAN<br>Ind Code=%{x}<br>Value (USD)=%{y}<extra></extra>",
                  "legendgroup": "CAN",
                  "marker": {
                    "color": "#FF97FF",
                    "pattern": {
                      "shape": ""
                    }
                  },
                  "name": "CAN",
                  "offsetgroup": "CAN",
                  "orientation": "v",
                  "showlegend": true,
                  "textposition": "auto",
                  "type": "bar",
                  "x": [
                    "A",
                    "B",
                    "C",
                    "D",
                    "E",
                    "F",
                    "G",
                    "H",
                    "I",
                    "J",
                    "K",
                    "L",
                    "A",
                    "B",
                    "C",
                    "D",
                    "E",
                    "F",
                    "G",
                    "H",
                    "I",
                    "J",
                    "K",
                    "L"
                  ],
                  "xaxis": "x",
                  "y": [
                    26543.08,
                    2099.06,
                    9154.06,
                    11191,
                    12167.6,
                    17601.1,
                    8473.41,
                    6481.62,
                    9901.08,
                    34478.61,
                    23817.39,
                    8180.16,
                    25150.88,
                    2026.93,
                    7208.66,
                    9532.46,
                    11417.34,
                    17206.78,
                    8345.67,
                    6229.71,
                    9184.81,
                    33812.65,
                    25314.74,
                    7887.45
                  ],
                  "yaxis": "y"
                },
                {
                  "alignmentgroup": "True",
                  "hovertemplate": "ISO3=CHL<br>Ind Code=%{x}<br>Value (USD)=%{y}<extra></extra>",
                  "legendgroup": "CHL",
                  "marker": {
                    "color": "#FECB52",
                    "pattern": {
                      "shape": ""
                    }
                  },
                  "name": "CHL",
                  "offsetgroup": "CHL",
                  "orientation": "v",
                  "showlegend": true,
                  "textposition": "auto",
                  "type": "bar",
                  "x": [
                    "A",
                    "B",
                    "C",
                    "D",
                    "E",
                    "F",
                    "G",
                    "H",
                    "I",
                    "J",
                    "K",
                    "A",
                    "B",
                    "E",
                    "H"
                  ],
                  "xaxis": "x",
                  "y": [
                    11018.43,
                    453.79,
                    1449.4,
                    3598.8,
                    819.02,
                    2773.2,
                    4508.9,
                    1058.26,
                    14588.5,
                    8075.27,
                    1082.4,
                    11280.15,
                    551.39,
                    1158.13,
                    865.67
                  ],
                  "yaxis": "y"
                },
                {
                  "alignmentgroup": "True",
                  "hovertemplate": "ISO3=TWN<br>Ind Code=%{x}<br>Value (USD)=%{y}<extra></extra>",
                  "legendgroup": "TWN",
                  "marker": {
                    "color": "#636efa",
                    "pattern": {
                      "shape": ""
                    }
                  },
                  "name": "TWN",
                  "offsetgroup": "TWN",
                  "orientation": "v",
                  "showlegend": true,
                  "textposition": "auto",
                  "type": "bar",
                  "x": [
                    "A",
                    "B",
                    "C",
                    "D",
                    "E",
                    "F",
                    "G",
                    "H",
                    "I",
                    "J",
                    "K"
                  ],
                  "xaxis": "x",
                  "y": [
                    8448.6,
                    5359,
                    446,
                    3524.9,
                    6090.8,
                    16302.5,
                    6164.6,
                    3607.6,
                    10327.9,
                    105364.1,
                    8987
                  ],
                  "yaxis": "y"
                },
                {
                  "alignmentgroup": "True",
                  "hovertemplate": "ISO3=COL<br>Ind Code=%{x}<br>Value (USD)=%{y}<extra></extra>",
                  "legendgroup": "COL",
                  "marker": {
                    "color": "#EF553B",
                    "pattern": {
                      "shape": ""
                    }
                  },
                  "name": "COL",
                  "offsetgroup": "COL",
                  "orientation": "v",
                  "showlegend": true,
                  "textposition": "auto",
                  "type": "bar",
                  "x": [
                    "A",
                    "B",
                    "C",
                    "D",
                    "E",
                    "F",
                    "G",
                    "H",
                    "I",
                    "J",
                    "K",
                    "L",
                    "A",
                    "B",
                    "C",
                    "D",
                    "E",
                    "G",
                    "H",
                    "K",
                    "L"
                  ],
                  "xaxis": "x",
                  "y": [
                    10591.39,
                    3522.68,
                    350.51,
                    1867.8,
                    4395.23,
                    5100.7,
                    1002.47,
                    4032.2,
                    1363.3,
                    3607.15,
                    838.04,
                    1944.37,
                    10428.61,
                    3791.92,
                    374.93,
                    1974.19,
                    3749.98,
                    1072.99,
                    4405.01,
                    902.3,
                    2034.73
                  ],
                  "yaxis": "y"
                },
                {
                  "alignmentgroup": "True",
                  "hovertemplate": "ISO3=CRI<br>Ind Code=%{x}<br>Value (USD)=%{y}<extra></extra>",
                  "legendgroup": "CRI",
                  "marker": {
                    "color": "#00cc96",
                    "pattern": {
                      "shape": ""
                    }
                  },
                  "name": "CRI",
                  "offsetgroup": "CRI",
                  "orientation": "v",
                  "showlegend": true,
                  "textposition": "auto",
                  "type": "bar",
                  "x": [
                    "A",
                    "B",
                    "C",
                    "D",
                    "E",
                    "F",
                    "G",
                    "H",
                    "I",
                    "J",
                    "K"
                  ],
                  "xaxis": "x",
                  "y": [
                    2920,
                    188.2,
                    90.4,
                    326.7,
                    221.2,
                    549.9,
                    123.7,
                    373,
                    104.6,
                    481.4,
                    25.1
                  ],
                  "yaxis": "y"
                },
                {
                  "alignmentgroup": "True",
                  "hovertemplate": "ISO3=HRV<br>Ind Code=%{x}<br>Value (USD)=%{y}<extra></extra>",
                  "legendgroup": "HRV",
                  "marker": {
                    "color": "#ab63fa",
                    "pattern": {
                      "shape": ""
                    }
                  },
                  "name": "HRV",
                  "offsetgroup": "HRV",
                  "orientation": "v",
                  "showlegend": true,
                  "textposition": "auto",
                  "type": "bar",
                  "x": [
                    "A",
                    "B",
                    "C",
                    "D",
                    "E",
                    "F",
                    "G",
                    "H",
                    "I",
                    "J",
                    "K",
                    "L",
                    "A",
                    "B",
                    "C",
                    "D",
                    "E",
                    "F",
                    "G",
                    "H",
                    "I",
                    "J",
                    "K",
                    "L"
                  ],
                  "xaxis": "x",
                  "y": [
                    1832.28,
                    409.18,
                    332.35,
                    408.4,
                    628.8,
                    666.8,
                    303.28,
                    442.06,
                    82.37,
                    1891.42,
                    151.5,
                    312.88,
                    1773.43,
                    356.63,
                    294.41,
                    343.81,
                    507.65,
                    580.58,
                    282.19,
                    404.31,
                    76.17,
                    1711.81,
                    134.99,
                    284.34
                  ],
                  "yaxis": "y"
                },
                {
                  "alignmentgroup": "True",
                  "hovertemplate": "ISO3=CYP<br>Ind Code=%{x}<br>Value (USD)=%{y}<extra></extra>",
                  "legendgroup": "CYP",
                  "marker": {
                    "color": "#FFA15A",
                    "pattern": {
                      "shape": ""
                    }
                  },
                  "name": "CYP",
                  "offsetgroup": "CYP",
                  "orientation": "v",
                  "showlegend": true,
                  "textposition": "auto",
                  "type": "bar",
                  "x": [
                    "A",
                    "B",
                    "C",
                    "D",
                    "E",
                    "F",
                    "G",
                    "H",
                    "I",
                    "J",
                    "K",
                    "L",
                    "A",
                    "B",
                    "C",
                    "D",
                    "E",
                    "F",
                    "G",
                    "H",
                    "I",
                    "J",
                    "K",
                    "L"
                  ],
                  "xaxis": "x",
                  "y": [
                    427.82,
                    20.77,
                    64.79,
                    49.9,
                    2.83,
                    184.3,
                    34.82,
                    145.16,
                    26.91,
                    212.08,
                    7.55,
                    46.62,
                    409.59,
                    19.84,
                    61.08,
                    48.53,
                    2.51,
                    183.23,
                    33.11,
                    137.35,
                    25.41,
                    200.95,
                    7.15,
                    43.99
                  ],
                  "yaxis": "y"
                },
                {
                  "alignmentgroup": "True",
                  "hovertemplate": "ISO3=CZE<br>Ind Code=%{x}<br>Value (USD)=%{y}<extra></extra>",
                  "legendgroup": "CZE",
                  "marker": {
                    "color": "#19d3f3",
                    "pattern": {
                      "shape": ""
                    }
                  },
                  "name": "CZE",
                  "offsetgroup": "CZE",
                  "orientation": "v",
                  "showlegend": true,
                  "textposition": "auto",
                  "type": "bar",
                  "x": [
                    "A",
                    "B",
                    "C",
                    "D",
                    "E",
                    "F",
                    "G",
                    "H",
                    "I",
                    "J",
                    "K",
                    "L",
                    "A",
                    "B",
                    "C",
                    "D",
                    "E",
                    "F",
                    "G",
                    "H",
                    "I",
                    "J",
                    "K",
                    "L"
                  ],
                  "xaxis": "x",
                  "y": [
                    4662.47,
                    1231.76,
                    1444.64,
                    1649.9,
                    47.45,
                    3130.3,
                    4014.93,
                    2559.97,
                    1777.37,
                    19209.83,
                    12750.07,
                    2030.89,
                    4087.65,
                    1063.14,
                    954.15,
                    1527.92,
                    13.58,
                    2851.16,
                    4023.29,
                    2257.96,
                    1239.58,
                    17846.43,
                    12670.44,
                    1805.09
                  ],
                  "yaxis": "y"
                },
                {
                  "alignmentgroup": "True",
                  "hovertemplate": "ISO3=DNK<br>Ind Code=%{x}<br>Value (USD)=%{y}<extra></extra>",
                  "legendgroup": "DNK",
                  "marker": {
                    "color": "#FF6692",
                    "pattern": {
                      "shape": ""
                    }
                  },
                  "name": "DNK",
                  "offsetgroup": "DNK",
                  "orientation": "v",
                  "showlegend": true,
                  "textposition": "auto",
                  "type": "bar",
                  "x": [
                    "A",
                    "B",
                    "C",
                    "D",
                    "E",
                    "F",
                    "G",
                    "H",
                    "I",
                    "J",
                    "K",
                    "L",
                    "A",
                    "B",
                    "C",
                    "D",
                    "E",
                    "F",
                    "G",
                    "H",
                    "I",
                    "J",
                    "K",
                    "L"
                  ],
                  "xaxis": "x",
                  "y": [
                    4803.14,
                    569.16,
                    684.76,
                    947.1,
                    273.81,
                    15196.8,
                    1320.74,
                    1672.31,
                    458.62,
                    14736.76,
                    669.24,
                    3018.55,
                    4867.39,
                    548.36,
                    607.4,
                    832.15,
                    525.22,
                    16398.92,
                    1235.86,
                    1544.78,
                    409.25,
                    13461.98,
                    665.4,
                    2880.63
                  ],
                  "yaxis": "y"
                },
                {
                  "alignmentgroup": "True",
                  "hovertemplate": "ISO3=EST<br>Ind Code=%{x}<br>Value (USD)=%{y}<extra></extra>",
                  "legendgroup": "EST",
                  "marker": {
                    "color": "#B6E880",
                    "pattern": {
                      "shape": ""
                    }
                  },
                  "name": "EST",
                  "offsetgroup": "EST",
                  "orientation": "v",
                  "showlegend": true,
                  "textposition": "auto",
                  "type": "bar",
                  "x": [
                    "A",
                    "B",
                    "C",
                    "D",
                    "E",
                    "F",
                    "G",
                    "H",
                    "I",
                    "J",
                    "K",
                    "L",
                    "A",
                    "B",
                    "C",
                    "D",
                    "E",
                    "F",
                    "G",
                    "H",
                    "I",
                    "J",
                    "K",
                    "L"
                  ],
                  "xaxis": "x",
                  "y": [
                    507.21,
                    222.59,
                    669.08,
                    203.2,
                    98.72,
                    191.8,
                    158.2,
                    215.35,
                    37.5,
                    1172.23,
                    158.22,
                    283.46,
                    455.17,
                    194.03,
                    612.8,
                    158.21,
                    36.77,
                    150.95,
                    142.18,
                    199.27,
                    28.14,
                    1017.69,
                    152.55,
                    241.36
                  ],
                  "yaxis": "y"
                },
                {
                  "alignmentgroup": "True",
                  "hovertemplate": "ISO3=FIN<br>Ind Code=%{x}<br>Value (USD)=%{y}<extra></extra>",
                  "legendgroup": "FIN",
                  "marker": {
                    "color": "#FF97FF",
                    "pattern": {
                      "shape": ""
                    }
                  },
                  "name": "FIN",
                  "offsetgroup": "FIN",
                  "orientation": "v",
                  "showlegend": true,
                  "textposition": "auto",
                  "type": "bar",
                  "x": [
                    "A",
                    "B",
                    "C",
                    "D",
                    "E",
                    "F",
                    "G",
                    "H",
                    "I",
                    "J",
                    "K",
                    "L",
                    "A",
                    "B",
                    "C",
                    "D",
                    "E",
                    "F",
                    "G",
                    "H",
                    "I",
                    "J",
                    "K",
                    "L"
                  ],
                  "xaxis": "x",
                  "y": [
                    3232.27,
                    481.83,
                    1624.99,
                    5422.5,
                    845.56,
                    5169.3,
                    1267.16,
                    1393.53,
                    2038.33,
                    15835.42,
                    1391.16,
                    790.06,
                    3134.38,
                    471.54,
                    1538.9,
                    3989.81,
                    1208.26,
                    4075.25,
                    1189.4,
                    1249.31,
                    2382.13,
                    14297.2,
                    1304.79,
                    701.21
                  ],
                  "yaxis": "y"
                },
                {
                  "alignmentgroup": "True",
                  "hovertemplate": "ISO3=FRA<br>Ind Code=%{x}<br>Value (USD)=%{y}<extra></extra>",
                  "legendgroup": "FRA",
                  "marker": {
                    "color": "#FECB52",
                    "pattern": {
                      "shape": ""
                    }
                  },
                  "name": "FRA",
                  "offsetgroup": "FRA",
                  "orientation": "v",
                  "showlegend": true,
                  "textposition": "auto",
                  "type": "bar",
                  "x": [
                    "A",
                    "B",
                    "C",
                    "D",
                    "E",
                    "F",
                    "G",
                    "H",
                    "I",
                    "J",
                    "K",
                    "L",
                    "A",
                    "B",
                    "C",
                    "D",
                    "E",
                    "F",
                    "G",
                    "H",
                    "I",
                    "J",
                    "K",
                    "L"
                  ],
                  "xaxis": "x",
                  "y": [
                    52770.93,
                    6561.38,
                    3610.18,
                    11498.5,
                    2345.37,
                    44608.4,
                    13487.68,
                    9516.13,
                    7038.49,
                    60261.73,
                    38551.06,
                    8393.04,
                    50559.84,
                    6307.58,
                    3167.88,
                    8789.42,
                    3686.6,
                    39057.32,
                    13143.15,
                    8924.07,
                    6411.03,
                    56260.15,
                    37602.33,
                    7792.2
                  ],
                  "yaxis": "y"
                },
                {
                  "alignmentgroup": "True",
                  "hovertemplate": "ISO3=DEU<br>Ind Code=%{x}<br>Value (USD)=%{y}<extra></extra>",
                  "legendgroup": "DEU",
                  "marker": {
                    "color": "#636efa",
                    "pattern": {
                      "shape": ""
                    }
                  },
                  "name": "DEU",
                  "offsetgroup": "DEU",
                  "orientation": "v",
                  "showlegend": true,
                  "textposition": "auto",
                  "type": "bar",
                  "x": [
                    "A",
                    "B",
                    "C",
                    "D",
                    "E",
                    "F",
                    "G",
                    "H",
                    "I",
                    "J",
                    "K",
                    "L",
                    "A",
                    "B",
                    "C",
                    "D",
                    "E",
                    "F",
                    "G",
                    "H",
                    "I",
                    "J",
                    "K",
                    "L"
                  ],
                  "xaxis": "x",
                  "y": [
                    55520.19,
                    8917.38,
                    8204.09,
                    23353.9,
                    5850.45,
                    93575.2,
                    35853.76,
                    21809.86,
                    27220.99,
                    299434.44,
                    180644.64,
                    30041.11,
                    50610.09,
                    8572.22,
                    7210.45,
                    20683.35,
                    4223.16,
                    78847.3,
                    35647.77,
                    19885.15,
                    24524.2,
                    277198.41,
                    171545.7,
                    27349.97
                  ],
                  "yaxis": "y"
                },
                {
                  "alignmentgroup": "True",
                  "hovertemplate": "ISO3=GRC<br>Ind Code=%{x}<br>Value (USD)=%{y}<extra></extra>",
                  "legendgroup": "GRC",
                  "marker": {
                    "color": "#EF553B",
                    "pattern": {
                      "shape": ""
                    }
                  },
                  "name": "GRC",
                  "offsetgroup": "GRC",
                  "orientation": "v",
                  "showlegend": true,
                  "textposition": "auto",
                  "type": "bar",
                  "x": [
                    "A",
                    "B",
                    "C",
                    "D",
                    "E",
                    "F",
                    "G",
                    "H",
                    "I",
                    "J",
                    "K",
                    "L",
                    "A",
                    "B",
                    "C",
                    "D",
                    "E",
                    "F",
                    "G",
                    "H",
                    "I",
                    "J",
                    "K",
                    "L"
                  ],
                  "xaxis": "x",
                  "y": [
                    6068.51,
                    612.87,
                    113.32,
                    849.9,
                    1141.85,
                    2321.5,
                    678.41,
                    950.14,
                    1441.29,
                    2303.4,
                    527.73,
                    377.1,
                    5601.18,
                    590.43,
                    104.68,
                    783.47,
                    1967.59,
                    2046.06,
                    633.79,
                    884.74,
                    1275.47,
                    2209.76,
                    532.23,
                    336.69
                  ],
                  "yaxis": "y"
                },
                {
                  "alignmentgroup": "True",
                  "hovertemplate": "ISO3=HKG<br>Ind Code=%{x}<br>Value (USD)=%{y}<extra></extra>",
                  "legendgroup": "HKG",
                  "marker": {
                    "color": "#00cc96",
                    "pattern": {
                      "shape": ""
                    }
                  },
                  "name": "HKG",
                  "offsetgroup": "HKG",
                  "orientation": "v",
                  "showlegend": true,
                  "textposition": "auto",
                  "type": "bar",
                  "x": [
                    "A",
                    "B",
                    "C",
                    "D",
                    "E",
                    "F",
                    "G",
                    "H",
                    "I",
                    "J",
                    "K"
                  ],
                  "xaxis": "x",
                  "y": [
                    2646.4,
                    291.7,
                    222,
                    178.7,
                    50.8,
                    96.2,
                    0,
                    69.1,
                    382.3,
                    334.7,
                    112.7
                  ],
                  "yaxis": "y"
                },
                {
                  "alignmentgroup": "True",
                  "hovertemplate": "ISO3=HUN<br>Ind Code=%{x}<br>Value (USD)=%{y}<extra></extra>",
                  "legendgroup": "HUN",
                  "marker": {
                    "color": "#ab63fa",
                    "pattern": {
                      "shape": ""
                    }
                  },
                  "name": "HUN",
                  "offsetgroup": "HUN",
                  "orientation": "v",
                  "showlegend": true,
                  "textposition": "auto",
                  "type": "bar",
                  "x": [
                    "A",
                    "B",
                    "C",
                    "D",
                    "E",
                    "F",
                    "G",
                    "H",
                    "I",
                    "J",
                    "K",
                    "L",
                    "A",
                    "B",
                    "C",
                    "D",
                    "E",
                    "F",
                    "G",
                    "H",
                    "I",
                    "J",
                    "K",
                    "L"
                  ],
                  "xaxis": "x",
                  "y": [
                    2913.71,
                    613.58,
                    353.13,
                    1016.1,
                    1050.25,
                    4085.7,
                    2062.87,
                    1034.39,
                    932.79,
                    8332.25,
                    6154.87,
                    943.42,
                    2702.52,
                    572.24,
                    348.94,
                    772.98,
                    973.23,
                    3185.83,
                    2053.13,
                    1002.63,
                    764.86,
                    7534.17,
                    5509.26,
                    874.28
                  ],
                  "yaxis": "y"
                },
                {
                  "alignmentgroup": "True",
                  "hovertemplate": "ISO3=ISL<br>Ind Code=%{x}<br>Value (USD)=%{y}<extra></extra>",
                  "legendgroup": "ISL",
                  "marker": {
                    "color": "#FFA15A",
                    "pattern": {
                      "shape": ""
                    }
                  },
                  "name": "ISL",
                  "offsetgroup": "ISL",
                  "orientation": "v",
                  "showlegend": true,
                  "textposition": "auto",
                  "type": "bar",
                  "x": [
                    "A",
                    "B",
                    "C",
                    "D",
                    "E",
                    "F",
                    "G",
                    "H",
                    "I",
                    "J",
                    "K",
                    "L",
                    "A",
                    "B",
                    "C",
                    "D",
                    "E",
                    "F",
                    "G",
                    "H",
                    "I",
                    "J",
                    "K",
                    "L"
                  ],
                  "xaxis": "x",
                  "y": [
                    1016.51,
                    28.05,
                    15.93,
                    56.9,
                    3.99,
                    43.8,
                    32.03,
                    121.06,
                    295.36,
                    401.25,
                    9.62,
                    169.33,
                    786.19,
                    20.3,
                    12.11,
                    43.87,
                    -0.18,
                    45.46,
                    24.28,
                    75.62,
                    414.64,
                    269.09,
                    6.86,
                    139.59
                  ],
                  "yaxis": "y"
                },
                {
                  "alignmentgroup": "True",
                  "hovertemplate": "ISO3=IND<br>Ind Code=%{x}<br>Value (USD)=%{y}<extra></extra>",
                  "legendgroup": "IND",
                  "marker": {
                    "color": "#19d3f3",
                    "pattern": {
                      "shape": ""
                    }
                  },
                  "name": "IND",
                  "offsetgroup": "IND",
                  "orientation": "v",
                  "showlegend": true,
                  "textposition": "auto",
                  "type": "bar",
                  "x": [
                    "A",
                    "B",
                    "C",
                    "D",
                    "E",
                    "F",
                    "G",
                    "H",
                    "I",
                    "J",
                    "K"
                  ],
                  "xaxis": "x",
                  "y": [
                    47080.3,
                    58616.4,
                    7389.4,
                    11658.9,
                    37750.2,
                    69278.4,
                    18059.8,
                    29926.1,
                    44783.8,
                    81611.1,
                    55749.3
                  ],
                  "yaxis": "y"
                },
                {
                  "alignmentgroup": "True",
                  "hovertemplate": "ISO3=IDN<br>Ind Code=%{x}<br>Value (USD)=%{y}<extra></extra>",
                  "legendgroup": "IDN",
                  "marker": {
                    "color": "#FF6692",
                    "pattern": {
                      "shape": ""
                    }
                  },
                  "name": "IDN",
                  "offsetgroup": "IDN",
                  "orientation": "v",
                  "showlegend": true,
                  "textposition": "auto",
                  "type": "bar",
                  "x": [
                    "A",
                    "B",
                    "C",
                    "D",
                    "E",
                    "F",
                    "G",
                    "H",
                    "I",
                    "J",
                    "K"
                  ],
                  "xaxis": "x",
                  "y": [
                    56693.2,
                    21869.9,
                    5118.5,
                    9408.2,
                    21397.3,
                    15372.4,
                    5991.2,
                    6034.4,
                    8092.5,
                    32757.5,
                    24612.9
                  ],
                  "yaxis": "y"
                },
                {
                  "alignmentgroup": "True",
                  "hovertemplate": "ISO3=IRL<br>Ind Code=%{x}<br>Value (USD)=%{y}<extra></extra>",
                  "legendgroup": "IRL",
                  "marker": {
                    "color": "#B6E880",
                    "pattern": {
                      "shape": ""
                    }
                  },
                  "name": "IRL",
                  "offsetgroup": "IRL",
                  "orientation": "v",
                  "showlegend": true,
                  "textposition": "auto",
                  "type": "bar",
                  "x": [
                    "A",
                    "B",
                    "C",
                    "D",
                    "E",
                    "F",
                    "G",
                    "H",
                    "I",
                    "J",
                    "K",
                    "L",
                    "A",
                    "B",
                    "C",
                    "D",
                    "G",
                    "H",
                    "I",
                    "K",
                    "L"
                  ],
                  "xaxis": "x",
                  "y": [
                    10351.06,
                    171.8,
                    357.96,
                    643.5,
                    12446.6,
                    59396.9,
                    732.98,
                    1017.7,
                    352.16,
                    18218.55,
                    474.71,
                    5724.16,
                    9035.45,
                    201.8,
                    353,
                    543.25,
                    721.06,
                    807.15,
                    394.84,
                    415.1,
                    4106.41
                  ],
                  "yaxis": "y"
                },
                {
                  "alignmentgroup": "True",
                  "hovertemplate": "ISO3=ITA<br>Ind Code=%{x}<br>Value (USD)=%{y}<extra></extra>",
                  "legendgroup": "ITA",
                  "marker": {
                    "color": "#FF97FF",
                    "pattern": {
                      "shape": ""
                    }
                  },
                  "name": "ITA",
                  "offsetgroup": "ITA",
                  "orientation": "v",
                  "showlegend": true,
                  "textposition": "auto",
                  "type": "bar",
                  "x": [
                    "A",
                    "B",
                    "C",
                    "D",
                    "E",
                    "F",
                    "G",
                    "H",
                    "I",
                    "J",
                    "K",
                    "L",
                    "A",
                    "B",
                    "C",
                    "D",
                    "E",
                    "F",
                    "G",
                    "H",
                    "I",
                    "J",
                    "K",
                    "L"
                  ],
                  "xaxis": "x",
                  "y": [
                    34843.69,
                    30514.44,
                    5768.84,
                    12849.9,
                    2151.82,
                    31761.6,
                    15986.57,
                    12222.99,
                    11179.62,
                    109081.53,
                    27281.81,
                    16950.71,
                    31892.74,
                    27941.21,
                    5184.42,
                    11161.15,
                    871.52,
                    23474.2,
                    15162.17,
                    11366.41,
                    7937.57,
                    100645.29,
                    27292.59,
                    15273.34
                  ],
                  "yaxis": "y"
                },
                {
                  "alignmentgroup": "True",
                  "hovertemplate": "ISO3=JPN<br>Ind Code=%{x}<br>Value (USD)=%{y}<extra></extra>",
                  "legendgroup": "JPN",
                  "marker": {
                    "color": "#FECB52",
                    "pattern": {
                      "shape": ""
                    }
                  },
                  "name": "JPN",
                  "offsetgroup": "JPN",
                  "orientation": "v",
                  "showlegend": true,
                  "textposition": "auto",
                  "type": "bar",
                  "x": [
                    "A",
                    "B",
                    "C",
                    "D",
                    "E",
                    "F",
                    "G",
                    "H",
                    "I",
                    "J",
                    "K",
                    "L",
                    "A",
                    "D",
                    "E",
                    "H",
                    "I",
                    "K",
                    "L"
                  ],
                  "xaxis": "x",
                  "y": [
                    121974.39,
                    14367,
                    8776.1,
                    44066.4,
                    51945.62,
                    103767.5,
                    51255.5,
                    28494.92,
                    89919.53,
                    363737.94,
                    137563.52,
                    102684.96,
                    112212.57,
                    38762.46,
                    26826.37,
                    24608.56,
                    75760.04,
                    163761.14,
                    67173.57
                  ],
                  "yaxis": "y"
                },
                {
                  "alignmentgroup": "True",
                  "hovertemplate": "ISO3=KAZ<br>Ind Code=%{x}<br>Value (USD)=%{y}<extra></extra>",
                  "legendgroup": "KAZ",
                  "marker": {
                    "color": "#636efa",
                    "pattern": {
                      "shape": ""
                    }
                  },
                  "name": "KAZ",
                  "offsetgroup": "KAZ",
                  "orientation": "v",
                  "showlegend": true,
                  "textposition": "auto",
                  "type": "bar",
                  "x": [
                    "A",
                    "B",
                    "C",
                    "D",
                    "E",
                    "F",
                    "G",
                    "H",
                    "I",
                    "J",
                    "K"
                  ],
                  "xaxis": "x",
                  "y": [
                    4636.6,
                    225.1,
                    43.8,
                    215.2,
                    1897.4,
                    1182,
                    322.2,
                    1035.6,
                    7338.8,
                    948.7,
                    465.2
                  ],
                  "yaxis": "y"
                },
                {
                  "alignmentgroup": "True",
                  "hovertemplate": "ISO3=KOR<br>Ind Code=%{x}<br>Value (USD)=%{y}<extra></extra>",
                  "legendgroup": "KOR",
                  "marker": {
                    "color": "#EF553B",
                    "pattern": {
                      "shape": ""
                    }
                  },
                  "name": "KOR",
                  "offsetgroup": "KOR",
                  "orientation": "v",
                  "showlegend": true,
                  "textposition": "auto",
                  "type": "bar",
                  "x": [
                    "A",
                    "B",
                    "C",
                    "D",
                    "E",
                    "F",
                    "G",
                    "H",
                    "I",
                    "J",
                    "K"
                  ],
                  "xaxis": "x",
                  "y": [
                    23360.3,
                    15516.8,
                    2132,
                    12022.2,
                    17223.5,
                    50103,
                    24456,
                    12435.1,
                    28117.2,
                    241659,
                    49990.4
                  ],
                  "yaxis": "y"
                },
                {
                  "alignmentgroup": "True",
                  "hovertemplate": "ISO3=LAO<br>Ind Code=%{x}<br>Value (USD)=%{y}<extra></extra>",
                  "legendgroup": "LAO",
                  "marker": {
                    "color": "#00cc96",
                    "pattern": {
                      "shape": ""
                    }
                  },
                  "name": "LAO",
                  "offsetgroup": "LAO",
                  "orientation": "v",
                  "showlegend": true,
                  "textposition": "auto",
                  "type": "bar",
                  "x": [
                    "A",
                    "B",
                    "C",
                    "D",
                    "E",
                    "F",
                    "G",
                    "H",
                    "I",
                    "J",
                    "K"
                  ],
                  "xaxis": "x",
                  "y": [
                    333.4,
                    247.6,
                    177.9,
                    4.2,
                    86.7,
                    61.5,
                    15.4,
                    166.4,
                    520.1,
                    76.3,
                    2.8
                  ],
                  "yaxis": "y"
                },
                {
                  "alignmentgroup": "True",
                  "hovertemplate": "ISO3=LVA<br>Ind Code=%{x}<br>Value (USD)=%{y}<extra></extra>",
                  "legendgroup": "LVA",
                  "marker": {
                    "color": "#ab63fa",
                    "pattern": {
                      "shape": ""
                    }
                  },
                  "name": "LVA",
                  "offsetgroup": "LVA",
                  "orientation": "v",
                  "showlegend": true,
                  "textposition": "auto",
                  "type": "bar",
                  "x": [
                    "A",
                    "B",
                    "C",
                    "D",
                    "E",
                    "F",
                    "G",
                    "H",
                    "I",
                    "J",
                    "K",
                    "L",
                    "A",
                    "B",
                    "C",
                    "D",
                    "E",
                    "F",
                    "G",
                    "H",
                    "I",
                    "J",
                    "K",
                    "L"
                  ],
                  "xaxis": "x",
                  "y": [
                    707.36,
                    174.94,
                    891.06,
                    159.7,
                    1.08,
                    249.1,
                    92.34,
                    260.7,
                    18.41,
                    688.47,
                    123.53,
                    179.8,
                    633.4,
                    153.14,
                    801.57,
                    130.22,
                    0.9,
                    198.44,
                    84.76,
                    244.81,
                    15.85,
                    655.38,
                    113.37,
                    166.12
                  ],
                  "yaxis": "y"
                },
                {
                  "alignmentgroup": "True",
                  "hovertemplate": "ISO3=LTU<br>Ind Code=%{x}<br>Value (USD)=%{y}<extra></extra>",
                  "legendgroup": "LTU",
                  "marker": {
                    "color": "#FFA15A",
                    "pattern": {
                      "shape": ""
                    }
                  },
                  "name": "LTU",
                  "offsetgroup": "LTU",
                  "orientation": "v",
                  "showlegend": true,
                  "textposition": "auto",
                  "type": "bar",
                  "x": [
                    "A",
                    "B",
                    "C",
                    "D",
                    "E",
                    "F",
                    "G",
                    "H",
                    "I",
                    "J",
                    "K",
                    "L",
                    "A",
                    "B",
                    "C",
                    "D",
                    "F",
                    "G",
                    "H",
                    "I",
                    "J",
                    "K",
                    "L"
                  ],
                  "xaxis": "x",
                  "y": [
                    1828.02,
                    620.44,
                    632.41,
                    445.1,
                    413.1,
                    826,
                    562.08,
                    326.68,
                    23.12,
                    1250.74,
                    331.64,
                    1255.58,
                    1596.71,
                    592.56,
                    582.86,
                    386.96,
                    819.36,
                    510.14,
                    307.27,
                    22.44,
                    1193.2,
                    307.96,
                    1126.43
                  ],
                  "yaxis": "y"
                },
                {
                  "alignmentgroup": "True",
                  "hovertemplate": "ISO3=LUX<br>Ind Code=%{x}<br>Value (USD)=%{y}<extra></extra>",
                  "legendgroup": "LUX",
                  "marker": {
                    "color": "#19d3f3",
                    "pattern": {
                      "shape": ""
                    }
                  },
                  "name": "LUX",
                  "offsetgroup": "LUX",
                  "orientation": "v",
                  "showlegend": true,
                  "textposition": "auto",
                  "type": "bar",
                  "x": [
                    "A",
                    "B",
                    "C",
                    "D",
                    "E",
                    "F",
                    "G",
                    "H",
                    "I",
                    "J",
                    "K",
                    "A",
                    "B",
                    "C"
                  ],
                  "xaxis": "x",
                  "y": [
                    375.3,
                    276.54,
                    42.7,
                    102.4,
                    0,
                    201.6,
                    703.7,
                    303.2,
                    946.1,
                    973.6,
                    53.4,
                    286.17,
                    174.65,
                    13.96
                  ],
                  "yaxis": "y"
                },
                {
                  "alignmentgroup": "True",
                  "hovertemplate": "ISO3=MYS<br>Ind Code=%{x}<br>Value (USD)=%{y}<extra></extra>",
                  "legendgroup": "MYS",
                  "marker": {
                    "color": "#FF6692",
                    "pattern": {
                      "shape": ""
                    }
                  },
                  "name": "MYS",
                  "offsetgroup": "MYS",
                  "orientation": "v",
                  "showlegend": true,
                  "textposition": "auto",
                  "type": "bar",
                  "x": [
                    "A",
                    "B",
                    "C",
                    "D",
                    "E",
                    "F",
                    "G",
                    "H",
                    "I",
                    "J",
                    "K"
                  ],
                  "xaxis": "x",
                  "y": [
                    7944.7,
                    1576.1,
                    1503.6,
                    2471.9,
                    9746.5,
                    7602.4,
                    3272.4,
                    2407.2,
                    2165.4,
                    23789.3,
                    4496.5
                  ],
                  "yaxis": "y"
                },
                {
                  "alignmentgroup": "True",
                  "hovertemplate": "ISO3=MLT<br>Ind Code=%{x}<br>Value (USD)=%{y}<extra></extra>",
                  "legendgroup": "MLT",
                  "marker": {
                    "color": "#B6E880",
                    "pattern": {
                      "shape": ""
                    }
                  },
                  "name": "MLT",
                  "offsetgroup": "MLT",
                  "orientation": "v",
                  "showlegend": true,
                  "textposition": "auto",
                  "type": "bar",
                  "x": [
                    "A",
                    "B",
                    "C",
                    "D",
                    "E",
                    "F",
                    "G",
                    "H",
                    "I",
                    "J",
                    "K",
                    "L",
                    "A",
                    "B",
                    "F",
                    "I",
                    "K",
                    "L"
                  ],
                  "xaxis": "x",
                  "y": [
                    178.47,
                    16.23,
                    10.9,
                    94.5,
                    0.1,
                    53.8,
                    86.2,
                    53.6,
                    0.98,
                    292.41,
                    82.54,
                    171.13,
                    157.22,
                    11.89,
                    72.43,
                    0.88,
                    75.24,
                    158.53
                  ],
                  "yaxis": "y"
                },
                {
                  "alignmentgroup": "True",
                  "hovertemplate": "ISO3=MEX<br>Ind Code=%{x}<br>Value (USD)=%{y}<extra></extra>",
                  "legendgroup": "MEX",
                  "marker": {
                    "color": "#FF97FF",
                    "pattern": {
                      "shape": ""
                    }
                  },
                  "name": "MEX",
                  "offsetgroup": "MEX",
                  "orientation": "v",
                  "showlegend": true,
                  "textposition": "auto",
                  "type": "bar",
                  "x": [
                    "A",
                    "B",
                    "C",
                    "D",
                    "E",
                    "F",
                    "G",
                    "H",
                    "I",
                    "J",
                    "K",
                    "L",
                    "A",
                    "B",
                    "C",
                    "D",
                    "E",
                    "F",
                    "G",
                    "H",
                    "I",
                    "J",
                    "K",
                    "L"
                  ],
                  "xaxis": "x",
                  "y": [
                    55272.27,
                    8377.79,
                    1697.65,
                    5194.5,
                    8138.73,
                    15034.6,
                    6715.81,
                    5644.73,
                    12934.82,
                    42988.72,
                    47392.04,
                    6150.63,
                    57651.97,
                    8809.31,
                    1744.6,
                    5083.87,
                    4641.85,
                    15876.09,
                    6651.39,
                    5519.46,
                    11306.38,
                    42741.26,
                    46695.48,
                    6275.33
                  ],
                  "yaxis": "y"
                },
                {
                  "alignmentgroup": "True",
                  "hovertemplate": "ISO3=MAR<br>Ind Code=%{x}<br>Value (USD)=%{y}<extra></extra>",
                  "legendgroup": "MAR",
                  "marker": {
                    "color": "#FECB52",
                    "pattern": {
                      "shape": ""
                    }
                  },
                  "name": "MAR",
                  "offsetgroup": "MAR",
                  "orientation": "v",
                  "showlegend": true,
                  "textposition": "auto",
                  "type": "bar",
                  "x": [
                    "A",
                    "B",
                    "C",
                    "D",
                    "E",
                    "F",
                    "G",
                    "H",
                    "I",
                    "J",
                    "K"
                  ],
                  "xaxis": "x",
                  "y": [
                    7306.3,
                    2322.8,
                    197.9,
                    434.1,
                    0.3,
                    3764.8,
                    115.8,
                    1426.7,
                    745.9,
                    2424.8,
                    1486.2
                  ],
                  "yaxis": "y"
                },
                {
                  "alignmentgroup": "True",
                  "hovertemplate": "ISO3=MMR<br>Ind Code=%{x}<br>Value (USD)=%{y}<extra></extra>",
                  "legendgroup": "MMR",
                  "marker": {
                    "color": "#636efa",
                    "pattern": {
                      "shape": ""
                    }
                  },
                  "name": "MMR",
                  "offsetgroup": "MMR",
                  "orientation": "v",
                  "showlegend": true,
                  "textposition": "auto",
                  "type": "bar",
                  "x": [
                    "A",
                    "B",
                    "C",
                    "D",
                    "E",
                    "F",
                    "G",
                    "H",
                    "I",
                    "J",
                    "K"
                  ],
                  "xaxis": "x",
                  "y": [
                    3473.7,
                    2715,
                    390.5,
                    389.6,
                    752.3,
                    764.3,
                    315.3,
                    528.7,
                    499.7,
                    1449.4,
                    649.2
                  ],
                  "yaxis": "y"
                },
                {
                  "alignmentgroup": "True",
                  "hovertemplate": "ISO3=NZL<br>Ind Code=%{x}<br>Value (USD)=%{y}<extra></extra>",
                  "legendgroup": "NZL",
                  "marker": {
                    "color": "#EF553B",
                    "pattern": {
                      "shape": ""
                    }
                  },
                  "name": "NZL",
                  "offsetgroup": "NZL",
                  "orientation": "v",
                  "showlegend": true,
                  "textposition": "auto",
                  "type": "bar",
                  "x": [
                    "A",
                    "B",
                    "C",
                    "D",
                    "E",
                    "F",
                    "G",
                    "H",
                    "I",
                    "J",
                    "K"
                  ],
                  "xaxis": "x",
                  "y": [
                    7619.4,
                    437.98,
                    1111.22,
                    1117.9,
                    1546.44,
                    1033.9,
                    1043.41,
                    835.84,
                    607.5,
                    5600.27,
                    925.09
                  ],
                  "yaxis": "y"
                },
                {
                  "alignmentgroup": "True",
                  "hovertemplate": "ISO3=MKD<br>Ind Code=%{x}<br>Value (USD)=%{y}<extra></extra>",
                  "legendgroup": "MKD",
                  "marker": {
                    "color": "#00cc96",
                    "pattern": {
                      "shape": ""
                    }
                  },
                  "name": "MKD",
                  "offsetgroup": "MKD",
                  "orientation": "v",
                  "showlegend": true,
                  "textposition": "auto",
                  "type": "bar",
                  "x": [
                    "A",
                    "B",
                    "C",
                    "D",
                    "E",
                    "F",
                    "G",
                    "H",
                    "I",
                    "J",
                    "K",
                    "L"
                  ],
                  "xaxis": "x",
                  "y": [
                    370.35,
                    340.81,
                    19.4,
                    65.18,
                    0.49,
                    100.5,
                    58.27,
                    79.77,
                    64.36,
                    292.86,
                    239.12,
                    48.82
                  ],
                  "yaxis": "y"
                },
                {
                  "alignmentgroup": "True",
                  "hovertemplate": "ISO3=NOR<br>Ind Code=%{x}<br>Value (USD)=%{y}<extra></extra>",
                  "legendgroup": "NOR",
                  "marker": {
                    "color": "#ab63fa",
                    "pattern": {
                      "shape": ""
                    }
                  },
                  "name": "NOR",
                  "offsetgroup": "NOR",
                  "orientation": "v",
                  "showlegend": true,
                  "textposition": "auto",
                  "type": "bar",
                  "x": [
                    "A",
                    "B",
                    "C",
                    "D",
                    "E",
                    "F",
                    "G",
                    "H",
                    "I",
                    "J",
                    "K",
                    "L",
                    "A",
                    "B",
                    "C",
                    "D",
                    "G",
                    "H",
                    "I",
                    "J",
                    "K",
                    "L"
                  ],
                  "xaxis": "x",
                  "y": [
                    5808.55,
                    389.18,
                    1122.53,
                    999.6,
                    889.5,
                    3372.3,
                    498.99,
                    1317.18,
                    1652.26,
                    6465.91,
                    1741.53,
                    774.05,
                    5445.32,
                    334.44,
                    1114.44,
                    903.75,
                    573.4,
                    1368.4,
                    1454.33,
                    6765.98,
                    2017.69,
                    745.15
                  ],
                  "yaxis": "y"
                },
                {
                  "alignmentgroup": "True",
                  "hovertemplate": "ISO3=CHN<br>Ind Code=%{x}<br>Value (USD)=%{y}<extra></extra>",
                  "legendgroup": "CHN",
                  "marker": {
                    "color": "#FFA15A",
                    "pattern": {
                      "shape": ""
                    }
                  },
                  "name": "CHN",
                  "offsetgroup": "CHN",
                  "orientation": "v",
                  "showlegend": true,
                  "textposition": "auto",
                  "type": "bar",
                  "x": [
                    "A",
                    "B",
                    "C",
                    "D",
                    "E",
                    "F",
                    "G",
                    "H",
                    "I",
                    "J",
                    "K"
                  ],
                  "xaxis": "x",
                  "y": [
                    410643.69,
                    241887.41,
                    54181.1,
                    124635.2,
                    175172.09,
                    481399.69,
                    119899.5,
                    361271.19,
                    469966.91,
                    1042085.5,
                    361992.31
                  ],
                  "yaxis": "y"
                },
                {
                  "alignmentgroup": "True",
                  "hovertemplate": "ISO3=PER<br>Ind Code=%{x}<br>Value (USD)=%{y}<extra></extra>",
                  "legendgroup": "PER",
                  "marker": {
                    "color": "#19d3f3",
                    "pattern": {
                      "shape": ""
                    }
                  },
                  "name": "PER",
                  "offsetgroup": "PER",
                  "orientation": "v",
                  "showlegend": true,
                  "textposition": "auto",
                  "type": "bar",
                  "x": [
                    "A",
                    "B",
                    "C",
                    "D",
                    "E",
                    "F",
                    "G",
                    "H",
                    "I",
                    "J",
                    "K"
                  ],
                  "xaxis": "x",
                  "y": [
                    8682.7,
                    3377.8,
                    672.7,
                    2133.2,
                    2553.6,
                    2635,
                    1365.6,
                    2640,
                    2703.3,
                    3370.2,
                    905.6
                  ],
                  "yaxis": "y"
                },
                {
                  "alignmentgroup": "True",
                  "hovertemplate": "ISO3=PHL<br>Ind Code=%{x}<br>Value (USD)=%{y}<extra></extra>",
                  "legendgroup": "PHL",
                  "marker": {
                    "color": "#FF6692",
                    "pattern": {
                      "shape": ""
                    }
                  },
                  "name": "PHL",
                  "offsetgroup": "PHL",
                  "orientation": "v",
                  "showlegend": true,
                  "textposition": "auto",
                  "type": "bar",
                  "x": [
                    "A",
                    "B",
                    "C",
                    "D",
                    "E",
                    "F",
                    "G",
                    "H",
                    "I",
                    "J",
                    "K"
                  ],
                  "xaxis": "x",
                  "y": [
                    31261,
                    4862.3,
                    769.4,
                    941.8,
                    4330.1,
                    3429,
                    975.3,
                    1632.4,
                    1457.6,
                    16573.7,
                    2110
                  ],
                  "yaxis": "y"
                },
                {
                  "alignmentgroup": "True",
                  "hovertemplate": "ISO3=POL<br>Ind Code=%{x}<br>Value (USD)=%{y}<extra></extra>",
                  "legendgroup": "POL",
                  "marker": {
                    "color": "#B6E880",
                    "pattern": {
                      "shape": ""
                    }
                  },
                  "name": "POL",
                  "offsetgroup": "POL",
                  "orientation": "v",
                  "showlegend": true,
                  "textposition": "auto",
                  "type": "bar",
                  "x": [
                    "A",
                    "B",
                    "C",
                    "D",
                    "E",
                    "F",
                    "G",
                    "H",
                    "I",
                    "J",
                    "K",
                    "L",
                    "A",
                    "B",
                    "C",
                    "D",
                    "E",
                    "F",
                    "G",
                    "H",
                    "I",
                    "J",
                    "K",
                    "L"
                  ],
                  "xaxis": "x",
                  "y": [
                    16203.65,
                    3050.9,
                    3651.45,
                    5640,
                    3053.12,
                    7458.1,
                    7663.94,
                    5894.15,
                    2794.52,
                    22711.63,
                    10192.66,
                    5891.1,
                    14220.45,
                    2884.73,
                    3870.27,
                    4708.85,
                    2223.64,
                    6521.29,
                    7382.15,
                    5432.82,
                    2419.15,
                    24401.65,
                    10301.63,
                    5999.47
                  ],
                  "yaxis": "y"
                },
                {
                  "alignmentgroup": "True",
                  "hovertemplate": "ISO3=PRT<br>Ind Code=%{x}<br>Value (USD)=%{y}<extra></extra>",
                  "legendgroup": "PRT",
                  "marker": {
                    "color": "#FF97FF",
                    "pattern": {
                      "shape": ""
                    }
                  },
                  "name": "PRT",
                  "offsetgroup": "PRT",
                  "orientation": "v",
                  "showlegend": true,
                  "textposition": "auto",
                  "type": "bar",
                  "x": [
                    "A",
                    "B",
                    "C",
                    "D",
                    "E",
                    "F",
                    "G",
                    "H",
                    "I",
                    "J",
                    "K",
                    "L",
                    "A",
                    "B",
                    "C",
                    "D",
                    "E",
                    "F",
                    "G",
                    "H",
                    "I",
                    "J",
                    "K",
                    "L"
                  ],
                  "xaxis": "x",
                  "y": [
                    5034.2,
                    5037.81,
                    1238.35,
                    1966.4,
                    654.97,
                    2002.7,
                    1525.42,
                    1815.3,
                    588.66,
                    5481.56,
                    2344.62,
                    1455.37,
                    4573.28,
                    4706.14,
                    1111.37,
                    1553.3,
                    534.52,
                    1779.9,
                    1506.44,
                    1550.7,
                    469.29,
                    4882.22,
                    2191.31,
                    1303.1
                  ],
                  "yaxis": "y"
                },
                {
                  "alignmentgroup": "True",
                  "hovertemplate": "ISO3=ROU<br>Ind Code=%{x}<br>Value (USD)=%{y}<extra></extra>",
                  "legendgroup": "ROU",
                  "marker": {
                    "color": "#FECB52",
                    "pattern": {
                      "shape": ""
                    }
                  },
                  "name": "ROU",
                  "offsetgroup": "ROU",
                  "orientation": "v",
                  "showlegend": true,
                  "textposition": "auto",
                  "type": "bar",
                  "x": [
                    "A",
                    "B",
                    "C",
                    "D",
                    "E",
                    "F",
                    "G",
                    "H",
                    "I",
                    "J",
                    "K",
                    "L",
                    "A",
                    "B",
                    "C",
                    "D",
                    "E",
                    "F",
                    "G",
                    "H",
                    "I",
                    "J",
                    "K",
                    "L"
                  ],
                  "xaxis": "x",
                  "y": [
                    11079.54,
                    3708.83,
                    1352.08,
                    1086.8,
                    2442.3,
                    1675.4,
                    2024.78,
                    1655.89,
                    1933.47,
                    7889.84,
                    7033.87,
                    1652.01,
                    9786.15,
                    3225.16,
                    1156.24,
                    989.36,
                    2022.07,
                    1784.66,
                    1775.54,
                    1506.68,
                    1543.85,
                    8013.39,
                    6234.65,
                    1447.85
                  ],
                  "yaxis": "y"
                },
                {
                  "alignmentgroup": "True",
                  "hovertemplate": "ISO3=RUS<br>Ind Code=%{x}<br>Value (USD)=%{y}<extra></extra>",
                  "legendgroup": "RUS",
                  "marker": {
                    "color": "#636efa",
                    "pattern": {
                      "shape": ""
                    }
                  },
                  "name": "RUS",
                  "offsetgroup": "RUS",
                  "orientation": "v",
                  "showlegend": true,
                  "textposition": "auto",
                  "type": "bar",
                  "x": [
                    "A",
                    "B",
                    "C",
                    "D",
                    "E",
                    "F",
                    "G",
                    "H",
                    "I",
                    "J",
                    "K",
                    "L",
                    "A",
                    "B",
                    "C",
                    "D",
                    "E",
                    "F",
                    "G",
                    "H",
                    "I",
                    "J",
                    "K",
                    "L"
                  ],
                  "xaxis": "x",
                  "y": [
                    29657.52,
                    3652.88,
                    4091.22,
                    7430.9,
                    42850.04,
                    22429.5,
                    3933.61,
                    7925.65,
                    36458.88,
                    28979.19,
                    18384.48,
                    2887.64,
                    26296.39,
                    3700.42,
                    3937.52,
                    6090.54,
                    26501,
                    20748.99,
                    4105.39,
                    7162.2,
                    29796.9,
                    25459.01,
                    16452.97,
                    3268.15
                  ],
                  "yaxis": "y"
                },
                {
                  "alignmentgroup": "True",
                  "hovertemplate": "ISO3=SAU<br>Ind Code=%{x}<br>Value (USD)=%{y}<extra></extra>",
                  "legendgroup": "SAU",
                  "marker": {
                    "color": "#EF553B",
                    "pattern": {
                      "shape": ""
                    }
                  },
                  "name": "SAU",
                  "offsetgroup": "SAU",
                  "orientation": "v",
                  "showlegend": true,
                  "textposition": "auto",
                  "type": "bar",
                  "x": [
                    "A",
                    "B",
                    "C",
                    "D",
                    "E",
                    "F",
                    "G",
                    "H",
                    "I",
                    "J",
                    "K"
                  ],
                  "xaxis": "x",
                  "y": [
                    13690.1,
                    2858.8,
                    992.8,
                    3834.2,
                    26709.4,
                    25402.5,
                    2581.1,
                    5127.6,
                    4290.6,
                    10529.8,
                    1206.3
                  ],
                  "yaxis": "y"
                },
                {
                  "alignmentgroup": "True",
                  "hovertemplate": "ISO3=SRB<br>Ind Code=%{x}<br>Value (USD)=%{y}<extra></extra>",
                  "legendgroup": "SRB",
                  "marker": {
                    "color": "#00cc96",
                    "pattern": {
                      "shape": ""
                    }
                  },
                  "name": "SRB",
                  "offsetgroup": "SRB",
                  "orientation": "v",
                  "showlegend": true,
                  "textposition": "auto",
                  "type": "bar",
                  "x": [
                    "A",
                    "B",
                    "C",
                    "D",
                    "E",
                    "F",
                    "G",
                    "H",
                    "I",
                    "J",
                    "K",
                    "L",
                    "A",
                    "B",
                    "C",
                    "D",
                    "E",
                    "F",
                    "G",
                    "H",
                    "I",
                    "J",
                    "K",
                    "L"
                  ],
                  "xaxis": "x",
                  "y": [
                    1702.8,
                    523.04,
                    175.04,
                    325.88,
                    650.17,
                    601.5,
                    613.96,
                    319.99,
                    90.65,
                    1542.28,
                    395.28,
                    294.47,
                    1550.22,
                    497.84,
                    162.52,
                    302.7,
                    472.51,
                    554.55,
                    515.97,
                    279.5,
                    87.84,
                    1308.14,
                    367.27,
                    263.51
                  ],
                  "yaxis": "y"
                },
                {
                  "alignmentgroup": "True",
                  "hovertemplate": "ISO3=SGP<br>Ind Code=%{x}<br>Value (USD)=%{y}<extra></extra>",
                  "legendgroup": "SGP",
                  "marker": {
                    "color": "#ab63fa",
                    "pattern": {
                      "shape": ""
                    }
                  },
                  "name": "SGP",
                  "offsetgroup": "SGP",
                  "orientation": "v",
                  "showlegend": true,
                  "textposition": "auto",
                  "type": "bar",
                  "x": [
                    "A",
                    "B",
                    "C",
                    "D",
                    "E",
                    "F",
                    "G",
                    "H",
                    "I",
                    "J",
                    "K"
                  ],
                  "xaxis": "x",
                  "y": [
                    3262.9,
                    408.2,
                    130.6,
                    1117.7,
                    4674.7,
                    22591.2,
                    685.2,
                    355.1,
                    445.3,
                    26074.3,
                    6335.6
                  ],
                  "yaxis": "y"
                },
                {
                  "alignmentgroup": "True",
                  "hovertemplate": "ISO3=SVK<br>Ind Code=%{x}<br>Value (USD)=%{y}<extra></extra>",
                  "legendgroup": "SVK",
                  "marker": {
                    "color": "#FFA15A",
                    "pattern": {
                      "shape": ""
                    }
                  },
                  "name": "SVK",
                  "offsetgroup": "SVK",
                  "orientation": "v",
                  "showlegend": true,
                  "textposition": "auto",
                  "type": "bar",
                  "x": [
                    "A",
                    "B",
                    "C",
                    "D",
                    "E",
                    "F",
                    "G",
                    "H",
                    "I",
                    "J",
                    "K",
                    "L",
                    "A",
                    "B",
                    "C",
                    "D",
                    "E",
                    "F",
                    "G",
                    "H",
                    "I",
                    "J",
                    "K",
                    "L"
                  ],
                  "xaxis": "x",
                  "y": [
                    1322.96,
                    841.49,
                    633.11,
                    688.7,
                    354.61,
                    787.5,
                    1554.91,
                    726.26,
                    1279.5,
                    6470.23,
                    4141.07,
                    630.8,
                    1033.25,
                    890.04,
                    568.82,
                    516.23,
                    1010.31,
                    710.66,
                    1851.16,
                    770.72,
                    1542.89,
                    5634.84,
                    4344.29,
                    515.5
                  ],
                  "yaxis": "y"
                },
                {
                  "alignmentgroup": "True",
                  "hovertemplate": "ISO3=SVN<br>Ind Code=%{x}<br>Value (USD)=%{y}<extra></extra>",
                  "legendgroup": "SVN",
                  "marker": {
                    "color": "#19d3f3",
                    "pattern": {
                      "shape": ""
                    }
                  },
                  "name": "SVN",
                  "offsetgroup": "SVN",
                  "orientation": "v",
                  "showlegend": true,
                  "textposition": "auto",
                  "type": "bar",
                  "x": [
                    "A",
                    "B",
                    "C",
                    "D",
                    "E",
                    "F",
                    "G",
                    "H",
                    "I",
                    "J",
                    "K",
                    "L",
                    "A",
                    "B",
                    "C",
                    "D",
                    "E",
                    "F",
                    "G",
                    "H",
                    "I",
                    "J",
                    "K",
                    "L"
                  ],
                  "xaxis": "x",
                  "y": [
                    746.03,
                    326.05,
                    344.34,
                    455.4,
                    1.17,
                    1852.9,
                    820.94,
                    407.04,
                    567.79,
                    3818.6,
                    929.57,
                    454.76,
                    703.02,
                    251.14,
                    341.63,
                    361.09,
                    1.58,
                    1457.48,
                    697.25,
                    383.67,
                    549.43,
                    3547.76,
                    897.48,
                    438.37
                  ],
                  "yaxis": "y"
                },
                {
                  "alignmentgroup": "True",
                  "hovertemplate": "ISO3=ZAF<br>Ind Code=%{x}<br>Value (USD)=%{y}<extra></extra>",
                  "legendgroup": "ZAF",
                  "marker": {
                    "color": "#FF6692",
                    "pattern": {
                      "shape": ""
                    }
                  },
                  "name": "ZAF",
                  "offsetgroup": "ZAF",
                  "orientation": "v",
                  "showlegend": true,
                  "textposition": "auto",
                  "type": "bar",
                  "x": [
                    "A",
                    "B",
                    "C",
                    "D",
                    "E",
                    "F",
                    "G",
                    "H",
                    "I",
                    "J",
                    "K"
                  ],
                  "xaxis": "x",
                  "y": [
                    13380.3,
                    1577.4,
                    1955.3,
                    2453.1,
                    3519.4,
                    5117,
                    1740.9,
                    1351.6,
                    3002.9,
                    6779.5,
                    4299.4
                  ],
                  "yaxis": "y"
                },
                {
                  "alignmentgroup": "True",
                  "hovertemplate": "ISO3=ESP<br>Ind Code=%{x}<br>Value (USD)=%{y}<extra></extra>",
                  "legendgroup": "ESP",
                  "marker": {
                    "color": "#B6E880",
                    "pattern": {
                      "shape": ""
                    }
                  },
                  "name": "ESP",
                  "offsetgroup": "ESP",
                  "orientation": "v",
                  "showlegend": true,
                  "textposition": "auto",
                  "type": "bar",
                  "x": [
                    "A",
                    "B",
                    "C",
                    "D",
                    "E",
                    "F",
                    "G",
                    "H",
                    "I",
                    "J",
                    "K",
                    "L",
                    "A",
                    "B",
                    "C",
                    "D",
                    "E",
                    "F",
                    "G",
                    "H",
                    "I",
                    "J",
                    "K",
                    "L"
                  ],
                  "xaxis": "x",
                  "y": [
                    28828.27,
                    10692.36,
                    2365.45,
                    7970.3,
                    3796.77,
                    21177.8,
                    7556.92,
                    6902.68,
                    7825,
                    30689.45,
                    20252.18,
                    5228.08,
                    26243.32,
                    9862.46,
                    2151.35,
                    6288.72,
                    2941.32,
                    16271.01,
                    7176.33,
                    6181.1,
                    5084.9,
                    30161.01,
                    18749.67,
                    4887.41
                  ],
                  "yaxis": "y"
                },
                {
                  "alignmentgroup": "True",
                  "hovertemplate": "ISO3=SWE<br>Ind Code=%{x}<br>Value (USD)=%{y}<extra></extra>",
                  "legendgroup": "SWE",
                  "marker": {
                    "color": "#FF97FF",
                    "pattern": {
                      "shape": ""
                    }
                  },
                  "name": "SWE",
                  "offsetgroup": "SWE",
                  "orientation": "v",
                  "showlegend": true,
                  "textposition": "auto",
                  "type": "bar",
                  "x": [
                    "A",
                    "B",
                    "C",
                    "D",
                    "E",
                    "F",
                    "G",
                    "H",
                    "I",
                    "J",
                    "K",
                    "L",
                    "A",
                    "B",
                    "C",
                    "D",
                    "E",
                    "G",
                    "H",
                    "I",
                    "J",
                    "K",
                    "L"
                  ],
                  "xaxis": "x",
                  "y": [
                    5531.08,
                    570.26,
                    2830.37,
                    7048.8,
                    811.39,
                    8080.8,
                    1999.31,
                    1766.58,
                    3977.44,
                    22509.24,
                    15190.88,
                    2081.56,
                    5488.54,
                    532.79,
                    2494.89,
                    5830.81,
                    815.43,
                    2096.31,
                    1914.56,
                    3792.37,
                    22759.53,
                    15963.19,
                    2125.35
                  ],
                  "yaxis": "y"
                },
                {
                  "alignmentgroup": "True",
                  "hovertemplate": "ISO3=CHE<br>Ind Code=%{x}<br>Value (USD)=%{y}<extra></extra>",
                  "legendgroup": "CHE",
                  "marker": {
                    "color": "#FECB52",
                    "pattern": {
                      "shape": ""
                    }
                  },
                  "name": "CHE",
                  "offsetgroup": "CHE",
                  "orientation": "v",
                  "showlegend": true,
                  "textposition": "auto",
                  "type": "bar",
                  "x": [
                    "A",
                    "B",
                    "C",
                    "D",
                    "E",
                    "F",
                    "G",
                    "H",
                    "I",
                    "J",
                    "K",
                    "L",
                    "A",
                    "B",
                    "C",
                    "D",
                    "G",
                    "H",
                    "I",
                    "J",
                    "K",
                    "L"
                  ],
                  "xaxis": "x",
                  "y": [
                    12295.15,
                    1158.79,
                    3743.58,
                    2534.2,
                    4814.9,
                    41419.4,
                    2999.05,
                    2450.64,
                    1654.87,
                    51437.03,
                    2617.85,
                    5010.32,
                    12632.75,
                    1089,
                    3868.82,
                    2781.73,
                    2806.32,
                    2536.63,
                    1513.04,
                    53596.43,
                    2537.66,
                    5258.14
                  ],
                  "yaxis": "y"
                },
                {
                  "alignmentgroup": "True",
                  "hovertemplate": "ISO3=THA<br>Ind Code=%{x}<br>Value (USD)=%{y}<extra></extra>",
                  "legendgroup": "THA",
                  "marker": {
                    "color": "#636efa",
                    "pattern": {
                      "shape": ""
                    }
                  },
                  "name": "THA",
                  "offsetgroup": "THA",
                  "orientation": "v",
                  "showlegend": true,
                  "textposition": "auto",
                  "type": "bar",
                  "x": [
                    "A",
                    "B",
                    "C",
                    "D",
                    "E",
                    "F",
                    "G",
                    "H",
                    "I",
                    "J",
                    "K"
                  ],
                  "xaxis": "x",
                  "y": [
                    23402.9,
                    14716.7,
                    1376.5,
                    2904.4,
                    6622.6,
                    12403.4,
                    6561.5,
                    5439,
                    3414.9,
                    32593.5,
                    13514.5
                  ],
                  "yaxis": "y"
                },
                {
                  "alignmentgroup": "True",
                  "hovertemplate": "ISO3=NLD<br>Ind Code=%{x}<br>Value (USD)=%{y}<extra></extra>",
                  "legendgroup": "NLD",
                  "marker": {
                    "color": "#EF553B",
                    "pattern": {
                      "shape": ""
                    }
                  },
                  "name": "NLD",
                  "offsetgroup": "NLD",
                  "orientation": "v",
                  "showlegend": true,
                  "textposition": "auto",
                  "type": "bar",
                  "x": [
                    "A",
                    "B",
                    "C",
                    "D",
                    "E",
                    "F",
                    "G",
                    "H",
                    "I",
                    "J",
                    "K",
                    "L",
                    "A",
                    "B",
                    "C",
                    "D",
                    "E",
                    "F",
                    "G",
                    "H",
                    "I",
                    "J",
                    "K",
                    "L"
                  ],
                  "xaxis": "x",
                  "y": [
                    19156.26,
                    1381.72,
                    1291.96,
                    4319,
                    1418.33,
                    20398.9,
                    3599.55,
                    2516.61,
                    2870.9,
                    31864.5,
                    5093.45,
                    6175.21,
                    16225.52,
                    1194.95,
                    969.71,
                    3502.74,
                    1877.3,
                    16213.32,
                    3398.44,
                    2255.64,
                    2536.35,
                    30442.83,
                    4840.81,
                    5621.9
                  ],
                  "yaxis": "y"
                },
                {
                  "alignmentgroup": "True",
                  "hovertemplate": "ISO3=TUN<br>Ind Code=%{x}<br>Value (USD)=%{y}<extra></extra>",
                  "legendgroup": "TUN",
                  "marker": {
                    "color": "#00cc96",
                    "pattern": {
                      "shape": ""
                    }
                  },
                  "name": "TUN",
                  "offsetgroup": "TUN",
                  "orientation": "v",
                  "showlegend": true,
                  "textposition": "auto",
                  "type": "bar",
                  "x": [
                    "A",
                    "B",
                    "C",
                    "D",
                    "E",
                    "F",
                    "G",
                    "H",
                    "I",
                    "J",
                    "K"
                  ],
                  "xaxis": "x",
                  "y": [
                    1200.3,
                    1498,
                    120.9,
                    175.2,
                    29.4,
                    532,
                    95.8,
                    438.5,
                    66.2,
                    1465.9,
                    428.4
                  ],
                  "yaxis": "y"
                },
                {
                  "alignmentgroup": "True",
                  "hovertemplate": "ISO3=TUR<br>Ind Code=%{x}<br>Value (USD)=%{y}<extra></extra>",
                  "legendgroup": "TUR",
                  "marker": {
                    "color": "#ab63fa",
                    "pattern": {
                      "shape": ""
                    }
                  },
                  "name": "TUR",
                  "offsetgroup": "TUR",
                  "orientation": "v",
                  "showlegend": true,
                  "textposition": "auto",
                  "type": "bar",
                  "x": [
                    "A",
                    "B",
                    "C",
                    "D",
                    "E",
                    "F",
                    "G",
                    "H",
                    "I",
                    "J",
                    "K"
                  ],
                  "xaxis": "x",
                  "y": [
                    21794.6,
                    29136.3,
                    1983,
                    5520.4,
                    3959.5,
                    11105,
                    7746.5,
                    10176.5,
                    15744.9,
                    26901.5,
                    14811.8
                  ],
                  "yaxis": "y"
                },
                {
                  "alignmentgroup": "True",
                  "hovertemplate": "ISO3=GBR<br>Ind Code=%{x}<br>Value (USD)=%{y}<extra></extra>",
                  "legendgroup": "GBR",
                  "marker": {
                    "color": "#FFA15A",
                    "pattern": {
                      "shape": ""
                    }
                  },
                  "name": "GBR",
                  "offsetgroup": "GBR",
                  "orientation": "v",
                  "showlegend": true,
                  "textposition": "auto",
                  "type": "bar",
                  "x": [
                    "A",
                    "B",
                    "C",
                    "D",
                    "E",
                    "F",
                    "G",
                    "H",
                    "I",
                    "J",
                    "K",
                    "L",
                    "A",
                    "B",
                    "C",
                    "D",
                    "E",
                    "F",
                    "G",
                    "H",
                    "I",
                    "J",
                    "K",
                    "L"
                  ],
                  "xaxis": "x",
                  "y": [
                    39515.32,
                    9012.29,
                    4276,
                    13584.9,
                    3117.95,
                    34735.1,
                    10353.13,
                    8006.33,
                    5658.2,
                    67887.69,
                    37263.25,
                    12801.32,
                    50370.1,
                    10017.9,
                    5170.83,
                    14185.51,
                    4861.37,
                    31523.66,
                    11533.73,
                    9144.19,
                    5731.17,
                    75494.59,
                    39802.58,
                    13610.31
                  ],
                  "yaxis": "y"
                },
                {
                  "alignmentgroup": "True",
                  "hovertemplate": "ISO3=USA<br>Ind Code=%{x}<br>Value (USD)=%{y}<extra></extra>",
                  "legendgroup": "USA",
                  "marker": {
                    "color": "#19d3f3",
                    "pattern": {
                      "shape": ""
                    }
                  },
                  "name": "USA",
                  "offsetgroup": "USA",
                  "orientation": "v",
                  "showlegend": true,
                  "textposition": "auto",
                  "type": "bar",
                  "x": [
                    "A",
                    "B",
                    "C",
                    "D",
                    "E",
                    "F",
                    "G",
                    "H",
                    "I",
                    "J",
                    "K",
                    "L",
                    "A",
                    "B",
                    "C",
                    "D",
                    "E",
                    "F",
                    "G",
                    "H",
                    "I",
                    "J",
                    "K",
                    "L"
                  ],
                  "xaxis": "x",
                  "y": [
                    242876.09,
                    26029.49,
                    39120.21,
                    103127.8,
                    182411.92,
                    382448.59,
                    81419.1,
                    65185.24,
                    80279.76,
                    685707.06,
                    308436.47,
                    120904.19,
                    246795.59,
                    25679.82,
                    33846.15,
                    97838.62,
                    165091.36,
                    348136.94,
                    83167.97,
                    62197.83,
                    69110.83,
                    704486.06,
                    306767.34,
                    119852.17
                  ],
                  "yaxis": "y"
                },
                {
                  "alignmentgroup": "True",
                  "hovertemplate": "ISO3=VNM<br>Ind Code=%{x}<br>Value (USD)=%{y}<extra></extra>",
                  "legendgroup": "VNM",
                  "marker": {
                    "color": "#FF6692",
                    "pattern": {
                      "shape": ""
                    }
                  },
                  "name": "VNM",
                  "offsetgroup": "VNM",
                  "orientation": "v",
                  "showlegend": true,
                  "textposition": "auto",
                  "type": "bar",
                  "x": [
                    "A",
                    "B",
                    "C",
                    "D",
                    "E",
                    "F",
                    "G",
                    "H",
                    "I",
                    "J",
                    "K"
                  ],
                  "xaxis": "x",
                  "y": [
                    11541.3,
                    18104,
                    1072.3,
                    2006,
                    1854.3,
                    4420.5,
                    3245.1,
                    5242.7,
                    3187.3,
                    15834.2,
                    4146.7
                  ],
                  "yaxis": "y"
                }
              ],
              "layout": {
                "barmode": "relative",
                "legend": {
                  "title": {
                    "text": "ISO3"
                  },
                  "tracegroupgap": 0
                },
                "template": {
                  "data": {
                    "bar": [
                      {
                        "error_x": {
                          "color": "#2a3f5f"
                        },
                        "error_y": {
                          "color": "#2a3f5f"
                        },
                        "marker": {
                          "line": {
                            "color": "#E5ECF6",
                            "width": 0.5
                          },
                          "pattern": {
                            "fillmode": "overlay",
                            "size": 10,
                            "solidity": 0.2
                          }
                        },
                        "type": "bar"
                      }
                    ],
                    "barpolar": [
                      {
                        "marker": {
                          "line": {
                            "color": "#E5ECF6",
                            "width": 0.5
                          },
                          "pattern": {
                            "fillmode": "overlay",
                            "size": 10,
                            "solidity": 0.2
                          }
                        },
                        "type": "barpolar"
                      }
                    ],
                    "carpet": [
                      {
                        "aaxis": {
                          "endlinecolor": "#2a3f5f",
                          "gridcolor": "white",
                          "linecolor": "white",
                          "minorgridcolor": "white",
                          "startlinecolor": "#2a3f5f"
                        },
                        "baxis": {
                          "endlinecolor": "#2a3f5f",
                          "gridcolor": "white",
                          "linecolor": "white",
                          "minorgridcolor": "white",
                          "startlinecolor": "#2a3f5f"
                        },
                        "type": "carpet"
                      }
                    ],
                    "choropleth": [
                      {
                        "colorbar": {
                          "outlinewidth": 0,
                          "ticks": ""
                        },
                        "type": "choropleth"
                      }
                    ],
                    "contour": [
                      {
                        "colorbar": {
                          "outlinewidth": 0,
                          "ticks": ""
                        },
                        "colorscale": [
                          [
                            0,
                            "#0d0887"
                          ],
                          [
                            0.1111111111111111,
                            "#46039f"
                          ],
                          [
                            0.2222222222222222,
                            "#7201a8"
                          ],
                          [
                            0.3333333333333333,
                            "#9c179e"
                          ],
                          [
                            0.4444444444444444,
                            "#bd3786"
                          ],
                          [
                            0.5555555555555556,
                            "#d8576b"
                          ],
                          [
                            0.6666666666666666,
                            "#ed7953"
                          ],
                          [
                            0.7777777777777778,
                            "#fb9f3a"
                          ],
                          [
                            0.8888888888888888,
                            "#fdca26"
                          ],
                          [
                            1,
                            "#f0f921"
                          ]
                        ],
                        "type": "contour"
                      }
                    ],
                    "contourcarpet": [
                      {
                        "colorbar": {
                          "outlinewidth": 0,
                          "ticks": ""
                        },
                        "type": "contourcarpet"
                      }
                    ],
                    "heatmap": [
                      {
                        "colorbar": {
                          "outlinewidth": 0,
                          "ticks": ""
                        },
                        "colorscale": [
                          [
                            0,
                            "#0d0887"
                          ],
                          [
                            0.1111111111111111,
                            "#46039f"
                          ],
                          [
                            0.2222222222222222,
                            "#7201a8"
                          ],
                          [
                            0.3333333333333333,
                            "#9c179e"
                          ],
                          [
                            0.4444444444444444,
                            "#bd3786"
                          ],
                          [
                            0.5555555555555556,
                            "#d8576b"
                          ],
                          [
                            0.6666666666666666,
                            "#ed7953"
                          ],
                          [
                            0.7777777777777778,
                            "#fb9f3a"
                          ],
                          [
                            0.8888888888888888,
                            "#fdca26"
                          ],
                          [
                            1,
                            "#f0f921"
                          ]
                        ],
                        "type": "heatmap"
                      }
                    ],
                    "heatmapgl": [
                      {
                        "colorbar": {
                          "outlinewidth": 0,
                          "ticks": ""
                        },
                        "colorscale": [
                          [
                            0,
                            "#0d0887"
                          ],
                          [
                            0.1111111111111111,
                            "#46039f"
                          ],
                          [
                            0.2222222222222222,
                            "#7201a8"
                          ],
                          [
                            0.3333333333333333,
                            "#9c179e"
                          ],
                          [
                            0.4444444444444444,
                            "#bd3786"
                          ],
                          [
                            0.5555555555555556,
                            "#d8576b"
                          ],
                          [
                            0.6666666666666666,
                            "#ed7953"
                          ],
                          [
                            0.7777777777777778,
                            "#fb9f3a"
                          ],
                          [
                            0.8888888888888888,
                            "#fdca26"
                          ],
                          [
                            1,
                            "#f0f921"
                          ]
                        ],
                        "type": "heatmapgl"
                      }
                    ],
                    "histogram": [
                      {
                        "marker": {
                          "pattern": {
                            "fillmode": "overlay",
                            "size": 10,
                            "solidity": 0.2
                          }
                        },
                        "type": "histogram"
                      }
                    ],
                    "histogram2d": [
                      {
                        "colorbar": {
                          "outlinewidth": 0,
                          "ticks": ""
                        },
                        "colorscale": [
                          [
                            0,
                            "#0d0887"
                          ],
                          [
                            0.1111111111111111,
                            "#46039f"
                          ],
                          [
                            0.2222222222222222,
                            "#7201a8"
                          ],
                          [
                            0.3333333333333333,
                            "#9c179e"
                          ],
                          [
                            0.4444444444444444,
                            "#bd3786"
                          ],
                          [
                            0.5555555555555556,
                            "#d8576b"
                          ],
                          [
                            0.6666666666666666,
                            "#ed7953"
                          ],
                          [
                            0.7777777777777778,
                            "#fb9f3a"
                          ],
                          [
                            0.8888888888888888,
                            "#fdca26"
                          ],
                          [
                            1,
                            "#f0f921"
                          ]
                        ],
                        "type": "histogram2d"
                      }
                    ],
                    "histogram2dcontour": [
                      {
                        "colorbar": {
                          "outlinewidth": 0,
                          "ticks": ""
                        },
                        "colorscale": [
                          [
                            0,
                            "#0d0887"
                          ],
                          [
                            0.1111111111111111,
                            "#46039f"
                          ],
                          [
                            0.2222222222222222,
                            "#7201a8"
                          ],
                          [
                            0.3333333333333333,
                            "#9c179e"
                          ],
                          [
                            0.4444444444444444,
                            "#bd3786"
                          ],
                          [
                            0.5555555555555556,
                            "#d8576b"
                          ],
                          [
                            0.6666666666666666,
                            "#ed7953"
                          ],
                          [
                            0.7777777777777778,
                            "#fb9f3a"
                          ],
                          [
                            0.8888888888888888,
                            "#fdca26"
                          ],
                          [
                            1,
                            "#f0f921"
                          ]
                        ],
                        "type": "histogram2dcontour"
                      }
                    ],
                    "mesh3d": [
                      {
                        "colorbar": {
                          "outlinewidth": 0,
                          "ticks": ""
                        },
                        "type": "mesh3d"
                      }
                    ],
                    "parcoords": [
                      {
                        "line": {
                          "colorbar": {
                            "outlinewidth": 0,
                            "ticks": ""
                          }
                        },
                        "type": "parcoords"
                      }
                    ],
                    "pie": [
                      {
                        "automargin": true,
                        "type": "pie"
                      }
                    ],
                    "scatter": [
                      {
                        "fillpattern": {
                          "fillmode": "overlay",
                          "size": 10,
                          "solidity": 0.2
                        },
                        "type": "scatter"
                      }
                    ],
                    "scatter3d": [
                      {
                        "line": {
                          "colorbar": {
                            "outlinewidth": 0,
                            "ticks": ""
                          }
                        },
                        "marker": {
                          "colorbar": {
                            "outlinewidth": 0,
                            "ticks": ""
                          }
                        },
                        "type": "scatter3d"
                      }
                    ],
                    "scattercarpet": [
                      {
                        "marker": {
                          "colorbar": {
                            "outlinewidth": 0,
                            "ticks": ""
                          }
                        },
                        "type": "scattercarpet"
                      }
                    ],
                    "scattergeo": [
                      {
                        "marker": {
                          "colorbar": {
                            "outlinewidth": 0,
                            "ticks": ""
                          }
                        },
                        "type": "scattergeo"
                      }
                    ],
                    "scattergl": [
                      {
                        "marker": {
                          "colorbar": {
                            "outlinewidth": 0,
                            "ticks": ""
                          }
                        },
                        "type": "scattergl"
                      }
                    ],
                    "scattermapbox": [
                      {
                        "marker": {
                          "colorbar": {
                            "outlinewidth": 0,
                            "ticks": ""
                          }
                        },
                        "type": "scattermapbox"
                      }
                    ],
                    "scatterpolar": [
                      {
                        "marker": {
                          "colorbar": {
                            "outlinewidth": 0,
                            "ticks": ""
                          }
                        },
                        "type": "scatterpolar"
                      }
                    ],
                    "scatterpolargl": [
                      {
                        "marker": {
                          "colorbar": {
                            "outlinewidth": 0,
                            "ticks": ""
                          }
                        },
                        "type": "scatterpolargl"
                      }
                    ],
                    "scatterternary": [
                      {
                        "marker": {
                          "colorbar": {
                            "outlinewidth": 0,
                            "ticks": ""
                          }
                        },
                        "type": "scatterternary"
                      }
                    ],
                    "surface": [
                      {
                        "colorbar": {
                          "outlinewidth": 0,
                          "ticks": ""
                        },
                        "colorscale": [
                          [
                            0,
                            "#0d0887"
                          ],
                          [
                            0.1111111111111111,
                            "#46039f"
                          ],
                          [
                            0.2222222222222222,
                            "#7201a8"
                          ],
                          [
                            0.3333333333333333,
                            "#9c179e"
                          ],
                          [
                            0.4444444444444444,
                            "#bd3786"
                          ],
                          [
                            0.5555555555555556,
                            "#d8576b"
                          ],
                          [
                            0.6666666666666666,
                            "#ed7953"
                          ],
                          [
                            0.7777777777777778,
                            "#fb9f3a"
                          ],
                          [
                            0.8888888888888888,
                            "#fdca26"
                          ],
                          [
                            1,
                            "#f0f921"
                          ]
                        ],
                        "type": "surface"
                      }
                    ],
                    "table": [
                      {
                        "cells": {
                          "fill": {
                            "color": "#EBF0F8"
                          },
                          "line": {
                            "color": "white"
                          }
                        },
                        "header": {
                          "fill": {
                            "color": "#C8D4E3"
                          },
                          "line": {
                            "color": "white"
                          }
                        },
                        "type": "table"
                      }
                    ]
                  },
                  "layout": {
                    "annotationdefaults": {
                      "arrowcolor": "#2a3f5f",
                      "arrowhead": 0,
                      "arrowwidth": 1
                    },
                    "autotypenumbers": "strict",
                    "coloraxis": {
                      "colorbar": {
                        "outlinewidth": 0,
                        "ticks": ""
                      }
                    },
                    "colorscale": {
                      "diverging": [
                        [
                          0,
                          "#8e0152"
                        ],
                        [
                          0.1,
                          "#c51b7d"
                        ],
                        [
                          0.2,
                          "#de77ae"
                        ],
                        [
                          0.3,
                          "#f1b6da"
                        ],
                        [
                          0.4,
                          "#fde0ef"
                        ],
                        [
                          0.5,
                          "#f7f7f7"
                        ],
                        [
                          0.6,
                          "#e6f5d0"
                        ],
                        [
                          0.7,
                          "#b8e186"
                        ],
                        [
                          0.8,
                          "#7fbc41"
                        ],
                        [
                          0.9,
                          "#4d9221"
                        ],
                        [
                          1,
                          "#276419"
                        ]
                      ],
                      "sequential": [
                        [
                          0,
                          "#0d0887"
                        ],
                        [
                          0.1111111111111111,
                          "#46039f"
                        ],
                        [
                          0.2222222222222222,
                          "#7201a8"
                        ],
                        [
                          0.3333333333333333,
                          "#9c179e"
                        ],
                        [
                          0.4444444444444444,
                          "#bd3786"
                        ],
                        [
                          0.5555555555555556,
                          "#d8576b"
                        ],
                        [
                          0.6666666666666666,
                          "#ed7953"
                        ],
                        [
                          0.7777777777777778,
                          "#fb9f3a"
                        ],
                        [
                          0.8888888888888888,
                          "#fdca26"
                        ],
                        [
                          1,
                          "#f0f921"
                        ]
                      ],
                      "sequentialminus": [
                        [
                          0,
                          "#0d0887"
                        ],
                        [
                          0.1111111111111111,
                          "#46039f"
                        ],
                        [
                          0.2222222222222222,
                          "#7201a8"
                        ],
                        [
                          0.3333333333333333,
                          "#9c179e"
                        ],
                        [
                          0.4444444444444444,
                          "#bd3786"
                        ],
                        [
                          0.5555555555555556,
                          "#d8576b"
                        ],
                        [
                          0.6666666666666666,
                          "#ed7953"
                        ],
                        [
                          0.7777777777777778,
                          "#fb9f3a"
                        ],
                        [
                          0.8888888888888888,
                          "#fdca26"
                        ],
                        [
                          1,
                          "#f0f921"
                        ]
                      ]
                    },
                    "colorway": [
                      "#636efa",
                      "#EF553B",
                      "#00cc96",
                      "#ab63fa",
                      "#FFA15A",
                      "#19d3f3",
                      "#FF6692",
                      "#B6E880",
                      "#FF97FF",
                      "#FECB52"
                    ],
                    "font": {
                      "color": "#2a3f5f"
                    },
                    "geo": {
                      "bgcolor": "white",
                      "lakecolor": "white",
                      "landcolor": "#E5ECF6",
                      "showlakes": true,
                      "showland": true,
                      "subunitcolor": "white"
                    },
                    "hoverlabel": {
                      "align": "left"
                    },
                    "hovermode": "closest",
                    "mapbox": {
                      "style": "light"
                    },
                    "paper_bgcolor": "white",
                    "plot_bgcolor": "#E5ECF6",
                    "polar": {
                      "angularaxis": {
                        "gridcolor": "white",
                        "linecolor": "white",
                        "ticks": ""
                      },
                      "bgcolor": "#E5ECF6",
                      "radialaxis": {
                        "gridcolor": "white",
                        "linecolor": "white",
                        "ticks": ""
                      }
                    },
                    "scene": {
                      "xaxis": {
                        "backgroundcolor": "#E5ECF6",
                        "gridcolor": "white",
                        "gridwidth": 2,
                        "linecolor": "white",
                        "showbackground": true,
                        "ticks": "",
                        "zerolinecolor": "white"
                      },
                      "yaxis": {
                        "backgroundcolor": "#E5ECF6",
                        "gridcolor": "white",
                        "gridwidth": 2,
                        "linecolor": "white",
                        "showbackground": true,
                        "ticks": "",
                        "zerolinecolor": "white"
                      },
                      "zaxis": {
                        "backgroundcolor": "#E5ECF6",
                        "gridcolor": "white",
                        "gridwidth": 2,
                        "linecolor": "white",
                        "showbackground": true,
                        "ticks": "",
                        "zerolinecolor": "white"
                      }
                    },
                    "shapedefaults": {
                      "line": {
                        "color": "#2a3f5f"
                      }
                    },
                    "ternary": {
                      "aaxis": {
                        "gridcolor": "white",
                        "linecolor": "white",
                        "ticks": ""
                      },
                      "baxis": {
                        "gridcolor": "white",
                        "linecolor": "white",
                        "ticks": ""
                      },
                      "bgcolor": "#E5ECF6",
                      "caxis": {
                        "gridcolor": "white",
                        "linecolor": "white",
                        "ticks": ""
                      }
                    },
                    "title": {
                      "x": 0.05
                    },
                    "xaxis": {
                      "automargin": true,
                      "gridcolor": "white",
                      "linecolor": "white",
                      "ticks": "",
                      "title": {
                        "standoff": 15
                      },
                      "zerolinecolor": "white",
                      "zerolinewidth": 2
                    },
                    "yaxis": {
                      "automargin": true,
                      "gridcolor": "white",
                      "linecolor": "white",
                      "ticks": "",
                      "title": {
                        "standoff": 15
                      },
                      "zerolinecolor": "white",
                      "zerolinewidth": 2
                    }
                  }
                },
                "title": {
                  "text": "Value (USD) for Each Industry in 2018 by Country"
                },
                "xaxis": {
                  "anchor": "y",
                  "domain": [
                    0,
                    1
                  ],
                  "title": {
                    "text": "Ind Code"
                  }
                },
                "yaxis": {
                  "anchor": "x",
                  "domain": [
                    0,
                    1
                  ],
                  "title": {
                    "text": "Value (USD)"
                  }
                }
              }
            }
          },
          "metadata": {},
          "output_type": "display_data"
        }
      ],
      "source": [
        "# Filter the data for the year 2018\n",
        "cleaned_data_2018 = cleaned_data3[cleaned_data3['Year'] == 2018]\n",
        "\n",
        "# Create the bar chart\n",
        "fig = px.bar(cleaned_data_2018, x='Ind Code', y='Value (USD)', color='ISO3', title='Value (USD) for Each Industry in 2018 by Country')\n",
        "fig.show()"
      ]
    },
    {
      "cell_type": "code",
      "execution_count": 34,
      "metadata": {},
      "outputs": [
        {
          "data": {
            "application/vnd.plotly.v1+json": {
              "config": {
                "plotlyServerURL": "https://plot.ly"
              },
              "data": [
                {
                  "alignmentgroup": "True",
                  "hovertemplate": "ISO3=ARG<br>Ind Code=%{x}<br>Value (USD)=%{y}<extra></extra>",
                  "legendgroup": "ARG",
                  "marker": {
                    "color": "#636efa",
                    "pattern": {
                      "shape": ""
                    }
                  },
                  "name": "ARG",
                  "offsetgroup": "ARG",
                  "orientation": "v",
                  "showlegend": true,
                  "textposition": "auto",
                  "type": "bar",
                  "x": [
                    "A",
                    "B",
                    "C",
                    "D",
                    "E",
                    "F",
                    "G",
                    "H",
                    "I",
                    "J",
                    "K"
                  ],
                  "xaxis": "x",
                  "y": [
                    24966.3,
                    4322.3,
                    1039.2,
                    4735.6,
                    3330.2,
                    9760.8,
                    3363,
                    3295.8,
                    5252,
                    9745.8,
                    4666.1
                  ],
                  "yaxis": "y"
                },
                {
                  "alignmentgroup": "True",
                  "hovertemplate": "ISO3=AUS<br>Ind Code=%{x}<br>Value (USD)=%{y}<extra></extra>",
                  "legendgroup": "AUS",
                  "marker": {
                    "color": "#EF553B",
                    "pattern": {
                      "shape": ""
                    }
                  },
                  "name": "AUS",
                  "offsetgroup": "AUS",
                  "orientation": "v",
                  "showlegend": true,
                  "textposition": "auto",
                  "type": "bar",
                  "x": [
                    "A",
                    "B",
                    "C",
                    "D",
                    "E",
                    "F",
                    "G",
                    "H",
                    "I",
                    "J",
                    "K"
                  ],
                  "xaxis": "x",
                  "y": [
                    19227.4,
                    1738.5,
                    3526.9,
                    3805.5,
                    4366.4,
                    7094.3,
                    3405.9,
                    4880.1,
                    5153.2,
                    17233.7,
                    6059.5
                  ],
                  "yaxis": "y"
                },
                {
                  "alignmentgroup": "True",
                  "hovertemplate": "ISO3=AUT<br>Ind Code=%{x}<br>Value (USD)=%{y}<extra></extra>",
                  "legendgroup": "AUT",
                  "marker": {
                    "color": "#00cc96",
                    "pattern": {
                      "shape": ""
                    }
                  },
                  "name": "AUT",
                  "offsetgroup": "AUT",
                  "orientation": "v",
                  "showlegend": true,
                  "textposition": "auto",
                  "type": "bar",
                  "x": [
                    "A",
                    "B",
                    "C",
                    "D",
                    "E",
                    "F",
                    "G",
                    "H",
                    "I",
                    "J",
                    "K",
                    "L"
                  ],
                  "xaxis": "x",
                  "y": [
                    14273.869999999999,
                    2342.2799999999997,
                    6084.93,
                    7162.07,
                    1870.94,
                    12940.86,
                    5872.29,
                    6174.23,
                    9813.66,
                    57197.32,
                    13768.27,
                    6410.889999999999
                  ],
                  "yaxis": "y"
                },
                {
                  "alignmentgroup": "True",
                  "hovertemplate": "ISO3=BEL<br>Ind Code=%{x}<br>Value (USD)=%{y}<extra></extra>",
                  "legendgroup": "BEL",
                  "marker": {
                    "color": "#ab63fa",
                    "pattern": {
                      "shape": ""
                    }
                  },
                  "name": "BEL",
                  "offsetgroup": "BEL",
                  "orientation": "v",
                  "showlegend": true,
                  "textposition": "auto",
                  "type": "bar",
                  "x": [
                    "A",
                    "B",
                    "C",
                    "D",
                    "E",
                    "F",
                    "G",
                    "H",
                    "I",
                    "J",
                    "K",
                    "L"
                  ],
                  "xaxis": "x",
                  "y": [
                    18768.989999999998,
                    3035.2200000000003,
                    2050.13,
                    4623.37,
                    2823.34,
                    42177.68,
                    5037.98,
                    5934.54,
                    6277.57,
                    22741.28,
                    7512.09,
                    3023.7799999999997
                  ],
                  "yaxis": "y"
                },
                {
                  "alignmentgroup": "True",
                  "hovertemplate": "ISO3=BGR<br>Ind Code=%{x}<br>Value (USD)=%{y}<extra></extra>",
                  "legendgroup": "BGR",
                  "marker": {
                    "color": "#FFA15A",
                    "pattern": {
                      "shape": ""
                    }
                  },
                  "name": "BGR",
                  "offsetgroup": "BGR",
                  "orientation": "v",
                  "showlegend": true,
                  "textposition": "auto",
                  "type": "bar",
                  "x": [
                    "A",
                    "B",
                    "C",
                    "D",
                    "E",
                    "F",
                    "G",
                    "H",
                    "I",
                    "J",
                    "K",
                    "L"
                  ],
                  "xaxis": "x",
                  "y": [
                    2605.7,
                    1604.85,
                    274.76,
                    714.95,
                    317.79,
                    1481.75,
                    874.9,
                    970.23,
                    855.96,
                    4543.290000000001,
                    776.8399999999999,
                    1022.8700000000001
                  ],
                  "yaxis": "y"
                },
                {
                  "alignmentgroup": "True",
                  "hovertemplate": "ISO3=BRA<br>Ind Code=%{x}<br>Value (USD)=%{y}<extra></extra>",
                  "legendgroup": "BRA",
                  "marker": {
                    "color": "#19d3f3",
                    "pattern": {
                      "shape": ""
                    }
                  },
                  "name": "BRA",
                  "offsetgroup": "BRA",
                  "orientation": "v",
                  "showlegend": true,
                  "textposition": "auto",
                  "type": "bar",
                  "x": [
                    "A",
                    "B",
                    "C",
                    "D",
                    "E",
                    "F",
                    "G",
                    "H",
                    "I",
                    "J",
                    "K"
                  ],
                  "xaxis": "x",
                  "y": [
                    48565,
                    18578.4,
                    3529.5,
                    12966.6,
                    28034.9,
                    30456.5,
                    10043.3,
                    7876.3,
                    11298.9,
                    35121.3,
                    24886.2
                  ],
                  "yaxis": "y"
                },
                {
                  "alignmentgroup": "True",
                  "hovertemplate": "ISO3=BRN<br>Ind Code=%{x}<br>Value (USD)=%{y}<extra></extra>",
                  "legendgroup": "BRN",
                  "marker": {
                    "color": "#FF6692",
                    "pattern": {
                      "shape": ""
                    }
                  },
                  "name": "BRN",
                  "offsetgroup": "BRN",
                  "orientation": "v",
                  "showlegend": true,
                  "textposition": "auto",
                  "type": "bar",
                  "x": [
                    "A",
                    "B",
                    "C",
                    "D",
                    "E",
                    "F",
                    "G",
                    "H",
                    "I",
                    "J",
                    "K"
                  ],
                  "xaxis": "x",
                  "y": [
                    16.8,
                    47.5,
                    2.4,
                    6.9,
                    1247.2,
                    37.6,
                    6.9,
                    13.7,
                    3.9,
                    33.3,
                    74.8
                  ],
                  "yaxis": "y"
                },
                {
                  "alignmentgroup": "True",
                  "hovertemplate": "ISO3=CAN<br>Ind Code=%{x}<br>Value (USD)=%{y}<extra></extra>",
                  "legendgroup": "CAN",
                  "marker": {
                    "color": "#B6E880",
                    "pattern": {
                      "shape": ""
                    }
                  },
                  "name": "CAN",
                  "offsetgroup": "CAN",
                  "orientation": "v",
                  "showlegend": true,
                  "textposition": "auto",
                  "type": "bar",
                  "x": [
                    "A",
                    "B",
                    "C",
                    "D",
                    "E",
                    "F",
                    "G",
                    "H",
                    "I",
                    "J",
                    "K",
                    "L"
                  ],
                  "xaxis": "x",
                  "y": [
                    51693.96000000001,
                    4125.99,
                    16362.72,
                    20723.46,
                    23584.940000000002,
                    34807.88,
                    16819.08,
                    12711.33,
                    19085.89,
                    68291.26000000001,
                    49132.130000000005,
                    16067.61
                  ],
                  "yaxis": "y"
                },
                {
                  "alignmentgroup": "True",
                  "hovertemplate": "ISO3=CHE<br>Ind Code=%{x}<br>Value (USD)=%{y}<extra></extra>",
                  "legendgroup": "CHE",
                  "marker": {
                    "color": "#FF97FF",
                    "pattern": {
                      "shape": ""
                    }
                  },
                  "name": "CHE",
                  "offsetgroup": "CHE",
                  "orientation": "v",
                  "showlegend": true,
                  "textposition": "auto",
                  "type": "bar",
                  "x": [
                    "A",
                    "B",
                    "C",
                    "D",
                    "E",
                    "F",
                    "G",
                    "H",
                    "I",
                    "J",
                    "K",
                    "L"
                  ],
                  "xaxis": "x",
                  "y": [
                    24927.9,
                    2247.79,
                    7612.4,
                    5315.93,
                    4814.9,
                    41419.4,
                    5805.370000000001,
                    4987.27,
                    3167.91,
                    105033.45999999999,
                    5155.51,
                    10268.46
                  ],
                  "yaxis": "y"
                },
                {
                  "alignmentgroup": "True",
                  "hovertemplate": "ISO3=CHL<br>Ind Code=%{x}<br>Value (USD)=%{y}<extra></extra>",
                  "legendgroup": "CHL",
                  "marker": {
                    "color": "#FECB52",
                    "pattern": {
                      "shape": ""
                    }
                  },
                  "name": "CHL",
                  "offsetgroup": "CHL",
                  "orientation": "v",
                  "showlegend": true,
                  "textposition": "auto",
                  "type": "bar",
                  "x": [
                    "A",
                    "B",
                    "C",
                    "D",
                    "E",
                    "F",
                    "G",
                    "H",
                    "I",
                    "J",
                    "K"
                  ],
                  "xaxis": "x",
                  "y": [
                    22298.58,
                    1005.1800000000001,
                    1449.4,
                    3598.8,
                    1977.15,
                    2773.2,
                    4508.9,
                    1923.9299999999998,
                    14588.5,
                    8075.27,
                    1082.4
                  ],
                  "yaxis": "y"
                },
                {
                  "alignmentgroup": "True",
                  "hovertemplate": "ISO3=CHN<br>Ind Code=%{x}<br>Value (USD)=%{y}<extra></extra>",
                  "legendgroup": "CHN",
                  "marker": {
                    "color": "#636efa",
                    "pattern": {
                      "shape": ""
                    }
                  },
                  "name": "CHN",
                  "offsetgroup": "CHN",
                  "orientation": "v",
                  "showlegend": true,
                  "textposition": "auto",
                  "type": "bar",
                  "x": [
                    "A",
                    "B",
                    "C",
                    "D",
                    "E",
                    "F",
                    "G",
                    "H",
                    "I",
                    "J",
                    "K"
                  ],
                  "xaxis": "x",
                  "y": [
                    410643.69,
                    241887.41,
                    54181.1,
                    124635.2,
                    175172.09,
                    481399.69,
                    119899.5,
                    361271.19,
                    469966.91,
                    1042085.5,
                    361992.31
                  ],
                  "yaxis": "y"
                },
                {
                  "alignmentgroup": "True",
                  "hovertemplate": "ISO3=COL<br>Ind Code=%{x}<br>Value (USD)=%{y}<extra></extra>",
                  "legendgroup": "COL",
                  "marker": {
                    "color": "#EF553B",
                    "pattern": {
                      "shape": ""
                    }
                  },
                  "name": "COL",
                  "offsetgroup": "COL",
                  "orientation": "v",
                  "showlegend": true,
                  "textposition": "auto",
                  "type": "bar",
                  "x": [
                    "A",
                    "B",
                    "C",
                    "D",
                    "E",
                    "F",
                    "G",
                    "H",
                    "I",
                    "J",
                    "K",
                    "L"
                  ],
                  "xaxis": "x",
                  "y": [
                    21020,
                    7314.6,
                    725.44,
                    3841.99,
                    8145.209999999999,
                    5100.7,
                    2075.46,
                    8437.21,
                    1363.3,
                    3607.15,
                    1740.34,
                    3979.1
                  ],
                  "yaxis": "y"
                },
                {
                  "alignmentgroup": "True",
                  "hovertemplate": "ISO3=CRI<br>Ind Code=%{x}<br>Value (USD)=%{y}<extra></extra>",
                  "legendgroup": "CRI",
                  "marker": {
                    "color": "#00cc96",
                    "pattern": {
                      "shape": ""
                    }
                  },
                  "name": "CRI",
                  "offsetgroup": "CRI",
                  "orientation": "v",
                  "showlegend": true,
                  "textposition": "auto",
                  "type": "bar",
                  "x": [
                    "A",
                    "B",
                    "C",
                    "D",
                    "E",
                    "F",
                    "G",
                    "H",
                    "I",
                    "J",
                    "K"
                  ],
                  "xaxis": "x",
                  "y": [
                    2920,
                    188.2,
                    90.4,
                    326.7,
                    221.2,
                    549.9,
                    123.7,
                    373,
                    104.6,
                    481.4,
                    25.1
                  ],
                  "yaxis": "y"
                },
                {
                  "alignmentgroup": "True",
                  "hovertemplate": "ISO3=CYP<br>Ind Code=%{x}<br>Value (USD)=%{y}<extra></extra>",
                  "legendgroup": "CYP",
                  "marker": {
                    "color": "#ab63fa",
                    "pattern": {
                      "shape": ""
                    }
                  },
                  "name": "CYP",
                  "offsetgroup": "CYP",
                  "orientation": "v",
                  "showlegend": true,
                  "textposition": "auto",
                  "type": "bar",
                  "x": [
                    "A",
                    "B",
                    "C",
                    "D",
                    "E",
                    "F",
                    "G",
                    "H",
                    "I",
                    "J",
                    "K",
                    "L"
                  ],
                  "xaxis": "x",
                  "y": [
                    837.41,
                    40.61,
                    125.87,
                    98.43,
                    5.34,
                    367.53,
                    67.93,
                    282.51,
                    52.32,
                    413.03,
                    14.7,
                    90.61
                  ],
                  "yaxis": "y"
                },
                {
                  "alignmentgroup": "True",
                  "hovertemplate": "ISO3=CZE<br>Ind Code=%{x}<br>Value (USD)=%{y}<extra></extra>",
                  "legendgroup": "CZE",
                  "marker": {
                    "color": "#FFA15A",
                    "pattern": {
                      "shape": ""
                    }
                  },
                  "name": "CZE",
                  "offsetgroup": "CZE",
                  "orientation": "v",
                  "showlegend": true,
                  "textposition": "auto",
                  "type": "bar",
                  "x": [
                    "A",
                    "B",
                    "C",
                    "D",
                    "E",
                    "F",
                    "G",
                    "H",
                    "I",
                    "J",
                    "K",
                    "L"
                  ],
                  "xaxis": "x",
                  "y": [
                    8750.12,
                    2294.9,
                    2398.79,
                    3177.82,
                    61.03,
                    5981.46,
                    8038.219999999999,
                    4817.93,
                    3016.95,
                    37056.26,
                    25420.510000000002,
                    3835.98
                  ],
                  "yaxis": "y"
                },
                {
                  "alignmentgroup": "True",
                  "hovertemplate": "ISO3=DEU<br>Ind Code=%{x}<br>Value (USD)=%{y}<extra></extra>",
                  "legendgroup": "DEU",
                  "marker": {
                    "color": "#19d3f3",
                    "pattern": {
                      "shape": ""
                    }
                  },
                  "name": "DEU",
                  "offsetgroup": "DEU",
                  "orientation": "v",
                  "showlegend": true,
                  "textposition": "auto",
                  "type": "bar",
                  "x": [
                    "A",
                    "B",
                    "C",
                    "D",
                    "E",
                    "F",
                    "G",
                    "H",
                    "I",
                    "J",
                    "K",
                    "L"
                  ],
                  "xaxis": "x",
                  "y": [
                    106130.28,
                    17489.6,
                    15414.54,
                    44037.25,
                    10073.61,
                    172422.5,
                    71501.53,
                    41695.01,
                    51745.19,
                    576632.85,
                    352190.34,
                    57391.08
                  ],
                  "yaxis": "y"
                },
                {
                  "alignmentgroup": "True",
                  "hovertemplate": "ISO3=DNK<br>Ind Code=%{x}<br>Value (USD)=%{y}<extra></extra>",
                  "legendgroup": "DNK",
                  "marker": {
                    "color": "#FF6692",
                    "pattern": {
                      "shape": ""
                    }
                  },
                  "name": "DNK",
                  "offsetgroup": "DNK",
                  "orientation": "v",
                  "showlegend": true,
                  "textposition": "auto",
                  "type": "bar",
                  "x": [
                    "A",
                    "B",
                    "C",
                    "D",
                    "E",
                    "F",
                    "G",
                    "H",
                    "I",
                    "J",
                    "K",
                    "L"
                  ],
                  "xaxis": "x",
                  "y": [
                    9670.53,
                    1117.52,
                    1292.1599999999999,
                    1779.25,
                    799.03,
                    31595.719999999998,
                    2556.6,
                    3217.09,
                    867.87,
                    28198.739999999998,
                    1334.6399999999999,
                    5899.18
                  ],
                  "yaxis": "y"
                },
                {
                  "alignmentgroup": "True",
                  "hovertemplate": "ISO3=ESP<br>Ind Code=%{x}<br>Value (USD)=%{y}<extra></extra>",
                  "legendgroup": "ESP",
                  "marker": {
                    "color": "#B6E880",
                    "pattern": {
                      "shape": ""
                    }
                  },
                  "name": "ESP",
                  "offsetgroup": "ESP",
                  "orientation": "v",
                  "showlegend": true,
                  "textposition": "auto",
                  "type": "bar",
                  "x": [
                    "A",
                    "B",
                    "C",
                    "D",
                    "E",
                    "F",
                    "G",
                    "H",
                    "I",
                    "J",
                    "K",
                    "L"
                  ],
                  "xaxis": "x",
                  "y": [
                    55071.59,
                    20554.82,
                    4516.799999999999,
                    14259.02,
                    6738.09,
                    37448.81,
                    14733.25,
                    13083.78,
                    12909.9,
                    60850.46,
                    39001.85,
                    10115.49
                  ],
                  "yaxis": "y"
                },
                {
                  "alignmentgroup": "True",
                  "hovertemplate": "ISO3=EST<br>Ind Code=%{x}<br>Value (USD)=%{y}<extra></extra>",
                  "legendgroup": "EST",
                  "marker": {
                    "color": "#FF97FF",
                    "pattern": {
                      "shape": ""
                    }
                  },
                  "name": "EST",
                  "offsetgroup": "EST",
                  "orientation": "v",
                  "showlegend": true,
                  "textposition": "auto",
                  "type": "bar",
                  "x": [
                    "A",
                    "B",
                    "C",
                    "D",
                    "E",
                    "F",
                    "G",
                    "H",
                    "I",
                    "J",
                    "K",
                    "L"
                  ],
                  "xaxis": "x",
                  "y": [
                    962.38,
                    416.62,
                    1281.88,
                    361.40999999999997,
                    135.49,
                    342.75,
                    300.38,
                    414.62,
                    65.64,
                    2189.92,
                    310.77,
                    524.8199999999999
                  ],
                  "yaxis": "y"
                },
                {
                  "alignmentgroup": "True",
                  "hovertemplate": "ISO3=FIN<br>Ind Code=%{x}<br>Value (USD)=%{y}<extra></extra>",
                  "legendgroup": "FIN",
                  "marker": {
                    "color": "#FECB52",
                    "pattern": {
                      "shape": ""
                    }
                  },
                  "name": "FIN",
                  "offsetgroup": "FIN",
                  "orientation": "v",
                  "showlegend": true,
                  "textposition": "auto",
                  "type": "bar",
                  "x": [
                    "A",
                    "B",
                    "C",
                    "D",
                    "E",
                    "F",
                    "G",
                    "H",
                    "I",
                    "J",
                    "K",
                    "L"
                  ],
                  "xaxis": "x",
                  "y": [
                    6366.65,
                    953.37,
                    3163.8900000000003,
                    9412.31,
                    2053.8199999999997,
                    9244.55,
                    2456.5600000000004,
                    2642.84,
                    4420.46,
                    30132.620000000003,
                    2695.95,
                    1491.27
                  ],
                  "yaxis": "y"
                },
                {
                  "alignmentgroup": "True",
                  "hovertemplate": "ISO3=FRA<br>Ind Code=%{x}<br>Value (USD)=%{y}<extra></extra>",
                  "legendgroup": "FRA",
                  "marker": {
                    "color": "#636efa",
                    "pattern": {
                      "shape": ""
                    }
                  },
                  "name": "FRA",
                  "offsetgroup": "FRA",
                  "orientation": "v",
                  "showlegend": true,
                  "textposition": "auto",
                  "type": "bar",
                  "x": [
                    "A",
                    "B",
                    "C",
                    "D",
                    "E",
                    "F",
                    "G",
                    "H",
                    "I",
                    "J",
                    "K",
                    "L"
                  ],
                  "xaxis": "x",
                  "y": [
                    103330.76999999999,
                    12868.96,
                    6778.0599999999995,
                    20287.92,
                    6031.969999999999,
                    83665.72,
                    26630.83,
                    18440.199999999997,
                    13449.52,
                    116521.88,
                    76153.39,
                    16185.240000000002
                  ],
                  "yaxis": "y"
                },
                {
                  "alignmentgroup": "True",
                  "hovertemplate": "ISO3=GBR<br>Ind Code=%{x}<br>Value (USD)=%{y}<extra></extra>",
                  "legendgroup": "GBR",
                  "marker": {
                    "color": "#EF553B",
                    "pattern": {
                      "shape": ""
                    }
                  },
                  "name": "GBR",
                  "offsetgroup": "GBR",
                  "orientation": "v",
                  "showlegend": true,
                  "textposition": "auto",
                  "type": "bar",
                  "x": [
                    "A",
                    "B",
                    "C",
                    "D",
                    "E",
                    "F",
                    "G",
                    "H",
                    "I",
                    "J",
                    "K",
                    "L"
                  ],
                  "xaxis": "x",
                  "y": [
                    89885.42,
                    19030.190000000002,
                    9446.83,
                    27770.41,
                    7979.32,
                    66258.76,
                    21886.86,
                    17150.52,
                    11389.369999999999,
                    143382.28,
                    77065.83,
                    26411.629999999997
                  ],
                  "yaxis": "y"
                },
                {
                  "alignmentgroup": "True",
                  "hovertemplate": "ISO3=GRC<br>Ind Code=%{x}<br>Value (USD)=%{y}<extra></extra>",
                  "legendgroup": "GRC",
                  "marker": {
                    "color": "#00cc96",
                    "pattern": {
                      "shape": ""
                    }
                  },
                  "name": "GRC",
                  "offsetgroup": "GRC",
                  "orientation": "v",
                  "showlegend": true,
                  "textposition": "auto",
                  "type": "bar",
                  "x": [
                    "A",
                    "B",
                    "C",
                    "D",
                    "E",
                    "F",
                    "G",
                    "H",
                    "I",
                    "J",
                    "K",
                    "L"
                  ],
                  "xaxis": "x",
                  "y": [
                    11669.69,
                    1203.3,
                    218,
                    1633.37,
                    3109.4399999999996,
                    4367.5599999999995,
                    1312.1999999999998,
                    1834.88,
                    2716.76,
                    4513.16,
                    1059.96,
                    713.79
                  ],
                  "yaxis": "y"
                },
                {
                  "alignmentgroup": "True",
                  "hovertemplate": "ISO3=HKG<br>Ind Code=%{x}<br>Value (USD)=%{y}<extra></extra>",
                  "legendgroup": "HKG",
                  "marker": {
                    "color": "#ab63fa",
                    "pattern": {
                      "shape": ""
                    }
                  },
                  "name": "HKG",
                  "offsetgroup": "HKG",
                  "orientation": "v",
                  "showlegend": true,
                  "textposition": "auto",
                  "type": "bar",
                  "x": [
                    "A",
                    "B",
                    "C",
                    "D",
                    "E",
                    "F",
                    "G",
                    "H",
                    "I",
                    "J",
                    "K"
                  ],
                  "xaxis": "x",
                  "y": [
                    2646.4,
                    291.7,
                    222,
                    178.7,
                    50.8,
                    96.2,
                    0,
                    69.1,
                    382.3,
                    334.7,
                    112.7
                  ],
                  "yaxis": "y"
                },
                {
                  "alignmentgroup": "True",
                  "hovertemplate": "ISO3=HRV<br>Ind Code=%{x}<br>Value (USD)=%{y}<extra></extra>",
                  "legendgroup": "HRV",
                  "marker": {
                    "color": "#FFA15A",
                    "pattern": {
                      "shape": ""
                    }
                  },
                  "name": "HRV",
                  "offsetgroup": "HRV",
                  "orientation": "v",
                  "showlegend": true,
                  "textposition": "auto",
                  "type": "bar",
                  "x": [
                    "A",
                    "B",
                    "C",
                    "D",
                    "E",
                    "F",
                    "G",
                    "H",
                    "I",
                    "J",
                    "K",
                    "L"
                  ],
                  "xaxis": "x",
                  "y": [
                    3605.71,
                    765.81,
                    626.76,
                    752.21,
                    1136.4499999999998,
                    1247.38,
                    585.47,
                    846.37,
                    158.54000000000002,
                    3603.23,
                    286.49,
                    597.22
                  ],
                  "yaxis": "y"
                },
                {
                  "alignmentgroup": "True",
                  "hovertemplate": "ISO3=HUN<br>Ind Code=%{x}<br>Value (USD)=%{y}<extra></extra>",
                  "legendgroup": "HUN",
                  "marker": {
                    "color": "#19d3f3",
                    "pattern": {
                      "shape": ""
                    }
                  },
                  "name": "HUN",
                  "offsetgroup": "HUN",
                  "orientation": "v",
                  "showlegend": true,
                  "textposition": "auto",
                  "type": "bar",
                  "x": [
                    "A",
                    "B",
                    "C",
                    "D",
                    "E",
                    "F",
                    "G",
                    "H",
                    "I",
                    "J",
                    "K",
                    "L"
                  ],
                  "xaxis": "x",
                  "y": [
                    5616.23,
                    1185.8200000000002,
                    702.0699999999999,
                    1789.08,
                    2023.48,
                    7271.53,
                    4116,
                    2037.02,
                    1697.65,
                    15866.42,
                    11664.130000000001,
                    1817.6999999999998
                  ],
                  "yaxis": "y"
                },
                {
                  "alignmentgroup": "True",
                  "hovertemplate": "ISO3=IDN<br>Ind Code=%{x}<br>Value (USD)=%{y}<extra></extra>",
                  "legendgroup": "IDN",
                  "marker": {
                    "color": "#FF6692",
                    "pattern": {
                      "shape": ""
                    }
                  },
                  "name": "IDN",
                  "offsetgroup": "IDN",
                  "orientation": "v",
                  "showlegend": true,
                  "textposition": "auto",
                  "type": "bar",
                  "x": [
                    "A",
                    "B",
                    "C",
                    "D",
                    "E",
                    "F",
                    "G",
                    "H",
                    "I",
                    "J",
                    "K"
                  ],
                  "xaxis": "x",
                  "y": [
                    56693.2,
                    21869.9,
                    5118.5,
                    9408.2,
                    21397.3,
                    15372.4,
                    5991.2,
                    6034.4,
                    8092.5,
                    32757.5,
                    24612.9
                  ],
                  "yaxis": "y"
                },
                {
                  "alignmentgroup": "True",
                  "hovertemplate": "ISO3=IND<br>Ind Code=%{x}<br>Value (USD)=%{y}<extra></extra>",
                  "legendgroup": "IND",
                  "marker": {
                    "color": "#B6E880",
                    "pattern": {
                      "shape": ""
                    }
                  },
                  "name": "IND",
                  "offsetgroup": "IND",
                  "orientation": "v",
                  "showlegend": true,
                  "textposition": "auto",
                  "type": "bar",
                  "x": [
                    "A",
                    "B",
                    "C",
                    "D",
                    "E",
                    "F",
                    "G",
                    "H",
                    "I",
                    "J",
                    "K"
                  ],
                  "xaxis": "x",
                  "y": [
                    47080.3,
                    58616.4,
                    7389.4,
                    11658.9,
                    37750.2,
                    69278.4,
                    18059.8,
                    29926.1,
                    44783.8,
                    81611.1,
                    55749.3
                  ],
                  "yaxis": "y"
                },
                {
                  "alignmentgroup": "True",
                  "hovertemplate": "ISO3=IRL<br>Ind Code=%{x}<br>Value (USD)=%{y}<extra></extra>",
                  "legendgroup": "IRL",
                  "marker": {
                    "color": "#FF97FF",
                    "pattern": {
                      "shape": ""
                    }
                  },
                  "name": "IRL",
                  "offsetgroup": "IRL",
                  "orientation": "v",
                  "showlegend": true,
                  "textposition": "auto",
                  "type": "bar",
                  "x": [
                    "A",
                    "B",
                    "C",
                    "D",
                    "E",
                    "F",
                    "G",
                    "H",
                    "I",
                    "J",
                    "K",
                    "L"
                  ],
                  "xaxis": "x",
                  "y": [
                    19386.510000000002,
                    373.6,
                    710.96,
                    1186.75,
                    12446.6,
                    59396.9,
                    1454.04,
                    1824.85,
                    747,
                    18218.55,
                    889.81,
                    9830.57
                  ],
                  "yaxis": "y"
                },
                {
                  "alignmentgroup": "True",
                  "hovertemplate": "ISO3=ISL<br>Ind Code=%{x}<br>Value (USD)=%{y}<extra></extra>",
                  "legendgroup": "ISL",
                  "marker": {
                    "color": "#FECB52",
                    "pattern": {
                      "shape": ""
                    }
                  },
                  "name": "ISL",
                  "offsetgroup": "ISL",
                  "orientation": "v",
                  "showlegend": true,
                  "textposition": "auto",
                  "type": "bar",
                  "x": [
                    "A",
                    "B",
                    "C",
                    "D",
                    "E",
                    "F",
                    "G",
                    "H",
                    "I",
                    "J",
                    "K",
                    "L"
                  ],
                  "xaxis": "x",
                  "y": [
                    1802.7,
                    48.35,
                    28.04,
                    100.77,
                    3.81,
                    89.25999999999999,
                    56.31,
                    196.68,
                    710,
                    670.3399999999999,
                    16.48,
                    308.92
                  ],
                  "yaxis": "y"
                },
                {
                  "alignmentgroup": "True",
                  "hovertemplate": "ISO3=ITA<br>Ind Code=%{x}<br>Value (USD)=%{y}<extra></extra>",
                  "legendgroup": "ITA",
                  "marker": {
                    "color": "#636efa",
                    "pattern": {
                      "shape": ""
                    }
                  },
                  "name": "ITA",
                  "offsetgroup": "ITA",
                  "orientation": "v",
                  "showlegend": true,
                  "textposition": "auto",
                  "type": "bar",
                  "x": [
                    "A",
                    "B",
                    "C",
                    "D",
                    "E",
                    "F",
                    "G",
                    "H",
                    "I",
                    "J",
                    "K",
                    "L"
                  ],
                  "xaxis": "x",
                  "y": [
                    66736.43000000001,
                    58455.649999999994,
                    10953.26,
                    24011.05,
                    3023.34,
                    55235.8,
                    31148.739999999998,
                    23589.4,
                    19117.190000000002,
                    209726.82,
                    54574.4,
                    32224.05
                  ],
                  "yaxis": "y"
                },
                {
                  "alignmentgroup": "True",
                  "hovertemplate": "ISO3=JPN<br>Ind Code=%{x}<br>Value (USD)=%{y}<extra></extra>",
                  "legendgroup": "JPN",
                  "marker": {
                    "color": "#EF553B",
                    "pattern": {
                      "shape": ""
                    }
                  },
                  "name": "JPN",
                  "offsetgroup": "JPN",
                  "orientation": "v",
                  "showlegend": true,
                  "textposition": "auto",
                  "type": "bar",
                  "x": [
                    "A",
                    "B",
                    "C",
                    "D",
                    "E",
                    "F",
                    "G",
                    "H",
                    "I",
                    "J",
                    "K",
                    "L"
                  ],
                  "xaxis": "x",
                  "y": [
                    234186.96000000002,
                    14367,
                    8776.1,
                    82828.86,
                    78771.99,
                    103767.5,
                    51255.5,
                    53103.479999999996,
                    165679.57,
                    363737.94,
                    301324.66000000003,
                    169858.53000000003
                  ],
                  "yaxis": "y"
                },
                {
                  "alignmentgroup": "True",
                  "hovertemplate": "ISO3=KAZ<br>Ind Code=%{x}<br>Value (USD)=%{y}<extra></extra>",
                  "legendgroup": "KAZ",
                  "marker": {
                    "color": "#00cc96",
                    "pattern": {
                      "shape": ""
                    }
                  },
                  "name": "KAZ",
                  "offsetgroup": "KAZ",
                  "orientation": "v",
                  "showlegend": true,
                  "textposition": "auto",
                  "type": "bar",
                  "x": [
                    "A",
                    "B",
                    "C",
                    "D",
                    "E",
                    "F",
                    "G",
                    "H",
                    "I",
                    "J",
                    "K"
                  ],
                  "xaxis": "x",
                  "y": [
                    4636.6,
                    225.1,
                    43.8,
                    215.2,
                    1897.4,
                    1182,
                    322.2,
                    1035.6,
                    7338.8,
                    948.7,
                    465.2
                  ],
                  "yaxis": "y"
                },
                {
                  "alignmentgroup": "True",
                  "hovertemplate": "ISO3=KHM<br>Ind Code=%{x}<br>Value (USD)=%{y}<extra></extra>",
                  "legendgroup": "KHM",
                  "marker": {
                    "color": "#ab63fa",
                    "pattern": {
                      "shape": ""
                    }
                  },
                  "name": "KHM",
                  "offsetgroup": "KHM",
                  "orientation": "v",
                  "showlegend": true,
                  "textposition": "auto",
                  "type": "bar",
                  "x": [
                    "A",
                    "B",
                    "C",
                    "D",
                    "E",
                    "F",
                    "G",
                    "H",
                    "I",
                    "J",
                    "K"
                  ],
                  "xaxis": "x",
                  "y": [
                    632.9,
                    4105.7,
                    548.9,
                    115.8,
                    93.1,
                    97.9,
                    103.3,
                    49.1,
                    30.2,
                    573.6,
                    292.7
                  ],
                  "yaxis": "y"
                },
                {
                  "alignmentgroup": "True",
                  "hovertemplate": "ISO3=KOR<br>Ind Code=%{x}<br>Value (USD)=%{y}<extra></extra>",
                  "legendgroup": "KOR",
                  "marker": {
                    "color": "#FFA15A",
                    "pattern": {
                      "shape": ""
                    }
                  },
                  "name": "KOR",
                  "offsetgroup": "KOR",
                  "orientation": "v",
                  "showlegend": true,
                  "textposition": "auto",
                  "type": "bar",
                  "x": [
                    "A",
                    "B",
                    "C",
                    "D",
                    "E",
                    "F",
                    "G",
                    "H",
                    "I",
                    "J",
                    "K"
                  ],
                  "xaxis": "x",
                  "y": [
                    23360.3,
                    15516.8,
                    2132,
                    12022.2,
                    17223.5,
                    50103,
                    24456,
                    12435.1,
                    28117.2,
                    241659,
                    49990.4
                  ],
                  "yaxis": "y"
                },
                {
                  "alignmentgroup": "True",
                  "hovertemplate": "ISO3=LAO<br>Ind Code=%{x}<br>Value (USD)=%{y}<extra></extra>",
                  "legendgroup": "LAO",
                  "marker": {
                    "color": "#19d3f3",
                    "pattern": {
                      "shape": ""
                    }
                  },
                  "name": "LAO",
                  "offsetgroup": "LAO",
                  "orientation": "v",
                  "showlegend": true,
                  "textposition": "auto",
                  "type": "bar",
                  "x": [
                    "A",
                    "B",
                    "C",
                    "D",
                    "E",
                    "F",
                    "G",
                    "H",
                    "I",
                    "J",
                    "K"
                  ],
                  "xaxis": "x",
                  "y": [
                    333.4,
                    247.6,
                    177.9,
                    4.2,
                    86.7,
                    61.5,
                    15.4,
                    166.4,
                    520.1,
                    76.3,
                    2.8
                  ],
                  "yaxis": "y"
                },
                {
                  "alignmentgroup": "True",
                  "hovertemplate": "ISO3=LTU<br>Ind Code=%{x}<br>Value (USD)=%{y}<extra></extra>",
                  "legendgroup": "LTU",
                  "marker": {
                    "color": "#FF6692",
                    "pattern": {
                      "shape": ""
                    }
                  },
                  "name": "LTU",
                  "offsetgroup": "LTU",
                  "orientation": "v",
                  "showlegend": true,
                  "textposition": "auto",
                  "type": "bar",
                  "x": [
                    "A",
                    "B",
                    "C",
                    "D",
                    "E",
                    "F",
                    "G",
                    "H",
                    "I",
                    "J",
                    "K",
                    "L"
                  ],
                  "xaxis": "x",
                  "y": [
                    3424.73,
                    1213,
                    1215.27,
                    832.06,
                    413.1,
                    1645.3600000000001,
                    1072.22,
                    633.95,
                    45.56,
                    2443.94,
                    639.5999999999999,
                    2382.01
                  ],
                  "yaxis": "y"
                },
                {
                  "alignmentgroup": "True",
                  "hovertemplate": "ISO3=LUX<br>Ind Code=%{x}<br>Value (USD)=%{y}<extra></extra>",
                  "legendgroup": "LUX",
                  "marker": {
                    "color": "#B6E880",
                    "pattern": {
                      "shape": ""
                    }
                  },
                  "name": "LUX",
                  "offsetgroup": "LUX",
                  "orientation": "v",
                  "showlegend": true,
                  "textposition": "auto",
                  "type": "bar",
                  "x": [
                    "A",
                    "B",
                    "C",
                    "D",
                    "E",
                    "F",
                    "G",
                    "H",
                    "I",
                    "J",
                    "K"
                  ],
                  "xaxis": "x",
                  "y": [
                    661.47,
                    451.19000000000005,
                    56.660000000000004,
                    102.4,
                    0,
                    201.6,
                    703.7,
                    303.2,
                    946.1,
                    973.6,
                    53.4
                  ],
                  "yaxis": "y"
                },
                {
                  "alignmentgroup": "True",
                  "hovertemplate": "ISO3=LVA<br>Ind Code=%{x}<br>Value (USD)=%{y}<extra></extra>",
                  "legendgroup": "LVA",
                  "marker": {
                    "color": "#FF97FF",
                    "pattern": {
                      "shape": ""
                    }
                  },
                  "name": "LVA",
                  "offsetgroup": "LVA",
                  "orientation": "v",
                  "showlegend": true,
                  "textposition": "auto",
                  "type": "bar",
                  "x": [
                    "A",
                    "B",
                    "C",
                    "D",
                    "E",
                    "F",
                    "G",
                    "H",
                    "I",
                    "J",
                    "K",
                    "L"
                  ],
                  "xaxis": "x",
                  "y": [
                    1340.76,
                    328.08,
                    1692.63,
                    289.91999999999996,
                    1.98,
                    447.53999999999996,
                    177.10000000000002,
                    505.51,
                    34.26,
                    1343.85,
                    236.9,
                    345.92
                  ],
                  "yaxis": "y"
                },
                {
                  "alignmentgroup": "True",
                  "hovertemplate": "ISO3=MAR<br>Ind Code=%{x}<br>Value (USD)=%{y}<extra></extra>",
                  "legendgroup": "MAR",
                  "marker": {
                    "color": "#FECB52",
                    "pattern": {
                      "shape": ""
                    }
                  },
                  "name": "MAR",
                  "offsetgroup": "MAR",
                  "orientation": "v",
                  "showlegend": true,
                  "textposition": "auto",
                  "type": "bar",
                  "x": [
                    "A",
                    "B",
                    "C",
                    "D",
                    "E",
                    "F",
                    "G",
                    "H",
                    "I",
                    "J",
                    "K"
                  ],
                  "xaxis": "x",
                  "y": [
                    7306.3,
                    2322.8,
                    197.9,
                    434.1,
                    0.3,
                    3764.8,
                    115.8,
                    1426.7,
                    745.9,
                    2424.8,
                    1486.2
                  ],
                  "yaxis": "y"
                },
                {
                  "alignmentgroup": "True",
                  "hovertemplate": "ISO3=MEX<br>Ind Code=%{x}<br>Value (USD)=%{y}<extra></extra>",
                  "legendgroup": "MEX",
                  "marker": {
                    "color": "#636efa",
                    "pattern": {
                      "shape": ""
                    }
                  },
                  "name": "MEX",
                  "offsetgroup": "MEX",
                  "orientation": "v",
                  "showlegend": true,
                  "textposition": "auto",
                  "type": "bar",
                  "x": [
                    "A",
                    "B",
                    "C",
                    "D",
                    "E",
                    "F",
                    "G",
                    "H",
                    "I",
                    "J",
                    "K",
                    "L"
                  ],
                  "xaxis": "x",
                  "y": [
                    112924.23999999999,
                    17187.1,
                    3442.25,
                    10278.369999999999,
                    12780.58,
                    30910.690000000002,
                    13367.2,
                    11164.189999999999,
                    24241.199999999997,
                    85729.98000000001,
                    94087.52,
                    12425.96
                  ],
                  "yaxis": "y"
                },
                {
                  "alignmentgroup": "True",
                  "hovertemplate": "ISO3=MKD<br>Ind Code=%{x}<br>Value (USD)=%{y}<extra></extra>",
                  "legendgroup": "MKD",
                  "marker": {
                    "color": "#EF553B",
                    "pattern": {
                      "shape": ""
                    }
                  },
                  "name": "MKD",
                  "offsetgroup": "MKD",
                  "orientation": "v",
                  "showlegend": true,
                  "textposition": "auto",
                  "type": "bar",
                  "x": [
                    "A",
                    "B",
                    "C",
                    "D",
                    "E",
                    "F",
                    "G",
                    "H",
                    "I",
                    "J",
                    "K",
                    "L"
                  ],
                  "xaxis": "x",
                  "y": [
                    370.35,
                    340.81,
                    19.4,
                    65.18,
                    0.49,
                    100.5,
                    58.27,
                    79.77,
                    64.36,
                    292.86,
                    239.12,
                    48.82
                  ],
                  "yaxis": "y"
                },
                {
                  "alignmentgroup": "True",
                  "hovertemplate": "ISO3=MLT<br>Ind Code=%{x}<br>Value (USD)=%{y}<extra></extra>",
                  "legendgroup": "MLT",
                  "marker": {
                    "color": "#00cc96",
                    "pattern": {
                      "shape": ""
                    }
                  },
                  "name": "MLT",
                  "offsetgroup": "MLT",
                  "orientation": "v",
                  "showlegend": true,
                  "textposition": "auto",
                  "type": "bar",
                  "x": [
                    "A",
                    "B",
                    "C",
                    "D",
                    "E",
                    "F",
                    "G",
                    "H",
                    "I",
                    "J",
                    "K",
                    "L"
                  ],
                  "xaxis": "x",
                  "y": [
                    335.69,
                    28.12,
                    10.9,
                    94.5,
                    0.1,
                    126.23,
                    86.2,
                    53.6,
                    1.8599999999999999,
                    292.41,
                    157.78,
                    329.65999999999997
                  ],
                  "yaxis": "y"
                },
                {
                  "alignmentgroup": "True",
                  "hovertemplate": "ISO3=MMR<br>Ind Code=%{x}<br>Value (USD)=%{y}<extra></extra>",
                  "legendgroup": "MMR",
                  "marker": {
                    "color": "#ab63fa",
                    "pattern": {
                      "shape": ""
                    }
                  },
                  "name": "MMR",
                  "offsetgroup": "MMR",
                  "orientation": "v",
                  "showlegend": true,
                  "textposition": "auto",
                  "type": "bar",
                  "x": [
                    "A",
                    "B",
                    "C",
                    "D",
                    "E",
                    "F",
                    "G",
                    "H",
                    "I",
                    "J",
                    "K"
                  ],
                  "xaxis": "x",
                  "y": [
                    3473.7,
                    2715,
                    390.5,
                    389.6,
                    752.3,
                    764.3,
                    315.3,
                    528.7,
                    499.7,
                    1449.4,
                    649.2
                  ],
                  "yaxis": "y"
                },
                {
                  "alignmentgroup": "True",
                  "hovertemplate": "ISO3=MYS<br>Ind Code=%{x}<br>Value (USD)=%{y}<extra></extra>",
                  "legendgroup": "MYS",
                  "marker": {
                    "color": "#FFA15A",
                    "pattern": {
                      "shape": ""
                    }
                  },
                  "name": "MYS",
                  "offsetgroup": "MYS",
                  "orientation": "v",
                  "showlegend": true,
                  "textposition": "auto",
                  "type": "bar",
                  "x": [
                    "A",
                    "B",
                    "C",
                    "D",
                    "E",
                    "F",
                    "G",
                    "H",
                    "I",
                    "J",
                    "K"
                  ],
                  "xaxis": "x",
                  "y": [
                    7944.7,
                    1576.1,
                    1503.6,
                    2471.9,
                    9746.5,
                    7602.4,
                    3272.4,
                    2407.2,
                    2165.4,
                    23789.3,
                    4496.5
                  ],
                  "yaxis": "y"
                },
                {
                  "alignmentgroup": "True",
                  "hovertemplate": "ISO3=NLD<br>Ind Code=%{x}<br>Value (USD)=%{y}<extra></extra>",
                  "legendgroup": "NLD",
                  "marker": {
                    "color": "#19d3f3",
                    "pattern": {
                      "shape": ""
                    }
                  },
                  "name": "NLD",
                  "offsetgroup": "NLD",
                  "orientation": "v",
                  "showlegend": true,
                  "textposition": "auto",
                  "type": "bar",
                  "x": [
                    "A",
                    "B",
                    "C",
                    "D",
                    "E",
                    "F",
                    "G",
                    "H",
                    "I",
                    "J",
                    "K",
                    "L"
                  ],
                  "xaxis": "x",
                  "y": [
                    35381.78,
                    2576.67,
                    2261.67,
                    7821.74,
                    3295.63,
                    36612.22,
                    6997.99,
                    4772.25,
                    5407.25,
                    62307.33,
                    9934.26,
                    11797.11
                  ],
                  "yaxis": "y"
                },
                {
                  "alignmentgroup": "True",
                  "hovertemplate": "ISO3=NOR<br>Ind Code=%{x}<br>Value (USD)=%{y}<extra></extra>",
                  "legendgroup": "NOR",
                  "marker": {
                    "color": "#FF6692",
                    "pattern": {
                      "shape": ""
                    }
                  },
                  "name": "NOR",
                  "offsetgroup": "NOR",
                  "orientation": "v",
                  "showlegend": true,
                  "textposition": "auto",
                  "type": "bar",
                  "x": [
                    "A",
                    "B",
                    "C",
                    "D",
                    "E",
                    "F",
                    "G",
                    "H",
                    "I",
                    "J",
                    "K",
                    "L"
                  ],
                  "xaxis": "x",
                  "y": [
                    11253.869999999999,
                    723.62,
                    2236.9700000000003,
                    1903.35,
                    889.5,
                    3372.3,
                    1072.3899999999999,
                    2685.58,
                    3106.59,
                    13231.89,
                    3759.2200000000003,
                    1519.1999999999998
                  ],
                  "yaxis": "y"
                },
                {
                  "alignmentgroup": "True",
                  "hovertemplate": "ISO3=NZL<br>Ind Code=%{x}<br>Value (USD)=%{y}<extra></extra>",
                  "legendgroup": "NZL",
                  "marker": {
                    "color": "#B6E880",
                    "pattern": {
                      "shape": ""
                    }
                  },
                  "name": "NZL",
                  "offsetgroup": "NZL",
                  "orientation": "v",
                  "showlegend": true,
                  "textposition": "auto",
                  "type": "bar",
                  "x": [
                    "A",
                    "B",
                    "C",
                    "D",
                    "E",
                    "F",
                    "G",
                    "H",
                    "I",
                    "J",
                    "K"
                  ],
                  "xaxis": "x",
                  "y": [
                    7619.4,
                    437.98,
                    1111.22,
                    1117.9,
                    1546.44,
                    1033.9,
                    1043.41,
                    835.84,
                    607.5,
                    5600.27,
                    925.09
                  ],
                  "yaxis": "y"
                },
                {
                  "alignmentgroup": "True",
                  "hovertemplate": "ISO3=PER<br>Ind Code=%{x}<br>Value (USD)=%{y}<extra></extra>",
                  "legendgroup": "PER",
                  "marker": {
                    "color": "#FF97FF",
                    "pattern": {
                      "shape": ""
                    }
                  },
                  "name": "PER",
                  "offsetgroup": "PER",
                  "orientation": "v",
                  "showlegend": true,
                  "textposition": "auto",
                  "type": "bar",
                  "x": [
                    "A",
                    "B",
                    "C",
                    "D",
                    "E",
                    "F",
                    "G",
                    "H",
                    "I",
                    "J",
                    "K"
                  ],
                  "xaxis": "x",
                  "y": [
                    8682.7,
                    3377.8,
                    672.7,
                    2133.2,
                    2553.6,
                    2635,
                    1365.6,
                    2640,
                    2703.3,
                    3370.2,
                    905.6
                  ],
                  "yaxis": "y"
                },
                {
                  "alignmentgroup": "True",
                  "hovertemplate": "ISO3=PHL<br>Ind Code=%{x}<br>Value (USD)=%{y}<extra></extra>",
                  "legendgroup": "PHL",
                  "marker": {
                    "color": "#FECB52",
                    "pattern": {
                      "shape": ""
                    }
                  },
                  "name": "PHL",
                  "offsetgroup": "PHL",
                  "orientation": "v",
                  "showlegend": true,
                  "textposition": "auto",
                  "type": "bar",
                  "x": [
                    "A",
                    "B",
                    "C",
                    "D",
                    "E",
                    "F",
                    "G",
                    "H",
                    "I",
                    "J",
                    "K"
                  ],
                  "xaxis": "x",
                  "y": [
                    31261,
                    4862.3,
                    769.4,
                    941.8,
                    4330.1,
                    3429,
                    975.3,
                    1632.4,
                    1457.6,
                    16573.7,
                    2110
                  ],
                  "yaxis": "y"
                },
                {
                  "alignmentgroup": "True",
                  "hovertemplate": "ISO3=POL<br>Ind Code=%{x}<br>Value (USD)=%{y}<extra></extra>",
                  "legendgroup": "POL",
                  "marker": {
                    "color": "#636efa",
                    "pattern": {
                      "shape": ""
                    }
                  },
                  "name": "POL",
                  "offsetgroup": "POL",
                  "orientation": "v",
                  "showlegend": true,
                  "textposition": "auto",
                  "type": "bar",
                  "x": [
                    "A",
                    "B",
                    "C",
                    "D",
                    "E",
                    "F",
                    "G",
                    "H",
                    "I",
                    "J",
                    "K",
                    "L"
                  ],
                  "xaxis": "x",
                  "y": [
                    30424.1,
                    5935.63,
                    7521.719999999999,
                    10348.85,
                    5276.76,
                    13979.39,
                    15046.09,
                    11326.97,
                    5213.67,
                    47113.28,
                    20494.29,
                    11890.57
                  ],
                  "yaxis": "y"
                },
                {
                  "alignmentgroup": "True",
                  "hovertemplate": "ISO3=PRT<br>Ind Code=%{x}<br>Value (USD)=%{y}<extra></extra>",
                  "legendgroup": "PRT",
                  "marker": {
                    "color": "#EF553B",
                    "pattern": {
                      "shape": ""
                    }
                  },
                  "name": "PRT",
                  "offsetgroup": "PRT",
                  "orientation": "v",
                  "showlegend": true,
                  "textposition": "auto",
                  "type": "bar",
                  "x": [
                    "A",
                    "B",
                    "C",
                    "D",
                    "E",
                    "F",
                    "G",
                    "H",
                    "I",
                    "J",
                    "K",
                    "L"
                  ],
                  "xaxis": "x",
                  "y": [
                    9607.48,
                    9743.95,
                    2349.72,
                    3519.7,
                    1189.49,
                    3782.6000000000004,
                    3031.86,
                    3366,
                    1057.95,
                    10363.78,
                    4535.93,
                    2758.47
                  ],
                  "yaxis": "y"
                },
                {
                  "alignmentgroup": "True",
                  "hovertemplate": "ISO3=ROU<br>Ind Code=%{x}<br>Value (USD)=%{y}<extra></extra>",
                  "legendgroup": "ROU",
                  "marker": {
                    "color": "#00cc96",
                    "pattern": {
                      "shape": ""
                    }
                  },
                  "name": "ROU",
                  "offsetgroup": "ROU",
                  "orientation": "v",
                  "showlegend": true,
                  "textposition": "auto",
                  "type": "bar",
                  "x": [
                    "A",
                    "B",
                    "C",
                    "D",
                    "E",
                    "F",
                    "G",
                    "H",
                    "I",
                    "J",
                    "K",
                    "L"
                  ],
                  "xaxis": "x",
                  "y": [
                    20865.690000000002,
                    6933.99,
                    2508.3199999999997,
                    2076.16,
                    4464.37,
                    3460.0600000000004,
                    3800.3199999999997,
                    3162.57,
                    3477.3199999999997,
                    15903.23,
                    13268.52,
                    3099.8599999999997
                  ],
                  "yaxis": "y"
                },
                {
                  "alignmentgroup": "True",
                  "hovertemplate": "ISO3=RUS<br>Ind Code=%{x}<br>Value (USD)=%{y}<extra></extra>",
                  "legendgroup": "RUS",
                  "marker": {
                    "color": "#ab63fa",
                    "pattern": {
                      "shape": ""
                    }
                  },
                  "name": "RUS",
                  "offsetgroup": "RUS",
                  "orientation": "v",
                  "showlegend": true,
                  "textposition": "auto",
                  "type": "bar",
                  "x": [
                    "A",
                    "B",
                    "C",
                    "D",
                    "E",
                    "F",
                    "G",
                    "H",
                    "I",
                    "J",
                    "K",
                    "L"
                  ],
                  "xaxis": "x",
                  "y": [
                    55953.91,
                    7353.3,
                    8028.74,
                    13521.439999999999,
                    69351.04000000001,
                    43178.490000000005,
                    8039,
                    15087.849999999999,
                    66255.78,
                    54438.2,
                    34837.45,
                    6155.79
                  ],
                  "yaxis": "y"
                },
                {
                  "alignmentgroup": "True",
                  "hovertemplate": "ISO3=SAU<br>Ind Code=%{x}<br>Value (USD)=%{y}<extra></extra>",
                  "legendgroup": "SAU",
                  "marker": {
                    "color": "#FFA15A",
                    "pattern": {
                      "shape": ""
                    }
                  },
                  "name": "SAU",
                  "offsetgroup": "SAU",
                  "orientation": "v",
                  "showlegend": true,
                  "textposition": "auto",
                  "type": "bar",
                  "x": [
                    "A",
                    "B",
                    "C",
                    "D",
                    "E",
                    "F",
                    "G",
                    "H",
                    "I",
                    "J",
                    "K"
                  ],
                  "xaxis": "x",
                  "y": [
                    13690.1,
                    2858.8,
                    992.8,
                    3834.2,
                    26709.4,
                    25402.5,
                    2581.1,
                    5127.6,
                    4290.6,
                    10529.8,
                    1206.3
                  ],
                  "yaxis": "y"
                },
                {
                  "alignmentgroup": "True",
                  "hovertemplate": "ISO3=SGP<br>Ind Code=%{x}<br>Value (USD)=%{y}<extra></extra>",
                  "legendgroup": "SGP",
                  "marker": {
                    "color": "#19d3f3",
                    "pattern": {
                      "shape": ""
                    }
                  },
                  "name": "SGP",
                  "offsetgroup": "SGP",
                  "orientation": "v",
                  "showlegend": true,
                  "textposition": "auto",
                  "type": "bar",
                  "x": [
                    "A",
                    "B",
                    "C",
                    "D",
                    "E",
                    "F",
                    "G",
                    "H",
                    "I",
                    "J",
                    "K"
                  ],
                  "xaxis": "x",
                  "y": [
                    3262.9,
                    408.2,
                    130.6,
                    1117.7,
                    4674.7,
                    22591.2,
                    685.2,
                    355.1,
                    445.3,
                    26074.3,
                    6335.6
                  ],
                  "yaxis": "y"
                },
                {
                  "alignmentgroup": "True",
                  "hovertemplate": "ISO3=SRB<br>Ind Code=%{x}<br>Value (USD)=%{y}<extra></extra>",
                  "legendgroup": "SRB",
                  "marker": {
                    "color": "#FF6692",
                    "pattern": {
                      "shape": ""
                    }
                  },
                  "name": "SRB",
                  "offsetgroup": "SRB",
                  "orientation": "v",
                  "showlegend": true,
                  "textposition": "auto",
                  "type": "bar",
                  "x": [
                    "A",
                    "B",
                    "C",
                    "D",
                    "E",
                    "F",
                    "G",
                    "H",
                    "I",
                    "J",
                    "K",
                    "L"
                  ],
                  "xaxis": "x",
                  "y": [
                    3253.02,
                    1020.8799999999999,
                    337.56,
                    628.5799999999999,
                    1122.6799999999998,
                    1156.05,
                    1129.93,
                    599.49,
                    178.49,
                    2850.42,
                    762.55,
                    557.98
                  ],
                  "yaxis": "y"
                },
                {
                  "alignmentgroup": "True",
                  "hovertemplate": "ISO3=SVK<br>Ind Code=%{x}<br>Value (USD)=%{y}<extra></extra>",
                  "legendgroup": "SVK",
                  "marker": {
                    "color": "#B6E880",
                    "pattern": {
                      "shape": ""
                    }
                  },
                  "name": "SVK",
                  "offsetgroup": "SVK",
                  "orientation": "v",
                  "showlegend": true,
                  "textposition": "auto",
                  "type": "bar",
                  "x": [
                    "A",
                    "B",
                    "C",
                    "D",
                    "E",
                    "F",
                    "G",
                    "H",
                    "I",
                    "J",
                    "K",
                    "L"
                  ],
                  "xaxis": "x",
                  "y": [
                    2356.21,
                    1731.53,
                    1201.93,
                    1204.93,
                    1364.92,
                    1498.1599999999999,
                    3406.07,
                    1496.98,
                    2822.3900000000003,
                    12105.07,
                    8485.36,
                    1146.3
                  ],
                  "yaxis": "y"
                },
                {
                  "alignmentgroup": "True",
                  "hovertemplate": "ISO3=SVN<br>Ind Code=%{x}<br>Value (USD)=%{y}<extra></extra>",
                  "legendgroup": "SVN",
                  "marker": {
                    "color": "#FF97FF",
                    "pattern": {
                      "shape": ""
                    }
                  },
                  "name": "SVN",
                  "offsetgroup": "SVN",
                  "orientation": "v",
                  "showlegend": true,
                  "textposition": "auto",
                  "type": "bar",
                  "x": [
                    "A",
                    "B",
                    "C",
                    "D",
                    "E",
                    "F",
                    "G",
                    "H",
                    "I",
                    "J",
                    "K",
                    "L"
                  ],
                  "xaxis": "x",
                  "y": [
                    1449.05,
                    577.19,
                    685.97,
                    816.49,
                    2.75,
                    3310.38,
                    1518.19,
                    790.71,
                    1117.2199999999998,
                    7366.360000000001,
                    1827.0500000000002,
                    893.13
                  ],
                  "yaxis": "y"
                },
                {
                  "alignmentgroup": "True",
                  "hovertemplate": "ISO3=SWE<br>Ind Code=%{x}<br>Value (USD)=%{y}<extra></extra>",
                  "legendgroup": "SWE",
                  "marker": {
                    "color": "#FECB52",
                    "pattern": {
                      "shape": ""
                    }
                  },
                  "name": "SWE",
                  "offsetgroup": "SWE",
                  "orientation": "v",
                  "showlegend": true,
                  "textposition": "auto",
                  "type": "bar",
                  "x": [
                    "A",
                    "B",
                    "C",
                    "D",
                    "E",
                    "F",
                    "G",
                    "H",
                    "I",
                    "J",
                    "K",
                    "L"
                  ],
                  "xaxis": "x",
                  "y": [
                    11019.619999999999,
                    1103.05,
                    5325.26,
                    12879.61,
                    1626.82,
                    8080.8,
                    4095.62,
                    3681.14,
                    7769.8099999999995,
                    45268.770000000004,
                    31154.07,
                    4206.91
                  ],
                  "yaxis": "y"
                },
                {
                  "alignmentgroup": "True",
                  "hovertemplate": "ISO3=THA<br>Ind Code=%{x}<br>Value (USD)=%{y}<extra></extra>",
                  "legendgroup": "THA",
                  "marker": {
                    "color": "#636efa",
                    "pattern": {
                      "shape": ""
                    }
                  },
                  "name": "THA",
                  "offsetgroup": "THA",
                  "orientation": "v",
                  "showlegend": true,
                  "textposition": "auto",
                  "type": "bar",
                  "x": [
                    "A",
                    "B",
                    "C",
                    "D",
                    "E",
                    "F",
                    "G",
                    "H",
                    "I",
                    "J",
                    "K"
                  ],
                  "xaxis": "x",
                  "y": [
                    23402.9,
                    14716.7,
                    1376.5,
                    2904.4,
                    6622.6,
                    12403.4,
                    6561.5,
                    5439,
                    3414.9,
                    32593.5,
                    13514.5
                  ],
                  "yaxis": "y"
                },
                {
                  "alignmentgroup": "True",
                  "hovertemplate": "ISO3=TUN<br>Ind Code=%{x}<br>Value (USD)=%{y}<extra></extra>",
                  "legendgroup": "TUN",
                  "marker": {
                    "color": "#EF553B",
                    "pattern": {
                      "shape": ""
                    }
                  },
                  "name": "TUN",
                  "offsetgroup": "TUN",
                  "orientation": "v",
                  "showlegend": true,
                  "textposition": "auto",
                  "type": "bar",
                  "x": [
                    "A",
                    "B",
                    "C",
                    "D",
                    "E",
                    "F",
                    "G",
                    "H",
                    "I",
                    "J",
                    "K"
                  ],
                  "xaxis": "x",
                  "y": [
                    1200.3,
                    1498,
                    120.9,
                    175.2,
                    29.4,
                    532,
                    95.8,
                    438.5,
                    66.2,
                    1465.9,
                    428.4
                  ],
                  "yaxis": "y"
                },
                {
                  "alignmentgroup": "True",
                  "hovertemplate": "ISO3=TUR<br>Ind Code=%{x}<br>Value (USD)=%{y}<extra></extra>",
                  "legendgroup": "TUR",
                  "marker": {
                    "color": "#00cc96",
                    "pattern": {
                      "shape": ""
                    }
                  },
                  "name": "TUR",
                  "offsetgroup": "TUR",
                  "orientation": "v",
                  "showlegend": true,
                  "textposition": "auto",
                  "type": "bar",
                  "x": [
                    "A",
                    "B",
                    "C",
                    "D",
                    "E",
                    "F",
                    "G",
                    "H",
                    "I",
                    "J",
                    "K"
                  ],
                  "xaxis": "x",
                  "y": [
                    21794.6,
                    29136.3,
                    1983,
                    5520.4,
                    3959.5,
                    11105,
                    7746.5,
                    10176.5,
                    15744.9,
                    26901.5,
                    14811.8
                  ],
                  "yaxis": "y"
                },
                {
                  "alignmentgroup": "True",
                  "hovertemplate": "ISO3=TWN<br>Ind Code=%{x}<br>Value (USD)=%{y}<extra></extra>",
                  "legendgroup": "TWN",
                  "marker": {
                    "color": "#ab63fa",
                    "pattern": {
                      "shape": ""
                    }
                  },
                  "name": "TWN",
                  "offsetgroup": "TWN",
                  "orientation": "v",
                  "showlegend": true,
                  "textposition": "auto",
                  "type": "bar",
                  "x": [
                    "A",
                    "B",
                    "C",
                    "D",
                    "E",
                    "F",
                    "G",
                    "H",
                    "I",
                    "J",
                    "K"
                  ],
                  "xaxis": "x",
                  "y": [
                    8448.6,
                    5359,
                    446,
                    3524.9,
                    6090.8,
                    16302.5,
                    6164.6,
                    3607.6,
                    10327.9,
                    105364.1,
                    8987
                  ],
                  "yaxis": "y"
                },
                {
                  "alignmentgroup": "True",
                  "hovertemplate": "ISO3=USA<br>Ind Code=%{x}<br>Value (USD)=%{y}<extra></extra>",
                  "legendgroup": "USA",
                  "marker": {
                    "color": "#FFA15A",
                    "pattern": {
                      "shape": ""
                    }
                  },
                  "name": "USA",
                  "offsetgroup": "USA",
                  "orientation": "v",
                  "showlegend": true,
                  "textposition": "auto",
                  "type": "bar",
                  "x": [
                    "A",
                    "B",
                    "C",
                    "D",
                    "E",
                    "F",
                    "G",
                    "H",
                    "I",
                    "J",
                    "K",
                    "L"
                  ],
                  "xaxis": "x",
                  "y": [
                    489671.68,
                    51709.31,
                    72966.36,
                    200966.41999999998,
                    347503.28,
                    730585.53,
                    164587.07,
                    127383.07,
                    149390.59,
                    1390193.12,
                    615203.81,
                    240756.36
                  ],
                  "yaxis": "y"
                },
                {
                  "alignmentgroup": "True",
                  "hovertemplate": "ISO3=VNM<br>Ind Code=%{x}<br>Value (USD)=%{y}<extra></extra>",
                  "legendgroup": "VNM",
                  "marker": {
                    "color": "#19d3f3",
                    "pattern": {
                      "shape": ""
                    }
                  },
                  "name": "VNM",
                  "offsetgroup": "VNM",
                  "orientation": "v",
                  "showlegend": true,
                  "textposition": "auto",
                  "type": "bar",
                  "x": [
                    "A",
                    "B",
                    "C",
                    "D",
                    "E",
                    "F",
                    "G",
                    "H",
                    "I",
                    "J",
                    "K"
                  ],
                  "xaxis": "x",
                  "y": [
                    11541.3,
                    18104,
                    1072.3,
                    2006,
                    1854.3,
                    4420.5,
                    3245.1,
                    5242.7,
                    3187.3,
                    15834.2,
                    4146.7
                  ],
                  "yaxis": "y"
                },
                {
                  "alignmentgroup": "True",
                  "hovertemplate": "ISO3=ZAF<br>Ind Code=%{x}<br>Value (USD)=%{y}<extra></extra>",
                  "legendgroup": "ZAF",
                  "marker": {
                    "color": "#FF6692",
                    "pattern": {
                      "shape": ""
                    }
                  },
                  "name": "ZAF",
                  "offsetgroup": "ZAF",
                  "orientation": "v",
                  "showlegend": true,
                  "textposition": "auto",
                  "type": "bar",
                  "x": [
                    "A",
                    "B",
                    "C",
                    "D",
                    "E",
                    "F",
                    "G",
                    "H",
                    "I",
                    "J",
                    "K"
                  ],
                  "xaxis": "x",
                  "y": [
                    13380.3,
                    1577.4,
                    1955.3,
                    2453.1,
                    3519.4,
                    5117,
                    1740.9,
                    1351.6,
                    3002.9,
                    6779.5,
                    4299.4
                  ],
                  "yaxis": "y"
                }
              ],
              "layout": {
                "barmode": "relative",
                "height": 600,
                "legend": {
                  "title": {
                    "text": "Country"
                  },
                  "tracegroupgap": 0
                },
                "template": {
                  "data": {
                    "bar": [
                      {
                        "error_x": {
                          "color": "#2a3f5f"
                        },
                        "error_y": {
                          "color": "#2a3f5f"
                        },
                        "marker": {
                          "line": {
                            "color": "#E5ECF6",
                            "width": 0.5
                          },
                          "pattern": {
                            "fillmode": "overlay",
                            "size": 10,
                            "solidity": 0.2
                          }
                        },
                        "type": "bar"
                      }
                    ],
                    "barpolar": [
                      {
                        "marker": {
                          "line": {
                            "color": "#E5ECF6",
                            "width": 0.5
                          },
                          "pattern": {
                            "fillmode": "overlay",
                            "size": 10,
                            "solidity": 0.2
                          }
                        },
                        "type": "barpolar"
                      }
                    ],
                    "carpet": [
                      {
                        "aaxis": {
                          "endlinecolor": "#2a3f5f",
                          "gridcolor": "white",
                          "linecolor": "white",
                          "minorgridcolor": "white",
                          "startlinecolor": "#2a3f5f"
                        },
                        "baxis": {
                          "endlinecolor": "#2a3f5f",
                          "gridcolor": "white",
                          "linecolor": "white",
                          "minorgridcolor": "white",
                          "startlinecolor": "#2a3f5f"
                        },
                        "type": "carpet"
                      }
                    ],
                    "choropleth": [
                      {
                        "colorbar": {
                          "outlinewidth": 0,
                          "ticks": ""
                        },
                        "type": "choropleth"
                      }
                    ],
                    "contour": [
                      {
                        "colorbar": {
                          "outlinewidth": 0,
                          "ticks": ""
                        },
                        "colorscale": [
                          [
                            0,
                            "#0d0887"
                          ],
                          [
                            0.1111111111111111,
                            "#46039f"
                          ],
                          [
                            0.2222222222222222,
                            "#7201a8"
                          ],
                          [
                            0.3333333333333333,
                            "#9c179e"
                          ],
                          [
                            0.4444444444444444,
                            "#bd3786"
                          ],
                          [
                            0.5555555555555556,
                            "#d8576b"
                          ],
                          [
                            0.6666666666666666,
                            "#ed7953"
                          ],
                          [
                            0.7777777777777778,
                            "#fb9f3a"
                          ],
                          [
                            0.8888888888888888,
                            "#fdca26"
                          ],
                          [
                            1,
                            "#f0f921"
                          ]
                        ],
                        "type": "contour"
                      }
                    ],
                    "contourcarpet": [
                      {
                        "colorbar": {
                          "outlinewidth": 0,
                          "ticks": ""
                        },
                        "type": "contourcarpet"
                      }
                    ],
                    "heatmap": [
                      {
                        "colorbar": {
                          "outlinewidth": 0,
                          "ticks": ""
                        },
                        "colorscale": [
                          [
                            0,
                            "#0d0887"
                          ],
                          [
                            0.1111111111111111,
                            "#46039f"
                          ],
                          [
                            0.2222222222222222,
                            "#7201a8"
                          ],
                          [
                            0.3333333333333333,
                            "#9c179e"
                          ],
                          [
                            0.4444444444444444,
                            "#bd3786"
                          ],
                          [
                            0.5555555555555556,
                            "#d8576b"
                          ],
                          [
                            0.6666666666666666,
                            "#ed7953"
                          ],
                          [
                            0.7777777777777778,
                            "#fb9f3a"
                          ],
                          [
                            0.8888888888888888,
                            "#fdca26"
                          ],
                          [
                            1,
                            "#f0f921"
                          ]
                        ],
                        "type": "heatmap"
                      }
                    ],
                    "heatmapgl": [
                      {
                        "colorbar": {
                          "outlinewidth": 0,
                          "ticks": ""
                        },
                        "colorscale": [
                          [
                            0,
                            "#0d0887"
                          ],
                          [
                            0.1111111111111111,
                            "#46039f"
                          ],
                          [
                            0.2222222222222222,
                            "#7201a8"
                          ],
                          [
                            0.3333333333333333,
                            "#9c179e"
                          ],
                          [
                            0.4444444444444444,
                            "#bd3786"
                          ],
                          [
                            0.5555555555555556,
                            "#d8576b"
                          ],
                          [
                            0.6666666666666666,
                            "#ed7953"
                          ],
                          [
                            0.7777777777777778,
                            "#fb9f3a"
                          ],
                          [
                            0.8888888888888888,
                            "#fdca26"
                          ],
                          [
                            1,
                            "#f0f921"
                          ]
                        ],
                        "type": "heatmapgl"
                      }
                    ],
                    "histogram": [
                      {
                        "marker": {
                          "pattern": {
                            "fillmode": "overlay",
                            "size": 10,
                            "solidity": 0.2
                          }
                        },
                        "type": "histogram"
                      }
                    ],
                    "histogram2d": [
                      {
                        "colorbar": {
                          "outlinewidth": 0,
                          "ticks": ""
                        },
                        "colorscale": [
                          [
                            0,
                            "#0d0887"
                          ],
                          [
                            0.1111111111111111,
                            "#46039f"
                          ],
                          [
                            0.2222222222222222,
                            "#7201a8"
                          ],
                          [
                            0.3333333333333333,
                            "#9c179e"
                          ],
                          [
                            0.4444444444444444,
                            "#bd3786"
                          ],
                          [
                            0.5555555555555556,
                            "#d8576b"
                          ],
                          [
                            0.6666666666666666,
                            "#ed7953"
                          ],
                          [
                            0.7777777777777778,
                            "#fb9f3a"
                          ],
                          [
                            0.8888888888888888,
                            "#fdca26"
                          ],
                          [
                            1,
                            "#f0f921"
                          ]
                        ],
                        "type": "histogram2d"
                      }
                    ],
                    "histogram2dcontour": [
                      {
                        "colorbar": {
                          "outlinewidth": 0,
                          "ticks": ""
                        },
                        "colorscale": [
                          [
                            0,
                            "#0d0887"
                          ],
                          [
                            0.1111111111111111,
                            "#46039f"
                          ],
                          [
                            0.2222222222222222,
                            "#7201a8"
                          ],
                          [
                            0.3333333333333333,
                            "#9c179e"
                          ],
                          [
                            0.4444444444444444,
                            "#bd3786"
                          ],
                          [
                            0.5555555555555556,
                            "#d8576b"
                          ],
                          [
                            0.6666666666666666,
                            "#ed7953"
                          ],
                          [
                            0.7777777777777778,
                            "#fb9f3a"
                          ],
                          [
                            0.8888888888888888,
                            "#fdca26"
                          ],
                          [
                            1,
                            "#f0f921"
                          ]
                        ],
                        "type": "histogram2dcontour"
                      }
                    ],
                    "mesh3d": [
                      {
                        "colorbar": {
                          "outlinewidth": 0,
                          "ticks": ""
                        },
                        "type": "mesh3d"
                      }
                    ],
                    "parcoords": [
                      {
                        "line": {
                          "colorbar": {
                            "outlinewidth": 0,
                            "ticks": ""
                          }
                        },
                        "type": "parcoords"
                      }
                    ],
                    "pie": [
                      {
                        "automargin": true,
                        "type": "pie"
                      }
                    ],
                    "scatter": [
                      {
                        "fillpattern": {
                          "fillmode": "overlay",
                          "size": 10,
                          "solidity": 0.2
                        },
                        "type": "scatter"
                      }
                    ],
                    "scatter3d": [
                      {
                        "line": {
                          "colorbar": {
                            "outlinewidth": 0,
                            "ticks": ""
                          }
                        },
                        "marker": {
                          "colorbar": {
                            "outlinewidth": 0,
                            "ticks": ""
                          }
                        },
                        "type": "scatter3d"
                      }
                    ],
                    "scattercarpet": [
                      {
                        "marker": {
                          "colorbar": {
                            "outlinewidth": 0,
                            "ticks": ""
                          }
                        },
                        "type": "scattercarpet"
                      }
                    ],
                    "scattergeo": [
                      {
                        "marker": {
                          "colorbar": {
                            "outlinewidth": 0,
                            "ticks": ""
                          }
                        },
                        "type": "scattergeo"
                      }
                    ],
                    "scattergl": [
                      {
                        "marker": {
                          "colorbar": {
                            "outlinewidth": 0,
                            "ticks": ""
                          }
                        },
                        "type": "scattergl"
                      }
                    ],
                    "scattermapbox": [
                      {
                        "marker": {
                          "colorbar": {
                            "outlinewidth": 0,
                            "ticks": ""
                          }
                        },
                        "type": "scattermapbox"
                      }
                    ],
                    "scatterpolar": [
                      {
                        "marker": {
                          "colorbar": {
                            "outlinewidth": 0,
                            "ticks": ""
                          }
                        },
                        "type": "scatterpolar"
                      }
                    ],
                    "scatterpolargl": [
                      {
                        "marker": {
                          "colorbar": {
                            "outlinewidth": 0,
                            "ticks": ""
                          }
                        },
                        "type": "scatterpolargl"
                      }
                    ],
                    "scatterternary": [
                      {
                        "marker": {
                          "colorbar": {
                            "outlinewidth": 0,
                            "ticks": ""
                          }
                        },
                        "type": "scatterternary"
                      }
                    ],
                    "surface": [
                      {
                        "colorbar": {
                          "outlinewidth": 0,
                          "ticks": ""
                        },
                        "colorscale": [
                          [
                            0,
                            "#0d0887"
                          ],
                          [
                            0.1111111111111111,
                            "#46039f"
                          ],
                          [
                            0.2222222222222222,
                            "#7201a8"
                          ],
                          [
                            0.3333333333333333,
                            "#9c179e"
                          ],
                          [
                            0.4444444444444444,
                            "#bd3786"
                          ],
                          [
                            0.5555555555555556,
                            "#d8576b"
                          ],
                          [
                            0.6666666666666666,
                            "#ed7953"
                          ],
                          [
                            0.7777777777777778,
                            "#fb9f3a"
                          ],
                          [
                            0.8888888888888888,
                            "#fdca26"
                          ],
                          [
                            1,
                            "#f0f921"
                          ]
                        ],
                        "type": "surface"
                      }
                    ],
                    "table": [
                      {
                        "cells": {
                          "fill": {
                            "color": "#EBF0F8"
                          },
                          "line": {
                            "color": "white"
                          }
                        },
                        "header": {
                          "fill": {
                            "color": "#C8D4E3"
                          },
                          "line": {
                            "color": "white"
                          }
                        },
                        "type": "table"
                      }
                    ]
                  },
                  "layout": {
                    "annotationdefaults": {
                      "arrowcolor": "#2a3f5f",
                      "arrowhead": 0,
                      "arrowwidth": 1
                    },
                    "autotypenumbers": "strict",
                    "coloraxis": {
                      "colorbar": {
                        "outlinewidth": 0,
                        "ticks": ""
                      }
                    },
                    "colorscale": {
                      "diverging": [
                        [
                          0,
                          "#8e0152"
                        ],
                        [
                          0.1,
                          "#c51b7d"
                        ],
                        [
                          0.2,
                          "#de77ae"
                        ],
                        [
                          0.3,
                          "#f1b6da"
                        ],
                        [
                          0.4,
                          "#fde0ef"
                        ],
                        [
                          0.5,
                          "#f7f7f7"
                        ],
                        [
                          0.6,
                          "#e6f5d0"
                        ],
                        [
                          0.7,
                          "#b8e186"
                        ],
                        [
                          0.8,
                          "#7fbc41"
                        ],
                        [
                          0.9,
                          "#4d9221"
                        ],
                        [
                          1,
                          "#276419"
                        ]
                      ],
                      "sequential": [
                        [
                          0,
                          "#0d0887"
                        ],
                        [
                          0.1111111111111111,
                          "#46039f"
                        ],
                        [
                          0.2222222222222222,
                          "#7201a8"
                        ],
                        [
                          0.3333333333333333,
                          "#9c179e"
                        ],
                        [
                          0.4444444444444444,
                          "#bd3786"
                        ],
                        [
                          0.5555555555555556,
                          "#d8576b"
                        ],
                        [
                          0.6666666666666666,
                          "#ed7953"
                        ],
                        [
                          0.7777777777777778,
                          "#fb9f3a"
                        ],
                        [
                          0.8888888888888888,
                          "#fdca26"
                        ],
                        [
                          1,
                          "#f0f921"
                        ]
                      ],
                      "sequentialminus": [
                        [
                          0,
                          "#0d0887"
                        ],
                        [
                          0.1111111111111111,
                          "#46039f"
                        ],
                        [
                          0.2222222222222222,
                          "#7201a8"
                        ],
                        [
                          0.3333333333333333,
                          "#9c179e"
                        ],
                        [
                          0.4444444444444444,
                          "#bd3786"
                        ],
                        [
                          0.5555555555555556,
                          "#d8576b"
                        ],
                        [
                          0.6666666666666666,
                          "#ed7953"
                        ],
                        [
                          0.7777777777777778,
                          "#fb9f3a"
                        ],
                        [
                          0.8888888888888888,
                          "#fdca26"
                        ],
                        [
                          1,
                          "#f0f921"
                        ]
                      ]
                    },
                    "colorway": [
                      "#636efa",
                      "#EF553B",
                      "#00cc96",
                      "#ab63fa",
                      "#FFA15A",
                      "#19d3f3",
                      "#FF6692",
                      "#B6E880",
                      "#FF97FF",
                      "#FECB52"
                    ],
                    "font": {
                      "color": "#2a3f5f"
                    },
                    "geo": {
                      "bgcolor": "white",
                      "lakecolor": "white",
                      "landcolor": "#E5ECF6",
                      "showlakes": true,
                      "showland": true,
                      "subunitcolor": "white"
                    },
                    "hoverlabel": {
                      "align": "left"
                    },
                    "hovermode": "closest",
                    "mapbox": {
                      "style": "light"
                    },
                    "paper_bgcolor": "white",
                    "plot_bgcolor": "#E5ECF6",
                    "polar": {
                      "angularaxis": {
                        "gridcolor": "white",
                        "linecolor": "white",
                        "ticks": ""
                      },
                      "bgcolor": "#E5ECF6",
                      "radialaxis": {
                        "gridcolor": "white",
                        "linecolor": "white",
                        "ticks": ""
                      }
                    },
                    "scene": {
                      "xaxis": {
                        "backgroundcolor": "#E5ECF6",
                        "gridcolor": "white",
                        "gridwidth": 2,
                        "linecolor": "white",
                        "showbackground": true,
                        "ticks": "",
                        "zerolinecolor": "white"
                      },
                      "yaxis": {
                        "backgroundcolor": "#E5ECF6",
                        "gridcolor": "white",
                        "gridwidth": 2,
                        "linecolor": "white",
                        "showbackground": true,
                        "ticks": "",
                        "zerolinecolor": "white"
                      },
                      "zaxis": {
                        "backgroundcolor": "#E5ECF6",
                        "gridcolor": "white",
                        "gridwidth": 2,
                        "linecolor": "white",
                        "showbackground": true,
                        "ticks": "",
                        "zerolinecolor": "white"
                      }
                    },
                    "shapedefaults": {
                      "line": {
                        "color": "#2a3f5f"
                      }
                    },
                    "ternary": {
                      "aaxis": {
                        "gridcolor": "white",
                        "linecolor": "white",
                        "ticks": ""
                      },
                      "baxis": {
                        "gridcolor": "white",
                        "linecolor": "white",
                        "ticks": ""
                      },
                      "bgcolor": "#E5ECF6",
                      "caxis": {
                        "gridcolor": "white",
                        "linecolor": "white",
                        "ticks": ""
                      }
                    },
                    "title": {
                      "x": 0.05
                    },
                    "xaxis": {
                      "automargin": true,
                      "gridcolor": "white",
                      "linecolor": "white",
                      "ticks": "",
                      "title": {
                        "standoff": 15
                      },
                      "zerolinecolor": "white",
                      "zerolinewidth": 2
                    },
                    "yaxis": {
                      "automargin": true,
                      "gridcolor": "white",
                      "linecolor": "white",
                      "ticks": "",
                      "title": {
                        "standoff": 15
                      },
                      "zerolinecolor": "white",
                      "zerolinewidth": 2
                    }
                  }
                },
                "title": {
                  "text": "Value (USD) for Each Industry in 2018 by Country"
                },
                "width": 1000,
                "xaxis": {
                  "anchor": "y",
                  "domain": [
                    0,
                    1
                  ],
                  "tickangle": -45,
                  "title": {
                    "text": "Industry Code"
                  }
                },
                "yaxis": {
                  "anchor": "x",
                  "domain": [
                    0,
                    1
                  ],
                  "title": {
                    "text": "Value (USD)"
                  }
                }
              }
            }
          },
          "metadata": {},
          "output_type": "display_data"
        }
      ],
      "source": [
        "# Filter the data for the year 2018\n",
        "cleaned_data_2018 = cleaned_data3[cleaned_data3['Year'] == 2018]\n",
        "\n",
        "# Aggregate data by industry and country\n",
        "aggregated_data = cleaned_data_2018.groupby(['Ind Code', 'ISO3'])['Value (USD)'].sum().reset_index()\n",
        "\n",
        "# Create the bar chart\n",
        "fig = px.bar(aggregated_data, x='Ind Code', y='Value (USD)', color='ISO3', title='Value (USD) for Each Industry in 2018 by Country')\n",
        "\n",
        "# Adjust layout\n",
        "fig.update_layout(\n",
        "    xaxis_title='Industry Code',\n",
        "    yaxis_title='Value (USD)',\n",
        "    legend_title='Country',\n",
        "    xaxis_tickangle=-45,\n",
        "    height=600,\n",
        "    width=1000\n",
        ")\n",
        "\n",
        "# Show the plot\n",
        "fig.show()"
      ]
    },
    {
      "cell_type": "markdown",
      "metadata": {
        "id": "ZY3l0-AxO93d"
      },
      "source": [
        "---"
      ]
    },
    {
      "cell_type": "markdown",
      "metadata": {
        "id": "uFQo3ycuO-v6"
      },
      "source": [
        "# Section 2"
      ]
    },
    {
      "cell_type": "markdown",
      "metadata": {},
      "source": [
        "Section 2 content"
      ]
    },
    {
      "cell_type": "code",
      "execution_count": null,
      "metadata": {},
      "outputs": [],
      "source": []
    },
    {
      "cell_type": "markdown",
      "metadata": {},
      "source": [
        "---"
      ]
    },
    {
      "cell_type": "markdown",
      "metadata": {},
      "source": [
        "NOTE"
      ]
    },
    {
      "cell_type": "markdown",
      "metadata": {},
      "source": [
        "* You may add as many sections as you want, as long as it supports your project workflow.\n",
        "* All notebook's cells should be run top-down (you can't create a dynamic wherein a given point you need to go back to a previous cell to execute some task, like go back to a previous cell and refresh a variable content)"
      ]
    },
    {
      "cell_type": "markdown",
      "metadata": {},
      "source": [
        "---"
      ]
    },
    {
      "cell_type": "markdown",
      "metadata": {
        "id": "ltNetd085qHf"
      },
      "source": [
        "# Push files to Repo"
      ]
    },
    {
      "cell_type": "markdown",
      "metadata": {},
      "source": [
        "* In cases where you don't need to push files to Repo, you may replace this section with \"Conclusions and Next Steps\" and state your conclusions and next steps."
      ]
    },
    {
      "cell_type": "code",
      "execution_count": null,
      "metadata": {
        "id": "aKlnIozA4eQO",
        "outputId": "fd09bc1f-adb1-4511-f6ce-492a6af570c0"
      },
      "outputs": [],
      "source": [
        "import os\n",
        "try:\n",
        "  # create your folder here\n",
        "  # os.makedirs(name='')\n",
        "except Exception as e:\n",
        "  print(e)\n"
      ]
    }
  ],
  "metadata": {
    "accelerator": "GPU",
    "colab": {
      "name": "Data Practitioner Jupyter Notebook.ipynb",
      "provenance": [],
      "toc_visible": true
    },
    "kernelspec": {
      "display_name": ".venv",
      "language": "python",
      "name": "python3"
    },
    "language_info": {
      "codemirror_mode": {
        "name": "ipython",
        "version": 3
      },
      "file_extension": ".py",
      "mimetype": "text/x-python",
      "name": "python",
      "nbconvert_exporter": "python",
      "pygments_lexer": "ipython3",
      "version": "3.12.8"
    },
    "orig_nbformat": 2
  },
  "nbformat": 4,
  "nbformat_minor": 2
}
