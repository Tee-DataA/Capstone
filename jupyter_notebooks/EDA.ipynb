{
  "cells": [
    {
      "cell_type": "markdown",
      "metadata": {
        "id": "0aStgWSO0E0E"
      },
      "source": [
        "# **Initial EDA**"
      ]
    },
    {
      "cell_type": "markdown",
      "metadata": {
        "id": "1eLEkw5O0ECa"
      },
      "source": [
        "## Objectives\n",
        "\n",
        "* Performing basic EDA using the cleaned and featured datasets\n",
        "\n",
        "## Inputs\n",
        "\n",
        "* cleaned_data2.csv and industry_total.csv\n",
        "\n",
        "## Outputs\n",
        "\n",
        "* Write here which files, code or artefacts you generate by the end of the notebook \n",
        "\n",
        "## Additional Comments\n",
        "\n",
        "* If you have any additional comments that don't fit in the previous bullets, please state them here. \n",
        "\n"
      ]
    },
    {
      "cell_type": "markdown",
      "metadata": {
        "id": "9uWZXH9LwoQg"
      },
      "source": [
        "---"
      ]
    },
    {
      "cell_type": "markdown",
      "metadata": {
        "id": "cqP-UeN-z3i2"
      },
      "source": [
        "# Change working directory"
      ]
    },
    {
      "cell_type": "markdown",
      "metadata": {},
      "source": [
        "* We are assuming you will store the notebooks in a subfolder, therefore when running the notebook in the editor, you will need to change the working directory"
      ]
    },
    {
      "cell_type": "markdown",
      "metadata": {
        "id": "aOGIGS-uz3i2"
      },
      "source": [
        "We need to change the working directory from its current folder to its parent folder\n",
        "* We access the current directory with os.getcwd()"
      ]
    },
    {
      "cell_type": "code",
      "execution_count": 2,
      "metadata": {
        "id": "wZfF_j-Bz3i4",
        "outputId": "66943449-1436-4c3d-85c7-b85f9f78349b"
      },
      "outputs": [
        {
          "data": {
            "text/plain": [
              "'c:\\\\Users\\\\sayed\\\\OneDrive\\\\Documents\\\\Code institute\\\\Capstone\\\\Capstone\\\\jupyter_notebooks'"
            ]
          },
          "execution_count": 2,
          "metadata": {},
          "output_type": "execute_result"
        }
      ],
      "source": [
        "import os\n",
        "current_dir = os.getcwd()\n",
        "current_dir"
      ]
    },
    {
      "cell_type": "markdown",
      "metadata": {
        "id": "9MWW8E7lz3i7"
      },
      "source": [
        "We want to make the parent of the current directory the new current directory\n",
        "* os.path.dirname() gets the parent directory\n",
        "* os.chir() defines the new current directory"
      ]
    },
    {
      "cell_type": "code",
      "execution_count": 3,
      "metadata": {
        "id": "TwHsQRWjz3i9",
        "outputId": "86849db3-cd2f-4cc5-ebb8-2d0caafa1a2c"
      },
      "outputs": [
        {
          "name": "stdout",
          "output_type": "stream",
          "text": [
            "You set a new current directory\n"
          ]
        }
      ],
      "source": [
        "os.chdir(os.path.dirname(current_dir))\n",
        "print(\"You set a new current directory\")"
      ]
    },
    {
      "cell_type": "markdown",
      "metadata": {
        "id": "M_xPk_Ijz3i-"
      },
      "source": [
        "Confirm the new current directory"
      ]
    },
    {
      "cell_type": "code",
      "execution_count": 4,
      "metadata": {
        "id": "vz3S-_kjz3jA",
        "outputId": "00b79ae4-75d0-4a96-d193-ac9ef9847ea2"
      },
      "outputs": [
        {
          "data": {
            "text/plain": [
              "'c:\\\\Users\\\\sayed\\\\OneDrive\\\\Documents\\\\Code institute\\\\Capstone\\\\Capstone'"
            ]
          },
          "execution_count": 4,
          "metadata": {},
          "output_type": "execute_result"
        }
      ],
      "source": [
        "current_dir = os.getcwd()\n",
        "current_dir"
      ]
    },
    {
      "cell_type": "code",
      "execution_count": 5,
      "metadata": {},
      "outputs": [],
      "source": [
        "# Import libraries\n",
        "import pandas as pd\n",
        "import numpy as np\n",
        "import matplotlib.pyplot as plt\n",
        "import seaborn as sns\n",
        "import plotly.express as px"
      ]
    },
    {
      "cell_type": "code",
      "execution_count": 6,
      "metadata": {},
      "outputs": [
        {
          "name": "stdout",
          "output_type": "stream",
          "text": [
            "   Year  Country ISO3 Continent Ind Code  \\\n",
            "0  2000  Austria  AUT    Europe        A   \n",
            "1  2000  Austria  AUT    Europe        B   \n",
            "\n",
            "                                            Industry         Measure  \\\n",
            "0  Manufacture of food products, beverages and to...  Current prices   \n",
            "1  Manufacture of textiles, wearing apparel, leat...  Current prices   \n",
            "\n",
            "   Value (LCU)  Value (USD)  Exchange Rate  Volatility  \n",
            "0      3931.90      3631.55       0.923612    0.117874  \n",
            "1      1605.22      1482.60       0.923612    0.117874  \n",
            "----------------------------------------------------------------------------------\n",
            "  Ind Code                                           Industry           LCU  \\\n",
            "0        A  Manufacture of food products, beverages and to...  1.074544e+10   \n",
            "1        B  Manufacture of textiles, wearing apparel, leat...  6.464514e+09   \n",
            "\n",
            "           USD  \n",
            "0  25105563.56  \n",
            "1   9089728.81  \n",
            "----------------------------------------------------------------------------------\n",
            "  Ind Code                                           Industry\n",
            "0        A  Manufacture of food products, beverages and to...\n",
            "1        B  Manufacture of textiles, wearing apparel, leat...\n"
          ]
        }
      ],
      "source": [
        "# Load the datasets\n",
        "df_eng_final = pd.read_csv(os.path.join(current_dir, 'df_eng_final.csv'))\n",
        "industry_total = pd.read_csv(os.path.join(current_dir, 'industry_total.csv'))\n",
        "industry_ref = pd.read_csv(os.path.join(current_dir, 'industry_reference.csv'))\n",
        "\n",
        "# Display the first few rows of each dataframe to confirm they are loaded correctly\n",
        "print(df_eng_final.head(2))\n",
        "print('----------------------------------------------------------------------------------')\n",
        "print(industry_total.head(2))\n",
        "print('----------------------------------------------------------------------------------')\n",
        "print(industry_ref.head(2))"
      ]
    },
    {
      "cell_type": "markdown",
      "metadata": {},
      "source": [
        "---"
      ]
    },
    {
      "cell_type": "markdown",
      "metadata": {
        "id": "-mavJ8DibrcQ"
      },
      "source": [
        "# EDA"
      ]
    },
    {
      "cell_type": "markdown",
      "metadata": {},
      "source": [
        "Lets start by seeing the distribution of industries globally. We'll take the data from 2018 as this is the latest year which has most of the main countries available."
      ]
    },
    {
      "cell_type": "code",
      "execution_count": 7,
      "metadata": {},
      "outputs": [
        {
          "data": {
            "application/vnd.plotly.v1+json": {
              "config": {
                "plotlyServerURL": "https://plot.ly"
              },
              "data": [
                {
                  "branchvalues": "total",
                  "customdata": [
                    [
                      14402.281777375018
                    ],
                    [
                      11641.341444739312
                    ],
                    [
                      29137.91656764938
                    ],
                    [
                      1050.615627095909
                    ],
                    [
                      1162.1903334727426
                    ],
                    [
                      2712.3933887283238
                    ],
                    [
                      19962.80788996757
                    ],
                    [
                      9091.432279930677
                    ],
                    [
                      67320.07374171789
                    ],
                    [
                      5596.0197642541625
                    ],
                    [
                      1744.16038636616
                    ],
                    [
                      1124.7541600265697
                    ],
                    [
                      235.83836660003587
                    ],
                    [
                      10812.90935305847
                    ],
                    [
                      11044.718278739108
                    ],
                    [
                      580.5740862881638
                    ],
                    [
                      7900.89505358017
                    ],
                    [
                      39241.72205152627
                    ],
                    [
                      169375.1148165457
                    ],
                    [
                      2977.772919570297
                    ],
                    [
                      1700.7772886922414
                    ],
                    [
                      4577.154865125703
                    ],
                    [
                      551.8847360144456
                    ],
                    [
                      54260.69797364689
                    ],
                    [
                      30470.15413941779
                    ],
                    [
                      33666.65350937571
                    ],
                    [
                      52392.04639721206
                    ],
                    [
                      157499.84682946678
                    ],
                    [
                      4518.962687186658
                    ],
                    [
                      138745.8687053775
                    ],
                    [
                      307.0886781303552
                    ],
                    [
                      1005.9388113377775
                    ],
                    [
                      12453.799530876731
                    ],
                    [
                      156.1345763817936
                    ],
                    [
                      36814.68150154217
                    ],
                    [
                      4146.845616446484
                    ],
                    [
                      2015.733439808177
                    ],
                    [
                      4505.116734902726
                    ],
                    [
                      254.3352776008525
                    ],
                    [
                      4043.557796032214
                    ],
                    [
                      544029.9939392023
                    ],
                    [
                      4303.734613092267
                    ],
                    [
                      19281.663591961675
                    ],
                    [
                      12245.901526524272
                    ],
                    [
                      3427.9401762835137
                    ],
                    [
                      6047.6004357277925
                    ],
                    [
                      25311.031542582088
                    ],
                    [
                      17831.67830929243
                    ],
                    [
                      939.2134838571134
                    ],
                    [
                      19144.705055326205
                    ],
                    [
                      1900.5546178115985
                    ],
                    [
                      6823.2545532220065
                    ],
                    [
                      19105.73503223236
                    ],
                    [
                      13143.874148563691
                    ],
                    [
                      18719.705660517007
                    ],
                    [
                      18309.074322091874
                    ],
                    [
                      1082.8935973291902
                    ],
                    [
                      368859.42714288674
                    ],
                    [
                      11396.346198396703
                    ],
                    [
                      5579.575427203897
                    ],
                    [
                      340937.03874555626
                    ],
                    [
                      71151.3386043253
                    ],
                    [
                      17831.67830929243
                    ],
                    [
                      345188.96083178674
                    ],
                    [
                      4505.116734902726
                    ],
                    [
                      27834.326044187987
                    ]
                  ],
                  "domain": {
                    "x": [
                      0,
                      1
                    ],
                    "y": [
                      0,
                      1
                    ]
                  },
                  "hovertemplate": "<b>%{hovertext}</b><br><br>labels=%{label}<br>Value (USD)_sum=%{value}<br>parent=%{parent}<br>id=%{id}<br>Value (USD)=%{color}<extra></extra>",
                  "hovertext": [
                    "AUT",
                    "BEL",
                    "BRA",
                    "BRN",
                    "BGR",
                    "KHM",
                    "CAN",
                    "CHL",
                    "TWN",
                    "COL",
                    "CRI",
                    "HRV",
                    "CYP",
                    "CZE",
                    "DNK",
                    "EST",
                    "FIN",
                    "FRA",
                    "DEU",
                    "GRC",
                    "HKG",
                    "HUN",
                    "ISL",
                    "IND",
                    "IDN",
                    "IRL",
                    "ITA",
                    "JPN",
                    "KAZ",
                    "KOR",
                    "LAO",
                    "LTU",
                    "MYS",
                    "MLT",
                    "MEX",
                    "MAR",
                    "MMR",
                    "NZL",
                    "MKD",
                    "NOR",
                    "CHN",
                    "PER",
                    "PHL",
                    "POL",
                    "PRT",
                    "ROU",
                    "RUS",
                    "SAU",
                    "SRB",
                    "SGP",
                    "SVN",
                    "ZAF",
                    "ESP",
                    "SWE",
                    "THA",
                    "NLD",
                    "TUN",
                    "USA",
                    "VNM",
                    "(?)",
                    "(?)",
                    "(?)",
                    "SAU",
                    "(?)",
                    "NZL",
                    "(?)"
                  ],
                  "ids": [
                    "Europe/Austria",
                    "Europe/Belgium",
                    "South America/Brazil",
                    "Asia/Brunei Darussalam",
                    "South America/Bulgaria",
                    "South America/Cambodia",
                    "North America/Canada",
                    "South America/Chile",
                    "Asia/Chinese Taipei",
                    "South America/Colombia",
                    "South America/Costa Rica",
                    "Europe/Croatia",
                    "Europe/Cyprus",
                    "Europe/Czech Republic",
                    "Europe/Denmark",
                    "Europe/Estonia",
                    "Europe/Finland",
                    "Europe/France",
                    "Europe/Germany",
                    "Europe/Greece",
                    "Asia/Hong Kong",
                    "Europe/Hungary",
                    "Europe/Iceland",
                    "Asia/India",
                    "Asia/Indonesia",
                    "Europe/Ireland",
                    "Europe/Italy",
                    "Asia/Japan",
                    "Asia/Kazakhstan",
                    "Asia/Korea",
                    "Asia/Laos",
                    "Europe/Lithuania",
                    "Asia/Malaysia",
                    "Europe/Malta",
                    "South America/Mexico",
                    "Africa/Morocco",
                    "Asia/Myanmar",
                    "Oceania/New Zealand",
                    "Europe/North Macedonia",
                    "Europe/Norway",
                    "Asia/People's Republic of China",
                    "South America/Peru",
                    "Asia/Philippines",
                    "Europe/Poland",
                    "Europe/Portugal",
                    "Europe/Romania",
                    "Europe/Russian Federation",
                    "Middle East/Saudi Arabia",
                    "Europe/Serbia",
                    "Asia/Singapore",
                    "Europe/Slovenia",
                    "Africa/South Africa",
                    "Europe/Spain",
                    "Europe/Sweden",
                    "Asia/Thailand",
                    "Europe/The Netherlands",
                    "Africa/Tunisia",
                    "North America/United States",
                    "Asia/Viet Nam",
                    "Africa",
                    "Asia",
                    "Europe",
                    "Middle East",
                    "North America",
                    "Oceania",
                    "South America"
                  ],
                  "labels": [
                    "Austria",
                    "Belgium",
                    "Brazil",
                    "Brunei Darussalam",
                    "Bulgaria",
                    "Cambodia",
                    "Canada",
                    "Chile",
                    "Chinese Taipei",
                    "Colombia",
                    "Costa Rica",
                    "Croatia",
                    "Cyprus",
                    "Czech Republic",
                    "Denmark",
                    "Estonia",
                    "Finland",
                    "France",
                    "Germany",
                    "Greece",
                    "Hong Kong",
                    "Hungary",
                    "Iceland",
                    "India",
                    "Indonesia",
                    "Ireland",
                    "Italy",
                    "Japan",
                    "Kazakhstan",
                    "Korea",
                    "Laos",
                    "Lithuania",
                    "Malaysia",
                    "Malta",
                    "Mexico",
                    "Morocco",
                    "Myanmar",
                    "New Zealand",
                    "North Macedonia",
                    "Norway",
                    "People's Republic of China",
                    "Peru",
                    "Philippines",
                    "Poland",
                    "Portugal",
                    "Romania",
                    "Russian Federation",
                    "Saudi Arabia",
                    "Serbia",
                    "Singapore",
                    "Slovenia",
                    "South Africa",
                    "Spain",
                    "Sweden",
                    "Thailand",
                    "The Netherlands",
                    "Tunisia",
                    "United States",
                    "Viet Nam",
                    "Africa",
                    "Asia",
                    "Europe",
                    "Middle East",
                    "North America",
                    "Oceania",
                    "South America"
                  ],
                  "marker": {
                    "coloraxis": "coloraxis",
                    "colors": [
                      14402.281777375018,
                      11641.341444739312,
                      29137.91656764938,
                      1050.615627095909,
                      1162.1903334727426,
                      2712.3933887283238,
                      19962.80788996757,
                      9091.432279930677,
                      67320.07374171789,
                      5596.0197642541625,
                      1744.16038636616,
                      1124.7541600265697,
                      235.83836660003587,
                      10812.90935305847,
                      11044.718278739108,
                      580.5740862881638,
                      7900.89505358017,
                      39241.72205152627,
                      169375.1148165457,
                      2977.772919570297,
                      1700.7772886922414,
                      4577.154865125703,
                      551.8847360144456,
                      54260.69797364689,
                      30470.15413941779,
                      33666.65350937571,
                      52392.04639721206,
                      157499.84682946678,
                      4518.962687186658,
                      138745.8687053775,
                      307.0886781303552,
                      1005.9388113377775,
                      12453.799530876731,
                      156.1345763817936,
                      36814.68150154217,
                      4146.845616446484,
                      2015.733439808177,
                      4505.116734902726,
                      254.3352776008525,
                      4043.557796032214,
                      544029.9939392023,
                      4303.734613092267,
                      19281.663591961675,
                      12245.901526524272,
                      3427.9401762835137,
                      6047.6004357277925,
                      25311.031542582088,
                      17831.67830929243,
                      939.2134838571134,
                      19144.705055326205,
                      1900.5546178115985,
                      6823.2545532220065,
                      19105.73503223236,
                      13143.874148563691,
                      18719.705660517007,
                      18309.074322091874,
                      1082.8935973291902,
                      368859.42714288674,
                      11396.346198396703,
                      5579.575427203897,
                      340937.03874555626,
                      71151.3386043253,
                      17831.67830929243,
                      345188.96083178674,
                      4505.116734902726,
                      27834.326044187987
                    ]
                  },
                  "name": "",
                  "parents": [
                    "Europe",
                    "Europe",
                    "South America",
                    "Asia",
                    "South America",
                    "South America",
                    "North America",
                    "South America",
                    "Asia",
                    "South America",
                    "South America",
                    "Europe",
                    "Europe",
                    "Europe",
                    "Europe",
                    "Europe",
                    "Europe",
                    "Europe",
                    "Europe",
                    "Europe",
                    "Asia",
                    "Europe",
                    "Europe",
                    "Asia",
                    "Asia",
                    "Europe",
                    "Europe",
                    "Asia",
                    "Asia",
                    "Asia",
                    "Asia",
                    "Europe",
                    "Asia",
                    "Europe",
                    "South America",
                    "Africa",
                    "Asia",
                    "Oceania",
                    "Europe",
                    "Europe",
                    "Asia",
                    "South America",
                    "Asia",
                    "Europe",
                    "Europe",
                    "Europe",
                    "Europe",
                    "Middle East",
                    "Europe",
                    "Asia",
                    "Europe",
                    "Africa",
                    "Europe",
                    "Europe",
                    "Asia",
                    "Europe",
                    "Africa",
                    "North America",
                    "Asia",
                    "",
                    "",
                    "",
                    "",
                    "",
                    "",
                    ""
                  ],
                  "type": "sunburst",
                  "values": [
                    143911.61000000002,
                    124005.97,
                    231356.9,
                    1491,
                    16043.890000000001,
                    6643.2,
                    333406.25,
                    63281.31,
                    174623,
                    67350.5,
                    5404.2,
                    14211.64,
                    2396.29,
                    104849.97,
                    88328.33,
                    7306.68,
                    75034.29000000001,
                    500344.46,
                    1516723.78,
                    34352.11,
                    4384.6,
                    55787.13,
                    4031.6600000000003,
                    461903.7,
                    207348,
                    126466.14,
                    588796.13,
                    1627658.09,
                    18310.600000000002,
                    477015.5,
                    1692.3,
                    15960.8,
                    66976,
                    1517.05,
                    428539.27999999997,
                    20225.600000000002,
                    11927.7,
                    21878.95,
                    1679.93,
                    45754.479999999996,
                    3843134.59,
                    31039.7,
                    68342.6,
                    184571.32,
                    55306.93,
                    83020.41,
                    382200.99,
                    97223.2,
                    13597.63,
                    66080.8,
                    20354.49,
                    45176.8,
                    289283.86,
                    136211.48,
                    122949.9,
                    189165.9,
                    6050.6,
                    4580916.600000001,
                    70654.4,
                    71453,
                    7224492.78,
                    4805171.46,
                    97223.2,
                    4914322.850000001,
                    21878.95,
                    849658.98
                  ]
                }
              ],
              "layout": {
                "coloraxis": {
                  "colorbar": {
                    "title": {
                      "text": "Value (USD)"
                    }
                  },
                  "colorscale": [
                    [
                      0,
                      "#0d0887"
                    ],
                    [
                      0.1111111111111111,
                      "#46039f"
                    ],
                    [
                      0.2222222222222222,
                      "#7201a8"
                    ],
                    [
                      0.3333333333333333,
                      "#9c179e"
                    ],
                    [
                      0.4444444444444444,
                      "#bd3786"
                    ],
                    [
                      0.5555555555555556,
                      "#d8576b"
                    ],
                    [
                      0.6666666666666666,
                      "#ed7953"
                    ],
                    [
                      0.7777777777777778,
                      "#fb9f3a"
                    ],
                    [
                      0.8888888888888888,
                      "#fdca26"
                    ],
                    [
                      1,
                      "#f0f921"
                    ]
                  ]
                },
                "legend": {
                  "tracegroupgap": 0
                },
                "margin": {
                  "t": 60
                },
                "template": {
                  "data": {
                    "bar": [
                      {
                        "error_x": {
                          "color": "#2a3f5f"
                        },
                        "error_y": {
                          "color": "#2a3f5f"
                        },
                        "marker": {
                          "line": {
                            "color": "#E5ECF6",
                            "width": 0.5
                          },
                          "pattern": {
                            "fillmode": "overlay",
                            "size": 10,
                            "solidity": 0.2
                          }
                        },
                        "type": "bar"
                      }
                    ],
                    "barpolar": [
                      {
                        "marker": {
                          "line": {
                            "color": "#E5ECF6",
                            "width": 0.5
                          },
                          "pattern": {
                            "fillmode": "overlay",
                            "size": 10,
                            "solidity": 0.2
                          }
                        },
                        "type": "barpolar"
                      }
                    ],
                    "carpet": [
                      {
                        "aaxis": {
                          "endlinecolor": "#2a3f5f",
                          "gridcolor": "white",
                          "linecolor": "white",
                          "minorgridcolor": "white",
                          "startlinecolor": "#2a3f5f"
                        },
                        "baxis": {
                          "endlinecolor": "#2a3f5f",
                          "gridcolor": "white",
                          "linecolor": "white",
                          "minorgridcolor": "white",
                          "startlinecolor": "#2a3f5f"
                        },
                        "type": "carpet"
                      }
                    ],
                    "choropleth": [
                      {
                        "colorbar": {
                          "outlinewidth": 0,
                          "ticks": ""
                        },
                        "type": "choropleth"
                      }
                    ],
                    "contour": [
                      {
                        "colorbar": {
                          "outlinewidth": 0,
                          "ticks": ""
                        },
                        "colorscale": [
                          [
                            0,
                            "#0d0887"
                          ],
                          [
                            0.1111111111111111,
                            "#46039f"
                          ],
                          [
                            0.2222222222222222,
                            "#7201a8"
                          ],
                          [
                            0.3333333333333333,
                            "#9c179e"
                          ],
                          [
                            0.4444444444444444,
                            "#bd3786"
                          ],
                          [
                            0.5555555555555556,
                            "#d8576b"
                          ],
                          [
                            0.6666666666666666,
                            "#ed7953"
                          ],
                          [
                            0.7777777777777778,
                            "#fb9f3a"
                          ],
                          [
                            0.8888888888888888,
                            "#fdca26"
                          ],
                          [
                            1,
                            "#f0f921"
                          ]
                        ],
                        "type": "contour"
                      }
                    ],
                    "contourcarpet": [
                      {
                        "colorbar": {
                          "outlinewidth": 0,
                          "ticks": ""
                        },
                        "type": "contourcarpet"
                      }
                    ],
                    "heatmap": [
                      {
                        "colorbar": {
                          "outlinewidth": 0,
                          "ticks": ""
                        },
                        "colorscale": [
                          [
                            0,
                            "#0d0887"
                          ],
                          [
                            0.1111111111111111,
                            "#46039f"
                          ],
                          [
                            0.2222222222222222,
                            "#7201a8"
                          ],
                          [
                            0.3333333333333333,
                            "#9c179e"
                          ],
                          [
                            0.4444444444444444,
                            "#bd3786"
                          ],
                          [
                            0.5555555555555556,
                            "#d8576b"
                          ],
                          [
                            0.6666666666666666,
                            "#ed7953"
                          ],
                          [
                            0.7777777777777778,
                            "#fb9f3a"
                          ],
                          [
                            0.8888888888888888,
                            "#fdca26"
                          ],
                          [
                            1,
                            "#f0f921"
                          ]
                        ],
                        "type": "heatmap"
                      }
                    ],
                    "heatmapgl": [
                      {
                        "colorbar": {
                          "outlinewidth": 0,
                          "ticks": ""
                        },
                        "colorscale": [
                          [
                            0,
                            "#0d0887"
                          ],
                          [
                            0.1111111111111111,
                            "#46039f"
                          ],
                          [
                            0.2222222222222222,
                            "#7201a8"
                          ],
                          [
                            0.3333333333333333,
                            "#9c179e"
                          ],
                          [
                            0.4444444444444444,
                            "#bd3786"
                          ],
                          [
                            0.5555555555555556,
                            "#d8576b"
                          ],
                          [
                            0.6666666666666666,
                            "#ed7953"
                          ],
                          [
                            0.7777777777777778,
                            "#fb9f3a"
                          ],
                          [
                            0.8888888888888888,
                            "#fdca26"
                          ],
                          [
                            1,
                            "#f0f921"
                          ]
                        ],
                        "type": "heatmapgl"
                      }
                    ],
                    "histogram": [
                      {
                        "marker": {
                          "pattern": {
                            "fillmode": "overlay",
                            "size": 10,
                            "solidity": 0.2
                          }
                        },
                        "type": "histogram"
                      }
                    ],
                    "histogram2d": [
                      {
                        "colorbar": {
                          "outlinewidth": 0,
                          "ticks": ""
                        },
                        "colorscale": [
                          [
                            0,
                            "#0d0887"
                          ],
                          [
                            0.1111111111111111,
                            "#46039f"
                          ],
                          [
                            0.2222222222222222,
                            "#7201a8"
                          ],
                          [
                            0.3333333333333333,
                            "#9c179e"
                          ],
                          [
                            0.4444444444444444,
                            "#bd3786"
                          ],
                          [
                            0.5555555555555556,
                            "#d8576b"
                          ],
                          [
                            0.6666666666666666,
                            "#ed7953"
                          ],
                          [
                            0.7777777777777778,
                            "#fb9f3a"
                          ],
                          [
                            0.8888888888888888,
                            "#fdca26"
                          ],
                          [
                            1,
                            "#f0f921"
                          ]
                        ],
                        "type": "histogram2d"
                      }
                    ],
                    "histogram2dcontour": [
                      {
                        "colorbar": {
                          "outlinewidth": 0,
                          "ticks": ""
                        },
                        "colorscale": [
                          [
                            0,
                            "#0d0887"
                          ],
                          [
                            0.1111111111111111,
                            "#46039f"
                          ],
                          [
                            0.2222222222222222,
                            "#7201a8"
                          ],
                          [
                            0.3333333333333333,
                            "#9c179e"
                          ],
                          [
                            0.4444444444444444,
                            "#bd3786"
                          ],
                          [
                            0.5555555555555556,
                            "#d8576b"
                          ],
                          [
                            0.6666666666666666,
                            "#ed7953"
                          ],
                          [
                            0.7777777777777778,
                            "#fb9f3a"
                          ],
                          [
                            0.8888888888888888,
                            "#fdca26"
                          ],
                          [
                            1,
                            "#f0f921"
                          ]
                        ],
                        "type": "histogram2dcontour"
                      }
                    ],
                    "mesh3d": [
                      {
                        "colorbar": {
                          "outlinewidth": 0,
                          "ticks": ""
                        },
                        "type": "mesh3d"
                      }
                    ],
                    "parcoords": [
                      {
                        "line": {
                          "colorbar": {
                            "outlinewidth": 0,
                            "ticks": ""
                          }
                        },
                        "type": "parcoords"
                      }
                    ],
                    "pie": [
                      {
                        "automargin": true,
                        "type": "pie"
                      }
                    ],
                    "scatter": [
                      {
                        "fillpattern": {
                          "fillmode": "overlay",
                          "size": 10,
                          "solidity": 0.2
                        },
                        "type": "scatter"
                      }
                    ],
                    "scatter3d": [
                      {
                        "line": {
                          "colorbar": {
                            "outlinewidth": 0,
                            "ticks": ""
                          }
                        },
                        "marker": {
                          "colorbar": {
                            "outlinewidth": 0,
                            "ticks": ""
                          }
                        },
                        "type": "scatter3d"
                      }
                    ],
                    "scattercarpet": [
                      {
                        "marker": {
                          "colorbar": {
                            "outlinewidth": 0,
                            "ticks": ""
                          }
                        },
                        "type": "scattercarpet"
                      }
                    ],
                    "scattergeo": [
                      {
                        "marker": {
                          "colorbar": {
                            "outlinewidth": 0,
                            "ticks": ""
                          }
                        },
                        "type": "scattergeo"
                      }
                    ],
                    "scattergl": [
                      {
                        "marker": {
                          "colorbar": {
                            "outlinewidth": 0,
                            "ticks": ""
                          }
                        },
                        "type": "scattergl"
                      }
                    ],
                    "scattermapbox": [
                      {
                        "marker": {
                          "colorbar": {
                            "outlinewidth": 0,
                            "ticks": ""
                          }
                        },
                        "type": "scattermapbox"
                      }
                    ],
                    "scatterpolar": [
                      {
                        "marker": {
                          "colorbar": {
                            "outlinewidth": 0,
                            "ticks": ""
                          }
                        },
                        "type": "scatterpolar"
                      }
                    ],
                    "scatterpolargl": [
                      {
                        "marker": {
                          "colorbar": {
                            "outlinewidth": 0,
                            "ticks": ""
                          }
                        },
                        "type": "scatterpolargl"
                      }
                    ],
                    "scatterternary": [
                      {
                        "marker": {
                          "colorbar": {
                            "outlinewidth": 0,
                            "ticks": ""
                          }
                        },
                        "type": "scatterternary"
                      }
                    ],
                    "surface": [
                      {
                        "colorbar": {
                          "outlinewidth": 0,
                          "ticks": ""
                        },
                        "colorscale": [
                          [
                            0,
                            "#0d0887"
                          ],
                          [
                            0.1111111111111111,
                            "#46039f"
                          ],
                          [
                            0.2222222222222222,
                            "#7201a8"
                          ],
                          [
                            0.3333333333333333,
                            "#9c179e"
                          ],
                          [
                            0.4444444444444444,
                            "#bd3786"
                          ],
                          [
                            0.5555555555555556,
                            "#d8576b"
                          ],
                          [
                            0.6666666666666666,
                            "#ed7953"
                          ],
                          [
                            0.7777777777777778,
                            "#fb9f3a"
                          ],
                          [
                            0.8888888888888888,
                            "#fdca26"
                          ],
                          [
                            1,
                            "#f0f921"
                          ]
                        ],
                        "type": "surface"
                      }
                    ],
                    "table": [
                      {
                        "cells": {
                          "fill": {
                            "color": "#EBF0F8"
                          },
                          "line": {
                            "color": "white"
                          }
                        },
                        "header": {
                          "fill": {
                            "color": "#C8D4E3"
                          },
                          "line": {
                            "color": "white"
                          }
                        },
                        "type": "table"
                      }
                    ]
                  },
                  "layout": {
                    "annotationdefaults": {
                      "arrowcolor": "#2a3f5f",
                      "arrowhead": 0,
                      "arrowwidth": 1
                    },
                    "autotypenumbers": "strict",
                    "coloraxis": {
                      "colorbar": {
                        "outlinewidth": 0,
                        "ticks": ""
                      }
                    },
                    "colorscale": {
                      "diverging": [
                        [
                          0,
                          "#8e0152"
                        ],
                        [
                          0.1,
                          "#c51b7d"
                        ],
                        [
                          0.2,
                          "#de77ae"
                        ],
                        [
                          0.3,
                          "#f1b6da"
                        ],
                        [
                          0.4,
                          "#fde0ef"
                        ],
                        [
                          0.5,
                          "#f7f7f7"
                        ],
                        [
                          0.6,
                          "#e6f5d0"
                        ],
                        [
                          0.7,
                          "#b8e186"
                        ],
                        [
                          0.8,
                          "#7fbc41"
                        ],
                        [
                          0.9,
                          "#4d9221"
                        ],
                        [
                          1,
                          "#276419"
                        ]
                      ],
                      "sequential": [
                        [
                          0,
                          "#0d0887"
                        ],
                        [
                          0.1111111111111111,
                          "#46039f"
                        ],
                        [
                          0.2222222222222222,
                          "#7201a8"
                        ],
                        [
                          0.3333333333333333,
                          "#9c179e"
                        ],
                        [
                          0.4444444444444444,
                          "#bd3786"
                        ],
                        [
                          0.5555555555555556,
                          "#d8576b"
                        ],
                        [
                          0.6666666666666666,
                          "#ed7953"
                        ],
                        [
                          0.7777777777777778,
                          "#fb9f3a"
                        ],
                        [
                          0.8888888888888888,
                          "#fdca26"
                        ],
                        [
                          1,
                          "#f0f921"
                        ]
                      ],
                      "sequentialminus": [
                        [
                          0,
                          "#0d0887"
                        ],
                        [
                          0.1111111111111111,
                          "#46039f"
                        ],
                        [
                          0.2222222222222222,
                          "#7201a8"
                        ],
                        [
                          0.3333333333333333,
                          "#9c179e"
                        ],
                        [
                          0.4444444444444444,
                          "#bd3786"
                        ],
                        [
                          0.5555555555555556,
                          "#d8576b"
                        ],
                        [
                          0.6666666666666666,
                          "#ed7953"
                        ],
                        [
                          0.7777777777777778,
                          "#fb9f3a"
                        ],
                        [
                          0.8888888888888888,
                          "#fdca26"
                        ],
                        [
                          1,
                          "#f0f921"
                        ]
                      ]
                    },
                    "colorway": [
                      "#636efa",
                      "#EF553B",
                      "#00cc96",
                      "#ab63fa",
                      "#FFA15A",
                      "#19d3f3",
                      "#FF6692",
                      "#B6E880",
                      "#FF97FF",
                      "#FECB52"
                    ],
                    "font": {
                      "color": "#2a3f5f"
                    },
                    "geo": {
                      "bgcolor": "white",
                      "lakecolor": "white",
                      "landcolor": "#E5ECF6",
                      "showlakes": true,
                      "showland": true,
                      "subunitcolor": "white"
                    },
                    "hoverlabel": {
                      "align": "left"
                    },
                    "hovermode": "closest",
                    "mapbox": {
                      "style": "light"
                    },
                    "paper_bgcolor": "white",
                    "plot_bgcolor": "#E5ECF6",
                    "polar": {
                      "angularaxis": {
                        "gridcolor": "white",
                        "linecolor": "white",
                        "ticks": ""
                      },
                      "bgcolor": "#E5ECF6",
                      "radialaxis": {
                        "gridcolor": "white",
                        "linecolor": "white",
                        "ticks": ""
                      }
                    },
                    "scene": {
                      "xaxis": {
                        "backgroundcolor": "#E5ECF6",
                        "gridcolor": "white",
                        "gridwidth": 2,
                        "linecolor": "white",
                        "showbackground": true,
                        "ticks": "",
                        "zerolinecolor": "white"
                      },
                      "yaxis": {
                        "backgroundcolor": "#E5ECF6",
                        "gridcolor": "white",
                        "gridwidth": 2,
                        "linecolor": "white",
                        "showbackground": true,
                        "ticks": "",
                        "zerolinecolor": "white"
                      },
                      "zaxis": {
                        "backgroundcolor": "#E5ECF6",
                        "gridcolor": "white",
                        "gridwidth": 2,
                        "linecolor": "white",
                        "showbackground": true,
                        "ticks": "",
                        "zerolinecolor": "white"
                      }
                    },
                    "shapedefaults": {
                      "line": {
                        "color": "#2a3f5f"
                      }
                    },
                    "ternary": {
                      "aaxis": {
                        "gridcolor": "white",
                        "linecolor": "white",
                        "ticks": ""
                      },
                      "baxis": {
                        "gridcolor": "white",
                        "linecolor": "white",
                        "ticks": ""
                      },
                      "bgcolor": "#E5ECF6",
                      "caxis": {
                        "gridcolor": "white",
                        "linecolor": "white",
                        "ticks": ""
                      }
                    },
                    "title": {
                      "x": 0.05
                    },
                    "xaxis": {
                      "automargin": true,
                      "gridcolor": "white",
                      "linecolor": "white",
                      "ticks": "",
                      "title": {
                        "standoff": 15
                      },
                      "zerolinecolor": "white",
                      "zerolinewidth": 2
                    },
                    "yaxis": {
                      "automargin": true,
                      "gridcolor": "white",
                      "linecolor": "white",
                      "ticks": "",
                      "title": {
                        "standoff": 15
                      },
                      "zerolinecolor": "white",
                      "zerolinewidth": 2
                    }
                  }
                }
              }
            }
          },
          "metadata": {},
          "output_type": "display_data"
        }
      ],
      "source": [
        "# Filter the data for the year 2018\n",
        "df_eng_final_2018 = df_eng_final[df_eng_final['Year'] == 2018]\n",
        "\n",
        "# Create the sunburst chart\n",
        "fig = px.sunburst(data_frame=df_eng_final_2018, path=['Continent', 'Country'], values='Value (USD)',\n",
        "                  color='Value (USD)', hover_name='ISO3')\n",
        "fig.show()"
      ]
    },
    {
      "cell_type": "markdown",
      "metadata": {},
      "source": [
        "As predicted, Asia is the largest contributer globally in the industries as a whole. Europe and America are not too far behind though. Individually the USA is still the produces the most value from it's industries, closly folowed by China. This data is from 2018 though, and given how much China's economy has grown over the years, I believe it may have overtaken the US. "
      ]
    },
    {
      "cell_type": "code",
      "execution_count": 8,
      "metadata": {},
      "outputs": [
        {
          "data": {
            "application/vnd.plotly.v1+json": {
              "config": {
                "plotlyServerURL": "https://plot.ly"
              },
              "data": [
                {
                  "alignmentgroup": "True",
                  "hovertemplate": "ISO3=AUT<br>Ind Code=%{x}<br>Value (USD)=%{y}<extra></extra>",
                  "legendgroup": "AUT",
                  "marker": {
                    "color": "#636efa",
                    "pattern": {
                      "shape": ""
                    }
                  },
                  "name": "AUT",
                  "offsetgroup": "AUT",
                  "orientation": "v",
                  "showlegend": true,
                  "textposition": "auto",
                  "type": "bar",
                  "x": [
                    "A",
                    "B",
                    "C",
                    "D",
                    "E",
                    "F",
                    "G",
                    "H",
                    "I",
                    "J",
                    "K",
                    "L"
                  ],
                  "xaxis": "x",
                  "y": [
                    14273.869999999999,
                    2342.2799999999997,
                    6084.93,
                    7162.07,
                    1870.94,
                    12940.86,
                    5872.29,
                    6174.23,
                    9813.66,
                    57197.32,
                    13768.27,
                    6410.889999999999
                  ],
                  "yaxis": "y"
                },
                {
                  "alignmentgroup": "True",
                  "hovertemplate": "ISO3=BEL<br>Ind Code=%{x}<br>Value (USD)=%{y}<extra></extra>",
                  "legendgroup": "BEL",
                  "marker": {
                    "color": "#EF553B",
                    "pattern": {
                      "shape": ""
                    }
                  },
                  "name": "BEL",
                  "offsetgroup": "BEL",
                  "orientation": "v",
                  "showlegend": true,
                  "textposition": "auto",
                  "type": "bar",
                  "x": [
                    "A",
                    "B",
                    "C",
                    "D",
                    "E",
                    "F",
                    "G",
                    "H",
                    "I",
                    "J",
                    "K",
                    "L"
                  ],
                  "xaxis": "x",
                  "y": [
                    18768.989999999998,
                    3035.2200000000003,
                    2050.13,
                    4623.37,
                    2823.34,
                    42177.68,
                    5037.98,
                    5934.54,
                    6277.57,
                    22741.28,
                    7512.09,
                    3023.7799999999997
                  ],
                  "yaxis": "y"
                },
                {
                  "alignmentgroup": "True",
                  "hovertemplate": "ISO3=BGR<br>Ind Code=%{x}<br>Value (USD)=%{y}<extra></extra>",
                  "legendgroup": "BGR",
                  "marker": {
                    "color": "#00cc96",
                    "pattern": {
                      "shape": ""
                    }
                  },
                  "name": "BGR",
                  "offsetgroup": "BGR",
                  "orientation": "v",
                  "showlegend": true,
                  "textposition": "auto",
                  "type": "bar",
                  "x": [
                    "A",
                    "B",
                    "C",
                    "D",
                    "E",
                    "F",
                    "G",
                    "H",
                    "I",
                    "J",
                    "K",
                    "L"
                  ],
                  "xaxis": "x",
                  "y": [
                    2605.7,
                    1604.85,
                    274.76,
                    714.95,
                    317.79,
                    1481.75,
                    874.9,
                    970.23,
                    855.96,
                    4543.290000000001,
                    776.8399999999999,
                    1022.8700000000001
                  ],
                  "yaxis": "y"
                },
                {
                  "alignmentgroup": "True",
                  "hovertemplate": "ISO3=BRA<br>Ind Code=%{x}<br>Value (USD)=%{y}<extra></extra>",
                  "legendgroup": "BRA",
                  "marker": {
                    "color": "#ab63fa",
                    "pattern": {
                      "shape": ""
                    }
                  },
                  "name": "BRA",
                  "offsetgroup": "BRA",
                  "orientation": "v",
                  "showlegend": true,
                  "textposition": "auto",
                  "type": "bar",
                  "x": [
                    "A",
                    "B",
                    "C",
                    "D",
                    "E",
                    "F",
                    "G",
                    "H",
                    "I",
                    "J",
                    "K"
                  ],
                  "xaxis": "x",
                  "y": [
                    48565,
                    18578.4,
                    3529.5,
                    12966.6,
                    28034.9,
                    30456.5,
                    10043.3,
                    7876.3,
                    11298.9,
                    35121.3,
                    24886.2
                  ],
                  "yaxis": "y"
                },
                {
                  "alignmentgroup": "True",
                  "hovertemplate": "ISO3=BRN<br>Ind Code=%{x}<br>Value (USD)=%{y}<extra></extra>",
                  "legendgroup": "BRN",
                  "marker": {
                    "color": "#FFA15A",
                    "pattern": {
                      "shape": ""
                    }
                  },
                  "name": "BRN",
                  "offsetgroup": "BRN",
                  "orientation": "v",
                  "showlegend": true,
                  "textposition": "auto",
                  "type": "bar",
                  "x": [
                    "A",
                    "B",
                    "C",
                    "D",
                    "E",
                    "F",
                    "G",
                    "H",
                    "I",
                    "J",
                    "K"
                  ],
                  "xaxis": "x",
                  "y": [
                    16.8,
                    47.5,
                    2.4,
                    6.9,
                    1247.2,
                    37.6,
                    6.9,
                    13.7,
                    3.9,
                    33.3,
                    74.8
                  ],
                  "yaxis": "y"
                },
                {
                  "alignmentgroup": "True",
                  "hovertemplate": "ISO3=CAN<br>Ind Code=%{x}<br>Value (USD)=%{y}<extra></extra>",
                  "legendgroup": "CAN",
                  "marker": {
                    "color": "#19d3f3",
                    "pattern": {
                      "shape": ""
                    }
                  },
                  "name": "CAN",
                  "offsetgroup": "CAN",
                  "orientation": "v",
                  "showlegend": true,
                  "textposition": "auto",
                  "type": "bar",
                  "x": [
                    "A",
                    "B",
                    "C",
                    "D",
                    "E",
                    "F",
                    "G",
                    "H",
                    "I",
                    "J",
                    "K",
                    "L"
                  ],
                  "xaxis": "x",
                  "y": [
                    51693.96000000001,
                    4125.99,
                    16362.72,
                    20723.46,
                    23584.940000000002,
                    34807.88,
                    16819.08,
                    12711.33,
                    19085.89,
                    68291.26000000001,
                    49132.130000000005,
                    16067.61
                  ],
                  "yaxis": "y"
                },
                {
                  "alignmentgroup": "True",
                  "hovertemplate": "ISO3=CHL<br>Ind Code=%{x}<br>Value (USD)=%{y}<extra></extra>",
                  "legendgroup": "CHL",
                  "marker": {
                    "color": "#FF6692",
                    "pattern": {
                      "shape": ""
                    }
                  },
                  "name": "CHL",
                  "offsetgroup": "CHL",
                  "orientation": "v",
                  "showlegend": true,
                  "textposition": "auto",
                  "type": "bar",
                  "x": [
                    "A",
                    "B",
                    "C",
                    "D",
                    "E",
                    "F",
                    "G",
                    "H",
                    "I",
                    "J",
                    "K"
                  ],
                  "xaxis": "x",
                  "y": [
                    22298.58,
                    1005.1800000000001,
                    1449.4,
                    3598.8,
                    1977.15,
                    2773.2,
                    4508.9,
                    1923.9299999999998,
                    14588.5,
                    8075.27,
                    1082.4
                  ],
                  "yaxis": "y"
                },
                {
                  "alignmentgroup": "True",
                  "hovertemplate": "ISO3=CHN<br>Ind Code=%{x}<br>Value (USD)=%{y}<extra></extra>",
                  "legendgroup": "CHN",
                  "marker": {
                    "color": "#B6E880",
                    "pattern": {
                      "shape": ""
                    }
                  },
                  "name": "CHN",
                  "offsetgroup": "CHN",
                  "orientation": "v",
                  "showlegend": true,
                  "textposition": "auto",
                  "type": "bar",
                  "x": [
                    "A",
                    "B",
                    "C",
                    "D",
                    "E",
                    "F",
                    "G",
                    "H",
                    "I",
                    "J",
                    "K"
                  ],
                  "xaxis": "x",
                  "y": [
                    410643.69,
                    241887.41,
                    54181.1,
                    124635.2,
                    175172.09,
                    481399.69,
                    119899.5,
                    361271.19,
                    469966.91,
                    1042085.5,
                    361992.31
                  ],
                  "yaxis": "y"
                },
                {
                  "alignmentgroup": "True",
                  "hovertemplate": "ISO3=COL<br>Ind Code=%{x}<br>Value (USD)=%{y}<extra></extra>",
                  "legendgroup": "COL",
                  "marker": {
                    "color": "#FF97FF",
                    "pattern": {
                      "shape": ""
                    }
                  },
                  "name": "COL",
                  "offsetgroup": "COL",
                  "orientation": "v",
                  "showlegend": true,
                  "textposition": "auto",
                  "type": "bar",
                  "x": [
                    "A",
                    "B",
                    "C",
                    "D",
                    "E",
                    "F",
                    "G",
                    "H",
                    "I",
                    "J",
                    "K",
                    "L"
                  ],
                  "xaxis": "x",
                  "y": [
                    21020,
                    7314.6,
                    725.44,
                    3841.99,
                    8145.209999999999,
                    5100.7,
                    2075.46,
                    8437.21,
                    1363.3,
                    3607.15,
                    1740.34,
                    3979.1
                  ],
                  "yaxis": "y"
                },
                {
                  "alignmentgroup": "True",
                  "hovertemplate": "ISO3=CRI<br>Ind Code=%{x}<br>Value (USD)=%{y}<extra></extra>",
                  "legendgroup": "CRI",
                  "marker": {
                    "color": "#FECB52",
                    "pattern": {
                      "shape": ""
                    }
                  },
                  "name": "CRI",
                  "offsetgroup": "CRI",
                  "orientation": "v",
                  "showlegend": true,
                  "textposition": "auto",
                  "type": "bar",
                  "x": [
                    "A",
                    "B",
                    "C",
                    "D",
                    "E",
                    "F",
                    "G",
                    "H",
                    "I",
                    "J",
                    "K"
                  ],
                  "xaxis": "x",
                  "y": [
                    2920,
                    188.2,
                    90.4,
                    326.7,
                    221.2,
                    549.9,
                    123.7,
                    373,
                    104.6,
                    481.4,
                    25.1
                  ],
                  "yaxis": "y"
                },
                {
                  "alignmentgroup": "True",
                  "hovertemplate": "ISO3=CYP<br>Ind Code=%{x}<br>Value (USD)=%{y}<extra></extra>",
                  "legendgroup": "CYP",
                  "marker": {
                    "color": "#636efa",
                    "pattern": {
                      "shape": ""
                    }
                  },
                  "name": "CYP",
                  "offsetgroup": "CYP",
                  "orientation": "v",
                  "showlegend": true,
                  "textposition": "auto",
                  "type": "bar",
                  "x": [
                    "A",
                    "B",
                    "C",
                    "D",
                    "E",
                    "F",
                    "G",
                    "H",
                    "I",
                    "J",
                    "K",
                    "L"
                  ],
                  "xaxis": "x",
                  "y": [
                    837.41,
                    40.61,
                    125.87,
                    98.43,
                    5.34,
                    367.53,
                    67.93,
                    282.51,
                    52.32,
                    413.03,
                    14.7,
                    90.61
                  ],
                  "yaxis": "y"
                },
                {
                  "alignmentgroup": "True",
                  "hovertemplate": "ISO3=CZE<br>Ind Code=%{x}<br>Value (USD)=%{y}<extra></extra>",
                  "legendgroup": "CZE",
                  "marker": {
                    "color": "#EF553B",
                    "pattern": {
                      "shape": ""
                    }
                  },
                  "name": "CZE",
                  "offsetgroup": "CZE",
                  "orientation": "v",
                  "showlegend": true,
                  "textposition": "auto",
                  "type": "bar",
                  "x": [
                    "A",
                    "B",
                    "C",
                    "D",
                    "E",
                    "F",
                    "G",
                    "H",
                    "I",
                    "J",
                    "K",
                    "L"
                  ],
                  "xaxis": "x",
                  "y": [
                    8750.12,
                    2294.9,
                    2398.79,
                    3177.82,
                    61.03,
                    5981.46,
                    8038.219999999999,
                    4817.93,
                    3016.95,
                    37056.26,
                    25420.510000000002,
                    3835.98
                  ],
                  "yaxis": "y"
                },
                {
                  "alignmentgroup": "True",
                  "hovertemplate": "ISO3=DEU<br>Ind Code=%{x}<br>Value (USD)=%{y}<extra></extra>",
                  "legendgroup": "DEU",
                  "marker": {
                    "color": "#00cc96",
                    "pattern": {
                      "shape": ""
                    }
                  },
                  "name": "DEU",
                  "offsetgroup": "DEU",
                  "orientation": "v",
                  "showlegend": true,
                  "textposition": "auto",
                  "type": "bar",
                  "x": [
                    "A",
                    "B",
                    "C",
                    "D",
                    "E",
                    "F",
                    "G",
                    "H",
                    "I",
                    "J",
                    "K",
                    "L"
                  ],
                  "xaxis": "x",
                  "y": [
                    106130.28,
                    17489.6,
                    15414.54,
                    44037.25,
                    10073.61,
                    172422.5,
                    71501.53,
                    41695.01,
                    51745.19,
                    576632.85,
                    352190.34,
                    57391.08
                  ],
                  "yaxis": "y"
                },
                {
                  "alignmentgroup": "True",
                  "hovertemplate": "ISO3=DNK<br>Ind Code=%{x}<br>Value (USD)=%{y}<extra></extra>",
                  "legendgroup": "DNK",
                  "marker": {
                    "color": "#ab63fa",
                    "pattern": {
                      "shape": ""
                    }
                  },
                  "name": "DNK",
                  "offsetgroup": "DNK",
                  "orientation": "v",
                  "showlegend": true,
                  "textposition": "auto",
                  "type": "bar",
                  "x": [
                    "A",
                    "B",
                    "C",
                    "D",
                    "E",
                    "F",
                    "G",
                    "H",
                    "I",
                    "J",
                    "K",
                    "L"
                  ],
                  "xaxis": "x",
                  "y": [
                    9670.53,
                    1117.52,
                    1292.1599999999999,
                    1779.25,
                    799.03,
                    31595.719999999998,
                    2556.6,
                    3217.09,
                    867.87,
                    28198.739999999998,
                    1334.6399999999999,
                    5899.18
                  ],
                  "yaxis": "y"
                },
                {
                  "alignmentgroup": "True",
                  "hovertemplate": "ISO3=ESP<br>Ind Code=%{x}<br>Value (USD)=%{y}<extra></extra>",
                  "legendgroup": "ESP",
                  "marker": {
                    "color": "#FFA15A",
                    "pattern": {
                      "shape": ""
                    }
                  },
                  "name": "ESP",
                  "offsetgroup": "ESP",
                  "orientation": "v",
                  "showlegend": true,
                  "textposition": "auto",
                  "type": "bar",
                  "x": [
                    "A",
                    "B",
                    "C",
                    "D",
                    "E",
                    "F",
                    "G",
                    "H",
                    "I",
                    "J",
                    "K",
                    "L"
                  ],
                  "xaxis": "x",
                  "y": [
                    55071.59,
                    20554.82,
                    4516.799999999999,
                    14259.02,
                    6738.09,
                    37448.81,
                    14733.25,
                    13083.78,
                    12909.9,
                    60850.46,
                    39001.85,
                    10115.49
                  ],
                  "yaxis": "y"
                },
                {
                  "alignmentgroup": "True",
                  "hovertemplate": "ISO3=EST<br>Ind Code=%{x}<br>Value (USD)=%{y}<extra></extra>",
                  "legendgroup": "EST",
                  "marker": {
                    "color": "#19d3f3",
                    "pattern": {
                      "shape": ""
                    }
                  },
                  "name": "EST",
                  "offsetgroup": "EST",
                  "orientation": "v",
                  "showlegend": true,
                  "textposition": "auto",
                  "type": "bar",
                  "x": [
                    "A",
                    "B",
                    "C",
                    "D",
                    "E",
                    "F",
                    "G",
                    "H",
                    "I",
                    "J",
                    "K",
                    "L"
                  ],
                  "xaxis": "x",
                  "y": [
                    962.38,
                    416.62,
                    1281.88,
                    361.40999999999997,
                    135.49,
                    342.75,
                    300.38,
                    414.62,
                    65.64,
                    2189.92,
                    310.77,
                    524.8199999999999
                  ],
                  "yaxis": "y"
                },
                {
                  "alignmentgroup": "True",
                  "hovertemplate": "ISO3=FIN<br>Ind Code=%{x}<br>Value (USD)=%{y}<extra></extra>",
                  "legendgroup": "FIN",
                  "marker": {
                    "color": "#FF6692",
                    "pattern": {
                      "shape": ""
                    }
                  },
                  "name": "FIN",
                  "offsetgroup": "FIN",
                  "orientation": "v",
                  "showlegend": true,
                  "textposition": "auto",
                  "type": "bar",
                  "x": [
                    "A",
                    "B",
                    "C",
                    "D",
                    "E",
                    "F",
                    "G",
                    "H",
                    "I",
                    "J",
                    "K",
                    "L"
                  ],
                  "xaxis": "x",
                  "y": [
                    6366.65,
                    953.37,
                    3163.8900000000003,
                    9412.31,
                    2053.8199999999997,
                    9244.55,
                    2456.5600000000004,
                    2642.84,
                    4420.46,
                    30132.620000000003,
                    2695.95,
                    1491.27
                  ],
                  "yaxis": "y"
                },
                {
                  "alignmentgroup": "True",
                  "hovertemplate": "ISO3=FRA<br>Ind Code=%{x}<br>Value (USD)=%{y}<extra></extra>",
                  "legendgroup": "FRA",
                  "marker": {
                    "color": "#B6E880",
                    "pattern": {
                      "shape": ""
                    }
                  },
                  "name": "FRA",
                  "offsetgroup": "FRA",
                  "orientation": "v",
                  "showlegend": true,
                  "textposition": "auto",
                  "type": "bar",
                  "x": [
                    "A",
                    "B",
                    "C",
                    "D",
                    "E",
                    "F",
                    "G",
                    "H",
                    "I",
                    "J",
                    "K",
                    "L"
                  ],
                  "xaxis": "x",
                  "y": [
                    103330.76999999999,
                    12868.96,
                    6778.0599999999995,
                    20287.92,
                    6031.969999999999,
                    83665.72,
                    26630.83,
                    18440.199999999997,
                    13449.52,
                    116521.88,
                    76153.39,
                    16185.240000000002
                  ],
                  "yaxis": "y"
                },
                {
                  "alignmentgroup": "True",
                  "hovertemplate": "ISO3=GRC<br>Ind Code=%{x}<br>Value (USD)=%{y}<extra></extra>",
                  "legendgroup": "GRC",
                  "marker": {
                    "color": "#FF97FF",
                    "pattern": {
                      "shape": ""
                    }
                  },
                  "name": "GRC",
                  "offsetgroup": "GRC",
                  "orientation": "v",
                  "showlegend": true,
                  "textposition": "auto",
                  "type": "bar",
                  "x": [
                    "A",
                    "B",
                    "C",
                    "D",
                    "E",
                    "F",
                    "G",
                    "H",
                    "I",
                    "J",
                    "K",
                    "L"
                  ],
                  "xaxis": "x",
                  "y": [
                    11669.69,
                    1203.3,
                    218,
                    1633.37,
                    3109.4399999999996,
                    4367.5599999999995,
                    1312.1999999999998,
                    1834.88,
                    2716.76,
                    4513.16,
                    1059.96,
                    713.79
                  ],
                  "yaxis": "y"
                },
                {
                  "alignmentgroup": "True",
                  "hovertemplate": "ISO3=HKG<br>Ind Code=%{x}<br>Value (USD)=%{y}<extra></extra>",
                  "legendgroup": "HKG",
                  "marker": {
                    "color": "#FECB52",
                    "pattern": {
                      "shape": ""
                    }
                  },
                  "name": "HKG",
                  "offsetgroup": "HKG",
                  "orientation": "v",
                  "showlegend": true,
                  "textposition": "auto",
                  "type": "bar",
                  "x": [
                    "A",
                    "B",
                    "C",
                    "D",
                    "E",
                    "F",
                    "H",
                    "I",
                    "J",
                    "K"
                  ],
                  "xaxis": "x",
                  "y": [
                    2646.4,
                    291.7,
                    222,
                    178.7,
                    50.8,
                    96.2,
                    69.1,
                    382.3,
                    334.7,
                    112.7
                  ],
                  "yaxis": "y"
                },
                {
                  "alignmentgroup": "True",
                  "hovertemplate": "ISO3=HRV<br>Ind Code=%{x}<br>Value (USD)=%{y}<extra></extra>",
                  "legendgroup": "HRV",
                  "marker": {
                    "color": "#636efa",
                    "pattern": {
                      "shape": ""
                    }
                  },
                  "name": "HRV",
                  "offsetgroup": "HRV",
                  "orientation": "v",
                  "showlegend": true,
                  "textposition": "auto",
                  "type": "bar",
                  "x": [
                    "A",
                    "B",
                    "C",
                    "D",
                    "E",
                    "F",
                    "G",
                    "H",
                    "I",
                    "J",
                    "K",
                    "L"
                  ],
                  "xaxis": "x",
                  "y": [
                    3605.71,
                    765.81,
                    626.76,
                    752.21,
                    1136.4499999999998,
                    1247.38,
                    585.47,
                    846.37,
                    158.54000000000002,
                    3603.23,
                    286.49,
                    597.22
                  ],
                  "yaxis": "y"
                },
                {
                  "alignmentgroup": "True",
                  "hovertemplate": "ISO3=HUN<br>Ind Code=%{x}<br>Value (USD)=%{y}<extra></extra>",
                  "legendgroup": "HUN",
                  "marker": {
                    "color": "#EF553B",
                    "pattern": {
                      "shape": ""
                    }
                  },
                  "name": "HUN",
                  "offsetgroup": "HUN",
                  "orientation": "v",
                  "showlegend": true,
                  "textposition": "auto",
                  "type": "bar",
                  "x": [
                    "A",
                    "B",
                    "C",
                    "D",
                    "E",
                    "F",
                    "G",
                    "H",
                    "I",
                    "J",
                    "K",
                    "L"
                  ],
                  "xaxis": "x",
                  "y": [
                    5616.23,
                    1185.8200000000002,
                    702.0699999999999,
                    1789.08,
                    2023.48,
                    7271.53,
                    4116,
                    2037.02,
                    1697.65,
                    15866.42,
                    11664.130000000001,
                    1817.6999999999998
                  ],
                  "yaxis": "y"
                },
                {
                  "alignmentgroup": "True",
                  "hovertemplate": "ISO3=IDN<br>Ind Code=%{x}<br>Value (USD)=%{y}<extra></extra>",
                  "legendgroup": "IDN",
                  "marker": {
                    "color": "#00cc96",
                    "pattern": {
                      "shape": ""
                    }
                  },
                  "name": "IDN",
                  "offsetgroup": "IDN",
                  "orientation": "v",
                  "showlegend": true,
                  "textposition": "auto",
                  "type": "bar",
                  "x": [
                    "A",
                    "B",
                    "C",
                    "D",
                    "E",
                    "F",
                    "G",
                    "H",
                    "I",
                    "J",
                    "K"
                  ],
                  "xaxis": "x",
                  "y": [
                    56693.2,
                    21869.9,
                    5118.5,
                    9408.2,
                    21397.3,
                    15372.4,
                    5991.2,
                    6034.4,
                    8092.5,
                    32757.5,
                    24612.9
                  ],
                  "yaxis": "y"
                },
                {
                  "alignmentgroup": "True",
                  "hovertemplate": "ISO3=IND<br>Ind Code=%{x}<br>Value (USD)=%{y}<extra></extra>",
                  "legendgroup": "IND",
                  "marker": {
                    "color": "#ab63fa",
                    "pattern": {
                      "shape": ""
                    }
                  },
                  "name": "IND",
                  "offsetgroup": "IND",
                  "orientation": "v",
                  "showlegend": true,
                  "textposition": "auto",
                  "type": "bar",
                  "x": [
                    "A",
                    "B",
                    "C",
                    "D",
                    "E",
                    "F",
                    "G",
                    "H",
                    "I",
                    "J",
                    "K"
                  ],
                  "xaxis": "x",
                  "y": [
                    47080.3,
                    58616.4,
                    7389.4,
                    11658.9,
                    37750.2,
                    69278.4,
                    18059.8,
                    29926.1,
                    44783.8,
                    81611.1,
                    55749.3
                  ],
                  "yaxis": "y"
                },
                {
                  "alignmentgroup": "True",
                  "hovertemplate": "ISO3=IRL<br>Ind Code=%{x}<br>Value (USD)=%{y}<extra></extra>",
                  "legendgroup": "IRL",
                  "marker": {
                    "color": "#FFA15A",
                    "pattern": {
                      "shape": ""
                    }
                  },
                  "name": "IRL",
                  "offsetgroup": "IRL",
                  "orientation": "v",
                  "showlegend": true,
                  "textposition": "auto",
                  "type": "bar",
                  "x": [
                    "A",
                    "B",
                    "C",
                    "D",
                    "E",
                    "F",
                    "G",
                    "H",
                    "I",
                    "J",
                    "K",
                    "L"
                  ],
                  "xaxis": "x",
                  "y": [
                    19386.510000000002,
                    373.6,
                    710.96,
                    1186.75,
                    12446.6,
                    59396.9,
                    1454.04,
                    1824.85,
                    747,
                    18218.55,
                    889.81,
                    9830.57
                  ],
                  "yaxis": "y"
                },
                {
                  "alignmentgroup": "True",
                  "hovertemplate": "ISO3=ISL<br>Ind Code=%{x}<br>Value (USD)=%{y}<extra></extra>",
                  "legendgroup": "ISL",
                  "marker": {
                    "color": "#19d3f3",
                    "pattern": {
                      "shape": ""
                    }
                  },
                  "name": "ISL",
                  "offsetgroup": "ISL",
                  "orientation": "v",
                  "showlegend": true,
                  "textposition": "auto",
                  "type": "bar",
                  "x": [
                    "A",
                    "B",
                    "C",
                    "D",
                    "E",
                    "F",
                    "G",
                    "H",
                    "I",
                    "J",
                    "K",
                    "L"
                  ],
                  "xaxis": "x",
                  "y": [
                    1802.7,
                    48.35,
                    28.04,
                    100.77,
                    3.81,
                    89.25999999999999,
                    56.31,
                    196.68,
                    710,
                    670.3399999999999,
                    16.48,
                    308.92
                  ],
                  "yaxis": "y"
                },
                {
                  "alignmentgroup": "True",
                  "hovertemplate": "ISO3=ITA<br>Ind Code=%{x}<br>Value (USD)=%{y}<extra></extra>",
                  "legendgroup": "ITA",
                  "marker": {
                    "color": "#FF6692",
                    "pattern": {
                      "shape": ""
                    }
                  },
                  "name": "ITA",
                  "offsetgroup": "ITA",
                  "orientation": "v",
                  "showlegend": true,
                  "textposition": "auto",
                  "type": "bar",
                  "x": [
                    "A",
                    "B",
                    "C",
                    "D",
                    "E",
                    "F",
                    "G",
                    "H",
                    "I",
                    "J",
                    "K",
                    "L"
                  ],
                  "xaxis": "x",
                  "y": [
                    66736.43000000001,
                    58455.649999999994,
                    10953.26,
                    24011.05,
                    3023.34,
                    55235.8,
                    31148.739999999998,
                    23589.4,
                    19117.190000000002,
                    209726.82,
                    54574.4,
                    32224.05
                  ],
                  "yaxis": "y"
                },
                {
                  "alignmentgroup": "True",
                  "hovertemplate": "ISO3=JPN<br>Ind Code=%{x}<br>Value (USD)=%{y}<extra></extra>",
                  "legendgroup": "JPN",
                  "marker": {
                    "color": "#B6E880",
                    "pattern": {
                      "shape": ""
                    }
                  },
                  "name": "JPN",
                  "offsetgroup": "JPN",
                  "orientation": "v",
                  "showlegend": true,
                  "textposition": "auto",
                  "type": "bar",
                  "x": [
                    "A",
                    "B",
                    "C",
                    "D",
                    "E",
                    "F",
                    "G",
                    "H",
                    "I",
                    "J",
                    "K",
                    "L"
                  ],
                  "xaxis": "x",
                  "y": [
                    234186.96000000002,
                    14367,
                    8776.1,
                    82828.86,
                    78771.99,
                    103767.5,
                    51255.5,
                    53103.479999999996,
                    165679.57,
                    363737.94,
                    301324.66000000003,
                    169858.53000000003
                  ],
                  "yaxis": "y"
                },
                {
                  "alignmentgroup": "True",
                  "hovertemplate": "ISO3=KAZ<br>Ind Code=%{x}<br>Value (USD)=%{y}<extra></extra>",
                  "legendgroup": "KAZ",
                  "marker": {
                    "color": "#FF97FF",
                    "pattern": {
                      "shape": ""
                    }
                  },
                  "name": "KAZ",
                  "offsetgroup": "KAZ",
                  "orientation": "v",
                  "showlegend": true,
                  "textposition": "auto",
                  "type": "bar",
                  "x": [
                    "A",
                    "B",
                    "C",
                    "D",
                    "E",
                    "F",
                    "G",
                    "H",
                    "I",
                    "J",
                    "K"
                  ],
                  "xaxis": "x",
                  "y": [
                    4636.6,
                    225.1,
                    43.8,
                    215.2,
                    1897.4,
                    1182,
                    322.2,
                    1035.6,
                    7338.8,
                    948.7,
                    465.2
                  ],
                  "yaxis": "y"
                },
                {
                  "alignmentgroup": "True",
                  "hovertemplate": "ISO3=KHM<br>Ind Code=%{x}<br>Value (USD)=%{y}<extra></extra>",
                  "legendgroup": "KHM",
                  "marker": {
                    "color": "#FECB52",
                    "pattern": {
                      "shape": ""
                    }
                  },
                  "name": "KHM",
                  "offsetgroup": "KHM",
                  "orientation": "v",
                  "showlegend": true,
                  "textposition": "auto",
                  "type": "bar",
                  "x": [
                    "A",
                    "B",
                    "C",
                    "D",
                    "E",
                    "F",
                    "G",
                    "H",
                    "I",
                    "J",
                    "K"
                  ],
                  "xaxis": "x",
                  "y": [
                    632.9,
                    4105.7,
                    548.9,
                    115.8,
                    93.1,
                    97.9,
                    103.3,
                    49.1,
                    30.2,
                    573.6,
                    292.7
                  ],
                  "yaxis": "y"
                },
                {
                  "alignmentgroup": "True",
                  "hovertemplate": "ISO3=KOR<br>Ind Code=%{x}<br>Value (USD)=%{y}<extra></extra>",
                  "legendgroup": "KOR",
                  "marker": {
                    "color": "#636efa",
                    "pattern": {
                      "shape": ""
                    }
                  },
                  "name": "KOR",
                  "offsetgroup": "KOR",
                  "orientation": "v",
                  "showlegend": true,
                  "textposition": "auto",
                  "type": "bar",
                  "x": [
                    "A",
                    "B",
                    "C",
                    "D",
                    "E",
                    "F",
                    "G",
                    "H",
                    "I",
                    "J",
                    "K"
                  ],
                  "xaxis": "x",
                  "y": [
                    23360.3,
                    15516.8,
                    2132,
                    12022.2,
                    17223.5,
                    50103,
                    24456,
                    12435.1,
                    28117.2,
                    241659,
                    49990.4
                  ],
                  "yaxis": "y"
                },
                {
                  "alignmentgroup": "True",
                  "hovertemplate": "ISO3=LAO<br>Ind Code=%{x}<br>Value (USD)=%{y}<extra></extra>",
                  "legendgroup": "LAO",
                  "marker": {
                    "color": "#EF553B",
                    "pattern": {
                      "shape": ""
                    }
                  },
                  "name": "LAO",
                  "offsetgroup": "LAO",
                  "orientation": "v",
                  "showlegend": true,
                  "textposition": "auto",
                  "type": "bar",
                  "x": [
                    "A",
                    "B",
                    "C",
                    "D",
                    "E",
                    "F",
                    "G",
                    "H",
                    "I",
                    "J",
                    "K"
                  ],
                  "xaxis": "x",
                  "y": [
                    333.4,
                    247.6,
                    177.9,
                    4.2,
                    86.7,
                    61.5,
                    15.4,
                    166.4,
                    520.1,
                    76.3,
                    2.8
                  ],
                  "yaxis": "y"
                },
                {
                  "alignmentgroup": "True",
                  "hovertemplate": "ISO3=LTU<br>Ind Code=%{x}<br>Value (USD)=%{y}<extra></extra>",
                  "legendgroup": "LTU",
                  "marker": {
                    "color": "#00cc96",
                    "pattern": {
                      "shape": ""
                    }
                  },
                  "name": "LTU",
                  "offsetgroup": "LTU",
                  "orientation": "v",
                  "showlegend": true,
                  "textposition": "auto",
                  "type": "bar",
                  "x": [
                    "A",
                    "B",
                    "C",
                    "D",
                    "E",
                    "F",
                    "G",
                    "H",
                    "I",
                    "J",
                    "K",
                    "L"
                  ],
                  "xaxis": "x",
                  "y": [
                    3424.73,
                    1213,
                    1215.27,
                    832.06,
                    413.1,
                    1645.3600000000001,
                    1072.22,
                    633.95,
                    45.56,
                    2443.94,
                    639.5999999999999,
                    2382.01
                  ],
                  "yaxis": "y"
                },
                {
                  "alignmentgroup": "True",
                  "hovertemplate": "ISO3=MAR<br>Ind Code=%{x}<br>Value (USD)=%{y}<extra></extra>",
                  "legendgroup": "MAR",
                  "marker": {
                    "color": "#ab63fa",
                    "pattern": {
                      "shape": ""
                    }
                  },
                  "name": "MAR",
                  "offsetgroup": "MAR",
                  "orientation": "v",
                  "showlegend": true,
                  "textposition": "auto",
                  "type": "bar",
                  "x": [
                    "A",
                    "B",
                    "C",
                    "D",
                    "E",
                    "F",
                    "G",
                    "H",
                    "I",
                    "J",
                    "K"
                  ],
                  "xaxis": "x",
                  "y": [
                    7306.3,
                    2322.8,
                    197.9,
                    434.1,
                    0.3,
                    3764.8,
                    115.8,
                    1426.7,
                    745.9,
                    2424.8,
                    1486.2
                  ],
                  "yaxis": "y"
                },
                {
                  "alignmentgroup": "True",
                  "hovertemplate": "ISO3=MEX<br>Ind Code=%{x}<br>Value (USD)=%{y}<extra></extra>",
                  "legendgroup": "MEX",
                  "marker": {
                    "color": "#FFA15A",
                    "pattern": {
                      "shape": ""
                    }
                  },
                  "name": "MEX",
                  "offsetgroup": "MEX",
                  "orientation": "v",
                  "showlegend": true,
                  "textposition": "auto",
                  "type": "bar",
                  "x": [
                    "A",
                    "B",
                    "C",
                    "D",
                    "E",
                    "F",
                    "G",
                    "H",
                    "I",
                    "J",
                    "K",
                    "L"
                  ],
                  "xaxis": "x",
                  "y": [
                    112924.23999999999,
                    17187.1,
                    3442.25,
                    10278.369999999999,
                    12780.58,
                    30910.690000000002,
                    13367.2,
                    11164.189999999999,
                    24241.199999999997,
                    85729.98000000001,
                    94087.52,
                    12425.96
                  ],
                  "yaxis": "y"
                },
                {
                  "alignmentgroup": "True",
                  "hovertemplate": "ISO3=MKD<br>Ind Code=%{x}<br>Value (USD)=%{y}<extra></extra>",
                  "legendgroup": "MKD",
                  "marker": {
                    "color": "#19d3f3",
                    "pattern": {
                      "shape": ""
                    }
                  },
                  "name": "MKD",
                  "offsetgroup": "MKD",
                  "orientation": "v",
                  "showlegend": true,
                  "textposition": "auto",
                  "type": "bar",
                  "x": [
                    "A",
                    "B",
                    "C",
                    "D",
                    "E",
                    "F",
                    "G",
                    "H",
                    "I",
                    "J",
                    "K",
                    "L"
                  ],
                  "xaxis": "x",
                  "y": [
                    370.35,
                    340.81,
                    19.4,
                    65.18,
                    0.49,
                    100.5,
                    58.27,
                    79.77,
                    64.36,
                    292.86,
                    239.12,
                    48.82
                  ],
                  "yaxis": "y"
                },
                {
                  "alignmentgroup": "True",
                  "hovertemplate": "ISO3=MLT<br>Ind Code=%{x}<br>Value (USD)=%{y}<extra></extra>",
                  "legendgroup": "MLT",
                  "marker": {
                    "color": "#FF6692",
                    "pattern": {
                      "shape": ""
                    }
                  },
                  "name": "MLT",
                  "offsetgroup": "MLT",
                  "orientation": "v",
                  "showlegend": true,
                  "textposition": "auto",
                  "type": "bar",
                  "x": [
                    "A",
                    "B",
                    "C",
                    "D",
                    "E",
                    "F",
                    "G",
                    "H",
                    "I",
                    "J",
                    "K",
                    "L"
                  ],
                  "xaxis": "x",
                  "y": [
                    335.69,
                    28.12,
                    10.9,
                    94.5,
                    0.1,
                    126.23,
                    86.2,
                    53.6,
                    1.8599999999999999,
                    292.41,
                    157.78,
                    329.65999999999997
                  ],
                  "yaxis": "y"
                },
                {
                  "alignmentgroup": "True",
                  "hovertemplate": "ISO3=MMR<br>Ind Code=%{x}<br>Value (USD)=%{y}<extra></extra>",
                  "legendgroup": "MMR",
                  "marker": {
                    "color": "#B6E880",
                    "pattern": {
                      "shape": ""
                    }
                  },
                  "name": "MMR",
                  "offsetgroup": "MMR",
                  "orientation": "v",
                  "showlegend": true,
                  "textposition": "auto",
                  "type": "bar",
                  "x": [
                    "A",
                    "B",
                    "C",
                    "D",
                    "E",
                    "F",
                    "G",
                    "H",
                    "I",
                    "J",
                    "K"
                  ],
                  "xaxis": "x",
                  "y": [
                    3473.7,
                    2715,
                    390.5,
                    389.6,
                    752.3,
                    764.3,
                    315.3,
                    528.7,
                    499.7,
                    1449.4,
                    649.2
                  ],
                  "yaxis": "y"
                },
                {
                  "alignmentgroup": "True",
                  "hovertemplate": "ISO3=MYS<br>Ind Code=%{x}<br>Value (USD)=%{y}<extra></extra>",
                  "legendgroup": "MYS",
                  "marker": {
                    "color": "#FF97FF",
                    "pattern": {
                      "shape": ""
                    }
                  },
                  "name": "MYS",
                  "offsetgroup": "MYS",
                  "orientation": "v",
                  "showlegend": true,
                  "textposition": "auto",
                  "type": "bar",
                  "x": [
                    "A",
                    "B",
                    "C",
                    "D",
                    "E",
                    "F",
                    "G",
                    "H",
                    "I",
                    "J",
                    "K"
                  ],
                  "xaxis": "x",
                  "y": [
                    7944.7,
                    1576.1,
                    1503.6,
                    2471.9,
                    9746.5,
                    7602.4,
                    3272.4,
                    2407.2,
                    2165.4,
                    23789.3,
                    4496.5
                  ],
                  "yaxis": "y"
                },
                {
                  "alignmentgroup": "True",
                  "hovertemplate": "ISO3=NLD<br>Ind Code=%{x}<br>Value (USD)=%{y}<extra></extra>",
                  "legendgroup": "NLD",
                  "marker": {
                    "color": "#FECB52",
                    "pattern": {
                      "shape": ""
                    }
                  },
                  "name": "NLD",
                  "offsetgroup": "NLD",
                  "orientation": "v",
                  "showlegend": true,
                  "textposition": "auto",
                  "type": "bar",
                  "x": [
                    "A",
                    "B",
                    "C",
                    "D",
                    "E",
                    "F",
                    "G",
                    "H",
                    "I",
                    "J",
                    "K",
                    "L"
                  ],
                  "xaxis": "x",
                  "y": [
                    35381.78,
                    2576.67,
                    2261.67,
                    7821.74,
                    3295.63,
                    36612.22,
                    6997.99,
                    4772.25,
                    5407.25,
                    62307.33,
                    9934.26,
                    11797.11
                  ],
                  "yaxis": "y"
                },
                {
                  "alignmentgroup": "True",
                  "hovertemplate": "ISO3=NOR<br>Ind Code=%{x}<br>Value (USD)=%{y}<extra></extra>",
                  "legendgroup": "NOR",
                  "marker": {
                    "color": "#636efa",
                    "pattern": {
                      "shape": ""
                    }
                  },
                  "name": "NOR",
                  "offsetgroup": "NOR",
                  "orientation": "v",
                  "showlegend": true,
                  "textposition": "auto",
                  "type": "bar",
                  "x": [
                    "A",
                    "B",
                    "C",
                    "D",
                    "E",
                    "F",
                    "G",
                    "H",
                    "I",
                    "J",
                    "K",
                    "L"
                  ],
                  "xaxis": "x",
                  "y": [
                    11253.869999999999,
                    723.62,
                    2236.9700000000003,
                    1903.35,
                    889.5,
                    3372.3,
                    1072.3899999999999,
                    2685.58,
                    3106.59,
                    13231.89,
                    3759.2200000000003,
                    1519.1999999999998
                  ],
                  "yaxis": "y"
                },
                {
                  "alignmentgroup": "True",
                  "hovertemplate": "ISO3=NZL<br>Ind Code=%{x}<br>Value (USD)=%{y}<extra></extra>",
                  "legendgroup": "NZL",
                  "marker": {
                    "color": "#EF553B",
                    "pattern": {
                      "shape": ""
                    }
                  },
                  "name": "NZL",
                  "offsetgroup": "NZL",
                  "orientation": "v",
                  "showlegend": true,
                  "textposition": "auto",
                  "type": "bar",
                  "x": [
                    "A",
                    "B",
                    "C",
                    "D",
                    "E",
                    "F",
                    "G",
                    "H",
                    "I",
                    "J",
                    "K"
                  ],
                  "xaxis": "x",
                  "y": [
                    7619.4,
                    437.98,
                    1111.22,
                    1117.9,
                    1546.44,
                    1033.9,
                    1043.41,
                    835.84,
                    607.5,
                    5600.27,
                    925.09
                  ],
                  "yaxis": "y"
                },
                {
                  "alignmentgroup": "True",
                  "hovertemplate": "ISO3=PER<br>Ind Code=%{x}<br>Value (USD)=%{y}<extra></extra>",
                  "legendgroup": "PER",
                  "marker": {
                    "color": "#00cc96",
                    "pattern": {
                      "shape": ""
                    }
                  },
                  "name": "PER",
                  "offsetgroup": "PER",
                  "orientation": "v",
                  "showlegend": true,
                  "textposition": "auto",
                  "type": "bar",
                  "x": [
                    "A",
                    "B",
                    "C",
                    "D",
                    "E",
                    "F",
                    "G",
                    "H",
                    "I",
                    "J",
                    "K"
                  ],
                  "xaxis": "x",
                  "y": [
                    8682.7,
                    3377.8,
                    672.7,
                    2133.2,
                    2553.6,
                    2635,
                    1365.6,
                    2640,
                    2703.3,
                    3370.2,
                    905.6
                  ],
                  "yaxis": "y"
                },
                {
                  "alignmentgroup": "True",
                  "hovertemplate": "ISO3=PHL<br>Ind Code=%{x}<br>Value (USD)=%{y}<extra></extra>",
                  "legendgroup": "PHL",
                  "marker": {
                    "color": "#ab63fa",
                    "pattern": {
                      "shape": ""
                    }
                  },
                  "name": "PHL",
                  "offsetgroup": "PHL",
                  "orientation": "v",
                  "showlegend": true,
                  "textposition": "auto",
                  "type": "bar",
                  "x": [
                    "A",
                    "B",
                    "C",
                    "D",
                    "E",
                    "F",
                    "G",
                    "H",
                    "I",
                    "J",
                    "K"
                  ],
                  "xaxis": "x",
                  "y": [
                    31261,
                    4862.3,
                    769.4,
                    941.8,
                    4330.1,
                    3429,
                    975.3,
                    1632.4,
                    1457.6,
                    16573.7,
                    2110
                  ],
                  "yaxis": "y"
                },
                {
                  "alignmentgroup": "True",
                  "hovertemplate": "ISO3=POL<br>Ind Code=%{x}<br>Value (USD)=%{y}<extra></extra>",
                  "legendgroup": "POL",
                  "marker": {
                    "color": "#FFA15A",
                    "pattern": {
                      "shape": ""
                    }
                  },
                  "name": "POL",
                  "offsetgroup": "POL",
                  "orientation": "v",
                  "showlegend": true,
                  "textposition": "auto",
                  "type": "bar",
                  "x": [
                    "A",
                    "B",
                    "C",
                    "D",
                    "E",
                    "F",
                    "G",
                    "H",
                    "I",
                    "J",
                    "K",
                    "L"
                  ],
                  "xaxis": "x",
                  "y": [
                    30424.1,
                    5935.63,
                    7521.719999999999,
                    10348.85,
                    5276.76,
                    13979.39,
                    15046.09,
                    11326.97,
                    5213.67,
                    47113.28,
                    20494.29,
                    11890.57
                  ],
                  "yaxis": "y"
                },
                {
                  "alignmentgroup": "True",
                  "hovertemplate": "ISO3=PRT<br>Ind Code=%{x}<br>Value (USD)=%{y}<extra></extra>",
                  "legendgroup": "PRT",
                  "marker": {
                    "color": "#19d3f3",
                    "pattern": {
                      "shape": ""
                    }
                  },
                  "name": "PRT",
                  "offsetgroup": "PRT",
                  "orientation": "v",
                  "showlegend": true,
                  "textposition": "auto",
                  "type": "bar",
                  "x": [
                    "A",
                    "B",
                    "C",
                    "D",
                    "E",
                    "F",
                    "G",
                    "H",
                    "I",
                    "J",
                    "K",
                    "L"
                  ],
                  "xaxis": "x",
                  "y": [
                    9607.48,
                    9743.95,
                    2349.72,
                    3519.7,
                    1189.49,
                    3782.6000000000004,
                    3031.86,
                    3366,
                    1057.95,
                    10363.78,
                    4535.93,
                    2758.47
                  ],
                  "yaxis": "y"
                },
                {
                  "alignmentgroup": "True",
                  "hovertemplate": "ISO3=ROU<br>Ind Code=%{x}<br>Value (USD)=%{y}<extra></extra>",
                  "legendgroup": "ROU",
                  "marker": {
                    "color": "#FF6692",
                    "pattern": {
                      "shape": ""
                    }
                  },
                  "name": "ROU",
                  "offsetgroup": "ROU",
                  "orientation": "v",
                  "showlegend": true,
                  "textposition": "auto",
                  "type": "bar",
                  "x": [
                    "A",
                    "B",
                    "C",
                    "D",
                    "E",
                    "F",
                    "G",
                    "H",
                    "I",
                    "J",
                    "K",
                    "L"
                  ],
                  "xaxis": "x",
                  "y": [
                    20865.690000000002,
                    6933.99,
                    2508.3199999999997,
                    2076.16,
                    4464.37,
                    3460.0600000000004,
                    3800.3199999999997,
                    3162.57,
                    3477.3199999999997,
                    15903.23,
                    13268.52,
                    3099.8599999999997
                  ],
                  "yaxis": "y"
                },
                {
                  "alignmentgroup": "True",
                  "hovertemplate": "ISO3=RUS<br>Ind Code=%{x}<br>Value (USD)=%{y}<extra></extra>",
                  "legendgroup": "RUS",
                  "marker": {
                    "color": "#B6E880",
                    "pattern": {
                      "shape": ""
                    }
                  },
                  "name": "RUS",
                  "offsetgroup": "RUS",
                  "orientation": "v",
                  "showlegend": true,
                  "textposition": "auto",
                  "type": "bar",
                  "x": [
                    "A",
                    "B",
                    "C",
                    "D",
                    "E",
                    "F",
                    "G",
                    "H",
                    "I",
                    "J",
                    "K",
                    "L"
                  ],
                  "xaxis": "x",
                  "y": [
                    55953.91,
                    7353.3,
                    8028.74,
                    13521.439999999999,
                    69351.04000000001,
                    43178.490000000005,
                    8039,
                    15087.849999999999,
                    66255.78,
                    54438.2,
                    34837.45,
                    6155.79
                  ],
                  "yaxis": "y"
                },
                {
                  "alignmentgroup": "True",
                  "hovertemplate": "ISO3=SAU<br>Ind Code=%{x}<br>Value (USD)=%{y}<extra></extra>",
                  "legendgroup": "SAU",
                  "marker": {
                    "color": "#FF97FF",
                    "pattern": {
                      "shape": ""
                    }
                  },
                  "name": "SAU",
                  "offsetgroup": "SAU",
                  "orientation": "v",
                  "showlegend": true,
                  "textposition": "auto",
                  "type": "bar",
                  "x": [
                    "A",
                    "B",
                    "C",
                    "D",
                    "E",
                    "F",
                    "G",
                    "H",
                    "I",
                    "J",
                    "K"
                  ],
                  "xaxis": "x",
                  "y": [
                    13690.1,
                    2858.8,
                    992.8,
                    3834.2,
                    26709.4,
                    25402.5,
                    2581.1,
                    5127.6,
                    4290.6,
                    10529.8,
                    1206.3
                  ],
                  "yaxis": "y"
                },
                {
                  "alignmentgroup": "True",
                  "hovertemplate": "ISO3=SGP<br>Ind Code=%{x}<br>Value (USD)=%{y}<extra></extra>",
                  "legendgroup": "SGP",
                  "marker": {
                    "color": "#FECB52",
                    "pattern": {
                      "shape": ""
                    }
                  },
                  "name": "SGP",
                  "offsetgroup": "SGP",
                  "orientation": "v",
                  "showlegend": true,
                  "textposition": "auto",
                  "type": "bar",
                  "x": [
                    "A",
                    "B",
                    "C",
                    "D",
                    "E",
                    "F",
                    "G",
                    "H",
                    "I",
                    "J",
                    "K"
                  ],
                  "xaxis": "x",
                  "y": [
                    3262.9,
                    408.2,
                    130.6,
                    1117.7,
                    4674.7,
                    22591.2,
                    685.2,
                    355.1,
                    445.3,
                    26074.3,
                    6335.6
                  ],
                  "yaxis": "y"
                },
                {
                  "alignmentgroup": "True",
                  "hovertemplate": "ISO3=SRB<br>Ind Code=%{x}<br>Value (USD)=%{y}<extra></extra>",
                  "legendgroup": "SRB",
                  "marker": {
                    "color": "#636efa",
                    "pattern": {
                      "shape": ""
                    }
                  },
                  "name": "SRB",
                  "offsetgroup": "SRB",
                  "orientation": "v",
                  "showlegend": true,
                  "textposition": "auto",
                  "type": "bar",
                  "x": [
                    "A",
                    "B",
                    "C",
                    "D",
                    "E",
                    "F",
                    "G",
                    "H",
                    "I",
                    "J",
                    "K",
                    "L"
                  ],
                  "xaxis": "x",
                  "y": [
                    3253.02,
                    1020.8799999999999,
                    337.56,
                    628.5799999999999,
                    1122.6799999999998,
                    1156.05,
                    1129.93,
                    599.49,
                    178.49,
                    2850.42,
                    762.55,
                    557.98
                  ],
                  "yaxis": "y"
                },
                {
                  "alignmentgroup": "True",
                  "hovertemplate": "ISO3=SVN<br>Ind Code=%{x}<br>Value (USD)=%{y}<extra></extra>",
                  "legendgroup": "SVN",
                  "marker": {
                    "color": "#EF553B",
                    "pattern": {
                      "shape": ""
                    }
                  },
                  "name": "SVN",
                  "offsetgroup": "SVN",
                  "orientation": "v",
                  "showlegend": true,
                  "textposition": "auto",
                  "type": "bar",
                  "x": [
                    "A",
                    "B",
                    "C",
                    "D",
                    "E",
                    "F",
                    "G",
                    "H",
                    "I",
                    "J",
                    "K",
                    "L"
                  ],
                  "xaxis": "x",
                  "y": [
                    1449.05,
                    577.19,
                    685.97,
                    816.49,
                    2.75,
                    3310.38,
                    1518.19,
                    790.71,
                    1117.2199999999998,
                    7366.360000000001,
                    1827.0500000000002,
                    893.13
                  ],
                  "yaxis": "y"
                },
                {
                  "alignmentgroup": "True",
                  "hovertemplate": "ISO3=SWE<br>Ind Code=%{x}<br>Value (USD)=%{y}<extra></extra>",
                  "legendgroup": "SWE",
                  "marker": {
                    "color": "#00cc96",
                    "pattern": {
                      "shape": ""
                    }
                  },
                  "name": "SWE",
                  "offsetgroup": "SWE",
                  "orientation": "v",
                  "showlegend": true,
                  "textposition": "auto",
                  "type": "bar",
                  "x": [
                    "A",
                    "B",
                    "C",
                    "D",
                    "E",
                    "F",
                    "G",
                    "H",
                    "I",
                    "J",
                    "K",
                    "L"
                  ],
                  "xaxis": "x",
                  "y": [
                    11019.619999999999,
                    1103.05,
                    5325.26,
                    12879.61,
                    1626.82,
                    8080.8,
                    4095.62,
                    3681.14,
                    7769.8099999999995,
                    45268.770000000004,
                    31154.07,
                    4206.91
                  ],
                  "yaxis": "y"
                },
                {
                  "alignmentgroup": "True",
                  "hovertemplate": "ISO3=THA<br>Ind Code=%{x}<br>Value (USD)=%{y}<extra></extra>",
                  "legendgroup": "THA",
                  "marker": {
                    "color": "#ab63fa",
                    "pattern": {
                      "shape": ""
                    }
                  },
                  "name": "THA",
                  "offsetgroup": "THA",
                  "orientation": "v",
                  "showlegend": true,
                  "textposition": "auto",
                  "type": "bar",
                  "x": [
                    "A",
                    "B",
                    "C",
                    "D",
                    "E",
                    "F",
                    "G",
                    "H",
                    "I",
                    "J",
                    "K"
                  ],
                  "xaxis": "x",
                  "y": [
                    23402.9,
                    14716.7,
                    1376.5,
                    2904.4,
                    6622.6,
                    12403.4,
                    6561.5,
                    5439,
                    3414.9,
                    32593.5,
                    13514.5
                  ],
                  "yaxis": "y"
                },
                {
                  "alignmentgroup": "True",
                  "hovertemplate": "ISO3=TUN<br>Ind Code=%{x}<br>Value (USD)=%{y}<extra></extra>",
                  "legendgroup": "TUN",
                  "marker": {
                    "color": "#FFA15A",
                    "pattern": {
                      "shape": ""
                    }
                  },
                  "name": "TUN",
                  "offsetgroup": "TUN",
                  "orientation": "v",
                  "showlegend": true,
                  "textposition": "auto",
                  "type": "bar",
                  "x": [
                    "A",
                    "B",
                    "C",
                    "D",
                    "E",
                    "F",
                    "G",
                    "H",
                    "I",
                    "J",
                    "K"
                  ],
                  "xaxis": "x",
                  "y": [
                    1200.3,
                    1498,
                    120.9,
                    175.2,
                    29.4,
                    532,
                    95.8,
                    438.5,
                    66.2,
                    1465.9,
                    428.4
                  ],
                  "yaxis": "y"
                },
                {
                  "alignmentgroup": "True",
                  "hovertemplate": "ISO3=TWN<br>Ind Code=%{x}<br>Value (USD)=%{y}<extra></extra>",
                  "legendgroup": "TWN",
                  "marker": {
                    "color": "#19d3f3",
                    "pattern": {
                      "shape": ""
                    }
                  },
                  "name": "TWN",
                  "offsetgroup": "TWN",
                  "orientation": "v",
                  "showlegend": true,
                  "textposition": "auto",
                  "type": "bar",
                  "x": [
                    "A",
                    "B",
                    "C",
                    "D",
                    "E",
                    "F",
                    "G",
                    "H",
                    "I",
                    "J",
                    "K"
                  ],
                  "xaxis": "x",
                  "y": [
                    8448.6,
                    5359,
                    446,
                    3524.9,
                    6090.8,
                    16302.5,
                    6164.6,
                    3607.6,
                    10327.9,
                    105364.1,
                    8987
                  ],
                  "yaxis": "y"
                },
                {
                  "alignmentgroup": "True",
                  "hovertemplate": "ISO3=USA<br>Ind Code=%{x}<br>Value (USD)=%{y}<extra></extra>",
                  "legendgroup": "USA",
                  "marker": {
                    "color": "#FF6692",
                    "pattern": {
                      "shape": ""
                    }
                  },
                  "name": "USA",
                  "offsetgroup": "USA",
                  "orientation": "v",
                  "showlegend": true,
                  "textposition": "auto",
                  "type": "bar",
                  "x": [
                    "A",
                    "B",
                    "C",
                    "D",
                    "E",
                    "F",
                    "G",
                    "H",
                    "I",
                    "J",
                    "K",
                    "L"
                  ],
                  "xaxis": "x",
                  "y": [
                    489671.68,
                    51709.31,
                    72966.36,
                    200966.41999999998,
                    347503.28,
                    730585.53,
                    164587.07,
                    127383.07,
                    149390.59,
                    1390193.12,
                    615203.81,
                    240756.36
                  ],
                  "yaxis": "y"
                },
                {
                  "alignmentgroup": "True",
                  "hovertemplate": "ISO3=VNM<br>Ind Code=%{x}<br>Value (USD)=%{y}<extra></extra>",
                  "legendgroup": "VNM",
                  "marker": {
                    "color": "#B6E880",
                    "pattern": {
                      "shape": ""
                    }
                  },
                  "name": "VNM",
                  "offsetgroup": "VNM",
                  "orientation": "v",
                  "showlegend": true,
                  "textposition": "auto",
                  "type": "bar",
                  "x": [
                    "A",
                    "B",
                    "C",
                    "D",
                    "E",
                    "F",
                    "G",
                    "H",
                    "I",
                    "J",
                    "K"
                  ],
                  "xaxis": "x",
                  "y": [
                    11541.3,
                    18104,
                    1072.3,
                    2006,
                    1854.3,
                    4420.5,
                    3245.1,
                    5242.7,
                    3187.3,
                    15834.2,
                    4146.7
                  ],
                  "yaxis": "y"
                },
                {
                  "alignmentgroup": "True",
                  "hovertemplate": "ISO3=ZAF<br>Ind Code=%{x}<br>Value (USD)=%{y}<extra></extra>",
                  "legendgroup": "ZAF",
                  "marker": {
                    "color": "#FF97FF",
                    "pattern": {
                      "shape": ""
                    }
                  },
                  "name": "ZAF",
                  "offsetgroup": "ZAF",
                  "orientation": "v",
                  "showlegend": true,
                  "textposition": "auto",
                  "type": "bar",
                  "x": [
                    "A",
                    "B",
                    "C",
                    "D",
                    "E",
                    "F",
                    "G",
                    "H",
                    "I",
                    "J",
                    "K"
                  ],
                  "xaxis": "x",
                  "y": [
                    13380.3,
                    1577.4,
                    1955.3,
                    2453.1,
                    3519.4,
                    5117,
                    1740.9,
                    1351.6,
                    3002.9,
                    6779.5,
                    4299.4
                  ],
                  "yaxis": "y"
                }
              ],
              "layout": {
                "barmode": "relative",
                "legend": {
                  "title": {
                    "text": "ISO3"
                  },
                  "tracegroupgap": 0
                },
                "template": {
                  "data": {
                    "bar": [
                      {
                        "error_x": {
                          "color": "#2a3f5f"
                        },
                        "error_y": {
                          "color": "#2a3f5f"
                        },
                        "marker": {
                          "line": {
                            "color": "#E5ECF6",
                            "width": 0.5
                          },
                          "pattern": {
                            "fillmode": "overlay",
                            "size": 10,
                            "solidity": 0.2
                          }
                        },
                        "type": "bar"
                      }
                    ],
                    "barpolar": [
                      {
                        "marker": {
                          "line": {
                            "color": "#E5ECF6",
                            "width": 0.5
                          },
                          "pattern": {
                            "fillmode": "overlay",
                            "size": 10,
                            "solidity": 0.2
                          }
                        },
                        "type": "barpolar"
                      }
                    ],
                    "carpet": [
                      {
                        "aaxis": {
                          "endlinecolor": "#2a3f5f",
                          "gridcolor": "white",
                          "linecolor": "white",
                          "minorgridcolor": "white",
                          "startlinecolor": "#2a3f5f"
                        },
                        "baxis": {
                          "endlinecolor": "#2a3f5f",
                          "gridcolor": "white",
                          "linecolor": "white",
                          "minorgridcolor": "white",
                          "startlinecolor": "#2a3f5f"
                        },
                        "type": "carpet"
                      }
                    ],
                    "choropleth": [
                      {
                        "colorbar": {
                          "outlinewidth": 0,
                          "ticks": ""
                        },
                        "type": "choropleth"
                      }
                    ],
                    "contour": [
                      {
                        "colorbar": {
                          "outlinewidth": 0,
                          "ticks": ""
                        },
                        "colorscale": [
                          [
                            0,
                            "#0d0887"
                          ],
                          [
                            0.1111111111111111,
                            "#46039f"
                          ],
                          [
                            0.2222222222222222,
                            "#7201a8"
                          ],
                          [
                            0.3333333333333333,
                            "#9c179e"
                          ],
                          [
                            0.4444444444444444,
                            "#bd3786"
                          ],
                          [
                            0.5555555555555556,
                            "#d8576b"
                          ],
                          [
                            0.6666666666666666,
                            "#ed7953"
                          ],
                          [
                            0.7777777777777778,
                            "#fb9f3a"
                          ],
                          [
                            0.8888888888888888,
                            "#fdca26"
                          ],
                          [
                            1,
                            "#f0f921"
                          ]
                        ],
                        "type": "contour"
                      }
                    ],
                    "contourcarpet": [
                      {
                        "colorbar": {
                          "outlinewidth": 0,
                          "ticks": ""
                        },
                        "type": "contourcarpet"
                      }
                    ],
                    "heatmap": [
                      {
                        "colorbar": {
                          "outlinewidth": 0,
                          "ticks": ""
                        },
                        "colorscale": [
                          [
                            0,
                            "#0d0887"
                          ],
                          [
                            0.1111111111111111,
                            "#46039f"
                          ],
                          [
                            0.2222222222222222,
                            "#7201a8"
                          ],
                          [
                            0.3333333333333333,
                            "#9c179e"
                          ],
                          [
                            0.4444444444444444,
                            "#bd3786"
                          ],
                          [
                            0.5555555555555556,
                            "#d8576b"
                          ],
                          [
                            0.6666666666666666,
                            "#ed7953"
                          ],
                          [
                            0.7777777777777778,
                            "#fb9f3a"
                          ],
                          [
                            0.8888888888888888,
                            "#fdca26"
                          ],
                          [
                            1,
                            "#f0f921"
                          ]
                        ],
                        "type": "heatmap"
                      }
                    ],
                    "heatmapgl": [
                      {
                        "colorbar": {
                          "outlinewidth": 0,
                          "ticks": ""
                        },
                        "colorscale": [
                          [
                            0,
                            "#0d0887"
                          ],
                          [
                            0.1111111111111111,
                            "#46039f"
                          ],
                          [
                            0.2222222222222222,
                            "#7201a8"
                          ],
                          [
                            0.3333333333333333,
                            "#9c179e"
                          ],
                          [
                            0.4444444444444444,
                            "#bd3786"
                          ],
                          [
                            0.5555555555555556,
                            "#d8576b"
                          ],
                          [
                            0.6666666666666666,
                            "#ed7953"
                          ],
                          [
                            0.7777777777777778,
                            "#fb9f3a"
                          ],
                          [
                            0.8888888888888888,
                            "#fdca26"
                          ],
                          [
                            1,
                            "#f0f921"
                          ]
                        ],
                        "type": "heatmapgl"
                      }
                    ],
                    "histogram": [
                      {
                        "marker": {
                          "pattern": {
                            "fillmode": "overlay",
                            "size": 10,
                            "solidity": 0.2
                          }
                        },
                        "type": "histogram"
                      }
                    ],
                    "histogram2d": [
                      {
                        "colorbar": {
                          "outlinewidth": 0,
                          "ticks": ""
                        },
                        "colorscale": [
                          [
                            0,
                            "#0d0887"
                          ],
                          [
                            0.1111111111111111,
                            "#46039f"
                          ],
                          [
                            0.2222222222222222,
                            "#7201a8"
                          ],
                          [
                            0.3333333333333333,
                            "#9c179e"
                          ],
                          [
                            0.4444444444444444,
                            "#bd3786"
                          ],
                          [
                            0.5555555555555556,
                            "#d8576b"
                          ],
                          [
                            0.6666666666666666,
                            "#ed7953"
                          ],
                          [
                            0.7777777777777778,
                            "#fb9f3a"
                          ],
                          [
                            0.8888888888888888,
                            "#fdca26"
                          ],
                          [
                            1,
                            "#f0f921"
                          ]
                        ],
                        "type": "histogram2d"
                      }
                    ],
                    "histogram2dcontour": [
                      {
                        "colorbar": {
                          "outlinewidth": 0,
                          "ticks": ""
                        },
                        "colorscale": [
                          [
                            0,
                            "#0d0887"
                          ],
                          [
                            0.1111111111111111,
                            "#46039f"
                          ],
                          [
                            0.2222222222222222,
                            "#7201a8"
                          ],
                          [
                            0.3333333333333333,
                            "#9c179e"
                          ],
                          [
                            0.4444444444444444,
                            "#bd3786"
                          ],
                          [
                            0.5555555555555556,
                            "#d8576b"
                          ],
                          [
                            0.6666666666666666,
                            "#ed7953"
                          ],
                          [
                            0.7777777777777778,
                            "#fb9f3a"
                          ],
                          [
                            0.8888888888888888,
                            "#fdca26"
                          ],
                          [
                            1,
                            "#f0f921"
                          ]
                        ],
                        "type": "histogram2dcontour"
                      }
                    ],
                    "mesh3d": [
                      {
                        "colorbar": {
                          "outlinewidth": 0,
                          "ticks": ""
                        },
                        "type": "mesh3d"
                      }
                    ],
                    "parcoords": [
                      {
                        "line": {
                          "colorbar": {
                            "outlinewidth": 0,
                            "ticks": ""
                          }
                        },
                        "type": "parcoords"
                      }
                    ],
                    "pie": [
                      {
                        "automargin": true,
                        "type": "pie"
                      }
                    ],
                    "scatter": [
                      {
                        "fillpattern": {
                          "fillmode": "overlay",
                          "size": 10,
                          "solidity": 0.2
                        },
                        "type": "scatter"
                      }
                    ],
                    "scatter3d": [
                      {
                        "line": {
                          "colorbar": {
                            "outlinewidth": 0,
                            "ticks": ""
                          }
                        },
                        "marker": {
                          "colorbar": {
                            "outlinewidth": 0,
                            "ticks": ""
                          }
                        },
                        "type": "scatter3d"
                      }
                    ],
                    "scattercarpet": [
                      {
                        "marker": {
                          "colorbar": {
                            "outlinewidth": 0,
                            "ticks": ""
                          }
                        },
                        "type": "scattercarpet"
                      }
                    ],
                    "scattergeo": [
                      {
                        "marker": {
                          "colorbar": {
                            "outlinewidth": 0,
                            "ticks": ""
                          }
                        },
                        "type": "scattergeo"
                      }
                    ],
                    "scattergl": [
                      {
                        "marker": {
                          "colorbar": {
                            "outlinewidth": 0,
                            "ticks": ""
                          }
                        },
                        "type": "scattergl"
                      }
                    ],
                    "scattermapbox": [
                      {
                        "marker": {
                          "colorbar": {
                            "outlinewidth": 0,
                            "ticks": ""
                          }
                        },
                        "type": "scattermapbox"
                      }
                    ],
                    "scatterpolar": [
                      {
                        "marker": {
                          "colorbar": {
                            "outlinewidth": 0,
                            "ticks": ""
                          }
                        },
                        "type": "scatterpolar"
                      }
                    ],
                    "scatterpolargl": [
                      {
                        "marker": {
                          "colorbar": {
                            "outlinewidth": 0,
                            "ticks": ""
                          }
                        },
                        "type": "scatterpolargl"
                      }
                    ],
                    "scatterternary": [
                      {
                        "marker": {
                          "colorbar": {
                            "outlinewidth": 0,
                            "ticks": ""
                          }
                        },
                        "type": "scatterternary"
                      }
                    ],
                    "surface": [
                      {
                        "colorbar": {
                          "outlinewidth": 0,
                          "ticks": ""
                        },
                        "colorscale": [
                          [
                            0,
                            "#0d0887"
                          ],
                          [
                            0.1111111111111111,
                            "#46039f"
                          ],
                          [
                            0.2222222222222222,
                            "#7201a8"
                          ],
                          [
                            0.3333333333333333,
                            "#9c179e"
                          ],
                          [
                            0.4444444444444444,
                            "#bd3786"
                          ],
                          [
                            0.5555555555555556,
                            "#d8576b"
                          ],
                          [
                            0.6666666666666666,
                            "#ed7953"
                          ],
                          [
                            0.7777777777777778,
                            "#fb9f3a"
                          ],
                          [
                            0.8888888888888888,
                            "#fdca26"
                          ],
                          [
                            1,
                            "#f0f921"
                          ]
                        ],
                        "type": "surface"
                      }
                    ],
                    "table": [
                      {
                        "cells": {
                          "fill": {
                            "color": "#EBF0F8"
                          },
                          "line": {
                            "color": "white"
                          }
                        },
                        "header": {
                          "fill": {
                            "color": "#C8D4E3"
                          },
                          "line": {
                            "color": "white"
                          }
                        },
                        "type": "table"
                      }
                    ]
                  },
                  "layout": {
                    "annotationdefaults": {
                      "arrowcolor": "#2a3f5f",
                      "arrowhead": 0,
                      "arrowwidth": 1
                    },
                    "autotypenumbers": "strict",
                    "coloraxis": {
                      "colorbar": {
                        "outlinewidth": 0,
                        "ticks": ""
                      }
                    },
                    "colorscale": {
                      "diverging": [
                        [
                          0,
                          "#8e0152"
                        ],
                        [
                          0.1,
                          "#c51b7d"
                        ],
                        [
                          0.2,
                          "#de77ae"
                        ],
                        [
                          0.3,
                          "#f1b6da"
                        ],
                        [
                          0.4,
                          "#fde0ef"
                        ],
                        [
                          0.5,
                          "#f7f7f7"
                        ],
                        [
                          0.6,
                          "#e6f5d0"
                        ],
                        [
                          0.7,
                          "#b8e186"
                        ],
                        [
                          0.8,
                          "#7fbc41"
                        ],
                        [
                          0.9,
                          "#4d9221"
                        ],
                        [
                          1,
                          "#276419"
                        ]
                      ],
                      "sequential": [
                        [
                          0,
                          "#0d0887"
                        ],
                        [
                          0.1111111111111111,
                          "#46039f"
                        ],
                        [
                          0.2222222222222222,
                          "#7201a8"
                        ],
                        [
                          0.3333333333333333,
                          "#9c179e"
                        ],
                        [
                          0.4444444444444444,
                          "#bd3786"
                        ],
                        [
                          0.5555555555555556,
                          "#d8576b"
                        ],
                        [
                          0.6666666666666666,
                          "#ed7953"
                        ],
                        [
                          0.7777777777777778,
                          "#fb9f3a"
                        ],
                        [
                          0.8888888888888888,
                          "#fdca26"
                        ],
                        [
                          1,
                          "#f0f921"
                        ]
                      ],
                      "sequentialminus": [
                        [
                          0,
                          "#0d0887"
                        ],
                        [
                          0.1111111111111111,
                          "#46039f"
                        ],
                        [
                          0.2222222222222222,
                          "#7201a8"
                        ],
                        [
                          0.3333333333333333,
                          "#9c179e"
                        ],
                        [
                          0.4444444444444444,
                          "#bd3786"
                        ],
                        [
                          0.5555555555555556,
                          "#d8576b"
                        ],
                        [
                          0.6666666666666666,
                          "#ed7953"
                        ],
                        [
                          0.7777777777777778,
                          "#fb9f3a"
                        ],
                        [
                          0.8888888888888888,
                          "#fdca26"
                        ],
                        [
                          1,
                          "#f0f921"
                        ]
                      ]
                    },
                    "colorway": [
                      "#636efa",
                      "#EF553B",
                      "#00cc96",
                      "#ab63fa",
                      "#FFA15A",
                      "#19d3f3",
                      "#FF6692",
                      "#B6E880",
                      "#FF97FF",
                      "#FECB52"
                    ],
                    "font": {
                      "color": "#2a3f5f"
                    },
                    "geo": {
                      "bgcolor": "white",
                      "lakecolor": "white",
                      "landcolor": "#E5ECF6",
                      "showlakes": true,
                      "showland": true,
                      "subunitcolor": "white"
                    },
                    "hoverlabel": {
                      "align": "left"
                    },
                    "hovermode": "closest",
                    "mapbox": {
                      "style": "light"
                    },
                    "paper_bgcolor": "white",
                    "plot_bgcolor": "#E5ECF6",
                    "polar": {
                      "angularaxis": {
                        "gridcolor": "white",
                        "linecolor": "white",
                        "ticks": ""
                      },
                      "bgcolor": "#E5ECF6",
                      "radialaxis": {
                        "gridcolor": "white",
                        "linecolor": "white",
                        "ticks": ""
                      }
                    },
                    "scene": {
                      "xaxis": {
                        "backgroundcolor": "#E5ECF6",
                        "gridcolor": "white",
                        "gridwidth": 2,
                        "linecolor": "white",
                        "showbackground": true,
                        "ticks": "",
                        "zerolinecolor": "white"
                      },
                      "yaxis": {
                        "backgroundcolor": "#E5ECF6",
                        "gridcolor": "white",
                        "gridwidth": 2,
                        "linecolor": "white",
                        "showbackground": true,
                        "ticks": "",
                        "zerolinecolor": "white"
                      },
                      "zaxis": {
                        "backgroundcolor": "#E5ECF6",
                        "gridcolor": "white",
                        "gridwidth": 2,
                        "linecolor": "white",
                        "showbackground": true,
                        "ticks": "",
                        "zerolinecolor": "white"
                      }
                    },
                    "shapedefaults": {
                      "line": {
                        "color": "#2a3f5f"
                      }
                    },
                    "ternary": {
                      "aaxis": {
                        "gridcolor": "white",
                        "linecolor": "white",
                        "ticks": ""
                      },
                      "baxis": {
                        "gridcolor": "white",
                        "linecolor": "white",
                        "ticks": ""
                      },
                      "bgcolor": "#E5ECF6",
                      "caxis": {
                        "gridcolor": "white",
                        "linecolor": "white",
                        "ticks": ""
                      }
                    },
                    "title": {
                      "x": 0.05
                    },
                    "xaxis": {
                      "automargin": true,
                      "gridcolor": "white",
                      "linecolor": "white",
                      "ticks": "",
                      "title": {
                        "standoff": 15
                      },
                      "zerolinecolor": "white",
                      "zerolinewidth": 2
                    },
                    "yaxis": {
                      "automargin": true,
                      "gridcolor": "white",
                      "linecolor": "white",
                      "ticks": "",
                      "title": {
                        "standoff": 15
                      },
                      "zerolinecolor": "white",
                      "zerolinewidth": 2
                    }
                  }
                },
                "title": {
                  "text": "Value (USD) for Each Industry in 2018 by Country"
                },
                "xaxis": {
                  "anchor": "y",
                  "domain": [
                    0,
                    1
                  ],
                  "title": {
                    "text": "Ind Code"
                  }
                },
                "yaxis": {
                  "anchor": "x",
                  "domain": [
                    0,
                    1
                  ],
                  "title": {
                    "text": "Value (USD)"
                  }
                }
              }
            }
          },
          "metadata": {},
          "output_type": "display_data"
        }
      ],
      "source": [
        "# Aggregate data by industry and country\n",
        "aggregated_data = df_eng_final_2018.groupby(['Ind Code', 'ISO3'])['Value (USD)'].sum().reset_index()\n",
        "\n",
        "# Create the bar chart\n",
        "fig = px.bar(aggregated_data, x='Ind Code', y='Value (USD)', color='ISO3', title='Value (USD) for Each Industry in 2018 by Country')\n",
        "\n",
        "\n",
        "# Show the plot\n",
        "fig.show()"
      ]
    },
    {
      "cell_type": "code",
      "execution_count": 18,
      "metadata": {},
      "outputs": [
        {
          "data": {
            "application/vnd.microsoft.datawrangler.viewer.v0+json": {
              "columns": [
                {
                  "name": "index",
                  "rawType": "int64",
                  "type": "integer"
                },
                {
                  "name": "Ind Code",
                  "rawType": "object",
                  "type": "string"
                },
                {
                  "name": "Industry",
                  "rawType": "object",
                  "type": "string"
                }
              ],
              "conversionMethod": "pd.DataFrame",
              "ref": "02a29996-47d4-4b6e-90e7-84995d10c1bd",
              "rows": [
                [
                  "0",
                  "A",
                  "Manufacture of food products, beverages and tobacco products"
                ],
                [
                  "1",
                  "B",
                  "Manufacture of textiles, wearing apparel, leather and related products"
                ],
                [
                  "2",
                  "C",
                  "Manufacture of wood and of products of wood and cork, except furniture; manufacture of articles of straw and plaiting materials"
                ],
                [
                  "3",
                  "D",
                  "Manufacture of paper products and printing"
                ],
                [
                  "4",
                  "E",
                  "Manufacture of coke and refined petroleum products"
                ],
                [
                  "5",
                  "F",
                  "Manufacturing of chemicals and pharmaceutical products"
                ],
                [
                  "6",
                  "G",
                  "Manufacture of rubber and plastics products"
                ],
                [
                  "7",
                  "H",
                  "Manufacture of other non-metallic mineral products"
                ],
                [
                  "8",
                  "I",
                  "Manufacture of basic metals"
                ],
                [
                  "9",
                  "J",
                  "Manufacture of fabricated metal products, machinery and equipment"
                ],
                [
                  "10",
                  "K",
                  "Manufacture of transport equipment"
                ],
                [
                  "11",
                  "L",
                  "Manufacture of furniture, other manufacturing"
                ]
              ],
              "shape": {
                "columns": 2,
                "rows": 12
              }
            },
            "text/html": [
              "<div>\n",
              "<style scoped>\n",
              "    .dataframe tbody tr th:only-of-type {\n",
              "        vertical-align: middle;\n",
              "    }\n",
              "\n",
              "    .dataframe tbody tr th {\n",
              "        vertical-align: top;\n",
              "    }\n",
              "\n",
              "    .dataframe thead th {\n",
              "        text-align: right;\n",
              "    }\n",
              "</style>\n",
              "<table border=\"1\" class=\"dataframe\">\n",
              "  <thead>\n",
              "    <tr style=\"text-align: right;\">\n",
              "      <th></th>\n",
              "      <th>Ind Code</th>\n",
              "      <th>Industry</th>\n",
              "    </tr>\n",
              "  </thead>\n",
              "  <tbody>\n",
              "    <tr>\n",
              "      <th>0</th>\n",
              "      <td>A</td>\n",
              "      <td>Manufacture of food products, beverages and to...</td>\n",
              "    </tr>\n",
              "    <tr>\n",
              "      <th>1</th>\n",
              "      <td>B</td>\n",
              "      <td>Manufacture of textiles, wearing apparel, leat...</td>\n",
              "    </tr>\n",
              "    <tr>\n",
              "      <th>2</th>\n",
              "      <td>C</td>\n",
              "      <td>Manufacture of wood and of products of wood an...</td>\n",
              "    </tr>\n",
              "    <tr>\n",
              "      <th>3</th>\n",
              "      <td>D</td>\n",
              "      <td>Manufacture of paper products and printing</td>\n",
              "    </tr>\n",
              "    <tr>\n",
              "      <th>4</th>\n",
              "      <td>E</td>\n",
              "      <td>Manufacture of coke and refined petroleum prod...</td>\n",
              "    </tr>\n",
              "    <tr>\n",
              "      <th>5</th>\n",
              "      <td>F</td>\n",
              "      <td>Manufacturing of chemicals and pharmaceutical ...</td>\n",
              "    </tr>\n",
              "    <tr>\n",
              "      <th>6</th>\n",
              "      <td>G</td>\n",
              "      <td>Manufacture of rubber and plastics products</td>\n",
              "    </tr>\n",
              "    <tr>\n",
              "      <th>7</th>\n",
              "      <td>H</td>\n",
              "      <td>Manufacture of other non-metallic mineral prod...</td>\n",
              "    </tr>\n",
              "    <tr>\n",
              "      <th>8</th>\n",
              "      <td>I</td>\n",
              "      <td>Manufacture of basic metals</td>\n",
              "    </tr>\n",
              "    <tr>\n",
              "      <th>9</th>\n",
              "      <td>J</td>\n",
              "      <td>Manufacture of fabricated metal products, mach...</td>\n",
              "    </tr>\n",
              "    <tr>\n",
              "      <th>10</th>\n",
              "      <td>K</td>\n",
              "      <td>Manufacture of transport equipment</td>\n",
              "    </tr>\n",
              "    <tr>\n",
              "      <th>11</th>\n",
              "      <td>L</td>\n",
              "      <td>Manufacture of furniture, other manufacturing</td>\n",
              "    </tr>\n",
              "  </tbody>\n",
              "</table>\n",
              "</div>"
            ],
            "text/plain": [
              "   Ind Code                                           Industry\n",
              "0         A  Manufacture of food products, beverages and to...\n",
              "1         B  Manufacture of textiles, wearing apparel, leat...\n",
              "2         C  Manufacture of wood and of products of wood an...\n",
              "3         D         Manufacture of paper products and printing\n",
              "4         E  Manufacture of coke and refined petroleum prod...\n",
              "5         F  Manufacturing of chemicals and pharmaceutical ...\n",
              "6         G        Manufacture of rubber and plastics products\n",
              "7         H  Manufacture of other non-metallic mineral prod...\n",
              "8         I                        Manufacture of basic metals\n",
              "9         J  Manufacture of fabricated metal products, mach...\n",
              "10        K                 Manufacture of transport equipment\n",
              "11        L      Manufacture of furniture, other manufacturing"
            ]
          },
          "execution_count": 18,
          "metadata": {},
          "output_type": "execute_result"
        }
      ],
      "source": [
        "industry_ref"
      ]
    },
    {
      "cell_type": "markdown",
      "metadata": {},
      "source": [
        "The bar chart supports our findings in the sunburst chart that most of the value in each specific industry is coming from the countries with the most value overall. Using this information, we shall filter our dataset to only include the top 10."
      ]
    },
    {
      "cell_type": "markdown",
      "metadata": {},
      "source": [
        "---"
      ]
    },
    {
      "cell_type": "markdown",
      "metadata": {},
      "source": [
        "## Top 15 countries"
      ]
    },
    {
      "cell_type": "markdown",
      "metadata": {},
      "source": [
        "Lets check which countries were in the top 15"
      ]
    },
    {
      "cell_type": "code",
      "execution_count": 10,
      "metadata": {},
      "outputs": [
        {
          "data": {
            "application/vnd.microsoft.datawrangler.viewer.v0+json": {
              "columns": [
                {
                  "name": "index",
                  "rawType": "int64",
                  "type": "integer"
                },
                {
                  "name": "Year",
                  "rawType": "int64",
                  "type": "integer"
                },
                {
                  "name": "Country",
                  "rawType": "object",
                  "type": "string"
                },
                {
                  "name": "ISO3",
                  "rawType": "object",
                  "type": "string"
                },
                {
                  "name": "Continent",
                  "rawType": "object",
                  "type": "string"
                },
                {
                  "name": "Ind Code",
                  "rawType": "object",
                  "type": "string"
                },
                {
                  "name": "Industry",
                  "rawType": "object",
                  "type": "string"
                },
                {
                  "name": "Measure",
                  "rawType": "object",
                  "type": "string"
                },
                {
                  "name": "Value (LCU)",
                  "rawType": "float64",
                  "type": "float"
                },
                {
                  "name": "Value (USD)",
                  "rawType": "float64",
                  "type": "float"
                },
                {
                  "name": "Exchange Rate",
                  "rawType": "float64",
                  "type": "float"
                },
                {
                  "name": "Volatility",
                  "rawType": "float64",
                  "type": "float"
                }
              ],
              "conversionMethod": "pd.DataFrame",
              "ref": "4a62caab-0a78-47af-9f30-be15906d73ce",
              "rows": [
                [
                  "1257",
                  "2018",
                  "Brazil",
                  "BRA",
                  "South America",
                  "A",
                  "Manufacture of food products, beverages and tobacco products",
                  "Current prices",
                  "177448.03",
                  "48565.0",
                  "0.2736857659112924",
                  "0.1017184520236824"
                ],
                [
                  "1258",
                  "2018",
                  "Brazil",
                  "BRA",
                  "South America",
                  "B",
                  "Manufacture of textiles, wearing apparel, leather and related products",
                  "Current prices",
                  "67882.23",
                  "18578.4",
                  "0.2736857643009076",
                  "0.1017184520236824"
                ],
                [
                  "1259",
                  "2018",
                  "Brazil",
                  "BRA",
                  "South America",
                  "C",
                  "Manufacture of wood and of products of wood and cork, except furniture; manufacture of articles of straw and plaiting materials",
                  "Current prices",
                  "12896.18",
                  "3529.5",
                  "0.2736856960743414",
                  "0.1017184520236824"
                ],
                [
                  "1260",
                  "2018",
                  "Brazil",
                  "BRA",
                  "South America",
                  "D",
                  "Manufacture of paper products and printing",
                  "Current prices",
                  "47377.69",
                  "12966.6",
                  "0.273685779108268",
                  "0.1017184520236824"
                ],
                [
                  "1261",
                  "2018",
                  "Brazil",
                  "BRA",
                  "South America",
                  "E",
                  "Manufacture of coke and refined petroleum products",
                  "Current prices",
                  "102434.63",
                  "28034.9",
                  "0.2736857642771785",
                  "0.1017184520236824"
                ],
                [
                  "1262",
                  "2018",
                  "Brazil",
                  "BRA",
                  "South America",
                  "F",
                  "Manufacturing of chemicals and pharmaceutical products",
                  "Current prices",
                  "111282.73",
                  "30456.5",
                  "0.273685773165342",
                  "0.1017184520236824"
                ],
                [
                  "1263",
                  "2018",
                  "Brazil",
                  "BRA",
                  "South America",
                  "G",
                  "Manufacture of rubber and plastics products",
                  "Current prices",
                  "36696.46",
                  "10043.3",
                  "0.2736857996656898",
                  "0.1017184520236824"
                ],
                [
                  "1264",
                  "2018",
                  "Brazil",
                  "BRA",
                  "South America",
                  "H",
                  "Manufacture of other non-metallic mineral products",
                  "Current prices",
                  "28778.62",
                  "7876.3",
                  "0.2736858125928206",
                  "0.1017184520236824"
                ],
                [
                  "1265",
                  "2018",
                  "Brazil",
                  "BRA",
                  "South America",
                  "I",
                  "Manufacture of basic metals",
                  "Current prices",
                  "41284.21",
                  "11298.9",
                  "0.273685750556932",
                  "0.1017184520236824"
                ],
                [
                  "1266",
                  "2018",
                  "Brazil",
                  "BRA",
                  "South America",
                  "J",
                  "Manufacture of fabricated metal products, machinery and equipment",
                  "Current prices",
                  "128327.09",
                  "35121.3",
                  "0.273685782168052",
                  "0.1017184520236824"
                ],
                [
                  "1267",
                  "2018",
                  "Brazil",
                  "BRA",
                  "South America",
                  "K",
                  "Manufacture of transport equipment",
                  "Current prices",
                  "90929.83",
                  "24886.2",
                  "0.2736857640666434",
                  "0.1017184520236824"
                ],
                [
                  "2399",
                  "2018",
                  "Canada",
                  "CAN",
                  "North America",
                  "A",
                  "Manufacture of food products, beverages and tobacco products",
                  "Current prices",
                  "34395.0",
                  "26543.08",
                  "0.771713330425934",
                  "0.0976822362519824"
                ],
                [
                  "2400",
                  "2018",
                  "Canada",
                  "CAN",
                  "North America",
                  "B",
                  "Manufacture of textiles, wearing apparel, leather and related products",
                  "Current prices",
                  "2720.0",
                  "2099.06",
                  "0.7717132352941176",
                  "0.0976822362519824"
                ],
                [
                  "2401",
                  "2018",
                  "Canada",
                  "CAN",
                  "North America",
                  "C",
                  "Manufacture of wood and of products of wood and cork, except furniture; manufacture of articles of straw and plaiting materials",
                  "Current prices",
                  "11862.0",
                  "9154.06",
                  "0.7717130332153094",
                  "0.0976822362519824"
                ],
                [
                  "2402",
                  "2018",
                  "Canada",
                  "CAN",
                  "North America",
                  "D",
                  "Manufacture of paper products and printing",
                  "Current prices",
                  "14501.5",
                  "11191.0",
                  "0.7717132710409268",
                  "0.0976822362519824"
                ],
                [
                  "2403",
                  "2018",
                  "Canada",
                  "CAN",
                  "North America",
                  "E",
                  "Manufacture of coke and refined petroleum products",
                  "Current prices",
                  "15767.0",
                  "12167.6",
                  "0.7717130716052515",
                  "0.0976822362519824"
                ],
                [
                  "2404",
                  "2018",
                  "Canada",
                  "CAN",
                  "North America",
                  "F",
                  "Manufacturing of chemicals and pharmaceutical products",
                  "Current prices",
                  "22807.82",
                  "17601.1",
                  "0.771713386022864",
                  "0.0976822362519824"
                ],
                [
                  "2405",
                  "2018",
                  "Canada",
                  "CAN",
                  "North America",
                  "G",
                  "Manufacture of rubber and plastics products",
                  "Current prices",
                  "10980.0",
                  "8473.41",
                  "0.7717131147540983",
                  "0.0976822362519824"
                ],
                [
                  "2406",
                  "2018",
                  "Canada",
                  "CAN",
                  "North America",
                  "H",
                  "Manufacture of other non-metallic mineral products",
                  "Current prices",
                  "8399.0",
                  "6481.62",
                  "0.7717132992022859",
                  "0.0976822362519824"
                ],
                [
                  "2407",
                  "2018",
                  "Canada",
                  "CAN",
                  "North America",
                  "I",
                  "Manufacture of basic metals",
                  "Current prices",
                  "12830.0",
                  "9901.08",
                  "0.7717131722525331",
                  "0.0976822362519824"
                ],
                [
                  "2408",
                  "2018",
                  "Canada",
                  "CAN",
                  "North America",
                  "J",
                  "Manufacture of fabricated metal products, machinery and equipment",
                  "Current prices",
                  "44678.0",
                  "34478.61",
                  "0.7717133712341645",
                  "0.0976822362519824"
                ],
                [
                  "2409",
                  "2018",
                  "Canada",
                  "CAN",
                  "North America",
                  "K",
                  "Manufacture of transport equipment",
                  "Current prices",
                  "30863.0",
                  "23817.39",
                  "0.7717133784790849",
                  "0.0976822362519824"
                ],
                [
                  "2410",
                  "2018",
                  "Canada",
                  "CAN",
                  "North America",
                  "L",
                  "Manufacture of furniture, other manufacturing",
                  "Current prices",
                  "10600.0",
                  "8180.16",
                  "0.7717132075471698",
                  "0.0976822362519824"
                ],
                [
                  "2483",
                  "2018",
                  "Canada",
                  "CAN",
                  "North America",
                  "A",
                  "Manufacture of food products, beverages and tobacco products",
                  "Constant 2015 prices",
                  "32162.62",
                  "25150.88",
                  "0.7819910193883459",
                  "0.0976822362519824"
                ],
                [
                  "2484",
                  "2018",
                  "Canada",
                  "CAN",
                  "North America",
                  "B",
                  "Manufacture of textiles, wearing apparel, leather and related products",
                  "Constant 2015 prices",
                  "2592.01",
                  "2026.93",
                  "0.781991581822601",
                  "0.0976822362519824"
                ],
                [
                  "2485",
                  "2018",
                  "Canada",
                  "CAN",
                  "North America",
                  "C",
                  "Manufacture of wood and of products of wood and cork, except furniture; manufacture of articles of straw and plaiting materials",
                  "Constant 2015 prices",
                  "9218.34",
                  "7208.66",
                  "0.7819911177066586",
                  "0.0976822362519824"
                ],
                [
                  "2486",
                  "2018",
                  "Canada",
                  "CAN",
                  "North America",
                  "D",
                  "Manufacture of paper products and printing",
                  "Constant 2015 prices",
                  "12189.97",
                  "9532.46",
                  "0.7819920803742749",
                  "0.0976822362519824"
                ],
                [
                  "2487",
                  "2018",
                  "Canada",
                  "CAN",
                  "North America",
                  "E",
                  "Manufacture of coke and refined petroleum products",
                  "Constant 2015 prices",
                  "14600.35",
                  "11417.34",
                  "0.7819908426852781",
                  "0.0976822362519824"
                ],
                [
                  "2488",
                  "2018",
                  "Canada",
                  "CAN",
                  "North America",
                  "F",
                  "Manufacturing of chemicals and pharmaceutical products",
                  "Constant 2015 prices",
                  "22003.8",
                  "17206.78",
                  "0.7819912924131286",
                  "0.0976822362519824"
                ],
                [
                  "2489",
                  "2018",
                  "Canada",
                  "CAN",
                  "North America",
                  "G",
                  "Manufacture of rubber and plastics products",
                  "Constant 2015 prices",
                  "10672.32",
                  "8345.67",
                  "0.7819921066834578",
                  "0.0976822362519824"
                ],
                [
                  "2490",
                  "2018",
                  "Canada",
                  "CAN",
                  "North America",
                  "H",
                  "Manufacture of other non-metallic mineral products",
                  "Constant 2015 prices",
                  "7966.47",
                  "6229.71",
                  "0.7819912709142192",
                  "0.0976822362519824"
                ],
                [
                  "2491",
                  "2018",
                  "Canada",
                  "CAN",
                  "North America",
                  "I",
                  "Manufacture of basic metals",
                  "Constant 2015 prices",
                  "11745.41",
                  "9184.81",
                  "0.7819914332492437",
                  "0.0976822362519824"
                ],
                [
                  "2492",
                  "2018",
                  "Canada",
                  "CAN",
                  "North America",
                  "J",
                  "Manufacture of fabricated metal products, machinery and equipment",
                  "Constant 2015 prices",
                  "43239.15",
                  "33812.65",
                  "0.7819915516378098",
                  "0.0976822362519824"
                ],
                [
                  "2493",
                  "2018",
                  "Canada",
                  "CAN",
                  "North America",
                  "K",
                  "Manufacture of transport equipment",
                  "Constant 2015 prices",
                  "32372.15",
                  "25314.74",
                  "0.7819913104319608",
                  "0.0976822362519824"
                ],
                [
                  "2494",
                  "2018",
                  "Canada",
                  "CAN",
                  "North America",
                  "L",
                  "Manufacture of furniture, other manufacturing",
                  "Constant 2015 prices",
                  "10086.36",
                  "7887.45",
                  "0.7819917195103089",
                  "0.0976822362519824"
                ],
                [
                  "6900",
                  "2018",
                  "France",
                  "FRA",
                  "Europe",
                  "A",
                  "Manufacture of food products, beverages and tobacco products",
                  "Current prices",
                  "44685.0",
                  "52770.93",
                  "1.180954011413226",
                  "0.1193090692317553"
                ],
                [
                  "6901",
                  "2018",
                  "France",
                  "FRA",
                  "Europe",
                  "B",
                  "Manufacture of textiles, wearing apparel, leather and related products",
                  "Current prices",
                  "5556.0",
                  "6561.38",
                  "1.180953923686105",
                  "0.1193090692317553"
                ],
                [
                  "6902",
                  "2018",
                  "France",
                  "FRA",
                  "Europe",
                  "C",
                  "Manufacture of wood and of products of wood and cork, except furniture; manufacture of articles of straw and plaiting materials",
                  "Current prices",
                  "3057.0",
                  "3610.18",
                  "1.1809551848217206",
                  "0.1193090692317553"
                ],
                [
                  "6903",
                  "2018",
                  "France",
                  "FRA",
                  "Europe",
                  "D",
                  "Manufacture of paper products and printing",
                  "Current prices",
                  "9736.62",
                  "11498.5",
                  "1.1809539655445112",
                  "0.1193090692317553"
                ],
                [
                  "6904",
                  "2018",
                  "France",
                  "FRA",
                  "Europe",
                  "E",
                  "Manufacture of coke and refined petroleum products",
                  "Current prices",
                  "1986.0",
                  "2345.37",
                  "1.18095166163142",
                  "0.1193090692317553"
                ],
                [
                  "6905",
                  "2018",
                  "France",
                  "FRA",
                  "Europe",
                  "F",
                  "Manufacturing of chemicals and pharmaceutical products",
                  "Current prices",
                  "37773.19",
                  "44608.4",
                  "1.18095400467898",
                  "0.1193090692317553"
                ],
                [
                  "6906",
                  "2018",
                  "France",
                  "FRA",
                  "Europe",
                  "G",
                  "Manufacture of rubber and plastics products",
                  "Current prices",
                  "11421.0",
                  "13487.68",
                  "1.180954382278259",
                  "0.1193090692317553"
                ],
                [
                  "6907",
                  "2018",
                  "France",
                  "FRA",
                  "Europe",
                  "H",
                  "Manufacture of other non-metallic mineral products",
                  "Current prices",
                  "8058.0",
                  "9516.13",
                  "1.1809543310995283",
                  "0.1193090692317553"
                ],
                [
                  "6908",
                  "2018",
                  "France",
                  "FRA",
                  "Europe",
                  "I",
                  "Manufacture of basic metals",
                  "Current prices",
                  "5960.0",
                  "7038.49",
                  "1.180954697986577",
                  "0.1193090692317553"
                ],
                [
                  "6909",
                  "2018",
                  "France",
                  "FRA",
                  "Europe",
                  "J",
                  "Manufacture of fabricated metal products, machinery and equipment",
                  "Current prices",
                  "51028.0",
                  "60261.73",
                  "1.1809541820177158",
                  "0.1193090692317553"
                ],
                [
                  "6910",
                  "2018",
                  "France",
                  "FRA",
                  "Europe",
                  "K",
                  "Manufacture of transport equipment",
                  "Current prices",
                  "32644.0",
                  "38551.06",
                  "1.180953927214802",
                  "0.1193090692317553"
                ],
                [
                  "6911",
                  "2018",
                  "France",
                  "FRA",
                  "Europe",
                  "L",
                  "Manufacture of furniture, other manufacturing",
                  "Current prices",
                  "7107.0",
                  "8393.04",
                  "1.1809539890249052",
                  "0.1193090692317553"
                ],
                [
                  "7157",
                  "2018",
                  "France",
                  "FRA",
                  "Europe",
                  "A",
                  "Manufacture of food products, beverages and tobacco products",
                  "Constant 2015 prices",
                  "45569.36",
                  "50559.84",
                  "1.109513936557371",
                  "0.1193090692317553"
                ],
                [
                  "7158",
                  "2018",
                  "France",
                  "FRA",
                  "Europe",
                  "B",
                  "Manufacture of textiles, wearing apparel, leather and related products",
                  "Constant 2015 prices",
                  "5684.99",
                  "6307.58",
                  "1.1095147045113536",
                  "0.1193090692317553"
                ],
                [
                  "7159",
                  "2018",
                  "France",
                  "FRA",
                  "Europe",
                  "C",
                  "Manufacture of wood and of products of wood and cork, except furniture; manufacture of articles of straw and plaiting materials",
                  "Constant 2015 prices",
                  "2855.2",
                  "3167.88",
                  "1.1095124684785656",
                  "0.1193090692317553"
                ]
              ],
              "shape": {
                "columns": 11,
                "rows": 290
              }
            },
            "text/html": [
              "<div>\n",
              "<style scoped>\n",
              "    .dataframe tbody tr th:only-of-type {\n",
              "        vertical-align: middle;\n",
              "    }\n",
              "\n",
              "    .dataframe tbody tr th {\n",
              "        vertical-align: top;\n",
              "    }\n",
              "\n",
              "    .dataframe thead th {\n",
              "        text-align: right;\n",
              "    }\n",
              "</style>\n",
              "<table border=\"1\" class=\"dataframe\">\n",
              "  <thead>\n",
              "    <tr style=\"text-align: right;\">\n",
              "      <th></th>\n",
              "      <th>Year</th>\n",
              "      <th>Country</th>\n",
              "      <th>ISO3</th>\n",
              "      <th>Continent</th>\n",
              "      <th>Ind Code</th>\n",
              "      <th>Industry</th>\n",
              "      <th>Measure</th>\n",
              "      <th>Value (LCU)</th>\n",
              "      <th>Value (USD)</th>\n",
              "      <th>Exchange Rate</th>\n",
              "      <th>Volatility</th>\n",
              "    </tr>\n",
              "  </thead>\n",
              "  <tbody>\n",
              "    <tr>\n",
              "      <th>1257</th>\n",
              "      <td>2018</td>\n",
              "      <td>Brazil</td>\n",
              "      <td>BRA</td>\n",
              "      <td>South America</td>\n",
              "      <td>A</td>\n",
              "      <td>Manufacture of food products, beverages and to...</td>\n",
              "      <td>Current prices</td>\n",
              "      <td>177448.03</td>\n",
              "      <td>48565.00</td>\n",
              "      <td>0.273686</td>\n",
              "      <td>1.017185e-01</td>\n",
              "    </tr>\n",
              "    <tr>\n",
              "      <th>1258</th>\n",
              "      <td>2018</td>\n",
              "      <td>Brazil</td>\n",
              "      <td>BRA</td>\n",
              "      <td>South America</td>\n",
              "      <td>B</td>\n",
              "      <td>Manufacture of textiles, wearing apparel, leat...</td>\n",
              "      <td>Current prices</td>\n",
              "      <td>67882.23</td>\n",
              "      <td>18578.40</td>\n",
              "      <td>0.273686</td>\n",
              "      <td>1.017185e-01</td>\n",
              "    </tr>\n",
              "    <tr>\n",
              "      <th>1259</th>\n",
              "      <td>2018</td>\n",
              "      <td>Brazil</td>\n",
              "      <td>BRA</td>\n",
              "      <td>South America</td>\n",
              "      <td>C</td>\n",
              "      <td>Manufacture of wood and of products of wood an...</td>\n",
              "      <td>Current prices</td>\n",
              "      <td>12896.18</td>\n",
              "      <td>3529.50</td>\n",
              "      <td>0.273686</td>\n",
              "      <td>1.017185e-01</td>\n",
              "    </tr>\n",
              "    <tr>\n",
              "      <th>1260</th>\n",
              "      <td>2018</td>\n",
              "      <td>Brazil</td>\n",
              "      <td>BRA</td>\n",
              "      <td>South America</td>\n",
              "      <td>D</td>\n",
              "      <td>Manufacture of paper products and printing</td>\n",
              "      <td>Current prices</td>\n",
              "      <td>47377.69</td>\n",
              "      <td>12966.60</td>\n",
              "      <td>0.273686</td>\n",
              "      <td>1.017185e-01</td>\n",
              "    </tr>\n",
              "    <tr>\n",
              "      <th>1261</th>\n",
              "      <td>2018</td>\n",
              "      <td>Brazil</td>\n",
              "      <td>BRA</td>\n",
              "      <td>South America</td>\n",
              "      <td>E</td>\n",
              "      <td>Manufacture of coke and refined petroleum prod...</td>\n",
              "      <td>Current prices</td>\n",
              "      <td>102434.63</td>\n",
              "      <td>28034.90</td>\n",
              "      <td>0.273686</td>\n",
              "      <td>1.017185e-01</td>\n",
              "    </tr>\n",
              "    <tr>\n",
              "      <th>...</th>\n",
              "      <td>...</td>\n",
              "      <td>...</td>\n",
              "      <td>...</td>\n",
              "      <td>...</td>\n",
              "      <td>...</td>\n",
              "      <td>...</td>\n",
              "      <td>...</td>\n",
              "      <td>...</td>\n",
              "      <td>...</td>\n",
              "      <td>...</td>\n",
              "      <td>...</td>\n",
              "    </tr>\n",
              "    <tr>\n",
              "      <th>21121</th>\n",
              "      <td>2018</td>\n",
              "      <td>United States</td>\n",
              "      <td>USA</td>\n",
              "      <td>North America</td>\n",
              "      <td>H</td>\n",
              "      <td>Manufacture of other non-metallic mineral prod...</td>\n",
              "      <td>Constant 2015 prices</td>\n",
              "      <td>62197.83</td>\n",
              "      <td>62197.83</td>\n",
              "      <td>1.000000</td>\n",
              "      <td>6.624372e-08</td>\n",
              "    </tr>\n",
              "    <tr>\n",
              "      <th>21122</th>\n",
              "      <td>2018</td>\n",
              "      <td>United States</td>\n",
              "      <td>USA</td>\n",
              "      <td>North America</td>\n",
              "      <td>I</td>\n",
              "      <td>Manufacture of basic metals</td>\n",
              "      <td>Constant 2015 prices</td>\n",
              "      <td>69110.83</td>\n",
              "      <td>69110.83</td>\n",
              "      <td>1.000000</td>\n",
              "      <td>6.624372e-08</td>\n",
              "    </tr>\n",
              "    <tr>\n",
              "      <th>21123</th>\n",
              "      <td>2018</td>\n",
              "      <td>United States</td>\n",
              "      <td>USA</td>\n",
              "      <td>North America</td>\n",
              "      <td>J</td>\n",
              "      <td>Manufacture of fabricated metal products, mach...</td>\n",
              "      <td>Constant 2015 prices</td>\n",
              "      <td>704486.06</td>\n",
              "      <td>704486.06</td>\n",
              "      <td>1.000000</td>\n",
              "      <td>6.624372e-08</td>\n",
              "    </tr>\n",
              "    <tr>\n",
              "      <th>21124</th>\n",
              "      <td>2018</td>\n",
              "      <td>United States</td>\n",
              "      <td>USA</td>\n",
              "      <td>North America</td>\n",
              "      <td>K</td>\n",
              "      <td>Manufacture of transport equipment</td>\n",
              "      <td>Constant 2015 prices</td>\n",
              "      <td>306767.34</td>\n",
              "      <td>306767.34</td>\n",
              "      <td>1.000000</td>\n",
              "      <td>6.624372e-08</td>\n",
              "    </tr>\n",
              "    <tr>\n",
              "      <th>21125</th>\n",
              "      <td>2018</td>\n",
              "      <td>United States</td>\n",
              "      <td>USA</td>\n",
              "      <td>North America</td>\n",
              "      <td>L</td>\n",
              "      <td>Manufacture of furniture, other manufacturing</td>\n",
              "      <td>Constant 2015 prices</td>\n",
              "      <td>119852.17</td>\n",
              "      <td>119852.17</td>\n",
              "      <td>1.000000</td>\n",
              "      <td>6.624372e-08</td>\n",
              "    </tr>\n",
              "  </tbody>\n",
              "</table>\n",
              "<p>290 rows × 11 columns</p>\n",
              "</div>"
            ],
            "text/plain": [
              "       Year        Country ISO3      Continent Ind Code  \\\n",
              "1257   2018         Brazil  BRA  South America        A   \n",
              "1258   2018         Brazil  BRA  South America        B   \n",
              "1259   2018         Brazil  BRA  South America        C   \n",
              "1260   2018         Brazil  BRA  South America        D   \n",
              "1261   2018         Brazil  BRA  South America        E   \n",
              "...     ...            ...  ...            ...      ...   \n",
              "21121  2018  United States  USA  North America        H   \n",
              "21122  2018  United States  USA  North America        I   \n",
              "21123  2018  United States  USA  North America        J   \n",
              "21124  2018  United States  USA  North America        K   \n",
              "21125  2018  United States  USA  North America        L   \n",
              "\n",
              "                                                Industry  \\\n",
              "1257   Manufacture of food products, beverages and to...   \n",
              "1258   Manufacture of textiles, wearing apparel, leat...   \n",
              "1259   Manufacture of wood and of products of wood an...   \n",
              "1260          Manufacture of paper products and printing   \n",
              "1261   Manufacture of coke and refined petroleum prod...   \n",
              "...                                                  ...   \n",
              "21121  Manufacture of other non-metallic mineral prod...   \n",
              "21122                        Manufacture of basic metals   \n",
              "21123  Manufacture of fabricated metal products, mach...   \n",
              "21124                 Manufacture of transport equipment   \n",
              "21125      Manufacture of furniture, other manufacturing   \n",
              "\n",
              "                    Measure  Value (LCU)  Value (USD)  Exchange Rate  \\\n",
              "1257         Current prices    177448.03     48565.00       0.273686   \n",
              "1258         Current prices     67882.23     18578.40       0.273686   \n",
              "1259         Current prices     12896.18      3529.50       0.273686   \n",
              "1260         Current prices     47377.69     12966.60       0.273686   \n",
              "1261         Current prices    102434.63     28034.90       0.273686   \n",
              "...                     ...          ...          ...            ...   \n",
              "21121  Constant 2015 prices     62197.83     62197.83       1.000000   \n",
              "21122  Constant 2015 prices     69110.83     69110.83       1.000000   \n",
              "21123  Constant 2015 prices    704486.06    704486.06       1.000000   \n",
              "21124  Constant 2015 prices    306767.34    306767.34       1.000000   \n",
              "21125  Constant 2015 prices    119852.17    119852.17       1.000000   \n",
              "\n",
              "         Volatility  \n",
              "1257   1.017185e-01  \n",
              "1258   1.017185e-01  \n",
              "1259   1.017185e-01  \n",
              "1260   1.017185e-01  \n",
              "1261   1.017185e-01  \n",
              "...             ...  \n",
              "21121  6.624372e-08  \n",
              "21122  6.624372e-08  \n",
              "21123  6.624372e-08  \n",
              "21124  6.624372e-08  \n",
              "21125  6.624372e-08  \n",
              "\n",
              "[290 rows x 11 columns]"
            ]
          },
          "execution_count": 10,
          "metadata": {},
          "output_type": "execute_result"
        }
      ],
      "source": [
        "# Aggregate the data by country to get the total USD value for each country\n",
        "country_aggregated = df_eng_final_2018.groupby('Country')['Value (USD)'].sum().reset_index()\n",
        "\n",
        "# Sort the countries by the total USD value in descending order and select the top 10\n",
        "top_15_countries = country_aggregated.sort_values(by='Value (USD)', ascending=False).head(15)['Country']\n",
        "\n",
        "# Filter df_eng_final_2018 to include only the top 10 countries\n",
        "df_15 = df_eng_final_2018[df_eng_final_2018['Country'].isin(top_15_countries)]\n",
        "\n",
        "# Display the filtered dataframe\n",
        "df_15"
      ]
    },
    {
      "cell_type": "code",
      "execution_count": 11,
      "metadata": {},
      "outputs": [
        {
          "data": {
            "text/plain": [
              "array(['Brazil', 'Canada', 'France', 'Germany', 'India', 'Indonesia',\n",
              "       'Italy', 'Japan', 'Korea', 'Mexico', \"People's Republic of China\",\n",
              "       'Russian Federation', 'Spain', 'The Netherlands', 'United States'],\n",
              "      dtype=object)"
            ]
          },
          "execution_count": 11,
          "metadata": {},
          "output_type": "execute_result"
        }
      ],
      "source": [
        "# Check the countries in the filtered dataframe\n",
        "df_15['Country'].unique()"
      ]
    },
    {
      "cell_type": "markdown",
      "metadata": {},
      "source": [
        "Before we move on, let us check whether we have the latest information on the countries above. If not then we shall proceed with the 2018 data and add a disclaimer in our evaluation that the data is not the very latest."
      ]
    },
    {
      "cell_type": "code",
      "execution_count": 13,
      "metadata": {},
      "outputs": [
        {
          "name": "stdout",
          "output_type": "stream",
          "text": [
            "Top 15 countries for 2018: ['United States' \"People's Republic of China\" 'Japan' 'Germany' 'Italy'\n",
            " 'France' 'Korea' 'India' 'Mexico' 'Russian Federation' 'Canada' 'Spain'\n",
            " 'Brazil' 'Indonesia' 'The Netherlands']\n",
            "----------------------------------------------------------------\n",
            "Top 15 countries for 2019: ['United States' 'Germany' 'Japan' 'Italy' 'France' 'Mexico'\n",
            " 'Russian Federation' 'Spain' 'Poland' 'The Netherlands' 'Canada'\n",
            " 'Austria' 'Belgium' 'Sweden' 'Czech Republic']\n",
            "----------------------------------------------------------------\n",
            "Top 15 countries for 2020: ['United States' 'Germany' 'Japan' 'Italy' 'France' 'Mexico'\n",
            " 'Russian Federation' 'The Netherlands' 'Canada' 'Austria' 'Belgium'\n",
            " 'Czech Republic' 'Denmark' 'Romania' 'Finland']\n",
            "----------------------------------------------------------------\n",
            "Top 15 countries for 2021: ['United States' 'France' 'Italy' 'Canada' 'Austria' 'Czech Republic'\n",
            " 'Denmark' 'Finland' 'Belgium' 'Hungary' 'Greece' 'Ireland' 'Slovenia'\n",
            " 'Estonia' 'Malta']\n",
            "----------------------------------------------------------------\n"
          ]
        }
      ],
      "source": [
        "def print_top_15_countries(df, years):\n",
        "    for year in years:\n",
        "        # Filter the data for the given year\n",
        "        df_year = df[df['Year'] == year]\n",
        "        \n",
        "        # Aggregate the data by country to get the total USD value for each country\n",
        "        country_aggregated = df_year.groupby('Country')['Value (USD)'].sum().reset_index()\n",
        "        \n",
        "        # Sort the countries by the total USD value in descending order and select the top 15\n",
        "        top_15_countries = country_aggregated.sort_values(by='Value (USD)', ascending=False).head(15)['Country'].values\n",
        "\n",
        "        # Print the top 15 countries for the given year\n",
        "        print(f\"Top 15 countries for {year}: {top_15_countries}\")\n",
        "        print('----------------------------------------------------------------')\n",
        "\n",
        "# Example usage\n",
        "years = [2018, 2019, 2020, 2021]  # Replace with the years you want to analyze\n",
        "print_top_15_countries(df_eng_final, years)\n"
      ]
    },
    {
      "cell_type": "markdown",
      "metadata": {},
      "source": [
        "As you can see, we don't have the latest data for China, Japan and Germany. Since these countries are essential in our data, we shall move forward with the 2018 data."
      ]
    },
    {
      "cell_type": "markdown",
      "metadata": {
        "id": "ZY3l0-AxO93d"
      },
      "source": [
        "---"
      ]
    },
    {
      "cell_type": "markdown",
      "metadata": {
        "id": "uFQo3ycuO-v6"
      },
      "source": [
        "# Further EDA"
      ]
    },
    {
      "cell_type": "markdown",
      "metadata": {},
      "source": [
        "Now that we have our countries, we want to analyse the industries themselves to see how they differ from each country and which ones have the highest value"
      ]
    },
    {
      "cell_type": "code",
      "execution_count": 15,
      "metadata": {},
      "outputs": [
        {
          "data": {
            "application/vnd.plotly.v1+json": {
              "config": {
                "plotlyServerURL": "https://plot.ly"
              },
              "data": [
                {
                  "branchvalues": "total",
                  "customdata": [
                    [
                      48565
                    ],
                    [
                      25865.727072578688
                    ],
                    [
                      51689.04164645729
                    ],
                    [
                      53178.722485648774
                    ],
                    [
                      47080.3
                    ],
                    [
                      56693.2
                    ],
                    [
                      33433.457521232405
                    ],
                    [
                      117296.9352430084
                    ],
                    [
                      23360.299999999996
                    ],
                    [
                      56487.19420944343
                    ],
                    [
                      410643.69
                    ],
                    [
                      28077.905897595
                    ],
                    [
                      27596.461184710668
                    ],
                    [
                      17812.269378702822
                    ],
                    [
                      244851.52651085766
                    ],
                    [
                      18578.4
                    ],
                    [
                      2063.6254834597275
                    ],
                    [
                      6436.9827057353505
                    ],
                    [
                      8748.205893376635
                    ],
                    [
                      58616.4
                    ],
                    [
                      21869.9
                    ],
                    [
                      29284.462062738163
                    ],
                    [
                      14367
                    ],
                    [
                      15516.8
                    ],
                    [
                      8598.9671300103
                    ],
                    [
                      241887.41
                    ],
                    [
                      3676.803676009411
                    ],
                    [
                      10294.163588939236
                    ],
                    [
                      1295.1040144450008
                    ],
                    [
                      25855.837273645695
                    ],
                    [
                      3529.5
                    ],
                    [
                      8297.00645609043
                    ],
                    [
                      3403.4610680342166
                    ],
                    [
                      7739.295621575473
                    ],
                    [
                      7389.4
                    ],
                    [
                      5118.5
                    ],
                    [
                      5492.22109965435
                    ],
                    [
                      8776.1
                    ],
                    [
                      2132
                    ],
                    [
                      1721.4451833829617
                    ],
                    [
                      54181.1
                    ],
                    [
                      4015.8411953556847
                    ],
                    [
                      2263.474257217499
                    ],
                    [
                      1153.7926071000634
                    ],
                    [
                      36673.786389599256
                    ],
                    [
                      12966.6
                    ],
                    [
                      10428.09813861199
                    ],
                    [
                      10324.833999069398
                    ],
                    [
                      22099.60005296652
                    ],
                    [
                      11658.899999999998
                    ],
                    [
                      9408.2
                    ],
                    [
                      12064.911752401498
                    ],
                    [
                      41584.248705241145
                    ],
                    [
                      12022.199999999999
                    ],
                    [
                      5139.780376353449
                    ],
                    [
                      124635.2
                    ],
                    [
                      6827.153934906341
                    ],
                    [
                      7228.665176737252
                    ],
                    [
                      3953.4615709036607
                    ],
                    [
                      100552.81223770817
                    ],
                    [
                      28034.9
                    ],
                    [
                      11804.403252058306
                    ],
                    [
                      3165.0986322710496
                    ],
                    [
                      5168.241135809308
                    ],
                    [
                      37750.2
                    ],
                    [
                      21397.3
                    ],
                    [
                      1782.7556354230753
                    ],
                    [
                      43391.07802864064
                    ],
                    [
                      17223.5
                    ],
                    [
                      6868.678685583909
                    ],
                    [
                      175172.09
                    ],
                    [
                      36602.60796379694
                    ],
                    [
                      3423.3478293255216
                    ],
                    [
                      1679.7745131886768
                    ],
                    [
                      174183.29319002686
                    ],
                    [
                      30456.5
                    ],
                    [
                      17406.173521007313
                    ],
                    [
                      42017.01241730066
                    ],
                    [
                      86840.26024637156
                    ],
                    [
                      69278.4
                    ],
                    [
                      15372.4
                    ],
                    [
                      28239.607287302795
                    ],
                    [
                      103767.5
                    ],
                    [
                      50103
                    ],
                    [
                      15466.799053922769
                    ],
                    [
                      481399.69
                    ],
                    [
                      21621.947786272747
                    ],
                    [
                      19045.864989037036
                    ],
                    [
                      18545.3618117776
                    ],
                    [
                      366098.4812901396
                    ],
                    [
                      10043.3
                    ],
                    [
                      8410.025089184426
                    ],
                    [
                      13317.643637276795
                    ],
                    [
                      35751.06172008487
                    ],
                    [
                      18059.8
                    ],
                    [
                      5991.2
                    ],
                    [
                      15585.279516083156
                    ],
                    [
                      51255.5
                    ],
                    [
                      24456
                    ],
                    [
                      6683.75522833503
                    ],
                    [
                      119899.5
                    ],
                    [
                      4021.3353258116686
                    ],
                    [
                      7371.540709300391
                    ],
                    [
                      3501.88477492823
                    ],
                    [
                      82302.82657520364
                    ],
                    [
                      7876.3
                    ],
                    [
                      6358.161145096541
                    ],
                    [
                      9229.604643214281
                    ],
                    [
                      20891.928884106273
                    ],
                    [
                      29926.1
                    ],
                    [
                      6034.399999999999
                    ],
                    [
                      11810.252097475983
                    ],
                    [
                      26693.95096291241
                    ],
                    [
                      12435.1
                    ],
                    [
                      5582.797808394519
                    ],
                    [
                      361271.19
                    ],
                    [
                      7563.2404061877605
                    ],
                    [
                      6561.7878313759475
                    ],
                    [
                      2393.260558793022
                    ],
                    [
                      63726.56563047585
                    ],
                    [
                      11298.9
                    ],
                    [
                      9556.385366493256
                    ],
                    [
                      6739.396435040061
                    ],
                    [
                      25942.868935645998
                    ],
                    [
                      44783.8
                    ],
                    [
                      8092.5
                    ],
                    [
                      9833.501725373866
                    ],
                    [
                      83444.84196948663
                    ],
                    [
                      28117.2
                    ],
                    [
                      12175.29648436546
                    ],
                    [
                      469966.91
                    ],
                    [
                      33462.81909992457
                    ],
                    [
                      6745.740324092362
                    ],
                    [
                      2713.974410744833
                    ],
                    [
                      75112.80790139793
                    ],
                    [
                      35121.3
                    ],
                    [
                      34148.87714115393
                    ],
                    [
                      58329.65088286767
                    ],
                    [
                      288745.15623700886
                    ],
                    [
                      81611.1
                    ],
                    [
                      32757.5
                    ],
                    [
                      105033.08344791093
                    ],
                    [
                      363737.94
                    ],
                    [
                      241659
                    ],
                    [
                      42865.347147240675
                    ],
                    [
                      1042085.5
                    ],
                    [
                      27332.914079381757
                    ],
                    [
                      30427.524549898226
                    ],
                    [
                      31169.88416385199
                    ],
                    [
                      695223.3951986234
                    ],
                    [
                      24886.2
                    ],
                    [
                      24588.88160720286
                    ],
                    [
                      38082.60470810951
                    ],
                    [
                      176212.70688236255
                    ],
                    [
                      55749.3
                    ],
                    [
                      24612.9
                    ],
                    [
                      27287.20106467868
                    ],
                    [
                      151801.1602797129
                    ],
                    [
                      49990.4
                    ],
                    [
                      47046.33842822087
                    ],
                    [
                      361992.31
                    ],
                    [
                      17472.269832932667
                    ],
                    [
                      19529.866400216913
                    ],
                    [
                      4970.342467239634
                    ],
                    [
                      307604.1692861696
                    ],
                    [
                      8036.47120686275
                    ],
                    [
                      8103.7724050801835
                    ],
                    [
                      28758.635471453053
                    ],
                    [
                      16155.68137027158
                    ],
                    [
                      88641.35063894936
                    ],
                    [
                      6213.605709804313
                    ],
                    [
                      3089.655298848726
                    ],
                    [
                      5063.481551017301
                    ],
                    [
                      5911.530718464098
                    ],
                    [
                      120380.47847734948
                    ],
                    [
                      29137.91656764938
                    ],
                    [
                      19962.80788996757
                    ],
                    [
                      39241.72205152627
                    ],
                    [
                      169375.1148165457
                    ],
                    [
                      54260.69797364689
                    ],
                    [
                      30470.15413941779
                    ],
                    [
                      52392.04639721206
                    ],
                    [
                      157499.84682946678
                    ],
                    [
                      138745.8687053775
                    ],
                    [
                      36814.68150154217
                    ],
                    [
                      544029.9939392023
                    ],
                    [
                      25311.031542582088
                    ],
                    [
                      19105.73503223236
                    ],
                    [
                      18309.074322091874
                    ],
                    [
                      368859.42714288674
                    ]
                  ],
                  "domain": {
                    "x": [
                      0,
                      1
                    ],
                    "y": [
                      0,
                      1
                    ]
                  },
                  "hovertemplate": "<b>%{hovertext}</b><br><br>labels=%{label}<br>Value (USD)_sum=%{value}<br>parent=%{parent}<br>id=%{id}<br>Value (USD)=%{color}<extra></extra>",
                  "hovertext": [
                    "A",
                    "A",
                    "A",
                    "A",
                    "A",
                    "A",
                    "A",
                    "A",
                    "A",
                    "A",
                    "A",
                    "A",
                    "A",
                    "A",
                    "A",
                    "B",
                    "B",
                    "B",
                    "B",
                    "B",
                    "B",
                    "B",
                    "B",
                    "B",
                    "B",
                    "B",
                    "B",
                    "B",
                    "B",
                    "B",
                    "C",
                    "C",
                    "C",
                    "C",
                    "C",
                    "C",
                    "C",
                    "C",
                    "C",
                    "C",
                    "C",
                    "C",
                    "C",
                    "C",
                    "C",
                    "D",
                    "D",
                    "D",
                    "D",
                    "D",
                    "D",
                    "D",
                    "D",
                    "D",
                    "D",
                    "D",
                    "D",
                    "D",
                    "D",
                    "D",
                    "E",
                    "E",
                    "E",
                    "E",
                    "E",
                    "E",
                    "E",
                    "E",
                    "E",
                    "E",
                    "E",
                    "E",
                    "E",
                    "E",
                    "E",
                    "F",
                    "F",
                    "F",
                    "F",
                    "F",
                    "F",
                    "F",
                    "F",
                    "F",
                    "F",
                    "F",
                    "F",
                    "F",
                    "F",
                    "F",
                    "G",
                    "G",
                    "G",
                    "G",
                    "G",
                    "G",
                    "G",
                    "G",
                    "G",
                    "G",
                    "G",
                    "G",
                    "G",
                    "G",
                    "G",
                    "H",
                    "H",
                    "H",
                    "H",
                    "H",
                    "H",
                    "H",
                    "H",
                    "H",
                    "H",
                    "H",
                    "H",
                    "H",
                    "H",
                    "H",
                    "I",
                    "I",
                    "I",
                    "I",
                    "I",
                    "I",
                    "I",
                    "I",
                    "I",
                    "I",
                    "I",
                    "I",
                    "I",
                    "I",
                    "I",
                    "J",
                    "J",
                    "J",
                    "J",
                    "J",
                    "J",
                    "J",
                    "J",
                    "J",
                    "J",
                    "J",
                    "J",
                    "J",
                    "J",
                    "J",
                    "K",
                    "K",
                    "K",
                    "K",
                    "K",
                    "K",
                    "K",
                    "K",
                    "K",
                    "K",
                    "K",
                    "K",
                    "K",
                    "K",
                    "K",
                    "L",
                    "L",
                    "L",
                    "L",
                    "L",
                    "L",
                    "L",
                    "L",
                    "L",
                    "L",
                    "(?)",
                    "(?)",
                    "(?)",
                    "(?)",
                    "(?)",
                    "(?)",
                    "(?)",
                    "(?)",
                    "(?)",
                    "(?)",
                    "(?)",
                    "(?)",
                    "(?)",
                    "(?)",
                    "(?)"
                  ],
                  "ids": [
                    "Brazil/A",
                    "Canada/A",
                    "France/A",
                    "Germany/A",
                    "India/A",
                    "Indonesia/A",
                    "Italy/A",
                    "Japan/A",
                    "Korea/A",
                    "Mexico/A",
                    "People's Republic of China/A",
                    "Russian Federation/A",
                    "Spain/A",
                    "The Netherlands/A",
                    "United States/A",
                    "Brazil/B",
                    "Canada/B",
                    "France/B",
                    "Germany/B",
                    "India/B",
                    "Indonesia/B",
                    "Italy/B",
                    "Japan/B",
                    "Korea/B",
                    "Mexico/B",
                    "People's Republic of China/B",
                    "Russian Federation/B",
                    "Spain/B",
                    "The Netherlands/B",
                    "United States/B",
                    "Brazil/C",
                    "Canada/C",
                    "France/C",
                    "Germany/C",
                    "India/C",
                    "Indonesia/C",
                    "Italy/C",
                    "Japan/C",
                    "Korea/C",
                    "Mexico/C",
                    "People's Republic of China/C",
                    "Russian Federation/C",
                    "Spain/C",
                    "The Netherlands/C",
                    "United States/C",
                    "Brazil/D",
                    "Canada/D",
                    "France/D",
                    "Germany/D",
                    "India/D",
                    "Indonesia/D",
                    "Italy/D",
                    "Japan/D",
                    "Korea/D",
                    "Mexico/D",
                    "People's Republic of China/D",
                    "Russian Federation/D",
                    "Spain/D",
                    "The Netherlands/D",
                    "United States/D",
                    "Brazil/E",
                    "Canada/E",
                    "France/E",
                    "Germany/E",
                    "India/E",
                    "Indonesia/E",
                    "Italy/E",
                    "Japan/E",
                    "Korea/E",
                    "Mexico/E",
                    "People's Republic of China/E",
                    "Russian Federation/E",
                    "Spain/E",
                    "The Netherlands/E",
                    "United States/E",
                    "Brazil/F",
                    "Canada/F",
                    "France/F",
                    "Germany/F",
                    "India/F",
                    "Indonesia/F",
                    "Italy/F",
                    "Japan/F",
                    "Korea/F",
                    "Mexico/F",
                    "People's Republic of China/F",
                    "Russian Federation/F",
                    "Spain/F",
                    "The Netherlands/F",
                    "United States/F",
                    "Brazil/G",
                    "Canada/G",
                    "France/G",
                    "Germany/G",
                    "India/G",
                    "Indonesia/G",
                    "Italy/G",
                    "Japan/G",
                    "Korea/G",
                    "Mexico/G",
                    "People's Republic of China/G",
                    "Russian Federation/G",
                    "Spain/G",
                    "The Netherlands/G",
                    "United States/G",
                    "Brazil/H",
                    "Canada/H",
                    "France/H",
                    "Germany/H",
                    "India/H",
                    "Indonesia/H",
                    "Italy/H",
                    "Japan/H",
                    "Korea/H",
                    "Mexico/H",
                    "People's Republic of China/H",
                    "Russian Federation/H",
                    "Spain/H",
                    "The Netherlands/H",
                    "United States/H",
                    "Brazil/I",
                    "Canada/I",
                    "France/I",
                    "Germany/I",
                    "India/I",
                    "Indonesia/I",
                    "Italy/I",
                    "Japan/I",
                    "Korea/I",
                    "Mexico/I",
                    "People's Republic of China/I",
                    "Russian Federation/I",
                    "Spain/I",
                    "The Netherlands/I",
                    "United States/I",
                    "Brazil/J",
                    "Canada/J",
                    "France/J",
                    "Germany/J",
                    "India/J",
                    "Indonesia/J",
                    "Italy/J",
                    "Japan/J",
                    "Korea/J",
                    "Mexico/J",
                    "People's Republic of China/J",
                    "Russian Federation/J",
                    "Spain/J",
                    "The Netherlands/J",
                    "United States/J",
                    "Brazil/K",
                    "Canada/K",
                    "France/K",
                    "Germany/K",
                    "India/K",
                    "Indonesia/K",
                    "Italy/K",
                    "Japan/K",
                    "Korea/K",
                    "Mexico/K",
                    "People's Republic of China/K",
                    "Russian Federation/K",
                    "Spain/K",
                    "The Netherlands/K",
                    "United States/K",
                    "Canada/L",
                    "France/L",
                    "Germany/L",
                    "Italy/L",
                    "Japan/L",
                    "Mexico/L",
                    "Russian Federation/L",
                    "Spain/L",
                    "The Netherlands/L",
                    "United States/L",
                    "Brazil",
                    "Canada",
                    "France",
                    "Germany",
                    "India",
                    "Indonesia",
                    "Italy",
                    "Japan",
                    "Korea",
                    "Mexico",
                    "People's Republic of China",
                    "Russian Federation",
                    "Spain",
                    "The Netherlands",
                    "United States"
                  ],
                  "labels": [
                    "A",
                    "A",
                    "A",
                    "A",
                    "A",
                    "A",
                    "A",
                    "A",
                    "A",
                    "A",
                    "A",
                    "A",
                    "A",
                    "A",
                    "A",
                    "B",
                    "B",
                    "B",
                    "B",
                    "B",
                    "B",
                    "B",
                    "B",
                    "B",
                    "B",
                    "B",
                    "B",
                    "B",
                    "B",
                    "B",
                    "C",
                    "C",
                    "C",
                    "C",
                    "C",
                    "C",
                    "C",
                    "C",
                    "C",
                    "C",
                    "C",
                    "C",
                    "C",
                    "C",
                    "C",
                    "D",
                    "D",
                    "D",
                    "D",
                    "D",
                    "D",
                    "D",
                    "D",
                    "D",
                    "D",
                    "D",
                    "D",
                    "D",
                    "D",
                    "D",
                    "E",
                    "E",
                    "E",
                    "E",
                    "E",
                    "E",
                    "E",
                    "E",
                    "E",
                    "E",
                    "E",
                    "E",
                    "E",
                    "E",
                    "E",
                    "F",
                    "F",
                    "F",
                    "F",
                    "F",
                    "F",
                    "F",
                    "F",
                    "F",
                    "F",
                    "F",
                    "F",
                    "F",
                    "F",
                    "F",
                    "G",
                    "G",
                    "G",
                    "G",
                    "G",
                    "G",
                    "G",
                    "G",
                    "G",
                    "G",
                    "G",
                    "G",
                    "G",
                    "G",
                    "G",
                    "H",
                    "H",
                    "H",
                    "H",
                    "H",
                    "H",
                    "H",
                    "H",
                    "H",
                    "H",
                    "H",
                    "H",
                    "H",
                    "H",
                    "H",
                    "I",
                    "I",
                    "I",
                    "I",
                    "I",
                    "I",
                    "I",
                    "I",
                    "I",
                    "I",
                    "I",
                    "I",
                    "I",
                    "I",
                    "I",
                    "J",
                    "J",
                    "J",
                    "J",
                    "J",
                    "J",
                    "J",
                    "J",
                    "J",
                    "J",
                    "J",
                    "J",
                    "J",
                    "J",
                    "J",
                    "K",
                    "K",
                    "K",
                    "K",
                    "K",
                    "K",
                    "K",
                    "K",
                    "K",
                    "K",
                    "K",
                    "K",
                    "K",
                    "K",
                    "K",
                    "L",
                    "L",
                    "L",
                    "L",
                    "L",
                    "L",
                    "L",
                    "L",
                    "L",
                    "L",
                    "Brazil",
                    "Canada",
                    "France",
                    "Germany",
                    "India",
                    "Indonesia",
                    "Italy",
                    "Japan",
                    "Korea",
                    "Mexico",
                    "People's Republic of China",
                    "Russian Federation",
                    "Spain",
                    "The Netherlands",
                    "United States"
                  ],
                  "marker": {
                    "coloraxis": "coloraxis",
                    "colors": [
                      48565,
                      25865.727072578688,
                      51689.04164645729,
                      53178.722485648774,
                      47080.3,
                      56693.2,
                      33433.457521232405,
                      117296.9352430084,
                      23360.299999999996,
                      56487.19420944343,
                      410643.69,
                      28077.905897595,
                      27596.461184710668,
                      17812.269378702822,
                      244851.52651085766,
                      18578.4,
                      2063.6254834597275,
                      6436.9827057353505,
                      8748.205893376635,
                      58616.4,
                      21869.9,
                      29284.462062738163,
                      14367,
                      15516.8,
                      8598.9671300103,
                      241887.41,
                      3676.803676009411,
                      10294.163588939236,
                      1295.1040144450008,
                      25855.837273645695,
                      3529.5,
                      8297.00645609043,
                      3403.4610680342166,
                      7739.295621575473,
                      7389.4,
                      5118.5,
                      5492.22109965435,
                      8776.1,
                      2132,
                      1721.4451833829617,
                      54181.1,
                      4015.8411953556847,
                      2263.474257217499,
                      1153.7926071000634,
                      36673.786389599256,
                      12966.6,
                      10428.09813861199,
                      10324.833999069398,
                      22099.60005296652,
                      11658.899999999998,
                      9408.2,
                      12064.911752401498,
                      41584.248705241145,
                      12022.199999999999,
                      5139.780376353449,
                      124635.2,
                      6827.153934906341,
                      7228.665176737252,
                      3953.4615709036607,
                      100552.81223770817,
                      28034.9,
                      11804.403252058306,
                      3165.0986322710496,
                      5168.241135809308,
                      37750.2,
                      21397.3,
                      1782.7556354230753,
                      43391.07802864064,
                      17223.5,
                      6868.678685583909,
                      175172.09,
                      36602.60796379694,
                      3423.3478293255216,
                      1679.7745131886768,
                      174183.29319002686,
                      30456.5,
                      17406.173521007313,
                      42017.01241730066,
                      86840.26024637156,
                      69278.4,
                      15372.4,
                      28239.607287302795,
                      103767.5,
                      50103,
                      15466.799053922769,
                      481399.69,
                      21621.947786272747,
                      19045.864989037036,
                      18545.3618117776,
                      366098.4812901396,
                      10043.3,
                      8410.025089184426,
                      13317.643637276795,
                      35751.06172008487,
                      18059.8,
                      5991.2,
                      15585.279516083156,
                      51255.5,
                      24456,
                      6683.75522833503,
                      119899.5,
                      4021.3353258116686,
                      7371.540709300391,
                      3501.88477492823,
                      82302.82657520364,
                      7876.3,
                      6358.161145096541,
                      9229.604643214281,
                      20891.928884106273,
                      29926.1,
                      6034.399999999999,
                      11810.252097475983,
                      26693.95096291241,
                      12435.1,
                      5582.797808394519,
                      361271.19,
                      7563.2404061877605,
                      6561.7878313759475,
                      2393.260558793022,
                      63726.56563047585,
                      11298.9,
                      9556.385366493256,
                      6739.396435040061,
                      25942.868935645998,
                      44783.8,
                      8092.5,
                      9833.501725373866,
                      83444.84196948663,
                      28117.2,
                      12175.29648436546,
                      469966.91,
                      33462.81909992457,
                      6745.740324092362,
                      2713.974410744833,
                      75112.80790139793,
                      35121.3,
                      34148.87714115393,
                      58329.65088286767,
                      288745.15623700886,
                      81611.1,
                      32757.5,
                      105033.08344791093,
                      363737.94,
                      241659,
                      42865.347147240675,
                      1042085.5,
                      27332.914079381757,
                      30427.524549898226,
                      31169.88416385199,
                      695223.3951986234,
                      24886.2,
                      24588.88160720286,
                      38082.60470810951,
                      176212.70688236255,
                      55749.3,
                      24612.9,
                      27287.20106467868,
                      151801.1602797129,
                      49990.4,
                      47046.33842822087,
                      361992.31,
                      17472.269832932667,
                      19529.866400216913,
                      4970.342467239634,
                      307604.1692861696,
                      8036.47120686275,
                      8103.7724050801835,
                      28758.635471453053,
                      16155.68137027158,
                      88641.35063894936,
                      6213.605709804313,
                      3089.655298848726,
                      5063.481551017301,
                      5911.530718464098,
                      120380.47847734948,
                      29137.91656764938,
                      19962.80788996757,
                      39241.72205152627,
                      169375.1148165457,
                      54260.69797364689,
                      30470.15413941779,
                      52392.04639721206,
                      157499.84682946678,
                      138745.8687053775,
                      36814.68150154217,
                      544029.9939392023,
                      25311.031542582088,
                      19105.73503223236,
                      18309.074322091874,
                      368859.42714288674
                    ]
                  },
                  "name": "",
                  "parents": [
                    "Brazil",
                    "Canada",
                    "France",
                    "Germany",
                    "India",
                    "Indonesia",
                    "Italy",
                    "Japan",
                    "Korea",
                    "Mexico",
                    "People's Republic of China",
                    "Russian Federation",
                    "Spain",
                    "The Netherlands",
                    "United States",
                    "Brazil",
                    "Canada",
                    "France",
                    "Germany",
                    "India",
                    "Indonesia",
                    "Italy",
                    "Japan",
                    "Korea",
                    "Mexico",
                    "People's Republic of China",
                    "Russian Federation",
                    "Spain",
                    "The Netherlands",
                    "United States",
                    "Brazil",
                    "Canada",
                    "France",
                    "Germany",
                    "India",
                    "Indonesia",
                    "Italy",
                    "Japan",
                    "Korea",
                    "Mexico",
                    "People's Republic of China",
                    "Russian Federation",
                    "Spain",
                    "The Netherlands",
                    "United States",
                    "Brazil",
                    "Canada",
                    "France",
                    "Germany",
                    "India",
                    "Indonesia",
                    "Italy",
                    "Japan",
                    "Korea",
                    "Mexico",
                    "People's Republic of China",
                    "Russian Federation",
                    "Spain",
                    "The Netherlands",
                    "United States",
                    "Brazil",
                    "Canada",
                    "France",
                    "Germany",
                    "India",
                    "Indonesia",
                    "Italy",
                    "Japan",
                    "Korea",
                    "Mexico",
                    "People's Republic of China",
                    "Russian Federation",
                    "Spain",
                    "The Netherlands",
                    "United States",
                    "Brazil",
                    "Canada",
                    "France",
                    "Germany",
                    "India",
                    "Indonesia",
                    "Italy",
                    "Japan",
                    "Korea",
                    "Mexico",
                    "People's Republic of China",
                    "Russian Federation",
                    "Spain",
                    "The Netherlands",
                    "United States",
                    "Brazil",
                    "Canada",
                    "France",
                    "Germany",
                    "India",
                    "Indonesia",
                    "Italy",
                    "Japan",
                    "Korea",
                    "Mexico",
                    "People's Republic of China",
                    "Russian Federation",
                    "Spain",
                    "The Netherlands",
                    "United States",
                    "Brazil",
                    "Canada",
                    "France",
                    "Germany",
                    "India",
                    "Indonesia",
                    "Italy",
                    "Japan",
                    "Korea",
                    "Mexico",
                    "People's Republic of China",
                    "Russian Federation",
                    "Spain",
                    "The Netherlands",
                    "United States",
                    "Brazil",
                    "Canada",
                    "France",
                    "Germany",
                    "India",
                    "Indonesia",
                    "Italy",
                    "Japan",
                    "Korea",
                    "Mexico",
                    "People's Republic of China",
                    "Russian Federation",
                    "Spain",
                    "The Netherlands",
                    "United States",
                    "Brazil",
                    "Canada",
                    "France",
                    "Germany",
                    "India",
                    "Indonesia",
                    "Italy",
                    "Japan",
                    "Korea",
                    "Mexico",
                    "People's Republic of China",
                    "Russian Federation",
                    "Spain",
                    "The Netherlands",
                    "United States",
                    "Brazil",
                    "Canada",
                    "France",
                    "Germany",
                    "India",
                    "Indonesia",
                    "Italy",
                    "Japan",
                    "Korea",
                    "Mexico",
                    "People's Republic of China",
                    "Russian Federation",
                    "Spain",
                    "The Netherlands",
                    "United States",
                    "Canada",
                    "France",
                    "Germany",
                    "Italy",
                    "Japan",
                    "Mexico",
                    "Russian Federation",
                    "Spain",
                    "The Netherlands",
                    "United States",
                    "",
                    "",
                    "",
                    "",
                    "",
                    "",
                    "",
                    "",
                    "",
                    "",
                    "",
                    "",
                    "",
                    "",
                    ""
                  ],
                  "type": "sunburst",
                  "values": [
                    48565,
                    51693.96000000001,
                    103330.76999999999,
                    106130.28,
                    47080.3,
                    56693.2,
                    66736.43000000001,
                    234186.96000000002,
                    23360.3,
                    112924.23999999999,
                    410643.69,
                    55953.91,
                    55071.59,
                    35381.78,
                    489671.68,
                    18578.4,
                    4125.99,
                    12868.96,
                    17489.6,
                    58616.4,
                    21869.9,
                    58455.649999999994,
                    14367,
                    15516.8,
                    17187.1,
                    241887.41,
                    7353.3,
                    20554.82,
                    2576.67,
                    51709.31,
                    3529.5,
                    16362.72,
                    6778.0599999999995,
                    15414.54,
                    7389.4,
                    5118.5,
                    10953.26,
                    8776.1,
                    2132,
                    3442.25,
                    54181.1,
                    8028.74,
                    4516.799999999999,
                    2261.67,
                    72966.36,
                    12966.6,
                    20723.46,
                    20287.92,
                    44037.25,
                    11658.9,
                    9408.2,
                    24011.05,
                    82828.86,
                    12022.2,
                    10278.369999999999,
                    124635.2,
                    13521.439999999999,
                    14259.02,
                    7821.74,
                    200966.41999999998,
                    28034.9,
                    23584.940000000002,
                    6031.969999999999,
                    10073.61,
                    37750.2,
                    21397.3,
                    3023.34,
                    78771.99,
                    17223.5,
                    12780.58,
                    175172.09,
                    69351.04000000001,
                    6738.09,
                    3295.63,
                    347503.28,
                    30456.5,
                    34807.88,
                    83665.72,
                    172422.5,
                    69278.4,
                    15372.4,
                    55235.8,
                    103767.5,
                    50103,
                    30910.690000000002,
                    481399.69,
                    43178.490000000005,
                    37448.81,
                    36612.22,
                    730585.53,
                    10043.3,
                    16819.08,
                    26630.83,
                    71501.53,
                    18059.8,
                    5991.2,
                    31148.739999999998,
                    51255.5,
                    24456,
                    13367.2,
                    119899.5,
                    8039,
                    14733.25,
                    6997.99,
                    164587.07,
                    7876.3,
                    12711.33,
                    18440.199999999997,
                    41695.01,
                    29926.1,
                    6034.4,
                    23589.4,
                    53103.479999999996,
                    12435.1,
                    11164.189999999999,
                    361271.19,
                    15087.849999999999,
                    13083.78,
                    4772.25,
                    127383.07,
                    11298.9,
                    19085.89,
                    13449.52,
                    51745.19,
                    44783.8,
                    8092.5,
                    19117.190000000002,
                    165679.57,
                    28117.2,
                    24241.199999999997,
                    469966.91,
                    66255.78,
                    12909.9,
                    5407.25,
                    149390.59,
                    35121.3,
                    68291.26000000001,
                    116521.88,
                    576632.85,
                    81611.1,
                    32757.5,
                    209726.82,
                    363737.94,
                    241659,
                    85729.98000000001,
                    1042085.5,
                    54438.2,
                    60850.46,
                    62307.33,
                    1390193.12,
                    24886.2,
                    49132.130000000005,
                    76153.39,
                    352190.34,
                    55749.3,
                    24612.9,
                    54574.4,
                    301324.66000000003,
                    49990.4,
                    94087.52,
                    361992.31,
                    34837.45,
                    39001.85,
                    9934.26,
                    615203.81,
                    16067.61,
                    16185.240000000002,
                    57391.08,
                    32224.05,
                    169858.53000000003,
                    12425.96,
                    6155.79,
                    10115.49,
                    11797.11,
                    240756.36,
                    231356.9,
                    333406.25,
                    500344.46,
                    1516723.78,
                    461903.7,
                    207348,
                    588796.13,
                    1627658.09,
                    477015.5,
                    428539.27999999997,
                    3843134.59,
                    382200.99,
                    289283.86,
                    189165.9,
                    4580916.600000001
                  ]
                }
              ],
              "layout": {
                "coloraxis": {
                  "colorbar": {
                    "title": {
                      "text": "Value (USD)"
                    }
                  },
                  "colorscale": [
                    [
                      0,
                      "#0d0887"
                    ],
                    [
                      0.1111111111111111,
                      "#46039f"
                    ],
                    [
                      0.2222222222222222,
                      "#7201a8"
                    ],
                    [
                      0.3333333333333333,
                      "#9c179e"
                    ],
                    [
                      0.4444444444444444,
                      "#bd3786"
                    ],
                    [
                      0.5555555555555556,
                      "#d8576b"
                    ],
                    [
                      0.6666666666666666,
                      "#ed7953"
                    ],
                    [
                      0.7777777777777778,
                      "#fb9f3a"
                    ],
                    [
                      0.8888888888888888,
                      "#fdca26"
                    ],
                    [
                      1,
                      "#f0f921"
                    ]
                  ]
                },
                "legend": {
                  "tracegroupgap": 0
                },
                "margin": {
                  "t": 60
                },
                "template": {
                  "data": {
                    "bar": [
                      {
                        "error_x": {
                          "color": "#2a3f5f"
                        },
                        "error_y": {
                          "color": "#2a3f5f"
                        },
                        "marker": {
                          "line": {
                            "color": "#E5ECF6",
                            "width": 0.5
                          },
                          "pattern": {
                            "fillmode": "overlay",
                            "size": 10,
                            "solidity": 0.2
                          }
                        },
                        "type": "bar"
                      }
                    ],
                    "barpolar": [
                      {
                        "marker": {
                          "line": {
                            "color": "#E5ECF6",
                            "width": 0.5
                          },
                          "pattern": {
                            "fillmode": "overlay",
                            "size": 10,
                            "solidity": 0.2
                          }
                        },
                        "type": "barpolar"
                      }
                    ],
                    "carpet": [
                      {
                        "aaxis": {
                          "endlinecolor": "#2a3f5f",
                          "gridcolor": "white",
                          "linecolor": "white",
                          "minorgridcolor": "white",
                          "startlinecolor": "#2a3f5f"
                        },
                        "baxis": {
                          "endlinecolor": "#2a3f5f",
                          "gridcolor": "white",
                          "linecolor": "white",
                          "minorgridcolor": "white",
                          "startlinecolor": "#2a3f5f"
                        },
                        "type": "carpet"
                      }
                    ],
                    "choropleth": [
                      {
                        "colorbar": {
                          "outlinewidth": 0,
                          "ticks": ""
                        },
                        "type": "choropleth"
                      }
                    ],
                    "contour": [
                      {
                        "colorbar": {
                          "outlinewidth": 0,
                          "ticks": ""
                        },
                        "colorscale": [
                          [
                            0,
                            "#0d0887"
                          ],
                          [
                            0.1111111111111111,
                            "#46039f"
                          ],
                          [
                            0.2222222222222222,
                            "#7201a8"
                          ],
                          [
                            0.3333333333333333,
                            "#9c179e"
                          ],
                          [
                            0.4444444444444444,
                            "#bd3786"
                          ],
                          [
                            0.5555555555555556,
                            "#d8576b"
                          ],
                          [
                            0.6666666666666666,
                            "#ed7953"
                          ],
                          [
                            0.7777777777777778,
                            "#fb9f3a"
                          ],
                          [
                            0.8888888888888888,
                            "#fdca26"
                          ],
                          [
                            1,
                            "#f0f921"
                          ]
                        ],
                        "type": "contour"
                      }
                    ],
                    "contourcarpet": [
                      {
                        "colorbar": {
                          "outlinewidth": 0,
                          "ticks": ""
                        },
                        "type": "contourcarpet"
                      }
                    ],
                    "heatmap": [
                      {
                        "colorbar": {
                          "outlinewidth": 0,
                          "ticks": ""
                        },
                        "colorscale": [
                          [
                            0,
                            "#0d0887"
                          ],
                          [
                            0.1111111111111111,
                            "#46039f"
                          ],
                          [
                            0.2222222222222222,
                            "#7201a8"
                          ],
                          [
                            0.3333333333333333,
                            "#9c179e"
                          ],
                          [
                            0.4444444444444444,
                            "#bd3786"
                          ],
                          [
                            0.5555555555555556,
                            "#d8576b"
                          ],
                          [
                            0.6666666666666666,
                            "#ed7953"
                          ],
                          [
                            0.7777777777777778,
                            "#fb9f3a"
                          ],
                          [
                            0.8888888888888888,
                            "#fdca26"
                          ],
                          [
                            1,
                            "#f0f921"
                          ]
                        ],
                        "type": "heatmap"
                      }
                    ],
                    "heatmapgl": [
                      {
                        "colorbar": {
                          "outlinewidth": 0,
                          "ticks": ""
                        },
                        "colorscale": [
                          [
                            0,
                            "#0d0887"
                          ],
                          [
                            0.1111111111111111,
                            "#46039f"
                          ],
                          [
                            0.2222222222222222,
                            "#7201a8"
                          ],
                          [
                            0.3333333333333333,
                            "#9c179e"
                          ],
                          [
                            0.4444444444444444,
                            "#bd3786"
                          ],
                          [
                            0.5555555555555556,
                            "#d8576b"
                          ],
                          [
                            0.6666666666666666,
                            "#ed7953"
                          ],
                          [
                            0.7777777777777778,
                            "#fb9f3a"
                          ],
                          [
                            0.8888888888888888,
                            "#fdca26"
                          ],
                          [
                            1,
                            "#f0f921"
                          ]
                        ],
                        "type": "heatmapgl"
                      }
                    ],
                    "histogram": [
                      {
                        "marker": {
                          "pattern": {
                            "fillmode": "overlay",
                            "size": 10,
                            "solidity": 0.2
                          }
                        },
                        "type": "histogram"
                      }
                    ],
                    "histogram2d": [
                      {
                        "colorbar": {
                          "outlinewidth": 0,
                          "ticks": ""
                        },
                        "colorscale": [
                          [
                            0,
                            "#0d0887"
                          ],
                          [
                            0.1111111111111111,
                            "#46039f"
                          ],
                          [
                            0.2222222222222222,
                            "#7201a8"
                          ],
                          [
                            0.3333333333333333,
                            "#9c179e"
                          ],
                          [
                            0.4444444444444444,
                            "#bd3786"
                          ],
                          [
                            0.5555555555555556,
                            "#d8576b"
                          ],
                          [
                            0.6666666666666666,
                            "#ed7953"
                          ],
                          [
                            0.7777777777777778,
                            "#fb9f3a"
                          ],
                          [
                            0.8888888888888888,
                            "#fdca26"
                          ],
                          [
                            1,
                            "#f0f921"
                          ]
                        ],
                        "type": "histogram2d"
                      }
                    ],
                    "histogram2dcontour": [
                      {
                        "colorbar": {
                          "outlinewidth": 0,
                          "ticks": ""
                        },
                        "colorscale": [
                          [
                            0,
                            "#0d0887"
                          ],
                          [
                            0.1111111111111111,
                            "#46039f"
                          ],
                          [
                            0.2222222222222222,
                            "#7201a8"
                          ],
                          [
                            0.3333333333333333,
                            "#9c179e"
                          ],
                          [
                            0.4444444444444444,
                            "#bd3786"
                          ],
                          [
                            0.5555555555555556,
                            "#d8576b"
                          ],
                          [
                            0.6666666666666666,
                            "#ed7953"
                          ],
                          [
                            0.7777777777777778,
                            "#fb9f3a"
                          ],
                          [
                            0.8888888888888888,
                            "#fdca26"
                          ],
                          [
                            1,
                            "#f0f921"
                          ]
                        ],
                        "type": "histogram2dcontour"
                      }
                    ],
                    "mesh3d": [
                      {
                        "colorbar": {
                          "outlinewidth": 0,
                          "ticks": ""
                        },
                        "type": "mesh3d"
                      }
                    ],
                    "parcoords": [
                      {
                        "line": {
                          "colorbar": {
                            "outlinewidth": 0,
                            "ticks": ""
                          }
                        },
                        "type": "parcoords"
                      }
                    ],
                    "pie": [
                      {
                        "automargin": true,
                        "type": "pie"
                      }
                    ],
                    "scatter": [
                      {
                        "fillpattern": {
                          "fillmode": "overlay",
                          "size": 10,
                          "solidity": 0.2
                        },
                        "type": "scatter"
                      }
                    ],
                    "scatter3d": [
                      {
                        "line": {
                          "colorbar": {
                            "outlinewidth": 0,
                            "ticks": ""
                          }
                        },
                        "marker": {
                          "colorbar": {
                            "outlinewidth": 0,
                            "ticks": ""
                          }
                        },
                        "type": "scatter3d"
                      }
                    ],
                    "scattercarpet": [
                      {
                        "marker": {
                          "colorbar": {
                            "outlinewidth": 0,
                            "ticks": ""
                          }
                        },
                        "type": "scattercarpet"
                      }
                    ],
                    "scattergeo": [
                      {
                        "marker": {
                          "colorbar": {
                            "outlinewidth": 0,
                            "ticks": ""
                          }
                        },
                        "type": "scattergeo"
                      }
                    ],
                    "scattergl": [
                      {
                        "marker": {
                          "colorbar": {
                            "outlinewidth": 0,
                            "ticks": ""
                          }
                        },
                        "type": "scattergl"
                      }
                    ],
                    "scattermapbox": [
                      {
                        "marker": {
                          "colorbar": {
                            "outlinewidth": 0,
                            "ticks": ""
                          }
                        },
                        "type": "scattermapbox"
                      }
                    ],
                    "scatterpolar": [
                      {
                        "marker": {
                          "colorbar": {
                            "outlinewidth": 0,
                            "ticks": ""
                          }
                        },
                        "type": "scatterpolar"
                      }
                    ],
                    "scatterpolargl": [
                      {
                        "marker": {
                          "colorbar": {
                            "outlinewidth": 0,
                            "ticks": ""
                          }
                        },
                        "type": "scatterpolargl"
                      }
                    ],
                    "scatterternary": [
                      {
                        "marker": {
                          "colorbar": {
                            "outlinewidth": 0,
                            "ticks": ""
                          }
                        },
                        "type": "scatterternary"
                      }
                    ],
                    "surface": [
                      {
                        "colorbar": {
                          "outlinewidth": 0,
                          "ticks": ""
                        },
                        "colorscale": [
                          [
                            0,
                            "#0d0887"
                          ],
                          [
                            0.1111111111111111,
                            "#46039f"
                          ],
                          [
                            0.2222222222222222,
                            "#7201a8"
                          ],
                          [
                            0.3333333333333333,
                            "#9c179e"
                          ],
                          [
                            0.4444444444444444,
                            "#bd3786"
                          ],
                          [
                            0.5555555555555556,
                            "#d8576b"
                          ],
                          [
                            0.6666666666666666,
                            "#ed7953"
                          ],
                          [
                            0.7777777777777778,
                            "#fb9f3a"
                          ],
                          [
                            0.8888888888888888,
                            "#fdca26"
                          ],
                          [
                            1,
                            "#f0f921"
                          ]
                        ],
                        "type": "surface"
                      }
                    ],
                    "table": [
                      {
                        "cells": {
                          "fill": {
                            "color": "#EBF0F8"
                          },
                          "line": {
                            "color": "white"
                          }
                        },
                        "header": {
                          "fill": {
                            "color": "#C8D4E3"
                          },
                          "line": {
                            "color": "white"
                          }
                        },
                        "type": "table"
                      }
                    ]
                  },
                  "layout": {
                    "annotationdefaults": {
                      "arrowcolor": "#2a3f5f",
                      "arrowhead": 0,
                      "arrowwidth": 1
                    },
                    "autotypenumbers": "strict",
                    "coloraxis": {
                      "colorbar": {
                        "outlinewidth": 0,
                        "ticks": ""
                      }
                    },
                    "colorscale": {
                      "diverging": [
                        [
                          0,
                          "#8e0152"
                        ],
                        [
                          0.1,
                          "#c51b7d"
                        ],
                        [
                          0.2,
                          "#de77ae"
                        ],
                        [
                          0.3,
                          "#f1b6da"
                        ],
                        [
                          0.4,
                          "#fde0ef"
                        ],
                        [
                          0.5,
                          "#f7f7f7"
                        ],
                        [
                          0.6,
                          "#e6f5d0"
                        ],
                        [
                          0.7,
                          "#b8e186"
                        ],
                        [
                          0.8,
                          "#7fbc41"
                        ],
                        [
                          0.9,
                          "#4d9221"
                        ],
                        [
                          1,
                          "#276419"
                        ]
                      ],
                      "sequential": [
                        [
                          0,
                          "#0d0887"
                        ],
                        [
                          0.1111111111111111,
                          "#46039f"
                        ],
                        [
                          0.2222222222222222,
                          "#7201a8"
                        ],
                        [
                          0.3333333333333333,
                          "#9c179e"
                        ],
                        [
                          0.4444444444444444,
                          "#bd3786"
                        ],
                        [
                          0.5555555555555556,
                          "#d8576b"
                        ],
                        [
                          0.6666666666666666,
                          "#ed7953"
                        ],
                        [
                          0.7777777777777778,
                          "#fb9f3a"
                        ],
                        [
                          0.8888888888888888,
                          "#fdca26"
                        ],
                        [
                          1,
                          "#f0f921"
                        ]
                      ],
                      "sequentialminus": [
                        [
                          0,
                          "#0d0887"
                        ],
                        [
                          0.1111111111111111,
                          "#46039f"
                        ],
                        [
                          0.2222222222222222,
                          "#7201a8"
                        ],
                        [
                          0.3333333333333333,
                          "#9c179e"
                        ],
                        [
                          0.4444444444444444,
                          "#bd3786"
                        ],
                        [
                          0.5555555555555556,
                          "#d8576b"
                        ],
                        [
                          0.6666666666666666,
                          "#ed7953"
                        ],
                        [
                          0.7777777777777778,
                          "#fb9f3a"
                        ],
                        [
                          0.8888888888888888,
                          "#fdca26"
                        ],
                        [
                          1,
                          "#f0f921"
                        ]
                      ]
                    },
                    "colorway": [
                      "#636efa",
                      "#EF553B",
                      "#00cc96",
                      "#ab63fa",
                      "#FFA15A",
                      "#19d3f3",
                      "#FF6692",
                      "#B6E880",
                      "#FF97FF",
                      "#FECB52"
                    ],
                    "font": {
                      "color": "#2a3f5f"
                    },
                    "geo": {
                      "bgcolor": "white",
                      "lakecolor": "white",
                      "landcolor": "#E5ECF6",
                      "showlakes": true,
                      "showland": true,
                      "subunitcolor": "white"
                    },
                    "hoverlabel": {
                      "align": "left"
                    },
                    "hovermode": "closest",
                    "mapbox": {
                      "style": "light"
                    },
                    "paper_bgcolor": "white",
                    "plot_bgcolor": "#E5ECF6",
                    "polar": {
                      "angularaxis": {
                        "gridcolor": "white",
                        "linecolor": "white",
                        "ticks": ""
                      },
                      "bgcolor": "#E5ECF6",
                      "radialaxis": {
                        "gridcolor": "white",
                        "linecolor": "white",
                        "ticks": ""
                      }
                    },
                    "scene": {
                      "xaxis": {
                        "backgroundcolor": "#E5ECF6",
                        "gridcolor": "white",
                        "gridwidth": 2,
                        "linecolor": "white",
                        "showbackground": true,
                        "ticks": "",
                        "zerolinecolor": "white"
                      },
                      "yaxis": {
                        "backgroundcolor": "#E5ECF6",
                        "gridcolor": "white",
                        "gridwidth": 2,
                        "linecolor": "white",
                        "showbackground": true,
                        "ticks": "",
                        "zerolinecolor": "white"
                      },
                      "zaxis": {
                        "backgroundcolor": "#E5ECF6",
                        "gridcolor": "white",
                        "gridwidth": 2,
                        "linecolor": "white",
                        "showbackground": true,
                        "ticks": "",
                        "zerolinecolor": "white"
                      }
                    },
                    "shapedefaults": {
                      "line": {
                        "color": "#2a3f5f"
                      }
                    },
                    "ternary": {
                      "aaxis": {
                        "gridcolor": "white",
                        "linecolor": "white",
                        "ticks": ""
                      },
                      "baxis": {
                        "gridcolor": "white",
                        "linecolor": "white",
                        "ticks": ""
                      },
                      "bgcolor": "#E5ECF6",
                      "caxis": {
                        "gridcolor": "white",
                        "linecolor": "white",
                        "ticks": ""
                      }
                    },
                    "title": {
                      "x": 0.05
                    },
                    "xaxis": {
                      "automargin": true,
                      "gridcolor": "white",
                      "linecolor": "white",
                      "ticks": "",
                      "title": {
                        "standoff": 15
                      },
                      "zerolinecolor": "white",
                      "zerolinewidth": 2
                    },
                    "yaxis": {
                      "automargin": true,
                      "gridcolor": "white",
                      "linecolor": "white",
                      "ticks": "",
                      "title": {
                        "standoff": 15
                      },
                      "zerolinecolor": "white",
                      "zerolinewidth": 2
                    }
                  }
                }
              }
            }
          },
          "metadata": {},
          "output_type": "display_data"
        }
      ],
      "source": [
        "# sunbust chart for the top 15 countries in 2018 with industry breakdown\n",
        "fig = px.sunburst(data_frame=df_15, path=['Country', 'Ind Code'], values='Value (USD)', color='Value (USD)', hover_name='Ind Code')\n",
        "fig.show()"
      ]
    },
    {
      "cell_type": "code",
      "execution_count": 16,
      "metadata": {},
      "outputs": [
        {
          "data": {
            "application/vnd.plotly.v1+json": {
              "config": {
                "plotlyServerURL": "https://plot.ly"
              },
              "data": [
                {
                  "branchvalues": "total",
                  "customdata": [
                    [
                      48565
                    ],
                    [
                      25865.727072578688
                    ],
                    [
                      51689.04164645729
                    ],
                    [
                      53178.722485648774
                    ],
                    [
                      47080.3
                    ],
                    [
                      56693.2
                    ],
                    [
                      33433.457521232405
                    ],
                    [
                      117296.9352430084
                    ],
                    [
                      23360.299999999996
                    ],
                    [
                      56487.19420944343
                    ],
                    [
                      410643.69
                    ],
                    [
                      28077.905897595
                    ],
                    [
                      27596.461184710668
                    ],
                    [
                      17812.269378702822
                    ],
                    [
                      244851.52651085766
                    ],
                    [
                      18578.4
                    ],
                    [
                      2063.6254834597275
                    ],
                    [
                      6436.9827057353505
                    ],
                    [
                      8748.205893376635
                    ],
                    [
                      58616.4
                    ],
                    [
                      21869.9
                    ],
                    [
                      29284.462062738163
                    ],
                    [
                      14367
                    ],
                    [
                      15516.8
                    ],
                    [
                      8598.9671300103
                    ],
                    [
                      241887.41
                    ],
                    [
                      3676.803676009411
                    ],
                    [
                      10294.163588939236
                    ],
                    [
                      1295.1040144450008
                    ],
                    [
                      25855.837273645695
                    ],
                    [
                      3529.5
                    ],
                    [
                      8297.00645609043
                    ],
                    [
                      3403.4610680342166
                    ],
                    [
                      7739.295621575473
                    ],
                    [
                      7389.4
                    ],
                    [
                      5118.5
                    ],
                    [
                      5492.22109965435
                    ],
                    [
                      8776.1
                    ],
                    [
                      2132
                    ],
                    [
                      1721.4451833829617
                    ],
                    [
                      54181.1
                    ],
                    [
                      4015.8411953556847
                    ],
                    [
                      2263.474257217499
                    ],
                    [
                      1153.7926071000634
                    ],
                    [
                      36673.786389599256
                    ],
                    [
                      12966.6
                    ],
                    [
                      10428.09813861199
                    ],
                    [
                      10324.833999069398
                    ],
                    [
                      22099.60005296652
                    ],
                    [
                      11658.899999999998
                    ],
                    [
                      9408.2
                    ],
                    [
                      12064.911752401498
                    ],
                    [
                      41584.248705241145
                    ],
                    [
                      12022.199999999999
                    ],
                    [
                      5139.780376353449
                    ],
                    [
                      124635.2
                    ],
                    [
                      6827.153934906341
                    ],
                    [
                      7228.665176737252
                    ],
                    [
                      3953.4615709036607
                    ],
                    [
                      100552.81223770817
                    ],
                    [
                      28034.9
                    ],
                    [
                      11804.403252058306
                    ],
                    [
                      3165.0986322710496
                    ],
                    [
                      5168.241135809308
                    ],
                    [
                      37750.2
                    ],
                    [
                      21397.3
                    ],
                    [
                      1782.7556354230753
                    ],
                    [
                      43391.07802864064
                    ],
                    [
                      17223.5
                    ],
                    [
                      6868.678685583909
                    ],
                    [
                      175172.09
                    ],
                    [
                      36602.60796379694
                    ],
                    [
                      3423.3478293255216
                    ],
                    [
                      1679.7745131886768
                    ],
                    [
                      174183.29319002686
                    ],
                    [
                      30456.5
                    ],
                    [
                      17406.173521007313
                    ],
                    [
                      42017.01241730066
                    ],
                    [
                      86840.26024637156
                    ],
                    [
                      69278.4
                    ],
                    [
                      15372.4
                    ],
                    [
                      28239.607287302795
                    ],
                    [
                      103767.5
                    ],
                    [
                      50103
                    ],
                    [
                      15466.799053922769
                    ],
                    [
                      481399.69
                    ],
                    [
                      21621.947786272747
                    ],
                    [
                      19045.864989037036
                    ],
                    [
                      18545.3618117776
                    ],
                    [
                      366098.4812901396
                    ],
                    [
                      10043.3
                    ],
                    [
                      8410.025089184426
                    ],
                    [
                      13317.643637276795
                    ],
                    [
                      35751.06172008487
                    ],
                    [
                      18059.8
                    ],
                    [
                      5991.2
                    ],
                    [
                      15585.279516083156
                    ],
                    [
                      51255.5
                    ],
                    [
                      24456
                    ],
                    [
                      6683.75522833503
                    ],
                    [
                      119899.5
                    ],
                    [
                      4021.3353258116686
                    ],
                    [
                      7371.540709300391
                    ],
                    [
                      3501.88477492823
                    ],
                    [
                      82302.82657520364
                    ],
                    [
                      7876.3
                    ],
                    [
                      6358.161145096541
                    ],
                    [
                      9229.604643214281
                    ],
                    [
                      20891.928884106273
                    ],
                    [
                      29926.1
                    ],
                    [
                      6034.399999999999
                    ],
                    [
                      11810.252097475983
                    ],
                    [
                      26693.95096291241
                    ],
                    [
                      12435.1
                    ],
                    [
                      5582.797808394519
                    ],
                    [
                      361271.19
                    ],
                    [
                      7563.2404061877605
                    ],
                    [
                      6561.7878313759475
                    ],
                    [
                      2393.260558793022
                    ],
                    [
                      63726.56563047585
                    ],
                    [
                      11298.9
                    ],
                    [
                      9556.385366493256
                    ],
                    [
                      6739.396435040061
                    ],
                    [
                      25942.868935645998
                    ],
                    [
                      44783.8
                    ],
                    [
                      8092.5
                    ],
                    [
                      9833.501725373866
                    ],
                    [
                      83444.84196948663
                    ],
                    [
                      28117.2
                    ],
                    [
                      12175.29648436546
                    ],
                    [
                      469966.91
                    ],
                    [
                      33462.81909992457
                    ],
                    [
                      6745.740324092362
                    ],
                    [
                      2713.974410744833
                    ],
                    [
                      75112.80790139793
                    ],
                    [
                      35121.3
                    ],
                    [
                      34148.87714115393
                    ],
                    [
                      58329.65088286767
                    ],
                    [
                      288745.15623700886
                    ],
                    [
                      81611.1
                    ],
                    [
                      32757.5
                    ],
                    [
                      105033.08344791093
                    ],
                    [
                      363737.94
                    ],
                    [
                      241659
                    ],
                    [
                      42865.347147240675
                    ],
                    [
                      1042085.5
                    ],
                    [
                      27332.914079381757
                    ],
                    [
                      30427.524549898226
                    ],
                    [
                      31169.88416385199
                    ],
                    [
                      695223.3951986234
                    ],
                    [
                      24886.2
                    ],
                    [
                      24588.88160720286
                    ],
                    [
                      38082.60470810951
                    ],
                    [
                      176212.70688236255
                    ],
                    [
                      55749.3
                    ],
                    [
                      24612.9
                    ],
                    [
                      27287.20106467868
                    ],
                    [
                      151801.1602797129
                    ],
                    [
                      49990.4
                    ],
                    [
                      47046.33842822087
                    ],
                    [
                      361992.31
                    ],
                    [
                      17472.269832932667
                    ],
                    [
                      19529.866400216913
                    ],
                    [
                      4970.342467239634
                    ],
                    [
                      307604.1692861696
                    ],
                    [
                      8036.47120686275
                    ],
                    [
                      8103.7724050801835
                    ],
                    [
                      28758.635471453053
                    ],
                    [
                      16155.68137027158
                    ],
                    [
                      88641.35063894936
                    ],
                    [
                      6213.605709804313
                    ],
                    [
                      3089.655298848726
                    ],
                    [
                      5063.481551017301
                    ],
                    [
                      5911.530718464098
                    ],
                    [
                      120380.47847734948
                    ],
                    [
                      29137.91656764938
                    ],
                    [
                      19962.80788996757
                    ],
                    [
                      39241.72205152627
                    ],
                    [
                      169375.1148165457
                    ],
                    [
                      54260.69797364689
                    ],
                    [
                      30470.15413941779
                    ],
                    [
                      52392.04639721206
                    ],
                    [
                      157499.84682946678
                    ],
                    [
                      138745.8687053775
                    ],
                    [
                      36814.68150154217
                    ],
                    [
                      544029.9939392023
                    ],
                    [
                      25311.031542582088
                    ],
                    [
                      19105.73503223236
                    ],
                    [
                      18309.074322091874
                    ],
                    [
                      368859.42714288674
                    ]
                  ],
                  "domain": {
                    "x": [
                      0,
                      1
                    ],
                    "y": [
                      0,
                      1
                    ]
                  },
                  "hovertemplate": "<b>%{hovertext}</b><br><br>labels=%{label}<br>Value (USD)_sum=%{value}<br>parent=%{parent}<br>id=%{id}<br>Value (USD)=%{color}<extra></extra>",
                  "hovertext": [
                    "A",
                    "A",
                    "A",
                    "A",
                    "A",
                    "A",
                    "A",
                    "A",
                    "A",
                    "A",
                    "A",
                    "A",
                    "A",
                    "A",
                    "A",
                    "B",
                    "B",
                    "B",
                    "B",
                    "B",
                    "B",
                    "B",
                    "B",
                    "B",
                    "B",
                    "B",
                    "B",
                    "B",
                    "B",
                    "B",
                    "C",
                    "C",
                    "C",
                    "C",
                    "C",
                    "C",
                    "C",
                    "C",
                    "C",
                    "C",
                    "C",
                    "C",
                    "C",
                    "C",
                    "C",
                    "D",
                    "D",
                    "D",
                    "D",
                    "D",
                    "D",
                    "D",
                    "D",
                    "D",
                    "D",
                    "D",
                    "D",
                    "D",
                    "D",
                    "D",
                    "E",
                    "E",
                    "E",
                    "E",
                    "E",
                    "E",
                    "E",
                    "E",
                    "E",
                    "E",
                    "E",
                    "E",
                    "E",
                    "E",
                    "E",
                    "F",
                    "F",
                    "F",
                    "F",
                    "F",
                    "F",
                    "F",
                    "F",
                    "F",
                    "F",
                    "F",
                    "F",
                    "F",
                    "F",
                    "F",
                    "G",
                    "G",
                    "G",
                    "G",
                    "G",
                    "G",
                    "G",
                    "G",
                    "G",
                    "G",
                    "G",
                    "G",
                    "G",
                    "G",
                    "G",
                    "H",
                    "H",
                    "H",
                    "H",
                    "H",
                    "H",
                    "H",
                    "H",
                    "H",
                    "H",
                    "H",
                    "H",
                    "H",
                    "H",
                    "H",
                    "I",
                    "I",
                    "I",
                    "I",
                    "I",
                    "I",
                    "I",
                    "I",
                    "I",
                    "I",
                    "I",
                    "I",
                    "I",
                    "I",
                    "I",
                    "J",
                    "J",
                    "J",
                    "J",
                    "J",
                    "J",
                    "J",
                    "J",
                    "J",
                    "J",
                    "J",
                    "J",
                    "J",
                    "J",
                    "J",
                    "K",
                    "K",
                    "K",
                    "K",
                    "K",
                    "K",
                    "K",
                    "K",
                    "K",
                    "K",
                    "K",
                    "K",
                    "K",
                    "K",
                    "K",
                    "L",
                    "L",
                    "L",
                    "L",
                    "L",
                    "L",
                    "L",
                    "L",
                    "L",
                    "L",
                    "(?)",
                    "(?)",
                    "(?)",
                    "(?)",
                    "(?)",
                    "(?)",
                    "(?)",
                    "(?)",
                    "(?)",
                    "(?)",
                    "(?)",
                    "(?)",
                    "(?)",
                    "(?)",
                    "(?)"
                  ],
                  "ids": [
                    "Brazil/A",
                    "Canada/A",
                    "France/A",
                    "Germany/A",
                    "India/A",
                    "Indonesia/A",
                    "Italy/A",
                    "Japan/A",
                    "Korea/A",
                    "Mexico/A",
                    "People's Republic of China/A",
                    "Russian Federation/A",
                    "Spain/A",
                    "The Netherlands/A",
                    "United States/A",
                    "Brazil/B",
                    "Canada/B",
                    "France/B",
                    "Germany/B",
                    "India/B",
                    "Indonesia/B",
                    "Italy/B",
                    "Japan/B",
                    "Korea/B",
                    "Mexico/B",
                    "People's Republic of China/B",
                    "Russian Federation/B",
                    "Spain/B",
                    "The Netherlands/B",
                    "United States/B",
                    "Brazil/C",
                    "Canada/C",
                    "France/C",
                    "Germany/C",
                    "India/C",
                    "Indonesia/C",
                    "Italy/C",
                    "Japan/C",
                    "Korea/C",
                    "Mexico/C",
                    "People's Republic of China/C",
                    "Russian Federation/C",
                    "Spain/C",
                    "The Netherlands/C",
                    "United States/C",
                    "Brazil/D",
                    "Canada/D",
                    "France/D",
                    "Germany/D",
                    "India/D",
                    "Indonesia/D",
                    "Italy/D",
                    "Japan/D",
                    "Korea/D",
                    "Mexico/D",
                    "People's Republic of China/D",
                    "Russian Federation/D",
                    "Spain/D",
                    "The Netherlands/D",
                    "United States/D",
                    "Brazil/E",
                    "Canada/E",
                    "France/E",
                    "Germany/E",
                    "India/E",
                    "Indonesia/E",
                    "Italy/E",
                    "Japan/E",
                    "Korea/E",
                    "Mexico/E",
                    "People's Republic of China/E",
                    "Russian Federation/E",
                    "Spain/E",
                    "The Netherlands/E",
                    "United States/E",
                    "Brazil/F",
                    "Canada/F",
                    "France/F",
                    "Germany/F",
                    "India/F",
                    "Indonesia/F",
                    "Italy/F",
                    "Japan/F",
                    "Korea/F",
                    "Mexico/F",
                    "People's Republic of China/F",
                    "Russian Federation/F",
                    "Spain/F",
                    "The Netherlands/F",
                    "United States/F",
                    "Brazil/G",
                    "Canada/G",
                    "France/G",
                    "Germany/G",
                    "India/G",
                    "Indonesia/G",
                    "Italy/G",
                    "Japan/G",
                    "Korea/G",
                    "Mexico/G",
                    "People's Republic of China/G",
                    "Russian Federation/G",
                    "Spain/G",
                    "The Netherlands/G",
                    "United States/G",
                    "Brazil/H",
                    "Canada/H",
                    "France/H",
                    "Germany/H",
                    "India/H",
                    "Indonesia/H",
                    "Italy/H",
                    "Japan/H",
                    "Korea/H",
                    "Mexico/H",
                    "People's Republic of China/H",
                    "Russian Federation/H",
                    "Spain/H",
                    "The Netherlands/H",
                    "United States/H",
                    "Brazil/I",
                    "Canada/I",
                    "France/I",
                    "Germany/I",
                    "India/I",
                    "Indonesia/I",
                    "Italy/I",
                    "Japan/I",
                    "Korea/I",
                    "Mexico/I",
                    "People's Republic of China/I",
                    "Russian Federation/I",
                    "Spain/I",
                    "The Netherlands/I",
                    "United States/I",
                    "Brazil/J",
                    "Canada/J",
                    "France/J",
                    "Germany/J",
                    "India/J",
                    "Indonesia/J",
                    "Italy/J",
                    "Japan/J",
                    "Korea/J",
                    "Mexico/J",
                    "People's Republic of China/J",
                    "Russian Federation/J",
                    "Spain/J",
                    "The Netherlands/J",
                    "United States/J",
                    "Brazil/K",
                    "Canada/K",
                    "France/K",
                    "Germany/K",
                    "India/K",
                    "Indonesia/K",
                    "Italy/K",
                    "Japan/K",
                    "Korea/K",
                    "Mexico/K",
                    "People's Republic of China/K",
                    "Russian Federation/K",
                    "Spain/K",
                    "The Netherlands/K",
                    "United States/K",
                    "Canada/L",
                    "France/L",
                    "Germany/L",
                    "Italy/L",
                    "Japan/L",
                    "Mexico/L",
                    "Russian Federation/L",
                    "Spain/L",
                    "The Netherlands/L",
                    "United States/L",
                    "Brazil",
                    "Canada",
                    "France",
                    "Germany",
                    "India",
                    "Indonesia",
                    "Italy",
                    "Japan",
                    "Korea",
                    "Mexico",
                    "People's Republic of China",
                    "Russian Federation",
                    "Spain",
                    "The Netherlands",
                    "United States"
                  ],
                  "labels": [
                    "A",
                    "A",
                    "A",
                    "A",
                    "A",
                    "A",
                    "A",
                    "A",
                    "A",
                    "A",
                    "A",
                    "A",
                    "A",
                    "A",
                    "A",
                    "B",
                    "B",
                    "B",
                    "B",
                    "B",
                    "B",
                    "B",
                    "B",
                    "B",
                    "B",
                    "B",
                    "B",
                    "B",
                    "B",
                    "B",
                    "C",
                    "C",
                    "C",
                    "C",
                    "C",
                    "C",
                    "C",
                    "C",
                    "C",
                    "C",
                    "C",
                    "C",
                    "C",
                    "C",
                    "C",
                    "D",
                    "D",
                    "D",
                    "D",
                    "D",
                    "D",
                    "D",
                    "D",
                    "D",
                    "D",
                    "D",
                    "D",
                    "D",
                    "D",
                    "D",
                    "E",
                    "E",
                    "E",
                    "E",
                    "E",
                    "E",
                    "E",
                    "E",
                    "E",
                    "E",
                    "E",
                    "E",
                    "E",
                    "E",
                    "E",
                    "F",
                    "F",
                    "F",
                    "F",
                    "F",
                    "F",
                    "F",
                    "F",
                    "F",
                    "F",
                    "F",
                    "F",
                    "F",
                    "F",
                    "F",
                    "G",
                    "G",
                    "G",
                    "G",
                    "G",
                    "G",
                    "G",
                    "G",
                    "G",
                    "G",
                    "G",
                    "G",
                    "G",
                    "G",
                    "G",
                    "H",
                    "H",
                    "H",
                    "H",
                    "H",
                    "H",
                    "H",
                    "H",
                    "H",
                    "H",
                    "H",
                    "H",
                    "H",
                    "H",
                    "H",
                    "I",
                    "I",
                    "I",
                    "I",
                    "I",
                    "I",
                    "I",
                    "I",
                    "I",
                    "I",
                    "I",
                    "I",
                    "I",
                    "I",
                    "I",
                    "J",
                    "J",
                    "J",
                    "J",
                    "J",
                    "J",
                    "J",
                    "J",
                    "J",
                    "J",
                    "J",
                    "J",
                    "J",
                    "J",
                    "J",
                    "K",
                    "K",
                    "K",
                    "K",
                    "K",
                    "K",
                    "K",
                    "K",
                    "K",
                    "K",
                    "K",
                    "K",
                    "K",
                    "K",
                    "K",
                    "L",
                    "L",
                    "L",
                    "L",
                    "L",
                    "L",
                    "L",
                    "L",
                    "L",
                    "L",
                    "Brazil",
                    "Canada",
                    "France",
                    "Germany",
                    "India",
                    "Indonesia",
                    "Italy",
                    "Japan",
                    "Korea",
                    "Mexico",
                    "People's Republic of China",
                    "Russian Federation",
                    "Spain",
                    "The Netherlands",
                    "United States"
                  ],
                  "marker": {
                    "coloraxis": "coloraxis",
                    "colors": [
                      48565,
                      25865.727072578688,
                      51689.04164645729,
                      53178.722485648774,
                      47080.3,
                      56693.2,
                      33433.457521232405,
                      117296.9352430084,
                      23360.299999999996,
                      56487.19420944343,
                      410643.69,
                      28077.905897595,
                      27596.461184710668,
                      17812.269378702822,
                      244851.52651085766,
                      18578.4,
                      2063.6254834597275,
                      6436.9827057353505,
                      8748.205893376635,
                      58616.4,
                      21869.9,
                      29284.462062738163,
                      14367,
                      15516.8,
                      8598.9671300103,
                      241887.41,
                      3676.803676009411,
                      10294.163588939236,
                      1295.1040144450008,
                      25855.837273645695,
                      3529.5,
                      8297.00645609043,
                      3403.4610680342166,
                      7739.295621575473,
                      7389.4,
                      5118.5,
                      5492.22109965435,
                      8776.1,
                      2132,
                      1721.4451833829617,
                      54181.1,
                      4015.8411953556847,
                      2263.474257217499,
                      1153.7926071000634,
                      36673.786389599256,
                      12966.6,
                      10428.09813861199,
                      10324.833999069398,
                      22099.60005296652,
                      11658.899999999998,
                      9408.2,
                      12064.911752401498,
                      41584.248705241145,
                      12022.199999999999,
                      5139.780376353449,
                      124635.2,
                      6827.153934906341,
                      7228.665176737252,
                      3953.4615709036607,
                      100552.81223770817,
                      28034.9,
                      11804.403252058306,
                      3165.0986322710496,
                      5168.241135809308,
                      37750.2,
                      21397.3,
                      1782.7556354230753,
                      43391.07802864064,
                      17223.5,
                      6868.678685583909,
                      175172.09,
                      36602.60796379694,
                      3423.3478293255216,
                      1679.7745131886768,
                      174183.29319002686,
                      30456.5,
                      17406.173521007313,
                      42017.01241730066,
                      86840.26024637156,
                      69278.4,
                      15372.4,
                      28239.607287302795,
                      103767.5,
                      50103,
                      15466.799053922769,
                      481399.69,
                      21621.947786272747,
                      19045.864989037036,
                      18545.3618117776,
                      366098.4812901396,
                      10043.3,
                      8410.025089184426,
                      13317.643637276795,
                      35751.06172008487,
                      18059.8,
                      5991.2,
                      15585.279516083156,
                      51255.5,
                      24456,
                      6683.75522833503,
                      119899.5,
                      4021.3353258116686,
                      7371.540709300391,
                      3501.88477492823,
                      82302.82657520364,
                      7876.3,
                      6358.161145096541,
                      9229.604643214281,
                      20891.928884106273,
                      29926.1,
                      6034.399999999999,
                      11810.252097475983,
                      26693.95096291241,
                      12435.1,
                      5582.797808394519,
                      361271.19,
                      7563.2404061877605,
                      6561.7878313759475,
                      2393.260558793022,
                      63726.56563047585,
                      11298.9,
                      9556.385366493256,
                      6739.396435040061,
                      25942.868935645998,
                      44783.8,
                      8092.5,
                      9833.501725373866,
                      83444.84196948663,
                      28117.2,
                      12175.29648436546,
                      469966.91,
                      33462.81909992457,
                      6745.740324092362,
                      2713.974410744833,
                      75112.80790139793,
                      35121.3,
                      34148.87714115393,
                      58329.65088286767,
                      288745.15623700886,
                      81611.1,
                      32757.5,
                      105033.08344791093,
                      363737.94,
                      241659,
                      42865.347147240675,
                      1042085.5,
                      27332.914079381757,
                      30427.524549898226,
                      31169.88416385199,
                      695223.3951986234,
                      24886.2,
                      24588.88160720286,
                      38082.60470810951,
                      176212.70688236255,
                      55749.3,
                      24612.9,
                      27287.20106467868,
                      151801.1602797129,
                      49990.4,
                      47046.33842822087,
                      361992.31,
                      17472.269832932667,
                      19529.866400216913,
                      4970.342467239634,
                      307604.1692861696,
                      8036.47120686275,
                      8103.7724050801835,
                      28758.635471453053,
                      16155.68137027158,
                      88641.35063894936,
                      6213.605709804313,
                      3089.655298848726,
                      5063.481551017301,
                      5911.530718464098,
                      120380.47847734948,
                      29137.91656764938,
                      19962.80788996757,
                      39241.72205152627,
                      169375.1148165457,
                      54260.69797364689,
                      30470.15413941779,
                      52392.04639721206,
                      157499.84682946678,
                      138745.8687053775,
                      36814.68150154217,
                      544029.9939392023,
                      25311.031542582088,
                      19105.73503223236,
                      18309.074322091874,
                      368859.42714288674
                    ]
                  },
                  "name": "",
                  "parents": [
                    "Brazil",
                    "Canada",
                    "France",
                    "Germany",
                    "India",
                    "Indonesia",
                    "Italy",
                    "Japan",
                    "Korea",
                    "Mexico",
                    "People's Republic of China",
                    "Russian Federation",
                    "Spain",
                    "The Netherlands",
                    "United States",
                    "Brazil",
                    "Canada",
                    "France",
                    "Germany",
                    "India",
                    "Indonesia",
                    "Italy",
                    "Japan",
                    "Korea",
                    "Mexico",
                    "People's Republic of China",
                    "Russian Federation",
                    "Spain",
                    "The Netherlands",
                    "United States",
                    "Brazil",
                    "Canada",
                    "France",
                    "Germany",
                    "India",
                    "Indonesia",
                    "Italy",
                    "Japan",
                    "Korea",
                    "Mexico",
                    "People's Republic of China",
                    "Russian Federation",
                    "Spain",
                    "The Netherlands",
                    "United States",
                    "Brazil",
                    "Canada",
                    "France",
                    "Germany",
                    "India",
                    "Indonesia",
                    "Italy",
                    "Japan",
                    "Korea",
                    "Mexico",
                    "People's Republic of China",
                    "Russian Federation",
                    "Spain",
                    "The Netherlands",
                    "United States",
                    "Brazil",
                    "Canada",
                    "France",
                    "Germany",
                    "India",
                    "Indonesia",
                    "Italy",
                    "Japan",
                    "Korea",
                    "Mexico",
                    "People's Republic of China",
                    "Russian Federation",
                    "Spain",
                    "The Netherlands",
                    "United States",
                    "Brazil",
                    "Canada",
                    "France",
                    "Germany",
                    "India",
                    "Indonesia",
                    "Italy",
                    "Japan",
                    "Korea",
                    "Mexico",
                    "People's Republic of China",
                    "Russian Federation",
                    "Spain",
                    "The Netherlands",
                    "United States",
                    "Brazil",
                    "Canada",
                    "France",
                    "Germany",
                    "India",
                    "Indonesia",
                    "Italy",
                    "Japan",
                    "Korea",
                    "Mexico",
                    "People's Republic of China",
                    "Russian Federation",
                    "Spain",
                    "The Netherlands",
                    "United States",
                    "Brazil",
                    "Canada",
                    "France",
                    "Germany",
                    "India",
                    "Indonesia",
                    "Italy",
                    "Japan",
                    "Korea",
                    "Mexico",
                    "People's Republic of China",
                    "Russian Federation",
                    "Spain",
                    "The Netherlands",
                    "United States",
                    "Brazil",
                    "Canada",
                    "France",
                    "Germany",
                    "India",
                    "Indonesia",
                    "Italy",
                    "Japan",
                    "Korea",
                    "Mexico",
                    "People's Republic of China",
                    "Russian Federation",
                    "Spain",
                    "The Netherlands",
                    "United States",
                    "Brazil",
                    "Canada",
                    "France",
                    "Germany",
                    "India",
                    "Indonesia",
                    "Italy",
                    "Japan",
                    "Korea",
                    "Mexico",
                    "People's Republic of China",
                    "Russian Federation",
                    "Spain",
                    "The Netherlands",
                    "United States",
                    "Brazil",
                    "Canada",
                    "France",
                    "Germany",
                    "India",
                    "Indonesia",
                    "Italy",
                    "Japan",
                    "Korea",
                    "Mexico",
                    "People's Republic of China",
                    "Russian Federation",
                    "Spain",
                    "The Netherlands",
                    "United States",
                    "Canada",
                    "France",
                    "Germany",
                    "Italy",
                    "Japan",
                    "Mexico",
                    "Russian Federation",
                    "Spain",
                    "The Netherlands",
                    "United States",
                    "",
                    "",
                    "",
                    "",
                    "",
                    "",
                    "",
                    "",
                    "",
                    "",
                    "",
                    "",
                    "",
                    "",
                    ""
                  ],
                  "type": "treemap",
                  "values": [
                    48565,
                    51693.96000000001,
                    103330.76999999999,
                    106130.28,
                    47080.3,
                    56693.2,
                    66736.43000000001,
                    234186.96000000002,
                    23360.3,
                    112924.23999999999,
                    410643.69,
                    55953.91,
                    55071.59,
                    35381.78,
                    489671.68,
                    18578.4,
                    4125.99,
                    12868.96,
                    17489.6,
                    58616.4,
                    21869.9,
                    58455.649999999994,
                    14367,
                    15516.8,
                    17187.1,
                    241887.41,
                    7353.3,
                    20554.82,
                    2576.67,
                    51709.31,
                    3529.5,
                    16362.72,
                    6778.0599999999995,
                    15414.54,
                    7389.4,
                    5118.5,
                    10953.26,
                    8776.1,
                    2132,
                    3442.25,
                    54181.1,
                    8028.74,
                    4516.799999999999,
                    2261.67,
                    72966.36,
                    12966.6,
                    20723.46,
                    20287.92,
                    44037.25,
                    11658.9,
                    9408.2,
                    24011.05,
                    82828.86,
                    12022.2,
                    10278.369999999999,
                    124635.2,
                    13521.439999999999,
                    14259.02,
                    7821.74,
                    200966.41999999998,
                    28034.9,
                    23584.940000000002,
                    6031.969999999999,
                    10073.61,
                    37750.2,
                    21397.3,
                    3023.34,
                    78771.99,
                    17223.5,
                    12780.58,
                    175172.09,
                    69351.04000000001,
                    6738.09,
                    3295.63,
                    347503.28,
                    30456.5,
                    34807.88,
                    83665.72,
                    172422.5,
                    69278.4,
                    15372.4,
                    55235.8,
                    103767.5,
                    50103,
                    30910.690000000002,
                    481399.69,
                    43178.490000000005,
                    37448.81,
                    36612.22,
                    730585.53,
                    10043.3,
                    16819.08,
                    26630.83,
                    71501.53,
                    18059.8,
                    5991.2,
                    31148.739999999998,
                    51255.5,
                    24456,
                    13367.2,
                    119899.5,
                    8039,
                    14733.25,
                    6997.99,
                    164587.07,
                    7876.3,
                    12711.33,
                    18440.199999999997,
                    41695.01,
                    29926.1,
                    6034.4,
                    23589.4,
                    53103.479999999996,
                    12435.1,
                    11164.189999999999,
                    361271.19,
                    15087.849999999999,
                    13083.78,
                    4772.25,
                    127383.07,
                    11298.9,
                    19085.89,
                    13449.52,
                    51745.19,
                    44783.8,
                    8092.5,
                    19117.190000000002,
                    165679.57,
                    28117.2,
                    24241.199999999997,
                    469966.91,
                    66255.78,
                    12909.9,
                    5407.25,
                    149390.59,
                    35121.3,
                    68291.26000000001,
                    116521.88,
                    576632.85,
                    81611.1,
                    32757.5,
                    209726.82,
                    363737.94,
                    241659,
                    85729.98000000001,
                    1042085.5,
                    54438.2,
                    60850.46,
                    62307.33,
                    1390193.12,
                    24886.2,
                    49132.130000000005,
                    76153.39,
                    352190.34,
                    55749.3,
                    24612.9,
                    54574.4,
                    301324.66000000003,
                    49990.4,
                    94087.52,
                    361992.31,
                    34837.45,
                    39001.85,
                    9934.26,
                    615203.81,
                    16067.61,
                    16185.240000000002,
                    57391.08,
                    32224.05,
                    169858.53000000003,
                    12425.96,
                    6155.79,
                    10115.49,
                    11797.11,
                    240756.36,
                    231356.9,
                    333406.25,
                    500344.46,
                    1516723.78,
                    461903.7,
                    207348,
                    588796.13,
                    1627658.09,
                    477015.5,
                    428539.27999999997,
                    3843134.59,
                    382200.99,
                    289283.86,
                    189165.9,
                    4580916.600000001
                  ]
                }
              ],
              "layout": {
                "coloraxis": {
                  "colorbar": {
                    "title": {
                      "text": "Value (USD)"
                    }
                  },
                  "colorscale": [
                    [
                      0,
                      "#0d0887"
                    ],
                    [
                      0.1111111111111111,
                      "#46039f"
                    ],
                    [
                      0.2222222222222222,
                      "#7201a8"
                    ],
                    [
                      0.3333333333333333,
                      "#9c179e"
                    ],
                    [
                      0.4444444444444444,
                      "#bd3786"
                    ],
                    [
                      0.5555555555555556,
                      "#d8576b"
                    ],
                    [
                      0.6666666666666666,
                      "#ed7953"
                    ],
                    [
                      0.7777777777777778,
                      "#fb9f3a"
                    ],
                    [
                      0.8888888888888888,
                      "#fdca26"
                    ],
                    [
                      1,
                      "#f0f921"
                    ]
                  ]
                },
                "legend": {
                  "tracegroupgap": 0
                },
                "margin": {
                  "t": 60
                },
                "template": {
                  "data": {
                    "bar": [
                      {
                        "error_x": {
                          "color": "#2a3f5f"
                        },
                        "error_y": {
                          "color": "#2a3f5f"
                        },
                        "marker": {
                          "line": {
                            "color": "#E5ECF6",
                            "width": 0.5
                          },
                          "pattern": {
                            "fillmode": "overlay",
                            "size": 10,
                            "solidity": 0.2
                          }
                        },
                        "type": "bar"
                      }
                    ],
                    "barpolar": [
                      {
                        "marker": {
                          "line": {
                            "color": "#E5ECF6",
                            "width": 0.5
                          },
                          "pattern": {
                            "fillmode": "overlay",
                            "size": 10,
                            "solidity": 0.2
                          }
                        },
                        "type": "barpolar"
                      }
                    ],
                    "carpet": [
                      {
                        "aaxis": {
                          "endlinecolor": "#2a3f5f",
                          "gridcolor": "white",
                          "linecolor": "white",
                          "minorgridcolor": "white",
                          "startlinecolor": "#2a3f5f"
                        },
                        "baxis": {
                          "endlinecolor": "#2a3f5f",
                          "gridcolor": "white",
                          "linecolor": "white",
                          "minorgridcolor": "white",
                          "startlinecolor": "#2a3f5f"
                        },
                        "type": "carpet"
                      }
                    ],
                    "choropleth": [
                      {
                        "colorbar": {
                          "outlinewidth": 0,
                          "ticks": ""
                        },
                        "type": "choropleth"
                      }
                    ],
                    "contour": [
                      {
                        "colorbar": {
                          "outlinewidth": 0,
                          "ticks": ""
                        },
                        "colorscale": [
                          [
                            0,
                            "#0d0887"
                          ],
                          [
                            0.1111111111111111,
                            "#46039f"
                          ],
                          [
                            0.2222222222222222,
                            "#7201a8"
                          ],
                          [
                            0.3333333333333333,
                            "#9c179e"
                          ],
                          [
                            0.4444444444444444,
                            "#bd3786"
                          ],
                          [
                            0.5555555555555556,
                            "#d8576b"
                          ],
                          [
                            0.6666666666666666,
                            "#ed7953"
                          ],
                          [
                            0.7777777777777778,
                            "#fb9f3a"
                          ],
                          [
                            0.8888888888888888,
                            "#fdca26"
                          ],
                          [
                            1,
                            "#f0f921"
                          ]
                        ],
                        "type": "contour"
                      }
                    ],
                    "contourcarpet": [
                      {
                        "colorbar": {
                          "outlinewidth": 0,
                          "ticks": ""
                        },
                        "type": "contourcarpet"
                      }
                    ],
                    "heatmap": [
                      {
                        "colorbar": {
                          "outlinewidth": 0,
                          "ticks": ""
                        },
                        "colorscale": [
                          [
                            0,
                            "#0d0887"
                          ],
                          [
                            0.1111111111111111,
                            "#46039f"
                          ],
                          [
                            0.2222222222222222,
                            "#7201a8"
                          ],
                          [
                            0.3333333333333333,
                            "#9c179e"
                          ],
                          [
                            0.4444444444444444,
                            "#bd3786"
                          ],
                          [
                            0.5555555555555556,
                            "#d8576b"
                          ],
                          [
                            0.6666666666666666,
                            "#ed7953"
                          ],
                          [
                            0.7777777777777778,
                            "#fb9f3a"
                          ],
                          [
                            0.8888888888888888,
                            "#fdca26"
                          ],
                          [
                            1,
                            "#f0f921"
                          ]
                        ],
                        "type": "heatmap"
                      }
                    ],
                    "heatmapgl": [
                      {
                        "colorbar": {
                          "outlinewidth": 0,
                          "ticks": ""
                        },
                        "colorscale": [
                          [
                            0,
                            "#0d0887"
                          ],
                          [
                            0.1111111111111111,
                            "#46039f"
                          ],
                          [
                            0.2222222222222222,
                            "#7201a8"
                          ],
                          [
                            0.3333333333333333,
                            "#9c179e"
                          ],
                          [
                            0.4444444444444444,
                            "#bd3786"
                          ],
                          [
                            0.5555555555555556,
                            "#d8576b"
                          ],
                          [
                            0.6666666666666666,
                            "#ed7953"
                          ],
                          [
                            0.7777777777777778,
                            "#fb9f3a"
                          ],
                          [
                            0.8888888888888888,
                            "#fdca26"
                          ],
                          [
                            1,
                            "#f0f921"
                          ]
                        ],
                        "type": "heatmapgl"
                      }
                    ],
                    "histogram": [
                      {
                        "marker": {
                          "pattern": {
                            "fillmode": "overlay",
                            "size": 10,
                            "solidity": 0.2
                          }
                        },
                        "type": "histogram"
                      }
                    ],
                    "histogram2d": [
                      {
                        "colorbar": {
                          "outlinewidth": 0,
                          "ticks": ""
                        },
                        "colorscale": [
                          [
                            0,
                            "#0d0887"
                          ],
                          [
                            0.1111111111111111,
                            "#46039f"
                          ],
                          [
                            0.2222222222222222,
                            "#7201a8"
                          ],
                          [
                            0.3333333333333333,
                            "#9c179e"
                          ],
                          [
                            0.4444444444444444,
                            "#bd3786"
                          ],
                          [
                            0.5555555555555556,
                            "#d8576b"
                          ],
                          [
                            0.6666666666666666,
                            "#ed7953"
                          ],
                          [
                            0.7777777777777778,
                            "#fb9f3a"
                          ],
                          [
                            0.8888888888888888,
                            "#fdca26"
                          ],
                          [
                            1,
                            "#f0f921"
                          ]
                        ],
                        "type": "histogram2d"
                      }
                    ],
                    "histogram2dcontour": [
                      {
                        "colorbar": {
                          "outlinewidth": 0,
                          "ticks": ""
                        },
                        "colorscale": [
                          [
                            0,
                            "#0d0887"
                          ],
                          [
                            0.1111111111111111,
                            "#46039f"
                          ],
                          [
                            0.2222222222222222,
                            "#7201a8"
                          ],
                          [
                            0.3333333333333333,
                            "#9c179e"
                          ],
                          [
                            0.4444444444444444,
                            "#bd3786"
                          ],
                          [
                            0.5555555555555556,
                            "#d8576b"
                          ],
                          [
                            0.6666666666666666,
                            "#ed7953"
                          ],
                          [
                            0.7777777777777778,
                            "#fb9f3a"
                          ],
                          [
                            0.8888888888888888,
                            "#fdca26"
                          ],
                          [
                            1,
                            "#f0f921"
                          ]
                        ],
                        "type": "histogram2dcontour"
                      }
                    ],
                    "mesh3d": [
                      {
                        "colorbar": {
                          "outlinewidth": 0,
                          "ticks": ""
                        },
                        "type": "mesh3d"
                      }
                    ],
                    "parcoords": [
                      {
                        "line": {
                          "colorbar": {
                            "outlinewidth": 0,
                            "ticks": ""
                          }
                        },
                        "type": "parcoords"
                      }
                    ],
                    "pie": [
                      {
                        "automargin": true,
                        "type": "pie"
                      }
                    ],
                    "scatter": [
                      {
                        "fillpattern": {
                          "fillmode": "overlay",
                          "size": 10,
                          "solidity": 0.2
                        },
                        "type": "scatter"
                      }
                    ],
                    "scatter3d": [
                      {
                        "line": {
                          "colorbar": {
                            "outlinewidth": 0,
                            "ticks": ""
                          }
                        },
                        "marker": {
                          "colorbar": {
                            "outlinewidth": 0,
                            "ticks": ""
                          }
                        },
                        "type": "scatter3d"
                      }
                    ],
                    "scattercarpet": [
                      {
                        "marker": {
                          "colorbar": {
                            "outlinewidth": 0,
                            "ticks": ""
                          }
                        },
                        "type": "scattercarpet"
                      }
                    ],
                    "scattergeo": [
                      {
                        "marker": {
                          "colorbar": {
                            "outlinewidth": 0,
                            "ticks": ""
                          }
                        },
                        "type": "scattergeo"
                      }
                    ],
                    "scattergl": [
                      {
                        "marker": {
                          "colorbar": {
                            "outlinewidth": 0,
                            "ticks": ""
                          }
                        },
                        "type": "scattergl"
                      }
                    ],
                    "scattermapbox": [
                      {
                        "marker": {
                          "colorbar": {
                            "outlinewidth": 0,
                            "ticks": ""
                          }
                        },
                        "type": "scattermapbox"
                      }
                    ],
                    "scatterpolar": [
                      {
                        "marker": {
                          "colorbar": {
                            "outlinewidth": 0,
                            "ticks": ""
                          }
                        },
                        "type": "scatterpolar"
                      }
                    ],
                    "scatterpolargl": [
                      {
                        "marker": {
                          "colorbar": {
                            "outlinewidth": 0,
                            "ticks": ""
                          }
                        },
                        "type": "scatterpolargl"
                      }
                    ],
                    "scatterternary": [
                      {
                        "marker": {
                          "colorbar": {
                            "outlinewidth": 0,
                            "ticks": ""
                          }
                        },
                        "type": "scatterternary"
                      }
                    ],
                    "surface": [
                      {
                        "colorbar": {
                          "outlinewidth": 0,
                          "ticks": ""
                        },
                        "colorscale": [
                          [
                            0,
                            "#0d0887"
                          ],
                          [
                            0.1111111111111111,
                            "#46039f"
                          ],
                          [
                            0.2222222222222222,
                            "#7201a8"
                          ],
                          [
                            0.3333333333333333,
                            "#9c179e"
                          ],
                          [
                            0.4444444444444444,
                            "#bd3786"
                          ],
                          [
                            0.5555555555555556,
                            "#d8576b"
                          ],
                          [
                            0.6666666666666666,
                            "#ed7953"
                          ],
                          [
                            0.7777777777777778,
                            "#fb9f3a"
                          ],
                          [
                            0.8888888888888888,
                            "#fdca26"
                          ],
                          [
                            1,
                            "#f0f921"
                          ]
                        ],
                        "type": "surface"
                      }
                    ],
                    "table": [
                      {
                        "cells": {
                          "fill": {
                            "color": "#EBF0F8"
                          },
                          "line": {
                            "color": "white"
                          }
                        },
                        "header": {
                          "fill": {
                            "color": "#C8D4E3"
                          },
                          "line": {
                            "color": "white"
                          }
                        },
                        "type": "table"
                      }
                    ]
                  },
                  "layout": {
                    "annotationdefaults": {
                      "arrowcolor": "#2a3f5f",
                      "arrowhead": 0,
                      "arrowwidth": 1
                    },
                    "autotypenumbers": "strict",
                    "coloraxis": {
                      "colorbar": {
                        "outlinewidth": 0,
                        "ticks": ""
                      }
                    },
                    "colorscale": {
                      "diverging": [
                        [
                          0,
                          "#8e0152"
                        ],
                        [
                          0.1,
                          "#c51b7d"
                        ],
                        [
                          0.2,
                          "#de77ae"
                        ],
                        [
                          0.3,
                          "#f1b6da"
                        ],
                        [
                          0.4,
                          "#fde0ef"
                        ],
                        [
                          0.5,
                          "#f7f7f7"
                        ],
                        [
                          0.6,
                          "#e6f5d0"
                        ],
                        [
                          0.7,
                          "#b8e186"
                        ],
                        [
                          0.8,
                          "#7fbc41"
                        ],
                        [
                          0.9,
                          "#4d9221"
                        ],
                        [
                          1,
                          "#276419"
                        ]
                      ],
                      "sequential": [
                        [
                          0,
                          "#0d0887"
                        ],
                        [
                          0.1111111111111111,
                          "#46039f"
                        ],
                        [
                          0.2222222222222222,
                          "#7201a8"
                        ],
                        [
                          0.3333333333333333,
                          "#9c179e"
                        ],
                        [
                          0.4444444444444444,
                          "#bd3786"
                        ],
                        [
                          0.5555555555555556,
                          "#d8576b"
                        ],
                        [
                          0.6666666666666666,
                          "#ed7953"
                        ],
                        [
                          0.7777777777777778,
                          "#fb9f3a"
                        ],
                        [
                          0.8888888888888888,
                          "#fdca26"
                        ],
                        [
                          1,
                          "#f0f921"
                        ]
                      ],
                      "sequentialminus": [
                        [
                          0,
                          "#0d0887"
                        ],
                        [
                          0.1111111111111111,
                          "#46039f"
                        ],
                        [
                          0.2222222222222222,
                          "#7201a8"
                        ],
                        [
                          0.3333333333333333,
                          "#9c179e"
                        ],
                        [
                          0.4444444444444444,
                          "#bd3786"
                        ],
                        [
                          0.5555555555555556,
                          "#d8576b"
                        ],
                        [
                          0.6666666666666666,
                          "#ed7953"
                        ],
                        [
                          0.7777777777777778,
                          "#fb9f3a"
                        ],
                        [
                          0.8888888888888888,
                          "#fdca26"
                        ],
                        [
                          1,
                          "#f0f921"
                        ]
                      ]
                    },
                    "colorway": [
                      "#636efa",
                      "#EF553B",
                      "#00cc96",
                      "#ab63fa",
                      "#FFA15A",
                      "#19d3f3",
                      "#FF6692",
                      "#B6E880",
                      "#FF97FF",
                      "#FECB52"
                    ],
                    "font": {
                      "color": "#2a3f5f"
                    },
                    "geo": {
                      "bgcolor": "white",
                      "lakecolor": "white",
                      "landcolor": "#E5ECF6",
                      "showlakes": true,
                      "showland": true,
                      "subunitcolor": "white"
                    },
                    "hoverlabel": {
                      "align": "left"
                    },
                    "hovermode": "closest",
                    "mapbox": {
                      "style": "light"
                    },
                    "paper_bgcolor": "white",
                    "plot_bgcolor": "#E5ECF6",
                    "polar": {
                      "angularaxis": {
                        "gridcolor": "white",
                        "linecolor": "white",
                        "ticks": ""
                      },
                      "bgcolor": "#E5ECF6",
                      "radialaxis": {
                        "gridcolor": "white",
                        "linecolor": "white",
                        "ticks": ""
                      }
                    },
                    "scene": {
                      "xaxis": {
                        "backgroundcolor": "#E5ECF6",
                        "gridcolor": "white",
                        "gridwidth": 2,
                        "linecolor": "white",
                        "showbackground": true,
                        "ticks": "",
                        "zerolinecolor": "white"
                      },
                      "yaxis": {
                        "backgroundcolor": "#E5ECF6",
                        "gridcolor": "white",
                        "gridwidth": 2,
                        "linecolor": "white",
                        "showbackground": true,
                        "ticks": "",
                        "zerolinecolor": "white"
                      },
                      "zaxis": {
                        "backgroundcolor": "#E5ECF6",
                        "gridcolor": "white",
                        "gridwidth": 2,
                        "linecolor": "white",
                        "showbackground": true,
                        "ticks": "",
                        "zerolinecolor": "white"
                      }
                    },
                    "shapedefaults": {
                      "line": {
                        "color": "#2a3f5f"
                      }
                    },
                    "ternary": {
                      "aaxis": {
                        "gridcolor": "white",
                        "linecolor": "white",
                        "ticks": ""
                      },
                      "baxis": {
                        "gridcolor": "white",
                        "linecolor": "white",
                        "ticks": ""
                      },
                      "bgcolor": "#E5ECF6",
                      "caxis": {
                        "gridcolor": "white",
                        "linecolor": "white",
                        "ticks": ""
                      }
                    },
                    "title": {
                      "x": 0.05
                    },
                    "xaxis": {
                      "automargin": true,
                      "gridcolor": "white",
                      "linecolor": "white",
                      "ticks": "",
                      "title": {
                        "standoff": 15
                      },
                      "zerolinecolor": "white",
                      "zerolinewidth": 2
                    },
                    "yaxis": {
                      "automargin": true,
                      "gridcolor": "white",
                      "linecolor": "white",
                      "ticks": "",
                      "title": {
                        "standoff": 15
                      },
                      "zerolinecolor": "white",
                      "zerolinewidth": 2
                    }
                  }
                }
              }
            }
          },
          "metadata": {},
          "output_type": "display_data"
        }
      ],
      "source": [
        "# Tree chart for the top 15 countries in 2018 with industry breakdown\n",
        "fig = px.treemap(data_frame=df_15, path=['Country', 'Ind Code'], values='Value (USD)', color='Value (USD)', hover_name='Ind Code')\n",
        "fig.show()"
      ]
    },
    {
      "cell_type": "markdown",
      "metadata": {},
      "source": [
        "---"
      ]
    },
    {
      "cell_type": "markdown",
      "metadata": {},
      "source": [
        "NOTE"
      ]
    },
    {
      "cell_type": "markdown",
      "metadata": {},
      "source": [
        "* You may add as many sections as you want, as long as it supports your project workflow.\n",
        "* All notebook's cells should be run top-down (you can't create a dynamic wherein a given point you need to go back to a previous cell to execute some task, like go back to a previous cell and refresh a variable content)"
      ]
    },
    {
      "cell_type": "markdown",
      "metadata": {},
      "source": [
        "---"
      ]
    },
    {
      "cell_type": "markdown",
      "metadata": {
        "id": "ltNetd085qHf"
      },
      "source": [
        "# Push files to Repo"
      ]
    },
    {
      "cell_type": "markdown",
      "metadata": {},
      "source": [
        "* In cases where you don't need to push files to Repo, you may replace this section with \"Conclusions and Next Steps\" and state your conclusions and next steps."
      ]
    }
  ],
  "metadata": {
    "accelerator": "GPU",
    "colab": {
      "name": "Data Practitioner Jupyter Notebook.ipynb",
      "provenance": [],
      "toc_visible": true
    },
    "kernelspec": {
      "display_name": ".venv",
      "language": "python",
      "name": "python3"
    },
    "language_info": {
      "codemirror_mode": {
        "name": "ipython",
        "version": 3
      },
      "file_extension": ".py",
      "mimetype": "text/x-python",
      "name": "python",
      "nbconvert_exporter": "python",
      "pygments_lexer": "ipython3",
      "version": "3.12.8"
    },
    "orig_nbformat": 2
  },
  "nbformat": 4,
  "nbformat_minor": 2
}
