{
  "cells": [
    {
      "cell_type": "markdown",
      "metadata": {
        "id": "0aStgWSO0E0E"
      },
      "source": [
        "# **Initial EDA**"
      ]
    },
    {
      "cell_type": "markdown",
      "metadata": {
        "id": "1eLEkw5O0ECa"
      },
      "source": [
        "## Objectives\n",
        "\n",
        "* Performing basic EDA using the cleaned and featured datasets\n",
        "\n",
        "## Inputs\n",
        "\n",
        "* cleaned_data2.csv and industry_total.csv\n",
        "\n",
        "## Outputs\n",
        "\n",
        "* Write here which files, code or artefacts you generate by the end of the notebook \n",
        "\n",
        "## Additional Comments\n",
        "\n",
        "* If you have any additional comments that don't fit in the previous bullets, please state them here. \n",
        "\n"
      ]
    },
    {
      "cell_type": "markdown",
      "metadata": {
        "id": "9uWZXH9LwoQg"
      },
      "source": [
        "---"
      ]
    },
    {
      "cell_type": "markdown",
      "metadata": {
        "id": "cqP-UeN-z3i2"
      },
      "source": [
        "# Change working directory"
      ]
    },
    {
      "cell_type": "markdown",
      "metadata": {},
      "source": [
        "* We are assuming you will store the notebooks in a subfolder, therefore when running the notebook in the editor, you will need to change the working directory"
      ]
    },
    {
      "cell_type": "markdown",
      "metadata": {
        "id": "aOGIGS-uz3i2"
      },
      "source": [
        "We need to change the working directory from its current folder to its parent folder\n",
        "* We access the current directory with os.getcwd()"
      ]
    },
    {
      "cell_type": "code",
      "execution_count": 1,
      "metadata": {
        "id": "wZfF_j-Bz3i4",
        "outputId": "66943449-1436-4c3d-85c7-b85f9f78349b"
      },
      "outputs": [
        {
          "data": {
            "text/plain": [
              "'c:\\\\Users\\\\sayed\\\\OneDrive\\\\Documents\\\\Code institute\\\\Capstone\\\\Capstone\\\\jupyter_notebooks'"
            ]
          },
          "execution_count": 1,
          "metadata": {},
          "output_type": "execute_result"
        }
      ],
      "source": [
        "import os\n",
        "current_dir = os.getcwd()\n",
        "current_dir"
      ]
    },
    {
      "cell_type": "markdown",
      "metadata": {
        "id": "9MWW8E7lz3i7"
      },
      "source": [
        "We want to make the parent of the current directory the new current directory\n",
        "* os.path.dirname() gets the parent directory\n",
        "* os.chir() defines the new current directory"
      ]
    },
    {
      "cell_type": "code",
      "execution_count": 2,
      "metadata": {
        "id": "TwHsQRWjz3i9",
        "outputId": "86849db3-cd2f-4cc5-ebb8-2d0caafa1a2c"
      },
      "outputs": [
        {
          "name": "stdout",
          "output_type": "stream",
          "text": [
            "You set a new current directory\n"
          ]
        }
      ],
      "source": [
        "os.chdir(os.path.dirname(current_dir))\n",
        "print(\"You set a new current directory\")"
      ]
    },
    {
      "cell_type": "markdown",
      "metadata": {
        "id": "M_xPk_Ijz3i-"
      },
      "source": [
        "Confirm the new current directory"
      ]
    },
    {
      "cell_type": "code",
      "execution_count": 3,
      "metadata": {
        "id": "vz3S-_kjz3jA",
        "outputId": "00b79ae4-75d0-4a96-d193-ac9ef9847ea2"
      },
      "outputs": [
        {
          "data": {
            "text/plain": [
              "'c:\\\\Users\\\\sayed\\\\OneDrive\\\\Documents\\\\Code institute\\\\Capstone\\\\Capstone'"
            ]
          },
          "execution_count": 3,
          "metadata": {},
          "output_type": "execute_result"
        }
      ],
      "source": [
        "current_dir = os.getcwd()\n",
        "current_dir"
      ]
    },
    {
      "cell_type": "code",
      "execution_count": 4,
      "metadata": {},
      "outputs": [],
      "source": [
        "# Import libraries\n",
        "import pandas as pd\n",
        "import numpy as np\n",
        "import matplotlib.pyplot as plt\n",
        "import seaborn as sns\n",
        "import plotly.express as px"
      ]
    },
    {
      "cell_type": "code",
      "execution_count": 5,
      "metadata": {},
      "outputs": [
        {
          "name": "stdout",
          "output_type": "stream",
          "text": [
            "   Year    Country ISO3      Continent Ind Code  \\\n",
            "0  2000  Argentina  ARG  South America        A   \n",
            "1  2000  Argentina  ARG  South America        B   \n",
            "\n",
            "                                            Industry  Value (LCU)  Value (USD)  \n",
            "0  Manufacture of food products, beverages and to...     16986.10      16994.6  \n",
            "1  Manufacture of textiles, wearing apparel, leat...      5944.13       5947.1  \n",
            "----------------------------------------------------------------------------------\n",
            "  Ind Code                                           Industry           LCU  \\\n",
            "0        A  Manufacture of food products, beverages and to...  1.155175e+10   \n",
            "1        B  Manufacture of textiles, wearing apparel, leat...  6.641122e+09   \n",
            "\n",
            "           USD  \n",
            "0  40996209.07  \n",
            "1  11975995.30  \n"
          ]
        }
      ],
      "source": [
        "# Load the datasets\n",
        "cleaned_data2 = pd.read_csv(os.path.join(current_dir, 'cleaned_data2.csv'))\n",
        "industry_total = pd.read_csv(os.path.join(current_dir, 'industry_total.csv'))\n",
        "\n",
        "# Display the first few rows of each dataframe to confirm they are loaded correctly\n",
        "print(cleaned_data2.head(2))\n",
        "print('----------------------------------------------------------------------------------')\n",
        "print(industry_total.head(2))"
      ]
    },
    {
      "cell_type": "markdown",
      "metadata": {},
      "source": [
        "---"
      ]
    },
    {
      "cell_type": "markdown",
      "metadata": {
        "id": "-mavJ8DibrcQ"
      },
      "source": [
        "# EDA"
      ]
    },
    {
      "cell_type": "markdown",
      "metadata": {},
      "source": [
        "Lets start by seeing the distribution of industries globally. We'll take the data from 2018 as this is the latest year which has most of the main countries available."
      ]
    },
    {
      "cell_type": "code",
      "execution_count": null,
      "metadata": {},
      "outputs": [
        {
          "data": {
            "application/vnd.plotly.v1+json": {
              "config": {
                "plotlyServerURL": "https://plot.ly"
              },
              "data": [
                {
                  "branchvalues": "total",
                  "customdata": [
                    [
                      12599.529025029167
                    ],
                    [
                      11304.795641340075
                    ],
                    [
                      14402.281777375018
                    ],
                    [
                      11641.341444739312
                    ],
                    [
                      29137.91656764938
                    ],
                    [
                      1050.615627095909
                    ],
                    [
                      1162.1903334727426
                    ],
                    [
                      2712.3933887283238
                    ],
                    [
                      19962.80788996757
                    ],
                    [
                      9091.432279930677
                    ],
                    [
                      67320.07374171789
                    ],
                    [
                      5596.0197642541625
                    ],
                    [
                      1744.16038636616
                    ],
                    [
                      1124.7541600265697
                    ],
                    [
                      235.83836660003587
                    ],
                    [
                      10812.90935305847
                    ],
                    [
                      11044.718278739108
                    ],
                    [
                      580.5740862881638
                    ],
                    [
                      7900.89505358017
                    ],
                    [
                      39241.72205152627
                    ],
                    [
                      169375.1148165457
                    ],
                    [
                      2977.772919570297
                    ],
                    [
                      1700.7772886922414
                    ],
                    [
                      4577.154865125703
                    ],
                    [
                      551.8847360144456
                    ],
                    [
                      54260.69797364689
                    ],
                    [
                      30470.15413941779
                    ],
                    [
                      33666.65350937571
                    ],
                    [
                      52392.04639721206
                    ],
                    [
                      157499.84682946678
                    ],
                    [
                      4518.962687186658
                    ],
                    [
                      138745.8687053775
                    ],
                    [
                      307.0886781303552
                    ],
                    [
                      544.4109226252697
                    ],
                    [
                      1005.9388113377775
                    ],
                    [
                      632.3023058302571
                    ],
                    [
                      12453.799530876731
                    ],
                    [
                      156.1345763817936
                    ],
                    [
                      36814.68150154217
                    ],
                    [
                      4146.845616446484
                    ],
                    [
                      2015.733439808177
                    ],
                    [
                      4505.116734902726
                    ],
                    [
                      254.3352776008525
                    ],
                    [
                      4043.557796032214
                    ],
                    [
                      544029.9939392023
                    ],
                    [
                      4303.734613092267
                    ],
                    [
                      19281.663591961675
                    ],
                    [
                      12245.901526524272
                    ],
                    [
                      3427.9401762835137
                    ],
                    [
                      6047.6004357277925
                    ],
                    [
                      25311.031542582088
                    ],
                    [
                      17831.67830929243
                    ],
                    [
                      939.2134838571134
                    ],
                    [
                      19144.705055326205
                    ],
                    [
                      3331.7710868614895
                    ],
                    [
                      1900.5546178115985
                    ],
                    [
                      6823.2545532220065
                    ],
                    [
                      19105.73503223236
                    ],
                    [
                      13143.874148563691
                    ],
                    [
                      34943.0816694998
                    ],
                    [
                      18719.705660517007
                    ],
                    [
                      18309.074322091874
                    ],
                    [
                      1082.8935973291902
                    ],
                    [
                      19155.600142799572
                    ],
                    [
                      40620.463354926505
                    ],
                    [
                      368859.42714288674
                    ],
                    [
                      11396.346198396703
                    ],
                    [
                      5579.575427203897
                    ],
                    [
                      340937.03874555626
                    ],
                    [
                      66284.93494968046
                    ],
                    [
                      18632.584118613653
                    ],
                    [
                      345188.96083178674
                    ],
                    [
                      9792.451374902093
                    ],
                    [
                      26606.537706916715
                    ]
                  ],
                  "domain": {
                    "x": [
                      0,
                      1
                    ],
                    "y": [
                      0,
                      1
                    ]
                  },
                  "hovertemplate": "<b>%{hovertext}</b><br><br>labels=%{label}<br>Value (USD)_sum=%{value}<br>parent=%{parent}<br>id=%{id}<br>Value (USD)=%{color}<extra></extra>",
                  "hovertext": [
                    "ARG",
                    "AUS",
                    "AUT",
                    "BEL",
                    "BRA",
                    "BRN",
                    "BGR",
                    "KHM",
                    "CAN",
                    "CHL",
                    "TWN",
                    "COL",
                    "CRI",
                    "HRV",
                    "CYP",
                    "CZE",
                    "DNK",
                    "EST",
                    "FIN",
                    "FRA",
                    "DEU",
                    "GRC",
                    "HKG",
                    "HUN",
                    "ISL",
                    "IND",
                    "IDN",
                    "IRL",
                    "ITA",
                    "JPN",
                    "KAZ",
                    "KOR",
                    "LAO",
                    "LVA",
                    "LTU",
                    "LUX",
                    "MYS",
                    "MLT",
                    "MEX",
                    "MAR",
                    "MMR",
                    "NZL",
                    "MKD",
                    "NOR",
                    "CHN",
                    "PER",
                    "PHL",
                    "POL",
                    "PRT",
                    "ROU",
                    "RUS",
                    "SAU",
                    "SRB",
                    "SGP",
                    "SVK",
                    "SVN",
                    "ZAF",
                    "ESP",
                    "SWE",
                    "CHE",
                    "THA",
                    "NLD",
                    "TUN",
                    "TUR",
                    "GBR",
                    "USA",
                    "VNM",
                    "(?)",
                    "(?)",
                    "(?)",
                    "(?)",
                    "(?)",
                    "(?)",
                    "(?)"
                  ],
                  "ids": [
                    "South America/Argentina",
                    "Oceania/Australia",
                    "Europe/Austria",
                    "Europe/Belgium",
                    "South America/Brazil",
                    "Asia/Brunei Darussalam",
                    "South America/Bulgaria",
                    "South America/Cambodia",
                    "North America/Canada",
                    "South America/Chile",
                    "Asia/Chinese Taipei",
                    "South America/Colombia",
                    "South America/Costa Rica",
                    "Europe/Croatia",
                    "Europe/Cyprus",
                    "Europe/Czech Republic",
                    "Europe/Denmark",
                    "Europe/Estonia",
                    "Europe/Finland",
                    "Europe/France",
                    "Europe/Germany",
                    "Europe/Greece",
                    "Asia/Hong Kong",
                    "Europe/Hungary",
                    "Europe/Iceland",
                    "Asia/India",
                    "Asia/Indonesia",
                    "Europe/Ireland",
                    "Europe/Italy",
                    "Asia/Japan",
                    "Asia/Kazakhstan",
                    "Asia/Korea",
                    "Asia/Laos",
                    "Europe/Latvia",
                    "Europe/Lithuania",
                    "Europe/Luxembourg",
                    "Asia/Malaysia",
                    "Europe/Malta",
                    "South America/Mexico",
                    "Africa/Morocco",
                    "Asia/Myanmar",
                    "Oceania/New Zealand",
                    "Europe/North Macedonia",
                    "Europe/Norway",
                    "Asia/People's Republic of China",
                    "South America/Peru",
                    "Asia/Philippines",
                    "Europe/Poland",
                    "Europe/Portugal",
                    "Europe/Romania",
                    "Europe/Russian Federation",
                    "Middle East/Saudi Arabia",
                    "Europe/Serbia",
                    "Asia/Singapore",
                    "Europe/Slovak Republic",
                    "Europe/Slovenia",
                    "Africa/South Africa",
                    "Europe/Spain",
                    "Europe/Sweden",
                    "Europe/Switzerland",
                    "Asia/Thailand",
                    "Europe/The Netherlands",
                    "Africa/Tunisia",
                    "Middle East/Turkey",
                    "Europe/United Kingdom",
                    "North America/United States",
                    "Asia/Viet Nam",
                    "Africa",
                    "Asia",
                    "Europe",
                    "Middle East",
                    "North America",
                    "Oceania",
                    "South America"
                  ],
                  "labels": [
                    "Argentina",
                    "Australia",
                    "Austria",
                    "Belgium",
                    "Brazil",
                    "Brunei Darussalam",
                    "Bulgaria",
                    "Cambodia",
                    "Canada",
                    "Chile",
                    "Chinese Taipei",
                    "Colombia",
                    "Costa Rica",
                    "Croatia",
                    "Cyprus",
                    "Czech Republic",
                    "Denmark",
                    "Estonia",
                    "Finland",
                    "France",
                    "Germany",
                    "Greece",
                    "Hong Kong",
                    "Hungary",
                    "Iceland",
                    "India",
                    "Indonesia",
                    "Ireland",
                    "Italy",
                    "Japan",
                    "Kazakhstan",
                    "Korea",
                    "Laos",
                    "Latvia",
                    "Lithuania",
                    "Luxembourg",
                    "Malaysia",
                    "Malta",
                    "Mexico",
                    "Morocco",
                    "Myanmar",
                    "New Zealand",
                    "North Macedonia",
                    "Norway",
                    "People's Republic of China",
                    "Peru",
                    "Philippines",
                    "Poland",
                    "Portugal",
                    "Romania",
                    "Russian Federation",
                    "Saudi Arabia",
                    "Serbia",
                    "Singapore",
                    "Slovak Republic",
                    "Slovenia",
                    "South Africa",
                    "Spain",
                    "Sweden",
                    "Switzerland",
                    "Thailand",
                    "The Netherlands",
                    "Tunisia",
                    "Turkey",
                    "United Kingdom",
                    "United States",
                    "Viet Nam",
                    "Africa",
                    "Asia",
                    "Europe",
                    "Middle East",
                    "North America",
                    "Oceania",
                    "South America"
                  ],
                  "marker": {
                    "coloraxis": "coloraxis",
                    "colors": [
                      12599.529025029167,
                      11304.795641340075,
                      14402.281777375018,
                      11641.341444739312,
                      29137.91656764938,
                      1050.615627095909,
                      1162.1903334727426,
                      2712.3933887283238,
                      19962.80788996757,
                      9091.432279930677,
                      67320.07374171789,
                      5596.0197642541625,
                      1744.16038636616,
                      1124.7541600265697,
                      235.83836660003587,
                      10812.90935305847,
                      11044.718278739108,
                      580.5740862881638,
                      7900.89505358017,
                      39241.72205152627,
                      169375.1148165457,
                      2977.772919570297,
                      1700.7772886922414,
                      4577.154865125703,
                      551.8847360144456,
                      54260.69797364689,
                      30470.15413941779,
                      33666.65350937571,
                      52392.04639721206,
                      157499.84682946678,
                      4518.962687186658,
                      138745.8687053775,
                      307.0886781303552,
                      544.4109226252697,
                      1005.9388113377775,
                      632.3023058302571,
                      12453.799530876731,
                      156.1345763817936,
                      36814.68150154217,
                      4146.845616446484,
                      2015.733439808177,
                      4505.116734902726,
                      254.3352776008525,
                      4043.557796032214,
                      544029.9939392023,
                      4303.734613092267,
                      19281.663591961675,
                      12245.901526524272,
                      3427.9401762835137,
                      6047.6004357277925,
                      25311.031542582088,
                      17831.67830929243,
                      939.2134838571134,
                      19144.705055326205,
                      3331.7710868614895,
                      1900.5546178115985,
                      6823.2545532220065,
                      19105.73503223236,
                      13143.874148563691,
                      34943.0816694998,
                      18719.705660517007,
                      18309.074322091874,
                      1082.8935973291902,
                      19155.600142799572,
                      40620.463354926505,
                      368859.42714288674,
                      11396.346198396703,
                      5579.575427203897,
                      340937.03874555626,
                      66284.93494968046,
                      18632.584118613653,
                      345188.96083178674,
                      9792.451374902093,
                      26606.537706916715
                    ]
                  },
                  "name": "",
                  "parents": [
                    "South America",
                    "Oceania",
                    "Europe",
                    "Europe",
                    "South America",
                    "Asia",
                    "South America",
                    "South America",
                    "North America",
                    "South America",
                    "Asia",
                    "South America",
                    "South America",
                    "Europe",
                    "Europe",
                    "Europe",
                    "Europe",
                    "Europe",
                    "Europe",
                    "Europe",
                    "Europe",
                    "Europe",
                    "Asia",
                    "Europe",
                    "Europe",
                    "Asia",
                    "Asia",
                    "Europe",
                    "Europe",
                    "Asia",
                    "Asia",
                    "Asia",
                    "Asia",
                    "Europe",
                    "Europe",
                    "Europe",
                    "Asia",
                    "Europe",
                    "South America",
                    "Africa",
                    "Asia",
                    "Oceania",
                    "Europe",
                    "Europe",
                    "Asia",
                    "South America",
                    "Asia",
                    "Europe",
                    "Europe",
                    "Europe",
                    "Europe",
                    "Middle East",
                    "Europe",
                    "Asia",
                    "Europe",
                    "Europe",
                    "Africa",
                    "Europe",
                    "Europe",
                    "Europe",
                    "Asia",
                    "Europe",
                    "Africa",
                    "Middle East",
                    "Europe",
                    "North America",
                    "Asia",
                    "",
                    "",
                    "",
                    "",
                    "",
                    "",
                    ""
                  ],
                  "type": "sunburst",
                  "values": [
                    74477.09999999999,
                    76491.4,
                    143911.61000000002,
                    124005.97,
                    231356.9,
                    1491,
                    16043.890000000001,
                    6643.2,
                    333406.25,
                    63281.31,
                    174623,
                    67350.5,
                    5404.2,
                    14211.64,
                    2396.29,
                    104849.97,
                    88328.33,
                    7306.68,
                    75034.29000000001,
                    500344.46,
                    1516723.78,
                    34352.11,
                    4384.6,
                    55787.13,
                    4031.6600000000003,
                    461903.7,
                    207348,
                    126466.14,
                    588796.13,
                    1627658.09,
                    18310.600000000002,
                    477015.5,
                    1692.3,
                    6744.45,
                    15960.8,
                    4453.32,
                    66976,
                    1517.05,
                    428539.27999999997,
                    20225.600000000002,
                    11927.7,
                    21878.95,
                    1679.93,
                    45754.479999999996,
                    3843134.59,
                    31039.7,
                    68342.6,
                    184571.32,
                    55306.93,
                    83020.41,
                    382200.99,
                    97223.2,
                    13597.63,
                    66080.8,
                    38819.85,
                    20354.49,
                    45176.8,
                    289283.86,
                    136211.48,
                    220756.3,
                    122949.9,
                    189165.9,
                    6050.6,
                    148880,
                    517657.42,
                    4580916.600000001,
                    70654.4,
                    71453,
                    7224492.78,
                    5593602.8,
                    246103.2,
                    4914322.850000001,
                    98370.35,
                    924136.08
                  ]
                }
              ],
              "layout": {
                "coloraxis": {
                  "colorbar": {
                    "title": {
                      "text": "Value (USD)"
                    }
                  },
                  "colorscale": [
                    [
                      0,
                      "#0d0887"
                    ],
                    [
                      0.1111111111111111,
                      "#46039f"
                    ],
                    [
                      0.2222222222222222,
                      "#7201a8"
                    ],
                    [
                      0.3333333333333333,
                      "#9c179e"
                    ],
                    [
                      0.4444444444444444,
                      "#bd3786"
                    ],
                    [
                      0.5555555555555556,
                      "#d8576b"
                    ],
                    [
                      0.6666666666666666,
                      "#ed7953"
                    ],
                    [
                      0.7777777777777778,
                      "#fb9f3a"
                    ],
                    [
                      0.8888888888888888,
                      "#fdca26"
                    ],
                    [
                      1,
                      "#f0f921"
                    ]
                  ]
                },
                "legend": {
                  "tracegroupgap": 0
                },
                "margin": {
                  "t": 60
                },
                "template": {
                  "data": {
                    "bar": [
                      {
                        "error_x": {
                          "color": "#2a3f5f"
                        },
                        "error_y": {
                          "color": "#2a3f5f"
                        },
                        "marker": {
                          "line": {
                            "color": "#E5ECF6",
                            "width": 0.5
                          },
                          "pattern": {
                            "fillmode": "overlay",
                            "size": 10,
                            "solidity": 0.2
                          }
                        },
                        "type": "bar"
                      }
                    ],
                    "barpolar": [
                      {
                        "marker": {
                          "line": {
                            "color": "#E5ECF6",
                            "width": 0.5
                          },
                          "pattern": {
                            "fillmode": "overlay",
                            "size": 10,
                            "solidity": 0.2
                          }
                        },
                        "type": "barpolar"
                      }
                    ],
                    "carpet": [
                      {
                        "aaxis": {
                          "endlinecolor": "#2a3f5f",
                          "gridcolor": "white",
                          "linecolor": "white",
                          "minorgridcolor": "white",
                          "startlinecolor": "#2a3f5f"
                        },
                        "baxis": {
                          "endlinecolor": "#2a3f5f",
                          "gridcolor": "white",
                          "linecolor": "white",
                          "minorgridcolor": "white",
                          "startlinecolor": "#2a3f5f"
                        },
                        "type": "carpet"
                      }
                    ],
                    "choropleth": [
                      {
                        "colorbar": {
                          "outlinewidth": 0,
                          "ticks": ""
                        },
                        "type": "choropleth"
                      }
                    ],
                    "contour": [
                      {
                        "colorbar": {
                          "outlinewidth": 0,
                          "ticks": ""
                        },
                        "colorscale": [
                          [
                            0,
                            "#0d0887"
                          ],
                          [
                            0.1111111111111111,
                            "#46039f"
                          ],
                          [
                            0.2222222222222222,
                            "#7201a8"
                          ],
                          [
                            0.3333333333333333,
                            "#9c179e"
                          ],
                          [
                            0.4444444444444444,
                            "#bd3786"
                          ],
                          [
                            0.5555555555555556,
                            "#d8576b"
                          ],
                          [
                            0.6666666666666666,
                            "#ed7953"
                          ],
                          [
                            0.7777777777777778,
                            "#fb9f3a"
                          ],
                          [
                            0.8888888888888888,
                            "#fdca26"
                          ],
                          [
                            1,
                            "#f0f921"
                          ]
                        ],
                        "type": "contour"
                      }
                    ],
                    "contourcarpet": [
                      {
                        "colorbar": {
                          "outlinewidth": 0,
                          "ticks": ""
                        },
                        "type": "contourcarpet"
                      }
                    ],
                    "heatmap": [
                      {
                        "colorbar": {
                          "outlinewidth": 0,
                          "ticks": ""
                        },
                        "colorscale": [
                          [
                            0,
                            "#0d0887"
                          ],
                          [
                            0.1111111111111111,
                            "#46039f"
                          ],
                          [
                            0.2222222222222222,
                            "#7201a8"
                          ],
                          [
                            0.3333333333333333,
                            "#9c179e"
                          ],
                          [
                            0.4444444444444444,
                            "#bd3786"
                          ],
                          [
                            0.5555555555555556,
                            "#d8576b"
                          ],
                          [
                            0.6666666666666666,
                            "#ed7953"
                          ],
                          [
                            0.7777777777777778,
                            "#fb9f3a"
                          ],
                          [
                            0.8888888888888888,
                            "#fdca26"
                          ],
                          [
                            1,
                            "#f0f921"
                          ]
                        ],
                        "type": "heatmap"
                      }
                    ],
                    "heatmapgl": [
                      {
                        "colorbar": {
                          "outlinewidth": 0,
                          "ticks": ""
                        },
                        "colorscale": [
                          [
                            0,
                            "#0d0887"
                          ],
                          [
                            0.1111111111111111,
                            "#46039f"
                          ],
                          [
                            0.2222222222222222,
                            "#7201a8"
                          ],
                          [
                            0.3333333333333333,
                            "#9c179e"
                          ],
                          [
                            0.4444444444444444,
                            "#bd3786"
                          ],
                          [
                            0.5555555555555556,
                            "#d8576b"
                          ],
                          [
                            0.6666666666666666,
                            "#ed7953"
                          ],
                          [
                            0.7777777777777778,
                            "#fb9f3a"
                          ],
                          [
                            0.8888888888888888,
                            "#fdca26"
                          ],
                          [
                            1,
                            "#f0f921"
                          ]
                        ],
                        "type": "heatmapgl"
                      }
                    ],
                    "histogram": [
                      {
                        "marker": {
                          "pattern": {
                            "fillmode": "overlay",
                            "size": 10,
                            "solidity": 0.2
                          }
                        },
                        "type": "histogram"
                      }
                    ],
                    "histogram2d": [
                      {
                        "colorbar": {
                          "outlinewidth": 0,
                          "ticks": ""
                        },
                        "colorscale": [
                          [
                            0,
                            "#0d0887"
                          ],
                          [
                            0.1111111111111111,
                            "#46039f"
                          ],
                          [
                            0.2222222222222222,
                            "#7201a8"
                          ],
                          [
                            0.3333333333333333,
                            "#9c179e"
                          ],
                          [
                            0.4444444444444444,
                            "#bd3786"
                          ],
                          [
                            0.5555555555555556,
                            "#d8576b"
                          ],
                          [
                            0.6666666666666666,
                            "#ed7953"
                          ],
                          [
                            0.7777777777777778,
                            "#fb9f3a"
                          ],
                          [
                            0.8888888888888888,
                            "#fdca26"
                          ],
                          [
                            1,
                            "#f0f921"
                          ]
                        ],
                        "type": "histogram2d"
                      }
                    ],
                    "histogram2dcontour": [
                      {
                        "colorbar": {
                          "outlinewidth": 0,
                          "ticks": ""
                        },
                        "colorscale": [
                          [
                            0,
                            "#0d0887"
                          ],
                          [
                            0.1111111111111111,
                            "#46039f"
                          ],
                          [
                            0.2222222222222222,
                            "#7201a8"
                          ],
                          [
                            0.3333333333333333,
                            "#9c179e"
                          ],
                          [
                            0.4444444444444444,
                            "#bd3786"
                          ],
                          [
                            0.5555555555555556,
                            "#d8576b"
                          ],
                          [
                            0.6666666666666666,
                            "#ed7953"
                          ],
                          [
                            0.7777777777777778,
                            "#fb9f3a"
                          ],
                          [
                            0.8888888888888888,
                            "#fdca26"
                          ],
                          [
                            1,
                            "#f0f921"
                          ]
                        ],
                        "type": "histogram2dcontour"
                      }
                    ],
                    "mesh3d": [
                      {
                        "colorbar": {
                          "outlinewidth": 0,
                          "ticks": ""
                        },
                        "type": "mesh3d"
                      }
                    ],
                    "parcoords": [
                      {
                        "line": {
                          "colorbar": {
                            "outlinewidth": 0,
                            "ticks": ""
                          }
                        },
                        "type": "parcoords"
                      }
                    ],
                    "pie": [
                      {
                        "automargin": true,
                        "type": "pie"
                      }
                    ],
                    "scatter": [
                      {
                        "fillpattern": {
                          "fillmode": "overlay",
                          "size": 10,
                          "solidity": 0.2
                        },
                        "type": "scatter"
                      }
                    ],
                    "scatter3d": [
                      {
                        "line": {
                          "colorbar": {
                            "outlinewidth": 0,
                            "ticks": ""
                          }
                        },
                        "marker": {
                          "colorbar": {
                            "outlinewidth": 0,
                            "ticks": ""
                          }
                        },
                        "type": "scatter3d"
                      }
                    ],
                    "scattercarpet": [
                      {
                        "marker": {
                          "colorbar": {
                            "outlinewidth": 0,
                            "ticks": ""
                          }
                        },
                        "type": "scattercarpet"
                      }
                    ],
                    "scattergeo": [
                      {
                        "marker": {
                          "colorbar": {
                            "outlinewidth": 0,
                            "ticks": ""
                          }
                        },
                        "type": "scattergeo"
                      }
                    ],
                    "scattergl": [
                      {
                        "marker": {
                          "colorbar": {
                            "outlinewidth": 0,
                            "ticks": ""
                          }
                        },
                        "type": "scattergl"
                      }
                    ],
                    "scattermapbox": [
                      {
                        "marker": {
                          "colorbar": {
                            "outlinewidth": 0,
                            "ticks": ""
                          }
                        },
                        "type": "scattermapbox"
                      }
                    ],
                    "scatterpolar": [
                      {
                        "marker": {
                          "colorbar": {
                            "outlinewidth": 0,
                            "ticks": ""
                          }
                        },
                        "type": "scatterpolar"
                      }
                    ],
                    "scatterpolargl": [
                      {
                        "marker": {
                          "colorbar": {
                            "outlinewidth": 0,
                            "ticks": ""
                          }
                        },
                        "type": "scatterpolargl"
                      }
                    ],
                    "scatterternary": [
                      {
                        "marker": {
                          "colorbar": {
                            "outlinewidth": 0,
                            "ticks": ""
                          }
                        },
                        "type": "scatterternary"
                      }
                    ],
                    "surface": [
                      {
                        "colorbar": {
                          "outlinewidth": 0,
                          "ticks": ""
                        },
                        "colorscale": [
                          [
                            0,
                            "#0d0887"
                          ],
                          [
                            0.1111111111111111,
                            "#46039f"
                          ],
                          [
                            0.2222222222222222,
                            "#7201a8"
                          ],
                          [
                            0.3333333333333333,
                            "#9c179e"
                          ],
                          [
                            0.4444444444444444,
                            "#bd3786"
                          ],
                          [
                            0.5555555555555556,
                            "#d8576b"
                          ],
                          [
                            0.6666666666666666,
                            "#ed7953"
                          ],
                          [
                            0.7777777777777778,
                            "#fb9f3a"
                          ],
                          [
                            0.8888888888888888,
                            "#fdca26"
                          ],
                          [
                            1,
                            "#f0f921"
                          ]
                        ],
                        "type": "surface"
                      }
                    ],
                    "table": [
                      {
                        "cells": {
                          "fill": {
                            "color": "#EBF0F8"
                          },
                          "line": {
                            "color": "white"
                          }
                        },
                        "header": {
                          "fill": {
                            "color": "#C8D4E3"
                          },
                          "line": {
                            "color": "white"
                          }
                        },
                        "type": "table"
                      }
                    ]
                  },
                  "layout": {
                    "annotationdefaults": {
                      "arrowcolor": "#2a3f5f",
                      "arrowhead": 0,
                      "arrowwidth": 1
                    },
                    "autotypenumbers": "strict",
                    "coloraxis": {
                      "colorbar": {
                        "outlinewidth": 0,
                        "ticks": ""
                      }
                    },
                    "colorscale": {
                      "diverging": [
                        [
                          0,
                          "#8e0152"
                        ],
                        [
                          0.1,
                          "#c51b7d"
                        ],
                        [
                          0.2,
                          "#de77ae"
                        ],
                        [
                          0.3,
                          "#f1b6da"
                        ],
                        [
                          0.4,
                          "#fde0ef"
                        ],
                        [
                          0.5,
                          "#f7f7f7"
                        ],
                        [
                          0.6,
                          "#e6f5d0"
                        ],
                        [
                          0.7,
                          "#b8e186"
                        ],
                        [
                          0.8,
                          "#7fbc41"
                        ],
                        [
                          0.9,
                          "#4d9221"
                        ],
                        [
                          1,
                          "#276419"
                        ]
                      ],
                      "sequential": [
                        [
                          0,
                          "#0d0887"
                        ],
                        [
                          0.1111111111111111,
                          "#46039f"
                        ],
                        [
                          0.2222222222222222,
                          "#7201a8"
                        ],
                        [
                          0.3333333333333333,
                          "#9c179e"
                        ],
                        [
                          0.4444444444444444,
                          "#bd3786"
                        ],
                        [
                          0.5555555555555556,
                          "#d8576b"
                        ],
                        [
                          0.6666666666666666,
                          "#ed7953"
                        ],
                        [
                          0.7777777777777778,
                          "#fb9f3a"
                        ],
                        [
                          0.8888888888888888,
                          "#fdca26"
                        ],
                        [
                          1,
                          "#f0f921"
                        ]
                      ],
                      "sequentialminus": [
                        [
                          0,
                          "#0d0887"
                        ],
                        [
                          0.1111111111111111,
                          "#46039f"
                        ],
                        [
                          0.2222222222222222,
                          "#7201a8"
                        ],
                        [
                          0.3333333333333333,
                          "#9c179e"
                        ],
                        [
                          0.4444444444444444,
                          "#bd3786"
                        ],
                        [
                          0.5555555555555556,
                          "#d8576b"
                        ],
                        [
                          0.6666666666666666,
                          "#ed7953"
                        ],
                        [
                          0.7777777777777778,
                          "#fb9f3a"
                        ],
                        [
                          0.8888888888888888,
                          "#fdca26"
                        ],
                        [
                          1,
                          "#f0f921"
                        ]
                      ]
                    },
                    "colorway": [
                      "#636efa",
                      "#EF553B",
                      "#00cc96",
                      "#ab63fa",
                      "#FFA15A",
                      "#19d3f3",
                      "#FF6692",
                      "#B6E880",
                      "#FF97FF",
                      "#FECB52"
                    ],
                    "font": {
                      "color": "#2a3f5f"
                    },
                    "geo": {
                      "bgcolor": "white",
                      "lakecolor": "white",
                      "landcolor": "#E5ECF6",
                      "showlakes": true,
                      "showland": true,
                      "subunitcolor": "white"
                    },
                    "hoverlabel": {
                      "align": "left"
                    },
                    "hovermode": "closest",
                    "mapbox": {
                      "style": "light"
                    },
                    "paper_bgcolor": "white",
                    "plot_bgcolor": "#E5ECF6",
                    "polar": {
                      "angularaxis": {
                        "gridcolor": "white",
                        "linecolor": "white",
                        "ticks": ""
                      },
                      "bgcolor": "#E5ECF6",
                      "radialaxis": {
                        "gridcolor": "white",
                        "linecolor": "white",
                        "ticks": ""
                      }
                    },
                    "scene": {
                      "xaxis": {
                        "backgroundcolor": "#E5ECF6",
                        "gridcolor": "white",
                        "gridwidth": 2,
                        "linecolor": "white",
                        "showbackground": true,
                        "ticks": "",
                        "zerolinecolor": "white"
                      },
                      "yaxis": {
                        "backgroundcolor": "#E5ECF6",
                        "gridcolor": "white",
                        "gridwidth": 2,
                        "linecolor": "white",
                        "showbackground": true,
                        "ticks": "",
                        "zerolinecolor": "white"
                      },
                      "zaxis": {
                        "backgroundcolor": "#E5ECF6",
                        "gridcolor": "white",
                        "gridwidth": 2,
                        "linecolor": "white",
                        "showbackground": true,
                        "ticks": "",
                        "zerolinecolor": "white"
                      }
                    },
                    "shapedefaults": {
                      "line": {
                        "color": "#2a3f5f"
                      }
                    },
                    "ternary": {
                      "aaxis": {
                        "gridcolor": "white",
                        "linecolor": "white",
                        "ticks": ""
                      },
                      "baxis": {
                        "gridcolor": "white",
                        "linecolor": "white",
                        "ticks": ""
                      },
                      "bgcolor": "#E5ECF6",
                      "caxis": {
                        "gridcolor": "white",
                        "linecolor": "white",
                        "ticks": ""
                      }
                    },
                    "title": {
                      "x": 0.05
                    },
                    "xaxis": {
                      "automargin": true,
                      "gridcolor": "white",
                      "linecolor": "white",
                      "ticks": "",
                      "title": {
                        "standoff": 15
                      },
                      "zerolinecolor": "white",
                      "zerolinewidth": 2
                    },
                    "yaxis": {
                      "automargin": true,
                      "gridcolor": "white",
                      "linecolor": "white",
                      "ticks": "",
                      "title": {
                        "standoff": 15
                      },
                      "zerolinecolor": "white",
                      "zerolinewidth": 2
                    }
                  }
                }
              }
            }
          },
          "metadata": {},
          "output_type": "display_data"
        }
      ],
      "source": [
        "# Filter the data for the year 2018\n",
        "cleaned_data_2018 = cleaned_data2[cleaned_data2['Year'] == 2018]\n",
        "\n",
        "# Create the sunburst chart\n",
        "fig = px.sunburst(data_frame=cleaned_data_2018, path=['Continent', 'Country'], values='Value (USD)',\n",
        "                  color='Value (USD)', hover_name='ISO3')\n",
        "fig.show()"
      ]
    },
    {
      "cell_type": "markdown",
      "metadata": {},
      "source": [
        "As predicted, Asia is has"
      ]
    },
    {
      "cell_type": "markdown",
      "metadata": {},
      "source": [
        "We had a small glimpse earlier, but lets see the distribution of each industry in each country. This will give us an initial insight into which ones "
      ]
    },
    {
      "cell_type": "code",
      "execution_count": null,
      "metadata": {},
      "outputs": [],
      "source": []
    },
    {
      "cell_type": "markdown",
      "metadata": {
        "id": "ZY3l0-AxO93d"
      },
      "source": [
        "---"
      ]
    },
    {
      "cell_type": "markdown",
      "metadata": {
        "id": "uFQo3ycuO-v6"
      },
      "source": [
        "# Section 2"
      ]
    },
    {
      "cell_type": "markdown",
      "metadata": {},
      "source": [
        "Section 2 content"
      ]
    },
    {
      "cell_type": "code",
      "execution_count": null,
      "metadata": {},
      "outputs": [],
      "source": []
    },
    {
      "cell_type": "markdown",
      "metadata": {},
      "source": [
        "---"
      ]
    },
    {
      "cell_type": "markdown",
      "metadata": {},
      "source": [
        "NOTE"
      ]
    },
    {
      "cell_type": "markdown",
      "metadata": {},
      "source": [
        "* You may add as many sections as you want, as long as it supports your project workflow.\n",
        "* All notebook's cells should be run top-down (you can't create a dynamic wherein a given point you need to go back to a previous cell to execute some task, like go back to a previous cell and refresh a variable content)"
      ]
    },
    {
      "cell_type": "markdown",
      "metadata": {},
      "source": [
        "---"
      ]
    },
    {
      "cell_type": "markdown",
      "metadata": {
        "id": "ltNetd085qHf"
      },
      "source": [
        "# Push files to Repo"
      ]
    },
    {
      "cell_type": "markdown",
      "metadata": {},
      "source": [
        "* In cases where you don't need to push files to Repo, you may replace this section with \"Conclusions and Next Steps\" and state your conclusions and next steps."
      ]
    },
    {
      "cell_type": "code",
      "execution_count": null,
      "metadata": {
        "id": "aKlnIozA4eQO",
        "outputId": "fd09bc1f-adb1-4511-f6ce-492a6af570c0"
      },
      "outputs": [],
      "source": [
        "import os\n",
        "try:\n",
        "  # create your folder here\n",
        "  # os.makedirs(name='')\n",
        "except Exception as e:\n",
        "  print(e)\n"
      ]
    }
  ],
  "metadata": {
    "accelerator": "GPU",
    "colab": {
      "name": "Data Practitioner Jupyter Notebook.ipynb",
      "provenance": [],
      "toc_visible": true
    },
    "kernelspec": {
      "display_name": ".venv",
      "language": "python",
      "name": "python3"
    },
    "language_info": {
      "codemirror_mode": {
        "name": "ipython",
        "version": 3
      },
      "file_extension": ".py",
      "mimetype": "text/x-python",
      "name": "python",
      "nbconvert_exporter": "python",
      "pygments_lexer": "ipython3",
      "version": "3.12.8"
    },
    "orig_nbformat": 2
  },
  "nbformat": 4,
  "nbformat_minor": 2
}
