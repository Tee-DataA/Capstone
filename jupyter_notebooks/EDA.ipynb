{
  "cells": [
    {
      "cell_type": "markdown",
      "metadata": {
        "id": "0aStgWSO0E0E"
      },
      "source": [
        "# **Initial EDA**"
      ]
    },
    {
      "cell_type": "markdown",
      "metadata": {
        "id": "1eLEkw5O0ECa"
      },
      "source": [
        "## Objectives\n",
        "\n",
        "* Performing basic EDA using the cleaned and featured datasets\n",
        "\n",
        "## Inputs\n",
        "\n",
        "* df_eng_final.csv\n",
        "* gdp_final\n",
        "\n",
        "## Additional Comments\n",
        "\n",
        "\n"
      ]
    },
    {
      "cell_type": "markdown",
      "metadata": {
        "id": "9uWZXH9LwoQg"
      },
      "source": [
        "---"
      ]
    },
    {
      "cell_type": "markdown",
      "metadata": {
        "id": "cqP-UeN-z3i2"
      },
      "source": [
        "# Change working directory"
      ]
    },
    {
      "cell_type": "markdown",
      "metadata": {},
      "source": [
        "* We are assuming you will store the notebooks in a subfolder, therefore when running the notebook in the editor, you will need to change the working directory"
      ]
    },
    {
      "cell_type": "markdown",
      "metadata": {
        "id": "aOGIGS-uz3i2"
      },
      "source": [
        "We need to change the working directory from its current folder to its parent folder\n",
        "* We access the current directory with os.getcwd()"
      ]
    },
    {
      "cell_type": "code",
      "execution_count": 1,
      "metadata": {
        "id": "wZfF_j-Bz3i4",
        "outputId": "66943449-1436-4c3d-85c7-b85f9f78349b"
      },
      "outputs": [
        {
          "data": {
            "text/plain": [
              "'c:\\\\Users\\\\sayed\\\\OneDrive\\\\Documents\\\\Code institute\\\\Capstone\\\\Capstone\\\\jupyter_notebooks'"
            ]
          },
          "execution_count": 1,
          "metadata": {},
          "output_type": "execute_result"
        }
      ],
      "source": [
        "import os\n",
        "current_dir = os.getcwd()\n",
        "current_dir"
      ]
    },
    {
      "cell_type": "markdown",
      "metadata": {
        "id": "9MWW8E7lz3i7"
      },
      "source": [
        "We want to make the parent of the current directory the new current directory\n",
        "* os.path.dirname() gets the parent directory\n",
        "* os.chir() defines the new current directory"
      ]
    },
    {
      "cell_type": "code",
      "execution_count": 2,
      "metadata": {
        "id": "TwHsQRWjz3i9",
        "outputId": "86849db3-cd2f-4cc5-ebb8-2d0caafa1a2c"
      },
      "outputs": [
        {
          "name": "stdout",
          "output_type": "stream",
          "text": [
            "You set a new current directory\n"
          ]
        }
      ],
      "source": [
        "os.chdir(os.path.dirname(current_dir))\n",
        "print(\"You set a new current directory\")"
      ]
    },
    {
      "cell_type": "markdown",
      "metadata": {
        "id": "M_xPk_Ijz3i-"
      },
      "source": [
        "Confirm the new current directory"
      ]
    },
    {
      "cell_type": "code",
      "execution_count": 3,
      "metadata": {
        "id": "vz3S-_kjz3jA",
        "outputId": "00b79ae4-75d0-4a96-d193-ac9ef9847ea2"
      },
      "outputs": [
        {
          "data": {
            "text/plain": [
              "'c:\\\\Users\\\\sayed\\\\OneDrive\\\\Documents\\\\Code institute\\\\Capstone\\\\Capstone'"
            ]
          },
          "execution_count": 3,
          "metadata": {},
          "output_type": "execute_result"
        }
      ],
      "source": [
        "current_dir = os.getcwd()\n",
        "current_dir"
      ]
    },
    {
      "cell_type": "code",
      "execution_count": 4,
      "metadata": {},
      "outputs": [],
      "source": [
        "# Import libraries\n",
        "import pandas as pd\n",
        "import numpy as np\n",
        "import matplotlib.pyplot as plt\n",
        "import seaborn as sns\n",
        "import plotly.express as px"
      ]
    },
    {
      "cell_type": "code",
      "execution_count": 7,
      "metadata": {},
      "outputs": [
        {
          "name": "stdout",
          "output_type": "stream",
          "text": [
            "   Year    Country ISO3 Continent Ind Code  \\\n",
            "0  2000  Australia  AUS   Oceania        A   \n",
            "1  2000  Australia  AUS   Oceania        B   \n",
            "\n",
            "                                            Industry  Value (LCU)  \\\n",
            "0  Manufacture of food products, beverages and to...     19295.29   \n",
            "1  Manufacture of textiles, wearing apparel, leat...      2967.56   \n",
            "\n",
            "   Value (USD)  Exchange Rate  Volatility  \n",
            "0      11186.8       0.579768    0.143969  \n",
            "1       1720.5       0.579769    0.143969  \n",
            "----------------------------------------------------------------------------------\n",
            "  Ind Code                                           Industry\n",
            "0        A  Manufacture of food products, beverages and to...\n",
            "1        B  Manufacture of textiles, wearing apparel, leat...\n",
            "----------------------------------------------------------------------------------\n",
            "     Country ISO3  Year       GDP\n",
            "0  Australia  AUS  2000  416168.0\n",
            "1  Australia  AUS  2001  379629.0\n"
          ]
        }
      ],
      "source": [
        "# Load the datasets\n",
        "df_eng_final = pd.read_csv(os.path.join(current_dir, 'df_eng_final.csv'))\n",
        "industry_ref = pd.read_csv(os.path.join(current_dir, 'industry_reference.csv'))\n",
        "gdp_final = pd.read_csv(os.path.join(current_dir, 'gdp_final.csv'))\n",
        "\n",
        "\n",
        "# Display the first few rows of each dataframe to confirm they are loaded correctly\n",
        "print(df_eng_final.head(2))\n",
        "print('----------------------------------------------------------------------------------')\n",
        "print(industry_ref.head(2))\n",
        "print('----------------------------------------------------------------------------------')\n",
        "print(gdp_final.head(2))"
      ]
    },
    {
      "cell_type": "markdown",
      "metadata": {},
      "source": [
        "---"
      ]
    },
    {
      "cell_type": "markdown",
      "metadata": {
        "id": "-mavJ8DibrcQ"
      },
      "source": [
        "# EDA"
      ]
    },
    {
      "cell_type": "markdown",
      "metadata": {},
      "source": [
        "Lets start by seeing the distribution of industries globally. We'll take the data from 2018 as this is the latest year which has most of the main countries available."
      ]
    },
    {
      "cell_type": "code",
      "execution_count": 9,
      "metadata": {},
      "outputs": [
        {
          "data": {
            "application/vnd.plotly.v1+json": {
              "config": {
                "plotlyServerURL": "https://plot.ly"
              },
              "data": [
                {
                  "branchvalues": "total",
                  "customdata": [
                    [
                      11304.795641340075
                    ],
                    [
                      14876.90558434048
                    ],
                    [
                      12772.292460882287
                    ],
                    [
                      29137.91656764938
                    ],
                    [
                      1050.615627095909
                    ],
                    [
                      1255.3474648304054
                    ],
                    [
                      2712.3933887283238
                    ],
                    [
                      20052.09854872505
                    ],
                    [
                      9017.147864774326
                    ],
                    [
                      544029.9939392023
                    ],
                    [
                      67320.07374171789
                    ],
                    [
                      5442.070522081093
                    ],
                    [
                      1744.16038636616
                    ],
                    [
                      1157.2259885650262
                    ],
                    [
                      240.56226365902504
                    ],
                    [
                      10996.315964628606
                    ],
                    [
                      10986.46552319802
                    ],
                    [
                      611.2516164142987
                    ],
                    [
                      8386.052796280068
                    ],
                    [
                      40513.774830795075
                    ],
                    [
                      174922.57273605373
                    ],
                    [
                      3094.2939382676427
                    ],
                    [
                      1700.7772886922414
                    ],
                    [
                      4821.936567748481
                    ],
                    [
                      607.2443386679915
                    ],
                    [
                      54260.69797364689
                    ],
                    [
                      30470.15413941779
                    ],
                    [
                      37831.48889464079
                    ],
                    [
                      54146.01860311896
                    ],
                    [
                      182259.42171878237
                    ],
                    [
                      4518.962687186658
                    ],
                    [
                      138745.8687053775
                    ],
                    [
                      307.0886781303552
                    ],
                    [
                      12453.799530876731
                    ],
                    [
                      169.05708817708432
                    ],
                    [
                      36296.7961709078
                    ],
                    [
                      4146.845616446484
                    ],
                    [
                      2015.733439808177
                    ],
                    [
                      19126.237990876678
                    ],
                    [
                      4505.116734902726
                    ],
                    [
                      254.3352776008525
                    ],
                    [
                      3933.7347074135955
                    ],
                    [
                      4303.734613092267
                    ],
                    [
                      19281.663591961675
                    ],
                    [
                      12076.332771139436
                    ],
                    [
                      3574.9881829011542
                    ],
                    [
                      6278.348912534589
                    ],
                    [
                      28261.90469917483
                    ],
                    [
                      17831.67830929243
                    ],
                    [
                      995.6521574665588
                    ],
                    [
                      19144.705055326205
                    ],
                    [
                      1980.1867362481921
                    ],
                    [
                      6823.2545532220065
                    ],
                    [
                      19719.717585617822
                    ],
                    [
                      12697.528519820584
                    ],
                    [
                      18719.705660517007
                    ],
                    [
                      1082.8935973291902
                    ],
                    [
                      366117.76192841155
                    ],
                    [
                      11396.346198396703
                    ],
                    [
                      5579.575427203897
                    ],
                    [
                      358967.81273974804
                    ],
                    [
                      72977.04361847852
                    ],
                    [
                      17831.67830929243
                    ],
                    [
                      342459.85642757214
                    ],
                    [
                      9792.451374902093
                    ],
                    [
                      26233.68493633034
                    ]
                  ],
                  "domain": {
                    "x": [
                      0,
                      1
                    ],
                    "y": [
                      0,
                      1
                    ]
                  },
                  "hovertemplate": "<b>%{hovertext}</b><br><br>labels=%{label}<br>Value (USD)_sum=%{value}<br>parent=%{parent}<br>id=%{id}<br>Value (USD)=%{color}<extra></extra>",
                  "hovertext": [
                    "AUS",
                    "AUT",
                    "BEL",
                    "BRA",
                    "BRN",
                    "BGR",
                    "KHM",
                    "CAN",
                    "CHL",
                    "CHN",
                    "TWN",
                    "COL",
                    "CRI",
                    "HRV",
                    "CYP",
                    "CZE",
                    "DNK",
                    "EST",
                    "FIN",
                    "FRA",
                    "DEU",
                    "GRC",
                    "HKG",
                    "HUN",
                    "ISL",
                    "IND",
                    "IDN",
                    "IRL",
                    "ITA",
                    "JPN",
                    "KAZ",
                    "KOR",
                    "LAO",
                    "MYS",
                    "MLT",
                    "MEX",
                    "MAR",
                    "MMR",
                    "NLD",
                    "NZL",
                    "MKD",
                    "NOR",
                    "PER",
                    "PHL",
                    "POL",
                    "PRT",
                    "ROU",
                    "RUS",
                    "SAU",
                    "SRB",
                    "SGP",
                    "SVN",
                    "ZAF",
                    "ESP",
                    "SWE",
                    "THA",
                    "TUN",
                    "USA",
                    "VNM",
                    "(?)",
                    "(?)",
                    "(?)",
                    "SAU",
                    "(?)",
                    "(?)",
                    "(?)"
                  ],
                  "ids": [
                    "Oceania/Australia",
                    "Europe/Austria",
                    "Europe/Belgium",
                    "South America/Brazil",
                    "Asia/Brunei Darussalam",
                    "South America/Bulgaria",
                    "South America/Cambodia",
                    "North America/Canada",
                    "South America/Chile",
                    "Asia/China",
                    "Asia/Chinese Taipei",
                    "South America/Colombia",
                    "South America/Costa Rica",
                    "Europe/Croatia",
                    "Europe/Cyprus",
                    "Europe/Czech Republic",
                    "Europe/Denmark",
                    "Europe/Estonia",
                    "Europe/Finland",
                    "Europe/France",
                    "Europe/Germany",
                    "Europe/Greece",
                    "Asia/Hong Kong",
                    "Europe/Hungary",
                    "Europe/Iceland",
                    "Asia/India",
                    "Asia/Indonesia",
                    "Europe/Ireland",
                    "Europe/Italy",
                    "Asia/Japan",
                    "Asia/Kazakhstan",
                    "Asia/Korea",
                    "Asia/Laos",
                    "Asia/Malaysia",
                    "Europe/Malta",
                    "South America/Mexico",
                    "Africa/Morocco",
                    "Asia/Myanmar",
                    "Europe/Netherlands",
                    "Oceania/New Zealand",
                    "Europe/North Macedonia",
                    "Europe/Norway",
                    "South America/Peru",
                    "Asia/Philippines",
                    "Europe/Poland",
                    "Europe/Portugal",
                    "Europe/Romania",
                    "Europe/Russian Federation",
                    "Middle East/Saudi Arabia",
                    "Europe/Serbia",
                    "Asia/Singapore",
                    "Europe/Slovenia",
                    "Africa/South Africa",
                    "Europe/Spain",
                    "Europe/Sweden",
                    "Asia/Thailand",
                    "Africa/Tunisia",
                    "North America/United States",
                    "Asia/Viet Nam",
                    "Africa",
                    "Asia",
                    "Europe",
                    "Middle East",
                    "North America",
                    "Oceania",
                    "South America"
                  ],
                  "labels": [
                    "Australia",
                    "Austria",
                    "Belgium",
                    "Brazil",
                    "Brunei Darussalam",
                    "Bulgaria",
                    "Cambodia",
                    "Canada",
                    "Chile",
                    "China",
                    "Chinese Taipei",
                    "Colombia",
                    "Costa Rica",
                    "Croatia",
                    "Cyprus",
                    "Czech Republic",
                    "Denmark",
                    "Estonia",
                    "Finland",
                    "France",
                    "Germany",
                    "Greece",
                    "Hong Kong",
                    "Hungary",
                    "Iceland",
                    "India",
                    "Indonesia",
                    "Ireland",
                    "Italy",
                    "Japan",
                    "Kazakhstan",
                    "Korea",
                    "Laos",
                    "Malaysia",
                    "Malta",
                    "Mexico",
                    "Morocco",
                    "Myanmar",
                    "Netherlands",
                    "New Zealand",
                    "North Macedonia",
                    "Norway",
                    "Peru",
                    "Philippines",
                    "Poland",
                    "Portugal",
                    "Romania",
                    "Russian Federation",
                    "Saudi Arabia",
                    "Serbia",
                    "Singapore",
                    "Slovenia",
                    "South Africa",
                    "Spain",
                    "Sweden",
                    "Thailand",
                    "Tunisia",
                    "United States",
                    "Viet Nam",
                    "Africa",
                    "Asia",
                    "Europe",
                    "Middle East",
                    "North America",
                    "Oceania",
                    "South America"
                  ],
                  "marker": {
                    "coloraxis": "coloraxis",
                    "colors": [
                      11304.795641340075,
                      14876.90558434048,
                      12772.292460882287,
                      29137.91656764938,
                      1050.615627095909,
                      1255.3474648304054,
                      2712.3933887283238,
                      20052.09854872505,
                      9017.147864774326,
                      544029.9939392023,
                      67320.07374171789,
                      5442.070522081093,
                      1744.16038636616,
                      1157.2259885650262,
                      240.56226365902504,
                      10996.315964628606,
                      10986.46552319802,
                      611.2516164142987,
                      8386.052796280068,
                      40513.774830795075,
                      174922.57273605373,
                      3094.2939382676427,
                      1700.7772886922414,
                      4821.936567748481,
                      607.2443386679915,
                      54260.69797364689,
                      30470.15413941779,
                      37831.48889464079,
                      54146.01860311896,
                      182259.42171878237,
                      4518.962687186658,
                      138745.8687053775,
                      307.0886781303552,
                      12453.799530876731,
                      169.05708817708432,
                      36296.7961709078,
                      4146.845616446484,
                      2015.733439808177,
                      19126.237990876678,
                      4505.116734902726,
                      254.3352776008525,
                      3933.7347074135955,
                      4303.734613092267,
                      19281.663591961675,
                      12076.332771139436,
                      3574.9881829011542,
                      6278.348912534589,
                      28261.90469917483,
                      17831.67830929243,
                      995.6521574665588,
                      19144.705055326205,
                      1980.1867362481921,
                      6823.2545532220065,
                      19719.717585617822,
                      12697.528519820584,
                      18719.705660517007,
                      1082.8935973291902,
                      366117.76192841155,
                      11396.346198396703,
                      5579.575427203897,
                      358967.81273974804,
                      72977.04361847852,
                      17831.67830929243,
                      342459.85642757214,
                      9792.451374902093,
                      26233.68493633034
                    ]
                  },
                  "name": "",
                  "parents": [
                    "Oceania",
                    "Europe",
                    "Europe",
                    "South America",
                    "Asia",
                    "South America",
                    "South America",
                    "North America",
                    "South America",
                    "Asia",
                    "Asia",
                    "South America",
                    "South America",
                    "Europe",
                    "Europe",
                    "Europe",
                    "Europe",
                    "Europe",
                    "Europe",
                    "Europe",
                    "Europe",
                    "Europe",
                    "Asia",
                    "Europe",
                    "Europe",
                    "Asia",
                    "Asia",
                    "Europe",
                    "Europe",
                    "Asia",
                    "Asia",
                    "Asia",
                    "Asia",
                    "Asia",
                    "Europe",
                    "South America",
                    "Africa",
                    "Asia",
                    "Europe",
                    "Oceania",
                    "Europe",
                    "Europe",
                    "South America",
                    "Asia",
                    "Europe",
                    "Europe",
                    "Europe",
                    "Europe",
                    "Middle East",
                    "Europe",
                    "Asia",
                    "Europe",
                    "Africa",
                    "Europe",
                    "Europe",
                    "Asia",
                    "Africa",
                    "North America",
                    "Asia",
                    "",
                    "",
                    "",
                    "",
                    "",
                    "",
                    ""
                  ],
                  "type": "sunburst",
                  "values": [
                    76491.4,
                    74527.44,
                    67294.97,
                    231356.9,
                    1491,
                    8719.890000000001,
                    6643.2,
                    170088.17,
                    49425.97,
                    3843134.59,
                    174623,
                    38615.84,
                    5404.2,
                    7461.32,
                    1223.55,
                    54509.58,
                    44350.99,
                    3917.56,
                    39492.11,
                    258642.89,
                    790426.01,
                    17386.02,
                    4384.6,
                    29493.06,
                    2193.83,
                    461903.7,
                    207348,
                    109888.08,
                    310593.52,
                    1118553.3800000001,
                    18310.600000000002,
                    477015.5,
                    1692.3,
                    66976,
                    1040.8600000000001,
                    215542.29,
                    20225.600000000002,
                    11927.7,
                    100086.39,
                    21878.95,
                    1679.93,
                    25031.58,
                    31039.7,
                    68342.6,
                    94205.22,
                    29145.36,
                    43534.81,
                    208681.51,
                    97223.2,
                    7235.0599999999995,
                    66080.8,
                    10724.59,
                    45176.8,
                    153285.26,
                    72397.71,
                    122949.9,
                    6050.6,
                    2317945.92,
                    70654.4,
                    71453,
                    6715388.07,
                    2558449.21,
                    97223.2,
                    2488034.09,
                    98370.35,
                    586747.99
                  ]
                }
              ],
              "layout": {
                "coloraxis": {
                  "colorbar": {
                    "title": {
                      "text": "Value (USD)"
                    }
                  },
                  "colorscale": [
                    [
                      0,
                      "#0d0887"
                    ],
                    [
                      0.1111111111111111,
                      "#46039f"
                    ],
                    [
                      0.2222222222222222,
                      "#7201a8"
                    ],
                    [
                      0.3333333333333333,
                      "#9c179e"
                    ],
                    [
                      0.4444444444444444,
                      "#bd3786"
                    ],
                    [
                      0.5555555555555556,
                      "#d8576b"
                    ],
                    [
                      0.6666666666666666,
                      "#ed7953"
                    ],
                    [
                      0.7777777777777778,
                      "#fb9f3a"
                    ],
                    [
                      0.8888888888888888,
                      "#fdca26"
                    ],
                    [
                      1,
                      "#f0f921"
                    ]
                  ]
                },
                "legend": {
                  "tracegroupgap": 0
                },
                "margin": {
                  "t": 60
                },
                "template": {
                  "data": {
                    "bar": [
                      {
                        "error_x": {
                          "color": "#2a3f5f"
                        },
                        "error_y": {
                          "color": "#2a3f5f"
                        },
                        "marker": {
                          "line": {
                            "color": "#E5ECF6",
                            "width": 0.5
                          },
                          "pattern": {
                            "fillmode": "overlay",
                            "size": 10,
                            "solidity": 0.2
                          }
                        },
                        "type": "bar"
                      }
                    ],
                    "barpolar": [
                      {
                        "marker": {
                          "line": {
                            "color": "#E5ECF6",
                            "width": 0.5
                          },
                          "pattern": {
                            "fillmode": "overlay",
                            "size": 10,
                            "solidity": 0.2
                          }
                        },
                        "type": "barpolar"
                      }
                    ],
                    "carpet": [
                      {
                        "aaxis": {
                          "endlinecolor": "#2a3f5f",
                          "gridcolor": "white",
                          "linecolor": "white",
                          "minorgridcolor": "white",
                          "startlinecolor": "#2a3f5f"
                        },
                        "baxis": {
                          "endlinecolor": "#2a3f5f",
                          "gridcolor": "white",
                          "linecolor": "white",
                          "minorgridcolor": "white",
                          "startlinecolor": "#2a3f5f"
                        },
                        "type": "carpet"
                      }
                    ],
                    "choropleth": [
                      {
                        "colorbar": {
                          "outlinewidth": 0,
                          "ticks": ""
                        },
                        "type": "choropleth"
                      }
                    ],
                    "contour": [
                      {
                        "colorbar": {
                          "outlinewidth": 0,
                          "ticks": ""
                        },
                        "colorscale": [
                          [
                            0,
                            "#0d0887"
                          ],
                          [
                            0.1111111111111111,
                            "#46039f"
                          ],
                          [
                            0.2222222222222222,
                            "#7201a8"
                          ],
                          [
                            0.3333333333333333,
                            "#9c179e"
                          ],
                          [
                            0.4444444444444444,
                            "#bd3786"
                          ],
                          [
                            0.5555555555555556,
                            "#d8576b"
                          ],
                          [
                            0.6666666666666666,
                            "#ed7953"
                          ],
                          [
                            0.7777777777777778,
                            "#fb9f3a"
                          ],
                          [
                            0.8888888888888888,
                            "#fdca26"
                          ],
                          [
                            1,
                            "#f0f921"
                          ]
                        ],
                        "type": "contour"
                      }
                    ],
                    "contourcarpet": [
                      {
                        "colorbar": {
                          "outlinewidth": 0,
                          "ticks": ""
                        },
                        "type": "contourcarpet"
                      }
                    ],
                    "heatmap": [
                      {
                        "colorbar": {
                          "outlinewidth": 0,
                          "ticks": ""
                        },
                        "colorscale": [
                          [
                            0,
                            "#0d0887"
                          ],
                          [
                            0.1111111111111111,
                            "#46039f"
                          ],
                          [
                            0.2222222222222222,
                            "#7201a8"
                          ],
                          [
                            0.3333333333333333,
                            "#9c179e"
                          ],
                          [
                            0.4444444444444444,
                            "#bd3786"
                          ],
                          [
                            0.5555555555555556,
                            "#d8576b"
                          ],
                          [
                            0.6666666666666666,
                            "#ed7953"
                          ],
                          [
                            0.7777777777777778,
                            "#fb9f3a"
                          ],
                          [
                            0.8888888888888888,
                            "#fdca26"
                          ],
                          [
                            1,
                            "#f0f921"
                          ]
                        ],
                        "type": "heatmap"
                      }
                    ],
                    "heatmapgl": [
                      {
                        "colorbar": {
                          "outlinewidth": 0,
                          "ticks": ""
                        },
                        "colorscale": [
                          [
                            0,
                            "#0d0887"
                          ],
                          [
                            0.1111111111111111,
                            "#46039f"
                          ],
                          [
                            0.2222222222222222,
                            "#7201a8"
                          ],
                          [
                            0.3333333333333333,
                            "#9c179e"
                          ],
                          [
                            0.4444444444444444,
                            "#bd3786"
                          ],
                          [
                            0.5555555555555556,
                            "#d8576b"
                          ],
                          [
                            0.6666666666666666,
                            "#ed7953"
                          ],
                          [
                            0.7777777777777778,
                            "#fb9f3a"
                          ],
                          [
                            0.8888888888888888,
                            "#fdca26"
                          ],
                          [
                            1,
                            "#f0f921"
                          ]
                        ],
                        "type": "heatmapgl"
                      }
                    ],
                    "histogram": [
                      {
                        "marker": {
                          "pattern": {
                            "fillmode": "overlay",
                            "size": 10,
                            "solidity": 0.2
                          }
                        },
                        "type": "histogram"
                      }
                    ],
                    "histogram2d": [
                      {
                        "colorbar": {
                          "outlinewidth": 0,
                          "ticks": ""
                        },
                        "colorscale": [
                          [
                            0,
                            "#0d0887"
                          ],
                          [
                            0.1111111111111111,
                            "#46039f"
                          ],
                          [
                            0.2222222222222222,
                            "#7201a8"
                          ],
                          [
                            0.3333333333333333,
                            "#9c179e"
                          ],
                          [
                            0.4444444444444444,
                            "#bd3786"
                          ],
                          [
                            0.5555555555555556,
                            "#d8576b"
                          ],
                          [
                            0.6666666666666666,
                            "#ed7953"
                          ],
                          [
                            0.7777777777777778,
                            "#fb9f3a"
                          ],
                          [
                            0.8888888888888888,
                            "#fdca26"
                          ],
                          [
                            1,
                            "#f0f921"
                          ]
                        ],
                        "type": "histogram2d"
                      }
                    ],
                    "histogram2dcontour": [
                      {
                        "colorbar": {
                          "outlinewidth": 0,
                          "ticks": ""
                        },
                        "colorscale": [
                          [
                            0,
                            "#0d0887"
                          ],
                          [
                            0.1111111111111111,
                            "#46039f"
                          ],
                          [
                            0.2222222222222222,
                            "#7201a8"
                          ],
                          [
                            0.3333333333333333,
                            "#9c179e"
                          ],
                          [
                            0.4444444444444444,
                            "#bd3786"
                          ],
                          [
                            0.5555555555555556,
                            "#d8576b"
                          ],
                          [
                            0.6666666666666666,
                            "#ed7953"
                          ],
                          [
                            0.7777777777777778,
                            "#fb9f3a"
                          ],
                          [
                            0.8888888888888888,
                            "#fdca26"
                          ],
                          [
                            1,
                            "#f0f921"
                          ]
                        ],
                        "type": "histogram2dcontour"
                      }
                    ],
                    "mesh3d": [
                      {
                        "colorbar": {
                          "outlinewidth": 0,
                          "ticks": ""
                        },
                        "type": "mesh3d"
                      }
                    ],
                    "parcoords": [
                      {
                        "line": {
                          "colorbar": {
                            "outlinewidth": 0,
                            "ticks": ""
                          }
                        },
                        "type": "parcoords"
                      }
                    ],
                    "pie": [
                      {
                        "automargin": true,
                        "type": "pie"
                      }
                    ],
                    "scatter": [
                      {
                        "fillpattern": {
                          "fillmode": "overlay",
                          "size": 10,
                          "solidity": 0.2
                        },
                        "type": "scatter"
                      }
                    ],
                    "scatter3d": [
                      {
                        "line": {
                          "colorbar": {
                            "outlinewidth": 0,
                            "ticks": ""
                          }
                        },
                        "marker": {
                          "colorbar": {
                            "outlinewidth": 0,
                            "ticks": ""
                          }
                        },
                        "type": "scatter3d"
                      }
                    ],
                    "scattercarpet": [
                      {
                        "marker": {
                          "colorbar": {
                            "outlinewidth": 0,
                            "ticks": ""
                          }
                        },
                        "type": "scattercarpet"
                      }
                    ],
                    "scattergeo": [
                      {
                        "marker": {
                          "colorbar": {
                            "outlinewidth": 0,
                            "ticks": ""
                          }
                        },
                        "type": "scattergeo"
                      }
                    ],
                    "scattergl": [
                      {
                        "marker": {
                          "colorbar": {
                            "outlinewidth": 0,
                            "ticks": ""
                          }
                        },
                        "type": "scattergl"
                      }
                    ],
                    "scattermapbox": [
                      {
                        "marker": {
                          "colorbar": {
                            "outlinewidth": 0,
                            "ticks": ""
                          }
                        },
                        "type": "scattermapbox"
                      }
                    ],
                    "scatterpolar": [
                      {
                        "marker": {
                          "colorbar": {
                            "outlinewidth": 0,
                            "ticks": ""
                          }
                        },
                        "type": "scatterpolar"
                      }
                    ],
                    "scatterpolargl": [
                      {
                        "marker": {
                          "colorbar": {
                            "outlinewidth": 0,
                            "ticks": ""
                          }
                        },
                        "type": "scatterpolargl"
                      }
                    ],
                    "scatterternary": [
                      {
                        "marker": {
                          "colorbar": {
                            "outlinewidth": 0,
                            "ticks": ""
                          }
                        },
                        "type": "scatterternary"
                      }
                    ],
                    "surface": [
                      {
                        "colorbar": {
                          "outlinewidth": 0,
                          "ticks": ""
                        },
                        "colorscale": [
                          [
                            0,
                            "#0d0887"
                          ],
                          [
                            0.1111111111111111,
                            "#46039f"
                          ],
                          [
                            0.2222222222222222,
                            "#7201a8"
                          ],
                          [
                            0.3333333333333333,
                            "#9c179e"
                          ],
                          [
                            0.4444444444444444,
                            "#bd3786"
                          ],
                          [
                            0.5555555555555556,
                            "#d8576b"
                          ],
                          [
                            0.6666666666666666,
                            "#ed7953"
                          ],
                          [
                            0.7777777777777778,
                            "#fb9f3a"
                          ],
                          [
                            0.8888888888888888,
                            "#fdca26"
                          ],
                          [
                            1,
                            "#f0f921"
                          ]
                        ],
                        "type": "surface"
                      }
                    ],
                    "table": [
                      {
                        "cells": {
                          "fill": {
                            "color": "#EBF0F8"
                          },
                          "line": {
                            "color": "white"
                          }
                        },
                        "header": {
                          "fill": {
                            "color": "#C8D4E3"
                          },
                          "line": {
                            "color": "white"
                          }
                        },
                        "type": "table"
                      }
                    ]
                  },
                  "layout": {
                    "annotationdefaults": {
                      "arrowcolor": "#2a3f5f",
                      "arrowhead": 0,
                      "arrowwidth": 1
                    },
                    "autotypenumbers": "strict",
                    "coloraxis": {
                      "colorbar": {
                        "outlinewidth": 0,
                        "ticks": ""
                      }
                    },
                    "colorscale": {
                      "diverging": [
                        [
                          0,
                          "#8e0152"
                        ],
                        [
                          0.1,
                          "#c51b7d"
                        ],
                        [
                          0.2,
                          "#de77ae"
                        ],
                        [
                          0.3,
                          "#f1b6da"
                        ],
                        [
                          0.4,
                          "#fde0ef"
                        ],
                        [
                          0.5,
                          "#f7f7f7"
                        ],
                        [
                          0.6,
                          "#e6f5d0"
                        ],
                        [
                          0.7,
                          "#b8e186"
                        ],
                        [
                          0.8,
                          "#7fbc41"
                        ],
                        [
                          0.9,
                          "#4d9221"
                        ],
                        [
                          1,
                          "#276419"
                        ]
                      ],
                      "sequential": [
                        [
                          0,
                          "#0d0887"
                        ],
                        [
                          0.1111111111111111,
                          "#46039f"
                        ],
                        [
                          0.2222222222222222,
                          "#7201a8"
                        ],
                        [
                          0.3333333333333333,
                          "#9c179e"
                        ],
                        [
                          0.4444444444444444,
                          "#bd3786"
                        ],
                        [
                          0.5555555555555556,
                          "#d8576b"
                        ],
                        [
                          0.6666666666666666,
                          "#ed7953"
                        ],
                        [
                          0.7777777777777778,
                          "#fb9f3a"
                        ],
                        [
                          0.8888888888888888,
                          "#fdca26"
                        ],
                        [
                          1,
                          "#f0f921"
                        ]
                      ],
                      "sequentialminus": [
                        [
                          0,
                          "#0d0887"
                        ],
                        [
                          0.1111111111111111,
                          "#46039f"
                        ],
                        [
                          0.2222222222222222,
                          "#7201a8"
                        ],
                        [
                          0.3333333333333333,
                          "#9c179e"
                        ],
                        [
                          0.4444444444444444,
                          "#bd3786"
                        ],
                        [
                          0.5555555555555556,
                          "#d8576b"
                        ],
                        [
                          0.6666666666666666,
                          "#ed7953"
                        ],
                        [
                          0.7777777777777778,
                          "#fb9f3a"
                        ],
                        [
                          0.8888888888888888,
                          "#fdca26"
                        ],
                        [
                          1,
                          "#f0f921"
                        ]
                      ]
                    },
                    "colorway": [
                      "#636efa",
                      "#EF553B",
                      "#00cc96",
                      "#ab63fa",
                      "#FFA15A",
                      "#19d3f3",
                      "#FF6692",
                      "#B6E880",
                      "#FF97FF",
                      "#FECB52"
                    ],
                    "font": {
                      "color": "#2a3f5f"
                    },
                    "geo": {
                      "bgcolor": "white",
                      "lakecolor": "white",
                      "landcolor": "#E5ECF6",
                      "showlakes": true,
                      "showland": true,
                      "subunitcolor": "white"
                    },
                    "hoverlabel": {
                      "align": "left"
                    },
                    "hovermode": "closest",
                    "mapbox": {
                      "style": "light"
                    },
                    "paper_bgcolor": "white",
                    "plot_bgcolor": "#E5ECF6",
                    "polar": {
                      "angularaxis": {
                        "gridcolor": "white",
                        "linecolor": "white",
                        "ticks": ""
                      },
                      "bgcolor": "#E5ECF6",
                      "radialaxis": {
                        "gridcolor": "white",
                        "linecolor": "white",
                        "ticks": ""
                      }
                    },
                    "scene": {
                      "xaxis": {
                        "backgroundcolor": "#E5ECF6",
                        "gridcolor": "white",
                        "gridwidth": 2,
                        "linecolor": "white",
                        "showbackground": true,
                        "ticks": "",
                        "zerolinecolor": "white"
                      },
                      "yaxis": {
                        "backgroundcolor": "#E5ECF6",
                        "gridcolor": "white",
                        "gridwidth": 2,
                        "linecolor": "white",
                        "showbackground": true,
                        "ticks": "",
                        "zerolinecolor": "white"
                      },
                      "zaxis": {
                        "backgroundcolor": "#E5ECF6",
                        "gridcolor": "white",
                        "gridwidth": 2,
                        "linecolor": "white",
                        "showbackground": true,
                        "ticks": "",
                        "zerolinecolor": "white"
                      }
                    },
                    "shapedefaults": {
                      "line": {
                        "color": "#2a3f5f"
                      }
                    },
                    "ternary": {
                      "aaxis": {
                        "gridcolor": "white",
                        "linecolor": "white",
                        "ticks": ""
                      },
                      "baxis": {
                        "gridcolor": "white",
                        "linecolor": "white",
                        "ticks": ""
                      },
                      "bgcolor": "#E5ECF6",
                      "caxis": {
                        "gridcolor": "white",
                        "linecolor": "white",
                        "ticks": ""
                      }
                    },
                    "title": {
                      "x": 0.05
                    },
                    "xaxis": {
                      "automargin": true,
                      "gridcolor": "white",
                      "linecolor": "white",
                      "ticks": "",
                      "title": {
                        "standoff": 15
                      },
                      "zerolinecolor": "white",
                      "zerolinewidth": 2
                    },
                    "yaxis": {
                      "automargin": true,
                      "gridcolor": "white",
                      "linecolor": "white",
                      "ticks": "",
                      "title": {
                        "standoff": 15
                      },
                      "zerolinecolor": "white",
                      "zerolinewidth": 2
                    }
                  }
                }
              }
            }
          },
          "metadata": {},
          "output_type": "display_data"
        }
      ],
      "source": [
        "# Filter the data for the year 2018\n",
        "df_eng_final_2018 = df_eng_final[df_eng_final['Year'] == 2018]\n",
        "\n",
        "# Create the sunburst chart\n",
        "fig = px.sunburst(data_frame=df_eng_final_2018, path=['Continent', 'Country'], values='Value (USD)',\n",
        "                  color='Value (USD)', hover_name='ISO3')\n",
        "fig.show()"
      ]
    },
    {
      "cell_type": "code",
      "execution_count": 11,
      "metadata": {},
      "outputs": [
        {
          "data": {
            "text/plain": [
              "array(['Australia', 'Austria', 'Belgium', 'Brazil', 'Brunei Darussalam',\n",
              "       'Bulgaria', 'Cambodia', 'Canada', 'Chile', 'China',\n",
              "       'Chinese Taipei', 'Colombia', 'Costa Rica', 'Croatia', 'Cyprus',\n",
              "       'Czech Republic', 'Denmark', 'Estonia', 'Finland', 'France',\n",
              "       'Germany', 'Greece', 'Hong Kong', 'Hungary', 'Iceland', 'India',\n",
              "       'Indonesia', 'Ireland', 'Italy', 'Japan', 'Kazakhstan', 'Korea',\n",
              "       'Laos', 'Malaysia', 'Malta', 'Mexico', 'Morocco', 'Myanmar',\n",
              "       'Netherlands', 'New Zealand', 'North Macedonia', 'Norway', 'Peru',\n",
              "       'Philippines', 'Poland', 'Portugal', 'Romania',\n",
              "       'Russian Federation', 'Saudi Arabia', 'Serbia', 'Singapore',\n",
              "       'Slovenia', 'South Africa', 'Spain', 'Sweden', 'Thailand',\n",
              "       'Tunisia', 'United States', 'Viet Nam'], dtype=object)"
            ]
          },
          "execution_count": 11,
          "metadata": {},
          "output_type": "execute_result"
        }
      ],
      "source": [
        "df_eng_final_2018['Country'].unique()"
      ]
    },
    {
      "cell_type": "markdown",
      "metadata": {},
      "source": [
        "The sunburst chart above provides a hierarchical visualization of the distribution of industries globally for the year 2018. The chart is structured with continents at the innermost level, followed by countries. The size of each segment represents the value in USD, with larger segments indicating higher values.\n",
        "\n",
        "Key observations from the chart:\n",
        "1. **China**: Dominates the chart with the highest values across multiple industries, particularly in the manufacture of fabricated metal products, machinery, and equipment.\n",
        "2. **United States**: Also shows significant values, especially in the manufacture of fabricated metal products, machinery, and equipment, as well as the manufacture of transport equipment.\n",
        "3. **Other Countries**: Countries like Japan, India, and South Korea also contribute significantly but are overshadowed by the top two countries. Germany also shows a very healthy contribution and is by far the biggset contributer in Europe.\n",
        "\n",
        "The chart highlights the concentration of industrial value in a few key countries, with China leading by a substantial margin. This concentration suggests that these countries play a crucial role in the global industrial landscape, particularly in the manufacturing sectors."
      ]
    },
    {
      "cell_type": "code",
      "execution_count": 15,
      "metadata": {},
      "outputs": [
        {
          "data": {
            "application/vnd.plotly.v1+json": {
              "config": {
                "plotlyServerURL": "https://plot.ly"
              },
              "data": [
                {
                  "alignmentgroup": "True",
                  "hovertemplate": "ISO3=AUS<br>Ind Code=%{x}<br>Value (USD)=%{y}<extra></extra>",
                  "legendgroup": "AUS",
                  "marker": {
                    "color": "#636efa",
                    "pattern": {
                      "shape": ""
                    }
                  },
                  "name": "AUS",
                  "offsetgroup": "AUS",
                  "orientation": "v",
                  "showlegend": true,
                  "textposition": "auto",
                  "type": "bar",
                  "x": [
                    "A",
                    "B",
                    "C",
                    "D",
                    "E",
                    "F",
                    "G",
                    "H",
                    "I",
                    "J",
                    "K"
                  ],
                  "xaxis": "x",
                  "y": [
                    19227.4,
                    1738.5,
                    3526.9,
                    3805.5,
                    4366.4,
                    7094.3,
                    3405.9,
                    4880.1,
                    5153.2,
                    17233.7,
                    6059.5
                  ],
                  "yaxis": "y"
                },
                {
                  "alignmentgroup": "True",
                  "hovertemplate": "ISO3=AUT<br>Ind Code=%{x}<br>Value (USD)=%{y}<extra></extra>",
                  "legendgroup": "AUT",
                  "marker": {
                    "color": "#EF553B",
                    "pattern": {
                      "shape": ""
                    }
                  },
                  "name": "AUT",
                  "offsetgroup": "AUT",
                  "orientation": "v",
                  "showlegend": true,
                  "textposition": "auto",
                  "type": "bar",
                  "x": [
                    "A",
                    "B",
                    "C",
                    "D",
                    "E",
                    "F",
                    "G",
                    "H",
                    "I",
                    "J",
                    "K",
                    "L"
                  ],
                  "xaxis": "x",
                  "y": [
                    7380.53,
                    1185.98,
                    3188.35,
                    3794.2,
                    1100.67,
                    6564.1,
                    2990.23,
                    3125.61,
                    5315.6,
                    29632.68,
                    6915.03,
                    3334.46
                  ],
                  "yaxis": "y"
                },
                {
                  "alignmentgroup": "True",
                  "hovertemplate": "ISO3=BEL<br>Ind Code=%{x}<br>Value (USD)=%{y}<extra></extra>",
                  "legendgroup": "BEL",
                  "marker": {
                    "color": "#00cc96",
                    "pattern": {
                      "shape": ""
                    }
                  },
                  "name": "BEL",
                  "offsetgroup": "BEL",
                  "orientation": "v",
                  "showlegend": true,
                  "textposition": "auto",
                  "type": "bar",
                  "x": [
                    "A",
                    "B",
                    "C",
                    "D",
                    "E",
                    "F",
                    "G",
                    "H",
                    "I",
                    "J",
                    "K",
                    "L"
                  ],
                  "xaxis": "x",
                  "y": [
                    10051.1,
                    1629.13,
                    1118.25,
                    2613.6,
                    1534.53,
                    23640.6,
                    2661.4,
                    3113.94,
                    3692.96,
                    11767.86,
                    3886.64,
                    1584.96
                  ],
                  "yaxis": "y"
                },
                {
                  "alignmentgroup": "True",
                  "hovertemplate": "ISO3=BGR<br>Ind Code=%{x}<br>Value (USD)=%{y}<extra></extra>",
                  "legendgroup": "BGR",
                  "marker": {
                    "color": "#ab63fa",
                    "pattern": {
                      "shape": ""
                    }
                  },
                  "name": "BGR",
                  "offsetgroup": "BGR",
                  "orientation": "v",
                  "showlegend": true,
                  "textposition": "auto",
                  "type": "bar",
                  "x": [
                    "A",
                    "B",
                    "C",
                    "D",
                    "E",
                    "F",
                    "G",
                    "H",
                    "I",
                    "J",
                    "K",
                    "L"
                  ],
                  "xaxis": "x",
                  "y": [
                    1459.75,
                    867.65,
                    155.36,
                    401.3,
                    133.43,
                    787.7,
                    485.71,
                    517.27,
                    510.32,
                    2452.51,
                    402.19,
                    546.7
                  ],
                  "yaxis": "y"
                },
                {
                  "alignmentgroup": "True",
                  "hovertemplate": "ISO3=BRA<br>Ind Code=%{x}<br>Value (USD)=%{y}<extra></extra>",
                  "legendgroup": "BRA",
                  "marker": {
                    "color": "#FFA15A",
                    "pattern": {
                      "shape": ""
                    }
                  },
                  "name": "BRA",
                  "offsetgroup": "BRA",
                  "orientation": "v",
                  "showlegend": true,
                  "textposition": "auto",
                  "type": "bar",
                  "x": [
                    "A",
                    "B",
                    "C",
                    "D",
                    "E",
                    "F",
                    "G",
                    "H",
                    "I",
                    "J",
                    "K"
                  ],
                  "xaxis": "x",
                  "y": [
                    48565,
                    18578.4,
                    3529.5,
                    12966.6,
                    28034.9,
                    30456.5,
                    10043.3,
                    7876.3,
                    11298.9,
                    35121.3,
                    24886.2
                  ],
                  "yaxis": "y"
                },
                {
                  "alignmentgroup": "True",
                  "hovertemplate": "ISO3=BRN<br>Ind Code=%{x}<br>Value (USD)=%{y}<extra></extra>",
                  "legendgroup": "BRN",
                  "marker": {
                    "color": "#19d3f3",
                    "pattern": {
                      "shape": ""
                    }
                  },
                  "name": "BRN",
                  "offsetgroup": "BRN",
                  "orientation": "v",
                  "showlegend": true,
                  "textposition": "auto",
                  "type": "bar",
                  "x": [
                    "A",
                    "B",
                    "C",
                    "D",
                    "E",
                    "F",
                    "G",
                    "H",
                    "I",
                    "J",
                    "K"
                  ],
                  "xaxis": "x",
                  "y": [
                    16.8,
                    47.5,
                    2.4,
                    6.9,
                    1247.2,
                    37.6,
                    6.9,
                    13.7,
                    3.9,
                    33.3,
                    74.8
                  ],
                  "yaxis": "y"
                },
                {
                  "alignmentgroup": "True",
                  "hovertemplate": "ISO3=CAN<br>Ind Code=%{x}<br>Value (USD)=%{y}<extra></extra>",
                  "legendgroup": "CAN",
                  "marker": {
                    "color": "#FF6692",
                    "pattern": {
                      "shape": ""
                    }
                  },
                  "name": "CAN",
                  "offsetgroup": "CAN",
                  "orientation": "v",
                  "showlegend": true,
                  "textposition": "auto",
                  "type": "bar",
                  "x": [
                    "A",
                    "B",
                    "C",
                    "D",
                    "E",
                    "F",
                    "G",
                    "H",
                    "I",
                    "J",
                    "K",
                    "L"
                  ],
                  "xaxis": "x",
                  "y": [
                    26543.08,
                    2099.06,
                    9154.06,
                    11191,
                    12167.6,
                    17601.1,
                    8473.41,
                    6481.62,
                    9901.08,
                    34478.61,
                    23817.39,
                    8180.16
                  ],
                  "yaxis": "y"
                },
                {
                  "alignmentgroup": "True",
                  "hovertemplate": "ISO3=CHL<br>Ind Code=%{x}<br>Value (USD)=%{y}<extra></extra>",
                  "legendgroup": "CHL",
                  "marker": {
                    "color": "#B6E880",
                    "pattern": {
                      "shape": ""
                    }
                  },
                  "name": "CHL",
                  "offsetgroup": "CHL",
                  "orientation": "v",
                  "showlegend": true,
                  "textposition": "auto",
                  "type": "bar",
                  "x": [
                    "A",
                    "B",
                    "C",
                    "D",
                    "E",
                    "F",
                    "G",
                    "H",
                    "I",
                    "J",
                    "K"
                  ],
                  "xaxis": "x",
                  "y": [
                    11018.43,
                    453.79,
                    1449.4,
                    3598.8,
                    819.02,
                    2773.2,
                    4508.9,
                    1058.26,
                    14588.5,
                    8075.27,
                    1082.4
                  ],
                  "yaxis": "y"
                },
                {
                  "alignmentgroup": "True",
                  "hovertemplate": "ISO3=CHN<br>Ind Code=%{x}<br>Value (USD)=%{y}<extra></extra>",
                  "legendgroup": "CHN",
                  "marker": {
                    "color": "#FF97FF",
                    "pattern": {
                      "shape": ""
                    }
                  },
                  "name": "CHN",
                  "offsetgroup": "CHN",
                  "orientation": "v",
                  "showlegend": true,
                  "textposition": "auto",
                  "type": "bar",
                  "x": [
                    "A",
                    "B",
                    "C",
                    "D",
                    "E",
                    "F",
                    "G",
                    "H",
                    "I",
                    "J",
                    "K"
                  ],
                  "xaxis": "x",
                  "y": [
                    410643.69,
                    241887.41,
                    54181.1,
                    124635.2,
                    175172.09,
                    481399.69,
                    119899.5,
                    361271.19,
                    469966.91,
                    1042085.5,
                    361992.31
                  ],
                  "yaxis": "y"
                },
                {
                  "alignmentgroup": "True",
                  "hovertemplate": "ISO3=COL<br>Ind Code=%{x}<br>Value (USD)=%{y}<extra></extra>",
                  "legendgroup": "COL",
                  "marker": {
                    "color": "#FECB52",
                    "pattern": {
                      "shape": ""
                    }
                  },
                  "name": "COL",
                  "offsetgroup": "COL",
                  "orientation": "v",
                  "showlegend": true,
                  "textposition": "auto",
                  "type": "bar",
                  "x": [
                    "A",
                    "B",
                    "C",
                    "D",
                    "E",
                    "F",
                    "G",
                    "H",
                    "I",
                    "J",
                    "K",
                    "L"
                  ],
                  "xaxis": "x",
                  "y": [
                    10591.39,
                    3522.68,
                    350.51,
                    1867.8,
                    4395.23,
                    5100.7,
                    1002.47,
                    4032.2,
                    1363.3,
                    3607.15,
                    838.04,
                    1944.37
                  ],
                  "yaxis": "y"
                },
                {
                  "alignmentgroup": "True",
                  "hovertemplate": "ISO3=CRI<br>Ind Code=%{x}<br>Value (USD)=%{y}<extra></extra>",
                  "legendgroup": "CRI",
                  "marker": {
                    "color": "#636efa",
                    "pattern": {
                      "shape": ""
                    }
                  },
                  "name": "CRI",
                  "offsetgroup": "CRI",
                  "orientation": "v",
                  "showlegend": true,
                  "textposition": "auto",
                  "type": "bar",
                  "x": [
                    "A",
                    "B",
                    "C",
                    "D",
                    "E",
                    "F",
                    "G",
                    "H",
                    "I",
                    "J",
                    "K"
                  ],
                  "xaxis": "x",
                  "y": [
                    2920,
                    188.2,
                    90.4,
                    326.7,
                    221.2,
                    549.9,
                    123.7,
                    373,
                    104.6,
                    481.4,
                    25.1
                  ],
                  "yaxis": "y"
                },
                {
                  "alignmentgroup": "True",
                  "hovertemplate": "ISO3=CYP<br>Ind Code=%{x}<br>Value (USD)=%{y}<extra></extra>",
                  "legendgroup": "CYP",
                  "marker": {
                    "color": "#EF553B",
                    "pattern": {
                      "shape": ""
                    }
                  },
                  "name": "CYP",
                  "offsetgroup": "CYP",
                  "orientation": "v",
                  "showlegend": true,
                  "textposition": "auto",
                  "type": "bar",
                  "x": [
                    "A",
                    "B",
                    "C",
                    "D",
                    "E",
                    "F",
                    "G",
                    "H",
                    "I",
                    "J",
                    "K",
                    "L"
                  ],
                  "xaxis": "x",
                  "y": [
                    427.82,
                    20.77,
                    64.79,
                    49.9,
                    2.83,
                    184.3,
                    34.82,
                    145.16,
                    26.91,
                    212.08,
                    7.55,
                    46.62
                  ],
                  "yaxis": "y"
                },
                {
                  "alignmentgroup": "True",
                  "hovertemplate": "ISO3=CZE<br>Ind Code=%{x}<br>Value (USD)=%{y}<extra></extra>",
                  "legendgroup": "CZE",
                  "marker": {
                    "color": "#00cc96",
                    "pattern": {
                      "shape": ""
                    }
                  },
                  "name": "CZE",
                  "offsetgroup": "CZE",
                  "orientation": "v",
                  "showlegend": true,
                  "textposition": "auto",
                  "type": "bar",
                  "x": [
                    "A",
                    "B",
                    "C",
                    "D",
                    "E",
                    "F",
                    "G",
                    "H",
                    "I",
                    "J",
                    "K",
                    "L"
                  ],
                  "xaxis": "x",
                  "y": [
                    4662.47,
                    1231.76,
                    1444.64,
                    1649.9,
                    47.45,
                    3130.3,
                    4014.93,
                    2559.97,
                    1777.37,
                    19209.83,
                    12750.07,
                    2030.89
                  ],
                  "yaxis": "y"
                },
                {
                  "alignmentgroup": "True",
                  "hovertemplate": "ISO3=DEU<br>Ind Code=%{x}<br>Value (USD)=%{y}<extra></extra>",
                  "legendgroup": "DEU",
                  "marker": {
                    "color": "#ab63fa",
                    "pattern": {
                      "shape": ""
                    }
                  },
                  "name": "DEU",
                  "offsetgroup": "DEU",
                  "orientation": "v",
                  "showlegend": true,
                  "textposition": "auto",
                  "type": "bar",
                  "x": [
                    "A",
                    "B",
                    "C",
                    "D",
                    "E",
                    "F",
                    "G",
                    "H",
                    "I",
                    "J",
                    "K",
                    "L"
                  ],
                  "xaxis": "x",
                  "y": [
                    55520.19,
                    8917.38,
                    8204.09,
                    23353.9,
                    5850.45,
                    93575.2,
                    35853.76,
                    21809.86,
                    27220.99,
                    299434.44,
                    180644.64,
                    30041.11
                  ],
                  "yaxis": "y"
                },
                {
                  "alignmentgroup": "True",
                  "hovertemplate": "ISO3=DNK<br>Ind Code=%{x}<br>Value (USD)=%{y}<extra></extra>",
                  "legendgroup": "DNK",
                  "marker": {
                    "color": "#FFA15A",
                    "pattern": {
                      "shape": ""
                    }
                  },
                  "name": "DNK",
                  "offsetgroup": "DNK",
                  "orientation": "v",
                  "showlegend": true,
                  "textposition": "auto",
                  "type": "bar",
                  "x": [
                    "A",
                    "B",
                    "C",
                    "D",
                    "E",
                    "F",
                    "G",
                    "H",
                    "I",
                    "J",
                    "K",
                    "L"
                  ],
                  "xaxis": "x",
                  "y": [
                    4803.14,
                    569.16,
                    684.76,
                    947.1,
                    273.81,
                    15196.8,
                    1320.74,
                    1672.31,
                    458.62,
                    14736.76,
                    669.24,
                    3018.55
                  ],
                  "yaxis": "y"
                },
                {
                  "alignmentgroup": "True",
                  "hovertemplate": "ISO3=ESP<br>Ind Code=%{x}<br>Value (USD)=%{y}<extra></extra>",
                  "legendgroup": "ESP",
                  "marker": {
                    "color": "#19d3f3",
                    "pattern": {
                      "shape": ""
                    }
                  },
                  "name": "ESP",
                  "offsetgroup": "ESP",
                  "orientation": "v",
                  "showlegend": true,
                  "textposition": "auto",
                  "type": "bar",
                  "x": [
                    "A",
                    "B",
                    "C",
                    "D",
                    "E",
                    "F",
                    "G",
                    "H",
                    "I",
                    "J",
                    "K",
                    "L"
                  ],
                  "xaxis": "x",
                  "y": [
                    28828.27,
                    10692.36,
                    2365.45,
                    7970.3,
                    3796.77,
                    21177.8,
                    7556.92,
                    6902.68,
                    7825,
                    30689.45,
                    20252.18,
                    5228.08
                  ],
                  "yaxis": "y"
                },
                {
                  "alignmentgroup": "True",
                  "hovertemplate": "ISO3=EST<br>Ind Code=%{x}<br>Value (USD)=%{y}<extra></extra>",
                  "legendgroup": "EST",
                  "marker": {
                    "color": "#FF6692",
                    "pattern": {
                      "shape": ""
                    }
                  },
                  "name": "EST",
                  "offsetgroup": "EST",
                  "orientation": "v",
                  "showlegend": true,
                  "textposition": "auto",
                  "type": "bar",
                  "x": [
                    "A",
                    "B",
                    "C",
                    "D",
                    "E",
                    "F",
                    "G",
                    "H",
                    "I",
                    "J",
                    "K",
                    "L"
                  ],
                  "xaxis": "x",
                  "y": [
                    507.21,
                    222.59,
                    669.08,
                    203.2,
                    98.72,
                    191.8,
                    158.2,
                    215.35,
                    37.5,
                    1172.23,
                    158.22,
                    283.46
                  ],
                  "yaxis": "y"
                },
                {
                  "alignmentgroup": "True",
                  "hovertemplate": "ISO3=FIN<br>Ind Code=%{x}<br>Value (USD)=%{y}<extra></extra>",
                  "legendgroup": "FIN",
                  "marker": {
                    "color": "#B6E880",
                    "pattern": {
                      "shape": ""
                    }
                  },
                  "name": "FIN",
                  "offsetgroup": "FIN",
                  "orientation": "v",
                  "showlegend": true,
                  "textposition": "auto",
                  "type": "bar",
                  "x": [
                    "A",
                    "B",
                    "C",
                    "D",
                    "E",
                    "F",
                    "G",
                    "H",
                    "I",
                    "J",
                    "K",
                    "L"
                  ],
                  "xaxis": "x",
                  "y": [
                    3232.27,
                    481.83,
                    1624.99,
                    5422.5,
                    845.56,
                    5169.3,
                    1267.16,
                    1393.53,
                    2038.33,
                    15835.42,
                    1391.16,
                    790.06
                  ],
                  "yaxis": "y"
                },
                {
                  "alignmentgroup": "True",
                  "hovertemplate": "ISO3=FRA<br>Ind Code=%{x}<br>Value (USD)=%{y}<extra></extra>",
                  "legendgroup": "FRA",
                  "marker": {
                    "color": "#FF97FF",
                    "pattern": {
                      "shape": ""
                    }
                  },
                  "name": "FRA",
                  "offsetgroup": "FRA",
                  "orientation": "v",
                  "showlegend": true,
                  "textposition": "auto",
                  "type": "bar",
                  "x": [
                    "A",
                    "B",
                    "C",
                    "D",
                    "E",
                    "F",
                    "G",
                    "H",
                    "I",
                    "J",
                    "K",
                    "L"
                  ],
                  "xaxis": "x",
                  "y": [
                    52770.93,
                    6561.38,
                    3610.18,
                    11498.5,
                    2345.37,
                    44608.4,
                    13487.68,
                    9516.13,
                    7038.49,
                    60261.73,
                    38551.06,
                    8393.04
                  ],
                  "yaxis": "y"
                },
                {
                  "alignmentgroup": "True",
                  "hovertemplate": "ISO3=GRC<br>Ind Code=%{x}<br>Value (USD)=%{y}<extra></extra>",
                  "legendgroup": "GRC",
                  "marker": {
                    "color": "#FECB52",
                    "pattern": {
                      "shape": ""
                    }
                  },
                  "name": "GRC",
                  "offsetgroup": "GRC",
                  "orientation": "v",
                  "showlegend": true,
                  "textposition": "auto",
                  "type": "bar",
                  "x": [
                    "A",
                    "B",
                    "C",
                    "D",
                    "E",
                    "F",
                    "G",
                    "H",
                    "I",
                    "J",
                    "K",
                    "L"
                  ],
                  "xaxis": "x",
                  "y": [
                    6068.51,
                    612.87,
                    113.32,
                    849.9,
                    1141.85,
                    2321.5,
                    678.41,
                    950.14,
                    1441.29,
                    2303.4,
                    527.73,
                    377.1
                  ],
                  "yaxis": "y"
                },
                {
                  "alignmentgroup": "True",
                  "hovertemplate": "ISO3=HKG<br>Ind Code=%{x}<br>Value (USD)=%{y}<extra></extra>",
                  "legendgroup": "HKG",
                  "marker": {
                    "color": "#636efa",
                    "pattern": {
                      "shape": ""
                    }
                  },
                  "name": "HKG",
                  "offsetgroup": "HKG",
                  "orientation": "v",
                  "showlegend": true,
                  "textposition": "auto",
                  "type": "bar",
                  "x": [
                    "A",
                    "B",
                    "C",
                    "D",
                    "E",
                    "F",
                    "H",
                    "I",
                    "J",
                    "K"
                  ],
                  "xaxis": "x",
                  "y": [
                    2646.4,
                    291.7,
                    222,
                    178.7,
                    50.8,
                    96.2,
                    69.1,
                    382.3,
                    334.7,
                    112.7
                  ],
                  "yaxis": "y"
                },
                {
                  "alignmentgroup": "True",
                  "hovertemplate": "ISO3=HRV<br>Ind Code=%{x}<br>Value (USD)=%{y}<extra></extra>",
                  "legendgroup": "HRV",
                  "marker": {
                    "color": "#EF553B",
                    "pattern": {
                      "shape": ""
                    }
                  },
                  "name": "HRV",
                  "offsetgroup": "HRV",
                  "orientation": "v",
                  "showlegend": true,
                  "textposition": "auto",
                  "type": "bar",
                  "x": [
                    "A",
                    "B",
                    "C",
                    "D",
                    "E",
                    "F",
                    "G",
                    "H",
                    "I",
                    "J",
                    "K",
                    "L"
                  ],
                  "xaxis": "x",
                  "y": [
                    1832.28,
                    409.18,
                    332.35,
                    408.4,
                    628.8,
                    666.8,
                    303.28,
                    442.06,
                    82.37,
                    1891.42,
                    151.5,
                    312.88
                  ],
                  "yaxis": "y"
                },
                {
                  "alignmentgroup": "True",
                  "hovertemplate": "ISO3=HUN<br>Ind Code=%{x}<br>Value (USD)=%{y}<extra></extra>",
                  "legendgroup": "HUN",
                  "marker": {
                    "color": "#00cc96",
                    "pattern": {
                      "shape": ""
                    }
                  },
                  "name": "HUN",
                  "offsetgroup": "HUN",
                  "orientation": "v",
                  "showlegend": true,
                  "textposition": "auto",
                  "type": "bar",
                  "x": [
                    "A",
                    "B",
                    "C",
                    "D",
                    "E",
                    "F",
                    "G",
                    "H",
                    "I",
                    "J",
                    "K",
                    "L"
                  ],
                  "xaxis": "x",
                  "y": [
                    2913.71,
                    613.58,
                    353.13,
                    1016.1,
                    1050.25,
                    4085.7,
                    2062.87,
                    1034.39,
                    932.79,
                    8332.25,
                    6154.87,
                    943.42
                  ],
                  "yaxis": "y"
                },
                {
                  "alignmentgroup": "True",
                  "hovertemplate": "ISO3=IDN<br>Ind Code=%{x}<br>Value (USD)=%{y}<extra></extra>",
                  "legendgroup": "IDN",
                  "marker": {
                    "color": "#ab63fa",
                    "pattern": {
                      "shape": ""
                    }
                  },
                  "name": "IDN",
                  "offsetgroup": "IDN",
                  "orientation": "v",
                  "showlegend": true,
                  "textposition": "auto",
                  "type": "bar",
                  "x": [
                    "A",
                    "B",
                    "C",
                    "D",
                    "E",
                    "F",
                    "G",
                    "H",
                    "I",
                    "J",
                    "K"
                  ],
                  "xaxis": "x",
                  "y": [
                    56693.2,
                    21869.9,
                    5118.5,
                    9408.2,
                    21397.3,
                    15372.4,
                    5991.2,
                    6034.4,
                    8092.5,
                    32757.5,
                    24612.9
                  ],
                  "yaxis": "y"
                },
                {
                  "alignmentgroup": "True",
                  "hovertemplate": "ISO3=IND<br>Ind Code=%{x}<br>Value (USD)=%{y}<extra></extra>",
                  "legendgroup": "IND",
                  "marker": {
                    "color": "#FFA15A",
                    "pattern": {
                      "shape": ""
                    }
                  },
                  "name": "IND",
                  "offsetgroup": "IND",
                  "orientation": "v",
                  "showlegend": true,
                  "textposition": "auto",
                  "type": "bar",
                  "x": [
                    "A",
                    "B",
                    "C",
                    "D",
                    "E",
                    "F",
                    "G",
                    "H",
                    "I",
                    "J",
                    "K"
                  ],
                  "xaxis": "x",
                  "y": [
                    47080.3,
                    58616.4,
                    7389.4,
                    11658.9,
                    37750.2,
                    69278.4,
                    18059.8,
                    29926.1,
                    44783.8,
                    81611.1,
                    55749.3
                  ],
                  "yaxis": "y"
                },
                {
                  "alignmentgroup": "True",
                  "hovertemplate": "ISO3=IRL<br>Ind Code=%{x}<br>Value (USD)=%{y}<extra></extra>",
                  "legendgroup": "IRL",
                  "marker": {
                    "color": "#19d3f3",
                    "pattern": {
                      "shape": ""
                    }
                  },
                  "name": "IRL",
                  "offsetgroup": "IRL",
                  "orientation": "v",
                  "showlegend": true,
                  "textposition": "auto",
                  "type": "bar",
                  "x": [
                    "A",
                    "B",
                    "C",
                    "D",
                    "E",
                    "F",
                    "G",
                    "H",
                    "I",
                    "J",
                    "K",
                    "L"
                  ],
                  "xaxis": "x",
                  "y": [
                    10351.06,
                    171.8,
                    357.96,
                    643.5,
                    12446.6,
                    59396.9,
                    732.98,
                    1017.7,
                    352.16,
                    18218.55,
                    474.71,
                    5724.16
                  ],
                  "yaxis": "y"
                },
                {
                  "alignmentgroup": "True",
                  "hovertemplate": "ISO3=ISL<br>Ind Code=%{x}<br>Value (USD)=%{y}<extra></extra>",
                  "legendgroup": "ISL",
                  "marker": {
                    "color": "#FF6692",
                    "pattern": {
                      "shape": ""
                    }
                  },
                  "name": "ISL",
                  "offsetgroup": "ISL",
                  "orientation": "v",
                  "showlegend": true,
                  "textposition": "auto",
                  "type": "bar",
                  "x": [
                    "A",
                    "B",
                    "C",
                    "D",
                    "E",
                    "F",
                    "G",
                    "H",
                    "I",
                    "J",
                    "K",
                    "L"
                  ],
                  "xaxis": "x",
                  "y": [
                    1016.51,
                    28.05,
                    15.93,
                    56.9,
                    3.99,
                    43.8,
                    32.03,
                    121.06,
                    295.36,
                    401.25,
                    9.62,
                    169.33
                  ],
                  "yaxis": "y"
                },
                {
                  "alignmentgroup": "True",
                  "hovertemplate": "ISO3=ITA<br>Ind Code=%{x}<br>Value (USD)=%{y}<extra></extra>",
                  "legendgroup": "ITA",
                  "marker": {
                    "color": "#B6E880",
                    "pattern": {
                      "shape": ""
                    }
                  },
                  "name": "ITA",
                  "offsetgroup": "ITA",
                  "orientation": "v",
                  "showlegend": true,
                  "textposition": "auto",
                  "type": "bar",
                  "x": [
                    "A",
                    "B",
                    "C",
                    "D",
                    "E",
                    "F",
                    "G",
                    "H",
                    "I",
                    "J",
                    "K",
                    "L"
                  ],
                  "xaxis": "x",
                  "y": [
                    34843.69,
                    30514.44,
                    5768.84,
                    12849.9,
                    2151.82,
                    31761.6,
                    15986.57,
                    12222.99,
                    11179.62,
                    109081.53,
                    27281.81,
                    16950.71
                  ],
                  "yaxis": "y"
                },
                {
                  "alignmentgroup": "True",
                  "hovertemplate": "ISO3=JPN<br>Ind Code=%{x}<br>Value (USD)=%{y}<extra></extra>",
                  "legendgroup": "JPN",
                  "marker": {
                    "color": "#FF97FF",
                    "pattern": {
                      "shape": ""
                    }
                  },
                  "name": "JPN",
                  "offsetgroup": "JPN",
                  "orientation": "v",
                  "showlegend": true,
                  "textposition": "auto",
                  "type": "bar",
                  "x": [
                    "A",
                    "B",
                    "C",
                    "D",
                    "E",
                    "F",
                    "G",
                    "H",
                    "I",
                    "J",
                    "K",
                    "L"
                  ],
                  "xaxis": "x",
                  "y": [
                    121974.39,
                    14367,
                    8776.1,
                    44066.4,
                    51945.62,
                    103767.5,
                    51255.5,
                    28494.92,
                    89919.53,
                    363737.94,
                    137563.52,
                    102684.96
                  ],
                  "yaxis": "y"
                },
                {
                  "alignmentgroup": "True",
                  "hovertemplate": "ISO3=KAZ<br>Ind Code=%{x}<br>Value (USD)=%{y}<extra></extra>",
                  "legendgroup": "KAZ",
                  "marker": {
                    "color": "#FECB52",
                    "pattern": {
                      "shape": ""
                    }
                  },
                  "name": "KAZ",
                  "offsetgroup": "KAZ",
                  "orientation": "v",
                  "showlegend": true,
                  "textposition": "auto",
                  "type": "bar",
                  "x": [
                    "A",
                    "B",
                    "C",
                    "D",
                    "E",
                    "F",
                    "G",
                    "H",
                    "I",
                    "J",
                    "K"
                  ],
                  "xaxis": "x",
                  "y": [
                    4636.6,
                    225.1,
                    43.8,
                    215.2,
                    1897.4,
                    1182,
                    322.2,
                    1035.6,
                    7338.8,
                    948.7,
                    465.2
                  ],
                  "yaxis": "y"
                },
                {
                  "alignmentgroup": "True",
                  "hovertemplate": "ISO3=KHM<br>Ind Code=%{x}<br>Value (USD)=%{y}<extra></extra>",
                  "legendgroup": "KHM",
                  "marker": {
                    "color": "#636efa",
                    "pattern": {
                      "shape": ""
                    }
                  },
                  "name": "KHM",
                  "offsetgroup": "KHM",
                  "orientation": "v",
                  "showlegend": true,
                  "textposition": "auto",
                  "type": "bar",
                  "x": [
                    "A",
                    "B",
                    "C",
                    "D",
                    "E",
                    "F",
                    "G",
                    "H",
                    "I",
                    "J",
                    "K"
                  ],
                  "xaxis": "x",
                  "y": [
                    632.9,
                    4105.7,
                    548.9,
                    115.8,
                    93.1,
                    97.9,
                    103.3,
                    49.1,
                    30.2,
                    573.6,
                    292.7
                  ],
                  "yaxis": "y"
                },
                {
                  "alignmentgroup": "True",
                  "hovertemplate": "ISO3=KOR<br>Ind Code=%{x}<br>Value (USD)=%{y}<extra></extra>",
                  "legendgroup": "KOR",
                  "marker": {
                    "color": "#EF553B",
                    "pattern": {
                      "shape": ""
                    }
                  },
                  "name": "KOR",
                  "offsetgroup": "KOR",
                  "orientation": "v",
                  "showlegend": true,
                  "textposition": "auto",
                  "type": "bar",
                  "x": [
                    "A",
                    "B",
                    "C",
                    "D",
                    "E",
                    "F",
                    "G",
                    "H",
                    "I",
                    "J",
                    "K"
                  ],
                  "xaxis": "x",
                  "y": [
                    23360.3,
                    15516.8,
                    2132,
                    12022.2,
                    17223.5,
                    50103,
                    24456,
                    12435.1,
                    28117.2,
                    241659,
                    49990.4
                  ],
                  "yaxis": "y"
                },
                {
                  "alignmentgroup": "True",
                  "hovertemplate": "ISO3=LAO<br>Ind Code=%{x}<br>Value (USD)=%{y}<extra></extra>",
                  "legendgroup": "LAO",
                  "marker": {
                    "color": "#00cc96",
                    "pattern": {
                      "shape": ""
                    }
                  },
                  "name": "LAO",
                  "offsetgroup": "LAO",
                  "orientation": "v",
                  "showlegend": true,
                  "textposition": "auto",
                  "type": "bar",
                  "x": [
                    "A",
                    "B",
                    "C",
                    "D",
                    "E",
                    "F",
                    "G",
                    "H",
                    "I",
                    "J",
                    "K"
                  ],
                  "xaxis": "x",
                  "y": [
                    333.4,
                    247.6,
                    177.9,
                    4.2,
                    86.7,
                    61.5,
                    15.4,
                    166.4,
                    520.1,
                    76.3,
                    2.8
                  ],
                  "yaxis": "y"
                },
                {
                  "alignmentgroup": "True",
                  "hovertemplate": "ISO3=MAR<br>Ind Code=%{x}<br>Value (USD)=%{y}<extra></extra>",
                  "legendgroup": "MAR",
                  "marker": {
                    "color": "#ab63fa",
                    "pattern": {
                      "shape": ""
                    }
                  },
                  "name": "MAR",
                  "offsetgroup": "MAR",
                  "orientation": "v",
                  "showlegend": true,
                  "textposition": "auto",
                  "type": "bar",
                  "x": [
                    "A",
                    "B",
                    "C",
                    "D",
                    "E",
                    "F",
                    "G",
                    "H",
                    "I",
                    "J",
                    "K"
                  ],
                  "xaxis": "x",
                  "y": [
                    7306.3,
                    2322.8,
                    197.9,
                    434.1,
                    0.3,
                    3764.8,
                    115.8,
                    1426.7,
                    745.9,
                    2424.8,
                    1486.2
                  ],
                  "yaxis": "y"
                },
                {
                  "alignmentgroup": "True",
                  "hovertemplate": "ISO3=MEX<br>Ind Code=%{x}<br>Value (USD)=%{y}<extra></extra>",
                  "legendgroup": "MEX",
                  "marker": {
                    "color": "#FFA15A",
                    "pattern": {
                      "shape": ""
                    }
                  },
                  "name": "MEX",
                  "offsetgroup": "MEX",
                  "orientation": "v",
                  "showlegend": true,
                  "textposition": "auto",
                  "type": "bar",
                  "x": [
                    "A",
                    "B",
                    "C",
                    "D",
                    "E",
                    "F",
                    "G",
                    "H",
                    "I",
                    "J",
                    "K",
                    "L"
                  ],
                  "xaxis": "x",
                  "y": [
                    55272.27,
                    8377.79,
                    1697.65,
                    5194.5,
                    8138.73,
                    15034.6,
                    6715.81,
                    5644.73,
                    12934.82,
                    42988.72,
                    47392.04,
                    6150.63
                  ],
                  "yaxis": "y"
                },
                {
                  "alignmentgroup": "True",
                  "hovertemplate": "ISO3=MKD<br>Ind Code=%{x}<br>Value (USD)=%{y}<extra></extra>",
                  "legendgroup": "MKD",
                  "marker": {
                    "color": "#19d3f3",
                    "pattern": {
                      "shape": ""
                    }
                  },
                  "name": "MKD",
                  "offsetgroup": "MKD",
                  "orientation": "v",
                  "showlegend": true,
                  "textposition": "auto",
                  "type": "bar",
                  "x": [
                    "A",
                    "B",
                    "C",
                    "D",
                    "E",
                    "F",
                    "G",
                    "H",
                    "I",
                    "J",
                    "K",
                    "L"
                  ],
                  "xaxis": "x",
                  "y": [
                    370.35,
                    340.81,
                    19.4,
                    65.18,
                    0.49,
                    100.5,
                    58.27,
                    79.77,
                    64.36,
                    292.86,
                    239.12,
                    48.82
                  ],
                  "yaxis": "y"
                },
                {
                  "alignmentgroup": "True",
                  "hovertemplate": "ISO3=MLT<br>Ind Code=%{x}<br>Value (USD)=%{y}<extra></extra>",
                  "legendgroup": "MLT",
                  "marker": {
                    "color": "#FF6692",
                    "pattern": {
                      "shape": ""
                    }
                  },
                  "name": "MLT",
                  "offsetgroup": "MLT",
                  "orientation": "v",
                  "showlegend": true,
                  "textposition": "auto",
                  "type": "bar",
                  "x": [
                    "A",
                    "B",
                    "C",
                    "D",
                    "E",
                    "F",
                    "G",
                    "H",
                    "I",
                    "J",
                    "K",
                    "L"
                  ],
                  "xaxis": "x",
                  "y": [
                    178.47,
                    16.23,
                    10.9,
                    94.5,
                    0.1,
                    53.8,
                    86.2,
                    53.6,
                    0.98,
                    292.41,
                    82.54,
                    171.13
                  ],
                  "yaxis": "y"
                },
                {
                  "alignmentgroup": "True",
                  "hovertemplate": "ISO3=MMR<br>Ind Code=%{x}<br>Value (USD)=%{y}<extra></extra>",
                  "legendgroup": "MMR",
                  "marker": {
                    "color": "#B6E880",
                    "pattern": {
                      "shape": ""
                    }
                  },
                  "name": "MMR",
                  "offsetgroup": "MMR",
                  "orientation": "v",
                  "showlegend": true,
                  "textposition": "auto",
                  "type": "bar",
                  "x": [
                    "A",
                    "B",
                    "C",
                    "D",
                    "E",
                    "F",
                    "G",
                    "H",
                    "I",
                    "J",
                    "K"
                  ],
                  "xaxis": "x",
                  "y": [
                    3473.7,
                    2715,
                    390.5,
                    389.6,
                    752.3,
                    764.3,
                    315.3,
                    528.7,
                    499.7,
                    1449.4,
                    649.2
                  ],
                  "yaxis": "y"
                },
                {
                  "alignmentgroup": "True",
                  "hovertemplate": "ISO3=MYS<br>Ind Code=%{x}<br>Value (USD)=%{y}<extra></extra>",
                  "legendgroup": "MYS",
                  "marker": {
                    "color": "#FF97FF",
                    "pattern": {
                      "shape": ""
                    }
                  },
                  "name": "MYS",
                  "offsetgroup": "MYS",
                  "orientation": "v",
                  "showlegend": true,
                  "textposition": "auto",
                  "type": "bar",
                  "x": [
                    "A",
                    "B",
                    "C",
                    "D",
                    "E",
                    "F",
                    "G",
                    "H",
                    "I",
                    "J",
                    "K"
                  ],
                  "xaxis": "x",
                  "y": [
                    7944.7,
                    1576.1,
                    1503.6,
                    2471.9,
                    9746.5,
                    7602.4,
                    3272.4,
                    2407.2,
                    2165.4,
                    23789.3,
                    4496.5
                  ],
                  "yaxis": "y"
                },
                {
                  "alignmentgroup": "True",
                  "hovertemplate": "ISO3=NLD<br>Ind Code=%{x}<br>Value (USD)=%{y}<extra></extra>",
                  "legendgroup": "NLD",
                  "marker": {
                    "color": "#FECB52",
                    "pattern": {
                      "shape": ""
                    }
                  },
                  "name": "NLD",
                  "offsetgroup": "NLD",
                  "orientation": "v",
                  "showlegend": true,
                  "textposition": "auto",
                  "type": "bar",
                  "x": [
                    "A",
                    "B",
                    "C",
                    "D",
                    "E",
                    "F",
                    "G",
                    "H",
                    "I",
                    "J",
                    "K",
                    "L"
                  ],
                  "xaxis": "x",
                  "y": [
                    19156.26,
                    1381.72,
                    1291.96,
                    4319,
                    1418.33,
                    20398.9,
                    3599.55,
                    2516.61,
                    2870.9,
                    31864.5,
                    5093.45,
                    6175.21
                  ],
                  "yaxis": "y"
                },
                {
                  "alignmentgroup": "True",
                  "hovertemplate": "ISO3=NOR<br>Ind Code=%{x}<br>Value (USD)=%{y}<extra></extra>",
                  "legendgroup": "NOR",
                  "marker": {
                    "color": "#636efa",
                    "pattern": {
                      "shape": ""
                    }
                  },
                  "name": "NOR",
                  "offsetgroup": "NOR",
                  "orientation": "v",
                  "showlegend": true,
                  "textposition": "auto",
                  "type": "bar",
                  "x": [
                    "A",
                    "B",
                    "C",
                    "D",
                    "E",
                    "F",
                    "G",
                    "H",
                    "I",
                    "J",
                    "K",
                    "L"
                  ],
                  "xaxis": "x",
                  "y": [
                    5808.55,
                    389.18,
                    1122.53,
                    999.6,
                    889.5,
                    3372.3,
                    498.99,
                    1317.18,
                    1652.26,
                    6465.91,
                    1741.53,
                    774.05
                  ],
                  "yaxis": "y"
                },
                {
                  "alignmentgroup": "True",
                  "hovertemplate": "ISO3=NZL<br>Ind Code=%{x}<br>Value (USD)=%{y}<extra></extra>",
                  "legendgroup": "NZL",
                  "marker": {
                    "color": "#EF553B",
                    "pattern": {
                      "shape": ""
                    }
                  },
                  "name": "NZL",
                  "offsetgroup": "NZL",
                  "orientation": "v",
                  "showlegend": true,
                  "textposition": "auto",
                  "type": "bar",
                  "x": [
                    "A",
                    "B",
                    "C",
                    "D",
                    "E",
                    "F",
                    "G",
                    "H",
                    "I",
                    "J",
                    "K"
                  ],
                  "xaxis": "x",
                  "y": [
                    7619.4,
                    437.98,
                    1111.22,
                    1117.9,
                    1546.44,
                    1033.9,
                    1043.41,
                    835.84,
                    607.5,
                    5600.27,
                    925.09
                  ],
                  "yaxis": "y"
                },
                {
                  "alignmentgroup": "True",
                  "hovertemplate": "ISO3=PER<br>Ind Code=%{x}<br>Value (USD)=%{y}<extra></extra>",
                  "legendgroup": "PER",
                  "marker": {
                    "color": "#00cc96",
                    "pattern": {
                      "shape": ""
                    }
                  },
                  "name": "PER",
                  "offsetgroup": "PER",
                  "orientation": "v",
                  "showlegend": true,
                  "textposition": "auto",
                  "type": "bar",
                  "x": [
                    "A",
                    "B",
                    "C",
                    "D",
                    "E",
                    "F",
                    "G",
                    "H",
                    "I",
                    "J",
                    "K"
                  ],
                  "xaxis": "x",
                  "y": [
                    8682.7,
                    3377.8,
                    672.7,
                    2133.2,
                    2553.6,
                    2635,
                    1365.6,
                    2640,
                    2703.3,
                    3370.2,
                    905.6
                  ],
                  "yaxis": "y"
                },
                {
                  "alignmentgroup": "True",
                  "hovertemplate": "ISO3=PHL<br>Ind Code=%{x}<br>Value (USD)=%{y}<extra></extra>",
                  "legendgroup": "PHL",
                  "marker": {
                    "color": "#ab63fa",
                    "pattern": {
                      "shape": ""
                    }
                  },
                  "name": "PHL",
                  "offsetgroup": "PHL",
                  "orientation": "v",
                  "showlegend": true,
                  "textposition": "auto",
                  "type": "bar",
                  "x": [
                    "A",
                    "B",
                    "C",
                    "D",
                    "E",
                    "F",
                    "G",
                    "H",
                    "I",
                    "J",
                    "K"
                  ],
                  "xaxis": "x",
                  "y": [
                    31261,
                    4862.3,
                    769.4,
                    941.8,
                    4330.1,
                    3429,
                    975.3,
                    1632.4,
                    1457.6,
                    16573.7,
                    2110
                  ],
                  "yaxis": "y"
                },
                {
                  "alignmentgroup": "True",
                  "hovertemplate": "ISO3=POL<br>Ind Code=%{x}<br>Value (USD)=%{y}<extra></extra>",
                  "legendgroup": "POL",
                  "marker": {
                    "color": "#FFA15A",
                    "pattern": {
                      "shape": ""
                    }
                  },
                  "name": "POL",
                  "offsetgroup": "POL",
                  "orientation": "v",
                  "showlegend": true,
                  "textposition": "auto",
                  "type": "bar",
                  "x": [
                    "A",
                    "B",
                    "C",
                    "D",
                    "E",
                    "F",
                    "G",
                    "H",
                    "I",
                    "J",
                    "K",
                    "L"
                  ],
                  "xaxis": "x",
                  "y": [
                    16203.65,
                    3050.9,
                    3651.45,
                    5640,
                    3053.12,
                    7458.1,
                    7663.94,
                    5894.15,
                    2794.52,
                    22711.63,
                    10192.66,
                    5891.1
                  ],
                  "yaxis": "y"
                },
                {
                  "alignmentgroup": "True",
                  "hovertemplate": "ISO3=PRT<br>Ind Code=%{x}<br>Value (USD)=%{y}<extra></extra>",
                  "legendgroup": "PRT",
                  "marker": {
                    "color": "#19d3f3",
                    "pattern": {
                      "shape": ""
                    }
                  },
                  "name": "PRT",
                  "offsetgroup": "PRT",
                  "orientation": "v",
                  "showlegend": true,
                  "textposition": "auto",
                  "type": "bar",
                  "x": [
                    "A",
                    "B",
                    "C",
                    "D",
                    "E",
                    "F",
                    "G",
                    "H",
                    "I",
                    "J",
                    "K",
                    "L"
                  ],
                  "xaxis": "x",
                  "y": [
                    5034.2,
                    5037.81,
                    1238.35,
                    1966.4,
                    654.97,
                    2002.7,
                    1525.42,
                    1815.3,
                    588.66,
                    5481.56,
                    2344.62,
                    1455.37
                  ],
                  "yaxis": "y"
                },
                {
                  "alignmentgroup": "True",
                  "hovertemplate": "ISO3=ROU<br>Ind Code=%{x}<br>Value (USD)=%{y}<extra></extra>",
                  "legendgroup": "ROU",
                  "marker": {
                    "color": "#FF6692",
                    "pattern": {
                      "shape": ""
                    }
                  },
                  "name": "ROU",
                  "offsetgroup": "ROU",
                  "orientation": "v",
                  "showlegend": true,
                  "textposition": "auto",
                  "type": "bar",
                  "x": [
                    "A",
                    "B",
                    "C",
                    "D",
                    "E",
                    "F",
                    "G",
                    "H",
                    "I",
                    "J",
                    "K",
                    "L"
                  ],
                  "xaxis": "x",
                  "y": [
                    11079.54,
                    3708.83,
                    1352.08,
                    1086.8,
                    2442.3,
                    1675.4,
                    2024.78,
                    1655.89,
                    1933.47,
                    7889.84,
                    7033.87,
                    1652.01
                  ],
                  "yaxis": "y"
                },
                {
                  "alignmentgroup": "True",
                  "hovertemplate": "ISO3=RUS<br>Ind Code=%{x}<br>Value (USD)=%{y}<extra></extra>",
                  "legendgroup": "RUS",
                  "marker": {
                    "color": "#B6E880",
                    "pattern": {
                      "shape": ""
                    }
                  },
                  "name": "RUS",
                  "offsetgroup": "RUS",
                  "orientation": "v",
                  "showlegend": true,
                  "textposition": "auto",
                  "type": "bar",
                  "x": [
                    "A",
                    "B",
                    "C",
                    "D",
                    "E",
                    "F",
                    "G",
                    "H",
                    "I",
                    "J",
                    "K",
                    "L"
                  ],
                  "xaxis": "x",
                  "y": [
                    29657.52,
                    3652.88,
                    4091.22,
                    7430.9,
                    42850.04,
                    22429.5,
                    3933.61,
                    7925.65,
                    36458.88,
                    28979.19,
                    18384.48,
                    2887.64
                  ],
                  "yaxis": "y"
                },
                {
                  "alignmentgroup": "True",
                  "hovertemplate": "ISO3=SAU<br>Ind Code=%{x}<br>Value (USD)=%{y}<extra></extra>",
                  "legendgroup": "SAU",
                  "marker": {
                    "color": "#FF97FF",
                    "pattern": {
                      "shape": ""
                    }
                  },
                  "name": "SAU",
                  "offsetgroup": "SAU",
                  "orientation": "v",
                  "showlegend": true,
                  "textposition": "auto",
                  "type": "bar",
                  "x": [
                    "A",
                    "B",
                    "C",
                    "D",
                    "E",
                    "F",
                    "G",
                    "H",
                    "I",
                    "J",
                    "K"
                  ],
                  "xaxis": "x",
                  "y": [
                    13690.1,
                    2858.8,
                    992.8,
                    3834.2,
                    26709.4,
                    25402.5,
                    2581.1,
                    5127.6,
                    4290.6,
                    10529.8,
                    1206.3
                  ],
                  "yaxis": "y"
                },
                {
                  "alignmentgroup": "True",
                  "hovertemplate": "ISO3=SGP<br>Ind Code=%{x}<br>Value (USD)=%{y}<extra></extra>",
                  "legendgroup": "SGP",
                  "marker": {
                    "color": "#FECB52",
                    "pattern": {
                      "shape": ""
                    }
                  },
                  "name": "SGP",
                  "offsetgroup": "SGP",
                  "orientation": "v",
                  "showlegend": true,
                  "textposition": "auto",
                  "type": "bar",
                  "x": [
                    "A",
                    "B",
                    "C",
                    "D",
                    "E",
                    "F",
                    "G",
                    "H",
                    "I",
                    "J",
                    "K"
                  ],
                  "xaxis": "x",
                  "y": [
                    3262.9,
                    408.2,
                    130.6,
                    1117.7,
                    4674.7,
                    22591.2,
                    685.2,
                    355.1,
                    445.3,
                    26074.3,
                    6335.6
                  ],
                  "yaxis": "y"
                },
                {
                  "alignmentgroup": "True",
                  "hovertemplate": "ISO3=SRB<br>Ind Code=%{x}<br>Value (USD)=%{y}<extra></extra>",
                  "legendgroup": "SRB",
                  "marker": {
                    "color": "#636efa",
                    "pattern": {
                      "shape": ""
                    }
                  },
                  "name": "SRB",
                  "offsetgroup": "SRB",
                  "orientation": "v",
                  "showlegend": true,
                  "textposition": "auto",
                  "type": "bar",
                  "x": [
                    "A",
                    "B",
                    "C",
                    "D",
                    "E",
                    "F",
                    "G",
                    "H",
                    "I",
                    "J",
                    "K",
                    "L"
                  ],
                  "xaxis": "x",
                  "y": [
                    1702.8,
                    523.04,
                    175.04,
                    325.88,
                    650.17,
                    601.5,
                    613.96,
                    319.99,
                    90.65,
                    1542.28,
                    395.28,
                    294.47
                  ],
                  "yaxis": "y"
                },
                {
                  "alignmentgroup": "True",
                  "hovertemplate": "ISO3=SVN<br>Ind Code=%{x}<br>Value (USD)=%{y}<extra></extra>",
                  "legendgroup": "SVN",
                  "marker": {
                    "color": "#EF553B",
                    "pattern": {
                      "shape": ""
                    }
                  },
                  "name": "SVN",
                  "offsetgroup": "SVN",
                  "orientation": "v",
                  "showlegend": true,
                  "textposition": "auto",
                  "type": "bar",
                  "x": [
                    "A",
                    "B",
                    "C",
                    "D",
                    "E",
                    "F",
                    "G",
                    "H",
                    "I",
                    "J",
                    "K",
                    "L"
                  ],
                  "xaxis": "x",
                  "y": [
                    746.03,
                    326.05,
                    344.34,
                    455.4,
                    1.17,
                    1852.9,
                    820.94,
                    407.04,
                    567.79,
                    3818.6,
                    929.57,
                    454.76
                  ],
                  "yaxis": "y"
                },
                {
                  "alignmentgroup": "True",
                  "hovertemplate": "ISO3=SWE<br>Ind Code=%{x}<br>Value (USD)=%{y}<extra></extra>",
                  "legendgroup": "SWE",
                  "marker": {
                    "color": "#00cc96",
                    "pattern": {
                      "shape": ""
                    }
                  },
                  "name": "SWE",
                  "offsetgroup": "SWE",
                  "orientation": "v",
                  "showlegend": true,
                  "textposition": "auto",
                  "type": "bar",
                  "x": [
                    "A",
                    "B",
                    "C",
                    "D",
                    "E",
                    "F",
                    "G",
                    "H",
                    "I",
                    "J",
                    "K",
                    "L"
                  ],
                  "xaxis": "x",
                  "y": [
                    5531.08,
                    570.26,
                    2830.37,
                    7048.8,
                    811.39,
                    8080.8,
                    1999.31,
                    1766.58,
                    3977.44,
                    22509.24,
                    15190.88,
                    2081.56
                  ],
                  "yaxis": "y"
                },
                {
                  "alignmentgroup": "True",
                  "hovertemplate": "ISO3=THA<br>Ind Code=%{x}<br>Value (USD)=%{y}<extra></extra>",
                  "legendgroup": "THA",
                  "marker": {
                    "color": "#ab63fa",
                    "pattern": {
                      "shape": ""
                    }
                  },
                  "name": "THA",
                  "offsetgroup": "THA",
                  "orientation": "v",
                  "showlegend": true,
                  "textposition": "auto",
                  "type": "bar",
                  "x": [
                    "A",
                    "B",
                    "C",
                    "D",
                    "E",
                    "F",
                    "G",
                    "H",
                    "I",
                    "J",
                    "K"
                  ],
                  "xaxis": "x",
                  "y": [
                    23402.9,
                    14716.7,
                    1376.5,
                    2904.4,
                    6622.6,
                    12403.4,
                    6561.5,
                    5439,
                    3414.9,
                    32593.5,
                    13514.5
                  ],
                  "yaxis": "y"
                },
                {
                  "alignmentgroup": "True",
                  "hovertemplate": "ISO3=TUN<br>Ind Code=%{x}<br>Value (USD)=%{y}<extra></extra>",
                  "legendgroup": "TUN",
                  "marker": {
                    "color": "#FFA15A",
                    "pattern": {
                      "shape": ""
                    }
                  },
                  "name": "TUN",
                  "offsetgroup": "TUN",
                  "orientation": "v",
                  "showlegend": true,
                  "textposition": "auto",
                  "type": "bar",
                  "x": [
                    "A",
                    "B",
                    "C",
                    "D",
                    "E",
                    "F",
                    "G",
                    "H",
                    "I",
                    "J",
                    "K"
                  ],
                  "xaxis": "x",
                  "y": [
                    1200.3,
                    1498,
                    120.9,
                    175.2,
                    29.4,
                    532,
                    95.8,
                    438.5,
                    66.2,
                    1465.9,
                    428.4
                  ],
                  "yaxis": "y"
                },
                {
                  "alignmentgroup": "True",
                  "hovertemplate": "ISO3=TWN<br>Ind Code=%{x}<br>Value (USD)=%{y}<extra></extra>",
                  "legendgroup": "TWN",
                  "marker": {
                    "color": "#19d3f3",
                    "pattern": {
                      "shape": ""
                    }
                  },
                  "name": "TWN",
                  "offsetgroup": "TWN",
                  "orientation": "v",
                  "showlegend": true,
                  "textposition": "auto",
                  "type": "bar",
                  "x": [
                    "A",
                    "B",
                    "C",
                    "D",
                    "E",
                    "F",
                    "G",
                    "H",
                    "I",
                    "J",
                    "K"
                  ],
                  "xaxis": "x",
                  "y": [
                    8448.6,
                    5359,
                    446,
                    3524.9,
                    6090.8,
                    16302.5,
                    6164.6,
                    3607.6,
                    10327.9,
                    105364.1,
                    8987
                  ],
                  "yaxis": "y"
                },
                {
                  "alignmentgroup": "True",
                  "hovertemplate": "ISO3=USA<br>Ind Code=%{x}<br>Value (USD)=%{y}<extra></extra>",
                  "legendgroup": "USA",
                  "marker": {
                    "color": "#FF6692",
                    "pattern": {
                      "shape": ""
                    }
                  },
                  "name": "USA",
                  "offsetgroup": "USA",
                  "orientation": "v",
                  "showlegend": true,
                  "textposition": "auto",
                  "type": "bar",
                  "x": [
                    "A",
                    "B",
                    "C",
                    "D",
                    "E",
                    "F",
                    "G",
                    "H",
                    "I",
                    "J",
                    "K",
                    "L"
                  ],
                  "xaxis": "x",
                  "y": [
                    242876.09,
                    26029.49,
                    39120.21,
                    103127.8,
                    182411.92,
                    382448.59,
                    81419.1,
                    65185.24,
                    80279.76,
                    685707.06,
                    308436.47,
                    120904.19
                  ],
                  "yaxis": "y"
                },
                {
                  "alignmentgroup": "True",
                  "hovertemplate": "ISO3=VNM<br>Ind Code=%{x}<br>Value (USD)=%{y}<extra></extra>",
                  "legendgroup": "VNM",
                  "marker": {
                    "color": "#B6E880",
                    "pattern": {
                      "shape": ""
                    }
                  },
                  "name": "VNM",
                  "offsetgroup": "VNM",
                  "orientation": "v",
                  "showlegend": true,
                  "textposition": "auto",
                  "type": "bar",
                  "x": [
                    "A",
                    "B",
                    "C",
                    "D",
                    "E",
                    "F",
                    "G",
                    "H",
                    "I",
                    "J",
                    "K"
                  ],
                  "xaxis": "x",
                  "y": [
                    11541.3,
                    18104,
                    1072.3,
                    2006,
                    1854.3,
                    4420.5,
                    3245.1,
                    5242.7,
                    3187.3,
                    15834.2,
                    4146.7
                  ],
                  "yaxis": "y"
                },
                {
                  "alignmentgroup": "True",
                  "hovertemplate": "ISO3=ZAF<br>Ind Code=%{x}<br>Value (USD)=%{y}<extra></extra>",
                  "legendgroup": "ZAF",
                  "marker": {
                    "color": "#FF97FF",
                    "pattern": {
                      "shape": ""
                    }
                  },
                  "name": "ZAF",
                  "offsetgroup": "ZAF",
                  "orientation": "v",
                  "showlegend": true,
                  "textposition": "auto",
                  "type": "bar",
                  "x": [
                    "A",
                    "B",
                    "C",
                    "D",
                    "E",
                    "F",
                    "G",
                    "H",
                    "I",
                    "J",
                    "K"
                  ],
                  "xaxis": "x",
                  "y": [
                    13380.3,
                    1577.4,
                    1955.3,
                    2453.1,
                    3519.4,
                    5117,
                    1740.9,
                    1351.6,
                    3002.9,
                    6779.5,
                    4299.4
                  ],
                  "yaxis": "y"
                }
              ],
              "layout": {
                "barmode": "relative",
                "legend": {
                  "title": {
                    "text": "ISO3"
                  },
                  "tracegroupgap": 0
                },
                "template": {
                  "data": {
                    "bar": [
                      {
                        "error_x": {
                          "color": "#2a3f5f"
                        },
                        "error_y": {
                          "color": "#2a3f5f"
                        },
                        "marker": {
                          "line": {
                            "color": "#E5ECF6",
                            "width": 0.5
                          },
                          "pattern": {
                            "fillmode": "overlay",
                            "size": 10,
                            "solidity": 0.2
                          }
                        },
                        "type": "bar"
                      }
                    ],
                    "barpolar": [
                      {
                        "marker": {
                          "line": {
                            "color": "#E5ECF6",
                            "width": 0.5
                          },
                          "pattern": {
                            "fillmode": "overlay",
                            "size": 10,
                            "solidity": 0.2
                          }
                        },
                        "type": "barpolar"
                      }
                    ],
                    "carpet": [
                      {
                        "aaxis": {
                          "endlinecolor": "#2a3f5f",
                          "gridcolor": "white",
                          "linecolor": "white",
                          "minorgridcolor": "white",
                          "startlinecolor": "#2a3f5f"
                        },
                        "baxis": {
                          "endlinecolor": "#2a3f5f",
                          "gridcolor": "white",
                          "linecolor": "white",
                          "minorgridcolor": "white",
                          "startlinecolor": "#2a3f5f"
                        },
                        "type": "carpet"
                      }
                    ],
                    "choropleth": [
                      {
                        "colorbar": {
                          "outlinewidth": 0,
                          "ticks": ""
                        },
                        "type": "choropleth"
                      }
                    ],
                    "contour": [
                      {
                        "colorbar": {
                          "outlinewidth": 0,
                          "ticks": ""
                        },
                        "colorscale": [
                          [
                            0,
                            "#0d0887"
                          ],
                          [
                            0.1111111111111111,
                            "#46039f"
                          ],
                          [
                            0.2222222222222222,
                            "#7201a8"
                          ],
                          [
                            0.3333333333333333,
                            "#9c179e"
                          ],
                          [
                            0.4444444444444444,
                            "#bd3786"
                          ],
                          [
                            0.5555555555555556,
                            "#d8576b"
                          ],
                          [
                            0.6666666666666666,
                            "#ed7953"
                          ],
                          [
                            0.7777777777777778,
                            "#fb9f3a"
                          ],
                          [
                            0.8888888888888888,
                            "#fdca26"
                          ],
                          [
                            1,
                            "#f0f921"
                          ]
                        ],
                        "type": "contour"
                      }
                    ],
                    "contourcarpet": [
                      {
                        "colorbar": {
                          "outlinewidth": 0,
                          "ticks": ""
                        },
                        "type": "contourcarpet"
                      }
                    ],
                    "heatmap": [
                      {
                        "colorbar": {
                          "outlinewidth": 0,
                          "ticks": ""
                        },
                        "colorscale": [
                          [
                            0,
                            "#0d0887"
                          ],
                          [
                            0.1111111111111111,
                            "#46039f"
                          ],
                          [
                            0.2222222222222222,
                            "#7201a8"
                          ],
                          [
                            0.3333333333333333,
                            "#9c179e"
                          ],
                          [
                            0.4444444444444444,
                            "#bd3786"
                          ],
                          [
                            0.5555555555555556,
                            "#d8576b"
                          ],
                          [
                            0.6666666666666666,
                            "#ed7953"
                          ],
                          [
                            0.7777777777777778,
                            "#fb9f3a"
                          ],
                          [
                            0.8888888888888888,
                            "#fdca26"
                          ],
                          [
                            1,
                            "#f0f921"
                          ]
                        ],
                        "type": "heatmap"
                      }
                    ],
                    "heatmapgl": [
                      {
                        "colorbar": {
                          "outlinewidth": 0,
                          "ticks": ""
                        },
                        "colorscale": [
                          [
                            0,
                            "#0d0887"
                          ],
                          [
                            0.1111111111111111,
                            "#46039f"
                          ],
                          [
                            0.2222222222222222,
                            "#7201a8"
                          ],
                          [
                            0.3333333333333333,
                            "#9c179e"
                          ],
                          [
                            0.4444444444444444,
                            "#bd3786"
                          ],
                          [
                            0.5555555555555556,
                            "#d8576b"
                          ],
                          [
                            0.6666666666666666,
                            "#ed7953"
                          ],
                          [
                            0.7777777777777778,
                            "#fb9f3a"
                          ],
                          [
                            0.8888888888888888,
                            "#fdca26"
                          ],
                          [
                            1,
                            "#f0f921"
                          ]
                        ],
                        "type": "heatmapgl"
                      }
                    ],
                    "histogram": [
                      {
                        "marker": {
                          "pattern": {
                            "fillmode": "overlay",
                            "size": 10,
                            "solidity": 0.2
                          }
                        },
                        "type": "histogram"
                      }
                    ],
                    "histogram2d": [
                      {
                        "colorbar": {
                          "outlinewidth": 0,
                          "ticks": ""
                        },
                        "colorscale": [
                          [
                            0,
                            "#0d0887"
                          ],
                          [
                            0.1111111111111111,
                            "#46039f"
                          ],
                          [
                            0.2222222222222222,
                            "#7201a8"
                          ],
                          [
                            0.3333333333333333,
                            "#9c179e"
                          ],
                          [
                            0.4444444444444444,
                            "#bd3786"
                          ],
                          [
                            0.5555555555555556,
                            "#d8576b"
                          ],
                          [
                            0.6666666666666666,
                            "#ed7953"
                          ],
                          [
                            0.7777777777777778,
                            "#fb9f3a"
                          ],
                          [
                            0.8888888888888888,
                            "#fdca26"
                          ],
                          [
                            1,
                            "#f0f921"
                          ]
                        ],
                        "type": "histogram2d"
                      }
                    ],
                    "histogram2dcontour": [
                      {
                        "colorbar": {
                          "outlinewidth": 0,
                          "ticks": ""
                        },
                        "colorscale": [
                          [
                            0,
                            "#0d0887"
                          ],
                          [
                            0.1111111111111111,
                            "#46039f"
                          ],
                          [
                            0.2222222222222222,
                            "#7201a8"
                          ],
                          [
                            0.3333333333333333,
                            "#9c179e"
                          ],
                          [
                            0.4444444444444444,
                            "#bd3786"
                          ],
                          [
                            0.5555555555555556,
                            "#d8576b"
                          ],
                          [
                            0.6666666666666666,
                            "#ed7953"
                          ],
                          [
                            0.7777777777777778,
                            "#fb9f3a"
                          ],
                          [
                            0.8888888888888888,
                            "#fdca26"
                          ],
                          [
                            1,
                            "#f0f921"
                          ]
                        ],
                        "type": "histogram2dcontour"
                      }
                    ],
                    "mesh3d": [
                      {
                        "colorbar": {
                          "outlinewidth": 0,
                          "ticks": ""
                        },
                        "type": "mesh3d"
                      }
                    ],
                    "parcoords": [
                      {
                        "line": {
                          "colorbar": {
                            "outlinewidth": 0,
                            "ticks": ""
                          }
                        },
                        "type": "parcoords"
                      }
                    ],
                    "pie": [
                      {
                        "automargin": true,
                        "type": "pie"
                      }
                    ],
                    "scatter": [
                      {
                        "fillpattern": {
                          "fillmode": "overlay",
                          "size": 10,
                          "solidity": 0.2
                        },
                        "type": "scatter"
                      }
                    ],
                    "scatter3d": [
                      {
                        "line": {
                          "colorbar": {
                            "outlinewidth": 0,
                            "ticks": ""
                          }
                        },
                        "marker": {
                          "colorbar": {
                            "outlinewidth": 0,
                            "ticks": ""
                          }
                        },
                        "type": "scatter3d"
                      }
                    ],
                    "scattercarpet": [
                      {
                        "marker": {
                          "colorbar": {
                            "outlinewidth": 0,
                            "ticks": ""
                          }
                        },
                        "type": "scattercarpet"
                      }
                    ],
                    "scattergeo": [
                      {
                        "marker": {
                          "colorbar": {
                            "outlinewidth": 0,
                            "ticks": ""
                          }
                        },
                        "type": "scattergeo"
                      }
                    ],
                    "scattergl": [
                      {
                        "marker": {
                          "colorbar": {
                            "outlinewidth": 0,
                            "ticks": ""
                          }
                        },
                        "type": "scattergl"
                      }
                    ],
                    "scattermapbox": [
                      {
                        "marker": {
                          "colorbar": {
                            "outlinewidth": 0,
                            "ticks": ""
                          }
                        },
                        "type": "scattermapbox"
                      }
                    ],
                    "scatterpolar": [
                      {
                        "marker": {
                          "colorbar": {
                            "outlinewidth": 0,
                            "ticks": ""
                          }
                        },
                        "type": "scatterpolar"
                      }
                    ],
                    "scatterpolargl": [
                      {
                        "marker": {
                          "colorbar": {
                            "outlinewidth": 0,
                            "ticks": ""
                          }
                        },
                        "type": "scatterpolargl"
                      }
                    ],
                    "scatterternary": [
                      {
                        "marker": {
                          "colorbar": {
                            "outlinewidth": 0,
                            "ticks": ""
                          }
                        },
                        "type": "scatterternary"
                      }
                    ],
                    "surface": [
                      {
                        "colorbar": {
                          "outlinewidth": 0,
                          "ticks": ""
                        },
                        "colorscale": [
                          [
                            0,
                            "#0d0887"
                          ],
                          [
                            0.1111111111111111,
                            "#46039f"
                          ],
                          [
                            0.2222222222222222,
                            "#7201a8"
                          ],
                          [
                            0.3333333333333333,
                            "#9c179e"
                          ],
                          [
                            0.4444444444444444,
                            "#bd3786"
                          ],
                          [
                            0.5555555555555556,
                            "#d8576b"
                          ],
                          [
                            0.6666666666666666,
                            "#ed7953"
                          ],
                          [
                            0.7777777777777778,
                            "#fb9f3a"
                          ],
                          [
                            0.8888888888888888,
                            "#fdca26"
                          ],
                          [
                            1,
                            "#f0f921"
                          ]
                        ],
                        "type": "surface"
                      }
                    ],
                    "table": [
                      {
                        "cells": {
                          "fill": {
                            "color": "#EBF0F8"
                          },
                          "line": {
                            "color": "white"
                          }
                        },
                        "header": {
                          "fill": {
                            "color": "#C8D4E3"
                          },
                          "line": {
                            "color": "white"
                          }
                        },
                        "type": "table"
                      }
                    ]
                  },
                  "layout": {
                    "annotationdefaults": {
                      "arrowcolor": "#2a3f5f",
                      "arrowhead": 0,
                      "arrowwidth": 1
                    },
                    "autotypenumbers": "strict",
                    "coloraxis": {
                      "colorbar": {
                        "outlinewidth": 0,
                        "ticks": ""
                      }
                    },
                    "colorscale": {
                      "diverging": [
                        [
                          0,
                          "#8e0152"
                        ],
                        [
                          0.1,
                          "#c51b7d"
                        ],
                        [
                          0.2,
                          "#de77ae"
                        ],
                        [
                          0.3,
                          "#f1b6da"
                        ],
                        [
                          0.4,
                          "#fde0ef"
                        ],
                        [
                          0.5,
                          "#f7f7f7"
                        ],
                        [
                          0.6,
                          "#e6f5d0"
                        ],
                        [
                          0.7,
                          "#b8e186"
                        ],
                        [
                          0.8,
                          "#7fbc41"
                        ],
                        [
                          0.9,
                          "#4d9221"
                        ],
                        [
                          1,
                          "#276419"
                        ]
                      ],
                      "sequential": [
                        [
                          0,
                          "#0d0887"
                        ],
                        [
                          0.1111111111111111,
                          "#46039f"
                        ],
                        [
                          0.2222222222222222,
                          "#7201a8"
                        ],
                        [
                          0.3333333333333333,
                          "#9c179e"
                        ],
                        [
                          0.4444444444444444,
                          "#bd3786"
                        ],
                        [
                          0.5555555555555556,
                          "#d8576b"
                        ],
                        [
                          0.6666666666666666,
                          "#ed7953"
                        ],
                        [
                          0.7777777777777778,
                          "#fb9f3a"
                        ],
                        [
                          0.8888888888888888,
                          "#fdca26"
                        ],
                        [
                          1,
                          "#f0f921"
                        ]
                      ],
                      "sequentialminus": [
                        [
                          0,
                          "#0d0887"
                        ],
                        [
                          0.1111111111111111,
                          "#46039f"
                        ],
                        [
                          0.2222222222222222,
                          "#7201a8"
                        ],
                        [
                          0.3333333333333333,
                          "#9c179e"
                        ],
                        [
                          0.4444444444444444,
                          "#bd3786"
                        ],
                        [
                          0.5555555555555556,
                          "#d8576b"
                        ],
                        [
                          0.6666666666666666,
                          "#ed7953"
                        ],
                        [
                          0.7777777777777778,
                          "#fb9f3a"
                        ],
                        [
                          0.8888888888888888,
                          "#fdca26"
                        ],
                        [
                          1,
                          "#f0f921"
                        ]
                      ]
                    },
                    "colorway": [
                      "#636efa",
                      "#EF553B",
                      "#00cc96",
                      "#ab63fa",
                      "#FFA15A",
                      "#19d3f3",
                      "#FF6692",
                      "#B6E880",
                      "#FF97FF",
                      "#FECB52"
                    ],
                    "font": {
                      "color": "#2a3f5f"
                    },
                    "geo": {
                      "bgcolor": "white",
                      "lakecolor": "white",
                      "landcolor": "#E5ECF6",
                      "showlakes": true,
                      "showland": true,
                      "subunitcolor": "white"
                    },
                    "hoverlabel": {
                      "align": "left"
                    },
                    "hovermode": "closest",
                    "mapbox": {
                      "style": "light"
                    },
                    "paper_bgcolor": "white",
                    "plot_bgcolor": "#E5ECF6",
                    "polar": {
                      "angularaxis": {
                        "gridcolor": "white",
                        "linecolor": "white",
                        "ticks": ""
                      },
                      "bgcolor": "#E5ECF6",
                      "radialaxis": {
                        "gridcolor": "white",
                        "linecolor": "white",
                        "ticks": ""
                      }
                    },
                    "scene": {
                      "xaxis": {
                        "backgroundcolor": "#E5ECF6",
                        "gridcolor": "white",
                        "gridwidth": 2,
                        "linecolor": "white",
                        "showbackground": true,
                        "ticks": "",
                        "zerolinecolor": "white"
                      },
                      "yaxis": {
                        "backgroundcolor": "#E5ECF6",
                        "gridcolor": "white",
                        "gridwidth": 2,
                        "linecolor": "white",
                        "showbackground": true,
                        "ticks": "",
                        "zerolinecolor": "white"
                      },
                      "zaxis": {
                        "backgroundcolor": "#E5ECF6",
                        "gridcolor": "white",
                        "gridwidth": 2,
                        "linecolor": "white",
                        "showbackground": true,
                        "ticks": "",
                        "zerolinecolor": "white"
                      }
                    },
                    "shapedefaults": {
                      "line": {
                        "color": "#2a3f5f"
                      }
                    },
                    "ternary": {
                      "aaxis": {
                        "gridcolor": "white",
                        "linecolor": "white",
                        "ticks": ""
                      },
                      "baxis": {
                        "gridcolor": "white",
                        "linecolor": "white",
                        "ticks": ""
                      },
                      "bgcolor": "#E5ECF6",
                      "caxis": {
                        "gridcolor": "white",
                        "linecolor": "white",
                        "ticks": ""
                      }
                    },
                    "title": {
                      "x": 0.05
                    },
                    "xaxis": {
                      "automargin": true,
                      "gridcolor": "white",
                      "linecolor": "white",
                      "ticks": "",
                      "title": {
                        "standoff": 15
                      },
                      "zerolinecolor": "white",
                      "zerolinewidth": 2
                    },
                    "yaxis": {
                      "automargin": true,
                      "gridcolor": "white",
                      "linecolor": "white",
                      "ticks": "",
                      "title": {
                        "standoff": 15
                      },
                      "zerolinecolor": "white",
                      "zerolinewidth": 2
                    }
                  }
                },
                "title": {
                  "text": "Value (USD) for Each Industry in 2018 by Country"
                },
                "xaxis": {
                  "anchor": "y",
                  "domain": [
                    0,
                    1
                  ],
                  "title": {
                    "text": "Ind Code"
                  }
                },
                "yaxis": {
                  "anchor": "x",
                  "domain": [
                    0,
                    1
                  ],
                  "title": {
                    "text": "Value (USD)"
                  }
                }
              }
            }
          },
          "metadata": {},
          "output_type": "display_data"
        }
      ],
      "source": [
        "# Aggregate data by industry and country\n",
        "aggregated_data = df_eng_final_2018.groupby(['Ind Code', 'ISO3'])['Value (USD)'].sum().reset_index()\n",
        "\n",
        "# Create the bar chart\n",
        "fig = px.bar(aggregated_data, x='Ind Code', y='Value (USD)', color='ISO3', title='Value (USD) for Each Industry in 2018 by Country')\n",
        "\n",
        "\n",
        "# Show the plot\n",
        "fig.show()"
      ]
    },
    {
      "cell_type": "code",
      "execution_count": 16,
      "metadata": {},
      "outputs": [
        {
          "data": {
            "application/vnd.microsoft.datawrangler.viewer.v0+json": {
              "columns": [
                {
                  "name": "index",
                  "rawType": "int64",
                  "type": "integer"
                },
                {
                  "name": "Ind Code",
                  "rawType": "object",
                  "type": "string"
                },
                {
                  "name": "Industry",
                  "rawType": "object",
                  "type": "string"
                }
              ],
              "conversionMethod": "pd.DataFrame",
              "ref": "6b003f04-225a-4bd1-968f-1910649dc2a6",
              "rows": [
                [
                  "0",
                  "A",
                  "Manufacture of food products, beverages and tobacco products"
                ],
                [
                  "1",
                  "B",
                  "Manufacture of textiles, wearing apparel, leather and related products"
                ],
                [
                  "2",
                  "C",
                  "Manufacture of wood and of products of wood and cork, except furniture; manufacture of articles of straw and plaiting materials"
                ],
                [
                  "3",
                  "D",
                  "Manufacture of paper products and printing"
                ],
                [
                  "4",
                  "E",
                  "Manufacture of coke and refined petroleum products"
                ],
                [
                  "5",
                  "F",
                  "Manufacturing of chemicals and pharmaceutical products"
                ],
                [
                  "6",
                  "G",
                  "Manufacture of rubber and plastics products"
                ],
                [
                  "7",
                  "H",
                  "Manufacture of other non-metallic mineral products"
                ],
                [
                  "8",
                  "I",
                  "Manufacture of basic metals"
                ],
                [
                  "9",
                  "J",
                  "Manufacture of fabricated metal products, machinery and equipment"
                ],
                [
                  "10",
                  "K",
                  "Manufacture of transport equipment"
                ],
                [
                  "11",
                  "L",
                  "Manufacture of furniture, other manufacturing"
                ]
              ],
              "shape": {
                "columns": 2,
                "rows": 12
              }
            },
            "text/html": [
              "<div>\n",
              "<style scoped>\n",
              "    .dataframe tbody tr th:only-of-type {\n",
              "        vertical-align: middle;\n",
              "    }\n",
              "\n",
              "    .dataframe tbody tr th {\n",
              "        vertical-align: top;\n",
              "    }\n",
              "\n",
              "    .dataframe thead th {\n",
              "        text-align: right;\n",
              "    }\n",
              "</style>\n",
              "<table border=\"1\" class=\"dataframe\">\n",
              "  <thead>\n",
              "    <tr style=\"text-align: right;\">\n",
              "      <th></th>\n",
              "      <th>Ind Code</th>\n",
              "      <th>Industry</th>\n",
              "    </tr>\n",
              "  </thead>\n",
              "  <tbody>\n",
              "    <tr>\n",
              "      <th>0</th>\n",
              "      <td>A</td>\n",
              "      <td>Manufacture of food products, beverages and to...</td>\n",
              "    </tr>\n",
              "    <tr>\n",
              "      <th>1</th>\n",
              "      <td>B</td>\n",
              "      <td>Manufacture of textiles, wearing apparel, leat...</td>\n",
              "    </tr>\n",
              "    <tr>\n",
              "      <th>2</th>\n",
              "      <td>C</td>\n",
              "      <td>Manufacture of wood and of products of wood an...</td>\n",
              "    </tr>\n",
              "    <tr>\n",
              "      <th>3</th>\n",
              "      <td>D</td>\n",
              "      <td>Manufacture of paper products and printing</td>\n",
              "    </tr>\n",
              "    <tr>\n",
              "      <th>4</th>\n",
              "      <td>E</td>\n",
              "      <td>Manufacture of coke and refined petroleum prod...</td>\n",
              "    </tr>\n",
              "    <tr>\n",
              "      <th>5</th>\n",
              "      <td>F</td>\n",
              "      <td>Manufacturing of chemicals and pharmaceutical ...</td>\n",
              "    </tr>\n",
              "    <tr>\n",
              "      <th>6</th>\n",
              "      <td>G</td>\n",
              "      <td>Manufacture of rubber and plastics products</td>\n",
              "    </tr>\n",
              "    <tr>\n",
              "      <th>7</th>\n",
              "      <td>H</td>\n",
              "      <td>Manufacture of other non-metallic mineral prod...</td>\n",
              "    </tr>\n",
              "    <tr>\n",
              "      <th>8</th>\n",
              "      <td>I</td>\n",
              "      <td>Manufacture of basic metals</td>\n",
              "    </tr>\n",
              "    <tr>\n",
              "      <th>9</th>\n",
              "      <td>J</td>\n",
              "      <td>Manufacture of fabricated metal products, mach...</td>\n",
              "    </tr>\n",
              "    <tr>\n",
              "      <th>10</th>\n",
              "      <td>K</td>\n",
              "      <td>Manufacture of transport equipment</td>\n",
              "    </tr>\n",
              "    <tr>\n",
              "      <th>11</th>\n",
              "      <td>L</td>\n",
              "      <td>Manufacture of furniture, other manufacturing</td>\n",
              "    </tr>\n",
              "  </tbody>\n",
              "</table>\n",
              "</div>"
            ],
            "text/plain": [
              "   Ind Code                                           Industry\n",
              "0         A  Manufacture of food products, beverages and to...\n",
              "1         B  Manufacture of textiles, wearing apparel, leat...\n",
              "2         C  Manufacture of wood and of products of wood an...\n",
              "3         D         Manufacture of paper products and printing\n",
              "4         E  Manufacture of coke and refined petroleum prod...\n",
              "5         F  Manufacturing of chemicals and pharmaceutical ...\n",
              "6         G        Manufacture of rubber and plastics products\n",
              "7         H  Manufacture of other non-metallic mineral prod...\n",
              "8         I                        Manufacture of basic metals\n",
              "9         J  Manufacture of fabricated metal products, mach...\n",
              "10        K                 Manufacture of transport equipment\n",
              "11        L      Manufacture of furniture, other manufacturing"
            ]
          },
          "execution_count": 16,
          "metadata": {},
          "output_type": "execute_result"
        }
      ],
      "source": [
        "industry_ref"
      ]
    },
    {
      "cell_type": "markdown",
      "metadata": {},
      "source": [
        "The bar chart supports our findings in the sunburst chart that most of the value in each specific industry is coming from the countries with the most value overall. Using this information, we shall filter our dataset to only include the top 15 countries."
      ]
    },
    {
      "cell_type": "markdown",
      "metadata": {},
      "source": [
        "---"
      ]
    },
    {
      "cell_type": "markdown",
      "metadata": {},
      "source": [
        "## Top 15 countries"
      ]
    },
    {
      "cell_type": "markdown",
      "metadata": {},
      "source": [
        "Lets check which countries were in the top 15"
      ]
    },
    {
      "cell_type": "code",
      "execution_count": 18,
      "metadata": {},
      "outputs": [
        {
          "data": {
            "application/vnd.microsoft.datawrangler.viewer.v0+json": {
              "columns": [
                {
                  "name": "index",
                  "rawType": "int64",
                  "type": "integer"
                },
                {
                  "name": "Year",
                  "rawType": "int64",
                  "type": "integer"
                },
                {
                  "name": "Country",
                  "rawType": "object",
                  "type": "string"
                },
                {
                  "name": "ISO3",
                  "rawType": "object",
                  "type": "string"
                },
                {
                  "name": "Continent",
                  "rawType": "object",
                  "type": "string"
                },
                {
                  "name": "Ind Code",
                  "rawType": "object",
                  "type": "string"
                },
                {
                  "name": "Industry",
                  "rawType": "object",
                  "type": "string"
                },
                {
                  "name": "Value (LCU)",
                  "rawType": "float64",
                  "type": "float"
                },
                {
                  "name": "Value (USD)",
                  "rawType": "float64",
                  "type": "float"
                },
                {
                  "name": "Exchange Rate",
                  "rawType": "float64",
                  "type": "float"
                },
                {
                  "name": "Volatility",
                  "rawType": "float64",
                  "type": "float"
                }
              ],
              "conversionMethod": "pd.DataFrame",
              "ref": "b69ea52f-fc9c-46a7-811f-d19635ddb676",
              "rows": [
                [
                  "945",
                  "2018",
                  "Brazil",
                  "BRA",
                  "South America",
                  "A",
                  "Manufacture of food products, beverages and tobacco products",
                  "177448.03",
                  "48565.0",
                  "0.2736857659112924",
                  "0.1017184520236824"
                ],
                [
                  "946",
                  "2018",
                  "Brazil",
                  "BRA",
                  "South America",
                  "B",
                  "Manufacture of textiles, wearing apparel, leather and related products",
                  "67882.23",
                  "18578.4",
                  "0.2736857643009076",
                  "0.1017184520236824"
                ],
                [
                  "947",
                  "2018",
                  "Brazil",
                  "BRA",
                  "South America",
                  "C",
                  "Manufacture of wood and of products of wood and cork, except furniture; manufacture of articles of straw and plaiting materials",
                  "12896.18",
                  "3529.5",
                  "0.2736856960743414",
                  "0.1017184520236824"
                ],
                [
                  "948",
                  "2018",
                  "Brazil",
                  "BRA",
                  "South America",
                  "D",
                  "Manufacture of paper products and printing",
                  "47377.69",
                  "12966.6",
                  "0.273685779108268",
                  "0.1017184520236824"
                ],
                [
                  "949",
                  "2018",
                  "Brazil",
                  "BRA",
                  "South America",
                  "E",
                  "Manufacture of coke and refined petroleum products",
                  "102434.63",
                  "28034.9",
                  "0.2736857642771785",
                  "0.1017184520236824"
                ],
                [
                  "950",
                  "2018",
                  "Brazil",
                  "BRA",
                  "South America",
                  "F",
                  "Manufacturing of chemicals and pharmaceutical products",
                  "111282.73",
                  "30456.5",
                  "0.273685773165342",
                  "0.1017184520236824"
                ],
                [
                  "951",
                  "2018",
                  "Brazil",
                  "BRA",
                  "South America",
                  "G",
                  "Manufacture of rubber and plastics products",
                  "36696.46",
                  "10043.3",
                  "0.2736857996656898",
                  "0.1017184520236824"
                ],
                [
                  "952",
                  "2018",
                  "Brazil",
                  "BRA",
                  "South America",
                  "H",
                  "Manufacture of other non-metallic mineral products",
                  "28778.62",
                  "7876.3",
                  "0.2736858125928206",
                  "0.1017184520236824"
                ],
                [
                  "953",
                  "2018",
                  "Brazil",
                  "BRA",
                  "South America",
                  "I",
                  "Manufacture of basic metals",
                  "41284.21",
                  "11298.9",
                  "0.273685750556932",
                  "0.1017184520236824"
                ],
                [
                  "954",
                  "2018",
                  "Brazil",
                  "BRA",
                  "South America",
                  "J",
                  "Manufacture of fabricated metal products, machinery and equipment",
                  "128327.09",
                  "35121.3",
                  "0.273685782168052",
                  "0.1017184520236824"
                ],
                [
                  "955",
                  "2018",
                  "Brazil",
                  "BRA",
                  "South America",
                  "K",
                  "Manufacture of transport equipment",
                  "90929.83",
                  "24886.2",
                  "0.2736857640666434",
                  "0.1017184520236824"
                ],
                [
                  "1835",
                  "2018",
                  "Canada",
                  "CAN",
                  "North America",
                  "A",
                  "Manufacture of food products, beverages and tobacco products",
                  "34395.0",
                  "26543.08",
                  "0.771713330425934",
                  "0.1171052100300619"
                ],
                [
                  "1836",
                  "2018",
                  "Canada",
                  "CAN",
                  "North America",
                  "B",
                  "Manufacture of textiles, wearing apparel, leather and related products",
                  "2720.0",
                  "2099.06",
                  "0.7717132352941176",
                  "0.1171052100300619"
                ],
                [
                  "1837",
                  "2018",
                  "Canada",
                  "CAN",
                  "North America",
                  "C",
                  "Manufacture of wood and of products of wood and cork, except furniture; manufacture of articles of straw and plaiting materials",
                  "11862.0",
                  "9154.06",
                  "0.7717130332153094",
                  "0.1171052100300619"
                ],
                [
                  "1838",
                  "2018",
                  "Canada",
                  "CAN",
                  "North America",
                  "D",
                  "Manufacture of paper products and printing",
                  "14501.5",
                  "11191.0",
                  "0.7717132710409268",
                  "0.1171052100300619"
                ],
                [
                  "1839",
                  "2018",
                  "Canada",
                  "CAN",
                  "North America",
                  "E",
                  "Manufacture of coke and refined petroleum products",
                  "15767.0",
                  "12167.6",
                  "0.7717130716052515",
                  "0.1171052100300619"
                ],
                [
                  "1840",
                  "2018",
                  "Canada",
                  "CAN",
                  "North America",
                  "F",
                  "Manufacturing of chemicals and pharmaceutical products",
                  "22807.82",
                  "17601.1",
                  "0.771713386022864",
                  "0.1171052100300619"
                ],
                [
                  "1841",
                  "2018",
                  "Canada",
                  "CAN",
                  "North America",
                  "G",
                  "Manufacture of rubber and plastics products",
                  "10980.0",
                  "8473.41",
                  "0.7717131147540983",
                  "0.1171052100300619"
                ],
                [
                  "1842",
                  "2018",
                  "Canada",
                  "CAN",
                  "North America",
                  "H",
                  "Manufacture of other non-metallic mineral products",
                  "8399.0",
                  "6481.62",
                  "0.7717132992022859",
                  "0.1171052100300619"
                ],
                [
                  "1843",
                  "2018",
                  "Canada",
                  "CAN",
                  "North America",
                  "I",
                  "Manufacture of basic metals",
                  "12830.0",
                  "9901.08",
                  "0.7717131722525331",
                  "0.1171052100300619"
                ],
                [
                  "1844",
                  "2018",
                  "Canada",
                  "CAN",
                  "North America",
                  "J",
                  "Manufacture of fabricated metal products, machinery and equipment",
                  "44678.0",
                  "34478.61",
                  "0.7717133712341645",
                  "0.1171052100300619"
                ],
                [
                  "1845",
                  "2018",
                  "Canada",
                  "CAN",
                  "North America",
                  "K",
                  "Manufacture of transport equipment",
                  "30863.0",
                  "23817.39",
                  "0.7717133784790849",
                  "0.1171052100300619"
                ],
                [
                  "1846",
                  "2018",
                  "Canada",
                  "CAN",
                  "North America",
                  "L",
                  "Manufacture of furniture, other manufacturing",
                  "10600.0",
                  "8180.16",
                  "0.7717132075471698",
                  "0.1171052100300619"
                ],
                [
                  "2264",
                  "2018",
                  "China",
                  "CHN",
                  "Asia",
                  "A",
                  "Manufacture of food products, beverages and tobacco products",
                  "2716802.25",
                  "410643.69",
                  "0.1511496429303973",
                  "0.015959427033933"
                ],
                [
                  "2265",
                  "2018",
                  "China",
                  "CHN",
                  "Asia",
                  "B",
                  "Manufacture of textiles, wearing apparel, leather and related products",
                  "1600317.38",
                  "241887.41",
                  "0.1511496488277844",
                  "0.015959427033933"
                ],
                [
                  "2266",
                  "2018",
                  "China",
                  "CHN",
                  "Asia",
                  "C",
                  "Manufacture of wood and of products of wood and cork, except furniture; manufacture of articles of straw and plaiting materials",
                  "358460.0",
                  "54181.1",
                  "0.1511496401272108",
                  "0.015959427033933"
                ],
                [
                  "2267",
                  "2018",
                  "China",
                  "CHN",
                  "Asia",
                  "D",
                  "Manufacture of paper products and printing",
                  "824581.5",
                  "124635.2",
                  "0.1511496437890008",
                  "0.015959427033933"
                ],
                [
                  "2268",
                  "2018",
                  "China",
                  "CHN",
                  "Asia",
                  "E",
                  "Manufacture of coke and refined petroleum products",
                  "1158931.62",
                  "175172.09",
                  "0.151149633832581",
                  "0.015959427033933"
                ],
                [
                  "2269",
                  "2018",
                  "China",
                  "CHN",
                  "Asia",
                  "F",
                  "Manufacturing of chemicals and pharmaceutical products",
                  "3184921.25",
                  "481399.69",
                  "0.1511496367453355",
                  "0.015959427033933"
                ],
                [
                  "2270",
                  "2018",
                  "China",
                  "CHN",
                  "Asia",
                  "G",
                  "Manufacture of rubber and plastics products",
                  "793250.31",
                  "119899.5",
                  "0.1511496415299226",
                  "0.015959427033933"
                ],
                [
                  "2271",
                  "2018",
                  "China",
                  "CHN",
                  "Asia",
                  "H",
                  "Manufacture of other non-metallic mineral products",
                  "2390155.75",
                  "361271.19",
                  "0.1511496436999973",
                  "0.015959427033933"
                ],
                [
                  "2272",
                  "2018",
                  "China",
                  "CHN",
                  "Asia",
                  "I",
                  "Manufacture of basic metals",
                  "3109282.25",
                  "469966.91",
                  "0.151149645549226",
                  "0.015959427033933"
                ],
                [
                  "2273",
                  "2018",
                  "China",
                  "CHN",
                  "Asia",
                  "J",
                  "Manufacture of fabricated metal products, machinery and equipment",
                  "6894396.0",
                  "1042085.5",
                  "0.1511496438556764",
                  "0.015959427033933"
                ],
                [
                  "2274",
                  "2018",
                  "China",
                  "CHN",
                  "Asia",
                  "K",
                  "Manufacture of transport equipment",
                  "2394926.5",
                  "361992.31",
                  "0.1511496532357047",
                  "0.015959427033933"
                ],
                [
                  "2473",
                  "2018",
                  "Chinese Taipei",
                  "TWN",
                  "Asia",
                  "A",
                  "Manufacture of food products, beverages and tobacco products",
                  "254832.33",
                  "8448.6",
                  "0.0331535641494154",
                  "0.0015416669333168"
                ],
                [
                  "2474",
                  "2018",
                  "Chinese Taipei",
                  "TWN",
                  "Asia",
                  "B",
                  "Manufacture of textiles, wearing apparel, leather and related products",
                  "161641.75",
                  "5359.0",
                  "0.0331535633584763",
                  "0.0015416669333168"
                ],
                [
                  "2475",
                  "2018",
                  "Chinese Taipei",
                  "TWN",
                  "Asia",
                  "C",
                  "Manufacture of wood and of products of wood and cork, except furniture; manufacture of articles of straw and plaiting materials",
                  "13452.55",
                  "446.0",
                  "0.033153565680856",
                  "0.0015416669333168"
                ],
                [
                  "2476",
                  "2018",
                  "Chinese Taipei",
                  "TWN",
                  "Asia",
                  "D",
                  "Manufacture of paper products and printing",
                  "106320.4",
                  "3524.9",
                  "0.0331535622514588",
                  "0.0015416669333168"
                ],
                [
                  "2477",
                  "2018",
                  "Chinese Taipei",
                  "TWN",
                  "Asia",
                  "E",
                  "Manufacture of coke and refined petroleum products",
                  "183714.8",
                  "6090.8",
                  "0.0331535619340412",
                  "0.0015416669333168"
                ],
                [
                  "2478",
                  "2018",
                  "Chinese Taipei",
                  "TWN",
                  "Asia",
                  "F",
                  "Manufacturing of chemicals and pharmaceutical products",
                  "491726.94",
                  "16302.5",
                  "0.0331535628289961",
                  "0.0015416669333168"
                ],
                [
                  "2479",
                  "2018",
                  "Chinese Taipei",
                  "TWN",
                  "Asia",
                  "G",
                  "Manufacture of rubber and plastics products",
                  "185940.8",
                  "6164.6",
                  "0.0331535628544138",
                  "0.0015416669333168"
                ],
                [
                  "2480",
                  "2018",
                  "Chinese Taipei",
                  "TWN",
                  "Asia",
                  "H",
                  "Manufacture of other non-metallic mineral products",
                  "108814.85",
                  "3607.6",
                  "0.0331535631395898",
                  "0.0015416669333168"
                ],
                [
                  "2481",
                  "2018",
                  "Chinese Taipei",
                  "TWN",
                  "Asia",
                  "I",
                  "Manufacture of basic metals",
                  "311517.03",
                  "10327.9",
                  "0.0331535646702846",
                  "0.0015416669333168"
                ],
                [
                  "2482",
                  "2018",
                  "Chinese Taipei",
                  "TWN",
                  "Asia",
                  "J",
                  "Manufacture of fabricated metal products, machinery and equipment",
                  "3178062.5",
                  "105364.1",
                  "0.0331535644752109",
                  "0.0015416669333168"
                ],
                [
                  "2483",
                  "2018",
                  "Chinese Taipei",
                  "TWN",
                  "Asia",
                  "K",
                  "Manufacture of transport equipment",
                  "271071.91",
                  "8987.0",
                  "0.0331535643069767",
                  "0.0015416669333168"
                ],
                [
                  "4709",
                  "2018",
                  "France",
                  "FRA",
                  "Europe",
                  "A",
                  "Manufacture of food products, beverages and tobacco products",
                  "44685.0",
                  "52770.93",
                  "1.180954011413226",
                  "0.1546202879190191"
                ],
                [
                  "4710",
                  "2018",
                  "France",
                  "FRA",
                  "Europe",
                  "B",
                  "Manufacture of textiles, wearing apparel, leather and related products",
                  "5556.0",
                  "6561.38",
                  "1.180953923686105",
                  "0.1546202879190191"
                ],
                [
                  "4711",
                  "2018",
                  "France",
                  "FRA",
                  "Europe",
                  "C",
                  "Manufacture of wood and of products of wood and cork, except furniture; manufacture of articles of straw and plaiting materials",
                  "3057.0",
                  "3610.18",
                  "1.1809551848217206",
                  "0.1546202879190191"
                ],
                [
                  "4712",
                  "2018",
                  "France",
                  "FRA",
                  "Europe",
                  "D",
                  "Manufacture of paper products and printing",
                  "9736.62",
                  "11498.5",
                  "1.1809539655445112",
                  "0.1546202879190191"
                ],
                [
                  "4713",
                  "2018",
                  "France",
                  "FRA",
                  "Europe",
                  "E",
                  "Manufacture of coke and refined petroleum products",
                  "1986.0",
                  "2345.37",
                  "1.18095166163142",
                  "0.1546202879190191"
                ]
              ],
              "shape": {
                "columns": 10,
                "rows": 174
              }
            },
            "text/html": [
              "<div>\n",
              "<style scoped>\n",
              "    .dataframe tbody tr th:only-of-type {\n",
              "        vertical-align: middle;\n",
              "    }\n",
              "\n",
              "    .dataframe tbody tr th {\n",
              "        vertical-align: top;\n",
              "    }\n",
              "\n",
              "    .dataframe thead th {\n",
              "        text-align: right;\n",
              "    }\n",
              "</style>\n",
              "<table border=\"1\" class=\"dataframe\">\n",
              "  <thead>\n",
              "    <tr style=\"text-align: right;\">\n",
              "      <th></th>\n",
              "      <th>Year</th>\n",
              "      <th>Country</th>\n",
              "      <th>ISO3</th>\n",
              "      <th>Continent</th>\n",
              "      <th>Ind Code</th>\n",
              "      <th>Industry</th>\n",
              "      <th>Value (LCU)</th>\n",
              "      <th>Value (USD)</th>\n",
              "      <th>Exchange Rate</th>\n",
              "      <th>Volatility</th>\n",
              "    </tr>\n",
              "  </thead>\n",
              "  <tbody>\n",
              "    <tr>\n",
              "      <th>945</th>\n",
              "      <td>2018</td>\n",
              "      <td>Brazil</td>\n",
              "      <td>BRA</td>\n",
              "      <td>South America</td>\n",
              "      <td>A</td>\n",
              "      <td>Manufacture of food products, beverages and to...</td>\n",
              "      <td>177448.03</td>\n",
              "      <td>48565.00</td>\n",
              "      <td>0.273686</td>\n",
              "      <td>1.017185e-01</td>\n",
              "    </tr>\n",
              "    <tr>\n",
              "      <th>946</th>\n",
              "      <td>2018</td>\n",
              "      <td>Brazil</td>\n",
              "      <td>BRA</td>\n",
              "      <td>South America</td>\n",
              "      <td>B</td>\n",
              "      <td>Manufacture of textiles, wearing apparel, leat...</td>\n",
              "      <td>67882.23</td>\n",
              "      <td>18578.40</td>\n",
              "      <td>0.273686</td>\n",
              "      <td>1.017185e-01</td>\n",
              "    </tr>\n",
              "    <tr>\n",
              "      <th>947</th>\n",
              "      <td>2018</td>\n",
              "      <td>Brazil</td>\n",
              "      <td>BRA</td>\n",
              "      <td>South America</td>\n",
              "      <td>C</td>\n",
              "      <td>Manufacture of wood and of products of wood an...</td>\n",
              "      <td>12896.18</td>\n",
              "      <td>3529.50</td>\n",
              "      <td>0.273686</td>\n",
              "      <td>1.017185e-01</td>\n",
              "    </tr>\n",
              "    <tr>\n",
              "      <th>948</th>\n",
              "      <td>2018</td>\n",
              "      <td>Brazil</td>\n",
              "      <td>BRA</td>\n",
              "      <td>South America</td>\n",
              "      <td>D</td>\n",
              "      <td>Manufacture of paper products and printing</td>\n",
              "      <td>47377.69</td>\n",
              "      <td>12966.60</td>\n",
              "      <td>0.273686</td>\n",
              "      <td>1.017185e-01</td>\n",
              "    </tr>\n",
              "    <tr>\n",
              "      <th>949</th>\n",
              "      <td>2018</td>\n",
              "      <td>Brazil</td>\n",
              "      <td>BRA</td>\n",
              "      <td>South America</td>\n",
              "      <td>E</td>\n",
              "      <td>Manufacture of coke and refined petroleum prod...</td>\n",
              "      <td>102434.63</td>\n",
              "      <td>28034.90</td>\n",
              "      <td>0.273686</td>\n",
              "      <td>1.017185e-01</td>\n",
              "    </tr>\n",
              "    <tr>\n",
              "      <th>...</th>\n",
              "      <td>...</td>\n",
              "      <td>...</td>\n",
              "      <td>...</td>\n",
              "      <td>...</td>\n",
              "      <td>...</td>\n",
              "      <td>...</td>\n",
              "      <td>...</td>\n",
              "      <td>...</td>\n",
              "      <td>...</td>\n",
              "      <td>...</td>\n",
              "    </tr>\n",
              "    <tr>\n",
              "      <th>13478</th>\n",
              "      <td>2018</td>\n",
              "      <td>United States</td>\n",
              "      <td>USA</td>\n",
              "      <td>North America</td>\n",
              "      <td>H</td>\n",
              "      <td>Manufacture of other non-metallic mineral prod...</td>\n",
              "      <td>65185.24</td>\n",
              "      <td>65185.24</td>\n",
              "      <td>1.000000</td>\n",
              "      <td>4.330824e-08</td>\n",
              "    </tr>\n",
              "    <tr>\n",
              "      <th>13479</th>\n",
              "      <td>2018</td>\n",
              "      <td>United States</td>\n",
              "      <td>USA</td>\n",
              "      <td>North America</td>\n",
              "      <td>I</td>\n",
              "      <td>Manufacture of basic metals</td>\n",
              "      <td>80279.76</td>\n",
              "      <td>80279.76</td>\n",
              "      <td>1.000000</td>\n",
              "      <td>4.330824e-08</td>\n",
              "    </tr>\n",
              "    <tr>\n",
              "      <th>13480</th>\n",
              "      <td>2018</td>\n",
              "      <td>United States</td>\n",
              "      <td>USA</td>\n",
              "      <td>North America</td>\n",
              "      <td>J</td>\n",
              "      <td>Manufacture of fabricated metal products, mach...</td>\n",
              "      <td>685707.06</td>\n",
              "      <td>685707.06</td>\n",
              "      <td>1.000000</td>\n",
              "      <td>4.330824e-08</td>\n",
              "    </tr>\n",
              "    <tr>\n",
              "      <th>13481</th>\n",
              "      <td>2018</td>\n",
              "      <td>United States</td>\n",
              "      <td>USA</td>\n",
              "      <td>North America</td>\n",
              "      <td>K</td>\n",
              "      <td>Manufacture of transport equipment</td>\n",
              "      <td>308436.50</td>\n",
              "      <td>308436.47</td>\n",
              "      <td>1.000000</td>\n",
              "      <td>4.330824e-08</td>\n",
              "    </tr>\n",
              "    <tr>\n",
              "      <th>13482</th>\n",
              "      <td>2018</td>\n",
              "      <td>United States</td>\n",
              "      <td>USA</td>\n",
              "      <td>North America</td>\n",
              "      <td>L</td>\n",
              "      <td>Manufacture of furniture, other manufacturing</td>\n",
              "      <td>120904.19</td>\n",
              "      <td>120904.19</td>\n",
              "      <td>1.000000</td>\n",
              "      <td>4.330824e-08</td>\n",
              "    </tr>\n",
              "  </tbody>\n",
              "</table>\n",
              "<p>174 rows × 10 columns</p>\n",
              "</div>"
            ],
            "text/plain": [
              "       Year        Country ISO3      Continent Ind Code  \\\n",
              "945    2018         Brazil  BRA  South America        A   \n",
              "946    2018         Brazil  BRA  South America        B   \n",
              "947    2018         Brazil  BRA  South America        C   \n",
              "948    2018         Brazil  BRA  South America        D   \n",
              "949    2018         Brazil  BRA  South America        E   \n",
              "...     ...            ...  ...            ...      ...   \n",
              "13478  2018  United States  USA  North America        H   \n",
              "13479  2018  United States  USA  North America        I   \n",
              "13480  2018  United States  USA  North America        J   \n",
              "13481  2018  United States  USA  North America        K   \n",
              "13482  2018  United States  USA  North America        L   \n",
              "\n",
              "                                                Industry  Value (LCU)  \\\n",
              "945    Manufacture of food products, beverages and to...    177448.03   \n",
              "946    Manufacture of textiles, wearing apparel, leat...     67882.23   \n",
              "947    Manufacture of wood and of products of wood an...     12896.18   \n",
              "948           Manufacture of paper products and printing     47377.69   \n",
              "949    Manufacture of coke and refined petroleum prod...    102434.63   \n",
              "...                                                  ...          ...   \n",
              "13478  Manufacture of other non-metallic mineral prod...     65185.24   \n",
              "13479                        Manufacture of basic metals     80279.76   \n",
              "13480  Manufacture of fabricated metal products, mach...    685707.06   \n",
              "13481                 Manufacture of transport equipment    308436.50   \n",
              "13482      Manufacture of furniture, other manufacturing    120904.19   \n",
              "\n",
              "       Value (USD)  Exchange Rate    Volatility  \n",
              "945       48565.00       0.273686  1.017185e-01  \n",
              "946       18578.40       0.273686  1.017185e-01  \n",
              "947        3529.50       0.273686  1.017185e-01  \n",
              "948       12966.60       0.273686  1.017185e-01  \n",
              "949       28034.90       0.273686  1.017185e-01  \n",
              "...            ...            ...           ...  \n",
              "13478     65185.24       1.000000  4.330824e-08  \n",
              "13479     80279.76       1.000000  4.330824e-08  \n",
              "13480    685707.06       1.000000  4.330824e-08  \n",
              "13481    308436.47       1.000000  4.330824e-08  \n",
              "13482    120904.19       1.000000  4.330824e-08  \n",
              "\n",
              "[174 rows x 10 columns]"
            ]
          },
          "execution_count": 18,
          "metadata": {},
          "output_type": "execute_result"
        }
      ],
      "source": [
        "# Aggregate the data by country to get the total USD value for each country\n",
        "country_aggregated = df_eng_final_2018.groupby('Country')['Value (USD)'].sum().reset_index()\n",
        "\n",
        "# Sort the countries by the total USD value in descending order and select the top 10\n",
        "top_15_countries = country_aggregated.sort_values(by='Value (USD)', ascending=False).head(15)['Country']\n",
        "\n",
        "# Filter df_eng_final_2018 to include only the top 10 countries\n",
        "df_15 = df_eng_final_2018[df_eng_final_2018['Country'].isin(top_15_countries)]\n",
        "\n",
        "# Display the filtered dataframe\n",
        "df_15"
      ]
    },
    {
      "cell_type": "code",
      "execution_count": 19,
      "metadata": {},
      "outputs": [
        {
          "data": {
            "text/plain": [
              "array(['Brazil', 'Canada', 'China', 'Chinese Taipei', 'France', 'Germany',\n",
              "       'India', 'Indonesia', 'Italy', 'Japan', 'Korea', 'Mexico',\n",
              "       'Russian Federation', 'Spain', 'United States'], dtype=object)"
            ]
          },
          "execution_count": 19,
          "metadata": {},
          "output_type": "execute_result"
        }
      ],
      "source": [
        "# Check the countries in the filtered dataframe\n",
        "df_15['Country'].unique()"
      ]
    },
    {
      "cell_type": "markdown",
      "metadata": {},
      "source": [
        "Before we move on, let us check whether we have the latest information on the countries above. If not then we shall proceed with the 2018 data and add a disclaimer in our evaluation that the data is not the very latest."
      ]
    },
    {
      "cell_type": "code",
      "execution_count": 21,
      "metadata": {},
      "outputs": [
        {
          "name": "stdout",
          "output_type": "stream",
          "text": [
            "Top 15 countries for 2018: ['China' 'United States' 'Japan' 'Germany' 'Korea' 'India' 'Italy'\n",
            " 'France' 'Brazil' 'Mexico' 'Russian Federation' 'Indonesia'\n",
            " 'Chinese Taipei' 'Canada' 'Spain']\n",
            "----------------------------------------------------------------\n",
            "Top 15 countries for 2019: ['United States' 'Japan' 'Germany' 'Italy' 'France' 'Mexico'\n",
            " 'Russian Federation' 'Spain' 'Netherlands' 'Poland' 'Austria' 'Belgium'\n",
            " 'Sweden' 'Czech Republic' 'Denmark']\n",
            "----------------------------------------------------------------\n",
            "Top 15 countries for 2020: ['United States' 'Japan' 'Germany' 'Italy' 'France' 'Russian Federation'\n",
            " 'Mexico' 'Netherlands' 'Austria' 'Belgium' 'Czech Republic' 'Denmark'\n",
            " 'Romania' 'Finland' 'Hungary']\n",
            "----------------------------------------------------------------\n",
            "Top 15 countries for 2021: ['United States' 'France' 'Italy' 'Austria' 'Czech Republic' 'Denmark'\n",
            " 'Finland' 'Belgium' 'Hungary' 'Ireland' 'Greece' 'Slovenia' 'Estonia'\n",
            " 'Malta']\n",
            "----------------------------------------------------------------\n"
          ]
        }
      ],
      "source": [
        "def print_top_15_countries(df, years):\n",
        "    for year in years:\n",
        "        # Filter the data for the given year\n",
        "        df_year = df[df['Year'] == year]\n",
        "        \n",
        "        # Aggregate the data by country to get the total USD value for each country\n",
        "        country_aggregated = df_year.groupby('Country')['Value (USD)'].sum().reset_index()\n",
        "        \n",
        "        # Sort the countries by the total USD value in descending order and select the top 15\n",
        "        top_15_countries = country_aggregated.sort_values(by='Value (USD)', ascending=False).head(15)['Country'].values\n",
        "\n",
        "        # Print the top 15 countries for the given year\n",
        "        print(f\"Top 15 countries for {year}: {top_15_countries}\")\n",
        "        print('----------------------------------------------------------------')\n",
        "\n",
        "# Example usage\n",
        "years = [2018, 2019, 2020, 2021]  # Replace with the years you want to analyze\n",
        "print_top_15_countries(df_eng_final, years)\n"
      ]
    },
    {
      "cell_type": "markdown",
      "metadata": {},
      "source": [
        "As you can see, we don't have the latest data for China, Japan and Germany. Since these countries are essential in our data, we shall move forward with the 2018 data."
      ]
    },
    {
      "cell_type": "markdown",
      "metadata": {
        "id": "ZY3l0-AxO93d"
      },
      "source": [
        "---"
      ]
    },
    {
      "cell_type": "markdown",
      "metadata": {
        "id": "uFQo3ycuO-v6"
      },
      "source": [
        "# Further EDA"
      ]
    },
    {
      "cell_type": "markdown",
      "metadata": {},
      "source": [
        "Now that we have our countries, we want to analyse the industries themselves to see how they differ from each country and which ones have the highest value"
      ]
    },
    {
      "cell_type": "code",
      "execution_count": null,
      "metadata": {},
      "outputs": [],
      "source": [
        "# sunbust chart for the top 15 countries in 2018 with industry breakdown\n",
        "fig = px.sunburst(data_frame=df_15, path=['Country', 'Ind Code'], values='Value (USD)', color='Value (USD)', hover_name='Ind Code')\n",
        "fig.show()"
      ]
    },
    {
      "cell_type": "code",
      "execution_count": null,
      "metadata": {},
      "outputs": [],
      "source": [
        "# Tree chart for the top 15 countries in 2018 with industry breakdown\n",
        "fig = px.treemap(data_frame=df_15, path=['Country', 'Ind Code'], values='Value (USD)', color='Value (USD)', hover_name='Ind Code')\n",
        "fig.show()"
      ]
    },
    {
      "cell_type": "code",
      "execution_count": null,
      "metadata": {},
      "outputs": [],
      "source": [
        "industry_ref"
      ]
    },
    {
      "cell_type": "markdown",
      "metadata": {},
      "source": [
        "As we can clearly see, the Manufacture of fabricated metal products, machinery and equipment (J) has the highest value in most of the top countries by a significant margin. The other top industries in general order are:\n",
        "\n",
        "- Manufacture of Transport equipment (K)\n",
        "- Manfacture of food products, beverages and tobacco products (A)\n",
        "- Manufacturing of chemicals and pharmaceutical products (F)\n",
        "- Manufacture of basic metals (I)\n",
        "\n",
        "Lets have a look at these 5 and see how they have developed over the years."
      ]
    },
    {
      "cell_type": "code",
      "execution_count": null,
      "metadata": {},
      "outputs": [],
      "source": [
        "# Filter the data for the required Ind Codes\n",
        "ind_codes = ['J', 'K', 'A', 'F', 'I']\n",
        "filtered_df = df_eng_curr[df_eng_curr['Ind Code'].isin(ind_codes)]\n",
        "\n",
        "# Create a time series plot for each Ind Code using plotly\n",
        "for ind_code in ind_codes:\n",
        "    industry = filtered_df[filtered_df['Ind Code'] == ind_code]['Industry'].unique()[0]\n",
        "    fig = px.line(filtered_df[filtered_df['Ind Code'] == ind_code], x='Year', y='Value (USD)', color='Country',\n",
        "                  title=f'Time Series of Value (million USD) for the {industry} industry')\n",
        "    fig.show()\n"
      ]
    },
    {
      "cell_type": "markdown",
      "metadata": {},
      "source": [
        "Looking at the graphs, we can see that China has grown significantly and consistently from the year 2000 in the 5 industries we've filtered, to the point where it is the market leader in all 5 by a long margin, even overtaking the USA. The manufacturing of facbricated metals and machine equipment is by far its strongest industry. Other than the USA which has shown some growth among the industries, the other countries have had comparively little to no growth and have remained stagnant. Countries like Japan have actually declined in some industries over the years like in the manufacture of transport equipment.  "
      ]
    },
    {
      "cell_type": "markdown",
      "metadata": {},
      "source": [
        "---"
      ]
    }
  ],
  "metadata": {
    "accelerator": "GPU",
    "colab": {
      "name": "Data Practitioner Jupyter Notebook.ipynb",
      "provenance": [],
      "toc_visible": true
    },
    "kernelspec": {
      "display_name": ".venv",
      "language": "python",
      "name": "python3"
    },
    "language_info": {
      "codemirror_mode": {
        "name": "ipython",
        "version": 3
      },
      "file_extension": ".py",
      "mimetype": "text/x-python",
      "name": "python",
      "nbconvert_exporter": "python",
      "pygments_lexer": "ipython3",
      "version": "3.12.8"
    },
    "orig_nbformat": 2
  },
  "nbformat": 4,
  "nbformat_minor": 2
}
