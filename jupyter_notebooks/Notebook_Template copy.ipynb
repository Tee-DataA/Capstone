{
  "cells": [
    {
      "cell_type": "markdown",
      "metadata": {
        "id": "0aStgWSO0E0E"
      },
      "source": [
        "# **Outliers and Feature Engineering**"
      ]
    },
    {
      "cell_type": "markdown",
      "metadata": {
        "id": "1eLEkw5O0ECa"
      },
      "source": [
        "## Objectives\n",
        "\n",
        "* Will take the cleaned dataset and check if there are any outliers for each country. Will also make a new dataframe that has the average rate of increase for each country\n",
        "\n",
        "## Inputs\n",
        "\n",
        "* cleaned_data.csv \n",
        "\n",
        "## Outputs\n",
        "\n",
        "* Write here which files, code or artefacts you generate by the end of the notebook \n",
        "\n",
        "## Additional Comments\n",
        "\n",
        "* If you have any additional comments that don't fit in the previous bullets, please state them here. \n",
        "\n"
      ]
    },
    {
      "cell_type": "markdown",
      "metadata": {
        "id": "9uWZXH9LwoQg"
      },
      "source": [
        "---"
      ]
    },
    {
      "cell_type": "markdown",
      "metadata": {
        "id": "cqP-UeN-z3i2"
      },
      "source": [
        "# Change working directory"
      ]
    },
    {
      "cell_type": "markdown",
      "metadata": {},
      "source": [
        "* We are assuming you will store the notebooks in a subfolder, therefore when running the notebook in the editor, you will need to change the working directory"
      ]
    },
    {
      "cell_type": "markdown",
      "metadata": {
        "id": "aOGIGS-uz3i2"
      },
      "source": [
        "We need to change the working directory from its current folder to its parent folder\n",
        "* We access the current directory with os.getcwd()"
      ]
    },
    {
      "cell_type": "code",
      "execution_count": 1,
      "metadata": {
        "id": "wZfF_j-Bz3i4",
        "outputId": "66943449-1436-4c3d-85c7-b85f9f78349b"
      },
      "outputs": [
        {
          "data": {
            "text/plain": [
              "'c:\\\\Users\\\\sayed\\\\OneDrive\\\\Documents\\\\Code institute\\\\Capstone\\\\Capstone\\\\jupyter_notebooks'"
            ]
          },
          "execution_count": 1,
          "metadata": {},
          "output_type": "execute_result"
        }
      ],
      "source": [
        "import os\n",
        "current_dir = os.getcwd()\n",
        "current_dir"
      ]
    },
    {
      "cell_type": "markdown",
      "metadata": {
        "id": "9MWW8E7lz3i7"
      },
      "source": [
        "We want to make the parent of the current directory the new current directory\n",
        "* os.path.dirname() gets the parent directory\n",
        "* os.chir() defines the new current directory"
      ]
    },
    {
      "cell_type": "code",
      "execution_count": 2,
      "metadata": {
        "id": "TwHsQRWjz3i9",
        "outputId": "86849db3-cd2f-4cc5-ebb8-2d0caafa1a2c"
      },
      "outputs": [
        {
          "name": "stdout",
          "output_type": "stream",
          "text": [
            "You set a new current directory\n"
          ]
        }
      ],
      "source": [
        "os.chdir(os.path.dirname(current_dir))\n",
        "print(\"You set a new current directory\")"
      ]
    },
    {
      "cell_type": "markdown",
      "metadata": {
        "id": "M_xPk_Ijz3i-"
      },
      "source": [
        "Confirm the new current directory"
      ]
    },
    {
      "cell_type": "code",
      "execution_count": 3,
      "metadata": {
        "id": "vz3S-_kjz3jA",
        "outputId": "00b79ae4-75d0-4a96-d193-ac9ef9847ea2"
      },
      "outputs": [
        {
          "data": {
            "text/plain": [
              "'c:\\\\Users\\\\sayed\\\\OneDrive\\\\Documents\\\\Code institute\\\\Capstone\\\\Capstone'"
            ]
          },
          "execution_count": 3,
          "metadata": {},
          "output_type": "execute_result"
        }
      ],
      "source": [
        "current_dir = os.getcwd()\n",
        "current_dir"
      ]
    },
    {
      "cell_type": "code",
      "execution_count": 33,
      "metadata": {},
      "outputs": [],
      "source": [
        "# Import libraries\n",
        "import pandas as pd\n",
        "import numpy as np\n",
        "import matplotlib.pyplot as plt\n",
        "import seaborn as sns"
      ]
    },
    {
      "cell_type": "code",
      "execution_count": null,
      "metadata": {},
      "outputs": [
        {
          "name": "stdout",
          "output_type": "stream",
          "text": [
            "  Country ISO3    Country  Year ISIC Division  \\\n",
            "0          ARG  Argentina  2000         10-12   \n",
            "1          ARG  Argentina  2000         13-15   \n",
            "2          ARG  Argentina  2000            16   \n",
            "3          ARG  Argentina  2000         17-18   \n",
            "4          ARG  Argentina  2000            19   \n",
            "\n",
            "                                  ISIC Division Desc         Measure  \\\n",
            "0  Manufacture of food products, beverages and to...  Current prices   \n",
            "1  Manufacture of textiles, wearing apparel, leat...  Current prices   \n",
            "2  Manufacture of wood and of products of wood an...  Current prices   \n",
            "3         Manufacture of paper products and printing  Current prices   \n",
            "4  Manufacture of coke and refined petroleum prod...  Current prices   \n",
            "\n",
            "   Value LCU (million national currency)  Value USD (million USD)  \n",
            "0                               16986.10                  16994.6  \n",
            "1                                5944.13                   5947.1  \n",
            "2                                1551.72                   1552.5  \n",
            "3                                4567.81                   4570.1  \n",
            "4                                2938.13                   2939.6  \n"
          ]
        }
      ],
      "source": [
        "# Load the cleaned data\n",
        "cleaned_data_path = 'c:\\\\Users\\\\sayed\\\\OneDrive\\\\Documents\\\\Code institute\\\\Capstone\\\\Capstone\\\\cleaned_data.csv'\n",
        "cleaned_data = pd.read_csv(cleaned_data_path)\n",
        "\n",
        "# Display the first few rows of the dataframe\n",
        "print(cleaned_data.head())"
      ]
    },
    {
      "cell_type": "markdown",
      "metadata": {
        "id": "ZY3l0-AxO93d"
      },
      "source": [
        "---"
      ]
    },
    {
      "cell_type": "markdown",
      "metadata": {},
      "source": [
        "## Feature engineering"
      ]
    },
    {
      "cell_type": "markdown",
      "metadata": {},
      "source": [
        "Now let us adjust some of the column names we have to make it easier for our analysis. We want to change ISO3 to 'Country code', 'ISIC Division' to 'Div Code', and 'ISIC Division description' to 'Division'"
      ]
    },
    {
      "cell_type": "code",
      "execution_count": 25,
      "metadata": {},
      "outputs": [
        {
          "name": "stdout",
          "output_type": "stream",
          "text": [
            "  Country Code    Country  Year Ind Code  \\\n",
            "0          ARG  Argentina  2000    10-12   \n",
            "1          ARG  Argentina  2000    13-15   \n",
            "2          ARG  Argentina  2000       16   \n",
            "3          ARG  Argentina  2000    17-18   \n",
            "4          ARG  Argentina  2000       19   \n",
            "\n",
            "                                            Industry         Measure  \\\n",
            "0  Manufacture of food products, beverages and to...  Current prices   \n",
            "1  Manufacture of textiles, wearing apparel, leat...  Current prices   \n",
            "2  Manufacture of wood and of products of wood an...  Current prices   \n",
            "3         Manufacture of paper products and printing  Current prices   \n",
            "4  Manufacture of coke and refined petroleum prod...  Current prices   \n",
            "\n",
            "   Value LCU (million national currency)  Value USD (million USD)  \n",
            "0                               16986.10                  16994.6  \n",
            "1                                5944.13                   5947.1  \n",
            "2                                1551.72                   1552.5  \n",
            "3                                4567.81                   4570.1  \n",
            "4                                2938.13                   2939.6  \n"
          ]
        }
      ],
      "source": [
        "# Rename columns\n",
        "cleaned_data.rename(columns={\n",
        "    'Country ISO3': 'Country Code',\n",
        "    'ISIC Division': 'Ind Code',\n",
        "    'ISIC Division Desc': 'Industry'\n",
        "}, inplace=True)\n",
        "\n",
        "print(cleaned_data.head())"
      ]
    },
    {
      "cell_type": "markdown",
      "metadata": {},
      "source": [
        "We noticed earlier that the 'Value' column had some negative values. This is fine in the context of our project as could indicate a few things: \n",
        "\n",
        "- A country is importing more than it is exporting\n",
        "- A decline in that industry leading to losses i.e. negative growth\n",
        "- Losses occured by foreign owned business in that industry. "
      ]
    },
    {
      "cell_type": "code",
      "execution_count": 28,
      "metadata": {},
      "outputs": [
        {
          "name": "stdout",
          "output_type": "stream",
          "text": [
            "['Manufacture of food products, beverages and tobacco products'\n",
            " 'Manufacture of textiles, wearing apparel, leather and related products'\n",
            " 'Manufacture of wood and of products of wood and cork, except furniture; manufacture of articles of straw and plaiting materials'\n",
            " 'Manufacture of paper products and printing'\n",
            " 'Manufacture of coke and refined petroleum products'\n",
            " 'Manufacturing of chemicals and pharmaceutical products'\n",
            " 'Manufacture of rubber and plastics products'\n",
            " 'Manufacture of other non-metallic mineral products'\n",
            " 'Manufacture of basic metals'\n",
            " 'Manufacture of fabricated metal products, machinery and equipment'\n",
            " 'Manufacture of transport equipment'\n",
            " 'Manufacture of furniture, other manufacturing']\n"
          ]
        }
      ],
      "source": [
        "unique_measures = cleaned_data['Industry'].unique()\n",
        "print(unique_measures)"
      ]
    },
    {
      "cell_type": "markdown",
      "metadata": {},
      "source": [
        "Looking at the data, there isn't any obvious short form words or abbreviations I can use to describe each industry so I will just be using the letters A-L, and the user can refer to a reference list to see what each letter represents"
      ]
    },
    {
      "cell_type": "code",
      "execution_count": 29,
      "metadata": {},
      "outputs": [
        {
          "name": "stdout",
          "output_type": "stream",
          "text": [
            "['10-12' '13-15' '16' '17-18' '19' '20-21' '22' '23' '24' '25-28' '29-30'\n",
            " '31-32']\n"
          ]
        }
      ],
      "source": [
        "unique_measures = cleaned_data['Ind Code'].unique()\n",
        "print(unique_measures)"
      ]
    },
    {
      "cell_type": "code",
      "execution_count": 30,
      "metadata": {},
      "outputs": [
        {
          "name": "stdout",
          "output_type": "stream",
          "text": [
            "  Country Code    Country  Year Ind Code  \\\n",
            "0          ARG  Argentina  2000        A   \n",
            "1          ARG  Argentina  2000        B   \n",
            "2          ARG  Argentina  2000        C   \n",
            "3          ARG  Argentina  2000        D   \n",
            "4          ARG  Argentina  2000        E   \n",
            "\n",
            "                                            Industry         Measure  \\\n",
            "0  Manufacture of food products, beverages and to...  Current prices   \n",
            "1  Manufacture of textiles, wearing apparel, leat...  Current prices   \n",
            "2  Manufacture of wood and of products of wood an...  Current prices   \n",
            "3         Manufacture of paper products and printing  Current prices   \n",
            "4  Manufacture of coke and refined petroleum prod...  Current prices   \n",
            "\n",
            "   Value LCU (million national currency)  Value USD (million USD)  \n",
            "0                               16986.10                  16994.6  \n",
            "1                                5944.13                   5947.1  \n",
            "2                                1551.72                   1552.5  \n",
            "3                                4567.81                   4570.1  \n",
            "4                                2938.13                   2939.6  \n"
          ]
        }
      ],
      "source": [
        "# Mapping dictionary\n",
        "ind_code_mapping = {\n",
        "    '10-12': 'A',\n",
        "    '13-15': 'B',\n",
        "    '16': 'C',\n",
        "    '17-18': 'D',\n",
        "    '19': 'E',\n",
        "    '20-21': 'F',\n",
        "    '22': 'G',\n",
        "    '23': 'H',\n",
        "    '24': 'I',\n",
        "    '25-28': 'J',\n",
        "    '29-30': 'K',\n",
        "    '31-32': 'L'\n",
        "}\n",
        "\n",
        "# Replace 'Div Code' values\n",
        "cleaned_data['Ind Code'] = cleaned_data['Ind Code'].replace(ind_code_mapping)\n",
        "\n",
        "print(cleaned_data.head())"
      ]
    },
    {
      "cell_type": "code",
      "execution_count": 31,
      "metadata": {},
      "outputs": [
        {
          "name": "stdout",
          "output_type": "stream",
          "text": [
            "['A' 'B' 'C' 'D' 'E' 'F' 'G' 'H' 'I' 'J' 'K' 'L']\n"
          ]
        }
      ],
      "source": [
        "unique_measures = cleaned_data['Ind Code'].unique()\n",
        "print(unique_measures)"
      ]
    },
    {
      "cell_type": "markdown",
      "metadata": {},
      "source": [
        "---"
      ]
    },
    {
      "cell_type": "markdown",
      "metadata": {},
      "source": [
        "Next let us make a new dataframe which has the growth rate for each industry in each country in both percentage and in currency format"
      ]
    },
    {
      "cell_type": "code",
      "execution_count": 32,
      "metadata": {},
      "outputs": [
        {
          "name": "stdout",
          "output_type": "stream",
          "text": [
            "  Country Code Ind Code  Percentage Growth  \\\n",
            "0          ARG        A           5.282971   \n",
            "1          ARG        B           1.624143   \n",
            "2          ARG        C           0.857627   \n",
            "3          ARG        D           3.276011   \n",
            "4          ARG        E           3.821795   \n",
            "\n",
            "   Value LCU (million national currency)  Value USD (million USD)  \n",
            "0                          161984.815789             20946.710526  \n",
            "1                           37215.919474              5555.289474  \n",
            "2                            7718.663158              1187.010526  \n",
            "3                           32528.681579              4534.084211  \n",
            "4                           23140.300000              3220.352632  \n"
          ]
        }
      ],
      "source": [
        "# Calculate the average growth rate for each industry in each country\n",
        "growth_data = cleaned_data.copy()\n",
        "\n",
        "# Calculate the percentage growth\n",
        "growth_data['Percentage Growth'] = growth_data.groupby(['Country Code', 'Ind Code'])['Value USD (million USD)'].pct_change() * 100\n",
        "\n",
        "# Calculate the average growth rate in percentage\n",
        "avg_growth_percentage = growth_data.groupby(['Country Code', 'Ind Code'])['Percentage Growth'].mean().reset_index()\n",
        "\n",
        "# Calculate the average growth rate in Value LCU and Value USD\n",
        "avg_growth_value = growth_data.groupby(['Country Code', 'Ind Code'])[['Value LCU (million national currency)', 'Value USD (million USD)']].mean().reset_index()\n",
        "\n",
        "# Merge the dataframes\n",
        "avg_growth = pd.merge(avg_growth_percentage, avg_growth_value, on=['Country Code', 'Ind Code'])\n",
        "\n",
        "# Display the result\n",
        "print(avg_growth.head())"
      ]
    },
    {
      "cell_type": "code",
      "execution_count": 35,
      "metadata": {},
      "outputs": [
        {
          "data": {
            "image/png": "[encoded data removed]",
            "text/plain": [
              "<Figure size 1200x600 with 1 Axes>"
            ]
          },
          "metadata": {},
          "output_type": "display_data"
        }
      ],
      "source": [
        "# Filter the data for the first 2 countries\n",
        "first_2_countries = growth_data[growth_data['Country Code'].isin(first_3_codes[:2])]\n",
        "\n",
        "# Plot the data\n",
        "plt.figure(figsize=(12, 6))\n",
        "for country in first_2_countries['Country Code'].unique():\n",
        "    country_data = first_2_countries[first_2_countries['Country Code'] == country]\n",
        "    plt.bar(country_data['Ind Code'], country_data['Percentage Growth'], label=country)\n",
        "\n",
        "plt.xlabel('Industry Code')\n",
        "plt.ylabel('Percentage Growth')\n",
        "plt.title('Percentage Growth by Industry for the First 2 Countries')\n",
        "plt.legend()\n",
        "plt.show()"
      ]
    },
    {
      "cell_type": "code",
      "execution_count": null,
      "metadata": {},
      "outputs": [],
      "source": []
    }
  ],
  "metadata": {
    "accelerator": "GPU",
    "colab": {
      "name": "Data Practitioner Jupyter Notebook.ipynb",
      "provenance": [],
      "toc_visible": true
    },
    "kernelspec": {
      "display_name": ".venv",
      "language": "python",
      "name": "python3"
    },
    "language_info": {
      "codemirror_mode": {
        "name": "ipython",
        "version": 3
      },
      "file_extension": ".py",
      "mimetype": "text/x-python",
      "name": "python",
      "nbconvert_exporter": "python",
      "pygments_lexer": "ipython3",
      "version": "3.12.8"
    },
    "orig_nbformat": 2
  },
  "nbformat": 4,
  "nbformat_minor": 2
}
