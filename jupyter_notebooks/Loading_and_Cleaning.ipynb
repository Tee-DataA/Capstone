{
  "cells": [
    {
      "cell_type": "markdown",
      "metadata": {
        "id": "0aStgWSO0E0E"
      },
      "source": [
        "#  Data Import and Cleaning"
      ]
    },
    {
      "cell_type": "markdown",
      "metadata": {
        "id": "9uWZXH9LwoQg"
      },
      "source": [
        "---"
      ]
    },
    {
      "cell_type": "markdown",
      "metadata": {
        "id": "cqP-UeN-z3i2"
      },
      "source": [
        "## Change working directory"
      ]
    },
    {
      "cell_type": "markdown",
      "metadata": {
        "id": "aOGIGS-uz3i2"
      },
      "source": [
        "We need to change the working directory from its current folder to its parent folder\n",
        "* We access the current directory with os.getcwd()"
      ]
    },
    {
      "cell_type": "code",
      "execution_count": 1,
      "metadata": {
        "id": "wZfF_j-Bz3i4",
        "outputId": "66943449-1436-4c3d-85c7-b85f9f78349b"
      },
      "outputs": [
        {
          "data": {
            "text/plain": [
              "'c:\\\\Users\\\\sayed\\\\OneDrive\\\\Documents\\\\Code institute\\\\Capstone\\\\Capstone\\\\jupyter_notebooks'"
            ]
          },
          "execution_count": 1,
          "metadata": {},
          "output_type": "execute_result"
        }
      ],
      "source": [
        "import os\n",
        "current_dir = os.getcwd()\n",
        "current_dir"
      ]
    },
    {
      "cell_type": "markdown",
      "metadata": {
        "id": "9MWW8E7lz3i7"
      },
      "source": [
        "We want to make the parent of the current directory the new current directory\n",
        "* os.path.dirname() gets the parent directory\n",
        "* os.chir() defines the new current directory"
      ]
    },
    {
      "cell_type": "code",
      "execution_count": 2,
      "metadata": {
        "id": "TwHsQRWjz3i9",
        "outputId": "86849db3-cd2f-4cc5-ebb8-2d0caafa1a2c"
      },
      "outputs": [
        {
          "name": "stdout",
          "output_type": "stream",
          "text": [
            "You set a new current directory\n"
          ]
        }
      ],
      "source": [
        "os.chdir(os.path.dirname(current_dir))\n",
        "print(\"You set a new current directory\")"
      ]
    },
    {
      "cell_type": "markdown",
      "metadata": {
        "id": "M_xPk_Ijz3i-"
      },
      "source": [
        "Confirm the new current directory"
      ]
    },
    {
      "cell_type": "code",
      "execution_count": 3,
      "metadata": {
        "id": "vz3S-_kjz3jA",
        "outputId": "00b79ae4-75d0-4a96-d193-ac9ef9847ea2"
      },
      "outputs": [
        {
          "data": {
            "text/plain": [
              "'c:\\\\Users\\\\sayed\\\\OneDrive\\\\Documents\\\\Code institute\\\\Capstone\\\\Capstone'"
            ]
          },
          "execution_count": 3,
          "metadata": {},
          "output_type": "execute_result"
        }
      ],
      "source": [
        "current_dir = os.getcwd()\n",
        "current_dir"
      ]
    },
    {
      "cell_type": "markdown",
      "metadata": {
        "id": "-mavJ8DibrcQ"
      },
      "source": [
        "# Loading Dataset"
      ]
    },
    {
      "cell_type": "markdown",
      "metadata": {},
      "source": [
        "We will import the necessary libraries needed in this notebook"
      ]
    },
    {
      "cell_type": "code",
      "execution_count": 4,
      "metadata": {},
      "outputs": [],
      "source": [
        "import pandas as pd\n",
        "import numpy as np"
      ]
    },
    {
      "cell_type": "markdown",
      "metadata": {},
      "source": [
        "Next we load the dataset"
      ]
    },
    {
      "cell_type": "code",
      "execution_count": 5,
      "metadata": {},
      "outputs": [
        {
          "name": "stdout",
          "output_type": "stream",
          "text": [
            "  Country ISO3 Country  Year ISIC Division  \\\n",
            "0          NaN   ASEAN  2000         10-12   \n",
            "1          NaN   ASEAN  2000         13-15   \n",
            "2          NaN   ASEAN  2000            16   \n",
            "3          NaN   ASEAN  2000         17-18   \n",
            "4          NaN   ASEAN  2000            19   \n",
            "\n",
            "                                  ISIC Division Desc         Measure  Method  \\\n",
            "0  Manufacture of food products, beverages and to...  Current prices  Source   \n",
            "1  Manufacture of textiles, wearing apparel, leat...  Current prices  Source   \n",
            "2  Manufacture of wood and of products of wood an...  Current prices  Source   \n",
            "3         Manufacture of paper products and printing  Current prices  Source   \n",
            "4  Manufacture of coke and refined petroleum prod...  Current prices  Source   \n",
            "\n",
            "   Value LCU (million national currency)  Value USD (million USD)  \n",
            "0                                    0.0                  27994.1  \n",
            "1                                    0.0                  15065.1  \n",
            "2                                    0.0                   3053.9  \n",
            "3                                    0.0                   4702.5  \n",
            "4                                    0.0                  13710.3  \n"
          ]
        }
      ],
      "source": [
        "# Load the IEA energy values added CSV from the current directory\n",
        "file_path = 'IEA_Energy_ValueAdded.csv'\n",
        "df_raw = pd.read_csv(file_path)\n",
        "print(df_raw.head())"
      ]
    },
    {
      "cell_type": "code",
      "execution_count": 6,
      "metadata": {},
      "outputs": [
        {
          "data": {
            "application/vnd.microsoft.datawrangler.viewer.v0+json": {
              "columns": [
                {
                  "name": "index",
                  "rawType": "object",
                  "type": "string"
                },
                {
                  "name": "Year",
                  "rawType": "float64",
                  "type": "float"
                },
                {
                  "name": "Value LCU (million national currency)",
                  "rawType": "float64",
                  "type": "float"
                },
                {
                  "name": "Value USD (million USD)",
                  "rawType": "float64",
                  "type": "float"
                }
              ],
              "conversionMethod": "pd.DataFrame",
              "ref": "098aa374-d5a2-43fd-868b-6a02c3b32d97",
              "rows": [
                [
                  "count",
                  "27122.0",
                  "27046.0",
                  "27046.0"
                ],
                [
                  "mean",
                  "2009.790649657105",
                  "2044190.0807346741",
                  "44069.8220250684"
                ],
                [
                  "std",
                  "5.930976294303113",
                  "19318219.82325695",
                  "183068.4930889134"
                ],
                [
                  "min",
                  "2000.0",
                  "-28223.0",
                  "-13902.23"
                ],
                [
                  "25%",
                  "2005.0",
                  "709.5",
                  "495.44"
                ],
                [
                  "50%",
                  "2010.0",
                  "6212.18",
                  "2374.475"
                ],
                [
                  "75%",
                  "2015.0",
                  "50458.35",
                  "12381.494999999999"
                ],
                [
                  "max",
                  "2021.0",
                  "807137600.0",
                  "3920982.75"
                ]
              ],
              "shape": {
                "columns": 3,
                "rows": 8
              }
            },
            "text/html": [
              "<div>\n",
              "<style scoped>\n",
              "    .dataframe tbody tr th:only-of-type {\n",
              "        vertical-align: middle;\n",
              "    }\n",
              "\n",
              "    .dataframe tbody tr th {\n",
              "        vertical-align: top;\n",
              "    }\n",
              "\n",
              "    .dataframe thead th {\n",
              "        text-align: right;\n",
              "    }\n",
              "</style>\n",
              "<table border=\"1\" class=\"dataframe\">\n",
              "  <thead>\n",
              "    <tr style=\"text-align: right;\">\n",
              "      <th></th>\n",
              "      <th>Year</th>\n",
              "      <th>Value LCU (million national currency)</th>\n",
              "      <th>Value USD (million USD)</th>\n",
              "    </tr>\n",
              "  </thead>\n",
              "  <tbody>\n",
              "    <tr>\n",
              "      <th>count</th>\n",
              "      <td>27122.000000</td>\n",
              "      <td>2.704600e+04</td>\n",
              "      <td>2.704600e+04</td>\n",
              "    </tr>\n",
              "    <tr>\n",
              "      <th>mean</th>\n",
              "      <td>2009.790650</td>\n",
              "      <td>2.044190e+06</td>\n",
              "      <td>4.406982e+04</td>\n",
              "    </tr>\n",
              "    <tr>\n",
              "      <th>std</th>\n",
              "      <td>5.930976</td>\n",
              "      <td>1.931822e+07</td>\n",
              "      <td>1.830685e+05</td>\n",
              "    </tr>\n",
              "    <tr>\n",
              "      <th>min</th>\n",
              "      <td>2000.000000</td>\n",
              "      <td>-2.822300e+04</td>\n",
              "      <td>-1.390223e+04</td>\n",
              "    </tr>\n",
              "    <tr>\n",
              "      <th>25%</th>\n",
              "      <td>2005.000000</td>\n",
              "      <td>7.095000e+02</td>\n",
              "      <td>4.954400e+02</td>\n",
              "    </tr>\n",
              "    <tr>\n",
              "      <th>50%</th>\n",
              "      <td>2010.000000</td>\n",
              "      <td>6.212180e+03</td>\n",
              "      <td>2.374475e+03</td>\n",
              "    </tr>\n",
              "    <tr>\n",
              "      <th>75%</th>\n",
              "      <td>2015.000000</td>\n",
              "      <td>5.045835e+04</td>\n",
              "      <td>1.238149e+04</td>\n",
              "    </tr>\n",
              "    <tr>\n",
              "      <th>max</th>\n",
              "      <td>2021.000000</td>\n",
              "      <td>8.071376e+08</td>\n",
              "      <td>3.920983e+06</td>\n",
              "    </tr>\n",
              "  </tbody>\n",
              "</table>\n",
              "</div>"
            ],
            "text/plain": [
              "               Year  Value LCU (million national currency)  \\\n",
              "count  27122.000000                           2.704600e+04   \n",
              "mean    2009.790650                           2.044190e+06   \n",
              "std        5.930976                           1.931822e+07   \n",
              "min     2000.000000                          -2.822300e+04   \n",
              "25%     2005.000000                           7.095000e+02   \n",
              "50%     2010.000000                           6.212180e+03   \n",
              "75%     2015.000000                           5.045835e+04   \n",
              "max     2021.000000                           8.071376e+08   \n",
              "\n",
              "       Value USD (million USD)  \n",
              "count             2.704600e+04  \n",
              "mean              4.406982e+04  \n",
              "std               1.830685e+05  \n",
              "min              -1.390223e+04  \n",
              "25%               4.954400e+02  \n",
              "50%               2.374475e+03  \n",
              "75%               1.238149e+04  \n",
              "max               3.920983e+06  "
            ]
          },
          "execution_count": 6,
          "metadata": {},
          "output_type": "execute_result"
        }
      ],
      "source": [
        "# Quick look at the data\n",
        "df_raw.describe()"
      ]
    },
    {
      "cell_type": "markdown",
      "metadata": {},
      "source": [
        "Before cleaning the data there's not might insight to be gained here other than the data is extremely varied. This is to be expected as the number we are dealing with are very large and the industries and countries involved very significantly in their economic health "
      ]
    },
    {
      "cell_type": "code",
      "execution_count": 8,
      "metadata": {},
      "outputs": [
        {
          "name": "stdout",
          "output_type": "stream",
          "text": [
            "<class 'pandas.core.frame.DataFrame'>\n",
            "RangeIndex: 27122 entries, 0 to 27121\n",
            "Data columns (total 9 columns):\n",
            " #   Column                                 Non-Null Count  Dtype  \n",
            "---  ------                                 --------------  -----  \n",
            " 0   Country ISO3                           24347 non-null  object \n",
            " 1   Country                                27122 non-null  object \n",
            " 2   Year                                   27122 non-null  int64  \n",
            " 3   ISIC Division                          27122 non-null  object \n",
            " 4   ISIC Division Desc                     27122 non-null  object \n",
            " 5   Measure                                27122 non-null  object \n",
            " 6   Method                                 27122 non-null  object \n",
            " 7   Value LCU (million national currency)  27046 non-null  float64\n",
            " 8   Value USD (million USD)                27046 non-null  float64\n",
            "dtypes: float64(2), int64(1), object(6)\n",
            "memory usage: 1.9+ MB\n"
          ]
        }
      ],
      "source": [
        "# Check the data types\n",
        "df_raw.info()"
      ]
    },
    {
      "cell_type": "markdown",
      "metadata": {},
      "source": [
        "Before cleaning the data, we will remove columns that aren't necessary for our analysis. Let check the \"Measure\" feature and see what it contains"
      ]
    },
    {
      "cell_type": "code",
      "execution_count": 9,
      "metadata": {},
      "outputs": [
        {
          "name": "stdout",
          "output_type": "stream",
          "text": [
            "['Current prices' 'Constant 2015 prices']\n"
          ]
        }
      ],
      "source": [
        "unique_measures = df_raw['Measure'].unique()\n",
        "print(unique_measures)"
      ]
    },
    {
      "cell_type": "code",
      "execution_count": 10,
      "metadata": {},
      "outputs": [
        {
          "name": "stdout",
          "output_type": "stream",
          "text": [
            "Number of rows with 'Current prices': 17977\n",
            "Number of rows with 'Constant 2015 prices': 9145\n"
          ]
        }
      ],
      "source": [
        "current_prices_count = df_raw[df_raw['Measure'] == 'Current prices'].shape[0]\n",
        "constant_prices_count = df_raw[df_raw['Measure'] == 'Constant 2015 prices'].shape[0]\n",
        "\n",
        "print(f\"Number of rows with 'Current prices': {current_prices_count}\")\n",
        "print(f\"Number of rows with 'Constant 2015 prices': {constant_prices_count}\")"
      ]
    },
    {
      "cell_type": "markdown",
      "metadata": {},
      "source": [
        "Doing some research, we learn that the \"Constant prices\" aim to remove the effect of inflation or deflation, allowing for a clearer picture of real economic growth. In our dataset the base is 2015, so the prices have been adjusted to reflect what the Goods and services would have been if prices had remained at 2015 levels. Normally this would be useful information but we data for all the columns, so I'll drop this feature and focus on current prices   "
      ]
    },
    {
      "cell_type": "code",
      "execution_count": 12,
      "metadata": {},
      "outputs": [
        {
          "name": "stdout",
          "output_type": "stream",
          "text": [
            "['Source' 'Rebased']\n"
          ]
        }
      ],
      "source": [
        "# Check the values in the 'Method' column\n",
        "unique_measures = df_raw['Method'].unique()\n",
        "print(unique_measures)"
      ]
    },
    {
      "cell_type": "markdown",
      "metadata": {},
      "source": [
        "'Source' indicates that the data was obtained directly from it's original source without any modification whilst rebased means it was calculated based on other datapoints. This is not useful information for our project so this column will be removed"
      ]
    },
    {
      "cell_type": "code",
      "execution_count": 29,
      "metadata": {},
      "outputs": [
        {
          "name": "stdout",
          "output_type": "stream",
          "text": [
            "[nan 'ARG' 'AUS' 'AUT' 'BEL' 'BRA' 'BRN' 'BGR' 'KHM' 'CAN' 'CHL' 'TWN'\n",
            " 'COL' 'CRI' 'HRV' 'CYP' 'CZE' 'DNK' 'EST' 'FIN' 'FRA' 'DEU' 'GRC' 'HKG'\n",
            " 'HUN' 'ISL' 'IND' 'IDN' 'IRL' 'ITA' 'JPN' 'KAZ' 'KOR' 'LAO' 'LVA' 'LTU'\n",
            " 'LUX' 'MYS' 'MLT' 'MEX' 'MAR' 'MMR' 'NZL' 'MKD' 'NOR' 'CHN' 'PER' 'PHL'\n",
            " 'POL' 'PRT' 'ROU' 'RUS' 'SAU' 'SRB' 'SGP' 'SVK' 'SVN' 'ZAF' 'ESP' 'SWE'\n",
            " 'CHE' 'THA' 'NLD' 'TUN' 'TUR' 'GBR' 'USA' 'VNM']\n"
          ]
        }
      ],
      "source": [
        "# Check the values in the 'Country ISO3' column\n",
        "unique_measures = df_raw['Country ISO3'].unique()\n",
        "print(unique_measures)"
      ]
    },
    {
      "cell_type": "markdown",
      "metadata": {},
      "source": [
        "Code apprevations for each country. We shall keep this feature to make it visually easier for our graphs. The NaN's are in the rows for ASEAN countries which is an intergovernmental orgasation (a group of countries). We don't need this data as those countries have their own rows so we shall remove it later. The ISIC Division is a quick way to see which industry we are referring to. As numbers it is confusing but as a feature it is useful so I will give each industry a code later"
      ]
    },
    {
      "cell_type": "markdown",
      "metadata": {
        "id": "ZY3l0-AxO93d"
      },
      "source": [
        "---"
      ]
    },
    {
      "cell_type": "markdown",
      "metadata": {
        "id": "uFQo3ycuO-v6"
      },
      "source": [
        "# Cleaning data"
      ]
    },
    {
      "cell_type": "markdown",
      "metadata": {},
      "source": [
        "First lets remove the Method feature and ASEAN rows from the Countries Column"
      ]
    },
    {
      "cell_type": "code",
      "execution_count": 20,
      "metadata": {},
      "outputs": [
        {
          "name": "stdout",
          "output_type": "stream",
          "text": [
            "    Country ISO3    Country  Year ISIC Division  \\\n",
            "209          ARG  Argentina  2000         10-12   \n",
            "210          ARG  Argentina  2000         13-15   \n",
            "\n",
            "                                    ISIC Division Desc         Measure  \\\n",
            "209  Manufacture of food products, beverages and to...  Current prices   \n",
            "210  Manufacture of textiles, wearing apparel, leat...  Current prices   \n",
            "\n",
            "     Value LCU (million national currency)  Value USD (million USD)  \n",
            "209                               16986.10                  16994.6  \n",
            "210                                5944.13                   5947.1  \n"
          ]
        }
      ],
      "source": [
        "# Remove 'Measure' feature\n",
        "df_raw2 = df_raw.drop(columns=['Method'])\n",
        "\n",
        "# Drop rows that have 'ASEAN' in the 'Country' column\n",
        "df_raw2 = df_raw2[df_raw2['Country'] != 'ASEAN']\n",
        "\n",
        "#drop rows that have 'Current 2015 prices' in the 'Measure' column\n",
        "df_raw2 = df_raw2[df_raw2['Measure'] != 'Constant 2015 prices']\n",
        "\n",
        "print(df_raw2.head(2))"
      ]
    },
    {
      "cell_type": "code",
      "execution_count": 21,
      "metadata": {},
      "outputs": [
        {
          "name": "stdout",
          "output_type": "stream",
          "text": [
            "['Argentina' 'Asia-Pacific Economic Cooperation' 'Australia' 'Austria'\n",
            " 'Belgium' 'Brazil' 'Brunei Darussalam' 'Bulgaria' 'Cambodia' 'Canada'\n",
            " 'Chile' 'Chinese Taipei' 'Colombia' 'Costa Rica' 'Croatia' 'Cyprus'\n",
            " 'Czech Republic' 'Denmark' 'Estonia' 'Euro Area' 'European Union'\n",
            " 'European Union (13 countries)' 'European Union (15 countries)'\n",
            " 'European Union (28 countries)' 'Finland' 'France' 'G20' 'Germany'\n",
            " 'Greece' 'Hong Kong' 'Hungary' 'Iceland' 'India' 'Indonesia' 'Ireland'\n",
            " 'Italy' 'Japan' 'Kazakhstan' 'Korea' 'Laos' 'Latvia' 'Lithuania'\n",
            " 'Luxembourg' 'Malaysia' 'Malta' 'Mexico' 'Morocco' 'Myanmar'\n",
            " 'New Zealand' 'Non-OECD' 'North Macedonia' 'Norway' 'OECD members'\n",
            " \"People's Republic of China\" 'Peru' 'Philippines' 'Poland' 'Portugal'\n",
            " 'Romania' 'Russian Federation' 'Saudi Arabia' 'Serbia' 'Singapore'\n",
            " 'Slovak Republic' 'Slovenia' 'South Africa' 'Spain' 'Sweden'\n",
            " 'Switzerland' 'Thailand' 'The Netherlands' 'Tunisia' 'Turkey'\n",
            " 'United Kingdom' 'United States' 'Viet Nam' 'World']\n",
            "['Current prices']\n"
          ]
        }
      ],
      "source": [
        "# confirm the changes\n",
        "print(df_raw2['Country'].unique())\n",
        "print(df_raw2['Measure'].unique())"
      ]
    },
    {
      "cell_type": "markdown",
      "metadata": {},
      "source": [
        "### **Missing Values**"
      ]
    },
    {
      "cell_type": "markdown",
      "metadata": {},
      "source": [
        "Next we'll check for any missing values"
      ]
    },
    {
      "cell_type": "code",
      "execution_count": 22,
      "metadata": {},
      "outputs": [
        {
          "name": "stdout",
          "output_type": "stream",
          "text": [
            "Country ISO3                             2140\n",
            "Country                                     0\n",
            "Year                                        0\n",
            "ISIC Division                               0\n",
            "ISIC Division Desc                          0\n",
            "Measure                                     0\n",
            "Value LCU (million national currency)       0\n",
            "Value USD (million USD)                     0\n",
            "dtype: int64\n"
          ]
        }
      ],
      "source": [
        "# Check for Missing Values\n",
        "missing_values = df_raw2.isnull().sum()\n",
        "print(missing_values)\n"
      ]
    },
    {
      "cell_type": "code",
      "execution_count": 24,
      "metadata": {},
      "outputs": [
        {
          "name": "stdout",
          "output_type": "stream",
          "text": [
            "      Country ISO3                            Country  Year ISIC Division  \\\n",
            "418            NaN  Asia-Pacific Economic Cooperation  2000         10-12   \n",
            "419            NaN  Asia-Pacific Economic Cooperation  2000         13-15   \n",
            "420            NaN  Asia-Pacific Economic Cooperation  2000            16   \n",
            "421            NaN  Asia-Pacific Economic Cooperation  2000         17-18   \n",
            "422            NaN  Asia-Pacific Economic Cooperation  2000            19   \n",
            "...            ...                                ...   ...           ...   \n",
            "27117          NaN                              World  2018            22   \n",
            "27118          NaN                              World  2018            23   \n",
            "27119          NaN                              World  2018            24   \n",
            "27120          NaN                              World  2018         25-28   \n",
            "27121          NaN                              World  2018         29-30   \n",
            "\n",
            "                                      ISIC Division Desc         Measure  \\\n",
            "418    Manufacture of food products, beverages and to...  Current prices   \n",
            "419    Manufacture of textiles, wearing apparel, leat...  Current prices   \n",
            "420    Manufacture of wood and of products of wood an...  Current prices   \n",
            "421           Manufacture of paper products and printing  Current prices   \n",
            "422    Manufacture of coke and refined petroleum prod...  Current prices   \n",
            "...                                                  ...             ...   \n",
            "27117        Manufacture of rubber and plastics products  Current prices   \n",
            "27118  Manufacture of other non-metallic mineral prod...  Current prices   \n",
            "27119                        Manufacture of basic metals  Current prices   \n",
            "27120  Manufacture of fabricated metal products, mach...  Current prices   \n",
            "27121                 Manufacture of transport equipment  Current prices   \n",
            "\n",
            "       Value LCU (million national currency)  Value USD (million USD)  \n",
            "418                                      0.0                445396.09  \n",
            "419                                      0.0                173299.70  \n",
            "420                                      0.0                 65121.30  \n",
            "421                                      0.0                226176.59  \n",
            "422                                      0.0                151038.91  \n",
            "...                                      ...                      ...  \n",
            "27117                                    0.0                536332.81  \n",
            "27118                                    0.0                745028.38  \n",
            "27119                                    0.0               1055266.00  \n",
            "27120                                    0.0               3920982.75  \n",
            "27121                                    0.0               1676815.25  \n",
            "\n",
            "[2140 rows x 8 columns]\n"
          ]
        }
      ],
      "source": [
        "# Check where missing values are in 'Country ISO3' column\n",
        "missing_country_iso3 = df_raw2[df_raw2['Country ISO3'].isnull()]\n",
        "print(missing_country_iso3)"
      ]
    },
    {
      "cell_type": "markdown",
      "metadata": {},
      "source": [
        "The missing values are in Asia Pacific corporation, which is missing an ISO3 code. We're intersted in countries not corporations so we can remove these rows. We will also remove the rows that have missing 'Value' entries"
      ]
    },
    {
      "cell_type": "code",
      "execution_count": 26,
      "metadata": {},
      "outputs": [
        {
          "name": "stdout",
          "output_type": "stream",
          "text": [
            "Country ISO3                             0\n",
            "Country                                  0\n",
            "Year                                     0\n",
            "ISIC Division                            0\n",
            "ISIC Division Desc                       0\n",
            "Measure                                  0\n",
            "Value LCU (million national currency)    0\n",
            "Value USD (million USD)                  0\n",
            "dtype: int64\n"
          ]
        }
      ],
      "source": [
        "# Remove rows with missing values\n",
        "df_cleaned = df_raw2.dropna()\n",
        "\n",
        "# Check the values have been removed\n",
        "missing_values = df_cleaned.isnull().sum()\n",
        "print(missing_values)"
      ]
    },
    {
      "cell_type": "markdown",
      "metadata": {},
      "source": [
        "### **Duplicates**"
      ]
    },
    {
      "cell_type": "markdown",
      "metadata": {},
      "source": [
        "Having removed the null values, lets check if there are any duplicated rows or any countries that appear under different names e.g 'UK' and 'Great Britain', or 'England' and 'UK'"
      ]
    },
    {
      "cell_type": "code",
      "execution_count": 27,
      "metadata": {},
      "outputs": [
        {
          "name": "stdout",
          "output_type": "stream",
          "text": [
            "Number of duplicate rows: 0\n"
          ]
        }
      ],
      "source": [
        "# Check for duplicates\n",
        "duplicates = df_cleaned.duplicated()\n",
        "print(f\"Number of duplicate rows: {duplicates.sum()}\")\n"
      ]
    },
    {
      "cell_type": "code",
      "execution_count": 28,
      "metadata": {},
      "outputs": [
        {
          "name": "stdout",
          "output_type": "stream",
          "text": [
            "Unique Country Codes: ['ARG' 'AUS' 'AUT' 'BEL' 'BRA' 'BRN' 'BGR' 'KHM' 'CAN' 'CHL' 'TWN' 'COL'\n",
            " 'CRI' 'HRV' 'CYP' 'CZE' 'DNK' 'EST' 'FIN' 'FRA' 'DEU' 'GRC' 'HKG' 'HUN'\n",
            " 'ISL' 'IND' 'IDN' 'IRL' 'ITA' 'JPN' 'KAZ' 'KOR' 'LAO' 'LVA' 'LTU' 'LUX'\n",
            " 'MYS' 'MLT' 'MEX' 'MAR' 'MMR' 'NZL' 'MKD' 'NOR' 'CHN' 'PER' 'PHL' 'POL'\n",
            " 'PRT' 'ROU' 'RUS' 'SAU' 'SRB' 'SGP' 'SVK' 'SVN' 'ZAF' 'ESP' 'SWE' 'CHE'\n",
            " 'THA' 'NLD' 'TUN' 'TUR' 'GBR' 'USA' 'VNM']\n",
            "Unique Countries: ['Argentina' 'Australia' 'Austria' 'Belgium' 'Brazil' 'Brunei Darussalam'\n",
            " 'Bulgaria' 'Cambodia' 'Canada' 'Chile' 'Chinese Taipei' 'Colombia'\n",
            " 'Costa Rica' 'Croatia' 'Cyprus' 'Czech Republic' 'Denmark' 'Estonia'\n",
            " 'Finland' 'France' 'Germany' 'Greece' 'Hong Kong' 'Hungary' 'Iceland'\n",
            " 'India' 'Indonesia' 'Ireland' 'Italy' 'Japan' 'Kazakhstan' 'Korea' 'Laos'\n",
            " 'Latvia' 'Lithuania' 'Luxembourg' 'Malaysia' 'Malta' 'Mexico' 'Morocco'\n",
            " 'Myanmar' 'New Zealand' 'North Macedonia' 'Norway'\n",
            " \"People's Republic of China\" 'Peru' 'Philippines' 'Poland' 'Portugal'\n",
            " 'Romania' 'Russian Federation' 'Saudi Arabia' 'Serbia' 'Singapore'\n",
            " 'Slovak Republic' 'Slovenia' 'South Africa' 'Spain' 'Sweden'\n",
            " 'Switzerland' 'Thailand' 'The Netherlands' 'Tunisia' 'Turkey'\n",
            " 'United Kingdom' 'United States' 'Viet Nam']\n"
          ]
        }
      ],
      "source": [
        "# Check for any countries that appear under different country codes or names\n",
        "unique_country_codes = df_cleaned['Country ISO3'].unique()\n",
        "unique_countries = df_cleaned['Country'].unique()\n",
        "\n",
        "print(\"Unique Country Codes:\", unique_country_codes)\n",
        "print(\"Unique Countries:\", unique_countries)"
      ]
    },
    {
      "cell_type": "markdown",
      "metadata": {},
      "source": [
        "There are no duplicates or countries under different names"
      ]
    },
    {
      "cell_type": "markdown",
      "metadata": {},
      "source": [
        "### **Outliers**"
      ]
    },
    {
      "cell_type": "code",
      "execution_count": 30,
      "metadata": {},
      "outputs": [],
      "source": [
        "# Libraries needed for this section\n",
        "import seaborn as sns\n",
        "import matplotlib.pyplot as plt"
      ]
    },
    {
      "cell_type": "markdown",
      "metadata": {},
      "source": [
        "We want to make a box plot for the first few countries to get an idea of the distribution of Value (USD) over the years and identify any potential outliers"
      ]
    },
    {
      "cell_type": "code",
      "execution_count": 31,
      "metadata": {},
      "outputs": [
        {
          "name": "stdout",
          "output_type": "stream",
          "text": [
            "Number of unique values in the 'Country Code' column: 67\n"
          ]
        }
      ],
      "source": [
        "# Number of unique countries\n",
        "unique_code_count = df_cleaned['Country ISO3'].nunique()\n",
        "print(f\"Number of unique values in the 'Country Code' column: {unique_code_count}\")"
      ]
    },
    {
      "cell_type": "code",
      "execution_count": 32,
      "metadata": {},
      "outputs": [
        {
          "name": "stdout",
          "output_type": "stream",
          "text": [
            "Number of unique values in the 'Year' column: 22\n"
          ]
        }
      ],
      "source": [
        "# Number of unique years\n",
        "Unique_year_count = df_cleaned['Year'].nunique()\n",
        "print(f\"Number of unique values in the 'Year' column: {Unique_year_count}\")"
      ]
    },
    {
      "cell_type": "code",
      "execution_count": 33,
      "metadata": {},
      "outputs": [
        {
          "name": "stdout",
          "output_type": "stream",
          "text": [
            "Number of rows containing 'ARG': 209\n"
          ]
        }
      ],
      "source": [
        "# Number of datapoints for each country\n",
        "arg_count = df_cleaned[df_cleaned['Country ISO3'] == 'ARG'].shape[0]\n",
        "print(f\"Number of rows containing 'ARG': {arg_count}\")"
      ]
    },
    {
      "cell_type": "markdown",
      "metadata": {},
      "source": [
        "We have 68 countries, and each one has around 209 data points. Let do a quick box plot to see the distribution"
      ]
    },
    {
      "cell_type": "code",
      "execution_count": 34,
      "metadata": {},
      "outputs": [
        {
          "data": {
            "image/png": "[encoded data removed]",
            "text/plain": [
              "<Figure size 1200x600 with 1 Axes>"
            ]
          },
          "metadata": {},
          "output_type": "display_data"
        }
      ],
      "source": [
        "# Filter the dataframe for the first 5 countries\n",
        "first_5_countries = df_cleaned[df_cleaned['Country ISO3'].isin(unique_country_codes[:5])]\n",
        "\n",
        "# Create a box plot\n",
        "plt.figure(figsize=(12, 6))\n",
        "sns.boxplot(x='Country', y='Value USD (million USD)', data=first_5_countries)\n",
        "plt.title('Box Plot of Value USD for the First 5 Countries')\n",
        "plt.xlabel('Country')\n",
        "plt.ylabel('Value USD (million USD)')\n",
        "plt.show()"
      ]
    },
    {
      "cell_type": "markdown",
      "metadata": {},
      "source": [
        "Whilst it looks like there are a lot of outliers we need to remember that different industries can vary significantly in their value. It seems looking at these plots that there are some industries which have a much higher value than the rest. This is expected so we won't be dropping any further rows as all of the data we have at this point is vital and can be explained. A quick look at the bar chart below confirms this"
      ]
    },
    {
      "cell_type": "code",
      "execution_count": 35,
      "metadata": {},
      "outputs": [
        {
          "name": "stderr",
          "output_type": "stream",
          "text": [
            "C:\\Users\\sayed\\AppData\\Local\\Temp\\ipykernel_12772\\2089949791.py:6: FutureWarning: \n",
            "\n",
            "The `ci` parameter is deprecated. Use `errorbar=None` for the same effect.\n",
            "\n",
            "  sns.barplot(x='Country ISO3', y='Value USD (million USD)', hue='ISIC Division', data=first_5_countries, ci=None)\n"
          ]
        },
        {
          "data": {
            "image/png": "[encoded data removed]",
            "text/plain": [
              "<Figure size 1200x600 with 1 Axes>"
            ]
          },
          "metadata": {},
          "output_type": "display_data"
        }
      ],
      "source": [
        "# Filter the dataframe for the first 5 countries\n",
        "first_5_countries = df_cleaned[df_cleaned['Country ISO3'].isin(unique_country_codes[:5])]\n",
        "\n",
        "# Create a bar chart without error bars\n",
        "plt.figure(figsize=(12, 6))\n",
        "sns.barplot(x='Country ISO3', y='Value USD (million USD)', hue='ISIC Division', data=first_5_countries, ci=None)\n",
        "plt.title('Bar Chart of Value USD for the First 5 Countries by ISIC Division')\n",
        "plt.xlabel('Country ISO3')\n",
        "plt.ylabel('Value USD (million USD)')\n",
        "plt.legend(title='ISIC Division', bbox_to_anchor=(1.05, 1), loc='upper left')\n",
        "plt.show()"
      ]
    },
    {
      "cell_type": "markdown",
      "metadata": {},
      "source": [
        "### Negative values"
      ]
    },
    {
      "cell_type": "markdown",
      "metadata": {},
      "source": [
        "We noticed earlier that the 'Value' column had some negative values. This is fine in the context of our project as could indicate a few things: \n",
        "\n",
        "- A country is importing more than it is exporting\n",
        "- A decline in that industry leading to losses i.e. negative growth\n",
        "- Losses occured by foreign owned business in that industry. "
      ]
    },
    {
      "cell_type": "markdown",
      "metadata": {},
      "source": [
        "---"
      ]
    },
    {
      "cell_type": "markdown",
      "metadata": {},
      "source": [
        "## GDP"
      ]
    },
    {
      "cell_type": "markdown",
      "metadata": {},
      "source": [
        "To suppliment our data we will need the GDP for each country. This data was obtained from the Worldbank website and is readily available"
      ]
    },
    {
      "cell_type": "code",
      "execution_count": 36,
      "metadata": {},
      "outputs": [
        {
          "name": "stdout",
          "output_type": "stream",
          "text": [
            "         Data Source World Development Indicators         Unnamed: 2  \\\n",
            "0                NaN                          NaN                NaN   \n",
            "1  Last Updated Date                   28/01/2025                NaN   \n",
            "2                NaN                          NaN                NaN   \n",
            "3       Country Name                 Country Code     Indicator Name   \n",
            "4              Aruba                          ABW  GDP (current US$)   \n",
            "\n",
            "       Unnamed: 3  Unnamed: 4  Unnamed: 5  Unnamed: 6  Unnamed: 7  Unnamed: 8  \\\n",
            "0             NaN         NaN         NaN         NaN         NaN         NaN   \n",
            "1             NaN         NaN         NaN         NaN         NaN         NaN   \n",
            "2             NaN         NaN         NaN         NaN         NaN         NaN   \n",
            "3  Indicator Code      1960.0      1961.0      1962.0      1963.0      1964.0   \n",
            "4  NY.GDP.MKTP.CD         NaN         NaN         NaN         NaN         NaN   \n",
            "\n",
            "   Unnamed: 9  ...   Unnamed: 58   Unnamed: 59   Unnamed: 60   Unnamed: 61  \\\n",
            "0         NaN  ...           NaN           NaN           NaN           NaN   \n",
            "1         NaN  ...           NaN           NaN           NaN           NaN   \n",
            "2         NaN  ...           NaN           NaN           NaN           NaN   \n",
            "3      1965.0  ...  2.014000e+03  2.015000e+03  2.016000e+03  2.017000e+03   \n",
            "4         NaN  ...  2.790850e+09  2.962907e+09  2.983635e+09  3.092429e+09   \n",
            "\n",
            "    Unnamed: 62   Unnamed: 63   Unnamed: 64   Unnamed: 65   Unnamed: 66  \\\n",
            "0           NaN           NaN           NaN           NaN           NaN   \n",
            "1           NaN           NaN           NaN           NaN           NaN   \n",
            "2           NaN           NaN           NaN           NaN           NaN   \n",
            "3  2.018000e+03  2.019000e+03  2.020000e+03  2.021000e+03  2.022000e+03   \n",
            "4  3.276184e+09  3.395799e+09  2.481857e+09  2.929447e+09  3.279344e+09   \n",
            "\n",
            "    Unnamed: 67  \n",
            "0           NaN  \n",
            "1           NaN  \n",
            "2           NaN  \n",
            "3  2.023000e+03  \n",
            "4  3.648573e+09  \n",
            "\n",
            "[5 rows x 68 columns]\n"
          ]
        }
      ],
      "source": [
        "# Load the GDP CSV from the current directory\n",
        "gdp_file_path = 'GDP.csv'\n",
        "gdp_pp = pd.read_csv(gdp_file_path)\n",
        "print(gdp_pp.head(5))"
      ]
    },
    {
      "cell_type": "code",
      "execution_count": 42,
      "metadata": {},
      "outputs": [
        {
          "name": "stdout",
          "output_type": "stream",
          "text": [
            "<class 'pandas.core.frame.DataFrame'>\n",
            "Index: 150 entries, 3 to 269\n",
            "Data columns (total 68 columns):\n",
            " #   Column                        Non-Null Count  Dtype  \n",
            "---  ------                        --------------  -----  \n",
            " 0   Data Source                   150 non-null    object \n",
            " 1   World Development Indicators  150 non-null    object \n",
            " 2   Unnamed: 2                    150 non-null    object \n",
            " 3   Unnamed: 3                    150 non-null    object \n",
            " 4   Unnamed: 4                    150 non-null    float64\n",
            " 5   Unnamed: 5                    150 non-null    float64\n",
            " 6   Unnamed: 6                    150 non-null    float64\n",
            " 7   Unnamed: 7                    150 non-null    float64\n",
            " 8   Unnamed: 8                    150 non-null    float64\n",
            " 9   Unnamed: 9                    150 non-null    float64\n",
            " 10  Unnamed: 10                   150 non-null    float64\n",
            " 11  Unnamed: 11                   150 non-null    float64\n",
            " 12  Unnamed: 12                   150 non-null    float64\n",
            " 13  Unnamed: 13                   150 non-null    float64\n",
            " 14  Unnamed: 14                   150 non-null    float64\n",
            " 15  Unnamed: 15                   150 non-null    float64\n",
            " 16  Unnamed: 16                   150 non-null    float64\n",
            " 17  Unnamed: 17                   150 non-null    float64\n",
            " 18  Unnamed: 18                   150 non-null    float64\n",
            " 19  Unnamed: 19                   150 non-null    float64\n",
            " 20  Unnamed: 20                   150 non-null    float64\n",
            " 21  Unnamed: 21                   150 non-null    float64\n",
            " 22  Unnamed: 22                   150 non-null    float64\n",
            " 23  Unnamed: 23                   150 non-null    float64\n",
            " 24  Unnamed: 24                   150 non-null    float64\n",
            " 25  Unnamed: 25                   150 non-null    float64\n",
            " 26  Unnamed: 26                   150 non-null    float64\n",
            " 27  Unnamed: 27                   150 non-null    float64\n",
            " 28  Unnamed: 28                   150 non-null    float64\n",
            " 29  Unnamed: 29                   150 non-null    float64\n",
            " 30  Unnamed: 30                   150 non-null    float64\n",
            " 31  Unnamed: 31                   150 non-null    float64\n",
            " 32  Unnamed: 32                   150 non-null    float64\n",
            " 33  Unnamed: 33                   150 non-null    float64\n",
            " 34  Unnamed: 34                   150 non-null    float64\n",
            " 35  Unnamed: 35                   150 non-null    float64\n",
            " 36  Unnamed: 36                   150 non-null    float64\n",
            " 37  Unnamed: 37                   150 non-null    float64\n",
            " 38  Unnamed: 38                   150 non-null    float64\n",
            " 39  Unnamed: 39                   150 non-null    float64\n",
            " 40  Unnamed: 40                   150 non-null    float64\n",
            " 41  Unnamed: 41                   150 non-null    float64\n",
            " 42  Unnamed: 42                   150 non-null    float64\n",
            " 43  Unnamed: 43                   150 non-null    float64\n",
            " 44  Unnamed: 44                   150 non-null    float64\n",
            " 45  Unnamed: 45                   150 non-null    float64\n",
            " 46  Unnamed: 46                   150 non-null    float64\n",
            " 47  Unnamed: 47                   150 non-null    float64\n",
            " 48  Unnamed: 48                   150 non-null    float64\n",
            " 49  Unnamed: 49                   150 non-null    float64\n",
            " 50  Unnamed: 50                   150 non-null    float64\n",
            " 51  Unnamed: 51                   150 non-null    float64\n",
            " 52  Unnamed: 52                   150 non-null    float64\n",
            " 53  Unnamed: 53                   150 non-null    float64\n",
            " 54  Unnamed: 54                   150 non-null    float64\n",
            " 55  Unnamed: 55                   150 non-null    float64\n",
            " 56  Unnamed: 56                   150 non-null    float64\n",
            " 57  Unnamed: 57                   150 non-null    float64\n",
            " 58  Unnamed: 58                   150 non-null    float64\n",
            " 59  Unnamed: 59                   150 non-null    float64\n",
            " 60  Unnamed: 60                   150 non-null    float64\n",
            " 61  Unnamed: 61                   150 non-null    float64\n",
            " 62  Unnamed: 62                   150 non-null    float64\n",
            " 63  Unnamed: 63                   150 non-null    float64\n",
            " 64  Unnamed: 64                   150 non-null    float64\n",
            " 65  Unnamed: 65                   150 non-null    float64\n",
            " 66  Unnamed: 66                   150 non-null    float64\n",
            " 67  Unnamed: 67                   150 non-null    float64\n",
            "dtypes: float64(64), object(4)\n",
            "memory usage: 80.9+ KB\n",
            "None\n"
          ]
        }
      ],
      "source": [
        "# Drop rows with any null values\n",
        "gdp_pp_cleaned = gdp_pp.dropna()\n",
        "print(gdp_pp_cleaned.info())"
      ]
    },
    {
      "cell_type": "code",
      "execution_count": 43,
      "metadata": {},
      "outputs": [
        {
          "name": "stdout",
          "output_type": "stream",
          "text": [
            "Country ISO3                             0\n",
            "Country                                  0\n",
            "Year                                     0\n",
            "ISIC Division                            0\n",
            "ISIC Division Desc                       0\n",
            "Measure                                  0\n",
            "Value LCU (million national currency)    0\n",
            "Value USD (million USD)                  0\n",
            "dtype: int64\n"
          ]
        }
      ],
      "source": [
        "# Confirm removal of null values\n",
        "null_values_after_cleaning = df_cleaned.isnull().sum()\n",
        "print(null_values_after_cleaning)"
      ]
    },
    {
      "cell_type": "markdown",
      "metadata": {},
      "source": [
        "The data isn't in the ideal format. We need to set the column headers properly and remove unwanted columns"
      ]
    },
    {
      "cell_type": "code",
      "execution_count": 44,
      "metadata": {},
      "outputs": [
        {
          "name": "stdout",
          "output_type": "stream",
          "text": [
            "\n",
            "Updated column names:\n",
            "Index(['Country Name', 'Country Code',           1960,           1961,\n",
            "                 1962,           1963,           1964,           1965,\n",
            "                 1966,           1967,           1968,           1969,\n",
            "                 1970,           1971,           1972,           1973,\n",
            "                 1974,           1975,           1976,           1977,\n",
            "                 1978,           1979,           1980,           1981,\n",
            "                 1982,           1983,           1984,           1985,\n",
            "                 1986,           1987,           1988,           1989,\n",
            "                 1990,           1991,           1992,           1993,\n",
            "                 1994,           1995,           1996,           1997,\n",
            "                 1998,           1999,           2000,           2001,\n",
            "                 2002,           2003,           2004,           2005,\n",
            "                 2006,           2007,           2008,           2009,\n",
            "                 2010,           2011,           2012,           2013,\n",
            "                 2014,           2015,           2016,           2017,\n",
            "                 2018,           2019,           2020,           2021,\n",
            "                 2022,           2023],\n",
            "      dtype='object')\n"
          ]
        }
      ],
      "source": [
        "# Drop the first row and set the second row as the column names\n",
        "gdp_pp_cleaned.columns = gdp_pp_cleaned.iloc[0]\n",
        "gdp_pp_cleaned = gdp_pp_cleaned[1:]\n",
        "\n",
        "# Reset the index\n",
        "gdp_pp_cleaned.reset_index(drop=True, inplace=True)\n",
        "\n",
        "# Drop column 3 and 4\n",
        "gdp_pp_cleaned.drop(columns=['Indicator Name', 'Indicator Code'], inplace=True)\n",
        "\n",
        "#change column 3:end to 1960:2023\n",
        "gdp_pp_cleaned.columns = gdp_pp_cleaned.columns[:2].tolist() + list(range(1960, 2024)) \n",
        "\n",
        "# Print the updated column names\n",
        "print(\"\\nUpdated column names:\")\n",
        "print(gdp_pp_cleaned.columns)\n"
      ]
    },
    {
      "cell_type": "code",
      "execution_count": 45,
      "metadata": {},
      "outputs": [
        {
          "name": "stdout",
          "output_type": "stream",
          "text": [
            "Index(['Country',    'ISO3',      1960,      1961,      1962,      1963,\n",
            "            1964,      1965,      1966,      1967,      1968,      1969,\n",
            "            1970,      1971,      1972,      1973,      1974,      1975,\n",
            "            1976,      1977,      1978,      1979,      1980,      1981,\n",
            "            1982,      1983,      1984,      1985,      1986,      1987,\n",
            "            1988,      1989,      1990,      1991,      1992,      1993,\n",
            "            1994,      1995,      1996,      1997,      1998,      1999,\n",
            "            2000,      2001,      2002,      2003,      2004,      2005,\n",
            "            2006,      2007,      2008,      2009,      2010,      2011,\n",
            "            2012,      2013,      2014,      2015,      2016,      2017,\n",
            "            2018,      2019,      2020,      2021,      2022,      2023],\n",
            "      dtype='object')\n"
          ]
        }
      ],
      "source": [
        "# Rename the columns\n",
        "gdp_pp_cleaned.rename(columns={'Country Name': 'Country', 'Country Code': 'ISO3'}, inplace=True)\n",
        "print(gdp_pp_cleaned.columns)"
      ]
    },
    {
      "cell_type": "markdown",
      "metadata": {},
      "source": [
        "We want the range 2000:2019 to match our other dataset. We'll keep 1999 because we want to calculate the GDP growth from 1999-2000 later"
      ]
    },
    {
      "cell_type": "code",
      "execution_count": 46,
      "metadata": {},
      "outputs": [
        {
          "name": "stdout",
          "output_type": "stream",
          "text": [
            "Index(['Country',    'ISO3',      1999,      2000,      2001,      2002,\n",
            "            2003,      2004,      2005,      2006,      2007,      2008,\n",
            "            2009,      2010,      2011,      2012,      2013,      2014,\n",
            "            2015,      2016,      2017,      2018,      2019],\n",
            "      dtype='object')\n"
          ]
        }
      ],
      "source": [
        "# Remove columns 3 to 43\n",
        "gdp_pp_cleaned.drop(gdp_pp_cleaned.columns[2:41], axis=1, inplace=True)\n",
        "\n",
        "# Remove last 5 columns\n",
        "gdp_pp_cleaned.drop(gdp_pp_cleaned.columns[-4:], axis=1, inplace=True)\n",
        "\n",
        "print(gdp_pp_cleaned.columns)"
      ]
    },
    {
      "cell_type": "markdown",
      "metadata": {},
      "source": [
        "In our original dataset, China is named as 'Republic of China', so we need to change this so our datasets match. We'll also remove the 'The', the in the Netherlands"
      ]
    },
    {
      "cell_type": "code",
      "execution_count": 47,
      "metadata": {},
      "outputs": [
        {
          "name": "stdout",
          "output_type": "stream",
          "text": [
            "      Country ISO3 Country  Year ISIC Division  \\\n",
            "18549          CHN   China  2000         10-12   \n",
            "\n",
            "                                      ISIC Division Desc         Measure  \\\n",
            "18549  Manufacture of food products, beverages and to...  Current prices   \n",
            "\n",
            "       Value LCU (million national currency)  Value USD (million USD)  \n",
            "18549                              421389.72                  50901.7  \n",
            "      Country ISO3      Country  Year ISIC Division  \\\n",
            "24774          NLD  Netherlands  2000         10-12   \n",
            "\n",
            "                                      ISIC Division Desc         Measure  \\\n",
            "24774  Manufacture of food products, beverages and to...  Current prices   \n",
            "\n",
            "       Value LCU (million national currency)  Value USD (million USD)  \n",
            "24774                                10294.0                  9507.67  \n"
          ]
        },
        {
          "name": "stderr",
          "output_type": "stream",
          "text": [
            "C:\\Users\\sayed\\AppData\\Local\\Temp\\ipykernel_12772\\2489060957.py:2: SettingWithCopyWarning: \n",
            "A value is trying to be set on a copy of a slice from a DataFrame.\n",
            "Try using .loc[row_indexer,col_indexer] = value instead\n",
            "\n",
            "See the caveats in the documentation: https://pandas.pydata.org/pandas-docs/stable/user_guide/indexing.html#returning-a-view-versus-a-copy\n",
            "  df_cleaned['Country'] = df_cleaned['Country'].replace(\"People's Republic of China\", 'China')\n",
            "C:\\Users\\sayed\\AppData\\Local\\Temp\\ipykernel_12772\\2489060957.py:3: SettingWithCopyWarning: \n",
            "A value is trying to be set on a copy of a slice from a DataFrame.\n",
            "Try using .loc[row_indexer,col_indexer] = value instead\n",
            "\n",
            "See the caveats in the documentation: https://pandas.pydata.org/pandas-docs/stable/user_guide/indexing.html#returning-a-view-versus-a-copy\n",
            "  df_cleaned['Country'] = df_cleaned['Country'].replace('The Netherlands', 'Netherlands')\n"
          ]
        }
      ],
      "source": [
        "# Adjust the name of China and Netherlands in the 'Country' column\n",
        "df_cleaned['Country'] = df_cleaned['Country'].replace(\"People's Republic of China\", 'China')\n",
        "df_cleaned['Country'] = df_cleaned['Country'].replace('The Netherlands', 'Netherlands')\n",
        "print(df_cleaned[df_cleaned['Country'] == 'China'].head(1))\n",
        "print(df_cleaned[df_cleaned['Country'] == 'Netherlands'].head(1))"
      ]
    },
    {
      "cell_type": "markdown",
      "metadata": {},
      "source": [
        "The main dateset displays the units in millions, so we need to standardised this one to match it"
      ]
    },
    {
      "cell_type": "code",
      "execution_count": 48,
      "metadata": {},
      "outputs": [
        {
          "name": "stdout",
          "output_type": "stream",
          "text": [
            "                       Country ISO3           1999           2000  \\\n",
            "0  Africa Eastern and Southern  AFE  265429.000000  287202.000000   \n",
            "1   Africa Western and Central  AFW  139468.000000  142140.000000   \n",
            "2                    Australia  AUS  389652.000000  416168.000000   \n",
            "3                      Austria  AUT  216422.000000  196182.000000   \n",
            "4                      Burundi  BDI     808.077223     870.486066   \n",
            "\n",
            "            2001           2002           2003           2004          2005  \\\n",
            "0  260992.000000  267815.000000  355716.000000  442696.000000  516661.00000   \n",
            "1  150058.000000  179390.000000  207755.000000  256908.000000  313328.00000   \n",
            "2  379629.000000  395789.000000  467739.000000  614660.000000  695693.00000   \n",
            "3  196477.000000  212837.000000  260780.000000  299210.000000  313952.00000   \n",
            "4     876.794723     825.394519     784.654424     915.257323    1117.11308   \n",
            "\n",
            "            2006  ...          2010          2011          2012          2013  \\\n",
            "0  580241.000000  ...  8.494100e+05  9.454390e+05  9.529990e+05  9.623950e+05   \n",
            "1  398140.000000  ...  6.001530e+05  6.838880e+05  7.399380e+05  8.369370e+05   \n",
            "2  748418.000000  ...  1.148840e+06  1.398610e+06  1.547530e+06  1.577120e+06   \n",
            "3  333906.000000  ...  3.898280e+05  4.289550e+05  4.067500e+05  4.265810e+05   \n",
            "4    1273.375078  ...  2.032135e+03  2.235821e+03  2.333341e+03  2.451607e+03   \n",
            "\n",
            "           2014          2015          2016          2017          2018  \\\n",
            "0  9.787080e+05  8.982780e+05  8.289430e+05  9.729990e+05  1.012310e+06   \n",
            "1  8.974160e+05  7.717670e+05  6.943610e+05  6.878490e+05  7.704950e+05   \n",
            "2  1.468270e+06  1.351300e+06  1.206840e+06  1.325580e+06  1.427810e+06   \n",
            "3  4.385560e+05  3.795460e+05  3.936870e+05  4.149260e+05  4.525820e+05   \n",
            "4  2.705783e+03  3.104004e+03  2.644488e+03  2.723587e+03  2.667182e+03   \n",
            "\n",
            "           2019  \n",
            "0  1.009720e+06  \n",
            "1  8.264840e+05  \n",
            "2  1.392720e+06  \n",
            "3  4.429840e+05  \n",
            "4  2.576519e+03  \n",
            "\n",
            "[5 rows x 23 columns]\n"
          ]
        }
      ],
      "source": [
        "# Divide the numbered columns by 1,000,000 to match the 'Value USD (million USD)' column\n",
        "gdp_pp_cleaned.iloc[:, 2:] = gdp_pp_cleaned.iloc[:, 2:].div(1_000_000)\n",
        "print(gdp_pp_cleaned.head())"
      ]
    },
    {
      "cell_type": "code",
      "execution_count": 49,
      "metadata": {},
      "outputs": [
        {
          "name": "stdout",
          "output_type": "stream",
          "text": [
            "                       Country ISO3      1999      2000      2001      2002  \\\n",
            "0  Africa Eastern and Southern  AFE  265429.0  287202.0  260992.0  267815.0   \n",
            "\n",
            "       2003      2004      2005      2006  ...      2010      2011      2012  \\\n",
            "0  355716.0  442696.0  516661.0  580241.0  ...  849410.0  945439.0  952999.0   \n",
            "\n",
            "       2013      2014      2015      2016      2017       2018       2019  \n",
            "0  962395.0  978708.0  898278.0  828943.0  972999.0  1012310.0  1009720.0  \n",
            "\n",
            "[1 rows x 23 columns]\n"
          ]
        }
      ],
      "source": [
        "# Change gdp_pp_cleaned to gdp_cleaned\n",
        "gdp_cleaned = gdp_pp_cleaned\n",
        "print(gdp_cleaned.head(1)) "
      ]
    },
    {
      "cell_type": "markdown",
      "metadata": {},
      "source": [
        "### Exporting"
      ]
    },
    {
      "cell_type": "code",
      "execution_count": 50,
      "metadata": {},
      "outputs": [
        {
          "name": "stdout",
          "output_type": "stream",
          "text": [
            "Data exported successfully to cleaned_data.csv\n",
            "Data exported successfully to gdp_cleaned.csv\n"
          ]
        }
      ],
      "source": [
        "# Export the cleaned data to a new CSV file\n",
        "df_cleaned.to_csv('cleaned_data.csv', index=False)\n",
        "print(\"Data exported successfully to cleaned_data.csv\")\n",
        "\n",
        "# Export gdp_cleaned to a new CSV file\n",
        "gdp_cleaned.to_csv('gdp_cleaned.csv', index=False)\n",
        "print(\"Data exported successfully to gdp_cleaned.csv\")"
      ]
    },
    {
      "cell_type": "markdown",
      "metadata": {},
      "source": [
        "---"
      ]
    }
  ],
  "metadata": {
    "accelerator": "GPU",
    "colab": {
      "name": "Data Practitioner Jupyter Notebook.ipynb",
      "provenance": [],
      "toc_visible": true
    },
    "kernelspec": {
      "display_name": ".venv",
      "language": "python",
      "name": "python3"
    },
    "language_info": {
      "codemirror_mode": {
        "name": "ipython",
        "version": 3
      },
      "file_extension": ".py",
      "mimetype": "text/x-python",
      "name": "python",
      "nbconvert_exporter": "python",
      "pygments_lexer": "ipython3",
      "version": "3.12.8"
    },
    "orig_nbformat": 2
  },
  "nbformat": 4,
  "nbformat_minor": 2
}
